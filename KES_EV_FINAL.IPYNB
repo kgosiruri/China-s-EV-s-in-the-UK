{
 "cells": [
  {
   "cell_type": "markdown",
   "id": "c3b61a3f",
   "metadata": {},
   "source": [
    "# 1. IMPORT REQUIRED PACKAGES"
   ]
  },
  {
   "cell_type": "code",
   "execution_count": 419,
   "id": "565e2624",
   "metadata": {},
   "outputs": [],
   "source": [
    "#%pip install --upgrade kaleido"
   ]
  },
  {
   "cell_type": "code",
   "execution_count": 420,
   "id": "8d227196",
   "metadata": {},
   "outputs": [],
   "source": [
    "import pandas as pd\n",
    "import numpy as np\n",
    "import matplotlib.pyplot as plt\n",
    "from pathlib import Path\n",
    "import seaborn as sns\n",
    "import json\n",
    "import os\n",
    "import re\n",
    "import statsmodels\n",
    "import yfinance as yf\n",
    "import plotly.express as px\n",
    "import re\n",
    "import yfinance as yf\n",
    "from scipy.optimize import minimize\n",
    "import plotly.express as px\n",
    "import plotly.graph_objects as go\n",
    "from pathlib import Path\n"
   ]
  },
  {
   "cell_type": "code",
   "execution_count": 421,
   "id": "2914ef70",
   "metadata": {},
   "outputs": [],
   "source": [
    "#For Seaborn plots red-blue colour palette\n",
    "KES_palette = [\"#B80F0A\", \"#E63946\", \"#D62828\", \"#780000\", \"#F4A261\", \"#E76F51\", \"#2A9D8F\", \"#264653\", \"#1D3557\", \"#457B9D\", \"#A8DADC\"]\n",
    "sns.set_palette(KES_palette)"
   ]
  },
  {
   "cell_type": "markdown",
   "id": "a6015689",
   "metadata": {},
   "source": [
    "# 2. PROJECT PATHS"
   ]
  },
  {
   "cell_type": "code",
   "execution_count": 422,
   "id": "60eb0d61",
   "metadata": {},
   "outputs": [
    {
     "name": "stdout",
     "output_type": "stream",
     "text": [
      "Project dir: /Users/kruri/Desktop/Kent Economics Society/EV_insurance/Data Analysis\n",
      "Inputs dir:  /Users/kruri/Desktop/Kent Economics Society/EV_insurance/Data Analysis/inputs\n",
      "Outputs dir: /Users/kruri/Desktop/Kent Economics Society/EV_insurance/Data Analysis/outputs\n",
      "Figures dir: /Users/kruri/Desktop/Kent Economics Society/EV_insurance/Data Analysis/figures\n",
      "Config dir:  /Users/kruri/Desktop/Kent Economics Society/EV_insurance/Data Analysis/config\n"
     ]
    }
   ],
   "source": [
    "BASE_DIR = Path(\".\").resolve()\n",
    "PROJ_DIR = Path(\"/Users/kruri/Desktop/Kent Economics Society/EV_insurance/Data Analysis\")\n",
    "IN_DIR = PROJ_DIR / \"inputs\"\n",
    "OUT_DIR = PROJ_DIR / \"outputs\"\n",
    "FIG_DIR = PROJ_DIR / \"figures\"\n",
    "CFG_DIR = PROJ_DIR / \"config\"\n",
    "# ...existing code..\n",
    "\n",
    "for p in [IN_DIR, OUT_DIR, FIG_DIR, CFG_DIR]:\n",
    "    p.mkdir(parents=True, exist_ok=True)\n",
    "\n",
    "print(f\"Project dir: {PROJ_DIR}\")\n",
    "print(f\"Inputs dir:  {IN_DIR}\")\n",
    "print(f\"Outputs dir: {OUT_DIR}\")\n",
    "print(f\"Figures dir: {FIG_DIR}\")\n",
    "print(f\"Config dir:  {CFG_DIR}\")"
   ]
  },
  {
   "cell_type": "markdown",
   "id": "1611b256",
   "metadata": {},
   "source": [
    "# 2. IMPORT DATASETS"
   ]
  },
  {
   "cell_type": "markdown",
   "id": "6c065809",
   "metadata": {},
   "source": [
    "## 2.1 Vehicles Data and other Government outputs."
   ]
  },
  {
   "cell_type": "code",
   "execution_count": 423,
   "id": "cd2aabc7",
   "metadata": {},
   "outputs": [
    {
     "name": "stdout",
     "output_type": "stream",
     "text": [
      "<class 'pandas.core.frame.DataFrame'>\n",
      "RangeIndex: 240631 entries, 0 to 240630\n",
      "Data columns (total 87 columns):\n",
      " #   Column         Non-Null Count   Dtype \n",
      "---  ------         --------------   ----- \n",
      " 0   BodyType       240631 non-null  object\n",
      " 1   Make           240631 non-null  object\n",
      " 2   GenModel       240629 non-null  object\n",
      " 3   Model          240631 non-null  object\n",
      " 4   Fuel           240631 non-null  object\n",
      " 5   LicenceStatus  240631 non-null  object\n",
      " 6   2025Q1         240631 non-null  int64 \n",
      " 7   2024Q4         240631 non-null  int64 \n",
      " 8   2024Q3         240631 non-null  int64 \n",
      " 9   2024Q2         240631 non-null  int64 \n",
      " 10  2024Q1         240631 non-null  int64 \n",
      " 11  2023Q4         240631 non-null  int64 \n",
      " 12  2023Q3         240631 non-null  int64 \n",
      " 13  2023Q2         240631 non-null  int64 \n",
      " 14  2023Q1         240631 non-null  int64 \n",
      " 15  2022Q4         240631 non-null  int64 \n",
      " 16  2022Q3         240631 non-null  int64 \n",
      " 17  2022Q2         240631 non-null  int64 \n",
      " 18  2022Q1         240631 non-null  int64 \n",
      " 19  2021Q4         240631 non-null  int64 \n",
      " 20  2021Q3         240631 non-null  int64 \n",
      " 21  2021Q2         240631 non-null  int64 \n",
      " 22  2021Q1         240631 non-null  int64 \n",
      " 23  2020Q4         240631 non-null  int64 \n",
      " 24  2020Q3         240631 non-null  int64 \n",
      " 25  2020Q2         240631 non-null  int64 \n",
      " 26  2020Q1         240631 non-null  int64 \n",
      " 27  2019Q4         240631 non-null  int64 \n",
      " 28  2019Q3         240631 non-null  int64 \n",
      " 29  2019Q2         240631 non-null  int64 \n",
      " 30  2019Q1         240631 non-null  int64 \n",
      " 31  2018Q4         240631 non-null  int64 \n",
      " 32  2018Q3         240631 non-null  int64 \n",
      " 33  2018Q2         240631 non-null  int64 \n",
      " 34  2018Q1         240631 non-null  int64 \n",
      " 35  2017Q4         240631 non-null  int64 \n",
      " 36  2017Q3         240631 non-null  int64 \n",
      " 37  2017Q2         240631 non-null  int64 \n",
      " 38  2017Q1         240631 non-null  int64 \n",
      " 39  2016Q4         240631 non-null  int64 \n",
      " 40  2016Q3         240631 non-null  int64 \n",
      " 41  2016Q2         240631 non-null  int64 \n",
      " 42  2016Q1         240631 non-null  int64 \n",
      " 43  2015Q4         240631 non-null  int64 \n",
      " 44  2015Q3         240631 non-null  int64 \n",
      " 45  2015Q2         240631 non-null  int64 \n",
      " 46  2015Q1         240631 non-null  int64 \n",
      " 47  2014Q4         240631 non-null  int64 \n",
      " 48  2014Q3         240631 non-null  int64 \n",
      " 49  2014Q2         240631 non-null  int64 \n",
      " 50  2014Q1         240631 non-null  int64 \n",
      " 51  2013Q4         240631 non-null  int64 \n",
      " 52  2013Q3         240631 non-null  int64 \n",
      " 53  2013Q2         240631 non-null  int64 \n",
      " 54  2013Q1         240631 non-null  int64 \n",
      " 55  2012Q4         240631 non-null  int64 \n",
      " 56  2012Q3         240631 non-null  int64 \n",
      " 57  2012Q2         240631 non-null  int64 \n",
      " 58  2012Q1         240631 non-null  int64 \n",
      " 59  2011Q4         240631 non-null  int64 \n",
      " 60  2011Q3         240631 non-null  int64 \n",
      " 61  2011Q2         240631 non-null  int64 \n",
      " 62  2011Q1         240631 non-null  int64 \n",
      " 63  2010Q4         240631 non-null  int64 \n",
      " 64  2010Q3         240631 non-null  int64 \n",
      " 65  2010Q2         240631 non-null  int64 \n",
      " 66  2010Q1         240631 non-null  int64 \n",
      " 67  2009Q4         240631 non-null  int64 \n",
      " 68  2009Q3         240631 non-null  int64 \n",
      " 69  2009Q2         240631 non-null  int64 \n",
      " 70  2009Q1         240631 non-null  int64 \n",
      " 71  2008Q4         240631 non-null  int64 \n",
      " 72  2008Q3         240631 non-null  int64 \n",
      " 73  2007Q4         240631 non-null  int64 \n",
      " 74  2006Q4         240631 non-null  int64 \n",
      " 75  2005Q4         240631 non-null  int64 \n",
      " 76  2004Q4         240631 non-null  int64 \n",
      " 77  2003Q4         240631 non-null  int64 \n",
      " 78  2002Q4         240631 non-null  int64 \n",
      " 79  2001Q4         240631 non-null  int64 \n",
      " 80  2000Q4         240631 non-null  int64 \n",
      " 81  1999Q4         240631 non-null  int64 \n",
      " 82  1998Q4         240631 non-null  int64 \n",
      " 83  1997Q4         240631 non-null  int64 \n",
      " 84  1996Q4         240631 non-null  int64 \n",
      " 85  1995Q4         240631 non-null  int64 \n",
      " 86  1994Q4         240631 non-null  int64 \n",
      "dtypes: int64(81), object(6)\n",
      "memory usage: 159.7+ MB\n"
     ]
    }
   ],
   "source": [
    "df_veh = pd.read_csv(IN_DIR / \"df_VEH0120_GB.csv\", low_memory=False)\n",
    "df_veh.info()\n",
    "df_fuel = pd.read_csv(IN_DIR / \"fuel_data.csv\", low_memory=False)\n",
    "\n",
    "# config files\n",
    "with open(CFG_DIR / \"brand_Country.txt\", \"r\", encoding=\"utf-8\") as f:\n",
    "    lines = [line.strip() for line in f if line.strip()]\n",
    "\n",
    "df_brand = pd.DataFrame(lines, columns=[\"raw\"])\n"
   ]
  },
  {
   "cell_type": "markdown",
   "id": "db5c387e",
   "metadata": {},
   "source": [
    "### 2.1.2 Cleaning and Sorting Vehicles Data\n"
   ]
  },
  {
   "cell_type": "code",
   "execution_count": 424,
   "id": "95b23b02",
   "metadata": {},
   "outputs": [
    {
     "name": "stdout",
     "output_type": "stream",
     "text": [
      "<class 'pandas.core.frame.DataFrame'>\n",
      "RangeIndex: 10256250 entries, 0 to 10256249\n",
      "Data columns (total 8 columns):\n",
      " #   Column         Dtype \n",
      "---  ------         ----- \n",
      " 0   BodyType       object\n",
      " 1   Make           object\n",
      " 2   Fuel           object\n",
      " 3   LicenceStatus  object\n",
      " 4   Registrations  int64 \n",
      " 5   Year           int64 \n",
      " 6   Fuel Group     object\n",
      " 7   ParentCountry  object\n",
      "dtypes: int64(2), object(6)\n",
      "memory usage: 626.0+ MB\n"
     ]
    }
   ],
   "source": [
    "quarter_cols = [c for c in df_veh.columns if c.startswith(\"20\") and \"Q\" in c]\n",
    "\n",
    "# 3. Melt to long format\n",
    "df_long = df_veh.melt(\n",
    "    id_vars=[\"BodyType\", \"Make\", \"GenModel\", \"Model\", \"Fuel\", \"LicenceStatus\"],\n",
    "    value_vars=quarter_cols,\n",
    "    var_name=\"Quarter\",\n",
    "    value_name=\"Registrations\"\n",
    ")\n",
    "\n",
    "# 4. Extract Year and Quarter number and keep cars\n",
    "df_long[\"Year\"] = df_long[\"Quarter\"].str.extract(r\"(20\\d{2})\").astype(int)\n",
    "df_long[\"QuarterNo\"] = df_long[\"Quarter\"].str.extract(r\"Q(\\d)\").astype(int)\n",
    "df_long = df_long[df_long[\"BodyType\"] == \"Cars\"]\n",
    "df_long = df_long.drop(columns=[\"QuarterNo\",\"GenModel\",\"Model\",\"Quarter\"])\n",
    "# Group by Year × Make (collapse simple duplicates by normalising Make)\n",
    "df_long[\"Make\"] = (df_long[\"Make\"].astype(str)\n",
    "                   .str.replace(\"\\xa0\", \" \", regex=False)\n",
    "                   .str.strip().str.upper()\n",
    "                   .str.replace(r\"\\s+\", \" \", regex=True))\n",
    "\n",
    "\n",
    "\n",
    "#Fuel type\n",
    "\n",
    "df_long[\"Fuel Group\"] = df_long[\"Fuel\"].str.strip().str.lower().apply(\n",
    "    lambda f:\n",
    "        \"Electric\" if any(e in f for e in [\n",
    "            \"electric\", \"battery\", \"plug-in\", \"fuel cell\"\n",
    "        ])\n",
    "        else \"Petrol\" if \"petrol\" in f and \"electric\" not in f\n",
    "        else \"Diesel\" if \"diesel\" in f and \"electric\" not in f\n",
    "        else \"Gas\" if \"gas\" in f\n",
    "        else \"Other Fuel Types\"\n",
    ")\n",
    "\n",
    "# Brand origin\n",
    "df_brand[\"raw\"] = (\n",
    "    df_brand[\"raw\"]\n",
    "    .str.replace(\"\\xa0\", \" \", regex=False)          # NBSP -> space\n",
    "    .str.replace(r\"\\s+\", \" \", regex=True)           # collapse spaces\n",
    "    .str.replace(r\"–|—|-\", \"—\", regex=True)         # any dash -> em dash\n",
    "    .str.strip()\n",
    ")\n",
    "\n",
    "parts = df_brand[\"raw\"].str.split(\"—\", n=3, expand=True)\n",
    "# If some lines are short/long, pad or trim to 4 columns\n",
    "if parts.shape[1] < 4:\n",
    "    parts = parts.reindex(columns=range(4))\n",
    "parts = parts.apply(lambda c: c.fillna(\"\").str.strip())\n",
    "\n",
    "df_brand[[\"Make\", \"Country\", \"ParentCompany\", \"ParentCountry\"]] = parts.iloc[:, :4]\n",
    "df_brand.drop(columns=[\"raw\"])\n",
    "# Attaching Country of Origin to dataset\n",
    "\n",
    "df_long = df_long.merge(df_brand[[\"Make\", \"ParentCountry\"]], on=\"Make\", how=\"left\")\n",
    "\n",
    "df_veh_raw = df_long.copy()\n",
    "df_veh_raw.info()\n",
    "pd.DataFrame(df_veh_raw['Make'].unique(), columns=['Make']).to_excel(\n",
    "    OUT_DIR / \"unique_makes.csv\", index=False\n",
    ")"
   ]
  },
  {
   "cell_type": "code",
   "execution_count": 425,
   "id": "4881e9af",
   "metadata": {},
   "outputs": [
    {
     "data": {
      "application/vnd.microsoft.datawrangler.viewer.v0+json": {
       "columns": [
        {
         "name": "index",
         "rawType": "int64",
         "type": "integer"
        },
        {
         "name": "BodyType",
         "rawType": "object",
         "type": "string"
        },
        {
         "name": "Make",
         "rawType": "object",
         "type": "string"
        },
        {
         "name": "Fuel",
         "rawType": "object",
         "type": "string"
        },
        {
         "name": "LicenceStatus",
         "rawType": "object",
         "type": "string"
        },
        {
         "name": "Registrations",
         "rawType": "int64",
         "type": "integer"
        },
        {
         "name": "Year",
         "rawType": "int64",
         "type": "integer"
        },
        {
         "name": "Fuel Group",
         "rawType": "object",
         "type": "string"
        },
        {
         "name": "ParentCountry",
         "rawType": "object",
         "type": "unknown"
        }
       ],
       "ref": "d85bfbf7-2fb8-4a54-978b-39fa75515fd6",
       "rows": [
        [
         "0",
         "Cars",
         "ABARTH",
         "Petrol",
         "Licensed",
         "15",
         "2025",
         "Petrol",
         "Netherlands"
        ],
        [
         "1",
         "Cars",
         "ABARTH",
         "Petrol",
         "SORN",
         "4",
         "2025",
         "Petrol",
         "Netherlands"
        ],
        [
         "2",
         "Cars",
         "ABARTH",
         "Petrol",
         "Licensed",
         "25",
         "2025",
         "Petrol",
         "Netherlands"
        ],
        [
         "3",
         "Cars",
         "ABARTH",
         "Petrol",
         "SORN",
         "3",
         "2025",
         "Petrol",
         "Netherlands"
        ],
        [
         "4",
         "Cars",
         "ABARTH",
         "Petrol",
         "Licensed",
         "958",
         "2025",
         "Petrol",
         "Netherlands"
        ],
        [
         "5",
         "Cars",
         "ABARTH",
         "Petrol",
         "SORN",
         "48",
         "2025",
         "Petrol",
         "Netherlands"
        ],
        [
         "6",
         "Cars",
         "ABARTH",
         "Petrol",
         "Licensed",
         "642",
         "2025",
         "Petrol",
         "Netherlands"
        ],
        [
         "7",
         "Cars",
         "ABARTH",
         "Petrol",
         "SORN",
         "35",
         "2025",
         "Petrol",
         "Netherlands"
        ],
        [
         "8",
         "Cars",
         "ABARTH",
         "Petrol",
         "Licensed",
         "59",
         "2025",
         "Petrol",
         "Netherlands"
        ],
        [
         "9",
         "Cars",
         "ABARTH",
         "Petrol",
         "SORN",
         "4",
         "2025",
         "Petrol",
         "Netherlands"
        ],
        [
         "10",
         "Cars",
         "ABARTH",
         "Petrol",
         "Licensed",
         "3659",
         "2025",
         "Petrol",
         "Netherlands"
        ],
        [
         "11",
         "Cars",
         "ABARTH",
         "Petrol",
         "SORN",
         "445",
         "2025",
         "Petrol",
         "Netherlands"
        ],
        [
         "12",
         "Cars",
         "ABARTH",
         "Petrol",
         "Licensed",
         "139",
         "2025",
         "Petrol",
         "Netherlands"
        ],
        [
         "13",
         "Cars",
         "ABARTH",
         "Petrol",
         "SORN",
         "12",
         "2025",
         "Petrol",
         "Netherlands"
        ],
        [
         "14",
         "Cars",
         "ABARTH",
         "Petrol",
         "Licensed",
         "349",
         "2025",
         "Petrol",
         "Netherlands"
        ],
        [
         "15",
         "Cars",
         "ABARTH",
         "Petrol",
         "SORN",
         "46",
         "2025",
         "Petrol",
         "Netherlands"
        ],
        [
         "16",
         "Cars",
         "ABARTH",
         "Petrol",
         "Licensed",
         "332",
         "2025",
         "Petrol",
         "Netherlands"
        ],
        [
         "17",
         "Cars",
         "ABARTH",
         "Petrol",
         "SORN",
         "11",
         "2025",
         "Petrol",
         "Netherlands"
        ],
        [
         "18",
         "Cars",
         "ABARTH",
         "Petrol",
         "Licensed",
         "91",
         "2025",
         "Petrol",
         "Netherlands"
        ],
        [
         "19",
         "Cars",
         "ABARTH",
         "Petrol",
         "SORN",
         "6",
         "2025",
         "Petrol",
         "Netherlands"
        ],
        [
         "20",
         "Cars",
         "ABARTH",
         "Petrol",
         "Licensed",
         "80",
         "2025",
         "Petrol",
         "Netherlands"
        ],
        [
         "21",
         "Cars",
         "ABARTH",
         "Petrol",
         "SORN",
         "4",
         "2025",
         "Petrol",
         "Netherlands"
        ],
        [
         "22",
         "Cars",
         "ABARTH",
         "Petrol",
         "Licensed",
         "128",
         "2025",
         "Petrol",
         "Netherlands"
        ],
        [
         "23",
         "Cars",
         "ABARTH",
         "Petrol",
         "SORN",
         "3",
         "2025",
         "Petrol",
         "Netherlands"
        ],
        [
         "24",
         "Cars",
         "ABARTH",
         "Petrol",
         "Licensed",
         "43",
         "2025",
         "Petrol",
         "Netherlands"
        ],
        [
         "25",
         "Cars",
         "ABARTH",
         "Petrol",
         "SORN",
         "2",
         "2025",
         "Petrol",
         "Netherlands"
        ],
        [
         "26",
         "Cars",
         "ABARTH",
         "Petrol",
         "Licensed",
         "35",
         "2025",
         "Petrol",
         "Netherlands"
        ],
        [
         "27",
         "Cars",
         "ABARTH",
         "Petrol",
         "SORN",
         "1",
         "2025",
         "Petrol",
         "Netherlands"
        ],
        [
         "28",
         "Cars",
         "ABARTH",
         "Petrol",
         "Licensed",
         "14",
         "2025",
         "Petrol",
         "Netherlands"
        ],
        [
         "29",
         "Cars",
         "ABARTH",
         "Petrol",
         "SORN",
         "1",
         "2025",
         "Petrol",
         "Netherlands"
        ],
        [
         "30",
         "Cars",
         "ABARTH",
         "Battery electric",
         "Licensed",
         "230",
         "2025",
         "Electric",
         "Netherlands"
        ],
        [
         "31",
         "Cars",
         "ABARTH",
         "Battery electric",
         "SORN",
         "0",
         "2025",
         "Electric",
         "Netherlands"
        ],
        [
         "32",
         "Cars",
         "ABARTH",
         "Battery electric",
         "Licensed",
         "133",
         "2025",
         "Electric",
         "Netherlands"
        ],
        [
         "33",
         "Cars",
         "ABARTH",
         "Battery electric",
         "SORN",
         "8",
         "2025",
         "Electric",
         "Netherlands"
        ],
        [
         "34",
         "Cars",
         "ABARTH",
         "Battery electric",
         "Licensed",
         "181",
         "2025",
         "Electric",
         "Netherlands"
        ],
        [
         "35",
         "Cars",
         "ABARTH",
         "Battery electric",
         "SORN",
         "3",
         "2025",
         "Electric",
         "Netherlands"
        ],
        [
         "36",
         "Cars",
         "ABARTH",
         "Petrol",
         "Licensed",
         "6601",
         "2025",
         "Petrol",
         "Netherlands"
        ],
        [
         "37",
         "Cars",
         "ABARTH",
         "Petrol",
         "SORN",
         "141",
         "2025",
         "Petrol",
         "Netherlands"
        ],
        [
         "38",
         "Cars",
         "ABARTH",
         "Petrol",
         "Licensed",
         "34",
         "2025",
         "Petrol",
         "Netherlands"
        ],
        [
         "39",
         "Cars",
         "ABARTH",
         "Petrol",
         "SORN",
         "7",
         "2025",
         "Petrol",
         "Netherlands"
        ],
        [
         "40",
         "Cars",
         "ABARTH",
         "Petrol",
         "Licensed",
         "3532",
         "2025",
         "Petrol",
         "Netherlands"
        ],
        [
         "41",
         "Cars",
         "ABARTH",
         "Petrol",
         "SORN",
         "151",
         "2025",
         "Petrol",
         "Netherlands"
        ],
        [
         "42",
         "Cars",
         "ABARTH",
         "Petrol",
         "Licensed",
         "335",
         "2025",
         "Petrol",
         "Netherlands"
        ],
        [
         "43",
         "Cars",
         "ABARTH",
         "Petrol",
         "SORN",
         "19",
         "2025",
         "Petrol",
         "Netherlands"
        ],
        [
         "44",
         "Cars",
         "ABARTH",
         "Petrol",
         "Licensed",
         "257",
         "2025",
         "Petrol",
         "Netherlands"
        ],
        [
         "45",
         "Cars",
         "ABARTH",
         "Petrol",
         "SORN",
         "9",
         "2025",
         "Petrol",
         "Netherlands"
        ],
        [
         "46",
         "Cars",
         "ABARTH",
         "Petrol",
         "Licensed",
         "1",
         "2025",
         "Petrol",
         "Netherlands"
        ],
        [
         "47",
         "Cars",
         "ABARTH",
         "Petrol",
         "Licensed",
         "110",
         "2025",
         "Petrol",
         "Netherlands"
        ],
        [
         "48",
         "Cars",
         "ABARTH",
         "Petrol",
         "SORN",
         "3",
         "2025",
         "Petrol",
         "Netherlands"
        ],
        [
         "49",
         "Cars",
         "ABARTH",
         "Petrol",
         "Licensed",
         "2",
         "2025",
         "Petrol",
         "Netherlands"
        ]
       ],
       "shape": {
        "columns": 8,
        "rows": 10256250
       }
      },
      "text/html": [
       "<div>\n",
       "<style scoped>\n",
       "    .dataframe tbody tr th:only-of-type {\n",
       "        vertical-align: middle;\n",
       "    }\n",
       "\n",
       "    .dataframe tbody tr th {\n",
       "        vertical-align: top;\n",
       "    }\n",
       "\n",
       "    .dataframe thead th {\n",
       "        text-align: right;\n",
       "    }\n",
       "</style>\n",
       "<table border=\"1\" class=\"dataframe\">\n",
       "  <thead>\n",
       "    <tr style=\"text-align: right;\">\n",
       "      <th></th>\n",
       "      <th>BodyType</th>\n",
       "      <th>Make</th>\n",
       "      <th>Fuel</th>\n",
       "      <th>LicenceStatus</th>\n",
       "      <th>Registrations</th>\n",
       "      <th>Year</th>\n",
       "      <th>Fuel Group</th>\n",
       "      <th>ParentCountry</th>\n",
       "    </tr>\n",
       "  </thead>\n",
       "  <tbody>\n",
       "    <tr>\n",
       "      <th>0</th>\n",
       "      <td>Cars</td>\n",
       "      <td>ABARTH</td>\n",
       "      <td>Petrol</td>\n",
       "      <td>Licensed</td>\n",
       "      <td>15</td>\n",
       "      <td>2025</td>\n",
       "      <td>Petrol</td>\n",
       "      <td>Netherlands</td>\n",
       "    </tr>\n",
       "    <tr>\n",
       "      <th>1</th>\n",
       "      <td>Cars</td>\n",
       "      <td>ABARTH</td>\n",
       "      <td>Petrol</td>\n",
       "      <td>SORN</td>\n",
       "      <td>4</td>\n",
       "      <td>2025</td>\n",
       "      <td>Petrol</td>\n",
       "      <td>Netherlands</td>\n",
       "    </tr>\n",
       "    <tr>\n",
       "      <th>2</th>\n",
       "      <td>Cars</td>\n",
       "      <td>ABARTH</td>\n",
       "      <td>Petrol</td>\n",
       "      <td>Licensed</td>\n",
       "      <td>25</td>\n",
       "      <td>2025</td>\n",
       "      <td>Petrol</td>\n",
       "      <td>Netherlands</td>\n",
       "    </tr>\n",
       "    <tr>\n",
       "      <th>3</th>\n",
       "      <td>Cars</td>\n",
       "      <td>ABARTH</td>\n",
       "      <td>Petrol</td>\n",
       "      <td>SORN</td>\n",
       "      <td>3</td>\n",
       "      <td>2025</td>\n",
       "      <td>Petrol</td>\n",
       "      <td>Netherlands</td>\n",
       "    </tr>\n",
       "    <tr>\n",
       "      <th>4</th>\n",
       "      <td>Cars</td>\n",
       "      <td>ABARTH</td>\n",
       "      <td>Petrol</td>\n",
       "      <td>Licensed</td>\n",
       "      <td>958</td>\n",
       "      <td>2025</td>\n",
       "      <td>Petrol</td>\n",
       "      <td>Netherlands</td>\n",
       "    </tr>\n",
       "    <tr>\n",
       "      <th>...</th>\n",
       "      <td>...</td>\n",
       "      <td>...</td>\n",
       "      <td>...</td>\n",
       "      <td>...</td>\n",
       "      <td>...</td>\n",
       "      <td>...</td>\n",
       "      <td>...</td>\n",
       "      <td>...</td>\n",
       "    </tr>\n",
       "    <tr>\n",
       "      <th>10256245</th>\n",
       "      <td>Cars</td>\n",
       "      <td>ZETOR</td>\n",
       "      <td>Petrol</td>\n",
       "      <td>Licensed</td>\n",
       "      <td>0</td>\n",
       "      <td>2000</td>\n",
       "      <td>Petrol</td>\n",
       "      <td>Czech Republic</td>\n",
       "    </tr>\n",
       "    <tr>\n",
       "      <th>10256246</th>\n",
       "      <td>Cars</td>\n",
       "      <td>ZHENHUA</td>\n",
       "      <td>Petrol</td>\n",
       "      <td>Licensed</td>\n",
       "      <td>0</td>\n",
       "      <td>2000</td>\n",
       "      <td>Petrol</td>\n",
       "      <td>China</td>\n",
       "    </tr>\n",
       "    <tr>\n",
       "      <th>10256247</th>\n",
       "      <td>Cars</td>\n",
       "      <td>ZHENHUA</td>\n",
       "      <td>Diesel</td>\n",
       "      <td>Licensed</td>\n",
       "      <td>0</td>\n",
       "      <td>2000</td>\n",
       "      <td>Diesel</td>\n",
       "      <td>China</td>\n",
       "    </tr>\n",
       "    <tr>\n",
       "      <th>10256248</th>\n",
       "      <td>Cars</td>\n",
       "      <td>ZHENHUA</td>\n",
       "      <td>Petrol</td>\n",
       "      <td>SORN</td>\n",
       "      <td>0</td>\n",
       "      <td>2000</td>\n",
       "      <td>Petrol</td>\n",
       "      <td>China</td>\n",
       "    </tr>\n",
       "    <tr>\n",
       "      <th>10256249</th>\n",
       "      <td>Cars</td>\n",
       "      <td>ZHENHUA</td>\n",
       "      <td>Gas</td>\n",
       "      <td>SORN</td>\n",
       "      <td>0</td>\n",
       "      <td>2000</td>\n",
       "      <td>Gas</td>\n",
       "      <td>China</td>\n",
       "    </tr>\n",
       "  </tbody>\n",
       "</table>\n",
       "<p>10256250 rows × 8 columns</p>\n",
       "</div>"
      ],
      "text/plain": [
       "         BodyType     Make    Fuel LicenceStatus  Registrations  Year  \\\n",
       "0            Cars   ABARTH  Petrol      Licensed             15  2025   \n",
       "1            Cars   ABARTH  Petrol          SORN              4  2025   \n",
       "2            Cars   ABARTH  Petrol      Licensed             25  2025   \n",
       "3            Cars   ABARTH  Petrol          SORN              3  2025   \n",
       "4            Cars   ABARTH  Petrol      Licensed            958  2025   \n",
       "...           ...      ...     ...           ...            ...   ...   \n",
       "10256245     Cars    ZETOR  Petrol      Licensed              0  2000   \n",
       "10256246     Cars  ZHENHUA  Petrol      Licensed              0  2000   \n",
       "10256247     Cars  ZHENHUA  Diesel      Licensed              0  2000   \n",
       "10256248     Cars  ZHENHUA  Petrol          SORN              0  2000   \n",
       "10256249     Cars  ZHENHUA     Gas          SORN              0  2000   \n",
       "\n",
       "         Fuel Group   ParentCountry  \n",
       "0            Petrol     Netherlands  \n",
       "1            Petrol     Netherlands  \n",
       "2            Petrol     Netherlands  \n",
       "3            Petrol     Netherlands  \n",
       "4            Petrol     Netherlands  \n",
       "...             ...             ...  \n",
       "10256245     Petrol  Czech Republic  \n",
       "10256246     Petrol           China  \n",
       "10256247     Diesel           China  \n",
       "10256248     Petrol           China  \n",
       "10256249        Gas           China  \n",
       "\n",
       "[10256250 rows x 8 columns]"
      ]
     },
     "execution_count": 425,
     "metadata": {},
     "output_type": "execute_result"
    }
   ],
   "source": [
    "df_veh_raw"
   ]
  },
  {
   "cell_type": "code",
   "execution_count": 426,
   "id": "6be08292",
   "metadata": {},
   "outputs": [
    {
     "data": {
      "application/vnd.microsoft.datawrangler.viewer.v0+json": {
       "columns": [
        {
         "name": "index",
         "rawType": "int64",
         "type": "integer"
        },
        {
         "name": "raw",
         "rawType": "object",
         "type": "string"
        },
        {
         "name": "Make",
         "rawType": "object",
         "type": "string"
        },
        {
         "name": "Country",
         "rawType": "object",
         "type": "string"
        },
        {
         "name": "ParentCompany",
         "rawType": "object",
         "type": "string"
        },
        {
         "name": "ParentCountry",
         "rawType": "object",
         "type": "string"
        }
       ],
       "ref": "c34ae72f-2fd5-450a-bd93-3a5f36b96d2e",
       "rows": [
        [
         "0",
         "ABARTH — Italy — Stellantis N.V. — Netherlands",
         "ABARTH",
         "Italy",
         "Stellantis N.V.",
         "Netherlands"
        ],
        [
         "1",
         "AC — United Kingdom — AC Cars Ltd — United Kingdom",
         "AC",
         "United Kingdom",
         "AC Cars Ltd",
         "United Kingdom"
        ],
        [
         "2",
         "AC (ELECTRIC) — United Kingdom — AC Cars Ltd — United Kingdom",
         "AC (ELECTRIC)",
         "United Kingdom",
         "AC Cars Ltd",
         "United Kingdom"
        ],
        [
         "3",
         "ACCESS — Japan — Access Motor Co., Ltd — Japan",
         "ACCESS",
         "Japan",
         "Access Motor Co., Ltd",
         "Japan"
        ],
        [
         "4",
         "ACURA — Japan — Honda Motor Co., Ltd. — Japan",
         "ACURA",
         "Japan",
         "Honda Motor Co., Ltd.",
         "Japan"
        ],
        [
         "5",
         "ADLY — Taiwan — Her Chee Industrial Co., Ltd. — Taiwan",
         "ADLY",
         "Taiwan",
         "Her Chee Industrial Co., Ltd.",
         "Taiwan"
        ],
        [
         "6",
         "ADRIA — Slovenia — Adria Mobil d.o.o. (Trigano Group) — France",
         "ADRIA",
         "Slovenia",
         "Adria Mobil d.o.o. (Trigano Group)",
         "France"
        ],
        [
         "7",
         "AEON — Taiwan — Aeon Motor Co., Ltd. — Taiwan",
         "AEON",
         "Taiwan",
         "Aeon Motor Co., Ltd.",
         "Taiwan"
        ],
        [
         "8",
         "AGRIFAC — Netherlands — Agrifac Machinery B.V. (Exel Industries Group) — France",
         "AGRIFAC",
         "Netherlands",
         "Agrifac Machinery B.V. (Exel Industries Group)",
         "France"
        ],
        [
         "9",
         "AIE — United Kingdom — AIE (Advanced Innovative Engineering Ltd.) — United Kingdom",
         "AIE",
         "United Kingdom",
         "AIE (Advanced Innovative Engineering Ltd.)",
         "United Kingdom"
        ],
        [
         "10",
         "AIXAM — France — Polaris Industries Inc. — United States",
         "AIXAM",
         "France",
         "Polaris Industries Inc.",
         "United States"
        ],
        [
         "11",
         "AJS — United Kingdom — AJS Motorcycles Ltd. — United Kingdom",
         "AJS",
         "United Kingdom",
         "AJS Motorcycles Ltd.",
         "United Kingdom"
        ],
        [
         "12",
         "ALBION — United Kingdom — Albion Motors (historic) — United Kingdom",
         "ALBION",
         "United Kingdom",
         "Albion Motors (historic)",
         "United Kingdom"
        ],
        [
         "13",
         "ALFA ROMEO — Italy — Stellantis N.V. — Netherlands",
         "ALFA ROMEO",
         "Italy",
         "Stellantis N.V.",
         "Netherlands"
        ],
        [
         "14",
         "ALL WHEEL DRIVE — United Kingdom — Specialist/custom manufacturer — United Kingdom",
         "ALL WHEEL DRIVE",
         "United Kingdom",
         "Specialist/custom manufacturer",
         "United Kingdom"
        ],
        [
         "15",
         "ALPINA — Germany — BMW AG — Germany",
         "ALPINA",
         "Germany",
         "BMW AG",
         "Germany"
        ],
        [
         "16",
         "ALPINE — France — Groupe Renault — France",
         "ALPINE",
         "France",
         "Groupe Renault",
         "France"
        ],
        [
         "17",
         "AM GENERAL — United States — AM General LLC — United States",
         "AM GENERAL",
         "United States",
         "AM General LLC",
         "United States"
        ],
        [
         "18",
         "APPLIED SWEEPER — United Kingdom — Applied Sweepers Ltd (Scarab/Suez Group) — United Kingdom",
         "APPLIED SWEEPER",
         "United Kingdom",
         "Applied Sweepers Ltd (Scarab/Suez Group)",
         "United Kingdom"
        ],
        [
         "19",
         "APRILIA — Italy — Piaggio & C. SpA — Italy",
         "APRILIA",
         "Italy",
         "Piaggio & C. SpA",
         "Italy"
        ],
        [
         "20",
         "ARIEL — United Kingdom — Ariel Motor Company Ltd. — United Kingdom",
         "ARIEL",
         "United Kingdom",
         "Ariel Motor Company Ltd.",
         "United Kingdom"
        ],
        [
         "21",
         "ARO — Romania — Auto Romania (ARO) — Romania",
         "ARO",
         "Romania",
         "Auto Romania (ARO)",
         "Romania"
        ],
        [
         "22",
         "ARTEGA — Germany — Paragon AG / Karo Electric — Germany",
         "ARTEGA",
         "Germany",
         "Paragon AG / Karo Electric",
         "Germany"
        ],
        [
         "23",
         "ASIA — South Korea — Kia Motors (Hyundai Motor Group) — South Korea",
         "ASIA",
         "South Korea",
         "Kia Motors (Hyundai Motor Group)",
         "South Korea"
        ],
        [
         "24",
         "ASQUITH — United Kingdom — Asquith Motors Ltd. — United Kingdom",
         "ASQUITH",
         "United Kingdom",
         "Asquith Motors Ltd.",
         "United Kingdom"
        ],
        [
         "25",
         "ASTON MARTIN — United Kingdom — Aston Martin Lagonda Global Holdings plc — United Kingdom",
         "ASTON MARTIN",
         "United Kingdom",
         "Aston Martin Lagonda Global Holdings plc",
         "United Kingdom"
        ],
        [
         "26",
         "ATALA — Italy — F.I.V. Edoardo Bianchi (Cycle Europe Group) — Italy",
         "ATALA",
         "Italy",
         "F.I.V. Edoardo Bianchi (Cycle Europe Group)",
         "Italy"
        ],
        [
         "27",
         "AUDI — Germany — Volkswagen AG — Germany",
         "AUDI",
         "Germany",
         "Volkswagen AG",
         "Germany"
        ],
        [
         "28",
         "AUSTIN — United Kingdom — British Motor Corporation (historic) / British Leyland legacy — United Kingdom",
         "AUSTIN",
         "United Kingdom",
         "British Motor Corporation (historic) / British Leyland legacy",
         "United Kingdom"
        ],
        [
         "29",
         "AUSTIN HEALEY — United Kingdom — Joint venture between Austin (BMC) and Donald Healey Motor Company (historic) — United Kingdom",
         "AUSTIN HEALEY",
         "United Kingdom",
         "Joint venture between Austin (BMC) and Donald Healey Motor Company (historic)",
         "United Kingdom"
        ],
        [
         "30",
         "AUSTIN MORRIS — United Kingdom — British Leyland / Rover Group (historic) — United Kingdom",
         "AUSTIN MORRIS",
         "United Kingdom",
         "British Leyland / Rover Group (historic)",
         "United Kingdom"
        ],
        [
         "31",
         "AVANTI — United States — Avanti Motor Corporation — United States",
         "AVANTI",
         "United States",
         "Avanti Motor Corporation",
         "United States"
        ],
        [
         "32",
         "AVELING BARFORD — United Kingdom — Aveling Barford Ltd. (construction equipment) — United Kingdom",
         "AVELING BARFORD",
         "United Kingdom",
         "Aveling Barford Ltd. (construction equipment)",
         "United Kingdom"
        ],
        [
         "33",
         "AVTOVAZ — Russia — AvtoVAZ (Lada brand, Renault Group stake historically) — Russia",
         "AVTOVAZ",
         "Russia",
         "AvtoVAZ (Lada brand, Renault Group stake historically)",
         "Russia"
        ],
        [
         "34",
         "BAJAJ — India — Bajaj Auto Ltd. — India",
         "BAJAJ",
         "India",
         "Bajaj Auto Ltd.",
         "India"
        ],
        [
         "35",
         "BAROSSA — China — Chongqing Barossa Motorcycles Manufacturing Co. — China",
         "BAROSSA",
         "China",
         "Chongqing Barossa Motorcycles Manufacturing Co.",
         "China"
        ],
        [
         "36",
         "BASHAN — China — Chongqing Bashan Motorcycle Manufacturing Co. — China",
         "BASHAN",
         "China",
         "Chongqing Bashan Motorcycle Manufacturing Co.",
         "China"
        ],
        [
         "37",
         "BATTISTINIS — United Kingdom — Battistinis Custom Cycles — United Kingdom",
         "BATTISTINIS",
         "United Kingdom",
         "Battistinis Custom Cycles",
         "United Kingdom"
        ],
        [
         "38",
         "BEAUFORD — United Kingdom — Beauford Cars Ltd. — United Kingdom",
         "BEAUFORD",
         "United Kingdom",
         "Beauford Cars Ltd.",
         "United Kingdom"
        ],
        [
         "39",
         "BEDFORD — United Kingdom — General Motors (Vauxhall subsidiary) — United States",
         "BEDFORD",
         "United Kingdom",
         "General Motors (Vauxhall subsidiary)",
         "United States"
        ],
        [
         "40",
         "BELARUS — Belarus — Minsk Tractor Works (MTZ) — Belarus",
         "BELARUS",
         "Belarus",
         "Minsk Tractor Works (MTZ)",
         "Belarus"
        ],
        [
         "41",
         "BENELLI — Italy — QJ Motor Co., Ltd. (China) — China/Italy",
         "BENELLI",
         "Italy",
         "QJ Motor Co., Ltd. (China)",
         "China/Italy"
        ],
        [
         "42",
         "BENFORD — United Kingdom — Terex Corporation (Benford Ltd. historic) — United States",
         "BENFORD",
         "United Kingdom",
         "Terex Corporation (Benford Ltd. historic)",
         "United States"
        ],
        [
         "43",
         "BENTLEY — United Kingdom — Volkswagen AG — Germany",
         "BENTLEY",
         "United Kingdom",
         "Volkswagen AG",
         "Germany"
        ],
        [
         "44",
         "BENYE — China — Benye Tractor & Auto Works (Shanghai Automotive affiliated) — China",
         "BENYE",
         "China",
         "Benye Tractor & Auto Works (Shanghai Automotive affiliated)",
         "China"
        ],
        [
         "45",
         "BETA — Italy — Beta Motor S.p.A. — Italy",
         "BETA",
         "Italy",
         "Beta Motor S.p.A.",
         "Italy"
        ],
        [
         "46",
         "BIMOTA — Italy — Bimota S.A. (Kawasaki Heavy Industries stake) — Italy/Japan",
         "BIMOTA",
         "Italy",
         "Bimota S.A. (Kawasaki Heavy Industries stake)",
         "Italy/Japan"
        ],
        [
         "47",
         "BMC — United Kingdom — British Motor Corporation (historic) — United Kingdom",
         "BMC",
         "United Kingdom",
         "British Motor Corporation (historic)",
         "United Kingdom"
        ],
        [
         "48",
         "BMW — Germany — BMW AG — Germany",
         "BMW",
         "Germany",
         "BMW AG",
         "Germany"
        ],
        [
         "49",
         "BOB CAT — United States — Bobcat Company (Doosan Group) — South Korea",
         "BOB CAT",
         "United States",
         "Bobcat Company (Doosan Group)",
         "South Korea"
        ]
       ],
       "shape": {
        "columns": 5,
        "rows": 468
       }
      },
      "text/html": [
       "<div>\n",
       "<style scoped>\n",
       "    .dataframe tbody tr th:only-of-type {\n",
       "        vertical-align: middle;\n",
       "    }\n",
       "\n",
       "    .dataframe tbody tr th {\n",
       "        vertical-align: top;\n",
       "    }\n",
       "\n",
       "    .dataframe thead th {\n",
       "        text-align: right;\n",
       "    }\n",
       "</style>\n",
       "<table border=\"1\" class=\"dataframe\">\n",
       "  <thead>\n",
       "    <tr style=\"text-align: right;\">\n",
       "      <th></th>\n",
       "      <th>raw</th>\n",
       "      <th>Make</th>\n",
       "      <th>Country</th>\n",
       "      <th>ParentCompany</th>\n",
       "      <th>ParentCountry</th>\n",
       "    </tr>\n",
       "  </thead>\n",
       "  <tbody>\n",
       "    <tr>\n",
       "      <th>0</th>\n",
       "      <td>ABARTH — Italy — Stellantis N.V. — Netherlands</td>\n",
       "      <td>ABARTH</td>\n",
       "      <td>Italy</td>\n",
       "      <td>Stellantis N.V.</td>\n",
       "      <td>Netherlands</td>\n",
       "    </tr>\n",
       "    <tr>\n",
       "      <th>1</th>\n",
       "      <td>AC — United Kingdom — AC Cars Ltd — United Kin...</td>\n",
       "      <td>AC</td>\n",
       "      <td>United Kingdom</td>\n",
       "      <td>AC Cars Ltd</td>\n",
       "      <td>United Kingdom</td>\n",
       "    </tr>\n",
       "    <tr>\n",
       "      <th>2</th>\n",
       "      <td>AC (ELECTRIC) — United Kingdom — AC Cars Ltd —...</td>\n",
       "      <td>AC (ELECTRIC)</td>\n",
       "      <td>United Kingdom</td>\n",
       "      <td>AC Cars Ltd</td>\n",
       "      <td>United Kingdom</td>\n",
       "    </tr>\n",
       "    <tr>\n",
       "      <th>3</th>\n",
       "      <td>ACCESS — Japan — Access Motor Co., Ltd — Japan</td>\n",
       "      <td>ACCESS</td>\n",
       "      <td>Japan</td>\n",
       "      <td>Access Motor Co., Ltd</td>\n",
       "      <td>Japan</td>\n",
       "    </tr>\n",
       "    <tr>\n",
       "      <th>4</th>\n",
       "      <td>ACURA — Japan — Honda Motor Co., Ltd. — Japan</td>\n",
       "      <td>ACURA</td>\n",
       "      <td>Japan</td>\n",
       "      <td>Honda Motor Co., Ltd.</td>\n",
       "      <td>Japan</td>\n",
       "    </tr>\n",
       "    <tr>\n",
       "      <th>...</th>\n",
       "      <td>...</td>\n",
       "      <td>...</td>\n",
       "      <td>...</td>\n",
       "      <td>...</td>\n",
       "      <td>...</td>\n",
       "    </tr>\n",
       "    <tr>\n",
       "      <th>463</th>\n",
       "      <td>YUAN — China — BYD Auto (Yuan model range) — C...</td>\n",
       "      <td>YUAN</td>\n",
       "      <td>China</td>\n",
       "      <td>BYD Auto (Yuan model range)</td>\n",
       "      <td>China</td>\n",
       "    </tr>\n",
       "    <tr>\n",
       "      <th>464</th>\n",
       "      <td>ZASTAVA — Serbia — Zastava Automobiles (Fiat/S...</td>\n",
       "      <td>ZASTAVA</td>\n",
       "      <td>Serbia</td>\n",
       "      <td>Zastava Automobiles (Fiat/Serbian state heritage)</td>\n",
       "      <td>Serbia</td>\n",
       "    </tr>\n",
       "    <tr>\n",
       "      <th>465</th>\n",
       "      <td>ZENOS — United Kingdom — Zenos Cars Ltd. — Uni...</td>\n",
       "      <td>ZENOS</td>\n",
       "      <td>United Kingdom</td>\n",
       "      <td>Zenos Cars Ltd.</td>\n",
       "      <td>United Kingdom</td>\n",
       "    </tr>\n",
       "    <tr>\n",
       "      <th>466</th>\n",
       "      <td>ZETOR — Czech Republic — Zetor Tractors a.s. —...</td>\n",
       "      <td>ZETOR</td>\n",
       "      <td>Czech Republic</td>\n",
       "      <td>Zetor Tractors a.s.</td>\n",
       "      <td>Czech Republic</td>\n",
       "    </tr>\n",
       "    <tr>\n",
       "      <th>467</th>\n",
       "      <td>ZHENHUA — China — Shanghai Zhenhua Heavy Indus...</td>\n",
       "      <td>ZHENHUA</td>\n",
       "      <td>China</td>\n",
       "      <td>Shanghai Zhenhua Heavy Industries Co., Ltd. (Z...</td>\n",
       "      <td>China</td>\n",
       "    </tr>\n",
       "  </tbody>\n",
       "</table>\n",
       "<p>468 rows × 5 columns</p>\n",
       "</div>"
      ],
      "text/plain": [
       "                                                   raw           Make  \\\n",
       "0       ABARTH — Italy — Stellantis N.V. — Netherlands         ABARTH   \n",
       "1    AC — United Kingdom — AC Cars Ltd — United Kin...             AC   \n",
       "2    AC (ELECTRIC) — United Kingdom — AC Cars Ltd —...  AC (ELECTRIC)   \n",
       "3       ACCESS — Japan — Access Motor Co., Ltd — Japan         ACCESS   \n",
       "4        ACURA — Japan — Honda Motor Co., Ltd. — Japan          ACURA   \n",
       "..                                                 ...            ...   \n",
       "463  YUAN — China — BYD Auto (Yuan model range) — C...           YUAN   \n",
       "464  ZASTAVA — Serbia — Zastava Automobiles (Fiat/S...        ZASTAVA   \n",
       "465  ZENOS — United Kingdom — Zenos Cars Ltd. — Uni...          ZENOS   \n",
       "466  ZETOR — Czech Republic — Zetor Tractors a.s. —...          ZETOR   \n",
       "467  ZHENHUA — China — Shanghai Zhenhua Heavy Indus...        ZHENHUA   \n",
       "\n",
       "            Country                                      ParentCompany  \\\n",
       "0             Italy                                    Stellantis N.V.   \n",
       "1    United Kingdom                                        AC Cars Ltd   \n",
       "2    United Kingdom                                        AC Cars Ltd   \n",
       "3             Japan                              Access Motor Co., Ltd   \n",
       "4             Japan                              Honda Motor Co., Ltd.   \n",
       "..              ...                                                ...   \n",
       "463           China                        BYD Auto (Yuan model range)   \n",
       "464          Serbia  Zastava Automobiles (Fiat/Serbian state heritage)   \n",
       "465  United Kingdom                                    Zenos Cars Ltd.   \n",
       "466  Czech Republic                                Zetor Tractors a.s.   \n",
       "467           China  Shanghai Zhenhua Heavy Industries Co., Ltd. (Z...   \n",
       "\n",
       "      ParentCountry  \n",
       "0       Netherlands  \n",
       "1    United Kingdom  \n",
       "2    United Kingdom  \n",
       "3             Japan  \n",
       "4             Japan  \n",
       "..              ...  \n",
       "463           China  \n",
       "464          Serbia  \n",
       "465  United Kingdom  \n",
       "466  Czech Republic  \n",
       "467           China  \n",
       "\n",
       "[468 rows x 5 columns]"
      ]
     },
     "execution_count": 426,
     "metadata": {},
     "output_type": "execute_result"
    }
   ],
   "source": [
    "df_brand"
   ]
  },
  {
   "cell_type": "markdown",
   "id": "98583b45",
   "metadata": {},
   "source": [
    "## 2.2 Stock Market Data"
   ]
  },
  {
   "cell_type": "markdown",
   "id": "8a19ecab",
   "metadata": {},
   "source": [
    "# 3. Data Analysis"
   ]
  },
  {
   "cell_type": "markdown",
   "id": "8e642c19",
   "metadata": {},
   "source": [
    "## 3.1 Features"
   ]
  },
  {
   "cell_type": "markdown",
   "id": "18fc63f6",
   "metadata": {},
   "source": [
    "### 3.1.1 Pie Chart of Types of Vehicles"
   ]
  },
  {
   "cell_type": "code",
   "execution_count": 427,
   "id": "61d35343",
   "metadata": {},
   "outputs": [],
   "source": [
    "df_veh_raw_2020 = df_veh_raw[df_veh_raw[\"Year\"] >= 2000]\n",
    "distinct_names_array = df_veh_raw_2020['Fuel Group'].unique()\n",
    "counts,values = pd.Series(df_veh_raw_2020['Make']).value_counts().values, pd.Series(df_veh_raw_2020['Fuel Group']).value_counts().index\n",
    "df_results_2020 = pd.DataFrame(list(zip(values,counts)),columns=[\"Fuel Group\",\"Count\"])\n",
    "df_results_2020\n",
    "data_2024= df_results_2020.nlargest(n=10,columns=\"Count\")\n",
    "\n",
    "\n",
    "fig = px.pie(data_2024, values='Count', names='Fuel Group', title='Distribution of EV Registrations by Make (2024 onwards)', color_discrete_sequence=KES_palette)\n",
    "#plt.pie(data_2024['Count'], labels=data_2024['Fuel Type'], autopct='%1.1f%%', startangle=140, colors=KES_palette)\n",
    "#DOWNLOAD FIGURE\n",
    "fig.write_image(FIG_DIR / \"pie_chart_fuel_group_registrations_by_make_2024.pdf\")\n"
   ]
  },
  {
   "cell_type": "markdown",
   "id": "cc05d93e",
   "metadata": {},
   "source": [
    "### 3.1.2 Pie Chart of Countries in the EV Space"
   ]
  },
  {
   "cell_type": "code",
   "execution_count": 428,
   "id": "59e8e60f",
   "metadata": {},
   "outputs": [],
   "source": [
    "#import plotly.express as px\n",
    "\n",
    "# --- Filter electric vehicles ---\n",
    "df_ev = df_veh_raw[df_veh_raw[\"Fuel Group\"] == \"Electric\"].copy()\n",
    "df_ev = df_veh_raw[df_veh_raw[\"Fuel\"] == \"Battery electric\"].copy()\n",
    "\n",
    "df_ev = df_ev[df_ev[\"Year\"] >= 2020].copy()\n",
    "\n",
    "# --- Group by parent country ---\n",
    "country_counts = (\n",
    "    df_ev.groupby(\"ParentCountry\", as_index=False)[\"Registrations\"]\n",
    "         .sum()\n",
    ")\n",
    "\n",
    "# --- Replace countries <5% with \"Other\" and re-aggregate ---\n",
    "threshold = 0.05 * country_counts[\"Registrations\"].sum()\n",
    "country_counts[\"ParentCountry\"] = country_counts.apply(\n",
    "    lambda r: r[\"ParentCountry\"] if r[\"Registrations\"] >= threshold else \"Other\",\n",
    "    axis=1\n",
    ")\n",
    "country_counts = (\n",
    "    country_counts.groupby(\"ParentCountry\", as_index=False)[\"Registrations\"]\n",
    "                  .sum()\n",
    "                  .sort_values(\"Registrations\", ascending=False)\n",
    ")\n",
    "# --- Create pie chart ---\n",
    "fig = px.pie(\n",
    "    country_counts,\n",
    "    values=\"Registrations\",\n",
    "    names=\"ParentCountry\",\n",
    "    title=\"Distribution of Countries in the EV Space\",\n",
    "    hole=0,  # 0.4 -> donut style\n",
    "    color_discrete_sequence=px.colors.qualitative.Vivid\n",
    ")\n",
    "\n",
    "fig.write_image(FIG_DIR / \"pie_chart_Country group.pdf\")"
   ]
  },
  {
   "cell_type": "markdown",
   "id": "e385fc0e",
   "metadata": {},
   "source": [
    "### 3.1.3 Line graph: EV registrations by parent country over time"
   ]
  },
  {
   "cell_type": "code",
   "execution_count": 429,
   "id": "c3b70209",
   "metadata": {},
   "outputs": [],
   "source": [
    "# --- Line graph: EV registrations by parent country over time ---\n",
    "df_ev = df_ev[df_ev[\"Year\"] >= 2020].copy()\n",
    "\n",
    "country_trend = (\n",
    "    df_ev.groupby([\"Year\", \"ParentCountry\"], as_index=False)[\"Registrations\"]\n",
    "         .sum()\n",
    "         .sort_values([\"ParentCountry\", \"Year\"])\n",
    ")\n",
    "\n",
    "fig = px.line(\n",
    "    country_trend,\n",
    "    x=\"Year\",\n",
    "    y=\"Registrations\",\n",
    "    color=\"ParentCountry\",\n",
    "    title=\"EV Registrations Over Time by Parent Country\",\n",
    "    markers=True,\n",
    "    color_discrete_sequence=px.colors.qualitative.Vivid\n",
    ")\n",
    "\n",
    "fig.write_image(FIG_DIR / \"line_Country_trend.pdf\")"
   ]
  },
  {
   "cell_type": "markdown",
   "id": "0e5224e6",
   "metadata": {},
   "source": [
    "## 4 Economic Metrics\n"
   ]
  },
  {
   "cell_type": "markdown",
   "id": "c3e7029e",
   "metadata": {},
   "source": [
    "### 4.0.1 Setup"
   ]
  },
  {
   "cell_type": "code",
   "execution_count": 430,
   "id": "81a1ab18",
   "metadata": {},
   "outputs": [],
   "source": [
    "# Filter out 2025\n",
    "df = df_veh_raw[df_veh_raw[\"Year\"] < 2025].copy()\n"
   ]
  },
  {
   "cell_type": "markdown",
   "id": "7b9fd0fb",
   "metadata": {},
   "source": [
    "## 4. Metrics"
   ]
  },
  {
   "cell_type": "markdown",
   "id": "57f246c9",
   "metadata": {},
   "source": [
    "### 4.1.1 Annual Growth Rate of Total Car Registrations"
   ]
  },
  {
   "cell_type": "code",
   "execution_count": 431,
   "id": "526c351a",
   "metadata": {},
   "outputs": [
    {
     "data": {
      "application/vnd.plotly.v1+json": {
       "config": {
        "plotlyServerURL": "https://plot.ly"
       },
       "data": [
        {
         "marker": {
          "color": "steelblue"
         },
         "name": "Registrations",
         "opacity": 0.7,
         "type": "bar",
         "x": {
          "bdata": "0AfRB9IH0wfUB9UH1gfXB9gH2QfaB9sH3AfdB94H3wfgB+EH4gfjB+QH5QfmB+cH6Ac=",
          "dtype": "i2"
         },
         "y": {
          "bdata": "QmZ0AQZkfwHKZokBwWWQAcNqnAEx7qMB+UilAa2avgGOaIMDH9wJB+wWFAdw1RwHNC8lB6VNPQfE7WgHRh+RByPQzQeWGvwHEPUXCOHkOQj0cEUIdIVUCIfKYQgyboEIsVCoCA==",
          "dtype": "i4"
         }
        },
        {
         "line": {
          "color": "crimson",
          "width": 2
         },
         "mode": "lines+markers",
         "name": "Growth Rate (%)",
         "type": "scatter",
         "x": {
          "bdata": "0AfRB9IH0wfUB9UH1gfXB9gH2QfaB9sH3AfdB94H3wfgB+EH4gfjB+QH5QfmB+cH6Ac=",
          "dtype": "i2"
         },
         "y": {
          "bdata": "AAAAAAAA+H+O8FNJnpwHQOT8FnaU4wRAtKtvmwR0/D+YWPUQ6AMIQGwlipcTJv0/4Jy8PSml1D9LnvOLOAoYQL0rHDLZWFlAVYRWSKcVWUBQs60h1yriP+A40/cQ4t4/EKBGtvlZ3T+QtUto0xj1Pw5ZzI3Z1AJA9ur8UnDzAEDCXVfmeBAJQFZs+2BeiQJA1Ae8gk3N9T8EWdp64DT6PwC6Z/7ii+E/EAbjJjbK5j+4tJw5jenjP2ycFZ57l/c/nICrhqyS/D8=",
          "dtype": "f8"
         },
         "yaxis": "y2"
        }
       ],
       "layout": {
        "height": 500,
        "legend": {
         "x": 0.02,
         "y": 0.98
        },
        "template": {
         "data": {
          "bar": [
           {
            "error_x": {
             "color": "#2a3f5f"
            },
            "error_y": {
             "color": "#2a3f5f"
            },
            "marker": {
             "line": {
              "color": "white",
              "width": 0.5
             },
             "pattern": {
              "fillmode": "overlay",
              "size": 10,
              "solidity": 0.2
             }
            },
            "type": "bar"
           }
          ],
          "barpolar": [
           {
            "marker": {
             "line": {
              "color": "white",
              "width": 0.5
             },
             "pattern": {
              "fillmode": "overlay",
              "size": 10,
              "solidity": 0.2
             }
            },
            "type": "barpolar"
           }
          ],
          "carpet": [
           {
            "aaxis": {
             "endlinecolor": "#2a3f5f",
             "gridcolor": "#C8D4E3",
             "linecolor": "#C8D4E3",
             "minorgridcolor": "#C8D4E3",
             "startlinecolor": "#2a3f5f"
            },
            "baxis": {
             "endlinecolor": "#2a3f5f",
             "gridcolor": "#C8D4E3",
             "linecolor": "#C8D4E3",
             "minorgridcolor": "#C8D4E3",
             "startlinecolor": "#2a3f5f"
            },
            "type": "carpet"
           }
          ],
          "choropleth": [
           {
            "colorbar": {
             "outlinewidth": 0,
             "ticks": ""
            },
            "type": "choropleth"
           }
          ],
          "contour": [
           {
            "colorbar": {
             "outlinewidth": 0,
             "ticks": ""
            },
            "colorscale": [
             [
              0,
              "#0d0887"
             ],
             [
              0.1111111111111111,
              "#46039f"
             ],
             [
              0.2222222222222222,
              "#7201a8"
             ],
             [
              0.3333333333333333,
              "#9c179e"
             ],
             [
              0.4444444444444444,
              "#bd3786"
             ],
             [
              0.5555555555555556,
              "#d8576b"
             ],
             [
              0.6666666666666666,
              "#ed7953"
             ],
             [
              0.7777777777777778,
              "#fb9f3a"
             ],
             [
              0.8888888888888888,
              "#fdca26"
             ],
             [
              1,
              "#f0f921"
             ]
            ],
            "type": "contour"
           }
          ],
          "contourcarpet": [
           {
            "colorbar": {
             "outlinewidth": 0,
             "ticks": ""
            },
            "type": "contourcarpet"
           }
          ],
          "heatmap": [
           {
            "colorbar": {
             "outlinewidth": 0,
             "ticks": ""
            },
            "colorscale": [
             [
              0,
              "#0d0887"
             ],
             [
              0.1111111111111111,
              "#46039f"
             ],
             [
              0.2222222222222222,
              "#7201a8"
             ],
             [
              0.3333333333333333,
              "#9c179e"
             ],
             [
              0.4444444444444444,
              "#bd3786"
             ],
             [
              0.5555555555555556,
              "#d8576b"
             ],
             [
              0.6666666666666666,
              "#ed7953"
             ],
             [
              0.7777777777777778,
              "#fb9f3a"
             ],
             [
              0.8888888888888888,
              "#fdca26"
             ],
             [
              1,
              "#f0f921"
             ]
            ],
            "type": "heatmap"
           }
          ],
          "histogram": [
           {
            "marker": {
             "pattern": {
              "fillmode": "overlay",
              "size": 10,
              "solidity": 0.2
             }
            },
            "type": "histogram"
           }
          ],
          "histogram2d": [
           {
            "colorbar": {
             "outlinewidth": 0,
             "ticks": ""
            },
            "colorscale": [
             [
              0,
              "#0d0887"
             ],
             [
              0.1111111111111111,
              "#46039f"
             ],
             [
              0.2222222222222222,
              "#7201a8"
             ],
             [
              0.3333333333333333,
              "#9c179e"
             ],
             [
              0.4444444444444444,
              "#bd3786"
             ],
             [
              0.5555555555555556,
              "#d8576b"
             ],
             [
              0.6666666666666666,
              "#ed7953"
             ],
             [
              0.7777777777777778,
              "#fb9f3a"
             ],
             [
              0.8888888888888888,
              "#fdca26"
             ],
             [
              1,
              "#f0f921"
             ]
            ],
            "type": "histogram2d"
           }
          ],
          "histogram2dcontour": [
           {
            "colorbar": {
             "outlinewidth": 0,
             "ticks": ""
            },
            "colorscale": [
             [
              0,
              "#0d0887"
             ],
             [
              0.1111111111111111,
              "#46039f"
             ],
             [
              0.2222222222222222,
              "#7201a8"
             ],
             [
              0.3333333333333333,
              "#9c179e"
             ],
             [
              0.4444444444444444,
              "#bd3786"
             ],
             [
              0.5555555555555556,
              "#d8576b"
             ],
             [
              0.6666666666666666,
              "#ed7953"
             ],
             [
              0.7777777777777778,
              "#fb9f3a"
             ],
             [
              0.8888888888888888,
              "#fdca26"
             ],
             [
              1,
              "#f0f921"
             ]
            ],
            "type": "histogram2dcontour"
           }
          ],
          "mesh3d": [
           {
            "colorbar": {
             "outlinewidth": 0,
             "ticks": ""
            },
            "type": "mesh3d"
           }
          ],
          "parcoords": [
           {
            "line": {
             "colorbar": {
              "outlinewidth": 0,
              "ticks": ""
             }
            },
            "type": "parcoords"
           }
          ],
          "pie": [
           {
            "automargin": true,
            "type": "pie"
           }
          ],
          "scatter": [
           {
            "fillpattern": {
             "fillmode": "overlay",
             "size": 10,
             "solidity": 0.2
            },
            "type": "scatter"
           }
          ],
          "scatter3d": [
           {
            "line": {
             "colorbar": {
              "outlinewidth": 0,
              "ticks": ""
             }
            },
            "marker": {
             "colorbar": {
              "outlinewidth": 0,
              "ticks": ""
             }
            },
            "type": "scatter3d"
           }
          ],
          "scattercarpet": [
           {
            "marker": {
             "colorbar": {
              "outlinewidth": 0,
              "ticks": ""
             }
            },
            "type": "scattercarpet"
           }
          ],
          "scattergeo": [
           {
            "marker": {
             "colorbar": {
              "outlinewidth": 0,
              "ticks": ""
             }
            },
            "type": "scattergeo"
           }
          ],
          "scattergl": [
           {
            "marker": {
             "colorbar": {
              "outlinewidth": 0,
              "ticks": ""
             }
            },
            "type": "scattergl"
           }
          ],
          "scattermap": [
           {
            "marker": {
             "colorbar": {
              "outlinewidth": 0,
              "ticks": ""
             }
            },
            "type": "scattermap"
           }
          ],
          "scattermapbox": [
           {
            "marker": {
             "colorbar": {
              "outlinewidth": 0,
              "ticks": ""
             }
            },
            "type": "scattermapbox"
           }
          ],
          "scatterpolar": [
           {
            "marker": {
             "colorbar": {
              "outlinewidth": 0,
              "ticks": ""
             }
            },
            "type": "scatterpolar"
           }
          ],
          "scatterpolargl": [
           {
            "marker": {
             "colorbar": {
              "outlinewidth": 0,
              "ticks": ""
             }
            },
            "type": "scatterpolargl"
           }
          ],
          "scatterternary": [
           {
            "marker": {
             "colorbar": {
              "outlinewidth": 0,
              "ticks": ""
             }
            },
            "type": "scatterternary"
           }
          ],
          "surface": [
           {
            "colorbar": {
             "outlinewidth": 0,
             "ticks": ""
            },
            "colorscale": [
             [
              0,
              "#0d0887"
             ],
             [
              0.1111111111111111,
              "#46039f"
             ],
             [
              0.2222222222222222,
              "#7201a8"
             ],
             [
              0.3333333333333333,
              "#9c179e"
             ],
             [
              0.4444444444444444,
              "#bd3786"
             ],
             [
              0.5555555555555556,
              "#d8576b"
             ],
             [
              0.6666666666666666,
              "#ed7953"
             ],
             [
              0.7777777777777778,
              "#fb9f3a"
             ],
             [
              0.8888888888888888,
              "#fdca26"
             ],
             [
              1,
              "#f0f921"
             ]
            ],
            "type": "surface"
           }
          ],
          "table": [
           {
            "cells": {
             "fill": {
              "color": "#EBF0F8"
             },
             "line": {
              "color": "white"
             }
            },
            "header": {
             "fill": {
              "color": "#C8D4E3"
             },
             "line": {
              "color": "white"
             }
            },
            "type": "table"
           }
          ]
         },
         "layout": {
          "annotationdefaults": {
           "arrowcolor": "#2a3f5f",
           "arrowhead": 0,
           "arrowwidth": 1
          },
          "autotypenumbers": "strict",
          "coloraxis": {
           "colorbar": {
            "outlinewidth": 0,
            "ticks": ""
           }
          },
          "colorscale": {
           "diverging": [
            [
             0,
             "#8e0152"
            ],
            [
             0.1,
             "#c51b7d"
            ],
            [
             0.2,
             "#de77ae"
            ],
            [
             0.3,
             "#f1b6da"
            ],
            [
             0.4,
             "#fde0ef"
            ],
            [
             0.5,
             "#f7f7f7"
            ],
            [
             0.6,
             "#e6f5d0"
            ],
            [
             0.7,
             "#b8e186"
            ],
            [
             0.8,
             "#7fbc41"
            ],
            [
             0.9,
             "#4d9221"
            ],
            [
             1,
             "#276419"
            ]
           ],
           "sequential": [
            [
             0,
             "#0d0887"
            ],
            [
             0.1111111111111111,
             "#46039f"
            ],
            [
             0.2222222222222222,
             "#7201a8"
            ],
            [
             0.3333333333333333,
             "#9c179e"
            ],
            [
             0.4444444444444444,
             "#bd3786"
            ],
            [
             0.5555555555555556,
             "#d8576b"
            ],
            [
             0.6666666666666666,
             "#ed7953"
            ],
            [
             0.7777777777777778,
             "#fb9f3a"
            ],
            [
             0.8888888888888888,
             "#fdca26"
            ],
            [
             1,
             "#f0f921"
            ]
           ],
           "sequentialminus": [
            [
             0,
             "#0d0887"
            ],
            [
             0.1111111111111111,
             "#46039f"
            ],
            [
             0.2222222222222222,
             "#7201a8"
            ],
            [
             0.3333333333333333,
             "#9c179e"
            ],
            [
             0.4444444444444444,
             "#bd3786"
            ],
            [
             0.5555555555555556,
             "#d8576b"
            ],
            [
             0.6666666666666666,
             "#ed7953"
            ],
            [
             0.7777777777777778,
             "#fb9f3a"
            ],
            [
             0.8888888888888888,
             "#fdca26"
            ],
            [
             1,
             "#f0f921"
            ]
           ]
          },
          "colorway": [
           "#636efa",
           "#EF553B",
           "#00cc96",
           "#ab63fa",
           "#FFA15A",
           "#19d3f3",
           "#FF6692",
           "#B6E880",
           "#FF97FF",
           "#FECB52"
          ],
          "font": {
           "color": "#2a3f5f"
          },
          "geo": {
           "bgcolor": "white",
           "lakecolor": "white",
           "landcolor": "white",
           "showlakes": true,
           "showland": true,
           "subunitcolor": "#C8D4E3"
          },
          "hoverlabel": {
           "align": "left"
          },
          "hovermode": "closest",
          "mapbox": {
           "style": "light"
          },
          "paper_bgcolor": "white",
          "plot_bgcolor": "white",
          "polar": {
           "angularaxis": {
            "gridcolor": "#EBF0F8",
            "linecolor": "#EBF0F8",
            "ticks": ""
           },
           "bgcolor": "white",
           "radialaxis": {
            "gridcolor": "#EBF0F8",
            "linecolor": "#EBF0F8",
            "ticks": ""
           }
          },
          "scene": {
           "xaxis": {
            "backgroundcolor": "white",
            "gridcolor": "#DFE8F3",
            "gridwidth": 2,
            "linecolor": "#EBF0F8",
            "showbackground": true,
            "ticks": "",
            "zerolinecolor": "#EBF0F8"
           },
           "yaxis": {
            "backgroundcolor": "white",
            "gridcolor": "#DFE8F3",
            "gridwidth": 2,
            "linecolor": "#EBF0F8",
            "showbackground": true,
            "ticks": "",
            "zerolinecolor": "#EBF0F8"
           },
           "zaxis": {
            "backgroundcolor": "white",
            "gridcolor": "#DFE8F3",
            "gridwidth": 2,
            "linecolor": "#EBF0F8",
            "showbackground": true,
            "ticks": "",
            "zerolinecolor": "#EBF0F8"
           }
          },
          "shapedefaults": {
           "line": {
            "color": "#2a3f5f"
           }
          },
          "ternary": {
           "aaxis": {
            "gridcolor": "#DFE8F3",
            "linecolor": "#A2B1C6",
            "ticks": ""
           },
           "baxis": {
            "gridcolor": "#DFE8F3",
            "linecolor": "#A2B1C6",
            "ticks": ""
           },
           "bgcolor": "white",
           "caxis": {
            "gridcolor": "#DFE8F3",
            "linecolor": "#A2B1C6",
            "ticks": ""
           }
          },
          "title": {
           "x": 0.05
          },
          "xaxis": {
           "automargin": true,
           "gridcolor": "#EBF0F8",
           "linecolor": "#EBF0F8",
           "ticks": "",
           "title": {
            "standoff": 15
           },
           "zerolinecolor": "#EBF0F8",
           "zerolinewidth": 2
          },
          "yaxis": {
           "automargin": true,
           "gridcolor": "#EBF0F8",
           "linecolor": "#EBF0F8",
           "ticks": "",
           "title": {
            "standoff": 15
           },
           "zerolinecolor": "#EBF0F8",
           "zerolinewidth": 2
          }
         }
        },
        "title": {
         "text": "Annual Vehicle Registrations and Year-on-Year Growth"
        },
        "width": 850,
        "xaxis": {
         "title": {
          "text": "Year"
         }
        },
        "yaxis": {
         "title": {
          "text": "Registrations"
         }
        },
        "yaxis2": {
         "overlaying": "y",
         "showgrid": false,
         "side": "right",
         "title": {
          "text": "Growth Rate (%)"
         }
        }
       }
      }
     },
     "metadata": {},
     "output_type": "display_data"
    }
   ],
   "source": [
    "annual_total = (\n",
    "    df.groupby(\"Year\", as_index=False)[\"Registrations\"]\n",
    "      .sum()\n",
    "      .sort_values(\"Year\")\n",
    ")\n",
    "annual_total[\"GrowthRate_%\"] = annual_total[\"Registrations\"].pct_change() * 100\n",
    "annual_total\n",
    "# --- Base figure with bars for Registrations ---\n",
    "fig = go.Figure()\n",
    "\n",
    "fig.add_trace(go.Bar(\n",
    "    x=annual_total[\"Year\"],\n",
    "    y=annual_total[\"Registrations\"],\n",
    "    name=\"Registrations\",\n",
    "    marker_color=\"steelblue\",\n",
    "    opacity=0.7,\n",
    "))\n",
    "\n",
    "# --- Add growth rate line (secondary axis) ---\n",
    "fig.add_trace(go.Scatter(\n",
    "    x=annual_total[\"Year\"],\n",
    "    y=annual_total[\"GrowthRate_%\"],\n",
    "    name=\"Growth Rate (%)\",\n",
    "    mode=\"lines+markers\",\n",
    "    yaxis=\"y2\",\n",
    "    line=dict(color=\"crimson\", width=2)\n",
    "))\n",
    "\n",
    "# --- Layout ---\n",
    "fig.update_layout(\n",
    "    title=\"Annual Vehicle Registrations and Year-on-Year Growth\",\n",
    "    xaxis_title=\"Year\",\n",
    "    yaxis=dict(title=\"Registrations\"),\n",
    "    yaxis2=dict(\n",
    "        title=\"Growth Rate (%)\",\n",
    "        overlaying=\"y\",\n",
    "        side=\"right\",\n",
    "        showgrid=False\n",
    "    ),\n",
    "    template=\"plotly_white\",\n",
    "    legend=dict(x=0.02, y=0.98),\n",
    "    width=850, height=500\n",
    ")\n",
    "\n",
    "# --- Save ---\n",
    "fig.write_image(FIG_DIR / \"annual_total_growth.pdf\")\n",
    "\n",
    "fig.show()"
   ]
  },
  {
   "cell_type": "markdown",
   "id": "b7e712b3",
   "metadata": {},
   "source": [
    "### 4.1.2 Market Share by Fuel Group"
   ]
  },
  {
   "cell_type": "code",
   "execution_count": 432,
   "id": "abc44d73",
   "metadata": {},
   "outputs": [
    {
     "data": {
      "application/vnd.plotly.v1+json": {
       "config": {
        "plotlyServerURL": "https://plot.ly"
       },
       "data": [
        {
         "hovertemplate": "Fuel Group=Petrol<br>Year=%{x}<br>MarketShare_%=%{y}<extra></extra>",
         "legendgroup": "Petrol",
         "line": {
          "color": "rgb(229, 134, 6)",
          "dash": "solid"
         },
         "marker": {
          "symbol": "circle"
         },
         "mode": "lines+markers",
         "name": "Petrol",
         "orientation": "v",
         "showlegend": true,
         "type": "scatter",
         "x": {
          "bdata": "0AfRB9IH0wfUB9UH1gfXB9gH2QfaB9sH3AfdB94H3wfgB+EH4gfjB+QH5QfmB+cH6Ac=",
          "dtype": "i2"
         },
         "xaxis": "x",
         "y": {
          "bdata": "bidBd9i/VUDe5ecVQIhVQJWutSE7LVVAlmB9QDfGVECfg4sqvlNUQD0QdJ8931NAGh+gZsxvU0AouajHdw1TQPoFiHbjq1JA7NPHXRViUkBybgfSEvdRQCGHRNXQfVFAm626EPwAUUDAzseNDIpQQPvg41UgFlBAAhdxD91cT0Br/FKz06FOQLGtVLkZHk5AjM1aBNTtTUC+S7RjeQNOQO9yYMAKDU5Aa9OF1QfnTUDSG2XYYK1NQBKi9XYKcE1AgEcXb0kJTUA=",
          "dtype": "f8"
         },
         "yaxis": "y"
        },
        {
         "hovertemplate": "Fuel Group=Diesel<br>Year=%{x}<br>MarketShare_%=%{y}<extra></extra>",
         "legendgroup": "Diesel",
         "line": {
          "color": "rgb(93, 105, 177)",
          "dash": "solid"
         },
         "marker": {
          "symbol": "circle"
         },
         "mode": "lines+markers",
         "name": "Diesel",
         "orientation": "v",
         "showlegend": true,
         "type": "scatter",
         "x": {
          "bdata": "0AfRB9IH0wfUB9UH1gfXB9gH2QfaB9sH3AfdB94H3wfgB+EH4gfjB+QH5QfmB+cH6Ac=",
          "dtype": "i2"
         },
         "xaxis": "x",
         "y": {
          "bdata": "34G0twnWKUCvEm7XsYkrQJOIFBySWS5AQnb33EPEMEAeD9tw4YkyQHV+jK61VTRAljXBvrsINkAzMLhRLII3QO7em1uN+DhAKWGByBwWOkC3qHzrLLE7QCVB2N+Zgz1AjQKeTbpjP0B1S/eQ75VAQMshRO3ib0FAoqJlLJgqQkCWtzcTn8tCQOMHv46/LUNAJaHHREMzQ0AUfVMi0OpCQJFbKhPljEJAbrFr/EoGQkA0X1baJ11BQDYt80eajkBAgkmfL/laP0A=",
          "dtype": "f8"
         },
         "yaxis": "y"
        },
        {
         "hovertemplate": "Fuel Group=Gas<br>Year=%{x}<br>MarketShare_%=%{y}<extra></extra>",
         "legendgroup": "Gas",
         "line": {
          "color": "rgb(82, 188, 163)",
          "dash": "solid"
         },
         "marker": {
          "symbol": "circle"
         },
         "mode": "lines+markers",
         "name": "Gas",
         "orientation": "v",
         "showlegend": true,
         "type": "scatter",
         "x": {
          "bdata": "0AfRB9IH0wfUB9UH1gfXB9gH2QfaB9sH3AfdB94H3wfgB+EH4gfjB+QH5QfmB+cH6Ac=",
          "dtype": "i2"
         },
         "xaxis": "x",
         "y": {
          "bdata": "Zmw5BunwtD9ZOflODNe4P9fYeFypobw/dP2rHtNpwD+2VIWbMNDBPx+33KwKZMI/9efKC5Sowz8tyF34YefEP6rz+xqf18Y/Wtl1sqmJxz/rLWTzWNbHP4mLV1Am4sc/77sjphSBxz+wI8AbF6DGPxdsnEz2VsU/VgsFT33iwz9UJT19m1XCP0XAhcvL4cA/ohQqnQIxvz+b8FcyZDa9P4wWcfIuIrw/2LW4ejvhuz9QbPi0Zym9P4/Bl0ZsGr4/foc79Zf/vT8=",
          "dtype": "f8"
         },
         "yaxis": "y"
        },
        {
         "hovertemplate": "Fuel Group=Electric<br>Year=%{x}<br>MarketShare_%=%{y}<extra></extra>",
         "legendgroup": "Electric",
         "line": {
          "color": "rgb(153, 201, 69)",
          "dash": "solid"
         },
         "marker": {
          "symbol": "circle"
         },
         "mode": "lines+markers",
         "name": "Electric",
         "orientation": "v",
         "showlegend": true,
         "type": "scatter",
         "x": {
          "bdata": "0AfRB9IH0wfUB9UH1gfXB9gH2QfaB9sH3AfdB94H3wfgB+EH4gfjB+QH5QfmB+cH6Ac=",
          "dtype": "i2"
         },
         "xaxis": "x",
         "y": {
          "bdata": "rJVVCXSrYz+9ZPfwnwB0PwdU4XQElHk/YjvIoPuDfz+9r2AzqHmLPyntVjS34KA//+XF85CasD+ALfDW39e9P2fjdGgi8MQ/koVY0AkPyT8z5UEpW5zQP/rQyyrTPdU/9CCctY872j8F+tD1kJPfPy4E8zbIleM/5pmIxRcf6T/lBV5GsgHwP6ZDQMikY/Q/gjnKgy7l+T+wXxocYy8AQAie3Bm8fQVAHgEbSNUkEEDJ1+GLEzYXQEvmFuB/kR9AYjaHoHjoJEA=",
          "dtype": "f8"
         },
         "yaxis": "y"
        },
        {
         "hovertemplate": "Fuel Group=Other Fuel Types<br>Year=%{x}<br>MarketShare_%=%{y}<extra></extra>",
         "legendgroup": "Other Fuel Types",
         "line": {
          "color": "rgb(204, 97, 176)",
          "dash": "solid"
         },
         "marker": {
          "symbol": "circle"
         },
         "mode": "lines+markers",
         "name": "Other Fuel Types",
         "orientation": "v",
         "showlegend": true,
         "type": "scatter",
         "x": {
          "bdata": "0AfRB9IH0wfUB9UH1gfXB9gH2QfaB9sH3AfdB94H3wfgB+EH4gfjB+QH5QfmB+cH6Ac=",
          "dtype": "i2"
         },
         "xaxis": "x",
         "y": {
          "bdata": "awKBOvUEJj+xbgOttkwvPyE353T2Ai8/APnmohs7Mz/a4adruU42P+CEsluvYjs/RY0medl2Qz/nvdtP93pTP5Kv3knPUVU/B9SZbFYWVz/bJmRzdmtaP+Qk/3ByzFk/oNrCI9VBWT9tY3naOA1YPzLa4NnlJ1c/NXp0D+LzVT/bclWP4gVVP0efR2Hv4lM/mk88VbhgUz/2fZ2yDotSPyZRihevqVE/DNtT36bzUD8jOOXm9hNQP6uEDgjxDk4/wvdiqPwETD8=",
          "dtype": "f8"
         },
         "yaxis": "y"
        }
       ],
       "layout": {
        "height": 500,
        "legend": {
         "title": {
          "text": "Fuel Group"
         },
         "tracegroupgap": 0
        },
        "template": {
         "data": {
          "bar": [
           {
            "error_x": {
             "color": "#2a3f5f"
            },
            "error_y": {
             "color": "#2a3f5f"
            },
            "marker": {
             "line": {
              "color": "white",
              "width": 0.5
             },
             "pattern": {
              "fillmode": "overlay",
              "size": 10,
              "solidity": 0.2
             }
            },
            "type": "bar"
           }
          ],
          "barpolar": [
           {
            "marker": {
             "line": {
              "color": "white",
              "width": 0.5
             },
             "pattern": {
              "fillmode": "overlay",
              "size": 10,
              "solidity": 0.2
             }
            },
            "type": "barpolar"
           }
          ],
          "carpet": [
           {
            "aaxis": {
             "endlinecolor": "#2a3f5f",
             "gridcolor": "#C8D4E3",
             "linecolor": "#C8D4E3",
             "minorgridcolor": "#C8D4E3",
             "startlinecolor": "#2a3f5f"
            },
            "baxis": {
             "endlinecolor": "#2a3f5f",
             "gridcolor": "#C8D4E3",
             "linecolor": "#C8D4E3",
             "minorgridcolor": "#C8D4E3",
             "startlinecolor": "#2a3f5f"
            },
            "type": "carpet"
           }
          ],
          "choropleth": [
           {
            "colorbar": {
             "outlinewidth": 0,
             "ticks": ""
            },
            "type": "choropleth"
           }
          ],
          "contour": [
           {
            "colorbar": {
             "outlinewidth": 0,
             "ticks": ""
            },
            "colorscale": [
             [
              0,
              "#0d0887"
             ],
             [
              0.1111111111111111,
              "#46039f"
             ],
             [
              0.2222222222222222,
              "#7201a8"
             ],
             [
              0.3333333333333333,
              "#9c179e"
             ],
             [
              0.4444444444444444,
              "#bd3786"
             ],
             [
              0.5555555555555556,
              "#d8576b"
             ],
             [
              0.6666666666666666,
              "#ed7953"
             ],
             [
              0.7777777777777778,
              "#fb9f3a"
             ],
             [
              0.8888888888888888,
              "#fdca26"
             ],
             [
              1,
              "#f0f921"
             ]
            ],
            "type": "contour"
           }
          ],
          "contourcarpet": [
           {
            "colorbar": {
             "outlinewidth": 0,
             "ticks": ""
            },
            "type": "contourcarpet"
           }
          ],
          "heatmap": [
           {
            "colorbar": {
             "outlinewidth": 0,
             "ticks": ""
            },
            "colorscale": [
             [
              0,
              "#0d0887"
             ],
             [
              0.1111111111111111,
              "#46039f"
             ],
             [
              0.2222222222222222,
              "#7201a8"
             ],
             [
              0.3333333333333333,
              "#9c179e"
             ],
             [
              0.4444444444444444,
              "#bd3786"
             ],
             [
              0.5555555555555556,
              "#d8576b"
             ],
             [
              0.6666666666666666,
              "#ed7953"
             ],
             [
              0.7777777777777778,
              "#fb9f3a"
             ],
             [
              0.8888888888888888,
              "#fdca26"
             ],
             [
              1,
              "#f0f921"
             ]
            ],
            "type": "heatmap"
           }
          ],
          "histogram": [
           {
            "marker": {
             "pattern": {
              "fillmode": "overlay",
              "size": 10,
              "solidity": 0.2
             }
            },
            "type": "histogram"
           }
          ],
          "histogram2d": [
           {
            "colorbar": {
             "outlinewidth": 0,
             "ticks": ""
            },
            "colorscale": [
             [
              0,
              "#0d0887"
             ],
             [
              0.1111111111111111,
              "#46039f"
             ],
             [
              0.2222222222222222,
              "#7201a8"
             ],
             [
              0.3333333333333333,
              "#9c179e"
             ],
             [
              0.4444444444444444,
              "#bd3786"
             ],
             [
              0.5555555555555556,
              "#d8576b"
             ],
             [
              0.6666666666666666,
              "#ed7953"
             ],
             [
              0.7777777777777778,
              "#fb9f3a"
             ],
             [
              0.8888888888888888,
              "#fdca26"
             ],
             [
              1,
              "#f0f921"
             ]
            ],
            "type": "histogram2d"
           }
          ],
          "histogram2dcontour": [
           {
            "colorbar": {
             "outlinewidth": 0,
             "ticks": ""
            },
            "colorscale": [
             [
              0,
              "#0d0887"
             ],
             [
              0.1111111111111111,
              "#46039f"
             ],
             [
              0.2222222222222222,
              "#7201a8"
             ],
             [
              0.3333333333333333,
              "#9c179e"
             ],
             [
              0.4444444444444444,
              "#bd3786"
             ],
             [
              0.5555555555555556,
              "#d8576b"
             ],
             [
              0.6666666666666666,
              "#ed7953"
             ],
             [
              0.7777777777777778,
              "#fb9f3a"
             ],
             [
              0.8888888888888888,
              "#fdca26"
             ],
             [
              1,
              "#f0f921"
             ]
            ],
            "type": "histogram2dcontour"
           }
          ],
          "mesh3d": [
           {
            "colorbar": {
             "outlinewidth": 0,
             "ticks": ""
            },
            "type": "mesh3d"
           }
          ],
          "parcoords": [
           {
            "line": {
             "colorbar": {
              "outlinewidth": 0,
              "ticks": ""
             }
            },
            "type": "parcoords"
           }
          ],
          "pie": [
           {
            "automargin": true,
            "type": "pie"
           }
          ],
          "scatter": [
           {
            "fillpattern": {
             "fillmode": "overlay",
             "size": 10,
             "solidity": 0.2
            },
            "type": "scatter"
           }
          ],
          "scatter3d": [
           {
            "line": {
             "colorbar": {
              "outlinewidth": 0,
              "ticks": ""
             }
            },
            "marker": {
             "colorbar": {
              "outlinewidth": 0,
              "ticks": ""
             }
            },
            "type": "scatter3d"
           }
          ],
          "scattercarpet": [
           {
            "marker": {
             "colorbar": {
              "outlinewidth": 0,
              "ticks": ""
             }
            },
            "type": "scattercarpet"
           }
          ],
          "scattergeo": [
           {
            "marker": {
             "colorbar": {
              "outlinewidth": 0,
              "ticks": ""
             }
            },
            "type": "scattergeo"
           }
          ],
          "scattergl": [
           {
            "marker": {
             "colorbar": {
              "outlinewidth": 0,
              "ticks": ""
             }
            },
            "type": "scattergl"
           }
          ],
          "scattermap": [
           {
            "marker": {
             "colorbar": {
              "outlinewidth": 0,
              "ticks": ""
             }
            },
            "type": "scattermap"
           }
          ],
          "scattermapbox": [
           {
            "marker": {
             "colorbar": {
              "outlinewidth": 0,
              "ticks": ""
             }
            },
            "type": "scattermapbox"
           }
          ],
          "scatterpolar": [
           {
            "marker": {
             "colorbar": {
              "outlinewidth": 0,
              "ticks": ""
             }
            },
            "type": "scatterpolar"
           }
          ],
          "scatterpolargl": [
           {
            "marker": {
             "colorbar": {
              "outlinewidth": 0,
              "ticks": ""
             }
            },
            "type": "scatterpolargl"
           }
          ],
          "scatterternary": [
           {
            "marker": {
             "colorbar": {
              "outlinewidth": 0,
              "ticks": ""
             }
            },
            "type": "scatterternary"
           }
          ],
          "surface": [
           {
            "colorbar": {
             "outlinewidth": 0,
             "ticks": ""
            },
            "colorscale": [
             [
              0,
              "#0d0887"
             ],
             [
              0.1111111111111111,
              "#46039f"
             ],
             [
              0.2222222222222222,
              "#7201a8"
             ],
             [
              0.3333333333333333,
              "#9c179e"
             ],
             [
              0.4444444444444444,
              "#bd3786"
             ],
             [
              0.5555555555555556,
              "#d8576b"
             ],
             [
              0.6666666666666666,
              "#ed7953"
             ],
             [
              0.7777777777777778,
              "#fb9f3a"
             ],
             [
              0.8888888888888888,
              "#fdca26"
             ],
             [
              1,
              "#f0f921"
             ]
            ],
            "type": "surface"
           }
          ],
          "table": [
           {
            "cells": {
             "fill": {
              "color": "#EBF0F8"
             },
             "line": {
              "color": "white"
             }
            },
            "header": {
             "fill": {
              "color": "#C8D4E3"
             },
             "line": {
              "color": "white"
             }
            },
            "type": "table"
           }
          ]
         },
         "layout": {
          "annotationdefaults": {
           "arrowcolor": "#2a3f5f",
           "arrowhead": 0,
           "arrowwidth": 1
          },
          "autotypenumbers": "strict",
          "coloraxis": {
           "colorbar": {
            "outlinewidth": 0,
            "ticks": ""
           }
          },
          "colorscale": {
           "diverging": [
            [
             0,
             "#8e0152"
            ],
            [
             0.1,
             "#c51b7d"
            ],
            [
             0.2,
             "#de77ae"
            ],
            [
             0.3,
             "#f1b6da"
            ],
            [
             0.4,
             "#fde0ef"
            ],
            [
             0.5,
             "#f7f7f7"
            ],
            [
             0.6,
             "#e6f5d0"
            ],
            [
             0.7,
             "#b8e186"
            ],
            [
             0.8,
             "#7fbc41"
            ],
            [
             0.9,
             "#4d9221"
            ],
            [
             1,
             "#276419"
            ]
           ],
           "sequential": [
            [
             0,
             "#0d0887"
            ],
            [
             0.1111111111111111,
             "#46039f"
            ],
            [
             0.2222222222222222,
             "#7201a8"
            ],
            [
             0.3333333333333333,
             "#9c179e"
            ],
            [
             0.4444444444444444,
             "#bd3786"
            ],
            [
             0.5555555555555556,
             "#d8576b"
            ],
            [
             0.6666666666666666,
             "#ed7953"
            ],
            [
             0.7777777777777778,
             "#fb9f3a"
            ],
            [
             0.8888888888888888,
             "#fdca26"
            ],
            [
             1,
             "#f0f921"
            ]
           ],
           "sequentialminus": [
            [
             0,
             "#0d0887"
            ],
            [
             0.1111111111111111,
             "#46039f"
            ],
            [
             0.2222222222222222,
             "#7201a8"
            ],
            [
             0.3333333333333333,
             "#9c179e"
            ],
            [
             0.4444444444444444,
             "#bd3786"
            ],
            [
             0.5555555555555556,
             "#d8576b"
            ],
            [
             0.6666666666666666,
             "#ed7953"
            ],
            [
             0.7777777777777778,
             "#fb9f3a"
            ],
            [
             0.8888888888888888,
             "#fdca26"
            ],
            [
             1,
             "#f0f921"
            ]
           ]
          },
          "colorway": [
           "#636efa",
           "#EF553B",
           "#00cc96",
           "#ab63fa",
           "#FFA15A",
           "#19d3f3",
           "#FF6692",
           "#B6E880",
           "#FF97FF",
           "#FECB52"
          ],
          "font": {
           "color": "#2a3f5f"
          },
          "geo": {
           "bgcolor": "white",
           "lakecolor": "white",
           "landcolor": "white",
           "showlakes": true,
           "showland": true,
           "subunitcolor": "#C8D4E3"
          },
          "hoverlabel": {
           "align": "left"
          },
          "hovermode": "closest",
          "mapbox": {
           "style": "light"
          },
          "paper_bgcolor": "white",
          "plot_bgcolor": "white",
          "polar": {
           "angularaxis": {
            "gridcolor": "#EBF0F8",
            "linecolor": "#EBF0F8",
            "ticks": ""
           },
           "bgcolor": "white",
           "radialaxis": {
            "gridcolor": "#EBF0F8",
            "linecolor": "#EBF0F8",
            "ticks": ""
           }
          },
          "scene": {
           "xaxis": {
            "backgroundcolor": "white",
            "gridcolor": "#DFE8F3",
            "gridwidth": 2,
            "linecolor": "#EBF0F8",
            "showbackground": true,
            "ticks": "",
            "zerolinecolor": "#EBF0F8"
           },
           "yaxis": {
            "backgroundcolor": "white",
            "gridcolor": "#DFE8F3",
            "gridwidth": 2,
            "linecolor": "#EBF0F8",
            "showbackground": true,
            "ticks": "",
            "zerolinecolor": "#EBF0F8"
           },
           "zaxis": {
            "backgroundcolor": "white",
            "gridcolor": "#DFE8F3",
            "gridwidth": 2,
            "linecolor": "#EBF0F8",
            "showbackground": true,
            "ticks": "",
            "zerolinecolor": "#EBF0F8"
           }
          },
          "shapedefaults": {
           "line": {
            "color": "#2a3f5f"
           }
          },
          "ternary": {
           "aaxis": {
            "gridcolor": "#DFE8F3",
            "linecolor": "#A2B1C6",
            "ticks": ""
           },
           "baxis": {
            "gridcolor": "#DFE8F3",
            "linecolor": "#A2B1C6",
            "ticks": ""
           },
           "bgcolor": "white",
           "caxis": {
            "gridcolor": "#DFE8F3",
            "linecolor": "#A2B1C6",
            "ticks": ""
           }
          },
          "title": {
           "x": 0.05
          },
          "xaxis": {
           "automargin": true,
           "gridcolor": "#EBF0F8",
           "linecolor": "#EBF0F8",
           "ticks": "",
           "title": {
            "standoff": 15
           },
           "zerolinecolor": "#EBF0F8",
           "zerolinewidth": 2
          },
          "yaxis": {
           "automargin": true,
           "gridcolor": "#EBF0F8",
           "linecolor": "#EBF0F8",
           "ticks": "",
           "title": {
            "standoff": 15
           },
           "zerolinecolor": "#EBF0F8",
           "zerolinewidth": 2
          }
         }
        },
        "title": {
         "text": "Market Share of Fuel Types Over Time"
        },
        "width": 850,
        "xaxis": {
         "anchor": "y",
         "domain": [
          0,
          1
         ],
         "title": {
          "text": "Year"
         }
        },
        "yaxis": {
         "anchor": "x",
         "domain": [
          0,
          1
         ],
         "title": {
          "text": "Market Share (%)"
         }
        }
       }
      }
     },
     "metadata": {},
     "output_type": "display_data"
    }
   ],
   "source": [
    "fuel_share = (\n",
    "    df.groupby([\"Year\", \"Fuel Group\"], as_index=False)[\"Registrations\"]\n",
    "      .sum()\n",
    ")\n",
    "\n",
    "fuel_share[\"MarketShare_%\"] = (\n",
    "    fuel_share.groupby(\"Year\")[\"Registrations\"]\n",
    "              .transform(lambda x: 100 * x / x.sum())\n",
    ")\n",
    "\n",
    "fuel_share.sort_values([\"Year\", \"MarketShare_%\"], ascending=[True, False])\n",
    "\n",
    "# --- Sort data for clarity ---\n",
    "fuel_share = fuel_share.sort_values([\"Year\", \"MarketShare_%\"], ascending=[True, False])\n",
    "\n",
    "# --- Line chart: each fuel group over time ---\n",
    "fig = px.line(\n",
    "    fuel_share,\n",
    "    x=\"Year\",\n",
    "    y=\"MarketShare_%\",\n",
    "    color=\"Fuel Group\",\n",
    "    markers=True,\n",
    "    title=\"Market Share of Fuel Types Over Time\",\n",
    "    color_discrete_sequence=px.colors.qualitative.Vivid\n",
    ")\n",
    "\n",
    "fig.update_layout(\n",
    "    xaxis_title=\"Year\",\n",
    "    yaxis_title=\"Market Share (%)\",\n",
    "    legend_title=\"Fuel Group\",\n",
    "    template=\"plotly_white\",\n",
    "    width=850,\n",
    "    height=500\n",
    ")\n",
    "\n",
    "# --- Save outputs ---\n",
    "fig.write_html(FIG_DIR / \"fuel_share_trends.html\")\n",
    "fig.write_image(FIG_DIR / \"fuel_share_trends.pdf\")\n",
    "\n",
    "fig.show()\n"
   ]
  },
  {
   "cell_type": "markdown",
   "id": "cbc60bcc",
   "metadata": {},
   "source": [
    "### 4.1.3 Market Share by Parent Country"
   ]
  },
  {
   "cell_type": "code",
   "execution_count": 433,
   "id": "b249ac00",
   "metadata": {},
   "outputs": [
    {
     "data": {
      "application/vnd.plotly.v1+json": {
       "config": {
        "plotlyServerURL": "https://plot.ly"
       },
       "data": [
        {
         "hovertemplate": "ParentCountry=Netherlands<br>Year=%{x}<br>MarketShare_%=%{y}<extra></extra>",
         "legendgroup": "Netherlands",
         "line": {
          "color": "rgb(229, 134, 6)",
          "dash": "solid"
         },
         "marker": {
          "symbol": "circle"
         },
         "mode": "lines+markers",
         "name": "Netherlands",
         "showlegend": true,
         "type": "scattergl",
         "x": {
          "bdata": "0AfRB9IH0wfUB9UH1gfXB9gH2QfaB9sH3AfdB94H3wfgB+EH4gfjB+QH5QfmB+cH6Ac=",
          "dtype": "i2"
         },
         "xaxis": "x",
         "y": {
          "bdata": "Z9HrewzmOUBWdv68E/o5QC8rCugd7TlAgRmMW2qsOUBD+21epXM5QMhl+lUZJDlAqeSLCH3aOEB4FqPSJZQ4QNjBy9X9XzhA8g7VGfQhOEBl0ZTw2743QBIufF0RXzdAMxU+AwDrNkByVr8HMng2QOMduTaV9TVAhJZx0WFcNUAL2nRnHsA0QL5y/NFB+DNAW1F/k+4pM0DuouvefXUyQFkD2H9Z1zFA8DMwbbQ1MUAOG5Pz+aUwQJYNjBhCDTBAQAcglsHnLkA=",
          "dtype": "f8"
         },
         "yaxis": "y"
        },
        {
         "hovertemplate": "ParentCountry=United States<br>Year=%{x}<br>MarketShare_%=%{y}<extra></extra>",
         "legendgroup": "United States",
         "line": {
          "color": "rgb(93, 105, 177)",
          "dash": "solid"
         },
         "marker": {
          "symbol": "circle"
         },
         "mode": "lines+markers",
         "name": "United States",
         "showlegend": true,
         "type": "scattergl",
         "x": {
          "bdata": "0AfRB9IH0wfUB9UH1gfXB9gH2QfaB9sH3AfdB94H3wfgB+EH4gfjB+QH5QfmB+cH6Ac=",
          "dtype": "i2"
         },
         "xaxis": "x",
         "y": {
          "bdata": "3Ua0ohe4NUDiUBn5PeE0QJZh5dcN9jNAwhV7Lu4JM0A+L1X6cCsyQB1w3/QpeTFA0dCHWu/9MEBrZyCjdLIwQGRMGyfFhDBAsvgm+9x5MEAa0xNiEFYwQCzAtUPlLzBALwXOEDgSMEB0iNkZrdcvQC11XJdLYS9ArBNESYfGLkDyxfL+7BUuQJlkRh7DUy1AMWGh/EqKLECE+K4fWtUrQM68PXXwXStAbuKk3DjMKkDMbktsJUwqQJLlmvMr8SlAam5CUJpYKUA=",
          "dtype": "f8"
         },
         "yaxis": "y"
        },
        {
         "hovertemplate": "ParentCountry=Japan<br>Year=%{x}<br>MarketShare_%=%{y}<extra></extra>",
         "legendgroup": "Japan",
         "line": {
          "color": "rgb(82, 188, 163)",
          "dash": "solid"
         },
         "marker": {
          "symbol": "circle"
         },
         "mode": "lines+markers",
         "name": "Japan",
         "showlegend": true,
         "type": "scattergl",
         "x": {
          "bdata": "0AfRB9IH0wfUB9UH1gfXB9gH2QfaB9sH3AfdB94H3wfgB+EH4gfjB+QH5QfmB+cH6Ac=",
          "dtype": "i2"
         },
         "xaxis": "x",
         "y": {
          "bdata": "ZMoVpHc7LUDB9jz1H/stQCZNoz4jqC5AvUPD9SyoL0Au40aTRlMwQOXKuPlyyjBAgmXEW3AzMUCp5aX2D18xQLUCievVmjFAVmrPyD2+MUC3n4C8G9sxQDjWi3Kz3jFA/r2dsy3ZMUBO+DXaLNMxQOYWsmCjzTFAKrRdWKzhMUAkwnRsj+sxQCqtyC8A/TFAwIv7hJAGMkDsZxlu9wEyQKkEqglxBTJAX/gWvfsGMkCJlPEAiA4yQBLTn+GiFjJAXT25LQMaMkA=",
          "dtype": "f8"
         },
         "yaxis": "y"
        },
        {
         "hovertemplate": "ParentCountry=Germany<br>Year=%{x}<br>MarketShare_%=%{y}<extra></extra>",
         "legendgroup": "Germany",
         "line": {
          "color": "rgb(153, 201, 69)",
          "dash": "solid"
         },
         "marker": {
          "symbol": "circle"
         },
         "mode": "lines+markers",
         "name": "Germany",
         "showlegend": true,
         "type": "scattergl",
         "x": {
          "bdata": "0AfRB9IH0wfUB9UH1gfXB9gH2QfaB9sH3AfdB94H3wfgB+EH4gfjB+QH5QfmB+cH6Ac=",
          "dtype": "i2"
         },
         "xaxis": "x",
         "y": {
          "bdata": "gz6uaUkOLEBeva7/f/stQIE+G5s/EDBAi3/wDDUlMUArsdlw1g8yQHPymvHdFjNAXrf+0isnNEAlZslFHAM1QM8jJPsZ3jVAA27yFaB7NkB/BZHkRFE3QIIiHlN4SThAk9q0zYtROUAchTA4ulQ6QNkRtPcIXTtAWQa/Y1NfPEA4G5Zk4FI9QOn2CMZwVj5A2WRVZbJeP0BLf3o+4BxAQAK4Yx1bbUBAGb1vSlW/QEDaCiMvrPJAQGAIenQFGUFA6zCR8bBDQUA=",
          "dtype": "f8"
         },
         "yaxis": "y"
        },
        {
         "hovertemplate": "ParentCountry=China<br>Year=%{x}<br>MarketShare_%=%{y}<extra></extra>",
         "legendgroup": "China",
         "line": {
          "color": "rgb(204, 97, 176)",
          "dash": "solid"
         },
         "marker": {
          "symbol": "circle"
         },
         "mode": "lines+markers",
         "name": "China",
         "showlegend": true,
         "type": "scattergl",
         "x": {
          "bdata": "0AfRB9IH0wfUB9UH1gfXB9gH2QfaB9sH3AfdB94H3wfgB+EH4gfjB+QH5QfmB+cH6Ac=",
          "dtype": "i2"
         },
         "xaxis": "x",
         "y": {
          "bdata": "zFsZtRH4IUDmFAZf0BYhQCQTyHaWGiBA8wkxCLwDHkBRN76s04kbQPUODBchhBhAQAktZexIFUAfyviX1BwTQJ14s1g8zxBAusB5WAN1DkBBfD8WXnQKQDtsGuSxFAdAOOjOf+4ZBEDUw90hqYQBQMcQpObb2/4/eZ+UC8Nl+z95h393neP4Pw07qrlK5/Y/LY4xcXxx9T/OSWScKJj0PwIqnS0EavQ/ipOuJ7Wz9D9x2Rkn7/31P9+/GmpoQ/g/kFSDwERV+z8=",
          "dtype": "f8"
         },
         "yaxis": "y"
        },
        {
         "hovertemplate": "ParentCountry=France<br>Year=%{x}<br>MarketShare_%=%{y}<extra></extra>",
         "legendgroup": "France",
         "line": {
          "color": "rgb(36, 121, 108)",
          "dash": "solid"
         },
         "marker": {
          "symbol": "circle"
         },
         "mode": "lines+markers",
         "name": "France",
         "showlegend": true,
         "type": "scattergl",
         "x": {
          "bdata": "0AfRB9IH0wfUB9UH1gfXB9gH2QfaB9sH3AfdB94H3wfgB+EH4gfjB+QH5QfmB+cH6Ac=",
          "dtype": "i2"
         },
         "xaxis": "x",
         "y": {
          "bdata": "8EB9XQrrFkD8e1HyCRYYQIwid4gwYxlAgbV0RzVQGkCACqb1aBkbQFcXvbdbnRtA4N5dFcaoG0A7TnDKBPsaQJUNjRlKXxpA2gD7/CuTGUAfz0ox9sUYQLPvXsOq5xdAnABa1TWkFkCEtAlq5UAVQN2i2mBJGxRAy95GAo4UE0D9B2NZIjISQJBGE+u9QxFAyNbdc+BkEEAdZwPsro8PQPlTzOcbqA5A4f2A4ZukDUDCHDdhIgoNQBVFUf1vwwxAuYJcH17DDEA=",
          "dtype": "f8"
         },
         "yaxis": "y"
        },
        {
         "hovertemplate": "ParentCountry=Sweden<br>Year=%{x}<br>MarketShare_%=%{y}<extra></extra>",
         "legendgroup": "Sweden",
         "line": {
          "color": "rgb(218, 165, 27)",
          "dash": "solid"
         },
         "marker": {
          "symbol": "circle"
         },
         "mode": "lines+markers",
         "name": "Sweden",
         "showlegend": true,
         "type": "scattergl",
         "x": {
          "bdata": "0AfRB9IH0wfUB9UH1gfXB9gH2QfaB9sH3AfdB94H3wfgB+EH4gfjB+QH5QfmB+cH6Ac=",
          "dtype": "i2"
         },
         "xaxis": "x",
         "y": {
          "bdata": "bJnAjySpDUCcMQ7WSUoMQG6rDZzTzQpAzZjx68FkCUAOvvJHUEYIQB6KLEdhqwdA/99TKQYIB0Amw6YTlIcGQH27lZaxDAZA5MNqvTXPBUDmOH8JoXMFQGk+bdNy8gRATAWpjXNLBEBlN7zuPJQDQNWu5wmX9wJApIGHgryFAkCmOPrDZB8CQPxWnfaizgFAozW0KRueAUDcjWOyNKgBQGQch15vywFAJTAq1zoeAkCj6zy5RU8CQJRy9OMhpgJAxwXKQqohA0A=",
          "dtype": "f8"
         },
         "yaxis": "y"
        },
        {
         "hovertemplate": "ParentCountry=United Kingdom<br>Year=%{x}<br>MarketShare_%=%{y}<extra></extra>",
         "legendgroup": "United Kingdom",
         "line": {
          "color": "rgb(47, 138, 196)",
          "dash": "solid"
         },
         "marker": {
          "symbol": "circle"
         },
         "mode": "lines+markers",
         "name": "United Kingdom",
         "showlegend": true,
         "type": "scattergl",
         "x": {
          "bdata": "0AfRB9IH0wfUB9UH1gfXB9gH2QfaB9sH3AfdB94H3wfgB+EH4gfjB+QH5QfmB+cH6Ac=",
          "dtype": "i2"
         },
         "xaxis": "x",
         "y": {
          "bdata": "Dl6loDqm/j9zvaEDpBn2PxSoPcuJZvA/28EHKgQa6j+l2HawVSHmP3qMkWjhm+M/wkVUzijn4T8bpg9+NVjnPwYqNG/0seY/fnA1yL5k5j/M9l+I++flP9dy6oIqyeU/QiCb3NKi5T9Ke8coJqblP6yy0GQABuY/tQPQI+7q5T9vCRuj8MblP4H+fLDZ/OU/NE6G/+8x5j9kPm7hLVzmPxLzZv1RlOY/eEzEOyiv5j/pXjfib9HmPyK9Wp6HreY/geuR0QaJ5j8=",
          "dtype": "f8"
         },
         "yaxis": "y"
        },
        {
         "hovertemplate": "ParentCountry=India<br>Year=%{x}<br>MarketShare_%=%{y}<extra></extra>",
         "legendgroup": "India",
         "line": {
          "color": "rgb(118, 78, 159)",
          "dash": "solid"
         },
         "marker": {
          "symbol": "circle"
         },
         "mode": "lines+markers",
         "name": "India",
         "showlegend": true,
         "type": "scattergl",
         "x": {
          "bdata": "0AfRB9IH0wfUB9UH1gfXB9gH2QfaB9sH3AfdB94H3wfgB+EH4gfjB+QH5QfmB+cH6Ac=",
          "dtype": "i2"
         },
         "xaxis": "x",
         "y": {
          "bdata": "A5s5C3V5+j+J9DpApjH9PwzQQL6BIgBAIyAJ8rSWAUAPlIzr3QYDQL/tmONtRQRASQDsblNKBUCOOBbsLGcGQKXfJR/x4wZAOwPO3dM9B0Dq/VLvOLgHQBx7QFvbJAhAZrmcho+/CEDhdN4t5nEJQCwOPOcTDQpAP3Tl0++9CkA/2hCjDtgLQNK5FwNrRQ1AEjXmuciJDkCf+wQA2rwPQP3VON42WxBAus5XHTi5EEAnGkl4A8IQQL78SsjntxBAKAJ2XYDIEEA=",
          "dtype": "f8"
         },
         "yaxis": "y"
        },
        {
         "hovertemplate": "ParentCountry=South Korea<br>Year=%{x}<br>MarketShare_%=%{y}<extra></extra>",
         "legendgroup": "South Korea",
         "line": {
          "color": "rgb(237, 100, 90)",
          "dash": "solid"
         },
         "marker": {
          "symbol": "circle"
         },
         "mode": "lines+markers",
         "name": "South Korea",
         "showlegend": true,
         "type": "scattergl",
         "x": {
          "bdata": "0AfRB9IH0wfUB9UH1gfXB9gH2QfaB9sH3AfdB94H3wfgB+EH4gfjB+QH5QfmB+cH6Ac=",
          "dtype": "i2"
         },
         "xaxis": "x",
         "y": {
          "bdata": "Ui11uCuf+D8s3ryYUDX7P2N3S1XgGP0/cm43ysBU/z991j0Stz8BQE6i3nZyagJAhLAjDy04A0C5toWdyjEDQD48nsK6hQNARt8ke9N+BEAIIQ6wvL4GQOQuVz2bSQhA3ZOgYPtZCkDsXITym5gMQMmhutQLvA5AToFYlGFlEEAaUH1qUW0RQCFUy1tElBJAblmDPZLDE0DoTiZeldIUQCqkmuBRjxVAigZzJoCFFkCJveW0Dt4XQBLyQkSKFxlA0UbecW07GkA=",
          "dtype": "f8"
         },
         "yaxis": "y"
        },
        {
         "hovertemplate": "ParentCountry=Russia<br>Year=%{x}<br>MarketShare_%=%{y}<extra></extra>",
         "legendgroup": "Russia",
         "line": {
          "color": "rgb(165, 170, 153)",
          "dash": "solid"
         },
         "marker": {
          "symbol": "circle"
         },
         "mode": "lines+markers",
         "name": "Russia",
         "showlegend": true,
         "type": "scattergl",
         "x": {
          "bdata": "0AfRB9IH0wfUB9UH1gfXB9gH2QfaB9sH3AfdB94H3wfgB+EH4gfjB+QH5QfmB+cH6Ac=",
          "dtype": "i2"
         },
         "xaxis": "x",
         "y": {
          "bdata": "AEMC97eJwj/2Igj37/u4P5pNngqQka4/+UO0T7FJoT8D2o6Ww9SSP1iAspzrfYU/1F87yKrHeD9NVGWCupp+P3JtiGpfbXc/CMIl9c7xcz/S9wNWKZNwPzVmIWktHWw/Qp+roY+daD9bzg/RrJRmP9nFtu2IpGY/fasVkqQoZj8+j54I/MJlP1Schq3uuWU/yG8p0JJkZT9R40HZtxFlP3AzdkOvU2U/bvKROybXZT9rLzDq2ZhmPy3aUk4DSGY/9VACup7xZT8=",
          "dtype": "f8"
         },
         "yaxis": "y"
        },
        {
         "hovertemplate": "ParentCountry=Serbia<br>Year=%{x}<br>MarketShare_%=%{y}<extra></extra>",
         "legendgroup": "Serbia",
         "line": {
          "color": "rgb(229, 134, 6)",
          "dash": "solid"
         },
         "marker": {
          "symbol": "circle"
         },
         "mode": "lines+markers",
         "name": "Serbia",
         "showlegend": true,
         "type": "scattergl",
         "x": {
          "bdata": "0AfRB9IH0wfUB9UH1gfXB9gH2QfaB9sH3AfdB94H3wfgB+EH4gfjB+QH5QfmB+cH6Ac=",
          "dtype": "i2"
         },
         "xaxis": "x",
         "y": {
          "bdata": "OyBrUOqCmT/hASYgh3qNP+1H4ph1G4A/y4tSKH8gcT8dzOPdBTdjPyn2aZz4c1U/nWL9g65MSD8kNR6GdV9LP+5tlvrBqUU/Gc1kgHd2Qj88iYhOxE8+P2Fnj8ci8jo/4hLxh/QLNz+1sbHv0R02P8tJrqhzXDY/N/H6vsxWNT8007ytjIE0P+5wr8uVXDQ/zoAhq7EnND+2YkXQnrQzP4Ra1M3bbTM/nN/2SIRdMz+YzWnNPOYzP3PMiL5pKDQ/t6fcKeJRMz8=",
          "dtype": "f8"
         },
         "yaxis": "y"
        },
        {
         "hovertemplate": "ParentCountry=Italy<br>Year=%{x}<br>MarketShare_%=%{y}<extra></extra>",
         "legendgroup": "Italy",
         "line": {
          "color": "rgb(93, 105, 177)",
          "dash": "solid"
         },
         "marker": {
          "symbol": "circle"
         },
         "mode": "lines+markers",
         "name": "Italy",
         "showlegend": true,
         "type": "scattergl",
         "x": {
          "bdata": "0AfRB9IH0wfUB9UH1gfXB9gH2QfaB9sH3AfdB94H3wfgB+EH4gfjB+QH5QfmB+cH6Ac=",
          "dtype": "i2"
         },
         "xaxis": "x",
         "y": {
          "bdata": "Zg5fepoJlD/3DFlxqu2UPyCMTULSEJY/9+jFEImtlz9Kz+9IAp2ZP1vWXy1YSps/C6/uoOvrnD+TmIcPrtGhP7ZFIadPgaI/yNJyvKLSoj9mXkQ3nbaiP6/O6rZE3aI/5DKXbF6Foz9N+8LhMaOkP08U8PNRtaU/aENsGRSspz+261xi57KpP2FQjeclPqs/Y4yN3fParD9O2ZLhDOWuP8xqKl+zbrA/Kre7pDtQsT8MhfXX1zuyP9NYlgQa07I/XPI5V5iGsz8=",
          "dtype": "f8"
         },
         "yaxis": "y"
        },
        {
         "hovertemplate": "ParentCountry=Malaysia<br>Year=%{x}<br>MarketShare_%=%{y}<extra></extra>",
         "legendgroup": "Malaysia",
         "line": {
          "color": "rgb(82, 188, 163)",
          "dash": "solid"
         },
         "marker": {
          "symbol": "circle"
         },
         "mode": "lines+markers",
         "name": "Malaysia",
         "showlegend": true,
         "type": "scattergl",
         "x": {
          "bdata": "0AfRB9IH0wfUB9UH1gfXB9gH2QfaB9sH3AfdB94H3wfgB+EH4gfjB+QH5QfmB+cH6Ac=",
          "dtype": "i2"
         },
         "xaxis": "x",
         "y": {
          "bdata": "ybDaIXyIiT+sU3CT4rWQPyDd5v2wXZM/rOVLFN/PlT+/QyJASZCXPwaAR4DWnZg/JSOUq55GmT+pniW8CfmZPz1u46rxS5o/iSzcUBR9mj/BaUR0xCWbP1cBoC5tSps/vdpFGf8Jmz8vMpbpa+2ZPxOLOwDS8Jc/Hki3Kr/clT+l71hbQtKTP8GC6Oju2JE/Y4mQx28lkD+vccYVTxKNP+1Klzg9yIo/tUBRdpN1iD/n4nF6tWWGP0+gvEt0R4Q/pIhiMdw6gj8=",
          "dtype": "f8"
         },
         "yaxis": "y"
        },
        {
         "hovertemplate": "ParentCountry=Poland<br>Year=%{x}<br>MarketShare_%=%{y}<extra></extra>",
         "legendgroup": "Poland",
         "line": {
          "color": "rgb(153, 201, 69)",
          "dash": "solid"
         },
         "marker": {
          "symbol": "circle"
         },
         "mode": "lines+markers",
         "name": "Poland",
         "showlegend": true,
         "type": "scattergl",
         "x": {
          "bdata": "0AfRB9IH0wfUB9UH1gfXB9gH2QfaB9sH3AfdB94H3wfgB+EH4gfjB+QH5QfmB+cH6Ac=",
          "dtype": "i2"
         },
         "xaxis": "x",
         "y": {
          "bdata": "j5bWWR/7cz9JwqAupVlqP2HxAu9kAV8/8rbyndfFUj/xQ3KtCCJEP35Mgkl6IDg/2Llqu1nFKz/5hZZ7GmszP/HvnM8umC8/tKT1F7h9Lj/C5RS4gRYoP6SWcSNThiQ/A90HuOQqIz945FHG9esjP4C5l2YJ2yY/ls20l3JvJz9Zh2trvBsnPxMkbNGI2SY/uNVxH3oBJz+UcqHZkUYoPxbxSfV3ESo/fCoB3eJmKz/4hbO0u6UsP+/0j8r1Syw/gsVazCdsLD8=",
          "dtype": "f8"
         },
         "yaxis": "y"
        },
        {
         "hovertemplate": "ParentCountry=Nash Research) — United Kingdom<br>Year=%{x}<br>MarketShare_%=%{y}<extra></extra>",
         "legendgroup": "Nash Research) — United Kingdom",
         "line": {
          "color": "rgb(204, 97, 176)",
          "dash": "solid"
         },
         "marker": {
          "symbol": "circle"
         },
         "mode": "lines+markers",
         "name": "Nash Research) — United Kingdom",
         "showlegend": true,
         "type": "scattergl",
         "x": {
          "bdata": "0AfRB9IH0wfUB9UH1gfXB9gH2QfaB9sH3AfdB94H3wfgB+EH4gfjB+QH5QfmB+cH6Ac=",
          "dtype": "i2"
         },
         "xaxis": "x",
         "y": {
          "bdata": "nKmxTnS1MD8YhskXw2IuP+2uSL4kFyw/HkDDCEmNKT+x2MqLxUUlP9EmoFZN5yI/ZNQw1vi8Hz/f/CuvR/IdP03mameTVxw/+tVPo9u8GT/0JQ6yzCETP6eVGqWQWg0/KCFS0uDnBT/5jHOiNtD8Pt3xxJsTvPc+COcWf+XM+T4igALpkdD5PlIrvmV4//k+lEqkqNZn9j5rPkWxQ3PvPhdMGiMqPu8++Zgk2wb87j56pIRXJsPuPt14r7W7SO4+Ve61LA257T4=",
          "dtype": "f8"
         },
         "yaxis": "y"
        },
        {
         "hovertemplate": "ParentCountry=Mecânica (off—road vehicles) — Portugal<br>Year=%{x}<br>MarketShare_%=%{y}<extra></extra>",
         "legendgroup": "Mecânica (off—road vehicles) — Portugal",
         "line": {
          "color": "rgb(36, 121, 108)",
          "dash": "solid"
         },
         "marker": {
          "symbol": "circle"
         },
         "mode": "lines+markers",
         "name": "Mecânica (off—road vehicles) — Portugal",
         "showlegend": true,
         "type": "scattergl",
         "x": {
          "bdata": "0AfRB9IH0wfUB9UH1gfXB9gH2QfaB9sH3AfdB94H3wfgB+EH4gfjB+QH5QfmB+cH6Ac=",
          "dtype": "i2"
         },
         "xaxis": "x",
         "y": {
          "bdata": "an4Kdi4QKT8TVx5u4t8nPzU1Vcj1uiU/OclI3Nm6IT+whWgS0rYgP4I+5XrN4Bc/G/4svzPYEj/f/CuvR/IdP03mameTVxw/2MAGkDf4GT9uyYFID1sZP0VuTgtqxBg/vc6mbfhOFD/RiWoihZUTP6768W6y4BQ/Il5xkbaQEz+bcPtw49wQP8DTLSGppxA/7zd7/uDNED9fWkTw6YIQP2z4pWIGmRA/ibrtXp0KET8Q9IgWVesQP3qCINcAqBA/X5mr7YiIED8=",
          "dtype": "f8"
         },
         "yaxis": "y"
        },
        {
         "hovertemplate": "ParentCountry=Taiwan<br>Year=%{x}<br>MarketShare_%=%{y}<extra></extra>",
         "legendgroup": "Taiwan",
         "line": {
          "color": "rgb(218, 165, 27)",
          "dash": "solid"
         },
         "marker": {
          "symbol": "circle"
         },
         "mode": "lines+markers",
         "name": "Taiwan",
         "showlegend": true,
         "type": "scattergl",
         "x": {
          "bdata": "0AfRB9IH0wfUB9UH1gfXB9gH2QfaB9sH3AfdB94H3wfgB+EH4gfjB+QH5QfmB+cH6Ac=",
          "dtype": "i2"
         },
         "xaxis": "x",
         "y": {
          "bdata": "XwddIzNhIj9OwZbS6echP7qOXSSBfSE/+YYj4CkpST9mlrVUrM1SPy9hfmZ1FFU/lZ7ba3qAVj+5DGILo1lfP5S4S82T4V0/HOTQUaTLXT/OB8JGNNBcPy6UwHPvsFs/1tv/0BSoWT9kzeUfSFNYP9b05FHa91c/eRwAuuynVj/UphEsNGFWPy9YRLHHEFc/3GtijUCeVj/b+wpPRstVP0bGZHsZtlU/Pil1YwakVT/kVIWw12lVPxij6AwB0lQ/5EJYSCoKVD8=",
          "dtype": "f8"
         },
         "yaxis": "y"
        },
        {
         "hovertemplate": "ParentCountry=Iveco Group N.V. — Italy<br>Year=%{x}<br>MarketShare_%=%{y}<extra></extra>",
         "legendgroup": "Iveco Group N.V. — Italy",
         "line": {
          "color": "rgb(47, 138, 196)",
          "dash": "solid"
         },
         "marker": {
          "symbol": "circle"
         },
         "mode": "lines+markers",
         "name": "Iveco Group N.V. — Italy",
         "showlegend": true,
         "type": "scattergl",
         "x": {
          "bdata": "0AfRB9IH0wfUB9UH1gfXB9gH2QfaB9sH3AfdB94H3wfgB+EH4gfjB+QH5QfmB+cH6Ac=",
          "dtype": "i2"
         },
         "xaxis": "x",
         "y": {
          "bdata": "1Al8hJmBGD+XU4L78kwdP+uZ3o/S9SA/rmRvhU13Jz+TQwjMKDUwP7zz/8aDRUQ/uanjWomURD/8WeczKE1DP1lSr/rihkI/LGUp+bmMQj/iN0H3uElBP/rg+8K8tTg/l925v+UwNj/rcK+PJc8zPz4arkYIoDI/ns9Y9E3zOz+Qohx9azVFPxsOMXaCEUg/HYdLjq4URz/Jk9e7uydFPxWWecfF5EQ/VE28sLZjQz92Z+SBd0FBPyofySE71UI/Vi7nMsXyQj8=",
          "dtype": "f8"
         },
         "yaxis": "y"
        },
        {
         "hovertemplate": "ParentCountry=Daimler—Puch heritage / CNH Industrial (tractors) — Austria<br>Year=%{x}<br>MarketShare_%=%{y}<extra></extra>",
         "legendgroup": "Daimler—Puch heritage / CNH Industrial (tractors) — Austria",
         "line": {
          "color": "rgb(118, 78, 159)",
          "dash": "solid"
         },
         "marker": {
          "symbol": "circle"
         },
         "mode": "lines+markers",
         "name": "Daimler—Puch heritage / CNH Industrial (tractors) — Austria",
         "showlegend": true,
         "type": "scattergl",
         "x": {
          "bdata": "0AfRB9IH0wfUB9UH1gfXB9gH2QfaB9sH3AfdB94H3wfgB+EH4gfjB+QH5QfmB+cH6Ac=",
          "dtype": "i2"
         },
         "xaxis": "x",
         "y": {
          "bdata": "nKmxTnS1ED8XITvfIjcMP1uNxXswrg0/gdueGtyvED/Mx8hYezgRP5IGcUAa4hY/kawHLorJGT/GXKXs2eEeP3l/RY1Lqh4/aETjNK4kHj9TQ3U1OUYdP1ErhmIm5Rw/1Gr/ZIJLHD/2hcJd8o8aP/aaTDsyXxo/v0hXY/o6Gj8CHHRodHAaP1IrvmV4/xk/bI11casBGj9123ojk7saPzMwno1zXBo/nHPrPRlOGz/dmXRkxy8ZP3J5FSSkahg/Vo7OL+lVGD8=",
          "dtype": "f8"
         },
         "yaxis": "y"
        },
        {
         "hovertemplate": "ParentCountry=Monaco<br>Year=%{x}<br>MarketShare_%=%{y}<extra></extra>",
         "legendgroup": "Monaco",
         "line": {
          "color": "rgb(237, 100, 90)",
          "dash": "solid"
         },
         "marker": {
          "symbol": "circle"
         },
         "mode": "lines+markers",
         "name": "Monaco",
         "showlegend": true,
         "type": "scattergl",
         "x": {
          "bdata": "0AfRB9IH0wfUB9UH1gfXB9gH2QfaB9sH3AfdB94H3wfgB+EH4gfjB+QH5QfmB+cH6Ac=",
          "dtype": "i2"
         },
         "xaxis": "x",
         "y": {
          "bdata": "Ldy1Su27+j4YhskXw2L+PuDmzde7cPk+IgCWLsEz/T5Cdg5lB138PkIetmSa2/s+ZNQw1vi87z6n/WDDtXX2PkGLMjhOTfY+ohAFrCl68z6tTAFMxXDyPpAbq/YXGfU+TWWc7Nyk+D5TDcNEp7X0PsVIPfz0GPU+bVISzOqj9D5Oxrfsq6b1PuhlBlmJv/Y+D5HntPya9T4DR8tOCqjzPhdMGiMqPu8++Zgk2wb87j7jlU8BF3XyPpAOss9Gr/M+PI2yBVbO9D4=",
          "dtype": "f8"
         },
         "yaxis": "y"
        },
        {
         "hovertemplate": "ParentCountry=Spain<br>Year=%{x}<br>MarketShare_%=%{y}<extra></extra>",
         "legendgroup": "Spain",
         "line": {
          "color": "rgb(165, 170, 153)",
          "dash": "solid"
         },
         "marker": {
          "symbol": "circle"
         },
         "mode": "lines+markers",
         "name": "Spain",
         "showlegend": true,
         "type": "scattergl",
         "x": {
          "bdata": "0AfRB9IH0wfUB9UH1gfXB9gH2QfaB9sH3AfdB94H3wfgB+EH4gfjB+QH5QfmB+cH6Ac=",
          "dtype": "i2"
         },
         "xaxis": "x",
         "y": {
          "bdata": "yZLOMZ7S8T4VvKymggv6Piht2uGMFAM/IgCWLsEz/T5Cdg5lB10MP7KWiMuz5BQ/S5+koLrNFz91vVM+2lQYP31DXtk/xBY/3/1OsdR9Fj9L7efS56oVPzqxFrStoxQ/x185dDf+FD+E1Jvao+gSP34DH0JRBRI/+OLOxS7FED+2cTDkPDoPP2pXYjCqcxA/an6+CgcBED+tpdKNV0UOP7mghqP6YBE/opakQdEjFD8Huws0MGsTPwIXVxS7yhE/0kgRV1F2ET8=",
          "dtype": "f8"
         },
         "yaxis": "y"
        },
        {
         "hovertemplate": "ParentCountry=Czech Republic<br>Year=%{x}<br>MarketShare_%=%{y}<extra></extra>",
         "legendgroup": "Czech Republic",
         "line": {
          "color": "rgb(229, 134, 6)",
          "dash": "solid"
         },
         "marker": {
          "symbol": "circle"
         },
         "mode": "lines+markers",
         "name": "Czech Republic",
         "showlegend": true,
         "type": "scattergl",
         "x": {
          "bdata": "0AfRB9IH0wfUB9UH1gfXB9gH2QfaB9sH3AfdB94H3wfgB+EH4gfjB+QH5QfmB+cH6Ac=",
          "dtype": "i2"
         },
         "xaxis": "x",
         "y": {
          "bdata": "Ldy1Su276j4R8o81QrT1PuuZ3o/S9fA+QknuJ8oH6T5Cdg5lB138PgL+hk5n1v8+2Llqu1nFCz8RPTk0IxMMPzQw+ggJQxA/mMUswdWIDz93QOglGUcKPzqxFrStowQ/QFrW+5FXAT/5jHOiNtD8PpliHwYofvk+KWAV7pEU+D556/nr2Xv2Pm7MxAKnD/E+lEqkqNZn5j7aiyk3wt7iPqwJFRyI/ug+gwNAZlBE8D7jlU8BF3XyPoqrjVF17fI+eprHFxwQ9D4=",
          "dtype": "f8"
         },
         "yaxis": "y"
        },
        {
         "hovertemplate": "ParentCountry=Daimler—Puch AG (historic) — Austria<br>Year=%{x}<br>MarketShare_%=%{y}<extra></extra>",
         "legendgroup": "Daimler—Puch AG (historic) — Austria",
         "line": {
          "color": "rgb(93, 105, 177)",
          "dash": "solid"
         },
         "marker": {
          "symbol": "circle"
         },
         "mode": "lines+markers",
         "name": "Daimler—Puch AG (historic) — Austria",
         "showlegend": true,
         "type": "scattergl",
         "x": {
          "bdata": "0AfRB9IH0wfUB9UH1gfXB9gH2QfaB9sH3AfdB94H3wfgB+EH4gfjB+QH5QfmB+cH6Ac=",
          "dtype": "i2"
         },
         "xaxis": "x",
         "y": {
          "bdata": "Ldy1Su276j4VvKymggvqPuDmzde7cPk+QknuJ8oH+T5dZQwyvU/4PkIetmSa2/s+S5+koLrN5z4LfnvNbLfyPnHoJar6ufA+t7lNRkqf8T6k1Zpuu4TxPomdMGeaWPI+cqnmBtlh6z67qdb5KJzlPsVIPfz0GOU+bVISzOqj5D76ezPuT/zjPlIrvmV4/9k+qjCXdz6b2T4iZTf0AinZPqwJFRyI/tg+x+C2FZ/J2D4uHWqsHpzYPrFgjMQvOtg+RFhevT3H1z4=",
          "dtype": "f8"
         },
         "yaxis": "y"
        },
        {
         "hovertemplate": "ParentCountry=China/Italy<br>Year=%{x}<br>MarketShare_%=%{y}<extra></extra>",
         "legendgroup": "China/Italy",
         "line": {
          "color": "rgb(82, 188, 163)",
          "dash": "solid"
         },
         "marker": {
          "symbol": "circle"
         },
         "mode": "lines+markers",
         "name": "China/Italy",
         "showlegend": true,
         "type": "scattergl",
         "x": {
          "bdata": "0AfRB9IH0wfUB9UH1gfXB9gH2QfaB9sH3AfdB94H3wfgB+EH4gfjB+QH5QfmB+cH6Ac=",
          "dtype": "i2"
         },
         "xaxis": "x",
         "y": {
          "bdata": "yZLOMZ7S4T4OKHPEAV3RPuuZ3o/S9dA+gdueGtyv0D6TQwjMKDXQPgL+hk5n1s8+ZNQw1vi83z7f/CuvR/LdPgEP7kpovN0+2MAGkDf42T4V4c6sO4HNPqeVGqWQWs0+NiwYwys1zT75jHOiNtDMPrELp6VGIcw+5m0YEDmFyz5NpUTov6XKPlIrvmV4/8k+qjCXdz6byT4iZTf0AinJPqwJFRyI/sg+x+C2FZ/JyD4uHWqsHpzIPrFgjMQvOsg+RFhevT3Hxz4=",
          "dtype": "f8"
         },
         "yaxis": "y"
        },
        {
         "hovertemplate": "ParentCountry=Austria<br>Year=%{x}<br>MarketShare_%=%{y}<extra></extra>",
         "legendgroup": "Austria",
         "line": {
          "color": "rgb(153, 201, 69)",
          "dash": "solid"
         },
         "marker": {
          "symbol": "circle"
         },
         "mode": "lines+markers",
         "name": "Austria",
         "showlegend": true,
         "type": "scattergl",
         "x": {
          "bdata": "0AfRB9IH0wfUB9UH1gfXB9gH2QfaB9sH3AfdB94H3wfgB+EH4gfjB+QH5QfmB+cH6Ac=",
          "dtype": "i2"
         },
         "xaxis": "x",
         "y": {
          "bdata": "yZLOMZ7S0T4AAAAAAAAAAAAAAAAAAAAAAAAAAAAAAAB4VAr/ckL0PoI+5XrN4Pc+ZNQw1vi87z6n/WDDtXX2PmHJ1C7BlfI+7WlPKlgd6D7yBDU3FNHpPk3syJrnhOs+3pi9neht8D7rcK+PJc/zPmcQEMfqN/Q+sEQPqkMz8T6lMa/v81HyPhPblj+rP/A+dfE38rqa8T7aiyk3wt7yPvMeL9Tx9vE++Zgk2wb87j4uHWqsHpzoPrFgjMQvOug+0QjgUJk87D4=",
          "dtype": "f8"
         },
         "yaxis": "y"
        },
        {
         "hovertemplate": "ParentCountry=Portugal<br>Year=%{x}<br>MarketShare_%=%{y}<extra></extra>",
         "legendgroup": "Portugal",
         "line": {
          "color": "rgb(204, 97, 176)",
          "dash": "solid"
         },
         "marker": {
          "symbol": "circle"
         },
         "mode": "lines+markers",
         "name": "Portugal",
         "showlegend": true,
         "type": "scattergl",
         "x": {
          "bdata": "0AfRB9IH0wfUB9UH1gfXB9gH2QfaB9sH3AfdB94H3wfgB+EH4gfjB+QH5QfmB+cH6Ac=",
          "dtype": "i2"
         },
         "xaxis": "x",
         "y": {
          "bdata": "yZLOMZ7S0T4AAAAAAAAAAAAAAAAAAAAAAAAAAAAAAAAAAAAAAAAAAAL+hk5n1s8+AAAAAAAAAADf/CuvR/LNPgAAAAAAAAAAAAAAAAAAAAAAAAAAAAAAAAAAAAAAAAAAAAAAAAAAAAAAAAAAAAAAAAAAAAAAAAAAAAAAAAAAAAAAAAAAAAAAAAAAAAAAAAAAAAAAAAAAAAAAAAAAAAAAAKwJFRyI/sg+x+C2FZ/JqD4AAAAAAAAAAAAAAAAAAAAAAAAAAAAAAAA=",
          "dtype": "f8"
         },
         "yaxis": "y"
        },
        {
         "hovertemplate": "ParentCountry=Belarus<br>Year=%{x}<br>MarketShare_%=%{y}<extra></extra>",
         "legendgroup": "Belarus",
         "line": {
          "color": "rgb(36, 121, 108)",
          "dash": "solid"
         },
         "marker": {
          "symbol": "circle"
         },
         "mode": "lines+markers",
         "name": "Belarus",
         "showlegend": true,
         "type": "scattergl",
         "x": {
          "bdata": "0AfRB9IH0wfUB9UH1gfXB9gH2QfaB9sH3AfdB94H3wfgB+EH4gfjB+QH5QfmB+cH6Ac=",
          "dtype": "i2"
         },
         "xaxis": "x",
         "y": {
          "bdata": "AAAAAAAAAAAAAAAAAAAAAAAAAAAAAAAAAAAAAAAAAAAAAAAAAAAAAAAAAAAAAAAAAAAAAAAAAAAAAAAAAAAAAAAAAAAAAAAAAAAAAAAAAAAAAAAAAAAAAAAAAAAAAAAAAAAAAAAAAAAAAAAAAAAAAAAAAAAAAAAAAAAAAAAAAAAAAAAAAAAAAAAAAAAAAAAAAAAAAAAAAAAAAAAAAAAAAAAAAAAAAAAAAAAAAAAAAAAAAAAAAAAAAAAAAAAAAAAAAAAAAAAAAAA=",
          "dtype": "f8"
         },
         "yaxis": "y"
        },
        {
         "hovertemplate": "ParentCountry=Canada<br>Year=%{x}<br>MarketShare_%=%{y}<extra></extra>",
         "legendgroup": "Canada",
         "line": {
          "color": "rgb(218, 165, 27)",
          "dash": "solid"
         },
         "marker": {
          "symbol": "circle"
         },
         "mode": "lines+markers",
         "name": "Canada",
         "showlegend": true,
         "type": "scattergl",
         "x": {
          "bdata": "0AfRB9IH0wfUB9UH1gfXB9gH2QfaB9sH3AfdB94H3wfgB+EH4gfjB+QH5QfmB+cH6Ac=",
          "dtype": "i2"
         },
         "xaxis": "x",
         "y": {
          "bdata": "AAAAAAAAAAAAAAAAAAAAAAAAAAAAAAAAAAAAAAAAAAAAAAAAAAAAAAAAAAAAAAAAZNQw1vi87z7f/CuvR/LtPgEP7kpovO0+Qg5yk9qx8D6k1Zpuu4TxPk3syJrnhOs+NiwYwys17T7JxZoMOp3uPsVIPfz0GOU+KWAV7pEU6D6jEDzrB1HXPhPblj+rP+A+dfE38rqa4T5+eLCV4gPmPhG5U5qfbuc+x+C2FZ/J6D5be6PBXBLnPrFgjMQvOug+RFhevT3H5z4=",
          "dtype": "f8"
         },
         "yaxis": "y"
        },
        {
         "hovertemplate": "ParentCountry=Daimler—Puch heritage — Austria<br>Year=%{x}<br>MarketShare_%=%{y}<extra></extra>",
         "legendgroup": "Daimler—Puch heritage — Austria",
         "line": {
          "color": "rgb(47, 138, 196)",
          "dash": "solid"
         },
         "marker": {
          "symbol": "circle"
         },
         "mode": "lines+markers",
         "name": "Daimler—Puch heritage — Austria",
         "showlegend": true,
         "type": "scattergl",
         "x": {
          "bdata": "0AfRB9IH0wfUB9UH1gfXB9gH2QfaB9sH3AfdB94H3wfgB+EH4gfjB+QH5QfmB+cH6Ac=",
          "dtype": "i2"
         },
         "xaxis": "x",
         "y": {
          "bdata": "AAAAAAAAAAAAAAAAAAAAAAAAAAAAAAAAAAAAAAAAAAAAAAAAAAAAAAAAAAAAAAAAAAAAAAAAAAAAAAAAAAAAAAAAAAAAAAAAAAAAAAAAAAAAAAAAAAAAAAAAAAAAAAAAAAAAAAAAAAD5jHOiNtC8PsVIPfz0GMU+5m0YEDmFyz72OU3ld/rdPp1IYt+AX+g+vxaKRqbO7D5fWkTw6YLwPinAsdfCFvU+j3GbV+rQAT9yKkDMe00GP7fDsEIB/Ag/izAfh+sBCj8=",
          "dtype": "f8"
         },
         "yaxis": "y"
        },
        {
         "hovertemplate": "ParentCountry=Fahr Group (SDF) — Italy<br>Year=%{x}<br>MarketShare_%=%{y}<extra></extra>",
         "legendgroup": "Fahr Group (SDF) — Italy",
         "line": {
          "color": "rgb(118, 78, 159)",
          "dash": "solid"
         },
         "marker": {
          "symbol": "circle"
         },
         "mode": "lines+markers",
         "name": "Fahr Group (SDF) — Italy",
         "showlegend": true,
         "type": "scattergl",
         "x": {
          "bdata": "0AfRB9IH0wfUB9UH1gfXB9gH2QfaB9sH3AfdB94H3wfgB+EH4gfjB+QH5QfmB+cH6Ac=",
          "dtype": "i2"
         },
         "xaxis": "x",
         "y": {
          "bdata": "AAAAAAAAAAAAAAAAAAAAAAAAAAAAAAAAAAAAAAAAAAAAAAAAAAAAAAAAAAAAAAAAAAAAAAAAAAAAAAAAAAAAAAAAAAAAAAAAAAAAAAAAAAAAAAAAAAAAAAAAAAAAAAAAAAAAAAAAAAAAAAAAAAAAAAAAAAAAAAAAAAAAAAAAAAAAAAAAAAAAAAAAAAAAAAAAAAAAAAAAAAAAAAAAAAAAAAAAAAAAAAAAAAAAAAAAAAAAAAAAAAAAAAAAAAAAAAAAAAAAAAAAAAA=",
          "dtype": "f8"
         },
         "yaxis": "y"
        },
        {
         "hovertemplate": "ParentCountry=Finland<br>Year=%{x}<br>MarketShare_%=%{y}<extra></extra>",
         "legendgroup": "Finland",
         "line": {
          "color": "rgb(237, 100, 90)",
          "dash": "solid"
         },
         "marker": {
          "symbol": "circle"
         },
         "mode": "lines+markers",
         "name": "Finland",
         "showlegend": true,
         "type": "scattergl",
         "x": {
          "bdata": "0AfRB9IH0wfUB9UH1gfXB9gH2QfaB9sH3AfdB94H3wfgB+EH4gfjB+QH5QfmB+cH6Ac=",
          "dtype": "i2"
         },
         "xaxis": "x",
         "y": {
          "bdata": "AAAAAAAAAAAAAAAAAAAAAAAAAAAAAAAAAAAAAAAAAAAAAAAAAAAAAAAAAAAAAAAAAAAAAAAAAAAAAAAAAAAAAAAAAAAAAAAAAAAAAAAAAAAAAAAAAAAAAAAAAAAAAAAAAAAAAAAAAAAAAAAAAAAAAAAAAAAAAAAAAAAAAAAAAAAAAAAAAAAAAAAAAAAAAAAAAAAAAAAAAAAAAAAAAAAAAAAAAAAAAAAAAAAAAAAAAAAAAAAAAAAAAAAAAAAAAAAAAAAAAAAAAAA=",
          "dtype": "f8"
         },
         "yaxis": "y"
        },
        {
         "hovertemplate": "ParentCountry=Italy/China<br>Year=%{x}<br>MarketShare_%=%{y}<extra></extra>",
         "legendgroup": "Italy/China",
         "line": {
          "color": "rgb(165, 170, 153)",
          "dash": "solid"
         },
         "marker": {
          "symbol": "circle"
         },
         "mode": "lines+markers",
         "name": "Italy/China",
         "showlegend": true,
         "type": "scattergl",
         "x": {
          "bdata": "0AfRB9IH0wfUB9UH1gfXB9gH2QfaB9sH3AfdB94H3wfgB+EH4gfjB+QH5QfmB+cH6Ac=",
          "dtype": "i2"
         },
         "xaxis": "x",
         "y": {
          "bdata": "AAAAAAAAAAAAAAAAAAAAAAAAAAAAAAAA8rbyndfFAj/PbY1LYlYaPwL+hk5n1g8/v4TehRvWAz89vohSSNgQP5m954O+8go/aETjNK4kDj+ik+h4SuMOP5zY4k3UOQk/EejNqC94Cj8mTZvz7sIIP1TTeXA8QAs/UIXWmtBeCT+NbWHp+mUJP6wc7Ch0zwo/tKMQX/I0Cz9123ojk7sKP0Za1p1wjgo/4Lxt+NLiCz/UYPeBoq8LP81PQjtHAww/0QjgUJk8DD8=",
          "dtype": "f8"
         },
         "yaxis": "y"
        },
        {
         "hovertemplate": "ParentCountry=Italy/Japan<br>Year=%{x}<br>MarketShare_%=%{y}<extra></extra>",
         "legendgroup": "Italy/Japan",
         "line": {
          "color": "rgb(229, 134, 6)",
          "dash": "solid"
         },
         "marker": {
          "symbol": "circle"
         },
         "mode": "lines+markers",
         "name": "Italy/Japan",
         "showlegend": true,
         "type": "scattergl",
         "x": {
          "bdata": "0AfRB9IH0wfUB9UH1gfXB9gH2QfaB9sH3AfdB94H3wfgB+EH4gfjB+QH5QfmB+cH6Ac=",
          "dtype": "i2"
         },
         "xaxis": "x",
         "y": {
          "bdata": "AAAAAAAAAAAAAAAAAAAAAAAAAAAAAAAAAAAAAAAAAAAAAAAAAAAAAAAAAAAAAAAAAAAAAAAAAAAAAAAAAAAAAAAAAAAAAAAAAAAAAAAAAAAAAAAAAAAAAAAAAAAAAAAANiwYwys1vT75jHOiNtDMPrELp6VGIaw+AAAAAAAAAAAAAAAAAAAAAAAAAAAAAAAAAAAAAAAAAAAAAAAAAAAAAAAAAAAAAAAAAAAAAAAAAAAAAAAAAAAAAAAAAAAAAAAAAAAAAAAAAAA=",
          "dtype": "f8"
         },
         "yaxis": "y"
        },
        {
         "hovertemplate": "ParentCountry=Italy/Spain<br>Year=%{x}<br>MarketShare_%=%{y}<extra></extra>",
         "legendgroup": "Italy/Spain",
         "line": {
          "color": "rgb(93, 105, 177)",
          "dash": "solid"
         },
         "marker": {
          "symbol": "circle"
         },
         "mode": "lines+markers",
         "name": "Italy/Spain",
         "showlegend": true,
         "type": "scattergl",
         "x": {
          "bdata": "0AfRB9IH0wfUB9UH1gfXB9gH2QfaB9sH3AfdB94H3wfgB+EH4gfjB+QH5QfmB+cH6Ac=",
          "dtype": "i2"
         },
         "xaxis": "x",
         "y": {
          "bdata": "AAAAAAAAAAAAAAAAAAAAAAAAAAAAAAAAAAAAAAAAAACTQwjMKDXgPgL+hk5n1s8+ZNQw1vi8zz7f/CuvR/LdPkGLMjhOTdY+rW51W/atzT7yBDU3FNHZPqeVGqWQWt0+rya1SoaO2T75jHOiNtDMPsVIPfz0GMU+bVISzOqjxD76ezPuT/zDPuhlBlmJv9Y+f2Sx2W404z5+eLCV4gPmPnZokhi33uU+opakQdEj5D7jlU8BF3XiPoVIadOjK+I+M8IGTm7V4T4=",
          "dtype": "f8"
         },
         "yaxis": "y"
        },
        {
         "hovertemplate": "ParentCountry=Norway<br>Year=%{x}<br>MarketShare_%=%{y}<extra></extra>",
         "legendgroup": "Norway",
         "line": {
          "color": "rgb(82, 188, 163)",
          "dash": "solid"
         },
         "marker": {
          "symbol": "circle"
         },
         "mode": "lines+markers",
         "name": "Norway",
         "showlegend": true,
         "type": "scattergl",
         "x": {
          "bdata": "0AfRB9IH0wfUB9UH1gfXB9gH2QfaB9sH3AfdB94H3wfgB+EH4gfjB+QH5QfmB+cH6Ac=",
          "dtype": "i2"
         },
         "xaxis": "x",
         "y": {
          "bdata": "AAAAAAAAAACPWrrg0XISP1IUHtqpOTE/FsAdvVhAMj+XPC84A+ItP8JeFJEA5iM/2Llqu1nF+z6OXdoASGUXP41ir1R56BQ/OtEpcj0sFD+B2Cd+24MUP0VuTgtqxBg/YIfB+VoDGj/yfhEZrk8YP/U/EClW9Bc/kSHyWeBsFD/6ezPuT/wTP32gTkyafxM/f2Sx2W40Ez+IFeYHMkwRP4W1pPuNmgg/u3JbJAU9Bz9be6PBXBIHPyNpMQmkVQY/t6fcKeJRAz8=",
          "dtype": "f8"
         },
         "yaxis": "y"
        },
        {
         "hovertemplate": "ParentCountry=Romania<br>Year=%{x}<br>MarketShare_%=%{y}<extra></extra>",
         "legendgroup": "Romania",
         "line": {
          "color": "rgb(153, 201, 69)",
          "dash": "solid"
         },
         "marker": {
          "symbol": "circle"
         },
         "mode": "lines+markers",
         "name": "Romania",
         "showlegend": true,
         "type": "scattergl",
         "x": {
          "bdata": "0AfRB9IH0wfUB9UH1gfXB9gH2QfaB9sH3AfdB94H3wfgB+EH4gfjB+QH5QfmB+cH6Ac=",
          "dtype": "i2"
         },
         "xaxis": "x",
         "y": {
          "bdata": "AAAAAAAAAAAAAAAAAAAAAAAAAAAAAAAAAAAAAAAAAAAAAAAAAAAAAAAAAAAAAAAAAAAAAAAAAAAAAAAAAAAAAAAAAAAAAAAAAAAAAAAAAAAAAAAAAAAAAAAAAAAAAAAAAAAAAAAAAAAAAAAAAAAAAAAAAAAAAAAAAAAAAAAAAAAAAAAAAAAAAAAAAAAAAAAAAAAAAAAAAAAAAAAAAAAAAAAAAAAAAAAAAAAAAAAAAAAuHWqsHpyoPrFgjMQvOsg+RFhevT3Hxz4=",
          "dtype": "f8"
         },
         "yaxis": "y"
        },
        {
         "hovertemplate": "ParentCountry=Slovenia<br>Year=%{x}<br>MarketShare_%=%{y}<extra></extra>",
         "legendgroup": "Slovenia",
         "line": {
          "color": "rgb(204, 97, 176)",
          "dash": "solid"
         },
         "marker": {
          "symbol": "circle"
         },
         "mode": "lines+markers",
         "name": "Slovenia",
         "showlegend": true,
         "type": "scattergl",
         "x": {
          "bdata": "0AfRB9IH0wfUB9UH1gfXB9gH2QfaB9sH3AfdB94H3wfgB+EH4gfjB+QH5QfmB+cH6Ac=",
          "dtype": "i2"
         },
         "xaxis": "x",
         "y": {
          "bdata": "AAAAAAAAAAAAAAAAAAAAAAAAAAAAAAAAAAAAAAAAAAAAAAAAAAAAAAAAAAAAAAAAAAAAAAAAAAAAAAAAAAAAAAAAAAAAAAAAAAAAAAAAAAAAAAAAAAAAAAAAAAAAAAAAAAAAAAAAAAAAAAAAAAAAAAAAAAAAAAAAAAAAAAAAAAAAAAAAAAAAAAAAAAAAAAAAAAAAAAAAAAAAAAAAAAAAAKwJFRyI/rg+x+C2FZ/J2D4uHWqsHpzYPrFgjMQvOtg+RFhevT3H1z4=",
          "dtype": "f8"
         },
         "yaxis": "y"
        },
        {
         "hovertemplate": "ParentCountry=Spain/Japan<br>Year=%{x}<br>MarketShare_%=%{y}<extra></extra>",
         "legendgroup": "Spain/Japan",
         "line": {
          "color": "rgb(36, 121, 108)",
          "dash": "solid"
         },
         "marker": {
          "symbol": "circle"
         },
         "mode": "lines+markers",
         "name": "Spain/Japan",
         "showlegend": true,
         "type": "scattergl",
         "x": {
          "bdata": "0AfRB9IH0wfUB9UH1gfXB9gH2QfaB9sH3AfdB94H3wfgB+EH4gfjB+QH5QfmB+cH6Ac=",
          "dtype": "i2"
         },
         "xaxis": "x",
         "y": {
          "bdata": "AAAAAAAAAAAAAAAAAAAAAOuZ3o/S9dA+AAAAAAAAAAAAAAAAAAAAAAAAAAAAAAAAAAAAAAAAAAAAAAAAAAAAAAAAAAAAAAAAAAAAAAAAAAAAAAAAAAAAAAAAAAAAAAAAAAAAAAAAAAAAAAAAAAAAAAAAAAAAAAAAAAAAAAAAAAAAAAAAAAAAAAAAAAAAAAAAAAAAAAAAAAAAAAAAAAAAAAAAAAAAAAAAAAAAAAAAAAAAAAAAAAAAAAAAAAAAAAAAAAAAAAAAAAA=",
          "dtype": "f8"
         },
         "yaxis": "y"
        },
        {
         "hovertemplate": "ParentCountry=Ton Motor Industry Co., Ltd. — Taiwan<br>Year=%{x}<br>MarketShare_%=%{y}<extra></extra>",
         "legendgroup": "Ton Motor Industry Co., Ltd. — Taiwan",
         "line": {
          "color": "rgb(218, 165, 27)",
          "dash": "solid"
         },
         "marker": {
          "symbol": "circle"
         },
         "mode": "lines+markers",
         "name": "Ton Motor Industry Co., Ltd. — Taiwan",
         "showlegend": true,
         "type": "scattergl",
         "x": {
          "bdata": "0AfRB9IH0wfUB9UH1gfXB9gH2QfaB9sH3AfdB94H3wfgB+EH4gfjB+QH5QfmB+cH6Ac=",
          "dtype": "i2"
         },
         "xaxis": "x",
         "y": {
          "bdata": "AAAAAAAAAAAAAAAAAAAAAAAAAAAAAAAAAAAAAAAAAAAAAAAAAAAAAAAAAAAAAAAAZNQw1vi8zz4AAAAAAAAAAAAAAAAAAAAAAAAAAAAAAAAAAAAAAAAAAAAAAAAAAAAAAAAAAAAAAAAAAAAAAAAAAAAAAAAAAAAAAAAAAAAAAAAAAAAAAAAAAAAAAAAAAAAAAAAAAAAAAAAAAAAAAAAAAAAAAAAAAAAAAAAAAAAAAAAAAAAAAAAAAAAAAAAAAAAAAAAAAAAAAAA=",
          "dtype": "f8"
         },
         "yaxis": "y"
        },
        {
         "hovertemplate": "ParentCountry=Turkey<br>Year=%{x}<br>MarketShare_%=%{y}<extra></extra>",
         "legendgroup": "Turkey",
         "line": {
          "color": "rgb(47, 138, 196)",
          "dash": "solid"
         },
         "marker": {
          "symbol": "circle"
         },
         "mode": "lines+markers",
         "name": "Turkey",
         "showlegend": true,
         "type": "scattergl",
         "x": {
          "bdata": "0AfRB9IH0wfUB9UH1gfXB9gH2QfaB9sH3AfdB94H3wfgB+EH4gfjB+QH5QfmB+cH6Ac=",
          "dtype": "i2"
         },
         "xaxis": "x",
         "y": {
          "bdata": "AAAAAAAAAAAAAAAAAAAAAAAAAAAAAAAAAAAAAAAAAACTQwjMKDXQPgL+hk5n1s8+ZNQw1vi8zz4AAAAAAAAAAAAAAAAAAAAAAAAAAAAAAAAAAAAAAAAAAAAAAAAAAAAAAAAAAAAAAAAAAAAAAAAAAAAAAAAAAAAAAAAAAAAAAAAAAAAAAAAAAAAAAAAAAAAAAAAAAAAAAAAAAAAAAAAAAAAAAAAAAAAAAAAAAAAAAAAAAAAAAAAAAAAAAAAAAAAAAAAAAAAAAAA=",
          "dtype": "f8"
         },
         "yaxis": "y"
        },
        {
         "hovertemplate": "ParentCountry=Ural / Dnepr (Soviet motorcycles) — Russia<br>Year=%{x}<br>MarketShare_%=%{y}<extra></extra>",
         "legendgroup": "Ural / Dnepr (Soviet motorcycles) — Russia",
         "line": {
          "color": "rgb(118, 78, 159)",
          "dash": "solid"
         },
         "marker": {
          "symbol": "circle"
         },
         "mode": "lines+markers",
         "name": "Ural / Dnepr (Soviet motorcycles) — Russia",
         "showlegend": true,
         "type": "scattergl",
         "x": {
          "bdata": "0AfRB9IH0wfUB9UH1gfXB9gH2QfaB9sH3AfdB94H3wfgB+EH4gfjB+QH5QfmB+cH6Ac=",
          "dtype": "i2"
         },
         "xaxis": "x",
         "y": {
          "bdata": "AAAAAAAAAAAAAAAAAAAAAAAAAAAAAAAAgdueGtyv0D4AAAAAAAAAAAAAAAAAAAAAAAAAAAAAAAAAAAAAAAAAAAAAAAAAAAAAAAAAAAAAAAAAAAAAAAAAAAAAAAAAAAAAAAAAAAAAAAAAAAAAAAAAAAAAAAAAAAAAAAAAAAAAAAAAAAAAAAAAAAAAAAAAAAAAAAAAAAAAAAAAAAAAAAAAAAAAAAAAAAAAAAAAAAAAAAAAAAAAAAAAAAAAAAAAAAAAAAAAAAAAAAA=",
          "dtype": "f8"
         },
         "yaxis": "y"
        },
        {
         "hovertemplate": "ParentCountry=built motorcycles) — China<br>Year=%{x}<br>MarketShare_%=%{y}<extra></extra>",
         "legendgroup": "built motorcycles) — China",
         "line": {
          "color": "rgb(237, 100, 90)",
          "dash": "solid"
         },
         "marker": {
          "symbol": "circle"
         },
         "mode": "lines+markers",
         "name": "built motorcycles) — China",
         "showlegend": true,
         "type": "scattergl",
         "x": {
          "bdata": "0AfRB9IH0wfUB9UH1gfXB9gH2QfaB9sH3AfdB94H3wfgB+EH4gfjB+QH5QfmB+cH6Ac=",
          "dtype": "i2"
         },
         "xaxis": "x",
         "y": {
          "bdata": "AAAAAAAAAAAAAAAAAAAAAAAAAAAAAAAAAAAAAAAAAAAAAAAAAAAAAAAAAAAAAAAAAAAAAAAAAAAAAAAAAAAAAAAAAAAAAAAAAAAAAAAAAAAAAAAAAAAAAAAAAAAAAAAAAAAAAAAAAAAAAAAAAAAAALELp6VGIbw+5m0YEDmFyz5NpUTov6XKPlIrvmV4/8k+qjCXdz6byT4iZTf0AinJPqwJFRyI/sg+x+C2FZ/JyD4uHWqsHpzIPrFgjMQvOsg+RFhevT3Hxz4=",
          "dtype": "f8"
         },
         "yaxis": "y"
        },
        {
         "hovertemplate": "ParentCountry=und Zweiradwerk GmbH (historic, revived) — Germany<br>Year=%{x}<br>MarketShare_%=%{y}<extra></extra>",
         "legendgroup": "und Zweiradwerk GmbH (historic, revived) — Germany",
         "line": {
          "color": "rgb(165, 170, 153)",
          "dash": "solid"
         },
         "marker": {
          "symbol": "circle"
         },
         "mode": "lines+markers",
         "name": "und Zweiradwerk GmbH (historic, revived) — Germany",
         "showlegend": true,
         "type": "scattergl",
         "x": {
          "bdata": "0AfRB9IH0wfUB9UH1gfXB9gH2QfaB9sH3AfdB94H3wfgB+EH4gfjB+QH5QfmB+cH6Ac=",
          "dtype": "i2"
         },
         "xaxis": "x",
         "y": {
          "bdata": "AAAAAAAAAAAOKHPEAV3RPuuZ3o/S9dA+gdueGtyv0D6TQwjMKDXgPgL+hk5n1t8+ZNQw1vi8zz7f/CuvR/LdPgEP7kpovN0+LGUp+bmM0j4AAAAAAAAAAAAAAAAAAAAAAAAAAAAAAAAAAAAAAAAAAAAAAAAAAAAAAAAAAAAAAAAAAAAAAAAAAAAAAAAAAAAAAAAAAAAAAAAAAAAAAAAAAAAAAAAAAAAAAAAAAAAAAAAuHWqsHpzIPrFgjMQvOsg+M8IGTm7VwT4=",
          "dtype": "f8"
         },
         "yaxis": "y"
        },
        {
         "hovertemplate": "ParentCountry=—<br>Year=%{x}<br>MarketShare_%=%{y}<extra></extra>",
         "legendgroup": "—",
         "line": {
          "color": "rgb(229, 134, 6)",
          "dash": "solid"
         },
         "marker": {
          "symbol": "circle"
         },
         "mode": "lines+markers",
         "name": "—",
         "showlegend": true,
         "type": "scattergl",
         "x": {
          "bdata": "0AfRB9IH0wfUB9UH1gfXB9gH2QfaB9sH3AfdB94H3wfgB+EH4gfjB+QH5QfmB+cH6Ac=",
          "dtype": "i2"
         },
         "xaxis": "x",
         "y": {
          "bdata": "AAAAAAAAAAAAAAAAAAAAAAAAAAAAAAAAAAAAAAAAAAAAAAAAAAAAAAAAAAAAAAAAAAAAAAAAAAAAAAAAAAAAAAAAAAAAAAAAAAAAAAAAAAAAAAAAAAAAAImdMGeaWNI+AAAAAAAAAAAAAAAAAAAAAAAAAAAAAAAAAAAAAAAAAAAAAAAAAAAAAAAAAAAAAAAAAAAAAAAAAAAAAAAAAAAAAAAAAAAAAAAAAAAAAAAAAAAAAAAAAAAAAAAAAAAAAAAAAAAAAAAAAAA=",
          "dtype": "f8"
         },
         "yaxis": "y"
        }
       ],
       "layout": {
        "height": 550,
        "legend": {
         "title": {
          "text": "Parent Country"
         },
         "tracegroupgap": 0
        },
        "template": {
         "data": {
          "bar": [
           {
            "error_x": {
             "color": "#2a3f5f"
            },
            "error_y": {
             "color": "#2a3f5f"
            },
            "marker": {
             "line": {
              "color": "white",
              "width": 0.5
             },
             "pattern": {
              "fillmode": "overlay",
              "size": 10,
              "solidity": 0.2
             }
            },
            "type": "bar"
           }
          ],
          "barpolar": [
           {
            "marker": {
             "line": {
              "color": "white",
              "width": 0.5
             },
             "pattern": {
              "fillmode": "overlay",
              "size": 10,
              "solidity": 0.2
             }
            },
            "type": "barpolar"
           }
          ],
          "carpet": [
           {
            "aaxis": {
             "endlinecolor": "#2a3f5f",
             "gridcolor": "#C8D4E3",
             "linecolor": "#C8D4E3",
             "minorgridcolor": "#C8D4E3",
             "startlinecolor": "#2a3f5f"
            },
            "baxis": {
             "endlinecolor": "#2a3f5f",
             "gridcolor": "#C8D4E3",
             "linecolor": "#C8D4E3",
             "minorgridcolor": "#C8D4E3",
             "startlinecolor": "#2a3f5f"
            },
            "type": "carpet"
           }
          ],
          "choropleth": [
           {
            "colorbar": {
             "outlinewidth": 0,
             "ticks": ""
            },
            "type": "choropleth"
           }
          ],
          "contour": [
           {
            "colorbar": {
             "outlinewidth": 0,
             "ticks": ""
            },
            "colorscale": [
             [
              0,
              "#0d0887"
             ],
             [
              0.1111111111111111,
              "#46039f"
             ],
             [
              0.2222222222222222,
              "#7201a8"
             ],
             [
              0.3333333333333333,
              "#9c179e"
             ],
             [
              0.4444444444444444,
              "#bd3786"
             ],
             [
              0.5555555555555556,
              "#d8576b"
             ],
             [
              0.6666666666666666,
              "#ed7953"
             ],
             [
              0.7777777777777778,
              "#fb9f3a"
             ],
             [
              0.8888888888888888,
              "#fdca26"
             ],
             [
              1,
              "#f0f921"
             ]
            ],
            "type": "contour"
           }
          ],
          "contourcarpet": [
           {
            "colorbar": {
             "outlinewidth": 0,
             "ticks": ""
            },
            "type": "contourcarpet"
           }
          ],
          "heatmap": [
           {
            "colorbar": {
             "outlinewidth": 0,
             "ticks": ""
            },
            "colorscale": [
             [
              0,
              "#0d0887"
             ],
             [
              0.1111111111111111,
              "#46039f"
             ],
             [
              0.2222222222222222,
              "#7201a8"
             ],
             [
              0.3333333333333333,
              "#9c179e"
             ],
             [
              0.4444444444444444,
              "#bd3786"
             ],
             [
              0.5555555555555556,
              "#d8576b"
             ],
             [
              0.6666666666666666,
              "#ed7953"
             ],
             [
              0.7777777777777778,
              "#fb9f3a"
             ],
             [
              0.8888888888888888,
              "#fdca26"
             ],
             [
              1,
              "#f0f921"
             ]
            ],
            "type": "heatmap"
           }
          ],
          "histogram": [
           {
            "marker": {
             "pattern": {
              "fillmode": "overlay",
              "size": 10,
              "solidity": 0.2
             }
            },
            "type": "histogram"
           }
          ],
          "histogram2d": [
           {
            "colorbar": {
             "outlinewidth": 0,
             "ticks": ""
            },
            "colorscale": [
             [
              0,
              "#0d0887"
             ],
             [
              0.1111111111111111,
              "#46039f"
             ],
             [
              0.2222222222222222,
              "#7201a8"
             ],
             [
              0.3333333333333333,
              "#9c179e"
             ],
             [
              0.4444444444444444,
              "#bd3786"
             ],
             [
              0.5555555555555556,
              "#d8576b"
             ],
             [
              0.6666666666666666,
              "#ed7953"
             ],
             [
              0.7777777777777778,
              "#fb9f3a"
             ],
             [
              0.8888888888888888,
              "#fdca26"
             ],
             [
              1,
              "#f0f921"
             ]
            ],
            "type": "histogram2d"
           }
          ],
          "histogram2dcontour": [
           {
            "colorbar": {
             "outlinewidth": 0,
             "ticks": ""
            },
            "colorscale": [
             [
              0,
              "#0d0887"
             ],
             [
              0.1111111111111111,
              "#46039f"
             ],
             [
              0.2222222222222222,
              "#7201a8"
             ],
             [
              0.3333333333333333,
              "#9c179e"
             ],
             [
              0.4444444444444444,
              "#bd3786"
             ],
             [
              0.5555555555555556,
              "#d8576b"
             ],
             [
              0.6666666666666666,
              "#ed7953"
             ],
             [
              0.7777777777777778,
              "#fb9f3a"
             ],
             [
              0.8888888888888888,
              "#fdca26"
             ],
             [
              1,
              "#f0f921"
             ]
            ],
            "type": "histogram2dcontour"
           }
          ],
          "mesh3d": [
           {
            "colorbar": {
             "outlinewidth": 0,
             "ticks": ""
            },
            "type": "mesh3d"
           }
          ],
          "parcoords": [
           {
            "line": {
             "colorbar": {
              "outlinewidth": 0,
              "ticks": ""
             }
            },
            "type": "parcoords"
           }
          ],
          "pie": [
           {
            "automargin": true,
            "type": "pie"
           }
          ],
          "scatter": [
           {
            "fillpattern": {
             "fillmode": "overlay",
             "size": 10,
             "solidity": 0.2
            },
            "type": "scatter"
           }
          ],
          "scatter3d": [
           {
            "line": {
             "colorbar": {
              "outlinewidth": 0,
              "ticks": ""
             }
            },
            "marker": {
             "colorbar": {
              "outlinewidth": 0,
              "ticks": ""
             }
            },
            "type": "scatter3d"
           }
          ],
          "scattercarpet": [
           {
            "marker": {
             "colorbar": {
              "outlinewidth": 0,
              "ticks": ""
             }
            },
            "type": "scattercarpet"
           }
          ],
          "scattergeo": [
           {
            "marker": {
             "colorbar": {
              "outlinewidth": 0,
              "ticks": ""
             }
            },
            "type": "scattergeo"
           }
          ],
          "scattergl": [
           {
            "marker": {
             "colorbar": {
              "outlinewidth": 0,
              "ticks": ""
             }
            },
            "type": "scattergl"
           }
          ],
          "scattermap": [
           {
            "marker": {
             "colorbar": {
              "outlinewidth": 0,
              "ticks": ""
             }
            },
            "type": "scattermap"
           }
          ],
          "scattermapbox": [
           {
            "marker": {
             "colorbar": {
              "outlinewidth": 0,
              "ticks": ""
             }
            },
            "type": "scattermapbox"
           }
          ],
          "scatterpolar": [
           {
            "marker": {
             "colorbar": {
              "outlinewidth": 0,
              "ticks": ""
             }
            },
            "type": "scatterpolar"
           }
          ],
          "scatterpolargl": [
           {
            "marker": {
             "colorbar": {
              "outlinewidth": 0,
              "ticks": ""
             }
            },
            "type": "scatterpolargl"
           }
          ],
          "scatterternary": [
           {
            "marker": {
             "colorbar": {
              "outlinewidth": 0,
              "ticks": ""
             }
            },
            "type": "scatterternary"
           }
          ],
          "surface": [
           {
            "colorbar": {
             "outlinewidth": 0,
             "ticks": ""
            },
            "colorscale": [
             [
              0,
              "#0d0887"
             ],
             [
              0.1111111111111111,
              "#46039f"
             ],
             [
              0.2222222222222222,
              "#7201a8"
             ],
             [
              0.3333333333333333,
              "#9c179e"
             ],
             [
              0.4444444444444444,
              "#bd3786"
             ],
             [
              0.5555555555555556,
              "#d8576b"
             ],
             [
              0.6666666666666666,
              "#ed7953"
             ],
             [
              0.7777777777777778,
              "#fb9f3a"
             ],
             [
              0.8888888888888888,
              "#fdca26"
             ],
             [
              1,
              "#f0f921"
             ]
            ],
            "type": "surface"
           }
          ],
          "table": [
           {
            "cells": {
             "fill": {
              "color": "#EBF0F8"
             },
             "line": {
              "color": "white"
             }
            },
            "header": {
             "fill": {
              "color": "#C8D4E3"
             },
             "line": {
              "color": "white"
             }
            },
            "type": "table"
           }
          ]
         },
         "layout": {
          "annotationdefaults": {
           "arrowcolor": "#2a3f5f",
           "arrowhead": 0,
           "arrowwidth": 1
          },
          "autotypenumbers": "strict",
          "coloraxis": {
           "colorbar": {
            "outlinewidth": 0,
            "ticks": ""
           }
          },
          "colorscale": {
           "diverging": [
            [
             0,
             "#8e0152"
            ],
            [
             0.1,
             "#c51b7d"
            ],
            [
             0.2,
             "#de77ae"
            ],
            [
             0.3,
             "#f1b6da"
            ],
            [
             0.4,
             "#fde0ef"
            ],
            [
             0.5,
             "#f7f7f7"
            ],
            [
             0.6,
             "#e6f5d0"
            ],
            [
             0.7,
             "#b8e186"
            ],
            [
             0.8,
             "#7fbc41"
            ],
            [
             0.9,
             "#4d9221"
            ],
            [
             1,
             "#276419"
            ]
           ],
           "sequential": [
            [
             0,
             "#0d0887"
            ],
            [
             0.1111111111111111,
             "#46039f"
            ],
            [
             0.2222222222222222,
             "#7201a8"
            ],
            [
             0.3333333333333333,
             "#9c179e"
            ],
            [
             0.4444444444444444,
             "#bd3786"
            ],
            [
             0.5555555555555556,
             "#d8576b"
            ],
            [
             0.6666666666666666,
             "#ed7953"
            ],
            [
             0.7777777777777778,
             "#fb9f3a"
            ],
            [
             0.8888888888888888,
             "#fdca26"
            ],
            [
             1,
             "#f0f921"
            ]
           ],
           "sequentialminus": [
            [
             0,
             "#0d0887"
            ],
            [
             0.1111111111111111,
             "#46039f"
            ],
            [
             0.2222222222222222,
             "#7201a8"
            ],
            [
             0.3333333333333333,
             "#9c179e"
            ],
            [
             0.4444444444444444,
             "#bd3786"
            ],
            [
             0.5555555555555556,
             "#d8576b"
            ],
            [
             0.6666666666666666,
             "#ed7953"
            ],
            [
             0.7777777777777778,
             "#fb9f3a"
            ],
            [
             0.8888888888888888,
             "#fdca26"
            ],
            [
             1,
             "#f0f921"
            ]
           ]
          },
          "colorway": [
           "#636efa",
           "#EF553B",
           "#00cc96",
           "#ab63fa",
           "#FFA15A",
           "#19d3f3",
           "#FF6692",
           "#B6E880",
           "#FF97FF",
           "#FECB52"
          ],
          "font": {
           "color": "#2a3f5f"
          },
          "geo": {
           "bgcolor": "white",
           "lakecolor": "white",
           "landcolor": "white",
           "showlakes": true,
           "showland": true,
           "subunitcolor": "#C8D4E3"
          },
          "hoverlabel": {
           "align": "left"
          },
          "hovermode": "closest",
          "mapbox": {
           "style": "light"
          },
          "paper_bgcolor": "white",
          "plot_bgcolor": "white",
          "polar": {
           "angularaxis": {
            "gridcolor": "#EBF0F8",
            "linecolor": "#EBF0F8",
            "ticks": ""
           },
           "bgcolor": "white",
           "radialaxis": {
            "gridcolor": "#EBF0F8",
            "linecolor": "#EBF0F8",
            "ticks": ""
           }
          },
          "scene": {
           "xaxis": {
            "backgroundcolor": "white",
            "gridcolor": "#DFE8F3",
            "gridwidth": 2,
            "linecolor": "#EBF0F8",
            "showbackground": true,
            "ticks": "",
            "zerolinecolor": "#EBF0F8"
           },
           "yaxis": {
            "backgroundcolor": "white",
            "gridcolor": "#DFE8F3",
            "gridwidth": 2,
            "linecolor": "#EBF0F8",
            "showbackground": true,
            "ticks": "",
            "zerolinecolor": "#EBF0F8"
           },
           "zaxis": {
            "backgroundcolor": "white",
            "gridcolor": "#DFE8F3",
            "gridwidth": 2,
            "linecolor": "#EBF0F8",
            "showbackground": true,
            "ticks": "",
            "zerolinecolor": "#EBF0F8"
           }
          },
          "shapedefaults": {
           "line": {
            "color": "#2a3f5f"
           }
          },
          "ternary": {
           "aaxis": {
            "gridcolor": "#DFE8F3",
            "linecolor": "#A2B1C6",
            "ticks": ""
           },
           "baxis": {
            "gridcolor": "#DFE8F3",
            "linecolor": "#A2B1C6",
            "ticks": ""
           },
           "bgcolor": "white",
           "caxis": {
            "gridcolor": "#DFE8F3",
            "linecolor": "#A2B1C6",
            "ticks": ""
           }
          },
          "title": {
           "x": 0.05
          },
          "xaxis": {
           "automargin": true,
           "gridcolor": "#EBF0F8",
           "linecolor": "#EBF0F8",
           "ticks": "",
           "title": {
            "standoff": 15
           },
           "zerolinecolor": "#EBF0F8",
           "zerolinewidth": 2
          },
          "yaxis": {
           "automargin": true,
           "gridcolor": "#EBF0F8",
           "linecolor": "#EBF0F8",
           "ticks": "",
           "title": {
            "standoff": 15
           },
           "zerolinecolor": "#EBF0F8",
           "zerolinewidth": 2
          }
         }
        },
        "title": {
         "text": "Market Share of Vehicle Registrations by Parent Country"
        },
        "width": 900,
        "xaxis": {
         "anchor": "y",
         "domain": [
          0,
          1
         ],
         "title": {
          "text": "Year"
         }
        },
        "yaxis": {
         "anchor": "x",
         "domain": [
          0,
          1
         ],
         "title": {
          "text": "Market Share (%)"
         }
        }
       }
      }
     },
     "metadata": {},
     "output_type": "display_data"
    }
   ],
   "source": [
    "country_share = (\n",
    "    df.groupby([\"Year\", \"ParentCountry\"], as_index=False)[\"Registrations\"]\n",
    "      .sum()\n",
    ")\n",
    "\n",
    "country_share[\"MarketShare_%\"] = (\n",
    "    country_share.groupby(\"Year\")[\"Registrations\"]\n",
    "                 .transform(lambda x: 100 * x / x.sum())\n",
    ")\n",
    "country_share.sort_values([\"Year\", \"MarketShare_%\"], ascending=[True, False])\n",
    "\n",
    "# --- Sort data for visual clarity ---\n",
    "country_share = country_share.sort_values([\"Year\", \"MarketShare_%\"], ascending=[True, False])\n",
    "\n",
    "# --- Line chart for market share trends ---\n",
    "fig = px.line(\n",
    "    country_share,\n",
    "    x=\"Year\",\n",
    "    y=\"MarketShare_%\",\n",
    "    color=\"ParentCountry\",\n",
    "    markers=True,\n",
    "    title=\"Market Share of Vehicle Registrations by Parent Country\",\n",
    "    color_discrete_sequence=px.colors.qualitative.Vivid\n",
    ")\n",
    "\n",
    "fig.update_layout(\n",
    "    xaxis_title=\"Year\",\n",
    "    yaxis_title=\"Market Share (%)\",\n",
    "    legend_title=\"Parent Country\",\n",
    "    template=\"plotly_white\",\n",
    "    width=900,\n",
    "    height=550\n",
    ")\n",
    "\n",
    "# --- Save outputs ---\n",
    "fig.write_image(FIG_DIR / \"country_share_trends.pdf\")\n",
    "\n",
    "fig.show()\n"
   ]
  },
  {
   "cell_type": "markdown",
   "id": "77e68458",
   "metadata": {},
   "source": [
    "### 4.1.4 Herfindahl–Hirschman Index (HHI) — Market Concentration by Year"
   ]
  },
  {
   "cell_type": "code",
   "execution_count": 434,
   "id": "d00ad5e2",
   "metadata": {},
   "outputs": [
    {
     "data": {
      "application/vnd.plotly.v1+json": {
       "config": {
        "plotlyServerURL": "https://plot.ly"
       },
       "data": [
        {
         "hovertemplate": "Year=%{x}<br>HHI_Index=%{y}<extra></extra>",
         "legendgroup": "",
         "line": {
          "color": "crimson",
          "dash": "solid"
         },
         "marker": {
          "symbol": "circle"
         },
         "mode": "lines+markers",
         "name": "",
         "orientation": "v",
         "showlegend": false,
         "type": "scatter",
         "x": {
          "bdata": "0AfRB9IH0wfUB9UH1gfXB9gH2QfaB9sH3AfdB94H3wfgB+EH4gfjB+QH5QfmB+cH6Ac=",
          "dtype": "i2"
         },
         "xaxis": "x",
         "y": {
          "bdata": "BRBiyGaexT+AVKssN6LFPzkPf0d/nMU/tzXJTbqRxT+7DpPJAo7FPyLdpxAgocU/5OGQUkzWxT9M8ZH72/jFP+gCwGe1QMY/0CPZLmluxj+cBz5HY57GP3MRVmcJ4MY/HTJQOP8mxz/rmjNAYnLHPyt2w6T8vMc/fD7JoIwHyD8nCqu+V0rIP1gZp4Cij8g/7Xw2pSbeyD/VvTEaCB/JPwBPml0RT8k/mu3qSguCyT99uSv2V5bJPwuSe+73msk/VMDq/BSgyT8=",
          "dtype": "f8"
         },
         "yaxis": "y"
        }
       ],
       "layout": {
        "height": 500,
        "legend": {
         "tracegroupgap": 0
        },
        "template": {
         "data": {
          "bar": [
           {
            "error_x": {
             "color": "#2a3f5f"
            },
            "error_y": {
             "color": "#2a3f5f"
            },
            "marker": {
             "line": {
              "color": "white",
              "width": 0.5
             },
             "pattern": {
              "fillmode": "overlay",
              "size": 10,
              "solidity": 0.2
             }
            },
            "type": "bar"
           }
          ],
          "barpolar": [
           {
            "marker": {
             "line": {
              "color": "white",
              "width": 0.5
             },
             "pattern": {
              "fillmode": "overlay",
              "size": 10,
              "solidity": 0.2
             }
            },
            "type": "barpolar"
           }
          ],
          "carpet": [
           {
            "aaxis": {
             "endlinecolor": "#2a3f5f",
             "gridcolor": "#C8D4E3",
             "linecolor": "#C8D4E3",
             "minorgridcolor": "#C8D4E3",
             "startlinecolor": "#2a3f5f"
            },
            "baxis": {
             "endlinecolor": "#2a3f5f",
             "gridcolor": "#C8D4E3",
             "linecolor": "#C8D4E3",
             "minorgridcolor": "#C8D4E3",
             "startlinecolor": "#2a3f5f"
            },
            "type": "carpet"
           }
          ],
          "choropleth": [
           {
            "colorbar": {
             "outlinewidth": 0,
             "ticks": ""
            },
            "type": "choropleth"
           }
          ],
          "contour": [
           {
            "colorbar": {
             "outlinewidth": 0,
             "ticks": ""
            },
            "colorscale": [
             [
              0,
              "#0d0887"
             ],
             [
              0.1111111111111111,
              "#46039f"
             ],
             [
              0.2222222222222222,
              "#7201a8"
             ],
             [
              0.3333333333333333,
              "#9c179e"
             ],
             [
              0.4444444444444444,
              "#bd3786"
             ],
             [
              0.5555555555555556,
              "#d8576b"
             ],
             [
              0.6666666666666666,
              "#ed7953"
             ],
             [
              0.7777777777777778,
              "#fb9f3a"
             ],
             [
              0.8888888888888888,
              "#fdca26"
             ],
             [
              1,
              "#f0f921"
             ]
            ],
            "type": "contour"
           }
          ],
          "contourcarpet": [
           {
            "colorbar": {
             "outlinewidth": 0,
             "ticks": ""
            },
            "type": "contourcarpet"
           }
          ],
          "heatmap": [
           {
            "colorbar": {
             "outlinewidth": 0,
             "ticks": ""
            },
            "colorscale": [
             [
              0,
              "#0d0887"
             ],
             [
              0.1111111111111111,
              "#46039f"
             ],
             [
              0.2222222222222222,
              "#7201a8"
             ],
             [
              0.3333333333333333,
              "#9c179e"
             ],
             [
              0.4444444444444444,
              "#bd3786"
             ],
             [
              0.5555555555555556,
              "#d8576b"
             ],
             [
              0.6666666666666666,
              "#ed7953"
             ],
             [
              0.7777777777777778,
              "#fb9f3a"
             ],
             [
              0.8888888888888888,
              "#fdca26"
             ],
             [
              1,
              "#f0f921"
             ]
            ],
            "type": "heatmap"
           }
          ],
          "histogram": [
           {
            "marker": {
             "pattern": {
              "fillmode": "overlay",
              "size": 10,
              "solidity": 0.2
             }
            },
            "type": "histogram"
           }
          ],
          "histogram2d": [
           {
            "colorbar": {
             "outlinewidth": 0,
             "ticks": ""
            },
            "colorscale": [
             [
              0,
              "#0d0887"
             ],
             [
              0.1111111111111111,
              "#46039f"
             ],
             [
              0.2222222222222222,
              "#7201a8"
             ],
             [
              0.3333333333333333,
              "#9c179e"
             ],
             [
              0.4444444444444444,
              "#bd3786"
             ],
             [
              0.5555555555555556,
              "#d8576b"
             ],
             [
              0.6666666666666666,
              "#ed7953"
             ],
             [
              0.7777777777777778,
              "#fb9f3a"
             ],
             [
              0.8888888888888888,
              "#fdca26"
             ],
             [
              1,
              "#f0f921"
             ]
            ],
            "type": "histogram2d"
           }
          ],
          "histogram2dcontour": [
           {
            "colorbar": {
             "outlinewidth": 0,
             "ticks": ""
            },
            "colorscale": [
             [
              0,
              "#0d0887"
             ],
             [
              0.1111111111111111,
              "#46039f"
             ],
             [
              0.2222222222222222,
              "#7201a8"
             ],
             [
              0.3333333333333333,
              "#9c179e"
             ],
             [
              0.4444444444444444,
              "#bd3786"
             ],
             [
              0.5555555555555556,
              "#d8576b"
             ],
             [
              0.6666666666666666,
              "#ed7953"
             ],
             [
              0.7777777777777778,
              "#fb9f3a"
             ],
             [
              0.8888888888888888,
              "#fdca26"
             ],
             [
              1,
              "#f0f921"
             ]
            ],
            "type": "histogram2dcontour"
           }
          ],
          "mesh3d": [
           {
            "colorbar": {
             "outlinewidth": 0,
             "ticks": ""
            },
            "type": "mesh3d"
           }
          ],
          "parcoords": [
           {
            "line": {
             "colorbar": {
              "outlinewidth": 0,
              "ticks": ""
             }
            },
            "type": "parcoords"
           }
          ],
          "pie": [
           {
            "automargin": true,
            "type": "pie"
           }
          ],
          "scatter": [
           {
            "fillpattern": {
             "fillmode": "overlay",
             "size": 10,
             "solidity": 0.2
            },
            "type": "scatter"
           }
          ],
          "scatter3d": [
           {
            "line": {
             "colorbar": {
              "outlinewidth": 0,
              "ticks": ""
             }
            },
            "marker": {
             "colorbar": {
              "outlinewidth": 0,
              "ticks": ""
             }
            },
            "type": "scatter3d"
           }
          ],
          "scattercarpet": [
           {
            "marker": {
             "colorbar": {
              "outlinewidth": 0,
              "ticks": ""
             }
            },
            "type": "scattercarpet"
           }
          ],
          "scattergeo": [
           {
            "marker": {
             "colorbar": {
              "outlinewidth": 0,
              "ticks": ""
             }
            },
            "type": "scattergeo"
           }
          ],
          "scattergl": [
           {
            "marker": {
             "colorbar": {
              "outlinewidth": 0,
              "ticks": ""
             }
            },
            "type": "scattergl"
           }
          ],
          "scattermap": [
           {
            "marker": {
             "colorbar": {
              "outlinewidth": 0,
              "ticks": ""
             }
            },
            "type": "scattermap"
           }
          ],
          "scattermapbox": [
           {
            "marker": {
             "colorbar": {
              "outlinewidth": 0,
              "ticks": ""
             }
            },
            "type": "scattermapbox"
           }
          ],
          "scatterpolar": [
           {
            "marker": {
             "colorbar": {
              "outlinewidth": 0,
              "ticks": ""
             }
            },
            "type": "scatterpolar"
           }
          ],
          "scatterpolargl": [
           {
            "marker": {
             "colorbar": {
              "outlinewidth": 0,
              "ticks": ""
             }
            },
            "type": "scatterpolargl"
           }
          ],
          "scatterternary": [
           {
            "marker": {
             "colorbar": {
              "outlinewidth": 0,
              "ticks": ""
             }
            },
            "type": "scatterternary"
           }
          ],
          "surface": [
           {
            "colorbar": {
             "outlinewidth": 0,
             "ticks": ""
            },
            "colorscale": [
             [
              0,
              "#0d0887"
             ],
             [
              0.1111111111111111,
              "#46039f"
             ],
             [
              0.2222222222222222,
              "#7201a8"
             ],
             [
              0.3333333333333333,
              "#9c179e"
             ],
             [
              0.4444444444444444,
              "#bd3786"
             ],
             [
              0.5555555555555556,
              "#d8576b"
             ],
             [
              0.6666666666666666,
              "#ed7953"
             ],
             [
              0.7777777777777778,
              "#fb9f3a"
             ],
             [
              0.8888888888888888,
              "#fdca26"
             ],
             [
              1,
              "#f0f921"
             ]
            ],
            "type": "surface"
           }
          ],
          "table": [
           {
            "cells": {
             "fill": {
              "color": "#EBF0F8"
             },
             "line": {
              "color": "white"
             }
            },
            "header": {
             "fill": {
              "color": "#C8D4E3"
             },
             "line": {
              "color": "white"
             }
            },
            "type": "table"
           }
          ]
         },
         "layout": {
          "annotationdefaults": {
           "arrowcolor": "#2a3f5f",
           "arrowhead": 0,
           "arrowwidth": 1
          },
          "autotypenumbers": "strict",
          "coloraxis": {
           "colorbar": {
            "outlinewidth": 0,
            "ticks": ""
           }
          },
          "colorscale": {
           "diverging": [
            [
             0,
             "#8e0152"
            ],
            [
             0.1,
             "#c51b7d"
            ],
            [
             0.2,
             "#de77ae"
            ],
            [
             0.3,
             "#f1b6da"
            ],
            [
             0.4,
             "#fde0ef"
            ],
            [
             0.5,
             "#f7f7f7"
            ],
            [
             0.6,
             "#e6f5d0"
            ],
            [
             0.7,
             "#b8e186"
            ],
            [
             0.8,
             "#7fbc41"
            ],
            [
             0.9,
             "#4d9221"
            ],
            [
             1,
             "#276419"
            ]
           ],
           "sequential": [
            [
             0,
             "#0d0887"
            ],
            [
             0.1111111111111111,
             "#46039f"
            ],
            [
             0.2222222222222222,
             "#7201a8"
            ],
            [
             0.3333333333333333,
             "#9c179e"
            ],
            [
             0.4444444444444444,
             "#bd3786"
            ],
            [
             0.5555555555555556,
             "#d8576b"
            ],
            [
             0.6666666666666666,
             "#ed7953"
            ],
            [
             0.7777777777777778,
             "#fb9f3a"
            ],
            [
             0.8888888888888888,
             "#fdca26"
            ],
            [
             1,
             "#f0f921"
            ]
           ],
           "sequentialminus": [
            [
             0,
             "#0d0887"
            ],
            [
             0.1111111111111111,
             "#46039f"
            ],
            [
             0.2222222222222222,
             "#7201a8"
            ],
            [
             0.3333333333333333,
             "#9c179e"
            ],
            [
             0.4444444444444444,
             "#bd3786"
            ],
            [
             0.5555555555555556,
             "#d8576b"
            ],
            [
             0.6666666666666666,
             "#ed7953"
            ],
            [
             0.7777777777777778,
             "#fb9f3a"
            ],
            [
             0.8888888888888888,
             "#fdca26"
            ],
            [
             1,
             "#f0f921"
            ]
           ]
          },
          "colorway": [
           "#636efa",
           "#EF553B",
           "#00cc96",
           "#ab63fa",
           "#FFA15A",
           "#19d3f3",
           "#FF6692",
           "#B6E880",
           "#FF97FF",
           "#FECB52"
          ],
          "font": {
           "color": "#2a3f5f"
          },
          "geo": {
           "bgcolor": "white",
           "lakecolor": "white",
           "landcolor": "white",
           "showlakes": true,
           "showland": true,
           "subunitcolor": "#C8D4E3"
          },
          "hoverlabel": {
           "align": "left"
          },
          "hovermode": "closest",
          "mapbox": {
           "style": "light"
          },
          "paper_bgcolor": "white",
          "plot_bgcolor": "white",
          "polar": {
           "angularaxis": {
            "gridcolor": "#EBF0F8",
            "linecolor": "#EBF0F8",
            "ticks": ""
           },
           "bgcolor": "white",
           "radialaxis": {
            "gridcolor": "#EBF0F8",
            "linecolor": "#EBF0F8",
            "ticks": ""
           }
          },
          "scene": {
           "xaxis": {
            "backgroundcolor": "white",
            "gridcolor": "#DFE8F3",
            "gridwidth": 2,
            "linecolor": "#EBF0F8",
            "showbackground": true,
            "ticks": "",
            "zerolinecolor": "#EBF0F8"
           },
           "yaxis": {
            "backgroundcolor": "white",
            "gridcolor": "#DFE8F3",
            "gridwidth": 2,
            "linecolor": "#EBF0F8",
            "showbackground": true,
            "ticks": "",
            "zerolinecolor": "#EBF0F8"
           },
           "zaxis": {
            "backgroundcolor": "white",
            "gridcolor": "#DFE8F3",
            "gridwidth": 2,
            "linecolor": "#EBF0F8",
            "showbackground": true,
            "ticks": "",
            "zerolinecolor": "#EBF0F8"
           }
          },
          "shapedefaults": {
           "line": {
            "color": "#2a3f5f"
           }
          },
          "ternary": {
           "aaxis": {
            "gridcolor": "#DFE8F3",
            "linecolor": "#A2B1C6",
            "ticks": ""
           },
           "baxis": {
            "gridcolor": "#DFE8F3",
            "linecolor": "#A2B1C6",
            "ticks": ""
           },
           "bgcolor": "white",
           "caxis": {
            "gridcolor": "#DFE8F3",
            "linecolor": "#A2B1C6",
            "ticks": ""
           }
          },
          "title": {
           "x": 0.05
          },
          "xaxis": {
           "automargin": true,
           "gridcolor": "#EBF0F8",
           "linecolor": "#EBF0F8",
           "ticks": "",
           "title": {
            "standoff": 15
           },
           "zerolinecolor": "#EBF0F8",
           "zerolinewidth": 2
          },
          "yaxis": {
           "automargin": true,
           "gridcolor": "#EBF0F8",
           "linecolor": "#EBF0F8",
           "ticks": "",
           "title": {
            "standoff": 15
           },
           "zerolinecolor": "#EBF0F8",
           "zerolinewidth": 2
          }
         }
        },
        "title": {
         "text": "Market Concentration (HHI Index) Over Time"
        },
        "width": 850,
        "xaxis": {
         "anchor": "y",
         "domain": [
          0,
          1
         ],
         "title": {
          "text": "Year"
         }
        },
        "yaxis": {
         "anchor": "x",
         "domain": [
          0,
          1
         ],
         "title": {
          "text": "HHI Index (0–1 scale)"
         }
        }
       }
      }
     },
     "metadata": {},
     "output_type": "display_data"
    }
   ],
   "source": [
    "# HHI = sum of squared market shares (%)\n",
    "hhi = (\n",
    "    country_share.groupby(\"Year\", as_index=False)[\"MarketShare_%\"]\n",
    "                 .apply(lambda x: (x**2).sum())\n",
    "                 .rename(columns={\"MarketShare_%\": \"HHI\"})\n",
    ")\n",
    "hhi[\"HHI_Index\"] = hhi[\"HHI\"] / 10000  # normalize to 0–1 range\n",
    "hhi\n",
    "\n",
    "\n",
    "# --- Calculate HHI ---\n",
    "hhi = (\n",
    "    country_share.groupby(\"Year\", as_index=False)[\"MarketShare_%\"]\n",
    "                 .apply(lambda x: (x**2).sum())\n",
    "                 .rename(columns={\"MarketShare_%\": \"HHI\"})\n",
    ")\n",
    "hhi[\"HHI_Index\"] = hhi[\"HHI\"] / 10000  # normalize to 0–1\n",
    "\n",
    "# --- Plot HHI over time ---\n",
    "fig = px.line(\n",
    "    hhi,\n",
    "    x=\"Year\",\n",
    "    y=\"HHI_Index\",\n",
    "    markers=True,\n",
    "    title=\"Market Concentration (HHI Index) Over Time\",\n",
    "    color_discrete_sequence=[\"crimson\"]\n",
    ")\n",
    "\n",
    "fig.update_layout(\n",
    "    xaxis_title=\"Year\",\n",
    "    yaxis_title=\"HHI Index (0–1 scale)\",\n",
    "    template=\"plotly_white\",\n",
    "    width=850,\n",
    "    height=500\n",
    ")\n",
    "\n",
    "# --- Save outputs ---\n",
    "fig.write_html(FIG_DIR / \"hhi_trend.html\")\n",
    "fig.write_image(FIG_DIR / \"hhi_trend.pdf\")\n",
    "\n",
    "fig.show()\n"
   ]
  },
  {
   "cell_type": "markdown",
   "id": "f88cb4fb",
   "metadata": {},
   "source": [
    "### 4.1.5 EV Penetration Over Time (Electric vs Total)"
   ]
  },
  {
   "cell_type": "code",
   "execution_count": 435,
   "id": "b2259f56",
   "metadata": {},
   "outputs": [
    {
     "data": {
      "application/vnd.plotly.v1+json": {
       "config": {
        "plotlyServerURL": "https://plot.ly"
       },
       "data": [
        {
         "hovertemplate": "Year=%{x}<br>EV_Share_%=%{y}<extra></extra>",
         "legendgroup": "",
         "line": {
          "color": "green",
          "dash": "solid"
         },
         "marker": {
          "symbol": "circle"
         },
         "mode": "lines+markers",
         "name": "",
         "orientation": "v",
         "showlegend": false,
         "type": "scatter",
         "x": {
          "bdata": "0AfRB9IH0wfUB9UH1gfXB9gH2QfaB9sH3AfdB94H3wfgB+EH4gfjB+QH5QfmB+cH6Ac=",
          "dtype": "i2"
         },
         "xaxis": "x",
         "y": {
          "bdata": "rJVVCXSrYz+9ZPfwnwB0PwdU4XQElHk/YjvIoPuDfz+9r2AzqHmLPyntVjS34KA//+XF85CasD+ALfDW39e9P2fjdGgi8MQ/koVY0AkPyT8z5UEpW5zQP/rQyyrTPdU/9CCctY872j8F+tD1kJPfPy4E8zbIleM/5pmIxRcf6T/lBV5GsgHwP6ZDQMikY/Q/gjnKgy7l+T+wXxocYy8AQAie3Bm8fQVAHgEbSNUkEEDJ1+GLEzYXQEvmFuB/kR9AYjaHoHjoJEA=",
          "dtype": "f8"
         },
         "yaxis": "y"
        }
       ],
       "layout": {
        "height": 500,
        "legend": {
         "tracegroupgap": 0
        },
        "template": {
         "data": {
          "bar": [
           {
            "error_x": {
             "color": "#2a3f5f"
            },
            "error_y": {
             "color": "#2a3f5f"
            },
            "marker": {
             "line": {
              "color": "white",
              "width": 0.5
             },
             "pattern": {
              "fillmode": "overlay",
              "size": 10,
              "solidity": 0.2
             }
            },
            "type": "bar"
           }
          ],
          "barpolar": [
           {
            "marker": {
             "line": {
              "color": "white",
              "width": 0.5
             },
             "pattern": {
              "fillmode": "overlay",
              "size": 10,
              "solidity": 0.2
             }
            },
            "type": "barpolar"
           }
          ],
          "carpet": [
           {
            "aaxis": {
             "endlinecolor": "#2a3f5f",
             "gridcolor": "#C8D4E3",
             "linecolor": "#C8D4E3",
             "minorgridcolor": "#C8D4E3",
             "startlinecolor": "#2a3f5f"
            },
            "baxis": {
             "endlinecolor": "#2a3f5f",
             "gridcolor": "#C8D4E3",
             "linecolor": "#C8D4E3",
             "minorgridcolor": "#C8D4E3",
             "startlinecolor": "#2a3f5f"
            },
            "type": "carpet"
           }
          ],
          "choropleth": [
           {
            "colorbar": {
             "outlinewidth": 0,
             "ticks": ""
            },
            "type": "choropleth"
           }
          ],
          "contour": [
           {
            "colorbar": {
             "outlinewidth": 0,
             "ticks": ""
            },
            "colorscale": [
             [
              0,
              "#0d0887"
             ],
             [
              0.1111111111111111,
              "#46039f"
             ],
             [
              0.2222222222222222,
              "#7201a8"
             ],
             [
              0.3333333333333333,
              "#9c179e"
             ],
             [
              0.4444444444444444,
              "#bd3786"
             ],
             [
              0.5555555555555556,
              "#d8576b"
             ],
             [
              0.6666666666666666,
              "#ed7953"
             ],
             [
              0.7777777777777778,
              "#fb9f3a"
             ],
             [
              0.8888888888888888,
              "#fdca26"
             ],
             [
              1,
              "#f0f921"
             ]
            ],
            "type": "contour"
           }
          ],
          "contourcarpet": [
           {
            "colorbar": {
             "outlinewidth": 0,
             "ticks": ""
            },
            "type": "contourcarpet"
           }
          ],
          "heatmap": [
           {
            "colorbar": {
             "outlinewidth": 0,
             "ticks": ""
            },
            "colorscale": [
             [
              0,
              "#0d0887"
             ],
             [
              0.1111111111111111,
              "#46039f"
             ],
             [
              0.2222222222222222,
              "#7201a8"
             ],
             [
              0.3333333333333333,
              "#9c179e"
             ],
             [
              0.4444444444444444,
              "#bd3786"
             ],
             [
              0.5555555555555556,
              "#d8576b"
             ],
             [
              0.6666666666666666,
              "#ed7953"
             ],
             [
              0.7777777777777778,
              "#fb9f3a"
             ],
             [
              0.8888888888888888,
              "#fdca26"
             ],
             [
              1,
              "#f0f921"
             ]
            ],
            "type": "heatmap"
           }
          ],
          "histogram": [
           {
            "marker": {
             "pattern": {
              "fillmode": "overlay",
              "size": 10,
              "solidity": 0.2
             }
            },
            "type": "histogram"
           }
          ],
          "histogram2d": [
           {
            "colorbar": {
             "outlinewidth": 0,
             "ticks": ""
            },
            "colorscale": [
             [
              0,
              "#0d0887"
             ],
             [
              0.1111111111111111,
              "#46039f"
             ],
             [
              0.2222222222222222,
              "#7201a8"
             ],
             [
              0.3333333333333333,
              "#9c179e"
             ],
             [
              0.4444444444444444,
              "#bd3786"
             ],
             [
              0.5555555555555556,
              "#d8576b"
             ],
             [
              0.6666666666666666,
              "#ed7953"
             ],
             [
              0.7777777777777778,
              "#fb9f3a"
             ],
             [
              0.8888888888888888,
              "#fdca26"
             ],
             [
              1,
              "#f0f921"
             ]
            ],
            "type": "histogram2d"
           }
          ],
          "histogram2dcontour": [
           {
            "colorbar": {
             "outlinewidth": 0,
             "ticks": ""
            },
            "colorscale": [
             [
              0,
              "#0d0887"
             ],
             [
              0.1111111111111111,
              "#46039f"
             ],
             [
              0.2222222222222222,
              "#7201a8"
             ],
             [
              0.3333333333333333,
              "#9c179e"
             ],
             [
              0.4444444444444444,
              "#bd3786"
             ],
             [
              0.5555555555555556,
              "#d8576b"
             ],
             [
              0.6666666666666666,
              "#ed7953"
             ],
             [
              0.7777777777777778,
              "#fb9f3a"
             ],
             [
              0.8888888888888888,
              "#fdca26"
             ],
             [
              1,
              "#f0f921"
             ]
            ],
            "type": "histogram2dcontour"
           }
          ],
          "mesh3d": [
           {
            "colorbar": {
             "outlinewidth": 0,
             "ticks": ""
            },
            "type": "mesh3d"
           }
          ],
          "parcoords": [
           {
            "line": {
             "colorbar": {
              "outlinewidth": 0,
              "ticks": ""
             }
            },
            "type": "parcoords"
           }
          ],
          "pie": [
           {
            "automargin": true,
            "type": "pie"
           }
          ],
          "scatter": [
           {
            "fillpattern": {
             "fillmode": "overlay",
             "size": 10,
             "solidity": 0.2
            },
            "type": "scatter"
           }
          ],
          "scatter3d": [
           {
            "line": {
             "colorbar": {
              "outlinewidth": 0,
              "ticks": ""
             }
            },
            "marker": {
             "colorbar": {
              "outlinewidth": 0,
              "ticks": ""
             }
            },
            "type": "scatter3d"
           }
          ],
          "scattercarpet": [
           {
            "marker": {
             "colorbar": {
              "outlinewidth": 0,
              "ticks": ""
             }
            },
            "type": "scattercarpet"
           }
          ],
          "scattergeo": [
           {
            "marker": {
             "colorbar": {
              "outlinewidth": 0,
              "ticks": ""
             }
            },
            "type": "scattergeo"
           }
          ],
          "scattergl": [
           {
            "marker": {
             "colorbar": {
              "outlinewidth": 0,
              "ticks": ""
             }
            },
            "type": "scattergl"
           }
          ],
          "scattermap": [
           {
            "marker": {
             "colorbar": {
              "outlinewidth": 0,
              "ticks": ""
             }
            },
            "type": "scattermap"
           }
          ],
          "scattermapbox": [
           {
            "marker": {
             "colorbar": {
              "outlinewidth": 0,
              "ticks": ""
             }
            },
            "type": "scattermapbox"
           }
          ],
          "scatterpolar": [
           {
            "marker": {
             "colorbar": {
              "outlinewidth": 0,
              "ticks": ""
             }
            },
            "type": "scatterpolar"
           }
          ],
          "scatterpolargl": [
           {
            "marker": {
             "colorbar": {
              "outlinewidth": 0,
              "ticks": ""
             }
            },
            "type": "scatterpolargl"
           }
          ],
          "scatterternary": [
           {
            "marker": {
             "colorbar": {
              "outlinewidth": 0,
              "ticks": ""
             }
            },
            "type": "scatterternary"
           }
          ],
          "surface": [
           {
            "colorbar": {
             "outlinewidth": 0,
             "ticks": ""
            },
            "colorscale": [
             [
              0,
              "#0d0887"
             ],
             [
              0.1111111111111111,
              "#46039f"
             ],
             [
              0.2222222222222222,
              "#7201a8"
             ],
             [
              0.3333333333333333,
              "#9c179e"
             ],
             [
              0.4444444444444444,
              "#bd3786"
             ],
             [
              0.5555555555555556,
              "#d8576b"
             ],
             [
              0.6666666666666666,
              "#ed7953"
             ],
             [
              0.7777777777777778,
              "#fb9f3a"
             ],
             [
              0.8888888888888888,
              "#fdca26"
             ],
             [
              1,
              "#f0f921"
             ]
            ],
            "type": "surface"
           }
          ],
          "table": [
           {
            "cells": {
             "fill": {
              "color": "#EBF0F8"
             },
             "line": {
              "color": "white"
             }
            },
            "header": {
             "fill": {
              "color": "#C8D4E3"
             },
             "line": {
              "color": "white"
             }
            },
            "type": "table"
           }
          ]
         },
         "layout": {
          "annotationdefaults": {
           "arrowcolor": "#2a3f5f",
           "arrowhead": 0,
           "arrowwidth": 1
          },
          "autotypenumbers": "strict",
          "coloraxis": {
           "colorbar": {
            "outlinewidth": 0,
            "ticks": ""
           }
          },
          "colorscale": {
           "diverging": [
            [
             0,
             "#8e0152"
            ],
            [
             0.1,
             "#c51b7d"
            ],
            [
             0.2,
             "#de77ae"
            ],
            [
             0.3,
             "#f1b6da"
            ],
            [
             0.4,
             "#fde0ef"
            ],
            [
             0.5,
             "#f7f7f7"
            ],
            [
             0.6,
             "#e6f5d0"
            ],
            [
             0.7,
             "#b8e186"
            ],
            [
             0.8,
             "#7fbc41"
            ],
            [
             0.9,
             "#4d9221"
            ],
            [
             1,
             "#276419"
            ]
           ],
           "sequential": [
            [
             0,
             "#0d0887"
            ],
            [
             0.1111111111111111,
             "#46039f"
            ],
            [
             0.2222222222222222,
             "#7201a8"
            ],
            [
             0.3333333333333333,
             "#9c179e"
            ],
            [
             0.4444444444444444,
             "#bd3786"
            ],
            [
             0.5555555555555556,
             "#d8576b"
            ],
            [
             0.6666666666666666,
             "#ed7953"
            ],
            [
             0.7777777777777778,
             "#fb9f3a"
            ],
            [
             0.8888888888888888,
             "#fdca26"
            ],
            [
             1,
             "#f0f921"
            ]
           ],
           "sequentialminus": [
            [
             0,
             "#0d0887"
            ],
            [
             0.1111111111111111,
             "#46039f"
            ],
            [
             0.2222222222222222,
             "#7201a8"
            ],
            [
             0.3333333333333333,
             "#9c179e"
            ],
            [
             0.4444444444444444,
             "#bd3786"
            ],
            [
             0.5555555555555556,
             "#d8576b"
            ],
            [
             0.6666666666666666,
             "#ed7953"
            ],
            [
             0.7777777777777778,
             "#fb9f3a"
            ],
            [
             0.8888888888888888,
             "#fdca26"
            ],
            [
             1,
             "#f0f921"
            ]
           ]
          },
          "colorway": [
           "#636efa",
           "#EF553B",
           "#00cc96",
           "#ab63fa",
           "#FFA15A",
           "#19d3f3",
           "#FF6692",
           "#B6E880",
           "#FF97FF",
           "#FECB52"
          ],
          "font": {
           "color": "#2a3f5f"
          },
          "geo": {
           "bgcolor": "white",
           "lakecolor": "white",
           "landcolor": "white",
           "showlakes": true,
           "showland": true,
           "subunitcolor": "#C8D4E3"
          },
          "hoverlabel": {
           "align": "left"
          },
          "hovermode": "closest",
          "mapbox": {
           "style": "light"
          },
          "paper_bgcolor": "white",
          "plot_bgcolor": "white",
          "polar": {
           "angularaxis": {
            "gridcolor": "#EBF0F8",
            "linecolor": "#EBF0F8",
            "ticks": ""
           },
           "bgcolor": "white",
           "radialaxis": {
            "gridcolor": "#EBF0F8",
            "linecolor": "#EBF0F8",
            "ticks": ""
           }
          },
          "scene": {
           "xaxis": {
            "backgroundcolor": "white",
            "gridcolor": "#DFE8F3",
            "gridwidth": 2,
            "linecolor": "#EBF0F8",
            "showbackground": true,
            "ticks": "",
            "zerolinecolor": "#EBF0F8"
           },
           "yaxis": {
            "backgroundcolor": "white",
            "gridcolor": "#DFE8F3",
            "gridwidth": 2,
            "linecolor": "#EBF0F8",
            "showbackground": true,
            "ticks": "",
            "zerolinecolor": "#EBF0F8"
           },
           "zaxis": {
            "backgroundcolor": "white",
            "gridcolor": "#DFE8F3",
            "gridwidth": 2,
            "linecolor": "#EBF0F8",
            "showbackground": true,
            "ticks": "",
            "zerolinecolor": "#EBF0F8"
           }
          },
          "shapedefaults": {
           "line": {
            "color": "#2a3f5f"
           }
          },
          "ternary": {
           "aaxis": {
            "gridcolor": "#DFE8F3",
            "linecolor": "#A2B1C6",
            "ticks": ""
           },
           "baxis": {
            "gridcolor": "#DFE8F3",
            "linecolor": "#A2B1C6",
            "ticks": ""
           },
           "bgcolor": "white",
           "caxis": {
            "gridcolor": "#DFE8F3",
            "linecolor": "#A2B1C6",
            "ticks": ""
           }
          },
          "title": {
           "x": 0.05
          },
          "xaxis": {
           "automargin": true,
           "gridcolor": "#EBF0F8",
           "linecolor": "#EBF0F8",
           "ticks": "",
           "title": {
            "standoff": 15
           },
           "zerolinecolor": "#EBF0F8",
           "zerolinewidth": 2
          },
          "yaxis": {
           "automargin": true,
           "gridcolor": "#EBF0F8",
           "linecolor": "#EBF0F8",
           "ticks": "",
           "title": {
            "standoff": 15
           },
           "zerolinecolor": "#EBF0F8",
           "zerolinewidth": 2
          }
         }
        },
        "title": {
         "text": "Electric Vehicle (EV) Penetration Over Time"
        },
        "width": 850,
        "xaxis": {
         "anchor": "y",
         "domain": [
          0,
          1
         ],
         "title": {
          "text": "Year"
         }
        },
        "yaxis": {
         "anchor": "x",
         "domain": [
          0,
          1
         ],
         "title": {
          "text": "EV Share (%)"
         }
        }
       }
      }
     },
     "metadata": {},
     "output_type": "display_data"
    }
   ],
   "source": [
    "ev_penetration = (\n",
    "    df.groupby([\"Year\", \"Fuel Group\"], as_index=False)[\"Registrations\"]\n",
    "      .sum()\n",
    "      .pivot(index=\"Year\", columns=\"Fuel Group\", values=\"Registrations\")\n",
    "      .fillna(0)\n",
    ")\n",
    "\n",
    "ev_penetration[\"EV_Share_%\"] = (\n",
    "    100 * ev_penetration[\"Electric\"] / ev_penetration.sum(axis=1)\n",
    ")\n",
    "ev_penetration = ev_penetration.reset_index()\n",
    "ev_penetration[[\"Year\", \"EV_Share_%\"]]\n",
    "\n",
    "# --- Compute EV share ---\n",
    "ev_penetration = (\n",
    "    df.groupby([\"Year\", \"Fuel Group\"], as_index=False)[\"Registrations\"]\n",
    "      .sum()\n",
    "      .pivot(index=\"Year\", columns=\"Fuel Group\", values=\"Registrations\")\n",
    "      .fillna(0)\n",
    ")\n",
    "\n",
    "ev_penetration[\"EV_Share_%\"] = (\n",
    "    100 * ev_penetration[\"Electric\"] / ev_penetration.sum(axis=1)\n",
    ")\n",
    "\n",
    "ev_penetration = ev_penetration.reset_index()[[\"Year\", \"EV_Share_%\"]]\n",
    "\n",
    "# --- Plot ---\n",
    "fig = px.line(\n",
    "    ev_penetration,\n",
    "    x=\"Year\",\n",
    "    y=\"EV_Share_%\",\n",
    "    markers=True,\n",
    "    title=\"Electric Vehicle (EV) Penetration Over Time\",\n",
    "    color_discrete_sequence=[\"green\"]\n",
    ")\n",
    "\n",
    "fig.update_layout(\n",
    "    xaxis_title=\"Year\",\n",
    "    yaxis_title=\"EV Share (%)\",\n",
    "    template=\"plotly_white\",\n",
    "    width=850,\n",
    "    height=500\n",
    ")\n",
    "\n",
    "# --- Save ---\n",
    "fig.write_image(FIG_DIR / \"ev_penetration.pdf\")\n",
    "\n",
    "fig.show()"
   ]
  },
  {
   "cell_type": "markdown",
   "id": "02af4317",
   "metadata": {},
   "source": [
    "### 4.1.6 Top Parent Countries by Market Share (Last Available Year)"
   ]
  },
  {
   "cell_type": "code",
   "execution_count": 436,
   "id": "99413277",
   "metadata": {},
   "outputs": [
    {
     "data": {
      "application/vnd.plotly.v1+json": {
       "config": {
        "plotlyServerURL": "https://plot.ly"
       },
       "data": [
        {
         "hovertemplate": "ParentCountry=%{x}<br>MarketShare_%=%{y}<br>text=%{text}<extra></extra>",
         "legendgroup": "Germany",
         "marker": {
          "color": "rgb(229, 134, 6)",
          "pattern": {
           "shape": ""
          }
         },
         "name": "Germany",
         "orientation": "v",
         "showlegend": true,
         "text": [
          "34.53%"
         ],
         "textposition": "outside",
         "type": "bar",
         "x": [
          "Germany"
         ],
         "xaxis": "x",
         "y": {
          "bdata": "6zCR8bBDQUA=",
          "dtype": "f8"
         },
         "yaxis": "y"
        },
        {
         "hovertemplate": "ParentCountry=%{x}<br>MarketShare_%=%{y}<br>text=%{text}<extra></extra>",
         "legendgroup": "Japan",
         "marker": {
          "color": "rgb(93, 105, 177)",
          "pattern": {
           "shape": ""
          }
         },
         "name": "Japan",
         "orientation": "v",
         "showlegend": true,
         "text": [
          "18.1%"
         ],
         "textposition": "outside",
         "type": "bar",
         "x": [
          "Japan"
         ],
         "xaxis": "x",
         "y": {
          "bdata": "XT25LQMaMkA=",
          "dtype": "f8"
         },
         "yaxis": "y"
        },
        {
         "hovertemplate": "ParentCountry=%{x}<br>MarketShare_%=%{y}<br>text=%{text}<extra></extra>",
         "legendgroup": "Netherlands",
         "marker": {
          "color": "rgb(82, 188, 163)",
          "pattern": {
           "shape": ""
          }
         },
         "name": "Netherlands",
         "orientation": "v",
         "showlegend": true,
         "text": [
          "15.45%"
         ],
         "textposition": "outside",
         "type": "bar",
         "x": [
          "Netherlands"
         ],
         "xaxis": "x",
         "y": {
          "bdata": "QAcglsHnLkA=",
          "dtype": "f8"
         },
         "yaxis": "y"
        },
        {
         "hovertemplate": "ParentCountry=%{x}<br>MarketShare_%=%{y}<br>text=%{text}<extra></extra>",
         "legendgroup": "United States",
         "marker": {
          "color": "rgb(153, 201, 69)",
          "pattern": {
           "shape": ""
          }
         },
         "name": "United States",
         "orientation": "v",
         "showlegend": true,
         "text": [
          "12.67%"
         ],
         "textposition": "outside",
         "type": "bar",
         "x": [
          "United States"
         ],
         "xaxis": "x",
         "y": {
          "bdata": "am5CUJpYKUA=",
          "dtype": "f8"
         },
         "yaxis": "y"
        },
        {
         "hovertemplate": "ParentCountry=%{x}<br>MarketShare_%=%{y}<br>text=%{text}<extra></extra>",
         "legendgroup": "South Korea",
         "marker": {
          "color": "rgb(204, 97, 176)",
          "pattern": {
           "shape": ""
          }
         },
         "name": "South Korea",
         "orientation": "v",
         "showlegend": true,
         "text": [
          "6.56%"
         ],
         "textposition": "outside",
         "type": "bar",
         "x": [
          "South Korea"
         ],
         "xaxis": "x",
         "y": {
          "bdata": "0UbecW07GkA=",
          "dtype": "f8"
         },
         "yaxis": "y"
        },
        {
         "hovertemplate": "ParentCountry=%{x}<br>MarketShare_%=%{y}<br>text=%{text}<extra></extra>",
         "legendgroup": "India",
         "marker": {
          "color": "rgb(36, 121, 108)",
          "pattern": {
           "shape": ""
          }
         },
         "name": "India",
         "orientation": "v",
         "showlegend": true,
         "text": [
          "4.2%"
         ],
         "textposition": "outside",
         "type": "bar",
         "x": [
          "India"
         ],
         "xaxis": "x",
         "y": {
          "bdata": "KAJ2XYDIEEA=",
          "dtype": "f8"
         },
         "yaxis": "y"
        },
        {
         "hovertemplate": "ParentCountry=%{x}<br>MarketShare_%=%{y}<br>text=%{text}<extra></extra>",
         "legendgroup": "France",
         "marker": {
          "color": "rgb(218, 165, 27)",
          "pattern": {
           "shape": ""
          }
         },
         "name": "France",
         "orientation": "v",
         "showlegend": true,
         "text": [
          "3.6%"
         ],
         "textposition": "outside",
         "type": "bar",
         "x": [
          "France"
         ],
         "xaxis": "x",
         "y": {
          "bdata": "uYJcH17DDEA=",
          "dtype": "f8"
         },
         "yaxis": "y"
        },
        {
         "hovertemplate": "ParentCountry=%{x}<br>MarketShare_%=%{y}<br>text=%{text}<extra></extra>",
         "legendgroup": "Sweden",
         "marker": {
          "color": "rgb(47, 138, 196)",
          "pattern": {
           "shape": ""
          }
         },
         "name": "Sweden",
         "orientation": "v",
         "showlegend": true,
         "text": [
          "2.39%"
         ],
         "textposition": "outside",
         "type": "bar",
         "x": [
          "Sweden"
         ],
         "xaxis": "x",
         "y": {
          "bdata": "xwXKQqohA0A=",
          "dtype": "f8"
         },
         "yaxis": "y"
        },
        {
         "hovertemplate": "ParentCountry=%{x}<br>MarketShare_%=%{y}<br>text=%{text}<extra></extra>",
         "legendgroup": "China",
         "marker": {
          "color": "rgb(118, 78, 159)",
          "pattern": {
           "shape": ""
          }
         },
         "name": "China",
         "orientation": "v",
         "showlegend": true,
         "text": [
          "1.71%"
         ],
         "textposition": "outside",
         "type": "bar",
         "x": [
          "China"
         ],
         "xaxis": "x",
         "y": {
          "bdata": "kFSDwERV+z8=",
          "dtype": "f8"
         },
         "yaxis": "y"
        },
        {
         "hovertemplate": "ParentCountry=%{x}<br>MarketShare_%=%{y}<br>text=%{text}<extra></extra>",
         "legendgroup": "United Kingdom",
         "marker": {
          "color": "rgb(237, 100, 90)",
          "pattern": {
           "shape": ""
          }
         },
         "name": "United Kingdom",
         "orientation": "v",
         "showlegend": true,
         "text": [
          "0.7%"
         ],
         "textposition": "outside",
         "type": "bar",
         "x": [
          "United Kingdom"
         ],
         "xaxis": "x",
         "y": {
          "bdata": "geuR0QaJ5j8=",
          "dtype": "f8"
         },
         "yaxis": "y"
        }
       ],
       "layout": {
        "barmode": "relative",
        "height": 500,
        "legend": {
         "title": {
          "text": "ParentCountry"
         },
         "tracegroupgap": 0
        },
        "showlegend": false,
        "template": {
         "data": {
          "bar": [
           {
            "error_x": {
             "color": "#2a3f5f"
            },
            "error_y": {
             "color": "#2a3f5f"
            },
            "marker": {
             "line": {
              "color": "white",
              "width": 0.5
             },
             "pattern": {
              "fillmode": "overlay",
              "size": 10,
              "solidity": 0.2
             }
            },
            "type": "bar"
           }
          ],
          "barpolar": [
           {
            "marker": {
             "line": {
              "color": "white",
              "width": 0.5
             },
             "pattern": {
              "fillmode": "overlay",
              "size": 10,
              "solidity": 0.2
             }
            },
            "type": "barpolar"
           }
          ],
          "carpet": [
           {
            "aaxis": {
             "endlinecolor": "#2a3f5f",
             "gridcolor": "#C8D4E3",
             "linecolor": "#C8D4E3",
             "minorgridcolor": "#C8D4E3",
             "startlinecolor": "#2a3f5f"
            },
            "baxis": {
             "endlinecolor": "#2a3f5f",
             "gridcolor": "#C8D4E3",
             "linecolor": "#C8D4E3",
             "minorgridcolor": "#C8D4E3",
             "startlinecolor": "#2a3f5f"
            },
            "type": "carpet"
           }
          ],
          "choropleth": [
           {
            "colorbar": {
             "outlinewidth": 0,
             "ticks": ""
            },
            "type": "choropleth"
           }
          ],
          "contour": [
           {
            "colorbar": {
             "outlinewidth": 0,
             "ticks": ""
            },
            "colorscale": [
             [
              0,
              "#0d0887"
             ],
             [
              0.1111111111111111,
              "#46039f"
             ],
             [
              0.2222222222222222,
              "#7201a8"
             ],
             [
              0.3333333333333333,
              "#9c179e"
             ],
             [
              0.4444444444444444,
              "#bd3786"
             ],
             [
              0.5555555555555556,
              "#d8576b"
             ],
             [
              0.6666666666666666,
              "#ed7953"
             ],
             [
              0.7777777777777778,
              "#fb9f3a"
             ],
             [
              0.8888888888888888,
              "#fdca26"
             ],
             [
              1,
              "#f0f921"
             ]
            ],
            "type": "contour"
           }
          ],
          "contourcarpet": [
           {
            "colorbar": {
             "outlinewidth": 0,
             "ticks": ""
            },
            "type": "contourcarpet"
           }
          ],
          "heatmap": [
           {
            "colorbar": {
             "outlinewidth": 0,
             "ticks": ""
            },
            "colorscale": [
             [
              0,
              "#0d0887"
             ],
             [
              0.1111111111111111,
              "#46039f"
             ],
             [
              0.2222222222222222,
              "#7201a8"
             ],
             [
              0.3333333333333333,
              "#9c179e"
             ],
             [
              0.4444444444444444,
              "#bd3786"
             ],
             [
              0.5555555555555556,
              "#d8576b"
             ],
             [
              0.6666666666666666,
              "#ed7953"
             ],
             [
              0.7777777777777778,
              "#fb9f3a"
             ],
             [
              0.8888888888888888,
              "#fdca26"
             ],
             [
              1,
              "#f0f921"
             ]
            ],
            "type": "heatmap"
           }
          ],
          "histogram": [
           {
            "marker": {
             "pattern": {
              "fillmode": "overlay",
              "size": 10,
              "solidity": 0.2
             }
            },
            "type": "histogram"
           }
          ],
          "histogram2d": [
           {
            "colorbar": {
             "outlinewidth": 0,
             "ticks": ""
            },
            "colorscale": [
             [
              0,
              "#0d0887"
             ],
             [
              0.1111111111111111,
              "#46039f"
             ],
             [
              0.2222222222222222,
              "#7201a8"
             ],
             [
              0.3333333333333333,
              "#9c179e"
             ],
             [
              0.4444444444444444,
              "#bd3786"
             ],
             [
              0.5555555555555556,
              "#d8576b"
             ],
             [
              0.6666666666666666,
              "#ed7953"
             ],
             [
              0.7777777777777778,
              "#fb9f3a"
             ],
             [
              0.8888888888888888,
              "#fdca26"
             ],
             [
              1,
              "#f0f921"
             ]
            ],
            "type": "histogram2d"
           }
          ],
          "histogram2dcontour": [
           {
            "colorbar": {
             "outlinewidth": 0,
             "ticks": ""
            },
            "colorscale": [
             [
              0,
              "#0d0887"
             ],
             [
              0.1111111111111111,
              "#46039f"
             ],
             [
              0.2222222222222222,
              "#7201a8"
             ],
             [
              0.3333333333333333,
              "#9c179e"
             ],
             [
              0.4444444444444444,
              "#bd3786"
             ],
             [
              0.5555555555555556,
              "#d8576b"
             ],
             [
              0.6666666666666666,
              "#ed7953"
             ],
             [
              0.7777777777777778,
              "#fb9f3a"
             ],
             [
              0.8888888888888888,
              "#fdca26"
             ],
             [
              1,
              "#f0f921"
             ]
            ],
            "type": "histogram2dcontour"
           }
          ],
          "mesh3d": [
           {
            "colorbar": {
             "outlinewidth": 0,
             "ticks": ""
            },
            "type": "mesh3d"
           }
          ],
          "parcoords": [
           {
            "line": {
             "colorbar": {
              "outlinewidth": 0,
              "ticks": ""
             }
            },
            "type": "parcoords"
           }
          ],
          "pie": [
           {
            "automargin": true,
            "type": "pie"
           }
          ],
          "scatter": [
           {
            "fillpattern": {
             "fillmode": "overlay",
             "size": 10,
             "solidity": 0.2
            },
            "type": "scatter"
           }
          ],
          "scatter3d": [
           {
            "line": {
             "colorbar": {
              "outlinewidth": 0,
              "ticks": ""
             }
            },
            "marker": {
             "colorbar": {
              "outlinewidth": 0,
              "ticks": ""
             }
            },
            "type": "scatter3d"
           }
          ],
          "scattercarpet": [
           {
            "marker": {
             "colorbar": {
              "outlinewidth": 0,
              "ticks": ""
             }
            },
            "type": "scattercarpet"
           }
          ],
          "scattergeo": [
           {
            "marker": {
             "colorbar": {
              "outlinewidth": 0,
              "ticks": ""
             }
            },
            "type": "scattergeo"
           }
          ],
          "scattergl": [
           {
            "marker": {
             "colorbar": {
              "outlinewidth": 0,
              "ticks": ""
             }
            },
            "type": "scattergl"
           }
          ],
          "scattermap": [
           {
            "marker": {
             "colorbar": {
              "outlinewidth": 0,
              "ticks": ""
             }
            },
            "type": "scattermap"
           }
          ],
          "scattermapbox": [
           {
            "marker": {
             "colorbar": {
              "outlinewidth": 0,
              "ticks": ""
             }
            },
            "type": "scattermapbox"
           }
          ],
          "scatterpolar": [
           {
            "marker": {
             "colorbar": {
              "outlinewidth": 0,
              "ticks": ""
             }
            },
            "type": "scatterpolar"
           }
          ],
          "scatterpolargl": [
           {
            "marker": {
             "colorbar": {
              "outlinewidth": 0,
              "ticks": ""
             }
            },
            "type": "scatterpolargl"
           }
          ],
          "scatterternary": [
           {
            "marker": {
             "colorbar": {
              "outlinewidth": 0,
              "ticks": ""
             }
            },
            "type": "scatterternary"
           }
          ],
          "surface": [
           {
            "colorbar": {
             "outlinewidth": 0,
             "ticks": ""
            },
            "colorscale": [
             [
              0,
              "#0d0887"
             ],
             [
              0.1111111111111111,
              "#46039f"
             ],
             [
              0.2222222222222222,
              "#7201a8"
             ],
             [
              0.3333333333333333,
              "#9c179e"
             ],
             [
              0.4444444444444444,
              "#bd3786"
             ],
             [
              0.5555555555555556,
              "#d8576b"
             ],
             [
              0.6666666666666666,
              "#ed7953"
             ],
             [
              0.7777777777777778,
              "#fb9f3a"
             ],
             [
              0.8888888888888888,
              "#fdca26"
             ],
             [
              1,
              "#f0f921"
             ]
            ],
            "type": "surface"
           }
          ],
          "table": [
           {
            "cells": {
             "fill": {
              "color": "#EBF0F8"
             },
             "line": {
              "color": "white"
             }
            },
            "header": {
             "fill": {
              "color": "#C8D4E3"
             },
             "line": {
              "color": "white"
             }
            },
            "type": "table"
           }
          ]
         },
         "layout": {
          "annotationdefaults": {
           "arrowcolor": "#2a3f5f",
           "arrowhead": 0,
           "arrowwidth": 1
          },
          "autotypenumbers": "strict",
          "coloraxis": {
           "colorbar": {
            "outlinewidth": 0,
            "ticks": ""
           }
          },
          "colorscale": {
           "diverging": [
            [
             0,
             "#8e0152"
            ],
            [
             0.1,
             "#c51b7d"
            ],
            [
             0.2,
             "#de77ae"
            ],
            [
             0.3,
             "#f1b6da"
            ],
            [
             0.4,
             "#fde0ef"
            ],
            [
             0.5,
             "#f7f7f7"
            ],
            [
             0.6,
             "#e6f5d0"
            ],
            [
             0.7,
             "#b8e186"
            ],
            [
             0.8,
             "#7fbc41"
            ],
            [
             0.9,
             "#4d9221"
            ],
            [
             1,
             "#276419"
            ]
           ],
           "sequential": [
            [
             0,
             "#0d0887"
            ],
            [
             0.1111111111111111,
             "#46039f"
            ],
            [
             0.2222222222222222,
             "#7201a8"
            ],
            [
             0.3333333333333333,
             "#9c179e"
            ],
            [
             0.4444444444444444,
             "#bd3786"
            ],
            [
             0.5555555555555556,
             "#d8576b"
            ],
            [
             0.6666666666666666,
             "#ed7953"
            ],
            [
             0.7777777777777778,
             "#fb9f3a"
            ],
            [
             0.8888888888888888,
             "#fdca26"
            ],
            [
             1,
             "#f0f921"
            ]
           ],
           "sequentialminus": [
            [
             0,
             "#0d0887"
            ],
            [
             0.1111111111111111,
             "#46039f"
            ],
            [
             0.2222222222222222,
             "#7201a8"
            ],
            [
             0.3333333333333333,
             "#9c179e"
            ],
            [
             0.4444444444444444,
             "#bd3786"
            ],
            [
             0.5555555555555556,
             "#d8576b"
            ],
            [
             0.6666666666666666,
             "#ed7953"
            ],
            [
             0.7777777777777778,
             "#fb9f3a"
            ],
            [
             0.8888888888888888,
             "#fdca26"
            ],
            [
             1,
             "#f0f921"
            ]
           ]
          },
          "colorway": [
           "#636efa",
           "#EF553B",
           "#00cc96",
           "#ab63fa",
           "#FFA15A",
           "#19d3f3",
           "#FF6692",
           "#B6E880",
           "#FF97FF",
           "#FECB52"
          ],
          "font": {
           "color": "#2a3f5f"
          },
          "geo": {
           "bgcolor": "white",
           "lakecolor": "white",
           "landcolor": "white",
           "showlakes": true,
           "showland": true,
           "subunitcolor": "#C8D4E3"
          },
          "hoverlabel": {
           "align": "left"
          },
          "hovermode": "closest",
          "mapbox": {
           "style": "light"
          },
          "paper_bgcolor": "white",
          "plot_bgcolor": "white",
          "polar": {
           "angularaxis": {
            "gridcolor": "#EBF0F8",
            "linecolor": "#EBF0F8",
            "ticks": ""
           },
           "bgcolor": "white",
           "radialaxis": {
            "gridcolor": "#EBF0F8",
            "linecolor": "#EBF0F8",
            "ticks": ""
           }
          },
          "scene": {
           "xaxis": {
            "backgroundcolor": "white",
            "gridcolor": "#DFE8F3",
            "gridwidth": 2,
            "linecolor": "#EBF0F8",
            "showbackground": true,
            "ticks": "",
            "zerolinecolor": "#EBF0F8"
           },
           "yaxis": {
            "backgroundcolor": "white",
            "gridcolor": "#DFE8F3",
            "gridwidth": 2,
            "linecolor": "#EBF0F8",
            "showbackground": true,
            "ticks": "",
            "zerolinecolor": "#EBF0F8"
           },
           "zaxis": {
            "backgroundcolor": "white",
            "gridcolor": "#DFE8F3",
            "gridwidth": 2,
            "linecolor": "#EBF0F8",
            "showbackground": true,
            "ticks": "",
            "zerolinecolor": "#EBF0F8"
           }
          },
          "shapedefaults": {
           "line": {
            "color": "#2a3f5f"
           }
          },
          "ternary": {
           "aaxis": {
            "gridcolor": "#DFE8F3",
            "linecolor": "#A2B1C6",
            "ticks": ""
           },
           "baxis": {
            "gridcolor": "#DFE8F3",
            "linecolor": "#A2B1C6",
            "ticks": ""
           },
           "bgcolor": "white",
           "caxis": {
            "gridcolor": "#DFE8F3",
            "linecolor": "#A2B1C6",
            "ticks": ""
           }
          },
          "title": {
           "x": 0.05
          },
          "xaxis": {
           "automargin": true,
           "gridcolor": "#EBF0F8",
           "linecolor": "#EBF0F8",
           "ticks": "",
           "title": {
            "standoff": 15
           },
           "zerolinecolor": "#EBF0F8",
           "zerolinewidth": 2
          },
          "yaxis": {
           "automargin": true,
           "gridcolor": "#EBF0F8",
           "linecolor": "#EBF0F8",
           "ticks": "",
           "title": {
            "standoff": 15
           },
           "zerolinecolor": "#EBF0F8",
           "zerolinewidth": 2
          }
         }
        },
        "title": {
         "text": "Top 10 Countries by Market Share — 2024"
        },
        "width": 850,
        "xaxis": {
         "anchor": "y",
         "categoryarray": [
          "Germany",
          "Japan",
          "Netherlands",
          "United States",
          "South Korea",
          "India",
          "France",
          "Sweden",
          "China",
          "United Kingdom"
         ],
         "categoryorder": "array",
         "domain": [
          0,
          1
         ],
         "title": {
          "text": "Country of Origin"
         }
        },
        "yaxis": {
         "anchor": "x",
         "domain": [
          0,
          1
         ],
         "title": {
          "text": "Market Share (%)"
         }
        }
       }
      }
     },
     "metadata": {},
     "output_type": "display_data"
    }
   ],
   "source": [
    "latest_year = df[\"Year\"].max()\n",
    "top_countries = (\n",
    "    country_share[country_share[\"Year\"] == latest_year]\n",
    "    .sort_values(\"MarketShare_%\", ascending=False)\n",
    "    .head(10)\n",
    ")\n",
    "top_countries\n",
    "\n",
    "# --- Compute latest year & filter top 10 ---\n",
    "latest_year = df[\"Year\"].max()\n",
    "top_countries = (\n",
    "    country_share[country_share[\"Year\"] == latest_year]\n",
    "    .sort_values(\"MarketShare_%\", ascending=False)\n",
    "    .head(10)\n",
    ")\n",
    "\n",
    "# --- Bar chart ---\n",
    "fig = px.bar(\n",
    "    top_countries,\n",
    "    x=\"ParentCountry\",\n",
    "    y=\"MarketShare_%\",\n",
    "    text=top_countries[\"MarketShare_%\"].round(2).astype(str) + \"%\",\n",
    "    title=f\"Top 10 Countries by Market Share — {latest_year}\",\n",
    "    color=\"ParentCountry\",\n",
    "    color_discrete_sequence=px.colors.qualitative.Vivid\n",
    ")\n",
    "\n",
    "fig.update_traces(textposition=\"outside\")\n",
    "fig.update_layout(\n",
    "    xaxis_title=\"Country of Origin\",\n",
    "    yaxis_title=\"Market Share (%)\",\n",
    "    template=\"plotly_white\",\n",
    "    width=850,\n",
    "    height=500,\n",
    "    showlegend=False\n",
    ")\n",
    "\n",
    "# --- Save outputs ---\n",
    "fig.write_html(FIG_DIR / f\"top_countries_{latest_year}.html\")\n",
    "fig.write_image(FIG_DIR / f\"top_countries_{latest_year}.pdf\")\n",
    "\n",
    "fig.show()\n"
   ]
  },
  {
   "cell_type": "markdown",
   "id": "a94b9559",
   "metadata": {},
   "source": [
    "### 4.1.7 Compound Annual Growth Rate (CAGR)"
   ]
  },
  {
   "cell_type": "code",
   "execution_count": 437,
   "id": "b273e044",
   "metadata": {},
   "outputs": [
    {
     "name": "stdout",
     "output_type": "stream",
     "text": [
      "CAGR (2000-2024): 7.71%\n",
      "CAGR (2000-2024): 7.71%\n"
     ]
    },
    {
     "data": {
      "application/vnd.plotly.v1+json": {
       "config": {
        "plotlyServerURL": "https://plot.ly"
       },
       "data": [
        {
         "line": {
          "color": "steelblue"
         },
         "mode": "lines+markers",
         "name": "Registrations",
         "type": "scatter",
         "x": {
          "bdata": "0AfRB9IH0wfUB9UH1gfXB9gH2QfaB9sH3AfdB94H3wfgB+EH4gfjB+QH5QfmB+cH6Ac=",
          "dtype": "i2"
         },
         "y": {
          "bdata": "QmZ0AQZkfwHKZokBwWWQAcNqnAEx7qMB+UilAa2avgGOaIMDH9wJB+wWFAdw1RwHNC8lB6VNPQfE7WgHRh+RByPQzQeWGvwHEPUXCOHkOQj0cEUIdIVUCIfKYQgyboEIsVCoCA==",
          "dtype": "i4"
         }
        }
       ],
       "layout": {
        "annotations": [
         {
          "arrowhead": 2,
          "ax": -50,
          "ay": -40,
          "font": {
           "color": "crimson",
           "size": 12
          },
          "showarrow": true,
          "text": "CAGR 7.71%",
          "x": 2024,
          "y": 145248433
         }
        ],
        "height": 500,
        "template": {
         "data": {
          "bar": [
           {
            "error_x": {
             "color": "#2a3f5f"
            },
            "error_y": {
             "color": "#2a3f5f"
            },
            "marker": {
             "line": {
              "color": "white",
              "width": 0.5
             },
             "pattern": {
              "fillmode": "overlay",
              "size": 10,
              "solidity": 0.2
             }
            },
            "type": "bar"
           }
          ],
          "barpolar": [
           {
            "marker": {
             "line": {
              "color": "white",
              "width": 0.5
             },
             "pattern": {
              "fillmode": "overlay",
              "size": 10,
              "solidity": 0.2
             }
            },
            "type": "barpolar"
           }
          ],
          "carpet": [
           {
            "aaxis": {
             "endlinecolor": "#2a3f5f",
             "gridcolor": "#C8D4E3",
             "linecolor": "#C8D4E3",
             "minorgridcolor": "#C8D4E3",
             "startlinecolor": "#2a3f5f"
            },
            "baxis": {
             "endlinecolor": "#2a3f5f",
             "gridcolor": "#C8D4E3",
             "linecolor": "#C8D4E3",
             "minorgridcolor": "#C8D4E3",
             "startlinecolor": "#2a3f5f"
            },
            "type": "carpet"
           }
          ],
          "choropleth": [
           {
            "colorbar": {
             "outlinewidth": 0,
             "ticks": ""
            },
            "type": "choropleth"
           }
          ],
          "contour": [
           {
            "colorbar": {
             "outlinewidth": 0,
             "ticks": ""
            },
            "colorscale": [
             [
              0,
              "#0d0887"
             ],
             [
              0.1111111111111111,
              "#46039f"
             ],
             [
              0.2222222222222222,
              "#7201a8"
             ],
             [
              0.3333333333333333,
              "#9c179e"
             ],
             [
              0.4444444444444444,
              "#bd3786"
             ],
             [
              0.5555555555555556,
              "#d8576b"
             ],
             [
              0.6666666666666666,
              "#ed7953"
             ],
             [
              0.7777777777777778,
              "#fb9f3a"
             ],
             [
              0.8888888888888888,
              "#fdca26"
             ],
             [
              1,
              "#f0f921"
             ]
            ],
            "type": "contour"
           }
          ],
          "contourcarpet": [
           {
            "colorbar": {
             "outlinewidth": 0,
             "ticks": ""
            },
            "type": "contourcarpet"
           }
          ],
          "heatmap": [
           {
            "colorbar": {
             "outlinewidth": 0,
             "ticks": ""
            },
            "colorscale": [
             [
              0,
              "#0d0887"
             ],
             [
              0.1111111111111111,
              "#46039f"
             ],
             [
              0.2222222222222222,
              "#7201a8"
             ],
             [
              0.3333333333333333,
              "#9c179e"
             ],
             [
              0.4444444444444444,
              "#bd3786"
             ],
             [
              0.5555555555555556,
              "#d8576b"
             ],
             [
              0.6666666666666666,
              "#ed7953"
             ],
             [
              0.7777777777777778,
              "#fb9f3a"
             ],
             [
              0.8888888888888888,
              "#fdca26"
             ],
             [
              1,
              "#f0f921"
             ]
            ],
            "type": "heatmap"
           }
          ],
          "histogram": [
           {
            "marker": {
             "pattern": {
              "fillmode": "overlay",
              "size": 10,
              "solidity": 0.2
             }
            },
            "type": "histogram"
           }
          ],
          "histogram2d": [
           {
            "colorbar": {
             "outlinewidth": 0,
             "ticks": ""
            },
            "colorscale": [
             [
              0,
              "#0d0887"
             ],
             [
              0.1111111111111111,
              "#46039f"
             ],
             [
              0.2222222222222222,
              "#7201a8"
             ],
             [
              0.3333333333333333,
              "#9c179e"
             ],
             [
              0.4444444444444444,
              "#bd3786"
             ],
             [
              0.5555555555555556,
              "#d8576b"
             ],
             [
              0.6666666666666666,
              "#ed7953"
             ],
             [
              0.7777777777777778,
              "#fb9f3a"
             ],
             [
              0.8888888888888888,
              "#fdca26"
             ],
             [
              1,
              "#f0f921"
             ]
            ],
            "type": "histogram2d"
           }
          ],
          "histogram2dcontour": [
           {
            "colorbar": {
             "outlinewidth": 0,
             "ticks": ""
            },
            "colorscale": [
             [
              0,
              "#0d0887"
             ],
             [
              0.1111111111111111,
              "#46039f"
             ],
             [
              0.2222222222222222,
              "#7201a8"
             ],
             [
              0.3333333333333333,
              "#9c179e"
             ],
             [
              0.4444444444444444,
              "#bd3786"
             ],
             [
              0.5555555555555556,
              "#d8576b"
             ],
             [
              0.6666666666666666,
              "#ed7953"
             ],
             [
              0.7777777777777778,
              "#fb9f3a"
             ],
             [
              0.8888888888888888,
              "#fdca26"
             ],
             [
              1,
              "#f0f921"
             ]
            ],
            "type": "histogram2dcontour"
           }
          ],
          "mesh3d": [
           {
            "colorbar": {
             "outlinewidth": 0,
             "ticks": ""
            },
            "type": "mesh3d"
           }
          ],
          "parcoords": [
           {
            "line": {
             "colorbar": {
              "outlinewidth": 0,
              "ticks": ""
             }
            },
            "type": "parcoords"
           }
          ],
          "pie": [
           {
            "automargin": true,
            "type": "pie"
           }
          ],
          "scatter": [
           {
            "fillpattern": {
             "fillmode": "overlay",
             "size": 10,
             "solidity": 0.2
            },
            "type": "scatter"
           }
          ],
          "scatter3d": [
           {
            "line": {
             "colorbar": {
              "outlinewidth": 0,
              "ticks": ""
             }
            },
            "marker": {
             "colorbar": {
              "outlinewidth": 0,
              "ticks": ""
             }
            },
            "type": "scatter3d"
           }
          ],
          "scattercarpet": [
           {
            "marker": {
             "colorbar": {
              "outlinewidth": 0,
              "ticks": ""
             }
            },
            "type": "scattercarpet"
           }
          ],
          "scattergeo": [
           {
            "marker": {
             "colorbar": {
              "outlinewidth": 0,
              "ticks": ""
             }
            },
            "type": "scattergeo"
           }
          ],
          "scattergl": [
           {
            "marker": {
             "colorbar": {
              "outlinewidth": 0,
              "ticks": ""
             }
            },
            "type": "scattergl"
           }
          ],
          "scattermap": [
           {
            "marker": {
             "colorbar": {
              "outlinewidth": 0,
              "ticks": ""
             }
            },
            "type": "scattermap"
           }
          ],
          "scattermapbox": [
           {
            "marker": {
             "colorbar": {
              "outlinewidth": 0,
              "ticks": ""
             }
            },
            "type": "scattermapbox"
           }
          ],
          "scatterpolar": [
           {
            "marker": {
             "colorbar": {
              "outlinewidth": 0,
              "ticks": ""
             }
            },
            "type": "scatterpolar"
           }
          ],
          "scatterpolargl": [
           {
            "marker": {
             "colorbar": {
              "outlinewidth": 0,
              "ticks": ""
             }
            },
            "type": "scatterpolargl"
           }
          ],
          "scatterternary": [
           {
            "marker": {
             "colorbar": {
              "outlinewidth": 0,
              "ticks": ""
             }
            },
            "type": "scatterternary"
           }
          ],
          "surface": [
           {
            "colorbar": {
             "outlinewidth": 0,
             "ticks": ""
            },
            "colorscale": [
             [
              0,
              "#0d0887"
             ],
             [
              0.1111111111111111,
              "#46039f"
             ],
             [
              0.2222222222222222,
              "#7201a8"
             ],
             [
              0.3333333333333333,
              "#9c179e"
             ],
             [
              0.4444444444444444,
              "#bd3786"
             ],
             [
              0.5555555555555556,
              "#d8576b"
             ],
             [
              0.6666666666666666,
              "#ed7953"
             ],
             [
              0.7777777777777778,
              "#fb9f3a"
             ],
             [
              0.8888888888888888,
              "#fdca26"
             ],
             [
              1,
              "#f0f921"
             ]
            ],
            "type": "surface"
           }
          ],
          "table": [
           {
            "cells": {
             "fill": {
              "color": "#EBF0F8"
             },
             "line": {
              "color": "white"
             }
            },
            "header": {
             "fill": {
              "color": "#C8D4E3"
             },
             "line": {
              "color": "white"
             }
            },
            "type": "table"
           }
          ]
         },
         "layout": {
          "annotationdefaults": {
           "arrowcolor": "#2a3f5f",
           "arrowhead": 0,
           "arrowwidth": 1
          },
          "autotypenumbers": "strict",
          "coloraxis": {
           "colorbar": {
            "outlinewidth": 0,
            "ticks": ""
           }
          },
          "colorscale": {
           "diverging": [
            [
             0,
             "#8e0152"
            ],
            [
             0.1,
             "#c51b7d"
            ],
            [
             0.2,
             "#de77ae"
            ],
            [
             0.3,
             "#f1b6da"
            ],
            [
             0.4,
             "#fde0ef"
            ],
            [
             0.5,
             "#f7f7f7"
            ],
            [
             0.6,
             "#e6f5d0"
            ],
            [
             0.7,
             "#b8e186"
            ],
            [
             0.8,
             "#7fbc41"
            ],
            [
             0.9,
             "#4d9221"
            ],
            [
             1,
             "#276419"
            ]
           ],
           "sequential": [
            [
             0,
             "#0d0887"
            ],
            [
             0.1111111111111111,
             "#46039f"
            ],
            [
             0.2222222222222222,
             "#7201a8"
            ],
            [
             0.3333333333333333,
             "#9c179e"
            ],
            [
             0.4444444444444444,
             "#bd3786"
            ],
            [
             0.5555555555555556,
             "#d8576b"
            ],
            [
             0.6666666666666666,
             "#ed7953"
            ],
            [
             0.7777777777777778,
             "#fb9f3a"
            ],
            [
             0.8888888888888888,
             "#fdca26"
            ],
            [
             1,
             "#f0f921"
            ]
           ],
           "sequentialminus": [
            [
             0,
             "#0d0887"
            ],
            [
             0.1111111111111111,
             "#46039f"
            ],
            [
             0.2222222222222222,
             "#7201a8"
            ],
            [
             0.3333333333333333,
             "#9c179e"
            ],
            [
             0.4444444444444444,
             "#bd3786"
            ],
            [
             0.5555555555555556,
             "#d8576b"
            ],
            [
             0.6666666666666666,
             "#ed7953"
            ],
            [
             0.7777777777777778,
             "#fb9f3a"
            ],
            [
             0.8888888888888888,
             "#fdca26"
            ],
            [
             1,
             "#f0f921"
            ]
           ]
          },
          "colorway": [
           "#636efa",
           "#EF553B",
           "#00cc96",
           "#ab63fa",
           "#FFA15A",
           "#19d3f3",
           "#FF6692",
           "#B6E880",
           "#FF97FF",
           "#FECB52"
          ],
          "font": {
           "color": "#2a3f5f"
          },
          "geo": {
           "bgcolor": "white",
           "lakecolor": "white",
           "landcolor": "white",
           "showlakes": true,
           "showland": true,
           "subunitcolor": "#C8D4E3"
          },
          "hoverlabel": {
           "align": "left"
          },
          "hovermode": "closest",
          "mapbox": {
           "style": "light"
          },
          "paper_bgcolor": "white",
          "plot_bgcolor": "white",
          "polar": {
           "angularaxis": {
            "gridcolor": "#EBF0F8",
            "linecolor": "#EBF0F8",
            "ticks": ""
           },
           "bgcolor": "white",
           "radialaxis": {
            "gridcolor": "#EBF0F8",
            "linecolor": "#EBF0F8",
            "ticks": ""
           }
          },
          "scene": {
           "xaxis": {
            "backgroundcolor": "white",
            "gridcolor": "#DFE8F3",
            "gridwidth": 2,
            "linecolor": "#EBF0F8",
            "showbackground": true,
            "ticks": "",
            "zerolinecolor": "#EBF0F8"
           },
           "yaxis": {
            "backgroundcolor": "white",
            "gridcolor": "#DFE8F3",
            "gridwidth": 2,
            "linecolor": "#EBF0F8",
            "showbackground": true,
            "ticks": "",
            "zerolinecolor": "#EBF0F8"
           },
           "zaxis": {
            "backgroundcolor": "white",
            "gridcolor": "#DFE8F3",
            "gridwidth": 2,
            "linecolor": "#EBF0F8",
            "showbackground": true,
            "ticks": "",
            "zerolinecolor": "#EBF0F8"
           }
          },
          "shapedefaults": {
           "line": {
            "color": "#2a3f5f"
           }
          },
          "ternary": {
           "aaxis": {
            "gridcolor": "#DFE8F3",
            "linecolor": "#A2B1C6",
            "ticks": ""
           },
           "baxis": {
            "gridcolor": "#DFE8F3",
            "linecolor": "#A2B1C6",
            "ticks": ""
           },
           "bgcolor": "white",
           "caxis": {
            "gridcolor": "#DFE8F3",
            "linecolor": "#A2B1C6",
            "ticks": ""
           }
          },
          "title": {
           "x": 0.05
          },
          "xaxis": {
           "automargin": true,
           "gridcolor": "#EBF0F8",
           "linecolor": "#EBF0F8",
           "ticks": "",
           "title": {
            "standoff": 15
           },
           "zerolinecolor": "#EBF0F8",
           "zerolinewidth": 2
          },
          "yaxis": {
           "automargin": true,
           "gridcolor": "#EBF0F8",
           "linecolor": "#EBF0F8",
           "ticks": "",
           "title": {
            "standoff": 15
           },
           "zerolinecolor": "#EBF0F8",
           "zerolinewidth": 2
          }
         }
        },
        "title": {
         "text": "Annual Vehicle Registrations (2000–2024) — CAGR: 7.71%"
        },
        "width": 850,
        "xaxis": {
         "title": {
          "text": "Year"
         }
        },
        "yaxis": {
         "title": {
          "text": "Registrations"
         }
        }
       }
      }
     },
     "metadata": {},
     "output_type": "display_data"
    }
   ],
   "source": [
    "y0, y1 = df[\"Year\"].min(), df[\"Year\"].max()\n",
    "r0 = annual_total.loc[annual_total[\"Year\"] == y0, \"Registrations\"].values[0]\n",
    "r1 = annual_total.loc[annual_total[\"Year\"] == y1, \"Registrations\"].values[0]\n",
    "\n",
    "CAGR = ((r1 / r0) ** (1 / (y1 - y0)) - 1) * 100\n",
    "print(f\"CAGR ({y0}-{y1}): {CAGR:.2f}%\")\n",
    "\n",
    "# --- Compute CAGR ---\n",
    "y0, y1 = df[\"Year\"].min(), df[\"Year\"].max()\n",
    "r0 = annual_total.loc[annual_total[\"Year\"] == y0, \"Registrations\"].values[0]\n",
    "r1 = annual_total.loc[annual_total[\"Year\"] == y1, \"Registrations\"].values[0]\n",
    "\n",
    "CAGR = ((r1 / r0) ** (1 / (y1 - y0)) - 1) * 100\n",
    "print(f\"CAGR ({y0}-{y1}): {CAGR:.2f}%\")\n",
    "\n",
    "# --- Optional: quick mini-plot for CAGR trend ---\n",
    "fig = go.Figure()\n",
    "fig.add_trace(go.Scatter(\n",
    "    x=annual_total[\"Year\"],\n",
    "    y=annual_total[\"Registrations\"],\n",
    "    mode=\"lines+markers\",\n",
    "    name=\"Registrations\",\n",
    "    line=dict(color=\"steelblue\")\n",
    "))\n",
    "\n",
    "fig.add_annotation(\n",
    "    x=y1, y=r1,\n",
    "    text=f\"CAGR {CAGR:.2f}%\",\n",
    "    showarrow=True,\n",
    "    arrowhead=2,\n",
    "    ax=-50, ay=-40,\n",
    "    font=dict(size=12, color=\"crimson\")\n",
    ")\n",
    "\n",
    "fig.update_layout(\n",
    "    title=f\"Annual Vehicle Registrations ({y0}–{y1}) — CAGR: {CAGR:.2f}%\",\n",
    "    xaxis_title=\"Year\",\n",
    "    yaxis_title=\"Registrations\",\n",
    "    template=\"plotly_white\",\n",
    "    width=850,\n",
    "    height=500\n",
    ")\n",
    "\n",
    "fig.write_html(FIG_DIR / f\"annual_registrations_cagr_{y0}_{y1}.html\")\n",
    "fig.write_image(FIG_DIR / f\"annual_registrations_cagr_{y0}_{y1}.pdf\")\n",
    "\n",
    "fig.show()\n"
   ]
  },
  {
   "cell_type": "markdown",
   "id": "f4a8a9a7",
   "metadata": {},
   "source": [
    "### 4.1.8 Top 10 Brands by Total Registrations"
   ]
  },
  {
   "cell_type": "code",
   "execution_count": 438,
   "id": "c20c0e1e",
   "metadata": {},
   "outputs": [
    {
     "data": {
      "application/vnd.plotly.v1+json": {
       "config": {
        "plotlyServerURL": "https://plot.ly"
       },
       "data": [
        {
         "hovertemplate": "Make=%{x}<br>Registrations=%{y}<br>text=%{text}<extra></extra>",
         "legendgroup": "FORD",
         "marker": {
          "color": "rgb(229, 134, 6)",
          "pattern": {
           "shape": ""
          }
         },
         "name": "FORD",
         "orientation": "v",
         "showlegend": true,
         "text": [
          "21.5%"
         ],
         "textposition": "outside",
         "type": "bar",
         "x": [
          "FORD"
         ],
         "xaxis": "x",
         "y": {
          "bdata": "npvZEw==",
          "dtype": "i4"
         },
         "yaxis": "y"
        },
        {
         "hovertemplate": "Make=%{x}<br>Registrations=%{y}<br>text=%{text}<extra></extra>",
         "legendgroup": "VAUXHALL",
         "marker": {
          "color": "rgb(93, 105, 177)",
          "pattern": {
           "shape": ""
          }
         },
         "name": "VAUXHALL",
         "orientation": "v",
         "showlegend": true,
         "text": [
          "16.7%"
         ],
         "textposition": "outside",
         "type": "bar",
         "x": [
          "VAUXHALL"
         ],
         "xaxis": "x",
         "y": {
          "bdata": "0p1wDw==",
          "dtype": "i4"
         },
         "yaxis": "y"
        },
        {
         "hovertemplate": "Make=%{x}<br>Registrations=%{y}<br>text=%{text}<extra></extra>",
         "legendgroup": "VOLKSWAGEN",
         "marker": {
          "color": "rgb(82, 188, 163)",
          "pattern": {
           "shape": ""
          }
         },
         "name": "VOLKSWAGEN",
         "orientation": "v",
         "showlegend": true,
         "text": [
          "12.4%"
         ],
         "textposition": "outside",
         "type": "bar",
         "x": [
          "VOLKSWAGEN"
         ],
         "xaxis": "x",
         "y": {
          "bdata": "E293Cw==",
          "dtype": "i4"
         },
         "yaxis": "y"
        },
        {
         "hovertemplate": "Make=%{x}<br>Registrations=%{y}<br>text=%{text}<extra></extra>",
         "legendgroup": "PEUGEOT",
         "marker": {
          "color": "rgb(153, 201, 69)",
          "pattern": {
           "shape": ""
          }
         },
         "name": "PEUGEOT",
         "orientation": "v",
         "showlegend": true,
         "text": [
          "8.3%"
         ],
         "textposition": "outside",
         "type": "bar",
         "x": [
          "PEUGEOT"
         ],
         "xaxis": "x",
         "y": {
          "bdata": "P6qkBw==",
          "dtype": "i4"
         },
         "yaxis": "y"
        },
        {
         "hovertemplate": "Make=%{x}<br>Registrations=%{y}<br>text=%{text}<extra></extra>",
         "legendgroup": "BMW",
         "marker": {
          "color": "rgb(204, 97, 176)",
          "pattern": {
           "shape": ""
          }
         },
         "name": "BMW",
         "orientation": "v",
         "showlegend": true,
         "text": [
          "7.8%"
         ],
         "textposition": "outside",
         "type": "bar",
         "x": [
          "BMW"
         ],
         "xaxis": "x",
         "y": {
          "bdata": "XtUyBw==",
          "dtype": "i4"
         },
         "yaxis": "y"
        },
        {
         "hovertemplate": "Make=%{x}<br>Registrations=%{y}<br>text=%{text}<extra></extra>",
         "legendgroup": "TOYOTA",
         "marker": {
          "color": "rgb(36, 121, 108)",
          "pattern": {
           "shape": ""
          }
         },
         "name": "TOYOTA",
         "orientation": "v",
         "showlegend": true,
         "text": [
          "7.1%"
         ],
         "textposition": "outside",
         "type": "bar",
         "x": [
          "TOYOTA"
         ],
         "xaxis": "x",
         "y": {
          "bdata": "C+OTBg==",
          "dtype": "i4"
         },
         "yaxis": "y"
        },
        {
         "hovertemplate": "Make=%{x}<br>Registrations=%{y}<br>text=%{text}<extra></extra>",
         "legendgroup": "NISSAN",
         "marker": {
          "color": "rgb(218, 165, 27)",
          "pattern": {
           "shape": ""
          }
         },
         "name": "NISSAN",
         "orientation": "v",
         "showlegend": true,
         "text": [
          "6.8%"
         ],
         "textposition": "outside",
         "type": "bar",
         "x": [
          "NISSAN"
         ],
         "xaxis": "x",
         "y": {
          "bdata": "tX1QBg==",
          "dtype": "i4"
         },
         "yaxis": "y"
        },
        {
         "hovertemplate": "Make=%{x}<br>Registrations=%{y}<br>text=%{text}<extra></extra>",
         "legendgroup": "RENAULT",
         "marker": {
          "color": "rgb(47, 138, 196)",
          "pattern": {
           "shape": ""
          }
         },
         "name": "RENAULT",
         "orientation": "v",
         "showlegend": true,
         "text": [
          "6.6%"
         ],
         "textposition": "outside",
         "type": "bar",
         "x": [
          "RENAULT"
         ],
         "xaxis": "x",
         "y": {
          "bdata": "mMojBg==",
          "dtype": "i4"
         },
         "yaxis": "y"
        },
        {
         "hovertemplate": "Make=%{x}<br>Registrations=%{y}<br>text=%{text}<extra></extra>",
         "legendgroup": "AUDI",
         "marker": {
          "color": "rgb(118, 78, 159)",
          "pattern": {
           "shape": ""
          }
         },
         "name": "AUDI",
         "orientation": "v",
         "showlegend": true,
         "text": [
          "6.5%"
         ],
         "textposition": "outside",
         "type": "bar",
         "x": [
          "AUDI"
         ],
         "xaxis": "x",
         "y": {
          "bdata": "KMz6BQ==",
          "dtype": "i4"
         },
         "yaxis": "y"
        },
        {
         "hovertemplate": "Make=%{x}<br>Registrations=%{y}<br>text=%{text}<extra></extra>",
         "legendgroup": "MERCEDES",
         "marker": {
          "color": "rgb(237, 100, 90)",
          "pattern": {
           "shape": ""
          }
         },
         "name": "MERCEDES",
         "orientation": "v",
         "showlegend": true,
         "text": [
          "6.3%"
         ],
         "textposition": "outside",
         "type": "bar",
         "x": [
          "MERCEDES"
         ],
         "xaxis": "x",
         "y": {
          "bdata": "sajdBQ==",
          "dtype": "i4"
         },
         "yaxis": "y"
        }
       ],
       "layout": {
        "barmode": "relative",
        "height": 500,
        "legend": {
         "title": {
          "text": "Make"
         },
         "tracegroupgap": 0
        },
        "showlegend": false,
        "template": {
         "data": {
          "bar": [
           {
            "error_x": {
             "color": "#2a3f5f"
            },
            "error_y": {
             "color": "#2a3f5f"
            },
            "marker": {
             "line": {
              "color": "white",
              "width": 0.5
             },
             "pattern": {
              "fillmode": "overlay",
              "size": 10,
              "solidity": 0.2
             }
            },
            "type": "bar"
           }
          ],
          "barpolar": [
           {
            "marker": {
             "line": {
              "color": "white",
              "width": 0.5
             },
             "pattern": {
              "fillmode": "overlay",
              "size": 10,
              "solidity": 0.2
             }
            },
            "type": "barpolar"
           }
          ],
          "carpet": [
           {
            "aaxis": {
             "endlinecolor": "#2a3f5f",
             "gridcolor": "#C8D4E3",
             "linecolor": "#C8D4E3",
             "minorgridcolor": "#C8D4E3",
             "startlinecolor": "#2a3f5f"
            },
            "baxis": {
             "endlinecolor": "#2a3f5f",
             "gridcolor": "#C8D4E3",
             "linecolor": "#C8D4E3",
             "minorgridcolor": "#C8D4E3",
             "startlinecolor": "#2a3f5f"
            },
            "type": "carpet"
           }
          ],
          "choropleth": [
           {
            "colorbar": {
             "outlinewidth": 0,
             "ticks": ""
            },
            "type": "choropleth"
           }
          ],
          "contour": [
           {
            "colorbar": {
             "outlinewidth": 0,
             "ticks": ""
            },
            "colorscale": [
             [
              0,
              "#0d0887"
             ],
             [
              0.1111111111111111,
              "#46039f"
             ],
             [
              0.2222222222222222,
              "#7201a8"
             ],
             [
              0.3333333333333333,
              "#9c179e"
             ],
             [
              0.4444444444444444,
              "#bd3786"
             ],
             [
              0.5555555555555556,
              "#d8576b"
             ],
             [
              0.6666666666666666,
              "#ed7953"
             ],
             [
              0.7777777777777778,
              "#fb9f3a"
             ],
             [
              0.8888888888888888,
              "#fdca26"
             ],
             [
              1,
              "#f0f921"
             ]
            ],
            "type": "contour"
           }
          ],
          "contourcarpet": [
           {
            "colorbar": {
             "outlinewidth": 0,
             "ticks": ""
            },
            "type": "contourcarpet"
           }
          ],
          "heatmap": [
           {
            "colorbar": {
             "outlinewidth": 0,
             "ticks": ""
            },
            "colorscale": [
             [
              0,
              "#0d0887"
             ],
             [
              0.1111111111111111,
              "#46039f"
             ],
             [
              0.2222222222222222,
              "#7201a8"
             ],
             [
              0.3333333333333333,
              "#9c179e"
             ],
             [
              0.4444444444444444,
              "#bd3786"
             ],
             [
              0.5555555555555556,
              "#d8576b"
             ],
             [
              0.6666666666666666,
              "#ed7953"
             ],
             [
              0.7777777777777778,
              "#fb9f3a"
             ],
             [
              0.8888888888888888,
              "#fdca26"
             ],
             [
              1,
              "#f0f921"
             ]
            ],
            "type": "heatmap"
           }
          ],
          "histogram": [
           {
            "marker": {
             "pattern": {
              "fillmode": "overlay",
              "size": 10,
              "solidity": 0.2
             }
            },
            "type": "histogram"
           }
          ],
          "histogram2d": [
           {
            "colorbar": {
             "outlinewidth": 0,
             "ticks": ""
            },
            "colorscale": [
             [
              0,
              "#0d0887"
             ],
             [
              0.1111111111111111,
              "#46039f"
             ],
             [
              0.2222222222222222,
              "#7201a8"
             ],
             [
              0.3333333333333333,
              "#9c179e"
             ],
             [
              0.4444444444444444,
              "#bd3786"
             ],
             [
              0.5555555555555556,
              "#d8576b"
             ],
             [
              0.6666666666666666,
              "#ed7953"
             ],
             [
              0.7777777777777778,
              "#fb9f3a"
             ],
             [
              0.8888888888888888,
              "#fdca26"
             ],
             [
              1,
              "#f0f921"
             ]
            ],
            "type": "histogram2d"
           }
          ],
          "histogram2dcontour": [
           {
            "colorbar": {
             "outlinewidth": 0,
             "ticks": ""
            },
            "colorscale": [
             [
              0,
              "#0d0887"
             ],
             [
              0.1111111111111111,
              "#46039f"
             ],
             [
              0.2222222222222222,
              "#7201a8"
             ],
             [
              0.3333333333333333,
              "#9c179e"
             ],
             [
              0.4444444444444444,
              "#bd3786"
             ],
             [
              0.5555555555555556,
              "#d8576b"
             ],
             [
              0.6666666666666666,
              "#ed7953"
             ],
             [
              0.7777777777777778,
              "#fb9f3a"
             ],
             [
              0.8888888888888888,
              "#fdca26"
             ],
             [
              1,
              "#f0f921"
             ]
            ],
            "type": "histogram2dcontour"
           }
          ],
          "mesh3d": [
           {
            "colorbar": {
             "outlinewidth": 0,
             "ticks": ""
            },
            "type": "mesh3d"
           }
          ],
          "parcoords": [
           {
            "line": {
             "colorbar": {
              "outlinewidth": 0,
              "ticks": ""
             }
            },
            "type": "parcoords"
           }
          ],
          "pie": [
           {
            "automargin": true,
            "type": "pie"
           }
          ],
          "scatter": [
           {
            "fillpattern": {
             "fillmode": "overlay",
             "size": 10,
             "solidity": 0.2
            },
            "type": "scatter"
           }
          ],
          "scatter3d": [
           {
            "line": {
             "colorbar": {
              "outlinewidth": 0,
              "ticks": ""
             }
            },
            "marker": {
             "colorbar": {
              "outlinewidth": 0,
              "ticks": ""
             }
            },
            "type": "scatter3d"
           }
          ],
          "scattercarpet": [
           {
            "marker": {
             "colorbar": {
              "outlinewidth": 0,
              "ticks": ""
             }
            },
            "type": "scattercarpet"
           }
          ],
          "scattergeo": [
           {
            "marker": {
             "colorbar": {
              "outlinewidth": 0,
              "ticks": ""
             }
            },
            "type": "scattergeo"
           }
          ],
          "scattergl": [
           {
            "marker": {
             "colorbar": {
              "outlinewidth": 0,
              "ticks": ""
             }
            },
            "type": "scattergl"
           }
          ],
          "scattermap": [
           {
            "marker": {
             "colorbar": {
              "outlinewidth": 0,
              "ticks": ""
             }
            },
            "type": "scattermap"
           }
          ],
          "scattermapbox": [
           {
            "marker": {
             "colorbar": {
              "outlinewidth": 0,
              "ticks": ""
             }
            },
            "type": "scattermapbox"
           }
          ],
          "scatterpolar": [
           {
            "marker": {
             "colorbar": {
              "outlinewidth": 0,
              "ticks": ""
             }
            },
            "type": "scatterpolar"
           }
          ],
          "scatterpolargl": [
           {
            "marker": {
             "colorbar": {
              "outlinewidth": 0,
              "ticks": ""
             }
            },
            "type": "scatterpolargl"
           }
          ],
          "scatterternary": [
           {
            "marker": {
             "colorbar": {
              "outlinewidth": 0,
              "ticks": ""
             }
            },
            "type": "scatterternary"
           }
          ],
          "surface": [
           {
            "colorbar": {
             "outlinewidth": 0,
             "ticks": ""
            },
            "colorscale": [
             [
              0,
              "#0d0887"
             ],
             [
              0.1111111111111111,
              "#46039f"
             ],
             [
              0.2222222222222222,
              "#7201a8"
             ],
             [
              0.3333333333333333,
              "#9c179e"
             ],
             [
              0.4444444444444444,
              "#bd3786"
             ],
             [
              0.5555555555555556,
              "#d8576b"
             ],
             [
              0.6666666666666666,
              "#ed7953"
             ],
             [
              0.7777777777777778,
              "#fb9f3a"
             ],
             [
              0.8888888888888888,
              "#fdca26"
             ],
             [
              1,
              "#f0f921"
             ]
            ],
            "type": "surface"
           }
          ],
          "table": [
           {
            "cells": {
             "fill": {
              "color": "#EBF0F8"
             },
             "line": {
              "color": "white"
             }
            },
            "header": {
             "fill": {
              "color": "#C8D4E3"
             },
             "line": {
              "color": "white"
             }
            },
            "type": "table"
           }
          ]
         },
         "layout": {
          "annotationdefaults": {
           "arrowcolor": "#2a3f5f",
           "arrowhead": 0,
           "arrowwidth": 1
          },
          "autotypenumbers": "strict",
          "coloraxis": {
           "colorbar": {
            "outlinewidth": 0,
            "ticks": ""
           }
          },
          "colorscale": {
           "diverging": [
            [
             0,
             "#8e0152"
            ],
            [
             0.1,
             "#c51b7d"
            ],
            [
             0.2,
             "#de77ae"
            ],
            [
             0.3,
             "#f1b6da"
            ],
            [
             0.4,
             "#fde0ef"
            ],
            [
             0.5,
             "#f7f7f7"
            ],
            [
             0.6,
             "#e6f5d0"
            ],
            [
             0.7,
             "#b8e186"
            ],
            [
             0.8,
             "#7fbc41"
            ],
            [
             0.9,
             "#4d9221"
            ],
            [
             1,
             "#276419"
            ]
           ],
           "sequential": [
            [
             0,
             "#0d0887"
            ],
            [
             0.1111111111111111,
             "#46039f"
            ],
            [
             0.2222222222222222,
             "#7201a8"
            ],
            [
             0.3333333333333333,
             "#9c179e"
            ],
            [
             0.4444444444444444,
             "#bd3786"
            ],
            [
             0.5555555555555556,
             "#d8576b"
            ],
            [
             0.6666666666666666,
             "#ed7953"
            ],
            [
             0.7777777777777778,
             "#fb9f3a"
            ],
            [
             0.8888888888888888,
             "#fdca26"
            ],
            [
             1,
             "#f0f921"
            ]
           ],
           "sequentialminus": [
            [
             0,
             "#0d0887"
            ],
            [
             0.1111111111111111,
             "#46039f"
            ],
            [
             0.2222222222222222,
             "#7201a8"
            ],
            [
             0.3333333333333333,
             "#9c179e"
            ],
            [
             0.4444444444444444,
             "#bd3786"
            ],
            [
             0.5555555555555556,
             "#d8576b"
            ],
            [
             0.6666666666666666,
             "#ed7953"
            ],
            [
             0.7777777777777778,
             "#fb9f3a"
            ],
            [
             0.8888888888888888,
             "#fdca26"
            ],
            [
             1,
             "#f0f921"
            ]
           ]
          },
          "colorway": [
           "#636efa",
           "#EF553B",
           "#00cc96",
           "#ab63fa",
           "#FFA15A",
           "#19d3f3",
           "#FF6692",
           "#B6E880",
           "#FF97FF",
           "#FECB52"
          ],
          "font": {
           "color": "#2a3f5f"
          },
          "geo": {
           "bgcolor": "white",
           "lakecolor": "white",
           "landcolor": "white",
           "showlakes": true,
           "showland": true,
           "subunitcolor": "#C8D4E3"
          },
          "hoverlabel": {
           "align": "left"
          },
          "hovermode": "closest",
          "mapbox": {
           "style": "light"
          },
          "paper_bgcolor": "white",
          "plot_bgcolor": "white",
          "polar": {
           "angularaxis": {
            "gridcolor": "#EBF0F8",
            "linecolor": "#EBF0F8",
            "ticks": ""
           },
           "bgcolor": "white",
           "radialaxis": {
            "gridcolor": "#EBF0F8",
            "linecolor": "#EBF0F8",
            "ticks": ""
           }
          },
          "scene": {
           "xaxis": {
            "backgroundcolor": "white",
            "gridcolor": "#DFE8F3",
            "gridwidth": 2,
            "linecolor": "#EBF0F8",
            "showbackground": true,
            "ticks": "",
            "zerolinecolor": "#EBF0F8"
           },
           "yaxis": {
            "backgroundcolor": "white",
            "gridcolor": "#DFE8F3",
            "gridwidth": 2,
            "linecolor": "#EBF0F8",
            "showbackground": true,
            "ticks": "",
            "zerolinecolor": "#EBF0F8"
           },
           "zaxis": {
            "backgroundcolor": "white",
            "gridcolor": "#DFE8F3",
            "gridwidth": 2,
            "linecolor": "#EBF0F8",
            "showbackground": true,
            "ticks": "",
            "zerolinecolor": "#EBF0F8"
           }
          },
          "shapedefaults": {
           "line": {
            "color": "#2a3f5f"
           }
          },
          "ternary": {
           "aaxis": {
            "gridcolor": "#DFE8F3",
            "linecolor": "#A2B1C6",
            "ticks": ""
           },
           "baxis": {
            "gridcolor": "#DFE8F3",
            "linecolor": "#A2B1C6",
            "ticks": ""
           },
           "bgcolor": "white",
           "caxis": {
            "gridcolor": "#DFE8F3",
            "linecolor": "#A2B1C6",
            "ticks": ""
           }
          },
          "title": {
           "x": 0.05
          },
          "xaxis": {
           "automargin": true,
           "gridcolor": "#EBF0F8",
           "linecolor": "#EBF0F8",
           "ticks": "",
           "title": {
            "standoff": 15
           },
           "zerolinecolor": "#EBF0F8",
           "zerolinewidth": 2
          },
          "yaxis": {
           "automargin": true,
           "gridcolor": "#EBF0F8",
           "linecolor": "#EBF0F8",
           "ticks": "",
           "title": {
            "standoff": 15
           },
           "zerolinecolor": "#EBF0F8",
           "zerolinewidth": 2
          }
         }
        },
        "title": {
         "text": "Top 10 Car Manufacturers by Total Registrations"
        },
        "width": 900,
        "xaxis": {
         "anchor": "y",
         "categoryarray": [
          "FORD",
          "VAUXHALL",
          "VOLKSWAGEN",
          "PEUGEOT",
          "BMW",
          "TOYOTA",
          "NISSAN",
          "RENAULT",
          "AUDI",
          "MERCEDES"
         ],
         "categoryorder": "array",
         "domain": [
          0,
          1
         ],
         "title": {
          "text": "Manufacturer (Make)"
         }
        },
        "yaxis": {
         "anchor": "x",
         "domain": [
          0,
          1
         ],
         "title": {
          "text": "Total Registrations"
         }
        }
       }
      }
     },
     "metadata": {},
     "output_type": "display_data"
    }
   ],
   "source": [
    "top_makes = (\n",
    "    df.groupby(\"Make\", as_index=False)[\"Registrations\"]\n",
    "      .sum()\n",
    "      .sort_values(\"Registrations\", ascending=False)\n",
    "      .head(10)\n",
    ")\n",
    "top_makes\n",
    "\n",
    "# --- Aggregate top makes ---\n",
    "top_makes = (\n",
    "    df.groupby(\"Make\", as_index=False)[\"Registrations\"]\n",
    "      .sum()\n",
    "      .sort_values(\"Registrations\", ascending=False)\n",
    "      .head(10)\n",
    ")\n",
    "\n",
    "# --- Compute % share (optional) ---\n",
    "total_reg = top_makes[\"Registrations\"].sum()\n",
    "top_makes[\"MarketShare_%\"] = 100 * top_makes[\"Registrations\"] / total_reg\n",
    "\n",
    "# --- Plot bar chart ---\n",
    "fig = px.bar(\n",
    "    top_makes,\n",
    "    x=\"Make\",\n",
    "    y=\"Registrations\",\n",
    "    text=top_makes[\"MarketShare_%\"].round(1).astype(str) + \"%\",\n",
    "    title=\"Top 10 Car Manufacturers by Total Registrations\",\n",
    "    color=\"Make\",\n",
    "    color_discrete_sequence=px.colors.qualitative.Vivid\n",
    ")\n",
    "\n",
    "fig.update_traces(textposition=\"outside\")\n",
    "fig.update_layout(\n",
    "    xaxis_title=\"Manufacturer (Make)\",\n",
    "    yaxis_title=\"Total Registrations\",\n",
    "    template=\"plotly_white\",\n",
    "    width=900,\n",
    "    height=500,\n",
    "    showlegend=False\n",
    ")\n",
    "\n",
    "# --- Save outputs ---\n",
    "fig.write_image(FIG_DIR / \"top_makes.pdf\")\n",
    "\n",
    "fig.show()"
   ]
  },
  {
   "cell_type": "markdown",
   "id": "4861da00",
   "metadata": {},
   "source": [
    "### 4.1.9 Chinese Brand Composition in the UK (Bar Plot Over Years)"
   ]
  },
  {
   "cell_type": "code",
   "execution_count": null,
   "id": "6a7c8db1",
   "metadata": {},
   "outputs": [
    {
     "data": {
      "application/vnd.plotly.v1+json": {
       "config": {
        "plotlyServerURL": "https://plot.ly"
       },
       "data": [
        {
         "hovertemplate": "Make=LDV<br>Year=%{x}<br>Registrations=%{y}<extra></extra>",
         "legendgroup": "LDV",
         "marker": {
          "color": "rgb(229, 134, 6)",
          "pattern": {
           "shape": ""
          }
         },
         "name": "LDV",
         "orientation": "v",
         "showlegend": true,
         "textposition": "auto",
         "texttemplate": "%{y:.2s}",
         "type": "bar",
         "x": {
          "bdata": "0AfRB9IH0wfUB9UH1gfXB9gH2QfaB9sH3AfdB94H3wfgB+EH4gfjB+QH5QfmBw==",
          "dtype": "i2"
         },
         "xaxis": "x",
         "y": {
          "bdata": "hgCrALsAvADPAMcA6ADqAMEBnAPGA5EDPwPdAl0CLAIBAtgBpwGGAWkBUAEqAQ==",
          "dtype": "i2"
         },
         "yaxis": "y"
        },
        {
         "hovertemplate": "Make=LONDON TAXIS INT.<br>Year=%{x}<br>Registrations=%{y}<extra></extra>",
         "legendgroup": "LONDON TAXIS INT.",
         "marker": {
          "color": "rgb(93, 105, 177)",
          "pattern": {
           "shape": ""
          }
         },
         "name": "LONDON TAXIS INT.",
         "orientation": "v",
         "showlegend": true,
         "textposition": "auto",
         "texttemplate": "%{y:.2s}",
         "type": "bar",
         "x": {
          "bdata": "0AfRB9IH",
          "dtype": "i2"
         },
         "xaxis": "x",
         "y": {
          "bdata": "bAB+AIAA",
          "dtype": "i2"
         },
         "yaxis": "y"
        },
        {
         "hovertemplate": "Make=LOTUS<br>Year=%{x}<br>Registrations=%{y}<extra></extra>",
         "legendgroup": "LOTUS",
         "marker": {
          "color": "rgb(82, 188, 163)",
          "pattern": {
           "shape": ""
          }
         },
         "name": "LOTUS",
         "orientation": "v",
         "showlegend": true,
         "textposition": "auto",
         "texttemplate": "%{y:.2s}",
         "type": "bar",
         "x": {
          "bdata": "0AfRB9IH0wfUB9UH1gfXB9gH2QfaB9sH3AfdB94H3wfgB+EH4gfjB+QH5QfmB+cH6Ac=",
          "dtype": "i2"
         },
         "xaxis": "x",
         "y": {
          "bdata": "wzIAAIA1AADpOAAA2zoAADY9AABDPgAAXT4AAF9OAAAZnAAAKzEBAEEnAQBsIAEAJBYBAMsRAQCsFQEAbhkBAPAgAQBkJQEAvigBAF0uAQAAMwEAdDYBAGU6AQAPSAEAJl8BAA==",
          "dtype": "i4"
         },
         "yaxis": "y"
        },
        {
         "hovertemplate": "Make=MG<br>Year=%{x}<br>Registrations=%{y}<extra></extra>",
         "legendgroup": "MG",
         "marker": {
          "color": "rgb(153, 201, 69)",
          "pattern": {
           "shape": ""
          }
         },
         "name": "MG",
         "orientation": "v",
         "showlegend": true,
         "textposition": "auto",
         "texttemplate": "%{y:.2s}",
         "type": "bar",
         "x": {
          "bdata": "0AfRB9IH0wfUB9UH1gfXB9gH2QfaB9sH3AfdB94H3wfgB+EH4gfjB+QH5QfmB+cH6Ac=",
          "dtype": "i2"
         },
         "xaxis": "x",
         "y": {
          "bdata": "0ooBABugAQAm+wEAYG8CAA7WAgBgAgMAIPECAHlGAwDnaQYAi6sMAD5FDAAH2QsARU8LANCtCgA1OgoAd70JAABzCQAWMwkAhyMJAFh6CQDbNwoA0oQLAHfmDQCYsREARzcWAA==",
          "dtype": "i4"
         },
         "yaxis": "y"
        },
        {
         "hovertemplate": "Make=Other Chinese<br>Year=%{x}<br>Registrations=%{y}<extra></extra>",
         "legendgroup": "Other Chinese",
         "marker": {
          "color": "rgb(204, 97, 176)",
          "pattern": {
           "shape": ""
          }
         },
         "name": "Other Chinese",
         "orientation": "v",
         "showlegend": true,
         "textposition": "auto",
         "texttemplate": "%{y:.2s}",
         "type": "bar",
         "x": {
          "bdata": "0AfRB9IH0wfUB9UH1gfXB9gH2QfaB9sH3AfdB94H3wfgB+EH4gfjB+QH5QfmB+cH6Ac=",
          "dtype": "i2"
         },
         "xaxis": "x",
         "y": {
          "bdata": "BwALAAkAhgC2ANgA3wAIAVQCcAQlBC0EAQTDA6YDlgOHA3ADbgMyAz8DXgO8A0YMwTM=",
          "dtype": "i2"
         },
         "yaxis": "y"
        },
        {
         "hovertemplate": "Make=PROTON<br>Year=%{x}<br>Registrations=%{y}<extra></extra>",
         "legendgroup": "PROTON",
         "marker": {
          "color": "rgb(36, 121, 108)",
          "pattern": {
           "shape": ""
          }
         },
         "name": "PROTON",
         "orientation": "v",
         "showlegend": true,
         "textposition": "auto",
         "texttemplate": "%{y:.2s}",
         "type": "bar",
         "x": {
          "bdata": "0AfRB9IH0wfUB9UH1gfXB9gH2QfaB9sH3AfdB94H3wfgB+EH4gfjB+QH5QfmB+cH6Ac=",
          "dtype": "i2"
         },
         "xaxis": "x",
         "y": {
          "bdata": "rnwBAH90AQDHXwEAcj4BAJcdAQA9+AAAn9UAAGnDAADkUgEAhVgCABz9AQDYrgEAs2wBALw1AQDZCQEAieQAAOLIAADfqwAAQJEAADl7AACtaQAAR1gAAGZLAADNQgAARjoAAA==",
          "dtype": "i4"
         },
         "yaxis": "y"
        },
        {
         "hovertemplate": "Make=ROVER<br>Year=%{x}<br>Registrations=%{y}<extra></extra>",
         "legendgroup": "ROVER",
         "marker": {
          "color": "rgb(218, 165, 27)",
          "pattern": {
           "shape": ""
          }
         },
         "name": "ROVER",
         "orientation": "v",
         "showlegend": true,
         "textposition": "auto",
         "texttemplate": "%{y:.2s}",
         "type": "bar",
         "x": {
          "bdata": "0AfRB9IH0wfUB9UH1gfXB9gH2QfaB9sH3AfdB94H3wfgB+EH4gfjB+QH5QfmB+cH6Ac=",
          "dtype": "i2"
         },
         "xaxis": "x",
         "y": {
          "bdata": "AggdAFUzHABBzRoAxsoYAL7BFgBKChQAqPQQAA+EDwD4gBoAJ34uAPKKJgDB8B8A80MaAJ25FQAKUhIAQXwPAMVZDQD2bgsAkNwJAIvKCAADGQgAYH4HAIMNBwBtuQYAdHMGAA==",
          "dtype": "i4"
         },
         "yaxis": "y"
        },
        {
         "hovertemplate": "Make=SMART<br>Year=%{x}<br>Registrations=%{y}<extra></extra>",
         "legendgroup": "SMART",
         "marker": {
          "color": "rgb(47, 138, 196)",
          "pattern": {
           "shape": ""
          }
         },
         "name": "SMART",
         "orientation": "v",
         "showlegend": true,
         "textposition": "auto",
         "texttemplate": "%{y:.2s}",
         "type": "bar",
         "x": {
          "bdata": "0wfUB9UH1gfXB9gH2QfaB9sH3AfdB94H3wfgB+EH4gfjB+QH5QfmB+cH6Ac=",
          "dtype": "i2"
         },
         "xaxis": "x",
         "y": {
          "bdata": "thIAAGM7AABgXwAAVXoAABqOAADPTwEAzPECALplAwDvsQMAee4DALkzBADqaAQA+p0EAFQnBQBYuAUA+QwGADQ+BgCjMAYAJyMGAOUZBgCpAQYAIfkFAA==",
          "dtype": "i4"
         },
         "yaxis": "y"
        },
        {
         "hovertemplate": "Make=ORA<br>Year=%{x}<br>Registrations=%{y}<extra></extra>",
         "legendgroup": "ORA",
         "marker": {
          "color": "rgb(118, 78, 159)",
          "pattern": {
           "shape": ""
          }
         },
         "name": "ORA",
         "orientation": "v",
         "showlegend": true,
         "textposition": "auto",
         "texttemplate": "%{y:.2s}",
         "type": "bar",
         "x": {
          "bdata": "5wc=",
          "dtype": "i2"
         },
         "xaxis": "x",
         "y": {
          "bdata": "Xgg=",
          "dtype": "i2"
         },
         "yaxis": "y"
        },
        {
         "hovertemplate": "Make=BYD<br>Year=%{x}<br>Registrations=%{y}<extra></extra>",
         "legendgroup": "BYD",
         "marker": {
          "color": "rgb(237, 100, 90)",
          "pattern": {
           "shape": ""
          }
         },
         "name": "BYD",
         "orientation": "v",
         "showlegend": true,
         "textposition": "auto",
         "texttemplate": "%{y:.2s}",
         "type": "bar",
         "x": {
          "bdata": "6Ac=",
          "dtype": "i2"
         },
         "xaxis": "x",
         "y": {
          "bdata": "plc=",
          "dtype": "i2"
         },
         "yaxis": "y"
        }
       ],
       "layout": {
        "barmode": "stack",
        "legend": {
         "title": {
          "text": "Chinese Brand"
         },
         "tracegroupgap": 0
        },
        "template": {
         "data": {
          "bar": [
           {
            "error_x": {
             "color": "#2a3f5f"
            },
            "error_y": {
             "color": "#2a3f5f"
            },
            "marker": {
             "line": {
              "color": "white",
              "width": 0.5
             },
             "pattern": {
              "fillmode": "overlay",
              "size": 10,
              "solidity": 0.2
             }
            },
            "type": "bar"
           }
          ],
          "barpolar": [
           {
            "marker": {
             "line": {
              "color": "white",
              "width": 0.5
             },
             "pattern": {
              "fillmode": "overlay",
              "size": 10,
              "solidity": 0.2
             }
            },
            "type": "barpolar"
           }
          ],
          "carpet": [
           {
            "aaxis": {
             "endlinecolor": "#2a3f5f",
             "gridcolor": "#C8D4E3",
             "linecolor": "#C8D4E3",
             "minorgridcolor": "#C8D4E3",
             "startlinecolor": "#2a3f5f"
            },
            "baxis": {
             "endlinecolor": "#2a3f5f",
             "gridcolor": "#C8D4E3",
             "linecolor": "#C8D4E3",
             "minorgridcolor": "#C8D4E3",
             "startlinecolor": "#2a3f5f"
            },
            "type": "carpet"
           }
          ],
          "choropleth": [
           {
            "colorbar": {
             "outlinewidth": 0,
             "ticks": ""
            },
            "type": "choropleth"
           }
          ],
          "contour": [
           {
            "colorbar": {
             "outlinewidth": 0,
             "ticks": ""
            },
            "colorscale": [
             [
              0,
              "#0d0887"
             ],
             [
              0.1111111111111111,
              "#46039f"
             ],
             [
              0.2222222222222222,
              "#7201a8"
             ],
             [
              0.3333333333333333,
              "#9c179e"
             ],
             [
              0.4444444444444444,
              "#bd3786"
             ],
             [
              0.5555555555555556,
              "#d8576b"
             ],
             [
              0.6666666666666666,
              "#ed7953"
             ],
             [
              0.7777777777777778,
              "#fb9f3a"
             ],
             [
              0.8888888888888888,
              "#fdca26"
             ],
             [
              1,
              "#f0f921"
             ]
            ],
            "type": "contour"
           }
          ],
          "contourcarpet": [
           {
            "colorbar": {
             "outlinewidth": 0,
             "ticks": ""
            },
            "type": "contourcarpet"
           }
          ],
          "heatmap": [
           {
            "colorbar": {
             "outlinewidth": 0,
             "ticks": ""
            },
            "colorscale": [
             [
              0,
              "#0d0887"
             ],
             [
              0.1111111111111111,
              "#46039f"
             ],
             [
              0.2222222222222222,
              "#7201a8"
             ],
             [
              0.3333333333333333,
              "#9c179e"
             ],
             [
              0.4444444444444444,
              "#bd3786"
             ],
             [
              0.5555555555555556,
              "#d8576b"
             ],
             [
              0.6666666666666666,
              "#ed7953"
             ],
             [
              0.7777777777777778,
              "#fb9f3a"
             ],
             [
              0.8888888888888888,
              "#fdca26"
             ],
             [
              1,
              "#f0f921"
             ]
            ],
            "type": "heatmap"
           }
          ],
          "histogram": [
           {
            "marker": {
             "pattern": {
              "fillmode": "overlay",
              "size": 10,
              "solidity": 0.2
             }
            },
            "type": "histogram"
           }
          ],
          "histogram2d": [
           {
            "colorbar": {
             "outlinewidth": 0,
             "ticks": ""
            },
            "colorscale": [
             [
              0,
              "#0d0887"
             ],
             [
              0.1111111111111111,
              "#46039f"
             ],
             [
              0.2222222222222222,
              "#7201a8"
             ],
             [
              0.3333333333333333,
              "#9c179e"
             ],
             [
              0.4444444444444444,
              "#bd3786"
             ],
             [
              0.5555555555555556,
              "#d8576b"
             ],
             [
              0.6666666666666666,
              "#ed7953"
             ],
             [
              0.7777777777777778,
              "#fb9f3a"
             ],
             [
              0.8888888888888888,
              "#fdca26"
             ],
             [
              1,
              "#f0f921"
             ]
            ],
            "type": "histogram2d"
           }
          ],
          "histogram2dcontour": [
           {
            "colorbar": {
             "outlinewidth": 0,
             "ticks": ""
            },
            "colorscale": [
             [
              0,
              "#0d0887"
             ],
             [
              0.1111111111111111,
              "#46039f"
             ],
             [
              0.2222222222222222,
              "#7201a8"
             ],
             [
              0.3333333333333333,
              "#9c179e"
             ],
             [
              0.4444444444444444,
              "#bd3786"
             ],
             [
              0.5555555555555556,
              "#d8576b"
             ],
             [
              0.6666666666666666,
              "#ed7953"
             ],
             [
              0.7777777777777778,
              "#fb9f3a"
             ],
             [
              0.8888888888888888,
              "#fdca26"
             ],
             [
              1,
              "#f0f921"
             ]
            ],
            "type": "histogram2dcontour"
           }
          ],
          "mesh3d": [
           {
            "colorbar": {
             "outlinewidth": 0,
             "ticks": ""
            },
            "type": "mesh3d"
           }
          ],
          "parcoords": [
           {
            "line": {
             "colorbar": {
              "outlinewidth": 0,
              "ticks": ""
             }
            },
            "type": "parcoords"
           }
          ],
          "pie": [
           {
            "automargin": true,
            "type": "pie"
           }
          ],
          "scatter": [
           {
            "fillpattern": {
             "fillmode": "overlay",
             "size": 10,
             "solidity": 0.2
            },
            "type": "scatter"
           }
          ],
          "scatter3d": [
           {
            "line": {
             "colorbar": {
              "outlinewidth": 0,
              "ticks": ""
             }
            },
            "marker": {
             "colorbar": {
              "outlinewidth": 0,
              "ticks": ""
             }
            },
            "type": "scatter3d"
           }
          ],
          "scattercarpet": [
           {
            "marker": {
             "colorbar": {
              "outlinewidth": 0,
              "ticks": ""
             }
            },
            "type": "scattercarpet"
           }
          ],
          "scattergeo": [
           {
            "marker": {
             "colorbar": {
              "outlinewidth": 0,
              "ticks": ""
             }
            },
            "type": "scattergeo"
           }
          ],
          "scattergl": [
           {
            "marker": {
             "colorbar": {
              "outlinewidth": 0,
              "ticks": ""
             }
            },
            "type": "scattergl"
           }
          ],
          "scattermap": [
           {
            "marker": {
             "colorbar": {
              "outlinewidth": 0,
              "ticks": ""
             }
            },
            "type": "scattermap"
           }
          ],
          "scattermapbox": [
           {
            "marker": {
             "colorbar": {
              "outlinewidth": 0,
              "ticks": ""
             }
            },
            "type": "scattermapbox"
           }
          ],
          "scatterpolar": [
           {
            "marker": {
             "colorbar": {
              "outlinewidth": 0,
              "ticks": ""
             }
            },
            "type": "scatterpolar"
           }
          ],
          "scatterpolargl": [
           {
            "marker": {
             "colorbar": {
              "outlinewidth": 0,
              "ticks": ""
             }
            },
            "type": "scatterpolargl"
           }
          ],
          "scatterternary": [
           {
            "marker": {
             "colorbar": {
              "outlinewidth": 0,
              "ticks": ""
             }
            },
            "type": "scatterternary"
           }
          ],
          "surface": [
           {
            "colorbar": {
             "outlinewidth": 0,
             "ticks": ""
            },
            "colorscale": [
             [
              0,
              "#0d0887"
             ],
             [
              0.1111111111111111,
              "#46039f"
             ],
             [
              0.2222222222222222,
              "#7201a8"
             ],
             [
              0.3333333333333333,
              "#9c179e"
             ],
             [
              0.4444444444444444,
              "#bd3786"
             ],
             [
              0.5555555555555556,
              "#d8576b"
             ],
             [
              0.6666666666666666,
              "#ed7953"
             ],
             [
              0.7777777777777778,
              "#fb9f3a"
             ],
             [
              0.8888888888888888,
              "#fdca26"
             ],
             [
              1,
              "#f0f921"
             ]
            ],
            "type": "surface"
           }
          ],
          "table": [
           {
            "cells": {
             "fill": {
              "color": "#EBF0F8"
             },
             "line": {
              "color": "white"
             }
            },
            "header": {
             "fill": {
              "color": "#C8D4E3"
             },
             "line": {
              "color": "white"
             }
            },
            "type": "table"
           }
          ]
         },
         "layout": {
          "annotationdefaults": {
           "arrowcolor": "#2a3f5f",
           "arrowhead": 0,
           "arrowwidth": 1
          },
          "autotypenumbers": "strict",
          "coloraxis": {
           "colorbar": {
            "outlinewidth": 0,
            "ticks": ""
           }
          },
          "colorscale": {
           "diverging": [
            [
             0,
             "#8e0152"
            ],
            [
             0.1,
             "#c51b7d"
            ],
            [
             0.2,
             "#de77ae"
            ],
            [
             0.3,
             "#f1b6da"
            ],
            [
             0.4,
             "#fde0ef"
            ],
            [
             0.5,
             "#f7f7f7"
            ],
            [
             0.6,
             "#e6f5d0"
            ],
            [
             0.7,
             "#b8e186"
            ],
            [
             0.8,
             "#7fbc41"
            ],
            [
             0.9,
             "#4d9221"
            ],
            [
             1,
             "#276419"
            ]
           ],
           "sequential": [
            [
             0,
             "#0d0887"
            ],
            [
             0.1111111111111111,
             "#46039f"
            ],
            [
             0.2222222222222222,
             "#7201a8"
            ],
            [
             0.3333333333333333,
             "#9c179e"
            ],
            [
             0.4444444444444444,
             "#bd3786"
            ],
            [
             0.5555555555555556,
             "#d8576b"
            ],
            [
             0.6666666666666666,
             "#ed7953"
            ],
            [
             0.7777777777777778,
             "#fb9f3a"
            ],
            [
             0.8888888888888888,
             "#fdca26"
            ],
            [
             1,
             "#f0f921"
            ]
           ],
           "sequentialminus": [
            [
             0,
             "#0d0887"
            ],
            [
             0.1111111111111111,
             "#46039f"
            ],
            [
             0.2222222222222222,
             "#7201a8"
            ],
            [
             0.3333333333333333,
             "#9c179e"
            ],
            [
             0.4444444444444444,
             "#bd3786"
            ],
            [
             0.5555555555555556,
             "#d8576b"
            ],
            [
             0.6666666666666666,
             "#ed7953"
            ],
            [
             0.7777777777777778,
             "#fb9f3a"
            ],
            [
             0.8888888888888888,
             "#fdca26"
            ],
            [
             1,
             "#f0f921"
            ]
           ]
          },
          "colorway": [
           "#636efa",
           "#EF553B",
           "#00cc96",
           "#ab63fa",
           "#FFA15A",
           "#19d3f3",
           "#FF6692",
           "#B6E880",
           "#FF97FF",
           "#FECB52"
          ],
          "font": {
           "color": "#2a3f5f"
          },
          "geo": {
           "bgcolor": "white",
           "lakecolor": "white",
           "landcolor": "white",
           "showlakes": true,
           "showland": true,
           "subunitcolor": "#C8D4E3"
          },
          "hoverlabel": {
           "align": "left"
          },
          "hovermode": "closest",
          "mapbox": {
           "style": "light"
          },
          "paper_bgcolor": "white",
          "plot_bgcolor": "white",
          "polar": {
           "angularaxis": {
            "gridcolor": "#EBF0F8",
            "linecolor": "#EBF0F8",
            "ticks": ""
           },
           "bgcolor": "white",
           "radialaxis": {
            "gridcolor": "#EBF0F8",
            "linecolor": "#EBF0F8",
            "ticks": ""
           }
          },
          "scene": {
           "xaxis": {
            "backgroundcolor": "white",
            "gridcolor": "#DFE8F3",
            "gridwidth": 2,
            "linecolor": "#EBF0F8",
            "showbackground": true,
            "ticks": "",
            "zerolinecolor": "#EBF0F8"
           },
           "yaxis": {
            "backgroundcolor": "white",
            "gridcolor": "#DFE8F3",
            "gridwidth": 2,
            "linecolor": "#EBF0F8",
            "showbackground": true,
            "ticks": "",
            "zerolinecolor": "#EBF0F8"
           },
           "zaxis": {
            "backgroundcolor": "white",
            "gridcolor": "#DFE8F3",
            "gridwidth": 2,
            "linecolor": "#EBF0F8",
            "showbackground": true,
            "ticks": "",
            "zerolinecolor": "#EBF0F8"
           }
          },
          "shapedefaults": {
           "line": {
            "color": "#2a3f5f"
           }
          },
          "ternary": {
           "aaxis": {
            "gridcolor": "#DFE8F3",
            "linecolor": "#A2B1C6",
            "ticks": ""
           },
           "baxis": {
            "gridcolor": "#DFE8F3",
            "linecolor": "#A2B1C6",
            "ticks": ""
           },
           "bgcolor": "white",
           "caxis": {
            "gridcolor": "#DFE8F3",
            "linecolor": "#A2B1C6",
            "ticks": ""
           }
          },
          "title": {
           "x": 0.05
          },
          "xaxis": {
           "automargin": true,
           "gridcolor": "#EBF0F8",
           "linecolor": "#EBF0F8",
           "ticks": "",
           "title": {
            "standoff": 15
           },
           "zerolinecolor": "#EBF0F8",
           "zerolinewidth": 2
          },
          "yaxis": {
           "automargin": true,
           "gridcolor": "#EBF0F8",
           "linecolor": "#EBF0F8",
           "ticks": "",
           "title": {
            "standoff": 15
           },
           "zerolinecolor": "#EBF0F8",
           "zerolinewidth": 2
          }
         }
        },
        "title": {
         "text": "Chinese Brand Composition in the UK Market (by Year)"
        },
        "xaxis": {
         "anchor": "y",
         "domain": [
          0,
          1
         ],
         "title": {
          "text": "Year"
         }
        },
        "yaxis": {
         "anchor": "x",
         "domain": [
          0,
          1
         ],
         "title": {
          "text": "Registrations"
         }
        }
       }
      }
     },
     "metadata": {},
     "output_type": "display_data"
    }
   ],
   "source": [
    "# --- Filter dataset to Chinese parent companies ---\n",
    "df_china = df_veh_raw[\n",
    "    (df_veh_raw[\"ParentCountry\"] == \"China\") & (df_veh_raw[\"Year\"] < 2025)\n",
    "].copy()\n",
    "\n",
    "# --- Aggregate registrations by Year × Make ---\n",
    "china_comp = (\n",
    "    df_china.groupby([\"Year\", \"Make\"], as_index=False)[\"Registrations\"]\n",
    "            .sum()\n",
    "            .sort_values([\"Year\", \"Registrations\"], ascending=[True, False])\n",
    ")\n",
    "\n",
    "# --- Optional: keep top N brands for each year (rest -> 'Other Chinese') ---\n",
    "top_brands = (\n",
    "    china_comp.groupby(\"Year\")[\"Registrations\"]\n",
    "              .apply(lambda x: x.nlargest(6).index)\n",
    "              .explode()\n",
    ")\n",
    "china_comp[\"Make\"] = china_comp.apply(\n",
    "    lambda r: r[\"Make\"] if r.name in top_brands.values else \"Other Chinese\", axis=1\n",
    ")\n",
    "\n",
    "china_comp = (\n",
    "    china_comp.groupby([\"Year\", \"Make\"], as_index=False)[\"Registrations\"]\n",
    "              .sum()\n",
    ")\n",
    "\n",
    "# --- Plotly bar chart ---\n",
    "fig = px.bar(\n",
    "    china_comp,\n",
    "    x=\"Year\",\n",
    "    y=\"Registrations\",\n",
    "    color=\"Make\",\n",
    "    title=\"Chinese Brand Composition in the UK Market (by Year)\",\n",
    "    text_auto=\".2s\",\n",
    "    color_discrete_sequence=px.colors.qualitative.Vivid\n",
    ")\n",
    "\n",
    "fig.update_layout(\n",
    "    barmode=\"stack\",        # or \"group\" if you prefer side-by-side bars\n",
    "    xaxis_title=\"Year\",\n",
    "    yaxis_title=\"Registrations\",\n",
    "    legend_title_text=\"Chinese Brand\",\n",
    "    template=\"plotly_white\"\n",
    ")\n",
    "\n",
    "fig.write_image(FIG_DIR / \"chinese_brand_comp.pdf\")\n",
    "\n",
    "fig.show()"
   ]
  },
  {
   "cell_type": "markdown",
   "id": "3bcba17a",
   "metadata": {},
   "source": [
    "### 4.1.10 China vs Germany in the UK"
   ]
  },
  {
   "cell_type": "code",
   "execution_count": 440,
   "id": "b1941de5",
   "metadata": {},
   "outputs": [
    {
     "data": {
      "application/vnd.plotly.v1+json": {
       "config": {
        "plotlyServerURL": "https://plot.ly"
       },
       "data": [
        {
         "hovertemplate": "ParentCountry=China<br>Year=%{x}<br>Registrations=%{y}<extra></extra>",
         "legendgroup": "China",
         "line": {
          "color": "red",
          "dash": "solid"
         },
         "marker": {
          "symbol": "circle"
         },
         "mode": "lines+markers",
         "name": "China",
         "orientation": "v",
         "showlegend": true,
         "type": "scatter",
         "x": {
          "bdata": "0AfRB9IH0wfUB9UH1gfXB9gH2QfaB9sH3AfdB94H3wfgB+EH4gfjB+QH5QfmB+cH6Ac=",
          "dtype": "i2"
         },
         "xaxis": "x",
         "y": {
          "bdata": "PkMgAKN+HwBbYh4Aa8ccAIEvGwAppBgA4HUVAFxsFADALSQAOq1BADJiOQC5UjIAyAssAE3pJgCxGiMAa9sfAHPjHQDvMBwAI8waAGUxGgDWIhoAwrkaAJCYHAAuDCAAr8gkAA==",
          "dtype": "i4"
         },
         "yaxis": "y"
        },
        {
         "hovertemplate": "ParentCountry=Germany<br>Year=%{x}<br>Registrations=%{y}<extra></extra>",
         "legendgroup": "Germany",
         "line": {
          "color": "steelblue",
          "dash": "solid"
         },
         "marker": {
          "symbol": "circle"
         },
         "mode": "lines+markers",
         "name": "Germany",
         "orientation": "v",
         "showlegend": true,
         "type": "scatter",
         "x": {
          "bdata": "0AfRB9IH0wfUB9UH1gfXB9gH2QfaB9sH3AfdB94H3wfgB+EH4gfjB+QH5QfmB+cH6Ac=",
          "dtype": "i2"
         },
         "xaxis": "x",
         "y": {
          "bdata": "g18yALFBNwCynTwAEcJBAGNSRwA7v0wA7kZRAPLPWQCiQrwA9NmDAVGhlAGPn6cBEtO7AbPj0wEtDPIBq9kPAutrMwJPd1UCqD1zAiTHjwLoAqECC9qzAmwxwQLdqNICy3vnAg==",
          "dtype": "i4"
         },
         "yaxis": "y"
        }
       ],
       "layout": {
        "legend": {
         "title": {
          "text": "ParentCountry"
         },
         "tracegroupgap": 0
        },
        "template": {
         "data": {
          "bar": [
           {
            "error_x": {
             "color": "#2a3f5f"
            },
            "error_y": {
             "color": "#2a3f5f"
            },
            "marker": {
             "line": {
              "color": "white",
              "width": 0.5
             },
             "pattern": {
              "fillmode": "overlay",
              "size": 10,
              "solidity": 0.2
             }
            },
            "type": "bar"
           }
          ],
          "barpolar": [
           {
            "marker": {
             "line": {
              "color": "white",
              "width": 0.5
             },
             "pattern": {
              "fillmode": "overlay",
              "size": 10,
              "solidity": 0.2
             }
            },
            "type": "barpolar"
           }
          ],
          "carpet": [
           {
            "aaxis": {
             "endlinecolor": "#2a3f5f",
             "gridcolor": "#C8D4E3",
             "linecolor": "#C8D4E3",
             "minorgridcolor": "#C8D4E3",
             "startlinecolor": "#2a3f5f"
            },
            "baxis": {
             "endlinecolor": "#2a3f5f",
             "gridcolor": "#C8D4E3",
             "linecolor": "#C8D4E3",
             "minorgridcolor": "#C8D4E3",
             "startlinecolor": "#2a3f5f"
            },
            "type": "carpet"
           }
          ],
          "choropleth": [
           {
            "colorbar": {
             "outlinewidth": 0,
             "ticks": ""
            },
            "type": "choropleth"
           }
          ],
          "contour": [
           {
            "colorbar": {
             "outlinewidth": 0,
             "ticks": ""
            },
            "colorscale": [
             [
              0,
              "#0d0887"
             ],
             [
              0.1111111111111111,
              "#46039f"
             ],
             [
              0.2222222222222222,
              "#7201a8"
             ],
             [
              0.3333333333333333,
              "#9c179e"
             ],
             [
              0.4444444444444444,
              "#bd3786"
             ],
             [
              0.5555555555555556,
              "#d8576b"
             ],
             [
              0.6666666666666666,
              "#ed7953"
             ],
             [
              0.7777777777777778,
              "#fb9f3a"
             ],
             [
              0.8888888888888888,
              "#fdca26"
             ],
             [
              1,
              "#f0f921"
             ]
            ],
            "type": "contour"
           }
          ],
          "contourcarpet": [
           {
            "colorbar": {
             "outlinewidth": 0,
             "ticks": ""
            },
            "type": "contourcarpet"
           }
          ],
          "heatmap": [
           {
            "colorbar": {
             "outlinewidth": 0,
             "ticks": ""
            },
            "colorscale": [
             [
              0,
              "#0d0887"
             ],
             [
              0.1111111111111111,
              "#46039f"
             ],
             [
              0.2222222222222222,
              "#7201a8"
             ],
             [
              0.3333333333333333,
              "#9c179e"
             ],
             [
              0.4444444444444444,
              "#bd3786"
             ],
             [
              0.5555555555555556,
              "#d8576b"
             ],
             [
              0.6666666666666666,
              "#ed7953"
             ],
             [
              0.7777777777777778,
              "#fb9f3a"
             ],
             [
              0.8888888888888888,
              "#fdca26"
             ],
             [
              1,
              "#f0f921"
             ]
            ],
            "type": "heatmap"
           }
          ],
          "histogram": [
           {
            "marker": {
             "pattern": {
              "fillmode": "overlay",
              "size": 10,
              "solidity": 0.2
             }
            },
            "type": "histogram"
           }
          ],
          "histogram2d": [
           {
            "colorbar": {
             "outlinewidth": 0,
             "ticks": ""
            },
            "colorscale": [
             [
              0,
              "#0d0887"
             ],
             [
              0.1111111111111111,
              "#46039f"
             ],
             [
              0.2222222222222222,
              "#7201a8"
             ],
             [
              0.3333333333333333,
              "#9c179e"
             ],
             [
              0.4444444444444444,
              "#bd3786"
             ],
             [
              0.5555555555555556,
              "#d8576b"
             ],
             [
              0.6666666666666666,
              "#ed7953"
             ],
             [
              0.7777777777777778,
              "#fb9f3a"
             ],
             [
              0.8888888888888888,
              "#fdca26"
             ],
             [
              1,
              "#f0f921"
             ]
            ],
            "type": "histogram2d"
           }
          ],
          "histogram2dcontour": [
           {
            "colorbar": {
             "outlinewidth": 0,
             "ticks": ""
            },
            "colorscale": [
             [
              0,
              "#0d0887"
             ],
             [
              0.1111111111111111,
              "#46039f"
             ],
             [
              0.2222222222222222,
              "#7201a8"
             ],
             [
              0.3333333333333333,
              "#9c179e"
             ],
             [
              0.4444444444444444,
              "#bd3786"
             ],
             [
              0.5555555555555556,
              "#d8576b"
             ],
             [
              0.6666666666666666,
              "#ed7953"
             ],
             [
              0.7777777777777778,
              "#fb9f3a"
             ],
             [
              0.8888888888888888,
              "#fdca26"
             ],
             [
              1,
              "#f0f921"
             ]
            ],
            "type": "histogram2dcontour"
           }
          ],
          "mesh3d": [
           {
            "colorbar": {
             "outlinewidth": 0,
             "ticks": ""
            },
            "type": "mesh3d"
           }
          ],
          "parcoords": [
           {
            "line": {
             "colorbar": {
              "outlinewidth": 0,
              "ticks": ""
             }
            },
            "type": "parcoords"
           }
          ],
          "pie": [
           {
            "automargin": true,
            "type": "pie"
           }
          ],
          "scatter": [
           {
            "fillpattern": {
             "fillmode": "overlay",
             "size": 10,
             "solidity": 0.2
            },
            "type": "scatter"
           }
          ],
          "scatter3d": [
           {
            "line": {
             "colorbar": {
              "outlinewidth": 0,
              "ticks": ""
             }
            },
            "marker": {
             "colorbar": {
              "outlinewidth": 0,
              "ticks": ""
             }
            },
            "type": "scatter3d"
           }
          ],
          "scattercarpet": [
           {
            "marker": {
             "colorbar": {
              "outlinewidth": 0,
              "ticks": ""
             }
            },
            "type": "scattercarpet"
           }
          ],
          "scattergeo": [
           {
            "marker": {
             "colorbar": {
              "outlinewidth": 0,
              "ticks": ""
             }
            },
            "type": "scattergeo"
           }
          ],
          "scattergl": [
           {
            "marker": {
             "colorbar": {
              "outlinewidth": 0,
              "ticks": ""
             }
            },
            "type": "scattergl"
           }
          ],
          "scattermap": [
           {
            "marker": {
             "colorbar": {
              "outlinewidth": 0,
              "ticks": ""
             }
            },
            "type": "scattermap"
           }
          ],
          "scattermapbox": [
           {
            "marker": {
             "colorbar": {
              "outlinewidth": 0,
              "ticks": ""
             }
            },
            "type": "scattermapbox"
           }
          ],
          "scatterpolar": [
           {
            "marker": {
             "colorbar": {
              "outlinewidth": 0,
              "ticks": ""
             }
            },
            "type": "scatterpolar"
           }
          ],
          "scatterpolargl": [
           {
            "marker": {
             "colorbar": {
              "outlinewidth": 0,
              "ticks": ""
             }
            },
            "type": "scatterpolargl"
           }
          ],
          "scatterternary": [
           {
            "marker": {
             "colorbar": {
              "outlinewidth": 0,
              "ticks": ""
             }
            },
            "type": "scatterternary"
           }
          ],
          "surface": [
           {
            "colorbar": {
             "outlinewidth": 0,
             "ticks": ""
            },
            "colorscale": [
             [
              0,
              "#0d0887"
             ],
             [
              0.1111111111111111,
              "#46039f"
             ],
             [
              0.2222222222222222,
              "#7201a8"
             ],
             [
              0.3333333333333333,
              "#9c179e"
             ],
             [
              0.4444444444444444,
              "#bd3786"
             ],
             [
              0.5555555555555556,
              "#d8576b"
             ],
             [
              0.6666666666666666,
              "#ed7953"
             ],
             [
              0.7777777777777778,
              "#fb9f3a"
             ],
             [
              0.8888888888888888,
              "#fdca26"
             ],
             [
              1,
              "#f0f921"
             ]
            ],
            "type": "surface"
           }
          ],
          "table": [
           {
            "cells": {
             "fill": {
              "color": "#EBF0F8"
             },
             "line": {
              "color": "white"
             }
            },
            "header": {
             "fill": {
              "color": "#C8D4E3"
             },
             "line": {
              "color": "white"
             }
            },
            "type": "table"
           }
          ]
         },
         "layout": {
          "annotationdefaults": {
           "arrowcolor": "#2a3f5f",
           "arrowhead": 0,
           "arrowwidth": 1
          },
          "autotypenumbers": "strict",
          "coloraxis": {
           "colorbar": {
            "outlinewidth": 0,
            "ticks": ""
           }
          },
          "colorscale": {
           "diverging": [
            [
             0,
             "#8e0152"
            ],
            [
             0.1,
             "#c51b7d"
            ],
            [
             0.2,
             "#de77ae"
            ],
            [
             0.3,
             "#f1b6da"
            ],
            [
             0.4,
             "#fde0ef"
            ],
            [
             0.5,
             "#f7f7f7"
            ],
            [
             0.6,
             "#e6f5d0"
            ],
            [
             0.7,
             "#b8e186"
            ],
            [
             0.8,
             "#7fbc41"
            ],
            [
             0.9,
             "#4d9221"
            ],
            [
             1,
             "#276419"
            ]
           ],
           "sequential": [
            [
             0,
             "#0d0887"
            ],
            [
             0.1111111111111111,
             "#46039f"
            ],
            [
             0.2222222222222222,
             "#7201a8"
            ],
            [
             0.3333333333333333,
             "#9c179e"
            ],
            [
             0.4444444444444444,
             "#bd3786"
            ],
            [
             0.5555555555555556,
             "#d8576b"
            ],
            [
             0.6666666666666666,
             "#ed7953"
            ],
            [
             0.7777777777777778,
             "#fb9f3a"
            ],
            [
             0.8888888888888888,
             "#fdca26"
            ],
            [
             1,
             "#f0f921"
            ]
           ],
           "sequentialminus": [
            [
             0,
             "#0d0887"
            ],
            [
             0.1111111111111111,
             "#46039f"
            ],
            [
             0.2222222222222222,
             "#7201a8"
            ],
            [
             0.3333333333333333,
             "#9c179e"
            ],
            [
             0.4444444444444444,
             "#bd3786"
            ],
            [
             0.5555555555555556,
             "#d8576b"
            ],
            [
             0.6666666666666666,
             "#ed7953"
            ],
            [
             0.7777777777777778,
             "#fb9f3a"
            ],
            [
             0.8888888888888888,
             "#fdca26"
            ],
            [
             1,
             "#f0f921"
            ]
           ]
          },
          "colorway": [
           "#636efa",
           "#EF553B",
           "#00cc96",
           "#ab63fa",
           "#FFA15A",
           "#19d3f3",
           "#FF6692",
           "#B6E880",
           "#FF97FF",
           "#FECB52"
          ],
          "font": {
           "color": "#2a3f5f"
          },
          "geo": {
           "bgcolor": "white",
           "lakecolor": "white",
           "landcolor": "white",
           "showlakes": true,
           "showland": true,
           "subunitcolor": "#C8D4E3"
          },
          "hoverlabel": {
           "align": "left"
          },
          "hovermode": "closest",
          "mapbox": {
           "style": "light"
          },
          "paper_bgcolor": "white",
          "plot_bgcolor": "white",
          "polar": {
           "angularaxis": {
            "gridcolor": "#EBF0F8",
            "linecolor": "#EBF0F8",
            "ticks": ""
           },
           "bgcolor": "white",
           "radialaxis": {
            "gridcolor": "#EBF0F8",
            "linecolor": "#EBF0F8",
            "ticks": ""
           }
          },
          "scene": {
           "xaxis": {
            "backgroundcolor": "white",
            "gridcolor": "#DFE8F3",
            "gridwidth": 2,
            "linecolor": "#EBF0F8",
            "showbackground": true,
            "ticks": "",
            "zerolinecolor": "#EBF0F8"
           },
           "yaxis": {
            "backgroundcolor": "white",
            "gridcolor": "#DFE8F3",
            "gridwidth": 2,
            "linecolor": "#EBF0F8",
            "showbackground": true,
            "ticks": "",
            "zerolinecolor": "#EBF0F8"
           },
           "zaxis": {
            "backgroundcolor": "white",
            "gridcolor": "#DFE8F3",
            "gridwidth": 2,
            "linecolor": "#EBF0F8",
            "showbackground": true,
            "ticks": "",
            "zerolinecolor": "#EBF0F8"
           }
          },
          "shapedefaults": {
           "line": {
            "color": "#2a3f5f"
           }
          },
          "ternary": {
           "aaxis": {
            "gridcolor": "#DFE8F3",
            "linecolor": "#A2B1C6",
            "ticks": ""
           },
           "baxis": {
            "gridcolor": "#DFE8F3",
            "linecolor": "#A2B1C6",
            "ticks": ""
           },
           "bgcolor": "white",
           "caxis": {
            "gridcolor": "#DFE8F3",
            "linecolor": "#A2B1C6",
            "ticks": ""
           }
          },
          "title": {
           "x": 0.05
          },
          "xaxis": {
           "automargin": true,
           "gridcolor": "#EBF0F8",
           "linecolor": "#EBF0F8",
           "ticks": "",
           "title": {
            "standoff": 15
           },
           "zerolinecolor": "#EBF0F8",
           "zerolinewidth": 2
          },
          "yaxis": {
           "automargin": true,
           "gridcolor": "#EBF0F8",
           "linecolor": "#EBF0F8",
           "ticks": "",
           "title": {
            "standoff": 15
           },
           "zerolinecolor": "#EBF0F8",
           "zerolinewidth": 2
          }
         }
        },
        "title": {
         "text": "UK Car Registrations: Chinese vs German Automakers"
        },
        "xaxis": {
         "anchor": "y",
         "domain": [
          0,
          1
         ],
         "title": {
          "text": "Year"
         }
        },
        "yaxis": {
         "anchor": "x",
         "domain": [
          0,
          1
         ],
         "title": {
          "text": "Registrations"
         }
        }
       }
      }
     },
     "metadata": {},
     "output_type": "display_data"
    }
   ],
   "source": [
    "# Exclude 2025\n",
    "df_market = df_veh_raw[df_veh_raw[\"Year\"] < 2025].copy()\n",
    "\n",
    "# Filter to just Chinese & German parent countries\n",
    "df_cg = df_market[df_market[\"ParentCountry\"].isin([\"China\", \"Germany\"])]\n",
    "\n",
    "# Group by Year & ParentCountry\n",
    "cg_trend = (\n",
    "    df_cg.groupby([\"Year\", \"ParentCountry\"], as_index=False)[\"Registrations\"]\n",
    "         .sum()\n",
    ")\n",
    "\n",
    "# Compute market share of each within each year\n",
    "cg_trend[\"Share_%\"] = (\n",
    "    cg_trend.groupby(\"Year\")[\"Registrations\"]\n",
    "            .transform(lambda x: 100 * x / x.sum())\n",
    ")\n",
    "\n",
    "# --- Plot: Registration trend ---\n",
    "fig = px.line(\n",
    "    cg_trend,\n",
    "    x=\"Year\",\n",
    "    y=\"Registrations\",\n",
    "    color=\"ParentCountry\",\n",
    "    title=\"UK Car Registrations: Chinese vs German Automakers\",\n",
    "    markers=True,\n",
    "    color_discrete_sequence=[\"red\", \"steelblue\"]\n",
    ")\n",
    "fig.update_layout(template=\"plotly_white\", yaxis_title=\"Registrations\")\n",
    "fig.write_image(FIG_DIR / \"reg_china_v_german_trend.pdf\")\n",
    "\n",
    "# --- Plot: Market share over time ---\n",
    "fig2 = px.area(\n",
    "    cg_trend,\n",
    "    x=\"Year\",\n",
    "    y=\"Share_%\",\n",
    "    color=\"ParentCountry\",\n",
    "    title=\"Market Share in UK: Chinese vs German Automakers\",\n",
    "    color_discrete_sequence=[\"red\", \"steelblue\"]\n",
    ")\n",
    "fig2.update_layout(template=\"plotly_white\", yaxis_title=\"Market Share (%)\")\n",
    "fig.write_image(FIG_DIR / \"market_share_china_v_german_trend.pdf\")\n",
    "\n",
    "fig.show()"
   ]
  },
  {
   "cell_type": "markdown",
   "id": "348b0212",
   "metadata": {},
   "source": []
  },
  {
   "cell_type": "markdown",
   "id": "263a5f96",
   "metadata": {},
   "source": [
    "# 5 Discussion Outputs"
   ]
  },
  {
   "cell_type": "markdown",
   "id": "8875f7c1",
   "metadata": {},
   "source": [
    "### 5.0.1 Setup & helpers"
   ]
  },
  {
   "cell_type": "code",
   "execution_count": 441,
   "id": "94245654",
   "metadata": {},
   "outputs": [
    {
     "data": {
      "application/vnd.microsoft.datawrangler.viewer.v0+json": {
       "columns": [
        {
         "name": "index",
         "rawType": "int64",
         "type": "integer"
        },
        {
         "name": "Year",
         "rawType": "int64",
         "type": "integer"
        },
        {
         "name": "FuelDuty",
         "rawType": "float64",
         "type": "float"
        }
       ],
       "ref": "b6475fd8-b09e-4a5d-8543-67670c85d8f3",
       "rows": [
        [
         "30",
         "2000",
         "0.0"
        ],
        [
         "31",
         "2001",
         "0.0"
        ],
        [
         "32",
         "2002",
         "0.0"
        ],
        [
         "33",
         "2003",
         "0.0"
        ],
        [
         "34",
         "2004",
         "0.0"
        ],
        [
         "35",
         "2005",
         "0.0"
        ],
        [
         "36",
         "2006",
         "0.0"
        ],
        [
         "37",
         "2007",
         "0.0"
        ],
        [
         "38",
         "2008",
         "0.0"
        ],
        [
         "39",
         "2009",
         "0.0"
        ],
        [
         "40",
         "2010",
         "0.0"
        ],
        [
         "41",
         "2011",
         "0.0"
        ]
       ],
       "shape": {
        "columns": 2,
        "rows": 12
       }
      },
      "text/html": [
       "<div>\n",
       "<style scoped>\n",
       "    .dataframe tbody tr th:only-of-type {\n",
       "        vertical-align: middle;\n",
       "    }\n",
       "\n",
       "    .dataframe tbody tr th {\n",
       "        vertical-align: top;\n",
       "    }\n",
       "\n",
       "    .dataframe thead th {\n",
       "        text-align: right;\n",
       "    }\n",
       "</style>\n",
       "<table border=\"1\" class=\"dataframe\">\n",
       "  <thead>\n",
       "    <tr style=\"text-align: right;\">\n",
       "      <th></th>\n",
       "      <th>Year</th>\n",
       "      <th>FuelDuty</th>\n",
       "    </tr>\n",
       "  </thead>\n",
       "  <tbody>\n",
       "    <tr>\n",
       "      <th>30</th>\n",
       "      <td>2000</td>\n",
       "      <td>0.0</td>\n",
       "    </tr>\n",
       "    <tr>\n",
       "      <th>31</th>\n",
       "      <td>2001</td>\n",
       "      <td>0.0</td>\n",
       "    </tr>\n",
       "    <tr>\n",
       "      <th>32</th>\n",
       "      <td>2002</td>\n",
       "      <td>0.0</td>\n",
       "    </tr>\n",
       "    <tr>\n",
       "      <th>33</th>\n",
       "      <td>2003</td>\n",
       "      <td>0.0</td>\n",
       "    </tr>\n",
       "    <tr>\n",
       "      <th>34</th>\n",
       "      <td>2004</td>\n",
       "      <td>0.0</td>\n",
       "    </tr>\n",
       "    <tr>\n",
       "      <th>35</th>\n",
       "      <td>2005</td>\n",
       "      <td>0.0</td>\n",
       "    </tr>\n",
       "    <tr>\n",
       "      <th>36</th>\n",
       "      <td>2006</td>\n",
       "      <td>0.0</td>\n",
       "    </tr>\n",
       "    <tr>\n",
       "      <th>37</th>\n",
       "      <td>2007</td>\n",
       "      <td>0.0</td>\n",
       "    </tr>\n",
       "    <tr>\n",
       "      <th>38</th>\n",
       "      <td>2008</td>\n",
       "      <td>0.0</td>\n",
       "    </tr>\n",
       "    <tr>\n",
       "      <th>39</th>\n",
       "      <td>2009</td>\n",
       "      <td>0.0</td>\n",
       "    </tr>\n",
       "    <tr>\n",
       "      <th>40</th>\n",
       "      <td>2010</td>\n",
       "      <td>0.0</td>\n",
       "    </tr>\n",
       "    <tr>\n",
       "      <th>41</th>\n",
       "      <td>2011</td>\n",
       "      <td>0.0</td>\n",
       "    </tr>\n",
       "  </tbody>\n",
       "</table>\n",
       "</div>"
      ],
      "text/plain": [
       "    Year  FuelDuty\n",
       "30  2000       0.0\n",
       "31  2001       0.0\n",
       "32  2002       0.0\n",
       "33  2003       0.0\n",
       "34  2004       0.0\n",
       "35  2005       0.0\n",
       "36  2006       0.0\n",
       "37  2007       0.0\n",
       "38  2008       0.0\n",
       "39  2009       0.0\n",
       "40  2010       0.0\n",
       "41  2011       0.0"
      ]
     },
     "execution_count": 441,
     "metadata": {},
     "output_type": "execute_result"
    }
   ],
   "source": [
    "# Base working copy (exclude 2025)\n",
    "df = df_veh_raw[df_veh_raw[\"Year\"] < 2025].copy()\n",
    "\n",
    "# Electric filter helper (uses your FuelGroup, but falls back if missing)\n",
    "is_electric = df.get(\"Fuel Group\", pd.Series(index=df.index, dtype=str)).eq(\"Electric\")\n",
    "if is_electric.isnull().all():\n",
    "    # fallback if FuelGroup not present; expand patterns as needed\n",
    "    is_electric = df[\"Fuel\"].str.contains(\"electric\", case=False, na=False)\n",
    "\n",
    "# EV registrations per year\n",
    "ev_by_year = (\n",
    "    df.loc[is_electric]\n",
    "      .groupby(\"Year\", as_index=False)[\"Registrations\"].sum()\n",
    "      .rename(columns={\"Registrations\":\"EV_Registrations\"})\n",
    ")\n",
    "\n",
    "\n",
    "# --- 1) Load as strings to avoid silent coercion ---\n",
    "fuel_raw = pd.read_csv(IN_DIR / \"fuel_data.csv\", dtype=str).rename(columns=str.strip)\n",
    "fuel_raw.columns = [c.strip() for c in fuel_raw.columns]\n",
    "\n",
    "# Expect columns like: \"Year\" and \"Amount\" (but allow variants)\n",
    "label_col = next((c for c in fuel_raw.columns if c.lower().startswith(\"year\")), None)\n",
    "amount_col = next((c for c in fuel_raw.columns if \"amount\" in c.lower()), None)\n",
    "if label_col is None or amount_col is None:\n",
    "    raise ValueError(f\"Couldn't find Year/Amount columns in {fuel_raw.columns.tolist()}\")\n",
    "\n",
    "# --- 2) Clean Amount -> numeric (remove currency, commas, NBSP, etc.) ---\n",
    "amt = (fuel_raw[amount_col]\n",
    "       .astype(str)\n",
    "       .str.replace(\"\\xa0\", \" \", regex=False)            # NBSP\n",
    "       .str.replace(r\"[£,]\", \"\", regex=True)             # currency/commas\n",
    "       .str.replace(r\"[^\\d\\.\\-]\", \"\", regex=True)        # keep digits . -\n",
    "       .str.strip())\n",
    "fuel_raw[\"Amount_num\"] = pd.to_numeric(amt, errors=\"coerce\")\n",
    "\n",
    "# --- 3) Normalise label column ---\n",
    "lab = (fuel_raw[label_col]\n",
    "       .astype(str)\n",
    "       .str.replace(\"\\xa0\", \" \", regex=False)\n",
    "       .str.replace(r\"\\s+\", \" \", regex=True)\n",
    "       .str.strip()\n",
    ")\n",
    "\n",
    "fuel_raw[\"Label\"] = lab\n",
    "\n",
    "# Identify row type\n",
    "is_annual   = fuel_raw[\"Label\"].str.fullmatch(r\"\\d{4}\", na=False)\n",
    "is_quarter  = fuel_raw[\"Label\"].str.fullmatch(r\"(\\d{4}) Q([1-4])\", na=False)\n",
    "is_monthly  = fuel_raw[\"Label\"].str.fullmatch(r\"(\\d{4}) ([A-Za-z]{3})\", na=False)\n",
    "\n",
    "# --- 4) Parse each type into Year ---\n",
    "fuel_raw[\"Year\"] = np.nan\n",
    "\n",
    "# annual\n",
    "fuel_raw.loc[is_annual, \"Year\"] = fuel_raw.loc[is_annual, \"Label\"].str.extract(r\"(\\d{4})\").astype(int)\n",
    "\n",
    "# quarterly\n",
    "tmp_q = fuel_raw.loc[is_quarter, \"Label\"].str.extract(r\"(?P<Y>\\d{4}) Q(?P<Q>[1-4])\")\n",
    "fuel_raw.loc[is_quarter, \"Year\"] = tmp_q[\"Y\"].astype(int)\n",
    "\n",
    "# monthly\n",
    "# use datetime to be robust to month abbreviations (JAN, FEB, …)\n",
    "m_parse = pd.to_datetime(fuel_raw.loc[is_monthly, \"Label\"], format=\"%Y %b\", errors=\"coerce\")\n",
    "fuel_raw.loc[is_monthly, \"Year\"] = m_parse.dt.year\n",
    "\n",
    "fuel_raw[\"Year\"] = fuel_raw[\"Year\"].astype(\"Int64\")\n",
    "\n",
    "# --- 5) Aggregate to YEARLY FuelDuty (flow -> sum) at highest available granularity ---\n",
    "annual_series   = (fuel_raw.loc[is_annual]\n",
    "                   .groupby(\"Year\", as_index=False)[\"Amount_num\"].sum()\n",
    "                   .rename(columns={\"Amount_num\": \"Annual_total\"}))\n",
    "\n",
    "quarterly_year  = (fuel_raw.loc[is_quarter]\n",
    "                   .groupby(\"Year\", as_index=False)[\"Amount_num\"].sum()\n",
    "                   .rename(columns={\"Amount_num\": \"Quarter_sum\"}))\n",
    "\n",
    "monthly_year    = (fuel_raw.loc[is_monthly]\n",
    "                   .groupby(\"Year\", as_index=False)[\"Amount_num\"].sum()\n",
    "                   .rename(columns={\"Amount_num\": \"Month_sum\"}))\n",
    "\n",
    "# Merge and pick priority: monthly > quarterly > annual\n",
    "fuel_year = (pd.DataFrame({\"Year\": pd.unique(fuel_raw[\"Year\"].dropna().astype(int))})\n",
    "             .merge(monthly_year,  on=\"Year\", how=\"left\")\n",
    "             .merge(quarterly_year, on=\"Year\", how=\"left\")\n",
    "             .merge(annual_series,  on=\"Year\", how=\"left\"))\n",
    "\n",
    "fuel_year[\"FuelDuty\"] = fuel_year[\"Month_sum\"].where(fuel_year[\"Month_sum\"].notna(),\n",
    "                          fuel_year[\"Quarter_sum\"].where(fuel_year[\"Quarter_sum\"].notna(),\n",
    "                          fuel_year[\"Annual_total\"]))\n",
    "\n",
    "fuel_year = (fuel_year[[\"Year\", \"FuelDuty\"]]\n",
    "             .dropna(subset=[\"Year\"])\n",
    "             .sort_values(\"Year\")\n",
    "             .reset_index(drop=True))\n",
    "\n",
    "# Optional: restrict to analysis window (e.g., align with df_veh_raw and exclude 2025)\n",
    "fuel_year = fuel_year[(fuel_year[\"Year\"] >= df_veh_raw[\"Year\"].min()) & (fuel_year[\"Year\"] < 2025)]\n",
    "fuel_year.head(12)"
   ]
  },
  {
   "cell_type": "markdown",
   "id": "d0d006b9",
   "metadata": {},
   "source": [
    "### 5.1.2 Competition Structure: HHI pre- vs post-Chinese entry (EV segment)"
   ]
  },
  {
   "cell_type": "code",
   "execution_count": 442,
   "id": "d0102aa1",
   "metadata": {},
   "outputs": [
    {
     "name": "stdout",
     "output_type": "stream",
     "text": [
      "Chinese EV entry year: 2000\n",
      "Average HHI pre-entry:  nan\n",
      "Average HHI post-entry: 0.715\n"
     ]
    }
   ],
   "source": [
    "# Define Chinese entry year: first year with Chinese EV registrations > 0\n",
    "ev_china = df.loc[is_electric & (df[\"ParentCountry\"]==\"China\")]\n",
    "if ev_china.empty:\n",
    "    raise ValueError(\"No Chinese EV entries found in df (ParentCountry == 'China').\")\n",
    "\n",
    "entry_year = int(ev_china.groupby(\"Year\")[\"Registrations\"].sum().loc[lambda s: s>0].index.min())\n",
    "\n",
    "# Compute HHI (ParentCountry shares within EVs) by year\n",
    "ev_parent = (\n",
    "    df.loc[is_electric]\n",
    "      .groupby([\"Year\",\"ParentCountry\"], as_index=False)[\"Registrations\"].sum()\n",
    ")\n",
    "ev_parent[\"Share_%\"] = ev_parent.groupby(\"Year\")[\"Registrations\"].transform(lambda x: 100*x/x.sum())\n",
    "\n",
    "hhi_by_year = (\n",
    "    ev_parent.groupby(\"Year\", as_index=False)[\"Share_%\"]\n",
    "             .apply(lambda s: (s**2).sum())\n",
    "             .rename(columns={\"Share_%\":\"HHI\"})\n",
    ")\n",
    "hhi_by_year[\"HHI_Index\"] = hhi_by_year[\"HHI\"]/10000.0\n",
    "\n",
    "pre_hhi  = hhi_by_year.loc[hhi_by_year[\"Year\"] <  entry_year, \"HHI_Index\"].mean()\n",
    "post_hhi = hhi_by_year.loc[hhi_by_year[\"Year\"] >= entry_year, \"HHI_Index\"].mean()\n",
    "\n",
    "print(f\"Chinese EV entry year: {entry_year}\")\n",
    "print(f\"Average HHI pre-entry:  {pre_hhi:.3f}\")\n",
    "print(f\"Average HHI post-entry: {post_hhi:.3f}\")\n"
   ]
  },
  {
   "cell_type": "markdown",
   "id": "7fb9fabe",
   "metadata": {},
   "source": [
    "### 5.1.3 Market Entry Timing for each Chinese brand"
   ]
  },
  {
   "cell_type": "code",
   "execution_count": 443,
   "id": "078303e2",
   "metadata": {},
   "outputs": [
    {
     "data": {
      "application/vnd.microsoft.datawrangler.viewer.v0+json": {
       "columns": [
        {
         "name": "index",
         "rawType": "int64",
         "type": "integer"
        },
        {
         "name": "Make",
         "rawType": "object",
         "type": "string"
        },
        {
         "name": "FirstYear_CHN",
         "rawType": "int64",
         "type": "integer"
        }
       ],
       "ref": "04e724f2-1531-4434-a534-e27305976389",
       "rows": [
        [
         "29",
         "MG",
         "2000"
        ],
        [
         "25",
         "LONDON TAXIS INT.",
         "2000"
        ],
        [
         "20",
         "LDV",
         "2000"
        ],
        [
         "34",
         "PROTON",
         "2000"
        ],
        [
         "37",
         "ROVER",
         "2000"
        ],
        [
         "7",
         "EASY RIDER",
         "2000"
        ],
        [
         "14",
         "JIALING",
         "2000"
        ],
        [
         "26",
         "LOTUS",
         "2000"
        ],
        [
         "44",
         "SMART",
         "2003"
        ],
        [
         "24",
         "LONCIN",
         "2004"
        ],
        [
         "30",
         "MG XPOWER",
         "2004"
        ],
        [
         "0",
         "BAROSSA",
         "2004"
        ],
        [
         "41",
         "SHINERAY",
         "2005"
        ],
        [
         "6",
         "DUKAR",
         "2005"
        ],
        [
         "18",
         "KASEA",
         "2005"
        ],
        [
         "19",
         "KINROAD",
         "2005"
        ],
        [
         "49",
         "XINLING",
         "2005"
        ],
        [
         "50",
         "XINTIAN",
         "2005"
        ],
        [
         "22",
         "LIFAN",
         "2005"
        ],
        [
         "46",
         "SUPERBYKE",
         "2006"
        ],
        [
         "36",
         "QUADZILLA",
         "2006"
        ],
        [
         "23",
         "LINHAI",
         "2006"
        ],
        [
         "1",
         "BASHAN",
         "2006"
        ],
        [
         "40",
         "SFMM",
         "2006"
        ],
        [
         "52",
         "YAMOTO",
         "2007"
        ],
        [
         "8",
         "GOKA",
         "2008"
        ],
        [
         "10",
         "GSMOON",
         "2008"
        ],
        [
         "48",
         "XINGYUE",
         "2009"
        ],
        [
         "54",
         "ZHENHUA",
         "2009"
        ],
        [
         "47",
         "TIANJIN",
         "2010"
        ],
        [
         "4",
         "CFMOTO",
         "2011"
        ],
        [
         "35",
         "PULSE",
         "2011"
        ],
        [
         "9",
         "GREAT WALL",
         "2011"
        ],
        [
         "45",
         "SUKIDA",
         "2011"
        ],
        [
         "53",
         "YUAN",
         "2012"
        ],
        [
         "2",
         "BENYE",
         "2014"
        ],
        [
         "17",
         "KAISAR",
         "2015"
        ],
        [
         "16",
         "JONWAY",
         "2015"
        ],
        [
         "15",
         "JIANGLING",
         "2016"
        ],
        [
         "39",
         "SFM",
         "2016"
        ],
        [
         "5",
         "DFSK",
         "2017"
        ],
        [
         "28",
         "MAXUS",
         "2017"
        ],
        [
         "43",
         "SKYWING",
         "2018"
        ],
        [
         "21",
         "LEVC",
         "2020"
        ],
        [
         "3",
         "BYD",
         "2022"
        ],
        [
         "27",
         "MASAI",
         "2022"
        ],
        [
         "38",
         "SAIC",
         "2022"
        ],
        [
         "32",
         "ORA",
         "2022"
        ],
        [
         "33",
         "PIONEER",
         "2023"
        ],
        [
         "12",
         "HONCHING",
         "2023"
        ]
       ],
       "shape": {
        "columns": 2,
        "rows": 55
       }
      },
      "text/html": [
       "<div>\n",
       "<style scoped>\n",
       "    .dataframe tbody tr th:only-of-type {\n",
       "        vertical-align: middle;\n",
       "    }\n",
       "\n",
       "    .dataframe tbody tr th {\n",
       "        vertical-align: top;\n",
       "    }\n",
       "\n",
       "    .dataframe thead th {\n",
       "        text-align: right;\n",
       "    }\n",
       "</style>\n",
       "<table border=\"1\" class=\"dataframe\">\n",
       "  <thead>\n",
       "    <tr style=\"text-align: right;\">\n",
       "      <th></th>\n",
       "      <th>Make</th>\n",
       "      <th>FirstYear_CHN</th>\n",
       "    </tr>\n",
       "  </thead>\n",
       "  <tbody>\n",
       "    <tr>\n",
       "      <th>29</th>\n",
       "      <td>MG</td>\n",
       "      <td>2000</td>\n",
       "    </tr>\n",
       "    <tr>\n",
       "      <th>25</th>\n",
       "      <td>LONDON TAXIS INT.</td>\n",
       "      <td>2000</td>\n",
       "    </tr>\n",
       "    <tr>\n",
       "      <th>20</th>\n",
       "      <td>LDV</td>\n",
       "      <td>2000</td>\n",
       "    </tr>\n",
       "    <tr>\n",
       "      <th>34</th>\n",
       "      <td>PROTON</td>\n",
       "      <td>2000</td>\n",
       "    </tr>\n",
       "    <tr>\n",
       "      <th>37</th>\n",
       "      <td>ROVER</td>\n",
       "      <td>2000</td>\n",
       "    </tr>\n",
       "    <tr>\n",
       "      <th>7</th>\n",
       "      <td>EASY RIDER</td>\n",
       "      <td>2000</td>\n",
       "    </tr>\n",
       "    <tr>\n",
       "      <th>14</th>\n",
       "      <td>JIALING</td>\n",
       "      <td>2000</td>\n",
       "    </tr>\n",
       "    <tr>\n",
       "      <th>26</th>\n",
       "      <td>LOTUS</td>\n",
       "      <td>2000</td>\n",
       "    </tr>\n",
       "    <tr>\n",
       "      <th>44</th>\n",
       "      <td>SMART</td>\n",
       "      <td>2003</td>\n",
       "    </tr>\n",
       "    <tr>\n",
       "      <th>24</th>\n",
       "      <td>LONCIN</td>\n",
       "      <td>2004</td>\n",
       "    </tr>\n",
       "    <tr>\n",
       "      <th>30</th>\n",
       "      <td>MG XPOWER</td>\n",
       "      <td>2004</td>\n",
       "    </tr>\n",
       "    <tr>\n",
       "      <th>0</th>\n",
       "      <td>BAROSSA</td>\n",
       "      <td>2004</td>\n",
       "    </tr>\n",
       "    <tr>\n",
       "      <th>41</th>\n",
       "      <td>SHINERAY</td>\n",
       "      <td>2005</td>\n",
       "    </tr>\n",
       "    <tr>\n",
       "      <th>6</th>\n",
       "      <td>DUKAR</td>\n",
       "      <td>2005</td>\n",
       "    </tr>\n",
       "    <tr>\n",
       "      <th>18</th>\n",
       "      <td>KASEA</td>\n",
       "      <td>2005</td>\n",
       "    </tr>\n",
       "    <tr>\n",
       "      <th>19</th>\n",
       "      <td>KINROAD</td>\n",
       "      <td>2005</td>\n",
       "    </tr>\n",
       "    <tr>\n",
       "      <th>49</th>\n",
       "      <td>XINLING</td>\n",
       "      <td>2005</td>\n",
       "    </tr>\n",
       "    <tr>\n",
       "      <th>50</th>\n",
       "      <td>XINTIAN</td>\n",
       "      <td>2005</td>\n",
       "    </tr>\n",
       "    <tr>\n",
       "      <th>22</th>\n",
       "      <td>LIFAN</td>\n",
       "      <td>2005</td>\n",
       "    </tr>\n",
       "    <tr>\n",
       "      <th>46</th>\n",
       "      <td>SUPERBYKE</td>\n",
       "      <td>2006</td>\n",
       "    </tr>\n",
       "    <tr>\n",
       "      <th>36</th>\n",
       "      <td>QUADZILLA</td>\n",
       "      <td>2006</td>\n",
       "    </tr>\n",
       "    <tr>\n",
       "      <th>23</th>\n",
       "      <td>LINHAI</td>\n",
       "      <td>2006</td>\n",
       "    </tr>\n",
       "    <tr>\n",
       "      <th>1</th>\n",
       "      <td>BASHAN</td>\n",
       "      <td>2006</td>\n",
       "    </tr>\n",
       "    <tr>\n",
       "      <th>40</th>\n",
       "      <td>SFMM</td>\n",
       "      <td>2006</td>\n",
       "    </tr>\n",
       "    <tr>\n",
       "      <th>52</th>\n",
       "      <td>YAMOTO</td>\n",
       "      <td>2007</td>\n",
       "    </tr>\n",
       "    <tr>\n",
       "      <th>8</th>\n",
       "      <td>GOKA</td>\n",
       "      <td>2008</td>\n",
       "    </tr>\n",
       "    <tr>\n",
       "      <th>10</th>\n",
       "      <td>GSMOON</td>\n",
       "      <td>2008</td>\n",
       "    </tr>\n",
       "    <tr>\n",
       "      <th>48</th>\n",
       "      <td>XINGYUE</td>\n",
       "      <td>2009</td>\n",
       "    </tr>\n",
       "    <tr>\n",
       "      <th>54</th>\n",
       "      <td>ZHENHUA</td>\n",
       "      <td>2009</td>\n",
       "    </tr>\n",
       "    <tr>\n",
       "      <th>47</th>\n",
       "      <td>TIANJIN</td>\n",
       "      <td>2010</td>\n",
       "    </tr>\n",
       "    <tr>\n",
       "      <th>4</th>\n",
       "      <td>CFMOTO</td>\n",
       "      <td>2011</td>\n",
       "    </tr>\n",
       "    <tr>\n",
       "      <th>35</th>\n",
       "      <td>PULSE</td>\n",
       "      <td>2011</td>\n",
       "    </tr>\n",
       "    <tr>\n",
       "      <th>9</th>\n",
       "      <td>GREAT WALL</td>\n",
       "      <td>2011</td>\n",
       "    </tr>\n",
       "    <tr>\n",
       "      <th>45</th>\n",
       "      <td>SUKIDA</td>\n",
       "      <td>2011</td>\n",
       "    </tr>\n",
       "    <tr>\n",
       "      <th>53</th>\n",
       "      <td>YUAN</td>\n",
       "      <td>2012</td>\n",
       "    </tr>\n",
       "    <tr>\n",
       "      <th>2</th>\n",
       "      <td>BENYE</td>\n",
       "      <td>2014</td>\n",
       "    </tr>\n",
       "    <tr>\n",
       "      <th>17</th>\n",
       "      <td>KAISAR</td>\n",
       "      <td>2015</td>\n",
       "    </tr>\n",
       "    <tr>\n",
       "      <th>16</th>\n",
       "      <td>JONWAY</td>\n",
       "      <td>2015</td>\n",
       "    </tr>\n",
       "    <tr>\n",
       "      <th>15</th>\n",
       "      <td>JIANGLING</td>\n",
       "      <td>2016</td>\n",
       "    </tr>\n",
       "    <tr>\n",
       "      <th>39</th>\n",
       "      <td>SFM</td>\n",
       "      <td>2016</td>\n",
       "    </tr>\n",
       "    <tr>\n",
       "      <th>5</th>\n",
       "      <td>DFSK</td>\n",
       "      <td>2017</td>\n",
       "    </tr>\n",
       "    <tr>\n",
       "      <th>28</th>\n",
       "      <td>MAXUS</td>\n",
       "      <td>2017</td>\n",
       "    </tr>\n",
       "    <tr>\n",
       "      <th>43</th>\n",
       "      <td>SKYWING</td>\n",
       "      <td>2018</td>\n",
       "    </tr>\n",
       "    <tr>\n",
       "      <th>21</th>\n",
       "      <td>LEVC</td>\n",
       "      <td>2020</td>\n",
       "    </tr>\n",
       "    <tr>\n",
       "      <th>3</th>\n",
       "      <td>BYD</td>\n",
       "      <td>2022</td>\n",
       "    </tr>\n",
       "    <tr>\n",
       "      <th>27</th>\n",
       "      <td>MASAI</td>\n",
       "      <td>2022</td>\n",
       "    </tr>\n",
       "    <tr>\n",
       "      <th>38</th>\n",
       "      <td>SAIC</td>\n",
       "      <td>2022</td>\n",
       "    </tr>\n",
       "    <tr>\n",
       "      <th>32</th>\n",
       "      <td>ORA</td>\n",
       "      <td>2022</td>\n",
       "    </tr>\n",
       "    <tr>\n",
       "      <th>33</th>\n",
       "      <td>PIONEER</td>\n",
       "      <td>2023</td>\n",
       "    </tr>\n",
       "    <tr>\n",
       "      <th>12</th>\n",
       "      <td>HONCHING</td>\n",
       "      <td>2023</td>\n",
       "    </tr>\n",
       "    <tr>\n",
       "      <th>42</th>\n",
       "      <td>SKYWELL</td>\n",
       "      <td>2024</td>\n",
       "    </tr>\n",
       "    <tr>\n",
       "      <th>13</th>\n",
       "      <td>JAECOO</td>\n",
       "      <td>2024</td>\n",
       "    </tr>\n",
       "    <tr>\n",
       "      <th>51</th>\n",
       "      <td>XPENG</td>\n",
       "      <td>2024</td>\n",
       "    </tr>\n",
       "    <tr>\n",
       "      <th>31</th>\n",
       "      <td>OMODA</td>\n",
       "      <td>2024</td>\n",
       "    </tr>\n",
       "    <tr>\n",
       "      <th>11</th>\n",
       "      <td>GWM</td>\n",
       "      <td>2024</td>\n",
       "    </tr>\n",
       "  </tbody>\n",
       "</table>\n",
       "</div>"
      ],
      "text/plain": [
       "                 Make  FirstYear_CHN\n",
       "29                 MG           2000\n",
       "25  LONDON TAXIS INT.           2000\n",
       "20                LDV           2000\n",
       "34             PROTON           2000\n",
       "37              ROVER           2000\n",
       "7          EASY RIDER           2000\n",
       "14            JIALING           2000\n",
       "26              LOTUS           2000\n",
       "44              SMART           2003\n",
       "24             LONCIN           2004\n",
       "30          MG XPOWER           2004\n",
       "0             BAROSSA           2004\n",
       "41           SHINERAY           2005\n",
       "6               DUKAR           2005\n",
       "18              KASEA           2005\n",
       "19            KINROAD           2005\n",
       "49            XINLING           2005\n",
       "50            XINTIAN           2005\n",
       "22              LIFAN           2005\n",
       "46          SUPERBYKE           2006\n",
       "36          QUADZILLA           2006\n",
       "23             LINHAI           2006\n",
       "1              BASHAN           2006\n",
       "40               SFMM           2006\n",
       "52             YAMOTO           2007\n",
       "8                GOKA           2008\n",
       "10             GSMOON           2008\n",
       "48            XINGYUE           2009\n",
       "54            ZHENHUA           2009\n",
       "47            TIANJIN           2010\n",
       "4              CFMOTO           2011\n",
       "35              PULSE           2011\n",
       "9          GREAT WALL           2011\n",
       "45             SUKIDA           2011\n",
       "53               YUAN           2012\n",
       "2               BENYE           2014\n",
       "17             KAISAR           2015\n",
       "16             JONWAY           2015\n",
       "15          JIANGLING           2016\n",
       "39                SFM           2016\n",
       "5                DFSK           2017\n",
       "28              MAXUS           2017\n",
       "43            SKYWING           2018\n",
       "21               LEVC           2020\n",
       "3                 BYD           2022\n",
       "27              MASAI           2022\n",
       "38               SAIC           2022\n",
       "32                ORA           2022\n",
       "33            PIONEER           2023\n",
       "12           HONCHING           2023\n",
       "42            SKYWELL           2024\n",
       "13             JAECOO           2024\n",
       "51              XPENG           2024\n",
       "31              OMODA           2024\n",
       "11                GWM           2024"
      ]
     },
     "execution_count": 443,
     "metadata": {},
     "output_type": "execute_result"
    }
   ],
   "source": [
    "china_brands = (\n",
    "    df.loc[df[\"ParentCountry\"]==\"China\"]\n",
    "      .groupby([\"Make\",\"Year\"], as_index=False)[\"Registrations\"].sum()\n",
    ")\n",
    "first_year = (china_brands[china_brands[\"Registrations\"]>0]\n",
    "             .groupby(\"Make\", as_index=False)[\"Year\"].min()\n",
    "             .rename(columns={\"Year\":\"FirstYear_CHN\"}))\n",
    "first_year.sort_values(\"FirstYear_CHN\")\n"
   ]
  },
  {
   "cell_type": "markdown",
   "id": "ad5acf55",
   "metadata": {},
   "source": [
    "### 5.1.4 Product Mix Shift: BEV vs Hybrids ratio over time"
   ]
  },
  {
   "cell_type": "code",
   "execution_count": 444,
   "id": "ab9774da",
   "metadata": {},
   "outputs": [
    {
     "data": {
      "application/vnd.plotly.v1+json": {
       "config": {
        "plotlyServerURL": "https://plot.ly"
       },
       "data": [
        {
         "hovertemplate": "EV Type=BEV<br>Year=%{x}<br>Registrations=%{y}<extra></extra>",
         "legendgroup": "BEV",
         "marker": {
          "color": "rgb(229, 134, 6)",
          "pattern": {
           "shape": ""
          }
         },
         "name": "BEV",
         "orientation": "v",
         "showlegend": true,
         "textposition": "auto",
         "type": "bar",
         "x": {
          "bdata": "0AfRB9IH0wfUB9UH1gfXB9gH2QfaB9sH3AfdB94H3wfgB+EH4gfjB+QH5QfmB+cH6Ac=",
          "dtype": "i2"
         },
         "xaxis": "x",
         "y": {
          "bdata": "5wAAAB0BAABUAQAAbAEAAJ4BAABFAgAAOgMAACgFAAAWCwAAThcAABkZAAALJgAATTkAAMRVAADImwAAtBUBANWlAQCaUwIAoh4DAEaWBAAh1wgAtg0SAE4EIAC8nzEAJ0pFAA==",
          "dtype": "i4"
         },
         "yaxis": "y"
        },
        {
         "hovertemplate": "EV Type=HybridEV<br>Year=%{x}<br>Registrations=%{y}<extra></extra>",
         "legendgroup": "HybridEV",
         "marker": {
          "color": "rgb(93, 105, 177)",
          "pattern": {
           "shape": ""
          }
         },
         "name": "HybridEV",
         "orientation": "v",
         "showlegend": true,
         "textposition": "auto",
         "type": "bar",
         "x": {
          "bdata": "0AfRB9IH0wfUB9UH1gfXB9gH2QfaB9sH3AfdB94H3wfgB+EH4gfjB+QH5QfmB+cH6Ac=",
          "dtype": "i2"
         },
         "xaxis": "x",
         "y": {
          "bdata": "YwEAAK4DAADzBAAAcwYAAIYMAAAjIQAAsUIAABiAAAB5bQEAmG8DAMWaBADj5AUAI0EHAFXDCABo5goAK+0NAEwKEgBvSRcAxd4dAEdnJQCCbi8AwmdDAKHjWwDqnXkAd82hAA==",
          "dtype": "i4"
         },
         "yaxis": "y"
        }
       ],
       "layout": {
        "barmode": "stack",
        "height": 520,
        "legend": {
         "title": {
          "text": "EV Type"
         },
         "tracegroupgap": 0
        },
        "template": {
         "data": {
          "bar": [
           {
            "error_x": {
             "color": "#2a3f5f"
            },
            "error_y": {
             "color": "#2a3f5f"
            },
            "marker": {
             "line": {
              "color": "white",
              "width": 0.5
             },
             "pattern": {
              "fillmode": "overlay",
              "size": 10,
              "solidity": 0.2
             }
            },
            "type": "bar"
           }
          ],
          "barpolar": [
           {
            "marker": {
             "line": {
              "color": "white",
              "width": 0.5
             },
             "pattern": {
              "fillmode": "overlay",
              "size": 10,
              "solidity": 0.2
             }
            },
            "type": "barpolar"
           }
          ],
          "carpet": [
           {
            "aaxis": {
             "endlinecolor": "#2a3f5f",
             "gridcolor": "#C8D4E3",
             "linecolor": "#C8D4E3",
             "minorgridcolor": "#C8D4E3",
             "startlinecolor": "#2a3f5f"
            },
            "baxis": {
             "endlinecolor": "#2a3f5f",
             "gridcolor": "#C8D4E3",
             "linecolor": "#C8D4E3",
             "minorgridcolor": "#C8D4E3",
             "startlinecolor": "#2a3f5f"
            },
            "type": "carpet"
           }
          ],
          "choropleth": [
           {
            "colorbar": {
             "outlinewidth": 0,
             "ticks": ""
            },
            "type": "choropleth"
           }
          ],
          "contour": [
           {
            "colorbar": {
             "outlinewidth": 0,
             "ticks": ""
            },
            "colorscale": [
             [
              0,
              "#0d0887"
             ],
             [
              0.1111111111111111,
              "#46039f"
             ],
             [
              0.2222222222222222,
              "#7201a8"
             ],
             [
              0.3333333333333333,
              "#9c179e"
             ],
             [
              0.4444444444444444,
              "#bd3786"
             ],
             [
              0.5555555555555556,
              "#d8576b"
             ],
             [
              0.6666666666666666,
              "#ed7953"
             ],
             [
              0.7777777777777778,
              "#fb9f3a"
             ],
             [
              0.8888888888888888,
              "#fdca26"
             ],
             [
              1,
              "#f0f921"
             ]
            ],
            "type": "contour"
           }
          ],
          "contourcarpet": [
           {
            "colorbar": {
             "outlinewidth": 0,
             "ticks": ""
            },
            "type": "contourcarpet"
           }
          ],
          "heatmap": [
           {
            "colorbar": {
             "outlinewidth": 0,
             "ticks": ""
            },
            "colorscale": [
             [
              0,
              "#0d0887"
             ],
             [
              0.1111111111111111,
              "#46039f"
             ],
             [
              0.2222222222222222,
              "#7201a8"
             ],
             [
              0.3333333333333333,
              "#9c179e"
             ],
             [
              0.4444444444444444,
              "#bd3786"
             ],
             [
              0.5555555555555556,
              "#d8576b"
             ],
             [
              0.6666666666666666,
              "#ed7953"
             ],
             [
              0.7777777777777778,
              "#fb9f3a"
             ],
             [
              0.8888888888888888,
              "#fdca26"
             ],
             [
              1,
              "#f0f921"
             ]
            ],
            "type": "heatmap"
           }
          ],
          "histogram": [
           {
            "marker": {
             "pattern": {
              "fillmode": "overlay",
              "size": 10,
              "solidity": 0.2
             }
            },
            "type": "histogram"
           }
          ],
          "histogram2d": [
           {
            "colorbar": {
             "outlinewidth": 0,
             "ticks": ""
            },
            "colorscale": [
             [
              0,
              "#0d0887"
             ],
             [
              0.1111111111111111,
              "#46039f"
             ],
             [
              0.2222222222222222,
              "#7201a8"
             ],
             [
              0.3333333333333333,
              "#9c179e"
             ],
             [
              0.4444444444444444,
              "#bd3786"
             ],
             [
              0.5555555555555556,
              "#d8576b"
             ],
             [
              0.6666666666666666,
              "#ed7953"
             ],
             [
              0.7777777777777778,
              "#fb9f3a"
             ],
             [
              0.8888888888888888,
              "#fdca26"
             ],
             [
              1,
              "#f0f921"
             ]
            ],
            "type": "histogram2d"
           }
          ],
          "histogram2dcontour": [
           {
            "colorbar": {
             "outlinewidth": 0,
             "ticks": ""
            },
            "colorscale": [
             [
              0,
              "#0d0887"
             ],
             [
              0.1111111111111111,
              "#46039f"
             ],
             [
              0.2222222222222222,
              "#7201a8"
             ],
             [
              0.3333333333333333,
              "#9c179e"
             ],
             [
              0.4444444444444444,
              "#bd3786"
             ],
             [
              0.5555555555555556,
              "#d8576b"
             ],
             [
              0.6666666666666666,
              "#ed7953"
             ],
             [
              0.7777777777777778,
              "#fb9f3a"
             ],
             [
              0.8888888888888888,
              "#fdca26"
             ],
             [
              1,
              "#f0f921"
             ]
            ],
            "type": "histogram2dcontour"
           }
          ],
          "mesh3d": [
           {
            "colorbar": {
             "outlinewidth": 0,
             "ticks": ""
            },
            "type": "mesh3d"
           }
          ],
          "parcoords": [
           {
            "line": {
             "colorbar": {
              "outlinewidth": 0,
              "ticks": ""
             }
            },
            "type": "parcoords"
           }
          ],
          "pie": [
           {
            "automargin": true,
            "type": "pie"
           }
          ],
          "scatter": [
           {
            "fillpattern": {
             "fillmode": "overlay",
             "size": 10,
             "solidity": 0.2
            },
            "type": "scatter"
           }
          ],
          "scatter3d": [
           {
            "line": {
             "colorbar": {
              "outlinewidth": 0,
              "ticks": ""
             }
            },
            "marker": {
             "colorbar": {
              "outlinewidth": 0,
              "ticks": ""
             }
            },
            "type": "scatter3d"
           }
          ],
          "scattercarpet": [
           {
            "marker": {
             "colorbar": {
              "outlinewidth": 0,
              "ticks": ""
             }
            },
            "type": "scattercarpet"
           }
          ],
          "scattergeo": [
           {
            "marker": {
             "colorbar": {
              "outlinewidth": 0,
              "ticks": ""
             }
            },
            "type": "scattergeo"
           }
          ],
          "scattergl": [
           {
            "marker": {
             "colorbar": {
              "outlinewidth": 0,
              "ticks": ""
             }
            },
            "type": "scattergl"
           }
          ],
          "scattermap": [
           {
            "marker": {
             "colorbar": {
              "outlinewidth": 0,
              "ticks": ""
             }
            },
            "type": "scattermap"
           }
          ],
          "scattermapbox": [
           {
            "marker": {
             "colorbar": {
              "outlinewidth": 0,
              "ticks": ""
             }
            },
            "type": "scattermapbox"
           }
          ],
          "scatterpolar": [
           {
            "marker": {
             "colorbar": {
              "outlinewidth": 0,
              "ticks": ""
             }
            },
            "type": "scatterpolar"
           }
          ],
          "scatterpolargl": [
           {
            "marker": {
             "colorbar": {
              "outlinewidth": 0,
              "ticks": ""
             }
            },
            "type": "scatterpolargl"
           }
          ],
          "scatterternary": [
           {
            "marker": {
             "colorbar": {
              "outlinewidth": 0,
              "ticks": ""
             }
            },
            "type": "scatterternary"
           }
          ],
          "surface": [
           {
            "colorbar": {
             "outlinewidth": 0,
             "ticks": ""
            },
            "colorscale": [
             [
              0,
              "#0d0887"
             ],
             [
              0.1111111111111111,
              "#46039f"
             ],
             [
              0.2222222222222222,
              "#7201a8"
             ],
             [
              0.3333333333333333,
              "#9c179e"
             ],
             [
              0.4444444444444444,
              "#bd3786"
             ],
             [
              0.5555555555555556,
              "#d8576b"
             ],
             [
              0.6666666666666666,
              "#ed7953"
             ],
             [
              0.7777777777777778,
              "#fb9f3a"
             ],
             [
              0.8888888888888888,
              "#fdca26"
             ],
             [
              1,
              "#f0f921"
             ]
            ],
            "type": "surface"
           }
          ],
          "table": [
           {
            "cells": {
             "fill": {
              "color": "#EBF0F8"
             },
             "line": {
              "color": "white"
             }
            },
            "header": {
             "fill": {
              "color": "#C8D4E3"
             },
             "line": {
              "color": "white"
             }
            },
            "type": "table"
           }
          ]
         },
         "layout": {
          "annotationdefaults": {
           "arrowcolor": "#2a3f5f",
           "arrowhead": 0,
           "arrowwidth": 1
          },
          "autotypenumbers": "strict",
          "coloraxis": {
           "colorbar": {
            "outlinewidth": 0,
            "ticks": ""
           }
          },
          "colorscale": {
           "diverging": [
            [
             0,
             "#8e0152"
            ],
            [
             0.1,
             "#c51b7d"
            ],
            [
             0.2,
             "#de77ae"
            ],
            [
             0.3,
             "#f1b6da"
            ],
            [
             0.4,
             "#fde0ef"
            ],
            [
             0.5,
             "#f7f7f7"
            ],
            [
             0.6,
             "#e6f5d0"
            ],
            [
             0.7,
             "#b8e186"
            ],
            [
             0.8,
             "#7fbc41"
            ],
            [
             0.9,
             "#4d9221"
            ],
            [
             1,
             "#276419"
            ]
           ],
           "sequential": [
            [
             0,
             "#0d0887"
            ],
            [
             0.1111111111111111,
             "#46039f"
            ],
            [
             0.2222222222222222,
             "#7201a8"
            ],
            [
             0.3333333333333333,
             "#9c179e"
            ],
            [
             0.4444444444444444,
             "#bd3786"
            ],
            [
             0.5555555555555556,
             "#d8576b"
            ],
            [
             0.6666666666666666,
             "#ed7953"
            ],
            [
             0.7777777777777778,
             "#fb9f3a"
            ],
            [
             0.8888888888888888,
             "#fdca26"
            ],
            [
             1,
             "#f0f921"
            ]
           ],
           "sequentialminus": [
            [
             0,
             "#0d0887"
            ],
            [
             0.1111111111111111,
             "#46039f"
            ],
            [
             0.2222222222222222,
             "#7201a8"
            ],
            [
             0.3333333333333333,
             "#9c179e"
            ],
            [
             0.4444444444444444,
             "#bd3786"
            ],
            [
             0.5555555555555556,
             "#d8576b"
            ],
            [
             0.6666666666666666,
             "#ed7953"
            ],
            [
             0.7777777777777778,
             "#fb9f3a"
            ],
            [
             0.8888888888888888,
             "#fdca26"
            ],
            [
             1,
             "#f0f921"
            ]
           ]
          },
          "colorway": [
           "#636efa",
           "#EF553B",
           "#00cc96",
           "#ab63fa",
           "#FFA15A",
           "#19d3f3",
           "#FF6692",
           "#B6E880",
           "#FF97FF",
           "#FECB52"
          ],
          "font": {
           "color": "#2a3f5f"
          },
          "geo": {
           "bgcolor": "white",
           "lakecolor": "white",
           "landcolor": "white",
           "showlakes": true,
           "showland": true,
           "subunitcolor": "#C8D4E3"
          },
          "hoverlabel": {
           "align": "left"
          },
          "hovermode": "closest",
          "mapbox": {
           "style": "light"
          },
          "paper_bgcolor": "white",
          "plot_bgcolor": "white",
          "polar": {
           "angularaxis": {
            "gridcolor": "#EBF0F8",
            "linecolor": "#EBF0F8",
            "ticks": ""
           },
           "bgcolor": "white",
           "radialaxis": {
            "gridcolor": "#EBF0F8",
            "linecolor": "#EBF0F8",
            "ticks": ""
           }
          },
          "scene": {
           "xaxis": {
            "backgroundcolor": "white",
            "gridcolor": "#DFE8F3",
            "gridwidth": 2,
            "linecolor": "#EBF0F8",
            "showbackground": true,
            "ticks": "",
            "zerolinecolor": "#EBF0F8"
           },
           "yaxis": {
            "backgroundcolor": "white",
            "gridcolor": "#DFE8F3",
            "gridwidth": 2,
            "linecolor": "#EBF0F8",
            "showbackground": true,
            "ticks": "",
            "zerolinecolor": "#EBF0F8"
           },
           "zaxis": {
            "backgroundcolor": "white",
            "gridcolor": "#DFE8F3",
            "gridwidth": 2,
            "linecolor": "#EBF0F8",
            "showbackground": true,
            "ticks": "",
            "zerolinecolor": "#EBF0F8"
           }
          },
          "shapedefaults": {
           "line": {
            "color": "#2a3f5f"
           }
          },
          "ternary": {
           "aaxis": {
            "gridcolor": "#DFE8F3",
            "linecolor": "#A2B1C6",
            "ticks": ""
           },
           "baxis": {
            "gridcolor": "#DFE8F3",
            "linecolor": "#A2B1C6",
            "ticks": ""
           },
           "bgcolor": "white",
           "caxis": {
            "gridcolor": "#DFE8F3",
            "linecolor": "#A2B1C6",
            "ticks": ""
           }
          },
          "title": {
           "x": 0.05
          },
          "xaxis": {
           "automargin": true,
           "gridcolor": "#EBF0F8",
           "linecolor": "#EBF0F8",
           "ticks": "",
           "title": {
            "standoff": 15
           },
           "zerolinecolor": "#EBF0F8",
           "zerolinewidth": 2
          },
          "yaxis": {
           "automargin": true,
           "gridcolor": "#EBF0F8",
           "linecolor": "#EBF0F8",
           "ticks": "",
           "title": {
            "standoff": 15
           },
           "zerolinecolor": "#EBF0F8",
           "zerolinewidth": 2
          }
         }
        },
        "title": {
         "text": "BEV vs HybridEV Registrations by Year"
        },
        "width": 900,
        "xaxis": {
         "anchor": "y",
         "domain": [
          0,
          1
         ],
         "title": {
          "text": "Year"
         }
        },
        "yaxis": {
         "anchor": "x",
         "domain": [
          0,
          1
         ],
         "title": {
          "text": "Registrations"
         }
        }
       }
      }
     },
     "metadata": {},
     "output_type": "display_data"
    },
    {
     "data": {
      "application/vnd.plotly.v1+json": {
       "config": {
        "plotlyServerURL": "https://plot.ly"
       },
       "data": [
        {
         "fillpattern": {
          "shape": ""
         },
         "hovertemplate": "EV Type=BEV_%<br>Year=%{x}<br>Share (%)=%{y}<extra></extra>",
         "legendgroup": "BEV_%",
         "line": {
          "color": "rgb(229, 134, 6)"
         },
         "marker": {
          "symbol": "circle"
         },
         "mode": "lines",
         "name": "BEV_%",
         "orientation": "v",
         "showlegend": true,
         "stackgroup": "1",
         "type": "scatter",
         "x": {
          "bdata": "0AfRB9IH0wfUB9UH1gfXB9gH2QfaB9sH3AfdB94H3wfgB+EH4gfjB+QH5QfmB+cH6Ac=",
          "dtype": "i2"
         },
         "xaxis": "x",
         "y": {
          "bdata": "mGqO2bu1Q0DXkS/UNTo3QKBMab1NKDVAEUIIIYQQMkALGJM4eN8mQHxnThnQoxlAuGNMqYl1EkAwLBT+8/QOQHWygC5XjQdAKDzuWxamBECd5k/vkq0AQOs7yKqOrANAfKkPotfxB0Dk20wcdnUNQPiJ4YJ0JhVASdFaSOLnHEAMta8NK70gQPLCNBGzKiJA15oRCLDpIkDMyDtlDdklQA0vezGIay9Ar0c1qBwgNUD8Nvws8NY5QCX5ZRGj+jxAYEnd0Mn7PUA=",
          "dtype": "f8"
         },
         "yaxis": "y"
        },
        {
         "fillpattern": {
          "shape": ""
         },
         "hovertemplate": "EV Type=HybridEV_%<br>Year=%{x}<br>Share (%)=%{y}<extra></extra>",
         "legendgroup": "HybridEV_%",
         "line": {
          "color": "rgb(93, 105, 177)"
         },
         "marker": {
          "symbol": "circle"
         },
         "mode": "lines",
         "name": "HybridEV_%",
         "orientation": "v",
         "showlegend": true,
         "stackgroup": "1",
         "type": "scatter",
         "x": {
          "bdata": "0AfRB9IH0wfUB9UH1gfXB9gH2QfaB9sH3AfdB94H3wfgB+EH4gfjB+QH5QfmB+cH6Ac=",
          "dtype": "i2"
         },
         "xaxis": "x",
         "y": {
          "bdata": "aJVxJkRKTkCKG/SKcjFTQNispZDstVNAfO+99957VED/nO34ECRWQIgZa/7CZVdAxTlrZafYV0CeXg9gWAhYQGz6i0aVQ1hAH44gTc9aWEDLgIVok3pYQCG+qYqbYlhAtILvQnFAWEAhmR1PVBRYQGHn0beYrVdA61J624ExV0BfCUqeWuhWQKJn2Z2pulZApcz9/smiVkDnhlhT3kRWQB6a0PmOElVAFK7y1fi3U0BB8sD0Q4pSQLeBpjtXwVFAqK3Iiw2BUUA=",
          "dtype": "f8"
         },
         "yaxis": "y"
        }
       ],
       "layout": {
        "height": 520,
        "legend": {
         "title": {
          "text": "EV Type"
         },
         "tracegroupgap": 0
        },
        "template": {
         "data": {
          "bar": [
           {
            "error_x": {
             "color": "#2a3f5f"
            },
            "error_y": {
             "color": "#2a3f5f"
            },
            "marker": {
             "line": {
              "color": "white",
              "width": 0.5
             },
             "pattern": {
              "fillmode": "overlay",
              "size": 10,
              "solidity": 0.2
             }
            },
            "type": "bar"
           }
          ],
          "barpolar": [
           {
            "marker": {
             "line": {
              "color": "white",
              "width": 0.5
             },
             "pattern": {
              "fillmode": "overlay",
              "size": 10,
              "solidity": 0.2
             }
            },
            "type": "barpolar"
           }
          ],
          "carpet": [
           {
            "aaxis": {
             "endlinecolor": "#2a3f5f",
             "gridcolor": "#C8D4E3",
             "linecolor": "#C8D4E3",
             "minorgridcolor": "#C8D4E3",
             "startlinecolor": "#2a3f5f"
            },
            "baxis": {
             "endlinecolor": "#2a3f5f",
             "gridcolor": "#C8D4E3",
             "linecolor": "#C8D4E3",
             "minorgridcolor": "#C8D4E3",
             "startlinecolor": "#2a3f5f"
            },
            "type": "carpet"
           }
          ],
          "choropleth": [
           {
            "colorbar": {
             "outlinewidth": 0,
             "ticks": ""
            },
            "type": "choropleth"
           }
          ],
          "contour": [
           {
            "colorbar": {
             "outlinewidth": 0,
             "ticks": ""
            },
            "colorscale": [
             [
              0,
              "#0d0887"
             ],
             [
              0.1111111111111111,
              "#46039f"
             ],
             [
              0.2222222222222222,
              "#7201a8"
             ],
             [
              0.3333333333333333,
              "#9c179e"
             ],
             [
              0.4444444444444444,
              "#bd3786"
             ],
             [
              0.5555555555555556,
              "#d8576b"
             ],
             [
              0.6666666666666666,
              "#ed7953"
             ],
             [
              0.7777777777777778,
              "#fb9f3a"
             ],
             [
              0.8888888888888888,
              "#fdca26"
             ],
             [
              1,
              "#f0f921"
             ]
            ],
            "type": "contour"
           }
          ],
          "contourcarpet": [
           {
            "colorbar": {
             "outlinewidth": 0,
             "ticks": ""
            },
            "type": "contourcarpet"
           }
          ],
          "heatmap": [
           {
            "colorbar": {
             "outlinewidth": 0,
             "ticks": ""
            },
            "colorscale": [
             [
              0,
              "#0d0887"
             ],
             [
              0.1111111111111111,
              "#46039f"
             ],
             [
              0.2222222222222222,
              "#7201a8"
             ],
             [
              0.3333333333333333,
              "#9c179e"
             ],
             [
              0.4444444444444444,
              "#bd3786"
             ],
             [
              0.5555555555555556,
              "#d8576b"
             ],
             [
              0.6666666666666666,
              "#ed7953"
             ],
             [
              0.7777777777777778,
              "#fb9f3a"
             ],
             [
              0.8888888888888888,
              "#fdca26"
             ],
             [
              1,
              "#f0f921"
             ]
            ],
            "type": "heatmap"
           }
          ],
          "histogram": [
           {
            "marker": {
             "pattern": {
              "fillmode": "overlay",
              "size": 10,
              "solidity": 0.2
             }
            },
            "type": "histogram"
           }
          ],
          "histogram2d": [
           {
            "colorbar": {
             "outlinewidth": 0,
             "ticks": ""
            },
            "colorscale": [
             [
              0,
              "#0d0887"
             ],
             [
              0.1111111111111111,
              "#46039f"
             ],
             [
              0.2222222222222222,
              "#7201a8"
             ],
             [
              0.3333333333333333,
              "#9c179e"
             ],
             [
              0.4444444444444444,
              "#bd3786"
             ],
             [
              0.5555555555555556,
              "#d8576b"
             ],
             [
              0.6666666666666666,
              "#ed7953"
             ],
             [
              0.7777777777777778,
              "#fb9f3a"
             ],
             [
              0.8888888888888888,
              "#fdca26"
             ],
             [
              1,
              "#f0f921"
             ]
            ],
            "type": "histogram2d"
           }
          ],
          "histogram2dcontour": [
           {
            "colorbar": {
             "outlinewidth": 0,
             "ticks": ""
            },
            "colorscale": [
             [
              0,
              "#0d0887"
             ],
             [
              0.1111111111111111,
              "#46039f"
             ],
             [
              0.2222222222222222,
              "#7201a8"
             ],
             [
              0.3333333333333333,
              "#9c179e"
             ],
             [
              0.4444444444444444,
              "#bd3786"
             ],
             [
              0.5555555555555556,
              "#d8576b"
             ],
             [
              0.6666666666666666,
              "#ed7953"
             ],
             [
              0.7777777777777778,
              "#fb9f3a"
             ],
             [
              0.8888888888888888,
              "#fdca26"
             ],
             [
              1,
              "#f0f921"
             ]
            ],
            "type": "histogram2dcontour"
           }
          ],
          "mesh3d": [
           {
            "colorbar": {
             "outlinewidth": 0,
             "ticks": ""
            },
            "type": "mesh3d"
           }
          ],
          "parcoords": [
           {
            "line": {
             "colorbar": {
              "outlinewidth": 0,
              "ticks": ""
             }
            },
            "type": "parcoords"
           }
          ],
          "pie": [
           {
            "automargin": true,
            "type": "pie"
           }
          ],
          "scatter": [
           {
            "fillpattern": {
             "fillmode": "overlay",
             "size": 10,
             "solidity": 0.2
            },
            "type": "scatter"
           }
          ],
          "scatter3d": [
           {
            "line": {
             "colorbar": {
              "outlinewidth": 0,
              "ticks": ""
             }
            },
            "marker": {
             "colorbar": {
              "outlinewidth": 0,
              "ticks": ""
             }
            },
            "type": "scatter3d"
           }
          ],
          "scattercarpet": [
           {
            "marker": {
             "colorbar": {
              "outlinewidth": 0,
              "ticks": ""
             }
            },
            "type": "scattercarpet"
           }
          ],
          "scattergeo": [
           {
            "marker": {
             "colorbar": {
              "outlinewidth": 0,
              "ticks": ""
             }
            },
            "type": "scattergeo"
           }
          ],
          "scattergl": [
           {
            "marker": {
             "colorbar": {
              "outlinewidth": 0,
              "ticks": ""
             }
            },
            "type": "scattergl"
           }
          ],
          "scattermap": [
           {
            "marker": {
             "colorbar": {
              "outlinewidth": 0,
              "ticks": ""
             }
            },
            "type": "scattermap"
           }
          ],
          "scattermapbox": [
           {
            "marker": {
             "colorbar": {
              "outlinewidth": 0,
              "ticks": ""
             }
            },
            "type": "scattermapbox"
           }
          ],
          "scatterpolar": [
           {
            "marker": {
             "colorbar": {
              "outlinewidth": 0,
              "ticks": ""
             }
            },
            "type": "scatterpolar"
           }
          ],
          "scatterpolargl": [
           {
            "marker": {
             "colorbar": {
              "outlinewidth": 0,
              "ticks": ""
             }
            },
            "type": "scatterpolargl"
           }
          ],
          "scatterternary": [
           {
            "marker": {
             "colorbar": {
              "outlinewidth": 0,
              "ticks": ""
             }
            },
            "type": "scatterternary"
           }
          ],
          "surface": [
           {
            "colorbar": {
             "outlinewidth": 0,
             "ticks": ""
            },
            "colorscale": [
             [
              0,
              "#0d0887"
             ],
             [
              0.1111111111111111,
              "#46039f"
             ],
             [
              0.2222222222222222,
              "#7201a8"
             ],
             [
              0.3333333333333333,
              "#9c179e"
             ],
             [
              0.4444444444444444,
              "#bd3786"
             ],
             [
              0.5555555555555556,
              "#d8576b"
             ],
             [
              0.6666666666666666,
              "#ed7953"
             ],
             [
              0.7777777777777778,
              "#fb9f3a"
             ],
             [
              0.8888888888888888,
              "#fdca26"
             ],
             [
              1,
              "#f0f921"
             ]
            ],
            "type": "surface"
           }
          ],
          "table": [
           {
            "cells": {
             "fill": {
              "color": "#EBF0F8"
             },
             "line": {
              "color": "white"
             }
            },
            "header": {
             "fill": {
              "color": "#C8D4E3"
             },
             "line": {
              "color": "white"
             }
            },
            "type": "table"
           }
          ]
         },
         "layout": {
          "annotationdefaults": {
           "arrowcolor": "#2a3f5f",
           "arrowhead": 0,
           "arrowwidth": 1
          },
          "autotypenumbers": "strict",
          "coloraxis": {
           "colorbar": {
            "outlinewidth": 0,
            "ticks": ""
           }
          },
          "colorscale": {
           "diverging": [
            [
             0,
             "#8e0152"
            ],
            [
             0.1,
             "#c51b7d"
            ],
            [
             0.2,
             "#de77ae"
            ],
            [
             0.3,
             "#f1b6da"
            ],
            [
             0.4,
             "#fde0ef"
            ],
            [
             0.5,
             "#f7f7f7"
            ],
            [
             0.6,
             "#e6f5d0"
            ],
            [
             0.7,
             "#b8e186"
            ],
            [
             0.8,
             "#7fbc41"
            ],
            [
             0.9,
             "#4d9221"
            ],
            [
             1,
             "#276419"
            ]
           ],
           "sequential": [
            [
             0,
             "#0d0887"
            ],
            [
             0.1111111111111111,
             "#46039f"
            ],
            [
             0.2222222222222222,
             "#7201a8"
            ],
            [
             0.3333333333333333,
             "#9c179e"
            ],
            [
             0.4444444444444444,
             "#bd3786"
            ],
            [
             0.5555555555555556,
             "#d8576b"
            ],
            [
             0.6666666666666666,
             "#ed7953"
            ],
            [
             0.7777777777777778,
             "#fb9f3a"
            ],
            [
             0.8888888888888888,
             "#fdca26"
            ],
            [
             1,
             "#f0f921"
            ]
           ],
           "sequentialminus": [
            [
             0,
             "#0d0887"
            ],
            [
             0.1111111111111111,
             "#46039f"
            ],
            [
             0.2222222222222222,
             "#7201a8"
            ],
            [
             0.3333333333333333,
             "#9c179e"
            ],
            [
             0.4444444444444444,
             "#bd3786"
            ],
            [
             0.5555555555555556,
             "#d8576b"
            ],
            [
             0.6666666666666666,
             "#ed7953"
            ],
            [
             0.7777777777777778,
             "#fb9f3a"
            ],
            [
             0.8888888888888888,
             "#fdca26"
            ],
            [
             1,
             "#f0f921"
            ]
           ]
          },
          "colorway": [
           "#636efa",
           "#EF553B",
           "#00cc96",
           "#ab63fa",
           "#FFA15A",
           "#19d3f3",
           "#FF6692",
           "#B6E880",
           "#FF97FF",
           "#FECB52"
          ],
          "font": {
           "color": "#2a3f5f"
          },
          "geo": {
           "bgcolor": "white",
           "lakecolor": "white",
           "landcolor": "white",
           "showlakes": true,
           "showland": true,
           "subunitcolor": "#C8D4E3"
          },
          "hoverlabel": {
           "align": "left"
          },
          "hovermode": "closest",
          "mapbox": {
           "style": "light"
          },
          "paper_bgcolor": "white",
          "plot_bgcolor": "white",
          "polar": {
           "angularaxis": {
            "gridcolor": "#EBF0F8",
            "linecolor": "#EBF0F8",
            "ticks": ""
           },
           "bgcolor": "white",
           "radialaxis": {
            "gridcolor": "#EBF0F8",
            "linecolor": "#EBF0F8",
            "ticks": ""
           }
          },
          "scene": {
           "xaxis": {
            "backgroundcolor": "white",
            "gridcolor": "#DFE8F3",
            "gridwidth": 2,
            "linecolor": "#EBF0F8",
            "showbackground": true,
            "ticks": "",
            "zerolinecolor": "#EBF0F8"
           },
           "yaxis": {
            "backgroundcolor": "white",
            "gridcolor": "#DFE8F3",
            "gridwidth": 2,
            "linecolor": "#EBF0F8",
            "showbackground": true,
            "ticks": "",
            "zerolinecolor": "#EBF0F8"
           },
           "zaxis": {
            "backgroundcolor": "white",
            "gridcolor": "#DFE8F3",
            "gridwidth": 2,
            "linecolor": "#EBF0F8",
            "showbackground": true,
            "ticks": "",
            "zerolinecolor": "#EBF0F8"
           }
          },
          "shapedefaults": {
           "line": {
            "color": "#2a3f5f"
           }
          },
          "ternary": {
           "aaxis": {
            "gridcolor": "#DFE8F3",
            "linecolor": "#A2B1C6",
            "ticks": ""
           },
           "baxis": {
            "gridcolor": "#DFE8F3",
            "linecolor": "#A2B1C6",
            "ticks": ""
           },
           "bgcolor": "white",
           "caxis": {
            "gridcolor": "#DFE8F3",
            "linecolor": "#A2B1C6",
            "ticks": ""
           }
          },
          "title": {
           "x": 0.05
          },
          "xaxis": {
           "automargin": true,
           "gridcolor": "#EBF0F8",
           "linecolor": "#EBF0F8",
           "ticks": "",
           "title": {
            "standoff": 15
           },
           "zerolinecolor": "#EBF0F8",
           "zerolinewidth": 2
          },
          "yaxis": {
           "automargin": true,
           "gridcolor": "#EBF0F8",
           "linecolor": "#EBF0F8",
           "ticks": "",
           "title": {
            "standoff": 15
           },
           "zerolinecolor": "#EBF0F8",
           "zerolinewidth": 2
          }
         }
        },
        "title": {
         "text": "BEV vs HybridEV Share of EV Registrations (%)"
        },
        "width": 900,
        "xaxis": {
         "anchor": "y",
         "domain": [
          0,
          1
         ],
         "title": {
          "text": "Year"
         }
        },
        "yaxis": {
         "anchor": "x",
         "domain": [
          0,
          1
         ],
         "ticksuffix": "%",
         "title": {
          "text": "Share (%)"
         }
        }
       }
      }
     },
     "metadata": {},
     "output_type": "display_data"
    },
    {
     "data": {
      "application/vnd.plotly.v1+json": {
       "config": {
        "plotlyServerURL": "https://plot.ly"
       },
       "data": [
        {
         "hovertemplate": "Year=%{x}<br>BEV / HybridEV=%{y}<extra></extra>",
         "legendgroup": "",
         "line": {
          "color": "crimson",
          "dash": "solid"
         },
         "marker": {
          "symbol": "circle"
         },
         "mode": "lines+markers",
         "name": "",
         "orientation": "v",
         "showlegend": false,
         "type": "scatter",
         "x": {
          "bdata": "0AfRB9IH0wfUB9UH1gfXB9gH2QfaB9sH3AfdB94H3wfgB+EH4gfjB+QH5QfmB+cH6Ac=",
          "dtype": "i2"
         },
         "xaxis": "x",
         "y": {
          "bdata": "7DPoqpHS5D+rwyhT8VzTP/Lmk0ynLNE/DofD4XA4zD914lITbYfAPxlP4TKOiLE/HrJpp1PFqD+FOH25IpykP7taAVmnD58/TEmn/XUhmz8ai2bRac2VP3MoU3RV0Zk/2v3mo0mYnz8bf3BtD5OjP3e5hjBqlaw/Kw1RutLwsz8W7uhDA2K3P8L5RdOkk7k/K1PnqJ28uj/k7AkuEmW/PziZQH5S28c/h2aIETkk0T+Qa0Zmp0zWP+1GdOA/Hdo/vZ6S8jZo2z8=",
          "dtype": "f8"
         },
         "yaxis": "y"
        }
       ],
       "layout": {
        "height": 520,
        "legend": {
         "tracegroupgap": 0
        },
        "template": {
         "data": {
          "bar": [
           {
            "error_x": {
             "color": "#2a3f5f"
            },
            "error_y": {
             "color": "#2a3f5f"
            },
            "marker": {
             "line": {
              "color": "white",
              "width": 0.5
             },
             "pattern": {
              "fillmode": "overlay",
              "size": 10,
              "solidity": 0.2
             }
            },
            "type": "bar"
           }
          ],
          "barpolar": [
           {
            "marker": {
             "line": {
              "color": "white",
              "width": 0.5
             },
             "pattern": {
              "fillmode": "overlay",
              "size": 10,
              "solidity": 0.2
             }
            },
            "type": "barpolar"
           }
          ],
          "carpet": [
           {
            "aaxis": {
             "endlinecolor": "#2a3f5f",
             "gridcolor": "#C8D4E3",
             "linecolor": "#C8D4E3",
             "minorgridcolor": "#C8D4E3",
             "startlinecolor": "#2a3f5f"
            },
            "baxis": {
             "endlinecolor": "#2a3f5f",
             "gridcolor": "#C8D4E3",
             "linecolor": "#C8D4E3",
             "minorgridcolor": "#C8D4E3",
             "startlinecolor": "#2a3f5f"
            },
            "type": "carpet"
           }
          ],
          "choropleth": [
           {
            "colorbar": {
             "outlinewidth": 0,
             "ticks": ""
            },
            "type": "choropleth"
           }
          ],
          "contour": [
           {
            "colorbar": {
             "outlinewidth": 0,
             "ticks": ""
            },
            "colorscale": [
             [
              0,
              "#0d0887"
             ],
             [
              0.1111111111111111,
              "#46039f"
             ],
             [
              0.2222222222222222,
              "#7201a8"
             ],
             [
              0.3333333333333333,
              "#9c179e"
             ],
             [
              0.4444444444444444,
              "#bd3786"
             ],
             [
              0.5555555555555556,
              "#d8576b"
             ],
             [
              0.6666666666666666,
              "#ed7953"
             ],
             [
              0.7777777777777778,
              "#fb9f3a"
             ],
             [
              0.8888888888888888,
              "#fdca26"
             ],
             [
              1,
              "#f0f921"
             ]
            ],
            "type": "contour"
           }
          ],
          "contourcarpet": [
           {
            "colorbar": {
             "outlinewidth": 0,
             "ticks": ""
            },
            "type": "contourcarpet"
           }
          ],
          "heatmap": [
           {
            "colorbar": {
             "outlinewidth": 0,
             "ticks": ""
            },
            "colorscale": [
             [
              0,
              "#0d0887"
             ],
             [
              0.1111111111111111,
              "#46039f"
             ],
             [
              0.2222222222222222,
              "#7201a8"
             ],
             [
              0.3333333333333333,
              "#9c179e"
             ],
             [
              0.4444444444444444,
              "#bd3786"
             ],
             [
              0.5555555555555556,
              "#d8576b"
             ],
             [
              0.6666666666666666,
              "#ed7953"
             ],
             [
              0.7777777777777778,
              "#fb9f3a"
             ],
             [
              0.8888888888888888,
              "#fdca26"
             ],
             [
              1,
              "#f0f921"
             ]
            ],
            "type": "heatmap"
           }
          ],
          "histogram": [
           {
            "marker": {
             "pattern": {
              "fillmode": "overlay",
              "size": 10,
              "solidity": 0.2
             }
            },
            "type": "histogram"
           }
          ],
          "histogram2d": [
           {
            "colorbar": {
             "outlinewidth": 0,
             "ticks": ""
            },
            "colorscale": [
             [
              0,
              "#0d0887"
             ],
             [
              0.1111111111111111,
              "#46039f"
             ],
             [
              0.2222222222222222,
              "#7201a8"
             ],
             [
              0.3333333333333333,
              "#9c179e"
             ],
             [
              0.4444444444444444,
              "#bd3786"
             ],
             [
              0.5555555555555556,
              "#d8576b"
             ],
             [
              0.6666666666666666,
              "#ed7953"
             ],
             [
              0.7777777777777778,
              "#fb9f3a"
             ],
             [
              0.8888888888888888,
              "#fdca26"
             ],
             [
              1,
              "#f0f921"
             ]
            ],
            "type": "histogram2d"
           }
          ],
          "histogram2dcontour": [
           {
            "colorbar": {
             "outlinewidth": 0,
             "ticks": ""
            },
            "colorscale": [
             [
              0,
              "#0d0887"
             ],
             [
              0.1111111111111111,
              "#46039f"
             ],
             [
              0.2222222222222222,
              "#7201a8"
             ],
             [
              0.3333333333333333,
              "#9c179e"
             ],
             [
              0.4444444444444444,
              "#bd3786"
             ],
             [
              0.5555555555555556,
              "#d8576b"
             ],
             [
              0.6666666666666666,
              "#ed7953"
             ],
             [
              0.7777777777777778,
              "#fb9f3a"
             ],
             [
              0.8888888888888888,
              "#fdca26"
             ],
             [
              1,
              "#f0f921"
             ]
            ],
            "type": "histogram2dcontour"
           }
          ],
          "mesh3d": [
           {
            "colorbar": {
             "outlinewidth": 0,
             "ticks": ""
            },
            "type": "mesh3d"
           }
          ],
          "parcoords": [
           {
            "line": {
             "colorbar": {
              "outlinewidth": 0,
              "ticks": ""
             }
            },
            "type": "parcoords"
           }
          ],
          "pie": [
           {
            "automargin": true,
            "type": "pie"
           }
          ],
          "scatter": [
           {
            "fillpattern": {
             "fillmode": "overlay",
             "size": 10,
             "solidity": 0.2
            },
            "type": "scatter"
           }
          ],
          "scatter3d": [
           {
            "line": {
             "colorbar": {
              "outlinewidth": 0,
              "ticks": ""
             }
            },
            "marker": {
             "colorbar": {
              "outlinewidth": 0,
              "ticks": ""
             }
            },
            "type": "scatter3d"
           }
          ],
          "scattercarpet": [
           {
            "marker": {
             "colorbar": {
              "outlinewidth": 0,
              "ticks": ""
             }
            },
            "type": "scattercarpet"
           }
          ],
          "scattergeo": [
           {
            "marker": {
             "colorbar": {
              "outlinewidth": 0,
              "ticks": ""
             }
            },
            "type": "scattergeo"
           }
          ],
          "scattergl": [
           {
            "marker": {
             "colorbar": {
              "outlinewidth": 0,
              "ticks": ""
             }
            },
            "type": "scattergl"
           }
          ],
          "scattermap": [
           {
            "marker": {
             "colorbar": {
              "outlinewidth": 0,
              "ticks": ""
             }
            },
            "type": "scattermap"
           }
          ],
          "scattermapbox": [
           {
            "marker": {
             "colorbar": {
              "outlinewidth": 0,
              "ticks": ""
             }
            },
            "type": "scattermapbox"
           }
          ],
          "scatterpolar": [
           {
            "marker": {
             "colorbar": {
              "outlinewidth": 0,
              "ticks": ""
             }
            },
            "type": "scatterpolar"
           }
          ],
          "scatterpolargl": [
           {
            "marker": {
             "colorbar": {
              "outlinewidth": 0,
              "ticks": ""
             }
            },
            "type": "scatterpolargl"
           }
          ],
          "scatterternary": [
           {
            "marker": {
             "colorbar": {
              "outlinewidth": 0,
              "ticks": ""
             }
            },
            "type": "scatterternary"
           }
          ],
          "surface": [
           {
            "colorbar": {
             "outlinewidth": 0,
             "ticks": ""
            },
            "colorscale": [
             [
              0,
              "#0d0887"
             ],
             [
              0.1111111111111111,
              "#46039f"
             ],
             [
              0.2222222222222222,
              "#7201a8"
             ],
             [
              0.3333333333333333,
              "#9c179e"
             ],
             [
              0.4444444444444444,
              "#bd3786"
             ],
             [
              0.5555555555555556,
              "#d8576b"
             ],
             [
              0.6666666666666666,
              "#ed7953"
             ],
             [
              0.7777777777777778,
              "#fb9f3a"
             ],
             [
              0.8888888888888888,
              "#fdca26"
             ],
             [
              1,
              "#f0f921"
             ]
            ],
            "type": "surface"
           }
          ],
          "table": [
           {
            "cells": {
             "fill": {
              "color": "#EBF0F8"
             },
             "line": {
              "color": "white"
             }
            },
            "header": {
             "fill": {
              "color": "#C8D4E3"
             },
             "line": {
              "color": "white"
             }
            },
            "type": "table"
           }
          ]
         },
         "layout": {
          "annotationdefaults": {
           "arrowcolor": "#2a3f5f",
           "arrowhead": 0,
           "arrowwidth": 1
          },
          "autotypenumbers": "strict",
          "coloraxis": {
           "colorbar": {
            "outlinewidth": 0,
            "ticks": ""
           }
          },
          "colorscale": {
           "diverging": [
            [
             0,
             "#8e0152"
            ],
            [
             0.1,
             "#c51b7d"
            ],
            [
             0.2,
             "#de77ae"
            ],
            [
             0.3,
             "#f1b6da"
            ],
            [
             0.4,
             "#fde0ef"
            ],
            [
             0.5,
             "#f7f7f7"
            ],
            [
             0.6,
             "#e6f5d0"
            ],
            [
             0.7,
             "#b8e186"
            ],
            [
             0.8,
             "#7fbc41"
            ],
            [
             0.9,
             "#4d9221"
            ],
            [
             1,
             "#276419"
            ]
           ],
           "sequential": [
            [
             0,
             "#0d0887"
            ],
            [
             0.1111111111111111,
             "#46039f"
            ],
            [
             0.2222222222222222,
             "#7201a8"
            ],
            [
             0.3333333333333333,
             "#9c179e"
            ],
            [
             0.4444444444444444,
             "#bd3786"
            ],
            [
             0.5555555555555556,
             "#d8576b"
            ],
            [
             0.6666666666666666,
             "#ed7953"
            ],
            [
             0.7777777777777778,
             "#fb9f3a"
            ],
            [
             0.8888888888888888,
             "#fdca26"
            ],
            [
             1,
             "#f0f921"
            ]
           ],
           "sequentialminus": [
            [
             0,
             "#0d0887"
            ],
            [
             0.1111111111111111,
             "#46039f"
            ],
            [
             0.2222222222222222,
             "#7201a8"
            ],
            [
             0.3333333333333333,
             "#9c179e"
            ],
            [
             0.4444444444444444,
             "#bd3786"
            ],
            [
             0.5555555555555556,
             "#d8576b"
            ],
            [
             0.6666666666666666,
             "#ed7953"
            ],
            [
             0.7777777777777778,
             "#fb9f3a"
            ],
            [
             0.8888888888888888,
             "#fdca26"
            ],
            [
             1,
             "#f0f921"
            ]
           ]
          },
          "colorway": [
           "#636efa",
           "#EF553B",
           "#00cc96",
           "#ab63fa",
           "#FFA15A",
           "#19d3f3",
           "#FF6692",
           "#B6E880",
           "#FF97FF",
           "#FECB52"
          ],
          "font": {
           "color": "#2a3f5f"
          },
          "geo": {
           "bgcolor": "white",
           "lakecolor": "white",
           "landcolor": "white",
           "showlakes": true,
           "showland": true,
           "subunitcolor": "#C8D4E3"
          },
          "hoverlabel": {
           "align": "left"
          },
          "hovermode": "closest",
          "mapbox": {
           "style": "light"
          },
          "paper_bgcolor": "white",
          "plot_bgcolor": "white",
          "polar": {
           "angularaxis": {
            "gridcolor": "#EBF0F8",
            "linecolor": "#EBF0F8",
            "ticks": ""
           },
           "bgcolor": "white",
           "radialaxis": {
            "gridcolor": "#EBF0F8",
            "linecolor": "#EBF0F8",
            "ticks": ""
           }
          },
          "scene": {
           "xaxis": {
            "backgroundcolor": "white",
            "gridcolor": "#DFE8F3",
            "gridwidth": 2,
            "linecolor": "#EBF0F8",
            "showbackground": true,
            "ticks": "",
            "zerolinecolor": "#EBF0F8"
           },
           "yaxis": {
            "backgroundcolor": "white",
            "gridcolor": "#DFE8F3",
            "gridwidth": 2,
            "linecolor": "#EBF0F8",
            "showbackground": true,
            "ticks": "",
            "zerolinecolor": "#EBF0F8"
           },
           "zaxis": {
            "backgroundcolor": "white",
            "gridcolor": "#DFE8F3",
            "gridwidth": 2,
            "linecolor": "#EBF0F8",
            "showbackground": true,
            "ticks": "",
            "zerolinecolor": "#EBF0F8"
           }
          },
          "shapedefaults": {
           "line": {
            "color": "#2a3f5f"
           }
          },
          "ternary": {
           "aaxis": {
            "gridcolor": "#DFE8F3",
            "linecolor": "#A2B1C6",
            "ticks": ""
           },
           "baxis": {
            "gridcolor": "#DFE8F3",
            "linecolor": "#A2B1C6",
            "ticks": ""
           },
           "bgcolor": "white",
           "caxis": {
            "gridcolor": "#DFE8F3",
            "linecolor": "#A2B1C6",
            "ticks": ""
           }
          },
          "title": {
           "x": 0.05
          },
          "xaxis": {
           "automargin": true,
           "gridcolor": "#EBF0F8",
           "linecolor": "#EBF0F8",
           "ticks": "",
           "title": {
            "standoff": 15
           },
           "zerolinecolor": "#EBF0F8",
           "zerolinewidth": 2
          },
          "yaxis": {
           "automargin": true,
           "gridcolor": "#EBF0F8",
           "linecolor": "#EBF0F8",
           "ticks": "",
           "title": {
            "standoff": 15
           },
           "zerolinecolor": "#EBF0F8",
           "zerolinewidth": 2
          }
         }
        },
        "title": {
         "text": "BEV to HybridEV Ratio Over Time"
        },
        "width": 900,
        "xaxis": {
         "anchor": "y",
         "domain": [
          0,
          1
         ],
         "title": {
          "text": "Year"
         }
        },
        "yaxis": {
         "anchor": "x",
         "domain": [
          0,
          1
         ],
         "title": {
          "text": "BEV / HybridEV"
         }
        }
       }
      }
     },
     "metadata": {},
     "output_type": "display_data"
    }
   ],
   "source": [
    "# Classify EV detail using your Fuel labels (adjust patterns as needed)\n",
    "tmp = df.loc[df[\"Fuel\"].notna(), [\"Year\",\"Fuel\",\"Registrations\"]].copy()\n",
    "tmp[\"EV_Type\"] = np.select(\n",
    "    [\n",
    "        tmp[\"Fuel\"].str.contains(\"battery electric\", case=False, na=False),\n",
    "        tmp[\"Fuel\"].str.contains(\"plug[- ]?in hybrid\", case=False, na=False) |\n",
    "        tmp[\"Fuel\"].str.contains(\"hybrid electric\", case=False, na=False)\n",
    "    ],\n",
    "    [\"BEV\", \"HybridEV\"],\n",
    "    default=\"Other\"\n",
    ")\n",
    "\n",
    "mix = (\n",
    "    tmp[tmp[\"EV_Type\"].isin([\"BEV\",\"HybridEV\"])]\n",
    "      .groupby([\"Year\",\"EV_Type\"], as_index=False)[\"Registrations\"].sum()\n",
    "      .pivot(index=\"Year\", columns=\"EV_Type\", values=\"Registrations\")\n",
    "      .fillna(0)\n",
    ")\n",
    "\n",
    "mix[\"BEV_to_Hybrid_Ratio\"] = np.where(mix[\"HybridEV\"]>0, mix[\"BEV\"]/mix[\"HybridEV\"], np.nan)\n",
    "mix.reset_index()\n",
    "\n",
    "# ---------- 1) Stacked bars: BEV vs HybridEV registrations ----------\n",
    "mix_plot = mix.reset_index()  # Year back to column\n",
    "fig = px.bar(\n",
    "    mix_plot,\n",
    "    x=\"Year\",\n",
    "    y=[\"BEV\", \"HybridEV\"],\n",
    "    title=\"BEV vs HybridEV Registrations by Year\",\n",
    "    labels={\"value\":\"Registrations\", \"variable\":\"EV Type\"},\n",
    "    color_discrete_sequence=px.colors.qualitative.Vivid\n",
    ")\n",
    "fig.update_layout(barmode=\"stack\", template=\"plotly_white\", width=900, height=520)\n",
    "fig.write_html(FIG_DIR / \"bev_vs_hybrid_stacked.html\")\n",
    "fig.write_image(FIG_DIR / \"bev_vs_hybrid_stacked.pdf\")\n",
    "fig.show()\n",
    "\n",
    "# ---------- 2) % shares over time (area) ----------\n",
    "mix_share = mix_plot.copy()\n",
    "total = (mix_share[\"BEV\"] + mix_share[\"HybridEV\"]).replace(0, np.nan)\n",
    "mix_share[\"BEV_%\"] = 100 * mix_share[\"BEV\"] / total\n",
    "mix_share[\"HybridEV_%\"] = 100 * mix_share[\"HybridEV\"] / total\n",
    "\n",
    "fig2 = px.area(\n",
    "    mix_share,\n",
    "    x=\"Year\",\n",
    "    y=[\"BEV_%\", \"HybridEV_%\"],\n",
    "    title=\"BEV vs HybridEV Share of EV Registrations (%)\",\n",
    "    labels={\"value\":\"Share (%)\", \"variable\":\"EV Type\"},\n",
    "    color_discrete_sequence=px.colors.qualitative.Vivid\n",
    ")\n",
    "fig2.update_layout(template=\"plotly_white\", width=900, height=520, yaxis_ticksuffix=\"%\")\n",
    "fig2.write_html(FIG_DIR / \"bev_vs_hybrid_share.html\")\n",
    "fig2.write_image(FIG_DIR / \"bev_vs_hybrid_share.pdf\")\n",
    "fig2.show()\n",
    "\n",
    "# ---------- 3) Ratio line: BEV / HybridEV ----------\n",
    "ratio_plot = mix[[\"BEV_to_Hybrid_Ratio\"]].reset_index()\n",
    "fig3 = px.line(\n",
    "    ratio_plot,\n",
    "    x=\"Year\",\n",
    "    y=\"BEV_to_Hybrid_Ratio\",\n",
    "    markers=True,\n",
    "    title=\"BEV to HybridEV Ratio Over Time\",\n",
    "    labels={\"BEV_to_Hybrid_Ratio\":\"BEV / HybridEV\"},\n",
    "    color_discrete_sequence=[\"crimson\"]\n",
    ")\n",
    "fig3.update_layout(template=\"plotly_white\", width=900, height=520)\n",
    "fig3.write_image(FIG_DIR / \"bev_to_hybrid_ratio.pdf\")\n",
    "fig3.show()"
   ]
  },
  {
   "cell_type": "markdown",
   "id": "05450aca",
   "metadata": {},
   "source": [
    "### 5.1.5) Cross-market Correlation: UK registrations vs stock returns (Chinese & German)"
   ]
  },
  {
   "cell_type": "code",
   "execution_count": 445,
   "id": "d6a59425",
   "metadata": {},
   "outputs": [
    {
     "name": "stderr",
     "output_type": "stream",
     "text": [
      "[*********************100%***********************]  7 of 7 completed\n",
      "/var/folders/7x/pd53f7tx0jl5lyy8g87z1qqw0000gn/T/ipykernel_13578/1701599885.py:12: FutureWarning:\n",
      "\n",
      "'M' is deprecated and will be removed in a future version, please use 'ME' instead.\n",
      "\n",
      "/var/folders/7x/pd53f7tx0jl5lyy8g87z1qqw0000gn/T/ipykernel_13578/1701599885.py:14: FutureWarning:\n",
      "\n",
      "DataFrame.groupby with axis=1 is deprecated. Do `frame.T.groupby(...)` without axis instead.\n",
      "\n"
     ]
    },
    {
     "name": "stdout",
     "output_type": "stream",
     "text": [
      "Correlation matrix (registrations vs stock returns, annual):\n",
      "             Ret_China  Ret_Germany\n",
      "Reg_China    -0.509277    -0.398522\n",
      "Reg_Germany  -0.547089    -0.570532\n"
     ]
    },
    {
     "name": "stderr",
     "output_type": "stream",
     "text": [
      "/var/folders/7x/pd53f7tx0jl5lyy8g87z1qqw0000gn/T/ipykernel_13578/1701599885.py:26: FutureWarning:\n",
      "\n",
      "'Y' is deprecated and will be removed in a future version, please use 'YE' instead.\n",
      "\n"
     ]
    }
   ],
   "source": [
    "\n",
    "# --- A) Pull daily prices for representative listed OEMs ---\n",
    "tickers = {\n",
    "    # China\n",
    "    \"BYD\": \"1211.HK\", \"XPeng\": \"XPEV\", \"NIO\": \"NIO\", \"Li Auto\": \"LI\",\n",
    "    # Germany\n",
    "    \"Volkswagen\": \"VOW3.DE\", \"BMW\": \"BMW.DE\", \"Mercedes\": \"MBG.DE\"\n",
    "}\n",
    "px = yf.download(list(tickers.values()), period=\"5y\", auto_adjust=True)[\"Close\"]\n",
    "px.columns = tickers.keys()\n",
    "\n",
    "# Monthly returns by origin\n",
    "monthly = px.resample(\"M\").last().pct_change().dropna()\n",
    "origin_map = {c: \"China\" if c in {\"BYD\",\"XPeng\",\"NIO\",\"Li Auto\"} else \"Germany\" for c in monthly.columns}\n",
    "ret_by_origin = monthly.groupby(axis=1, by=origin_map).mean().rename(columns={\"China\":\"Ret_China\",\"Germany\":\"Ret_Germany\"})\n",
    "\n",
    "# --- UK registrations by origin at monthly or at least annual frequency ---\n",
    "# If you only have yearly registrations, compute yearly returns instead.\n",
    "regs_year_origin = (\n",
    "    df.groupby([\"Year\",\"ParentCountry\"], as_index=False)[\"Registrations\"].sum()\n",
    "      .pivot(index=\"Year\", columns=\"ParentCountry\", values=\"Registrations\")\n",
    "      .rename(columns={\"China\":\"Reg_China\",\"Germany\":\"Reg_Germany\"})\n",
    "      .dropna(how=\"all\")\n",
    ")\n",
    "\n",
    "# Convert stock monthly returns to yearly returns to align (geometric aggregation)\n",
    "yr = ret_by_origin.resample(\"Y\").apply(lambda x: (1+x).prod()-1)\n",
    "yr.index = yr.index.year\n",
    "\n",
    "# Merge and compute correlations\n",
    "corr_df = regs_year_origin.merge(yr, left_index=True, right_index=True, how=\"inner\")\n",
    "corrs = corr_df.corr(numeric_only=True)\n",
    "\n",
    "print(\"Correlation matrix (registrations vs stock returns, annual):\")\n",
    "print(corrs.loc[[\"Reg_China\",\"Reg_Germany\"], [\"Ret_China\",\"Ret_Germany\"]])"
   ]
  },
  {
   "cell_type": "markdown",
   "id": "7506fce0",
   "metadata": {},
   "source": [
    "# Calculating Efficient Portfolio Based on Stocks From Past Years"
   ]
  },
  {
   "cell_type": "code",
   "execution_count": 446,
   "id": "f7323549",
   "metadata": {},
   "outputs": [],
   "source": [
    "brand_to_tickers = {\n",
    "    # Directly listed automakers\n",
    "    \"ASTON MARTIN\": [\"AML.L\"],\n",
    "    \"BMW\": [\"BMW.DE\"],\n",
    "    \"BYD\": [\"1211.HK\"],\n",
    "    \"DAIMLER\": [\"MBG.DE\"],                 # Mercedes-Benz Group\n",
    "    \"FERRARI\": [\"RACE\"],\n",
    "    \"FISKER\": [\"FSR\"],                     # (historically; status may vary)\n",
    "    \"FORD\": [\"F\"],\n",
    "    \"GEELY\": [\"0175.HK\"],                  # parent (for LEVC/others)\n",
    "    \"HONDA\": [\"7267.T\"],\n",
    "    \"HYUNDAI\": [\"005380.KS\"],\n",
    "    \"INFINITI\": [\"7201.T\"],                # via Nissan\n",
    "    \"JAGUAR\": [\"TATAMOTORS.NS\", \"TTM\"],    # via Tata Motors\n",
    "    \"JEEP\": [\"STLA\"],                      # via Stellantis\n",
    "    \"KIA\": [\"000270.KS\"],\n",
    "    \"LEXUS\": [\"7203.T\"],                   # via Toyota\n",
    "    \"LOTUS\": [\"LOT\"],                      # Lotus Technology Inc (Nasdaq)\n",
    "    \"MASERATI\": [\"STLA\"],                  # via Stellantis\n",
    "    \"MAZDA\": [\"7261.T\"],\n",
    "    \"MERCEDES\": [\"MBG.DE\"],\n",
    "    \"MERCEDES-BENZ\": [\"MBG.DE\"],\n",
    "    \"MG\": [\"600104.SS\"],                   # via SAIC Motor (A-share)\n",
    "    \"MINI\": [\"BMW.DE\"],                    # via BMW\n",
    "    \"MITSUBISHI\": [\"7211.T\"],              # Mitsubishi Motors\n",
    "    \"NISSAN\": [\"7201.T\"],\n",
    "    \"OMODA\": [],                           # via Chery (not listed)\n",
    "    \"ORA\": [\"601633.SS\", \"2333.HK\"],       # via Great Wall Motor\n",
    "    \"PEUGEOT\": [\"STLA\"],                   # via Stellantis\n",
    "    \"POLESTAR\": [\"PSNY\"],\n",
    "    \"PORSCHE\": [\"P911.DE\"],                # Porsche AG\n",
    "    \"RENAULT\": [\"RNO.PA\"],\n",
    "    \"ROLLS ROYCE\": [\"BMW.DE\"],            # cars via BMW (RR.L is aerospace)\n",
    "    \"SEAT\": [\"VOW3.DE\"],                   # via Volkswagen\n",
    "    \"SKODA\": [\"VOW3.DE\"],                  # via Volkswagen\n",
    "    \"SSANGYONG\": [\"003620.KS\"],            # KG Mobility (KRX:003620)\n",
    "    \"SUBARU\": [\"7270.T\"],\n",
    "    \"SUZUKI\": [\"7269.T\"],\n",
    "    \"TATA\": [\"TATAMOTORS.NS\", \"TTM\"],\n",
    "    \"TESLA\": [\"TSLA\"],\n",
    "    \"TOYOTA\": [\"7203.T\"],\n",
    "    \"VAUXHALL\": [\"STLA\"],                  # via Stellantis\n",
    "    \"VOLKSWAGEN\": [\"VOW3.DE\"],\n",
    "    \"VOLVO\": [\"VOLCAR-B.ST\"],              # Volvo Car AB (cars)\n",
    "    \"XPENG\": [\"XPEV\"],\n",
    "    \"YAMAHA\": [\"7272.T\"],\n",
    "\n",
    "    # Chinese groups & related\n",
    "    \"GREAT WALL\": [\"601633.SS\", \"2333.HK\"],\n",
    "    \"GWM\": [\"601633.SS\", \"2333.HK\"],\n",
    "    \"LEAPMOTOR\": [\"9863.HK\"],\n",
    "    \"MAXUS\": [\"600104.SS\"],                # via SAIC\n",
    "    \"ORA\": [\"601633.SS\", \"2333.HK\"],\n",
    "    \"SKYWELL\": [],                         # private / not widely listed\n",
    "    \"TIANJIN\": [],                         # ambiguous brand; skip\n",
    "\n",
    "    # Parent group tickers for brand families\n",
    "    \"ABARTH\": [\"STLA\"],                    # Stellantis\n",
    "    \"ALFA ROMEO\": [\"STLA\"],                # Stellantis\n",
    "    \"CITROEN\": [\"STLA\"],                   # Stellantis\n",
    "    \"DS\": [\"STLA\"],                        # Stellantis\n",
    "    \"FIAT\": [\"STLA\"],                      # Stellantis\n",
    "    \"OPEL\": [\"STLA\"],                      # Stellantis\n",
    "    \"CUPRA\": [\"VOW3.DE\"],                  # VW/SEAT\n",
    "    \"AUDI\": [\"VOW3.DE\"],                   # VW group\n",
    "    \"BENTLEY\": [\"VOW3.DE\"],                # VW group\n",
    "    \"LAMBORGHINI\": [\"VOW3.DE\"],            # (not in your list; VW group)\n",
    "    \"PORSCHE\": [\"P911.DE\"],\n",
    "\n",
    "    # US/others\n",
    "    \"CADILLAC\": [\"GM\"],                    # via General Motors\n",
    "    \"CHEVROLET\": [\"GM\"],\n",
    "    \"HUMMER\": [\"GM\"],\n",
    "\n",
    "    # Truck / industrial parents (if you still want them)\n",
    "    \"DAF\": [\"PCAR\"],                       # via PACCAR\n",
    "    \"KOMATSU\": [\"6301.T\"],                 # industrial\n",
    "    \"HYSTER\": [\"HY\"],                      # Hyster-Yale Materials Handling (check)\n",
    "    \"YALE\": [\"HY\"],                        # same parent\n",
    "\n",
    "    # Hard/Private/Defunct/Coachbuilders -> no ticker\n",
    "    \"AIXAM\": [], \"ALBION\": [], \"ARIEL\": [], \"AUSTIN\": [],\n",
    "    \"AUSTIN HEALEY\": [], \"AUSTIN MORRIS\": [], \"CATERPILLAR\": [\"CAT\"],  # not cars; industrial\n",
    "    \"CLARK\": [], \"COLEMAN MILNE\": [], \"COVENTRY CLIMAX\": [], \"DAEWOO\": [],\n",
    "    \"DATSUN\": [\"7201.T\"],                  # via Nissan\n",
    "    \"DFSK\": [\"0489.HK\", \"601127.SS\"],      # Dongfeng (0489.HK), Seres (601127.SS)\n",
    "    \"ELECTRICARS\": [], \"EOS\": [], \"EVT\": [],\n",
    "    \"GENESIS\": [\"005380.KS\"],              # via Hyundai Motor\n",
    "    \"GINETTA\": [], \"HARBILT ELECTRIC\": [], \"HILLMAN\": [],\n",
    "    \"INVACAR\": [], \"JENSEN\": [], \"JONWAY\": [],\n",
    "    \"KGM\": [\"003620.KS\"],                  # KG Mobility (ex-SsangYong)\n",
    "    \"LANSING LINDE\": [],                   # forklift brand (KION AG: KGX.DE if needed)\n",
    "    \"LIGIER\": [], \"LONDON TAXIS INT.\": [\"0175.HK\"],   # via Geely (LEVC)\n",
    "    \"LOTUS\": [\"LOT\"], \"MAHINDRA\": [\"M&M.NS\"],         # Yahoo uses 'M&M.NS'\n",
    "    \"MCC\": [\"MBG.DE\"],                     # Smart’s original company -> Mercedes\n",
    "    \"MIA\": [], \"MITSUBISHI FUSO\": [\"DTG.DE\"],         # via Daimler Truck\n",
    "    \"MOKE AUTOMIBILI\": [], \"MORGAN\": [], \"MORRIS\": [],\n",
    "    \"OTHER AGRIC/CONSTRUCTIONAL\": [], \"OTHER BRITISH\": [],\n",
    "    \"OTHER COUNTRIES\": [], \"OTHER ELECTRIC\": [],\n",
    "    \"OTHER GERMAN\": [], \"OTHER ITALIAN\": [], \"OTHER US/AUST/CAN\": [],\n",
    "    \"PERODUA\": [], \"PIONEER\": [], \"PROTON\": [], \"RELIANT\": [],\n",
    "    \"RENAULT TRUCKS\": [\"VOLV-B.ST\"],       # via Volvo Group (trucks), NOT cars\n",
    "    \"REVA\": [], \"ROVER\": [], \"ROYAL ENFIELD\": [\"EICHERMOT.NS\"],  # parent Eicher Motors\n",
    "    \"SECMA\": [], \"SMART\": [\"MBG.DE\", \"0175.HK\"],      # JV Mercedes/Geely\n",
    "    \"SMITHS\": [], \"THINK\": [], \"THINK GLOBAL\": [],\n",
    "    \"TRIUMPH\": [], \"TVR\": [], \"W+E\": [], \"WESTFIELD\": []\n",
    "}\n"
   ]
  },
  {
   "cell_type": "code",
   "execution_count": 447,
   "id": "c4e2c701",
   "metadata": {},
   "outputs": [
    {
     "data": {
      "application/vnd.microsoft.datawrangler.viewer.v0+json": {
       "columns": [
        {
         "name": "index",
         "rawType": "int64",
         "type": "integer"
        },
        {
         "name": "Brand",
         "rawType": "object",
         "type": "string"
        },
        {
         "name": "Tickers",
         "rawType": "object",
         "type": "string"
        },
        {
         "name": "Ticker",
         "rawType": "object",
         "type": "string"
        },
        {
         "name": "Country",
         "rawType": "object",
         "type": "unknown"
        },
        {
         "name": "ParentCompany",
         "rawType": "object",
         "type": "unknown"
        },
        {
         "name": "ParentCountry",
         "rawType": "object",
         "type": "unknown"
        }
       ],
       "ref": "a4592e07-edbf-4145-8c82-7a1d344ad95a",
       "rows": [
        [
         "0",
         "ABARTH",
         "STLA",
         "STLA",
         "Italy",
         "Stellantis N.V.",
         "Netherlands"
        ],
        [
         "1",
         "ALFA ROMEO",
         "STLA",
         "STLA",
         "Italy",
         "Stellantis N.V.",
         "Netherlands"
        ],
        [
         "2",
         "ASTON MARTIN",
         "AML.L",
         "AML.L",
         "United Kingdom",
         "Aston Martin Lagonda Global Holdings plc",
         "United Kingdom"
        ],
        [
         "3",
         "AUDI",
         "VOW3.DE",
         "VOW3.DE",
         "Germany",
         "Volkswagen AG",
         "Germany"
        ],
        [
         "4",
         "BENTLEY",
         "VOW3.DE",
         "VOW3.DE",
         "United Kingdom",
         "Volkswagen AG",
         "Germany"
        ],
        [
         "5",
         "BMW",
         "BMW.DE",
         "BMW.DE",
         "Germany",
         "BMW AG",
         "Germany"
        ],
        [
         "6",
         "BYD",
         "1211.HK",
         "1211.HK",
         "China",
         "BYD Auto Co., Ltd.",
         "China"
        ],
        [
         "7",
         "CADILLAC",
         "GM",
         "GM",
         "United States",
         "General Motors",
         "United States"
        ],
        [
         "8",
         "CATERPILLAR",
         "CAT",
         "CAT",
         "United States",
         "Caterpillar Inc.",
         "United States"
        ],
        [
         "9",
         "CHEVROLET",
         "GM",
         "GM",
         "United States",
         "General Motors",
         "United States"
        ],
        [
         "10",
         "CITROEN",
         "STLA",
         "STLA",
         null,
         null,
         null
        ],
        [
         "11",
         "CUPRA",
         "VOW3.DE",
         "VOW3.DE",
         "Spain",
         "Volkswagen AG (SEAT S.A. subsidiary)",
         "Germany"
        ],
        [
         "12",
         "DAF",
         "PCAR",
         "PCAR",
         "Netherlands",
         "DAF Trucks N.V. (Paccar Inc.)",
         "Netherlands"
        ],
        [
         "13",
         "DAIMLER",
         "MBG.DE",
         "MBG.DE",
         "Germany",
         "Mercedes Benz Group AG",
         "Germany"
        ],
        [
         "14",
         "DATSUN",
         "7201.T",
         "7201.T",
         "Japan",
         "Nissan Motor Co., Ltd.",
         "Japan"
        ],
        [
         "15",
         "DFSK",
         "0489.HK, 601127.SS",
         "0489.HK",
         "China",
         "Dongfeng Sokon Automobile Co., Ltd.",
         "China"
        ],
        [
         "16",
         "DFSK",
         "0489.HK, 601127.SS",
         "601127.SS",
         "China",
         "Dongfeng Sokon Automobile Co., Ltd.",
         "China"
        ],
        [
         "17",
         "DS",
         "STLA",
         "STLA",
         "France",
         "Stellantis N.V.",
         "Netherlands"
        ],
        [
         "18",
         "FERRARI",
         "RACE",
         "RACE",
         "Italy",
         "Ferrari N.V.",
         "Italy"
        ],
        [
         "19",
         "FIAT",
         "STLA",
         "STLA",
         "Italy",
         "Stellantis N.V.",
         "Netherlands"
        ]
       ],
       "shape": {
        "columns": 6,
        "rows": 20
       }
      },
      "text/html": [
       "<div>\n",
       "<style scoped>\n",
       "    .dataframe tbody tr th:only-of-type {\n",
       "        vertical-align: middle;\n",
       "    }\n",
       "\n",
       "    .dataframe tbody tr th {\n",
       "        vertical-align: top;\n",
       "    }\n",
       "\n",
       "    .dataframe thead th {\n",
       "        text-align: right;\n",
       "    }\n",
       "</style>\n",
       "<table border=\"1\" class=\"dataframe\">\n",
       "  <thead>\n",
       "    <tr style=\"text-align: right;\">\n",
       "      <th></th>\n",
       "      <th>Brand</th>\n",
       "      <th>Tickers</th>\n",
       "      <th>Ticker</th>\n",
       "      <th>Country</th>\n",
       "      <th>ParentCompany</th>\n",
       "      <th>ParentCountry</th>\n",
       "    </tr>\n",
       "  </thead>\n",
       "  <tbody>\n",
       "    <tr>\n",
       "      <th>0</th>\n",
       "      <td>ABARTH</td>\n",
       "      <td>STLA</td>\n",
       "      <td>STLA</td>\n",
       "      <td>Italy</td>\n",
       "      <td>Stellantis N.V.</td>\n",
       "      <td>Netherlands</td>\n",
       "    </tr>\n",
       "    <tr>\n",
       "      <th>1</th>\n",
       "      <td>ALFA ROMEO</td>\n",
       "      <td>STLA</td>\n",
       "      <td>STLA</td>\n",
       "      <td>Italy</td>\n",
       "      <td>Stellantis N.V.</td>\n",
       "      <td>Netherlands</td>\n",
       "    </tr>\n",
       "    <tr>\n",
       "      <th>2</th>\n",
       "      <td>ASTON MARTIN</td>\n",
       "      <td>AML.L</td>\n",
       "      <td>AML.L</td>\n",
       "      <td>United Kingdom</td>\n",
       "      <td>Aston Martin Lagonda Global Holdings plc</td>\n",
       "      <td>United Kingdom</td>\n",
       "    </tr>\n",
       "    <tr>\n",
       "      <th>3</th>\n",
       "      <td>AUDI</td>\n",
       "      <td>VOW3.DE</td>\n",
       "      <td>VOW3.DE</td>\n",
       "      <td>Germany</td>\n",
       "      <td>Volkswagen AG</td>\n",
       "      <td>Germany</td>\n",
       "    </tr>\n",
       "    <tr>\n",
       "      <th>4</th>\n",
       "      <td>BENTLEY</td>\n",
       "      <td>VOW3.DE</td>\n",
       "      <td>VOW3.DE</td>\n",
       "      <td>United Kingdom</td>\n",
       "      <td>Volkswagen AG</td>\n",
       "      <td>Germany</td>\n",
       "    </tr>\n",
       "    <tr>\n",
       "      <th>5</th>\n",
       "      <td>BMW</td>\n",
       "      <td>BMW.DE</td>\n",
       "      <td>BMW.DE</td>\n",
       "      <td>Germany</td>\n",
       "      <td>BMW AG</td>\n",
       "      <td>Germany</td>\n",
       "    </tr>\n",
       "    <tr>\n",
       "      <th>6</th>\n",
       "      <td>BYD</td>\n",
       "      <td>1211.HK</td>\n",
       "      <td>1211.HK</td>\n",
       "      <td>China</td>\n",
       "      <td>BYD Auto Co., Ltd.</td>\n",
       "      <td>China</td>\n",
       "    </tr>\n",
       "    <tr>\n",
       "      <th>7</th>\n",
       "      <td>CADILLAC</td>\n",
       "      <td>GM</td>\n",
       "      <td>GM</td>\n",
       "      <td>United States</td>\n",
       "      <td>General Motors</td>\n",
       "      <td>United States</td>\n",
       "    </tr>\n",
       "    <tr>\n",
       "      <th>8</th>\n",
       "      <td>CATERPILLAR</td>\n",
       "      <td>CAT</td>\n",
       "      <td>CAT</td>\n",
       "      <td>United States</td>\n",
       "      <td>Caterpillar Inc.</td>\n",
       "      <td>United States</td>\n",
       "    </tr>\n",
       "    <tr>\n",
       "      <th>9</th>\n",
       "      <td>CHEVROLET</td>\n",
       "      <td>GM</td>\n",
       "      <td>GM</td>\n",
       "      <td>United States</td>\n",
       "      <td>General Motors</td>\n",
       "      <td>United States</td>\n",
       "    </tr>\n",
       "    <tr>\n",
       "      <th>10</th>\n",
       "      <td>CITROEN</td>\n",
       "      <td>STLA</td>\n",
       "      <td>STLA</td>\n",
       "      <td>NaN</td>\n",
       "      <td>NaN</td>\n",
       "      <td>NaN</td>\n",
       "    </tr>\n",
       "    <tr>\n",
       "      <th>11</th>\n",
       "      <td>CUPRA</td>\n",
       "      <td>VOW3.DE</td>\n",
       "      <td>VOW3.DE</td>\n",
       "      <td>Spain</td>\n",
       "      <td>Volkswagen AG (SEAT S.A. subsidiary)</td>\n",
       "      <td>Germany</td>\n",
       "    </tr>\n",
       "    <tr>\n",
       "      <th>12</th>\n",
       "      <td>DAF</td>\n",
       "      <td>PCAR</td>\n",
       "      <td>PCAR</td>\n",
       "      <td>Netherlands</td>\n",
       "      <td>DAF Trucks N.V. (Paccar Inc.)</td>\n",
       "      <td>Netherlands</td>\n",
       "    </tr>\n",
       "    <tr>\n",
       "      <th>13</th>\n",
       "      <td>DAIMLER</td>\n",
       "      <td>MBG.DE</td>\n",
       "      <td>MBG.DE</td>\n",
       "      <td>Germany</td>\n",
       "      <td>Mercedes Benz Group AG</td>\n",
       "      <td>Germany</td>\n",
       "    </tr>\n",
       "    <tr>\n",
       "      <th>14</th>\n",
       "      <td>DATSUN</td>\n",
       "      <td>7201.T</td>\n",
       "      <td>7201.T</td>\n",
       "      <td>Japan</td>\n",
       "      <td>Nissan Motor Co., Ltd.</td>\n",
       "      <td>Japan</td>\n",
       "    </tr>\n",
       "    <tr>\n",
       "      <th>15</th>\n",
       "      <td>DFSK</td>\n",
       "      <td>0489.HK, 601127.SS</td>\n",
       "      <td>0489.HK</td>\n",
       "      <td>China</td>\n",
       "      <td>Dongfeng Sokon Automobile Co., Ltd.</td>\n",
       "      <td>China</td>\n",
       "    </tr>\n",
       "    <tr>\n",
       "      <th>16</th>\n",
       "      <td>DFSK</td>\n",
       "      <td>0489.HK, 601127.SS</td>\n",
       "      <td>601127.SS</td>\n",
       "      <td>China</td>\n",
       "      <td>Dongfeng Sokon Automobile Co., Ltd.</td>\n",
       "      <td>China</td>\n",
       "    </tr>\n",
       "    <tr>\n",
       "      <th>17</th>\n",
       "      <td>DS</td>\n",
       "      <td>STLA</td>\n",
       "      <td>STLA</td>\n",
       "      <td>France</td>\n",
       "      <td>Stellantis N.V.</td>\n",
       "      <td>Netherlands</td>\n",
       "    </tr>\n",
       "    <tr>\n",
       "      <th>18</th>\n",
       "      <td>FERRARI</td>\n",
       "      <td>RACE</td>\n",
       "      <td>RACE</td>\n",
       "      <td>Italy</td>\n",
       "      <td>Ferrari N.V.</td>\n",
       "      <td>Italy</td>\n",
       "    </tr>\n",
       "    <tr>\n",
       "      <th>19</th>\n",
       "      <td>FIAT</td>\n",
       "      <td>STLA</td>\n",
       "      <td>STLA</td>\n",
       "      <td>Italy</td>\n",
       "      <td>Stellantis N.V.</td>\n",
       "      <td>Netherlands</td>\n",
       "    </tr>\n",
       "  </tbody>\n",
       "</table>\n",
       "</div>"
      ],
      "text/plain": [
       "           Brand             Tickers     Ticker         Country  \\\n",
       "0         ABARTH                STLA       STLA           Italy   \n",
       "1     ALFA ROMEO                STLA       STLA           Italy   \n",
       "2   ASTON MARTIN               AML.L      AML.L  United Kingdom   \n",
       "3           AUDI             VOW3.DE    VOW3.DE         Germany   \n",
       "4        BENTLEY             VOW3.DE    VOW3.DE  United Kingdom   \n",
       "5            BMW              BMW.DE     BMW.DE         Germany   \n",
       "6            BYD             1211.HK    1211.HK           China   \n",
       "7       CADILLAC                  GM         GM   United States   \n",
       "8    CATERPILLAR                 CAT        CAT   United States   \n",
       "9      CHEVROLET                  GM         GM   United States   \n",
       "10       CITROEN                STLA       STLA             NaN   \n",
       "11         CUPRA             VOW3.DE    VOW3.DE           Spain   \n",
       "12           DAF                PCAR       PCAR     Netherlands   \n",
       "13       DAIMLER              MBG.DE     MBG.DE         Germany   \n",
       "14        DATSUN              7201.T     7201.T           Japan   \n",
       "15          DFSK  0489.HK, 601127.SS    0489.HK           China   \n",
       "16          DFSK  0489.HK, 601127.SS  601127.SS           China   \n",
       "17            DS                STLA       STLA          France   \n",
       "18       FERRARI                RACE       RACE           Italy   \n",
       "19          FIAT                STLA       STLA           Italy   \n",
       "\n",
       "                               ParentCompany   ParentCountry  \n",
       "0                            Stellantis N.V.     Netherlands  \n",
       "1                            Stellantis N.V.     Netherlands  \n",
       "2   Aston Martin Lagonda Global Holdings plc  United Kingdom  \n",
       "3                              Volkswagen AG         Germany  \n",
       "4                              Volkswagen AG         Germany  \n",
       "5                                     BMW AG         Germany  \n",
       "6                         BYD Auto Co., Ltd.           China  \n",
       "7                             General Motors   United States  \n",
       "8                           Caterpillar Inc.   United States  \n",
       "9                             General Motors   United States  \n",
       "10                                       NaN             NaN  \n",
       "11      Volkswagen AG (SEAT S.A. subsidiary)         Germany  \n",
       "12             DAF Trucks N.V. (Paccar Inc.)     Netherlands  \n",
       "13                    Mercedes Benz Group AG         Germany  \n",
       "14                    Nissan Motor Co., Ltd.           Japan  \n",
       "15       Dongfeng Sokon Automobile Co., Ltd.           China  \n",
       "16       Dongfeng Sokon Automobile Co., Ltd.           China  \n",
       "17                           Stellantis N.V.     Netherlands  \n",
       "18                              Ferrari N.V.           Italy  \n",
       "19                           Stellantis N.V.     Netherlands  "
      ]
     },
     "execution_count": 447,
     "metadata": {},
     "output_type": "execute_result"
    }
   ],
   "source": [
    "def get_tickers(brands, mapping=brand_to_tickers):\n",
    "    rows = []\n",
    "    for b in brands:\n",
    "        key = b.strip().upper()\n",
    "        tickers = mapping.get(key, [])\n",
    "        rows.append({\"Brand\": b, \"Tickers\": \", \".join(tickers) if tickers else \"\"})\n",
    "    return pd.DataFrame(rows)\n",
    "\n",
    "brands = [\n",
    "    'ABARTH', 'AIXAM', 'ALBION', 'ALFA ROMEO', 'ARIEL', 'ASTON MARTIN',\n",
    "    'AUDI', 'AUSTIN', 'AUSTIN HEALEY', 'AUSTIN MORRIS', 'BENTLEY',\n",
    "    'BMW', 'BYD', 'CADILLAC', 'CATERPILLAR', 'CHARGE', 'CHEVROLET',\n",
    "    'CITROEN', 'CLARK', 'COLEMAN MILNE', 'COVENTRY CLIMAX', 'CUPRA',\n",
    "    'DACIA', 'DAEWOO', 'DAF', 'DAIMLER', 'DATSUN', 'DFSK', 'DS',\n",
    "    'ELECTRICARS', 'EOS', 'EVT', 'FERRARI', 'FIAT', 'FISKER', 'FORD',\n",
    "    'GENESIS', 'GINETTA', 'GREAT WALL', 'GWM', 'HARBILT ELECTRIC',\n",
    "    'HILLMAN', 'HONDA', 'HUMMER', 'HYSTER', 'HYUNDAI', 'INFINITI',\n",
    "    'INVACAR', 'JAGUAR', 'JEEP', 'JENSEN', 'JONWAY', 'KGM', 'KIA',\n",
    "    'KOMATSU', 'KYMCO', 'LAND ROVER', 'LANSING LINDE', 'LEAPMOTOR',\n",
    "    'LEXUS', 'LIGIER', 'LONDON TAXIS INT.', 'LOTUS', 'MAHINDRA',\n",
    "    'MASERATI', 'MAXUS', 'MAZDA', 'MCC', 'MERCEDES', 'MERCEDES-BENZ',\n",
    "    'MG', 'MIA', 'MINI', 'MITSUBISHI', 'MITSUBISHI FUSO',\n",
    "    'MOKE AUTOMIBILI', 'MORGAN', 'MORRIS', 'NISSAN', 'OMODA', 'OPEL',\n",
    "    'ORA', 'OTHER AGRIC/CONSTRUCTIONAL', 'OTHER BRITISH',\n",
    "    'OTHER COUNTRIES', 'OTHER ELECTRIC', 'OTHER GERMAN',\n",
    "    'OTHER ITALIAN', 'OTHER US/AUST/CAN', 'PERODUA', 'PEUGEOT',\n",
    "    'PIONEER', 'POLESTAR', 'PORSCHE', 'PROTON', 'RELIANT', 'RENAULT',\n",
    "    'RENAULT TRUCKS', 'REVA', 'ROLLS ROYCE', 'ROVER', 'ROYAL ENFIELD',\n",
    "    'SEAT', 'SECMA', 'SKODA', 'SKYWELL', 'SMART', 'SMITHS',\n",
    "    'SSANGYONG', 'SUBARU', 'SUZUKI', 'TATA', 'TESLA', 'THINK',\n",
    "    'THINK GLOBAL', 'TIANJIN', 'TOYOTA', 'TRIUMPH', 'TVR', 'VAUXHALL',\n",
    "    'VOLKSWAGEN', 'VOLVO', 'W+E', 'WESTFIELD', 'XPENG', 'YALE',\n",
    "    'YAMAHA'\n",
    "]\n",
    "\n",
    "# 1) Build and clean ticker table from brands + mapping\n",
    "ticker_df = (\n",
    "    pd.DataFrame(\n",
    "        [{\"Brand\": b, \"Tickers\": \", \".join(brand_to_tickers.get(b.upper().strip(), []))}\n",
    "         for b in brands]\n",
    "    )\n",
    "    .assign(Brand=lambda d: d[\"Brand\"].str.upper().str.strip())\n",
    "    .loc[lambda d: d[\"Tickers\"].fillna(\"\").str.strip() != \"\"]\n",
    ")\n",
    "\n",
    "# 2) Explode tickers, attach country info from df_brand, and dedupe\n",
    "ticker_meta = (\n",
    "    ticker_df.assign(Ticker=ticker_df[\"Tickers\"].str.split(\",\"))\n",
    "             .explode(\"Ticker\")\n",
    "             .assign(Ticker=lambda d: d[\"Ticker\"].str.strip())\n",
    "             .loc[lambda d: d[\"Ticker\"] != \"\"]\n",
    "             .merge(\n",
    "                 df_brand.assign(Make=df_brand[\"Make\"].str.upper().str.strip())[\n",
    "                     [\"Make\", \"Country\", \"ParentCompany\", \"ParentCountry\"]\n",
    "                 ],\n",
    "                 left_on=\"Brand\", right_on=\"Make\", how=\"left\"\n",
    "             )\n",
    "             .drop(columns=\"Make\")\n",
    "             .drop_duplicates(subset=[\"Brand\", \"Ticker\"])\n",
    "             .reset_index(drop=True)\n",
    ")\n",
    "\n",
    "# Optional: keep only tickers present in your returns matrix\n",
    "# ticker_meta = ticker_meta[ticker_meta[\"Ticker\"].isin(rets_m.columns)].reset_index(drop=True)\n",
    "\n",
    "ticker_meta.head(20)\n"
   ]
  },
  {
   "cell_type": "code",
   "execution_count": 448,
   "id": "1f1c7758",
   "metadata": {},
   "outputs": [
    {
     "name": "stderr",
     "output_type": "stream",
     "text": [
      "\n",
      "1 Failed download:\n",
      "['FSR']: YFTzMissingError('possibly delisted; no timezone found')\n",
      "/var/folders/7x/pd53f7tx0jl5lyy8g87z1qqw0000gn/T/ipykernel_13578/560136644.py:39: FutureWarning:\n",
      "\n",
      "'M' is deprecated and will be removed in a future version, please use 'ME' instead.\n",
      "\n",
      "/var/folders/7x/pd53f7tx0jl5lyy8g87z1qqw0000gn/T/ipykernel_13578/560136644.py:39: FutureWarning:\n",
      "\n",
      "The default fill_method='pad' in DataFrame.pct_change is deprecated and will be removed in a future version. Either fill in any non-leading NA values prior to calling pct_change or specify 'fill_method=None' to not fill NA values.\n",
      "\n"
     ]
    },
    {
     "data": {
      "application/vnd.plotly.v1+json": {
       "config": {
        "plotlyServerURL": "https://plot.ly"
       },
       "data": [
        {
         "hovertemplate": "Volatility=%{x}<br>Return=%{y}<extra></extra>",
         "legendgroup": "",
         "marker": {
          "color": "#636efa",
          "symbol": "circle"
         },
         "mode": "lines+markers",
         "name": "",
         "orientation": "v",
         "showlegend": false,
         "type": "scatter",
         "x": {
          "bdata": "sQflSe+Tyz/wrDNSkXzKPzX5qBR8aMk/sbw0LTBYyD8M9NpxDkzHP3rHxoLARMY/tuiFxPlCxT/ek7UTjUfEPxzhBUGFU8M/qKWr595nwj+z1MYHA4bBP3IR8E1/r8A//tp3z2vMvz8BZIMzB1i+P03iTz2TBr0/Wq3V/pbduz9dnotgT+G6P73xP87xFro/O2WyWHSDuT+jrAoQoSq5P6vFDmDoDrk/7UBsFM0wuT+fFr0c14+5P/75tZ/yKLo/4qppO7r4uj8nuJcv+/m7P2DVbGf5J70/W9QvlVV9vj8J924/5PS/Py/yiCMvxcA/qtiZz/ScwT+1P4tY5n/CP4HmAT9obMM/4AyyYFJhxD8wQIzRcl3FP/0N8sbVX8Y/L9iS8qtnxz8d8AfxRHTIP7UXW3AKhck/E4wQC3yZyj8=",
          "dtype": "f8"
         },
         "xaxis": "x",
         "y": {
          "bdata": "W0w9Qiy32L9J8qzQi/HWv3daH1/rK9W/MnGO7Upm07/sVgR8qqDRv45y6BQUts+/8rDMMdMqzL/NW6tOkp/Iv5C4kGtRFMW/MyhziBCJwb8FFLJKn/u7vyYLdoQd5bS/dFB1fDedq7+sBQbgZ+Cav0beII3zmVc/g4q8UabTnT9IwVO11hatPxEA4yDtobU/BGQe5264vD9ttKlWeOfBP8hyxzm5csU/s3DlHPr9yD86vQEAO4nMP+opjvE9CtA/1ZQdY97P0T9JjqzUfpXTPxYJOkYfW9U/f0PGt78g1z/aOVUpYObYP1aY45oArNo/xtVxDKFx3D99hQJ+QTfeP/kKj+/h/N8/Z52QMEHh4D9pwFdpEcThP2whHaLhpuI/2yjn2rGJ4z8tB6wTgmzkP7+vc0xST+U/7vE5hSIy5j8=",
          "dtype": "f8"
         },
         "yaxis": "y"
        },
        {
         "marker": {
          "size": 10
         },
         "mode": "markers",
         "name": "Min-Var",
         "type": "scatter",
         "x": [
          0.09788161011523322
         ],
         "y": [
          0.1668256573840594
         ]
        },
        {
         "marker": {
          "size": 10
         },
         "mode": "markers",
         "name": "Tangent (Sharpe=3.20)",
         "type": "scatter",
         "x": [
          0.22489868498782203
         ],
         "y": [
          0.7488040594776239
         ]
        },
        {
         "line": {
          "dash": "dash"
         },
         "mode": "lines",
         "name": "CML",
         "type": "scatter",
         "x": {
          "bdata": "AAAAAAAAAAD7rZJu/q10P/utkm7+rYQ/+ATcpf0Ejz/7rZJu/q2UP3pZNwp+2Zk/+ATcpf0Enz88WMCgPhiiP/utkm7+raQ/ugNlPL5Dpz96WTcKftmpPzmvCdg9b6w/+ATcpf0Erz9cLde5Xs2wPzxYwKA+GLI/G4Ophx5jsz/7rZJu/q20P9vYe1Xe+LU/ugNlPL5Dtz+aLk4jno64P3pZNwp+2bk/WYQg8V0kuz85rwnYPW+8Pxna8r4dur0/+ATcpf0Evz/sl2LG7ifAP1wt17lezcA/zMJLrc5ywT88WMCgPhjCP6vtNJSuvcI/G4Ophx5jwz+LGB57jgjEP/utkm7+rcQ/a0MHYm5TxT/b2HtV3vjFP0tu8EhOnsY/ugNlPL5Dxz8qmdkvLunHP5ouTiOejsg/CsTCFg40yT96WTcKftnJP+ruq/3tfso/WYQg8V0kyz/JGZXkzcnLPzmvCdg9b8w/qUR+y60UzT8Z2vK+HbrNP4lvZ7KNX84/+ATcpf0Ezz9omlCZbarPPw==",
          "dtype": "f8"
         },
         "y": {
          "bdata": "uB6F61G4nj8uCAZKMZ+nPwCBSZ454q8/6XxG+aAStD9SOWgjJTS4P7v1iU2pVbw/EtnVu5Y7wD9Ht+bQWEzCP3uV9+UaXcQ/r3MI+9xtxj/kURkQn37IPxkwKiVhj8o/TQ47OiOgzD+C7EtP5bDOP1xlLrLTYNA/ddS2vDRp0T+QQz/HlXHSP6qyx9H2edM/xCFQ3FeC1D/ekNjmuIrVP/j/YPEZk9Y/Em/p+3qb1z8u3nEG3KPYP0hN+hA9rNk/YryCG5602j98Kwsm/7zbP5aakzBgxdw/sAkcO8HN3T/MeKRFItbeP+TnLFCD3t8/f6taLXJz4D8N456yovfgP5oa4zfTe+E/J1InvQMA4j+1iWtCNITiP0LBr8dkCOM/zvjzTJWM4z9cMDjSxRDkP+lnfFf2lOQ/dp/A3CYZ5T8D1wRiV53lP5EOSeeHIeY/HUaNbLil5j+qfdHx6CnnPzi1FXcZruc/xexZ/Eky6D9SJJ6BerboP99b4garOuk/bJMmjNu+6T/5ymoRDEPqPw==",
          "dtype": "f8"
         }
        }
       ],
       "layout": {
        "legend": {
         "tracegroupgap": 0
        },
        "template": {
         "data": {
          "bar": [
           {
            "error_x": {
             "color": "#2a3f5f"
            },
            "error_y": {
             "color": "#2a3f5f"
            },
            "marker": {
             "line": {
              "color": "white",
              "width": 0.5
             },
             "pattern": {
              "fillmode": "overlay",
              "size": 10,
              "solidity": 0.2
             }
            },
            "type": "bar"
           }
          ],
          "barpolar": [
           {
            "marker": {
             "line": {
              "color": "white",
              "width": 0.5
             },
             "pattern": {
              "fillmode": "overlay",
              "size": 10,
              "solidity": 0.2
             }
            },
            "type": "barpolar"
           }
          ],
          "carpet": [
           {
            "aaxis": {
             "endlinecolor": "#2a3f5f",
             "gridcolor": "#C8D4E3",
             "linecolor": "#C8D4E3",
             "minorgridcolor": "#C8D4E3",
             "startlinecolor": "#2a3f5f"
            },
            "baxis": {
             "endlinecolor": "#2a3f5f",
             "gridcolor": "#C8D4E3",
             "linecolor": "#C8D4E3",
             "minorgridcolor": "#C8D4E3",
             "startlinecolor": "#2a3f5f"
            },
            "type": "carpet"
           }
          ],
          "choropleth": [
           {
            "colorbar": {
             "outlinewidth": 0,
             "ticks": ""
            },
            "type": "choropleth"
           }
          ],
          "contour": [
           {
            "colorbar": {
             "outlinewidth": 0,
             "ticks": ""
            },
            "colorscale": [
             [
              0,
              "#0d0887"
             ],
             [
              0.1111111111111111,
              "#46039f"
             ],
             [
              0.2222222222222222,
              "#7201a8"
             ],
             [
              0.3333333333333333,
              "#9c179e"
             ],
             [
              0.4444444444444444,
              "#bd3786"
             ],
             [
              0.5555555555555556,
              "#d8576b"
             ],
             [
              0.6666666666666666,
              "#ed7953"
             ],
             [
              0.7777777777777778,
              "#fb9f3a"
             ],
             [
              0.8888888888888888,
              "#fdca26"
             ],
             [
              1,
              "#f0f921"
             ]
            ],
            "type": "contour"
           }
          ],
          "contourcarpet": [
           {
            "colorbar": {
             "outlinewidth": 0,
             "ticks": ""
            },
            "type": "contourcarpet"
           }
          ],
          "heatmap": [
           {
            "colorbar": {
             "outlinewidth": 0,
             "ticks": ""
            },
            "colorscale": [
             [
              0,
              "#0d0887"
             ],
             [
              0.1111111111111111,
              "#46039f"
             ],
             [
              0.2222222222222222,
              "#7201a8"
             ],
             [
              0.3333333333333333,
              "#9c179e"
             ],
             [
              0.4444444444444444,
              "#bd3786"
             ],
             [
              0.5555555555555556,
              "#d8576b"
             ],
             [
              0.6666666666666666,
              "#ed7953"
             ],
             [
              0.7777777777777778,
              "#fb9f3a"
             ],
             [
              0.8888888888888888,
              "#fdca26"
             ],
             [
              1,
              "#f0f921"
             ]
            ],
            "type": "heatmap"
           }
          ],
          "histogram": [
           {
            "marker": {
             "pattern": {
              "fillmode": "overlay",
              "size": 10,
              "solidity": 0.2
             }
            },
            "type": "histogram"
           }
          ],
          "histogram2d": [
           {
            "colorbar": {
             "outlinewidth": 0,
             "ticks": ""
            },
            "colorscale": [
             [
              0,
              "#0d0887"
             ],
             [
              0.1111111111111111,
              "#46039f"
             ],
             [
              0.2222222222222222,
              "#7201a8"
             ],
             [
              0.3333333333333333,
              "#9c179e"
             ],
             [
              0.4444444444444444,
              "#bd3786"
             ],
             [
              0.5555555555555556,
              "#d8576b"
             ],
             [
              0.6666666666666666,
              "#ed7953"
             ],
             [
              0.7777777777777778,
              "#fb9f3a"
             ],
             [
              0.8888888888888888,
              "#fdca26"
             ],
             [
              1,
              "#f0f921"
             ]
            ],
            "type": "histogram2d"
           }
          ],
          "histogram2dcontour": [
           {
            "colorbar": {
             "outlinewidth": 0,
             "ticks": ""
            },
            "colorscale": [
             [
              0,
              "#0d0887"
             ],
             [
              0.1111111111111111,
              "#46039f"
             ],
             [
              0.2222222222222222,
              "#7201a8"
             ],
             [
              0.3333333333333333,
              "#9c179e"
             ],
             [
              0.4444444444444444,
              "#bd3786"
             ],
             [
              0.5555555555555556,
              "#d8576b"
             ],
             [
              0.6666666666666666,
              "#ed7953"
             ],
             [
              0.7777777777777778,
              "#fb9f3a"
             ],
             [
              0.8888888888888888,
              "#fdca26"
             ],
             [
              1,
              "#f0f921"
             ]
            ],
            "type": "histogram2dcontour"
           }
          ],
          "mesh3d": [
           {
            "colorbar": {
             "outlinewidth": 0,
             "ticks": ""
            },
            "type": "mesh3d"
           }
          ],
          "parcoords": [
           {
            "line": {
             "colorbar": {
              "outlinewidth": 0,
              "ticks": ""
             }
            },
            "type": "parcoords"
           }
          ],
          "pie": [
           {
            "automargin": true,
            "type": "pie"
           }
          ],
          "scatter": [
           {
            "fillpattern": {
             "fillmode": "overlay",
             "size": 10,
             "solidity": 0.2
            },
            "type": "scatter"
           }
          ],
          "scatter3d": [
           {
            "line": {
             "colorbar": {
              "outlinewidth": 0,
              "ticks": ""
             }
            },
            "marker": {
             "colorbar": {
              "outlinewidth": 0,
              "ticks": ""
             }
            },
            "type": "scatter3d"
           }
          ],
          "scattercarpet": [
           {
            "marker": {
             "colorbar": {
              "outlinewidth": 0,
              "ticks": ""
             }
            },
            "type": "scattercarpet"
           }
          ],
          "scattergeo": [
           {
            "marker": {
             "colorbar": {
              "outlinewidth": 0,
              "ticks": ""
             }
            },
            "type": "scattergeo"
           }
          ],
          "scattergl": [
           {
            "marker": {
             "colorbar": {
              "outlinewidth": 0,
              "ticks": ""
             }
            },
            "type": "scattergl"
           }
          ],
          "scattermap": [
           {
            "marker": {
             "colorbar": {
              "outlinewidth": 0,
              "ticks": ""
             }
            },
            "type": "scattermap"
           }
          ],
          "scattermapbox": [
           {
            "marker": {
             "colorbar": {
              "outlinewidth": 0,
              "ticks": ""
             }
            },
            "type": "scattermapbox"
           }
          ],
          "scatterpolar": [
           {
            "marker": {
             "colorbar": {
              "outlinewidth": 0,
              "ticks": ""
             }
            },
            "type": "scatterpolar"
           }
          ],
          "scatterpolargl": [
           {
            "marker": {
             "colorbar": {
              "outlinewidth": 0,
              "ticks": ""
             }
            },
            "type": "scatterpolargl"
           }
          ],
          "scatterternary": [
           {
            "marker": {
             "colorbar": {
              "outlinewidth": 0,
              "ticks": ""
             }
            },
            "type": "scatterternary"
           }
          ],
          "surface": [
           {
            "colorbar": {
             "outlinewidth": 0,
             "ticks": ""
            },
            "colorscale": [
             [
              0,
              "#0d0887"
             ],
             [
              0.1111111111111111,
              "#46039f"
             ],
             [
              0.2222222222222222,
              "#7201a8"
             ],
             [
              0.3333333333333333,
              "#9c179e"
             ],
             [
              0.4444444444444444,
              "#bd3786"
             ],
             [
              0.5555555555555556,
              "#d8576b"
             ],
             [
              0.6666666666666666,
              "#ed7953"
             ],
             [
              0.7777777777777778,
              "#fb9f3a"
             ],
             [
              0.8888888888888888,
              "#fdca26"
             ],
             [
              1,
              "#f0f921"
             ]
            ],
            "type": "surface"
           }
          ],
          "table": [
           {
            "cells": {
             "fill": {
              "color": "#EBF0F8"
             },
             "line": {
              "color": "white"
             }
            },
            "header": {
             "fill": {
              "color": "#C8D4E3"
             },
             "line": {
              "color": "white"
             }
            },
            "type": "table"
           }
          ]
         },
         "layout": {
          "annotationdefaults": {
           "arrowcolor": "#2a3f5f",
           "arrowhead": 0,
           "arrowwidth": 1
          },
          "autotypenumbers": "strict",
          "coloraxis": {
           "colorbar": {
            "outlinewidth": 0,
            "ticks": ""
           }
          },
          "colorscale": {
           "diverging": [
            [
             0,
             "#8e0152"
            ],
            [
             0.1,
             "#c51b7d"
            ],
            [
             0.2,
             "#de77ae"
            ],
            [
             0.3,
             "#f1b6da"
            ],
            [
             0.4,
             "#fde0ef"
            ],
            [
             0.5,
             "#f7f7f7"
            ],
            [
             0.6,
             "#e6f5d0"
            ],
            [
             0.7,
             "#b8e186"
            ],
            [
             0.8,
             "#7fbc41"
            ],
            [
             0.9,
             "#4d9221"
            ],
            [
             1,
             "#276419"
            ]
           ],
           "sequential": [
            [
             0,
             "#0d0887"
            ],
            [
             0.1111111111111111,
             "#46039f"
            ],
            [
             0.2222222222222222,
             "#7201a8"
            ],
            [
             0.3333333333333333,
             "#9c179e"
            ],
            [
             0.4444444444444444,
             "#bd3786"
            ],
            [
             0.5555555555555556,
             "#d8576b"
            ],
            [
             0.6666666666666666,
             "#ed7953"
            ],
            [
             0.7777777777777778,
             "#fb9f3a"
            ],
            [
             0.8888888888888888,
             "#fdca26"
            ],
            [
             1,
             "#f0f921"
            ]
           ],
           "sequentialminus": [
            [
             0,
             "#0d0887"
            ],
            [
             0.1111111111111111,
             "#46039f"
            ],
            [
             0.2222222222222222,
             "#7201a8"
            ],
            [
             0.3333333333333333,
             "#9c179e"
            ],
            [
             0.4444444444444444,
             "#bd3786"
            ],
            [
             0.5555555555555556,
             "#d8576b"
            ],
            [
             0.6666666666666666,
             "#ed7953"
            ],
            [
             0.7777777777777778,
             "#fb9f3a"
            ],
            [
             0.8888888888888888,
             "#fdca26"
            ],
            [
             1,
             "#f0f921"
            ]
           ]
          },
          "colorway": [
           "#636efa",
           "#EF553B",
           "#00cc96",
           "#ab63fa",
           "#FFA15A",
           "#19d3f3",
           "#FF6692",
           "#B6E880",
           "#FF97FF",
           "#FECB52"
          ],
          "font": {
           "color": "#2a3f5f"
          },
          "geo": {
           "bgcolor": "white",
           "lakecolor": "white",
           "landcolor": "white",
           "showlakes": true,
           "showland": true,
           "subunitcolor": "#C8D4E3"
          },
          "hoverlabel": {
           "align": "left"
          },
          "hovermode": "closest",
          "mapbox": {
           "style": "light"
          },
          "paper_bgcolor": "white",
          "plot_bgcolor": "white",
          "polar": {
           "angularaxis": {
            "gridcolor": "#EBF0F8",
            "linecolor": "#EBF0F8",
            "ticks": ""
           },
           "bgcolor": "white",
           "radialaxis": {
            "gridcolor": "#EBF0F8",
            "linecolor": "#EBF0F8",
            "ticks": ""
           }
          },
          "scene": {
           "xaxis": {
            "backgroundcolor": "white",
            "gridcolor": "#DFE8F3",
            "gridwidth": 2,
            "linecolor": "#EBF0F8",
            "showbackground": true,
            "ticks": "",
            "zerolinecolor": "#EBF0F8"
           },
           "yaxis": {
            "backgroundcolor": "white",
            "gridcolor": "#DFE8F3",
            "gridwidth": 2,
            "linecolor": "#EBF0F8",
            "showbackground": true,
            "ticks": "",
            "zerolinecolor": "#EBF0F8"
           },
           "zaxis": {
            "backgroundcolor": "white",
            "gridcolor": "#DFE8F3",
            "gridwidth": 2,
            "linecolor": "#EBF0F8",
            "showbackground": true,
            "ticks": "",
            "zerolinecolor": "#EBF0F8"
           }
          },
          "shapedefaults": {
           "line": {
            "color": "#2a3f5f"
           }
          },
          "ternary": {
           "aaxis": {
            "gridcolor": "#DFE8F3",
            "linecolor": "#A2B1C6",
            "ticks": ""
           },
           "baxis": {
            "gridcolor": "#DFE8F3",
            "linecolor": "#A2B1C6",
            "ticks": ""
           },
           "bgcolor": "white",
           "caxis": {
            "gridcolor": "#DFE8F3",
            "linecolor": "#A2B1C6",
            "ticks": ""
           }
          },
          "title": {
           "x": 0.05
          },
          "xaxis": {
           "automargin": true,
           "gridcolor": "#EBF0F8",
           "linecolor": "#EBF0F8",
           "ticks": "",
           "title": {
            "standoff": 15
           },
           "zerolinecolor": "#EBF0F8",
           "zerolinewidth": 2
          },
          "yaxis": {
           "automargin": true,
           "gridcolor": "#EBF0F8",
           "linecolor": "#EBF0F8",
           "ticks": "",
           "title": {
            "standoff": 15
           },
           "zerolinecolor": "#EBF0F8",
           "zerolinewidth": 2
          }
         }
        },
        "title": {
         "text": "Efficient Frontier (Annualized)"
        },
        "xaxis": {
         "anchor": "y",
         "domain": [
          0,
          1
         ],
         "title": {
          "text": "Volatility (σ, annualized)"
         }
        },
        "yaxis": {
         "anchor": "x",
         "domain": [
          0,
          1
         ],
         "title": {
          "text": "Return (μ, annualized)"
         }
        }
       }
      }
     },
     "metadata": {},
     "output_type": "display_data"
    },
    {
     "name": "stdout",
     "output_type": "stream",
     "text": [
      "Min-Variance portfolio:\n",
      "          Ticker           Brand    Weight\n",
      "0   EICHERMOT.NS   ROYAL ENFIELD  0.248216\n",
      "1           RACE         FERRARI  0.242405\n",
      "2      600104.SS           MAXUS  0.224260\n",
      "3           PCAR             DAF  0.198308\n",
      "4        VOW3.DE            AUDI  0.181881\n",
      "5         7267.T           HONDA  0.175975\n",
      "6        1211.HK             BYD  0.156760\n",
      "7         7211.T      MITSUBISHI  0.141782\n",
      "8      VOLV-B.ST  RENAULT TRUCKS  0.129760\n",
      "9         7270.T          SUBARU  0.112241\n",
      "10        MBG.DE         DAIMLER  0.082648\n",
      "11           CAT     CATERPILLAR  0.062001\n",
      "12     005380.KS         GENESIS  0.060359\n",
      "13            HY          HYSTER  0.035023\n",
      "14       0489.HK            DFSK  0.015877\n",
      "15        7272.T          YAMAHA  0.014510\n",
      "16         AML.L    ASTON MARTIN  0.006742\n",
      "17        7203.T           LEXUS  0.005493\n",
      "18        M&M.NS        MAHINDRA  0.002349\n",
      "19     003620.KS             KGM  0.000842\n",
      "\n",
      "Tangency (max Sharpe) portfolio:\n",
      "           Ticker           Brand    Weight\n",
      "0          7267.T           HONDA  0.553725\n",
      "1       VOLV-B.ST  RENAULT TRUCKS  0.544640\n",
      "2       000270.KS             KIA  0.509463\n",
      "3             CAT     CATERPILLAR  0.482210\n",
      "4            RACE         FERRARI  0.467196\n",
      "5         1211.HK             BYD  0.251024\n",
      "6          7211.T      MITSUBISHI  0.243503\n",
      "7         0489.HK            DFSK  0.184854\n",
      "8          7272.T          YAMAHA  0.147722\n",
      "9            TSLA           TESLA  0.146563\n",
      "10   EICHERMOT.NS   ROYAL ENFIELD  0.113164\n",
      "11         M&M.NS        MAHINDRA  0.095221\n",
      "12         RNO.PA         RENAULT  0.079951\n",
      "13      601633.SS      GREAT WALL  0.073619\n",
      "14         7269.T          SUZUKI  0.067358\n",
      "15         7270.T          SUBARU  0.036654\n",
      "16         7203.T           LEXUS -0.006619\n",
      "17         6301.T         KOMATSU -0.022306\n",
      "18  TATAMOTORS.NS          JAGUAR -0.033900\n",
      "19             HY          HYSTER -0.052061\n",
      "\n",
      "Tangency: Return=74.88%, Volatility=22.49%, Sharpe=3.20 (rf=3.00%)\n"
     ]
    }
   ],
   "source": [
    "# ==== Efficient Frontier from ticker_df =======================================\n",
    "# Requirements: pip install yfinance scipy plotly (or use matplotlib if you prefer)\n",
    "\n",
    "\n",
    "# ------------------- Config -------------------\n",
    "start_date = \"2019-01-01\"     # adjust as needed\n",
    "end_date   = None             # None -> until today\n",
    "rf_annual  = 0.03             # risk-free (annual). Change if you have a UK gilt rate.\n",
    "freq_per_year = 12            # monthly returns\n",
    "allow_short = False           # set True for unconstrained frontier\n",
    "\n",
    "# ------------------- 1) Build ticker list -------------------\n",
    "# Use the FIRST listed ticker per brand; drop empties & duplicates\n",
    "tickers = (ticker_df[\"Tickers\"]\n",
    "           .dropna()\n",
    "           .astype(str)\n",
    "           .str.split(\",\")\n",
    "           .str[0]\n",
    "           .str.strip()\n",
    "           .replace(\"\", np.nan)\n",
    "           .dropna()\n",
    "           .unique()\n",
    "           .tolist())\n",
    "\n",
    "assert len(tickers) > 1, \"Need at least 2 tradable tickers.\"\n",
    "\n",
    "# Optional: mapping Brand -> chosen ticker (for labeling later)\n",
    "brand_to_one_ticker = (ticker_df.assign(Ticker=ticker_df[\"Tickers\"].str.split(\",\").str[0].str.strip())\n",
    "                       .dropna(subset=[\"Ticker\"])\n",
    "                       .drop_duplicates(subset=[\"Ticker\"])\n",
    "                       .set_index(\"Ticker\")[\"Brand\"].to_dict())\n",
    "\n",
    "# ------------------- 2) Download prices & compute returns -------------------\n",
    "prices = yf.download(tickers, start=start_date, end=end_date, auto_adjust=True, progress=False)[\"Close\"]\n",
    "if isinstance(prices, pd.Series):  # if only one ticker sneaks through\n",
    "    prices = prices.to_frame()\n",
    "\n",
    "# Resample to monthly, compute pct returns\n",
    "rets_m = prices.resample(\"M\").last().pct_change().dropna(how=\"all\").dropna(axis=1)\n",
    "tickers = rets_m.columns.tolist()  # keep only those with data\n",
    "\n",
    "# Annualize mean & covariance (monthly -> annual)\n",
    "mu = rets_m.mean() * freq_per_year\n",
    "Sigma = rets_m.cov() * freq_per_year\n",
    "n = len(tickers)\n",
    "\n",
    "# ------------------- 3) Helpers for optimization -------------------\n",
    "ones = np.ones(n)\n",
    "\n",
    "def portfolio_perf(w, mu, Sigma):\n",
    "    ret = float(w @ mu)\n",
    "    vol = float(np.sqrt(w @ Sigma @ w))\n",
    "    return ret, vol\n",
    "\n",
    "def min_var_given_return(target_ret, mu, Sigma, long_only=True):\n",
    "    # Minimize w' Σ w, s.t. sum w = 1, mu·w = target_ret, and (optional) w>=0\n",
    "    def objective(w): return w @ Sigma @ w\n",
    "    cons = (\n",
    "        {\"type\": \"eq\", \"fun\": lambda w: w.sum() - 1.0},\n",
    "        {\"type\": \"eq\", \"fun\": lambda w: w @ mu - target_ret}\n",
    "    )\n",
    "    bounds = None if not long_only else [(0.0, 1.0)] * n\n",
    "    w0 = ones / n\n",
    "    res = minimize(objective, w0, method=\"SLSQP\", bounds=bounds, constraints=cons)\n",
    "    return res.x if res.success else None\n",
    "\n",
    "def min_variance(mu, Sigma, long_only=True):\n",
    "    # Minimize variance with sum w = 1 (no target return)\n",
    "    def objective(w): return w @ Sigma @ w\n",
    "    cons = ({\"type\": \"eq\", \"fun\": lambda w: w.sum() - 1.0},)\n",
    "    bounds = None if not long_only else [(0.0, 1.0)] * n\n",
    "    w0 = ones / n\n",
    "    res = minimize(objective, w0, method=\"SLSQP\", bounds=bounds, constraints=cons)\n",
    "    return res.x if res.success else None\n",
    "\n",
    "def max_sharpe(mu, Sigma, rf=0.0, long_only=True):\n",
    "    # Maximize Sharpe -> minimize negative Sharpe\n",
    "    def neg_sharpe(w):\n",
    "        ret, vol = portfolio_perf(w, mu, Sigma)\n",
    "        return -(ret - rf) / (vol + 1e-12)\n",
    "    cons = ({\"type\": \"eq\", \"fun\": lambda w: w.sum() - 1.0},)\n",
    "    bounds = None if not long_only else [(0.0, 1.0)] * n\n",
    "    w0 = ones / n\n",
    "    res = minimize(neg_sharpe, w0, method=\"SLSQP\", bounds=bounds, constraints=cons)\n",
    "    return res.x if res.success else None\n",
    "\n",
    "# ------------------- 4) Compute frontier curve -------------------\n",
    "# Target returns from (near) min to max achievable\n",
    "min_mu, max_mu = float(mu.min()), float(mu.max())\n",
    "targets = np.linspace(min_mu + 1e-6, max_mu - 1e-6, 40)\n",
    "\n",
    "frontier = []\n",
    "weights_list = []\n",
    "for tr in targets:\n",
    "    w = min_var_given_return(tr, mu, Sigma, long_only=not allow_short is False)  # long-only by default\n",
    "    if w is None: \n",
    "        continue\n",
    "    r, v = portfolio_perf(w, mu, Sigma)\n",
    "    frontier.append({\"Return\": r, \"Volatility\": v})\n",
    "    weights_list.append(w)\n",
    "\n",
    "frontier_df = pd.DataFrame(frontier)\n",
    "\n",
    "# Key portfolios\n",
    "w_minvar = min_variance(mu, Sigma, long_only=not allow_short is False)\n",
    "w_tan    = max_sharpe(mu, Sigma, rf=rf_annual, long_only=not allow_short is False)\n",
    "\n",
    "r_min, v_min = portfolio_perf(w_minvar, mu, Sigma)\n",
    "r_tan, v_tan = portfolio_perf(w_tan,    mu, Sigma)\n",
    "sh_tan = (r_tan - rf_annual) / v_tan\n",
    "\n",
    "# ------------------- 5) Plot (interactive) -------------------\n",
    "import plotly.express as px\n",
    "\n",
    "fig = px.scatter(frontier_df, x=\"Volatility\", y=\"Return\", title=\"Efficient Frontier (Annualized)\")\n",
    "fig.update_traces(mode=\"lines+markers\")\n",
    "\n",
    "# Mark min-variance and tangency\n",
    "fig.add_trace(go.Scatter(x=[v_min], y=[r_min], mode=\"markers\", name=\"Min-Var\", marker=dict(size=10)))\n",
    "fig.add_trace(go.Scatter(x=[v_tan], y=[r_tan], mode=\"markers\", name=f\"Tangent (Sharpe={sh_tan:.2f})\", marker=dict(size=10)))\n",
    "\n",
    "# (Optional) Capital Market Line\n",
    "x_cml = np.linspace(0, max(frontier_df[\"Volatility\"].max(), v_tan)*1.1, 50)\n",
    "y_cml = rf_annual + ( (r_tan - rf_annual) / v_tan ) * x_cml\n",
    "fig.add_trace(go.Scatter(x=x_cml, y=y_cml, mode=\"lines\", name=\"CML\", line=dict(dash=\"dash\")))\n",
    "\n",
    "fig.update_layout(xaxis_title=\"Volatility (σ, annualized)\", yaxis_title=\"Return (μ, annualized)\", template=\"plotly_white\")\n",
    "fig.write_html(OUT_DIR / \"efficient_frontier.html\")\n",
    "fig.write_image(FIG_DIR / \"efficient_frontier.pdf\")\n",
    "fig.show()\n",
    "\n",
    "# ------------------- 6) Export weights -------------------\n",
    "def weights_df(w, name):\n",
    "    d = pd.DataFrame({\"Ticker\": tickers, \"Brand\": [brand_to_one_ticker.get(t, \"\") for t in tickers], \"Weight\": w})\n",
    "    d = d[d[\"Weight\"].abs() > 1e-6].sort_values(\"Weight\", ascending=False).reset_index(drop=True)\n",
    "    d.to_csv(OUT_DIR / f\"weights_{name}.csv\", index=False)\n",
    "    return d\n",
    "\n",
    "weights_minvar = weights_df(w_minvar, \"min_variance\")\n",
    "weights_tan    = weights_df(w_tan,    \"tangency\")\n",
    "\n",
    "print(\"Min-Variance portfolio:\")\n",
    "print(weights_minvar.head(20))\n",
    "print(\"\\nTangency (max Sharpe) portfolio:\")\n",
    "print(weights_tan.head(20))\n",
    "print(f\"\\nTangency: Return={r_tan:.2%}, Volatility={v_tan:.2%}, Sharpe={sh_tan:.2f} (rf={rf_annual:.2%})\")\n"
   ]
  },
  {
   "cell_type": "markdown",
   "id": "10f1a0ba",
   "metadata": {},
   "source": []
  },
  {
   "cell_type": "code",
   "execution_count": 449,
   "id": "da154d25",
   "metadata": {},
   "outputs": [
    {
     "name": "stderr",
     "output_type": "stream",
     "text": [
      "/var/folders/7x/pd53f7tx0jl5lyy8g87z1qqw0000gn/T/ipykernel_13578/1737317200.py:3: FutureWarning:\n",
      "\n",
      "'M' is deprecated and will be removed in a future version, please use 'ME' instead.\n",
      "\n",
      "/var/folders/7x/pd53f7tx0jl5lyy8g87z1qqw0000gn/T/ipykernel_13578/1737317200.py:3: FutureWarning:\n",
      "\n",
      "The default fill_method='pad' in DataFrame.pct_change is deprecated and will be removed in a future version. Either fill in any non-leading NA values prior to calling pct_change or specify 'fill_method=None' to not fill NA values.\n",
      "\n"
     ]
    },
    {
     "data": {
      "application/vnd.plotly.v1+json": {
       "config": {
        "plotlyServerURL": "https://plot.ly"
       },
       "data": [
        {
         "coloraxis": "coloraxis",
         "hovertemplate": "Ticker: %{x}<br>Ticker: %{y}<br>color: %{z}<extra></extra>",
         "name": "0",
         "texttemplate": "%{z:.2f}",
         "type": "heatmap",
         "x": [
          "000270.KS",
          "003620.KS",
          "005380.KS",
          "0175.HK",
          "0489.HK",
          "1211.HK",
          "600104.SS",
          "601633.SS",
          "6301.T",
          "7201.T",
          "7203.T",
          "7211.T",
          "7261.T",
          "7267.T",
          "7269.T",
          "7270.T",
          "7272.T",
          "AML.L",
          "BMW.DE",
          "CAT",
          "EICHERMOT.NS",
          "F",
          "GM",
          "HY",
          "M&M.NS",
          "MBG.DE",
          "PCAR",
          "RACE",
          "RNO.PA",
          "STLA",
          "TATAMOTORS.NS",
          "TSLA",
          "VOLV-B.ST",
          "VOW3.DE"
         ],
         "xaxis": "x",
         "y": [
          "000270.KS",
          "003620.KS",
          "005380.KS",
          "0175.HK",
          "0489.HK",
          "1211.HK",
          "600104.SS",
          "601633.SS",
          "6301.T",
          "7201.T",
          "7203.T",
          "7211.T",
          "7261.T",
          "7267.T",
          "7269.T",
          "7270.T",
          "7272.T",
          "AML.L",
          "BMW.DE",
          "CAT",
          "EICHERMOT.NS",
          "F",
          "GM",
          "HY",
          "M&M.NS",
          "MBG.DE",
          "PCAR",
          "RACE",
          "RNO.PA",
          "STLA",
          "TATAMOTORS.NS",
          "TSLA",
          "VOLV-B.ST",
          "VOW3.DE"
         ],
         "yaxis": "y",
         "z": {
          "bdata": "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",
          "dtype": "f8",
          "shape": "34, 34"
         }
        }
       ],
       "layout": {
        "coloraxis": {
         "cmax": 1,
         "cmin": -1,
         "colorscale": [
          [
           0,
           "rgb(5,48,97)"
          ],
          [
           0.1,
           "rgb(33,102,172)"
          ],
          [
           0.2,
           "rgb(67,147,195)"
          ],
          [
           0.3,
           "rgb(146,197,222)"
          ],
          [
           0.4,
           "rgb(209,229,240)"
          ],
          [
           0.5,
           "rgb(247,247,247)"
          ],
          [
           0.6,
           "rgb(253,219,199)"
          ],
          [
           0.7,
           "rgb(244,165,130)"
          ],
          [
           0.8,
           "rgb(214,96,77)"
          ],
          [
           0.9,
           "rgb(178,24,43)"
          ],
          [
           1,
           "rgb(103,0,31)"
          ]
         ]
        },
        "height": 700,
        "template": {
         "data": {
          "bar": [
           {
            "error_x": {
             "color": "#2a3f5f"
            },
            "error_y": {
             "color": "#2a3f5f"
            },
            "marker": {
             "line": {
              "color": "white",
              "width": 0.5
             },
             "pattern": {
              "fillmode": "overlay",
              "size": 10,
              "solidity": 0.2
             }
            },
            "type": "bar"
           }
          ],
          "barpolar": [
           {
            "marker": {
             "line": {
              "color": "white",
              "width": 0.5
             },
             "pattern": {
              "fillmode": "overlay",
              "size": 10,
              "solidity": 0.2
             }
            },
            "type": "barpolar"
           }
          ],
          "carpet": [
           {
            "aaxis": {
             "endlinecolor": "#2a3f5f",
             "gridcolor": "#C8D4E3",
             "linecolor": "#C8D4E3",
             "minorgridcolor": "#C8D4E3",
             "startlinecolor": "#2a3f5f"
            },
            "baxis": {
             "endlinecolor": "#2a3f5f",
             "gridcolor": "#C8D4E3",
             "linecolor": "#C8D4E3",
             "minorgridcolor": "#C8D4E3",
             "startlinecolor": "#2a3f5f"
            },
            "type": "carpet"
           }
          ],
          "choropleth": [
           {
            "colorbar": {
             "outlinewidth": 0,
             "ticks": ""
            },
            "type": "choropleth"
           }
          ],
          "contour": [
           {
            "colorbar": {
             "outlinewidth": 0,
             "ticks": ""
            },
            "colorscale": [
             [
              0,
              "#0d0887"
             ],
             [
              0.1111111111111111,
              "#46039f"
             ],
             [
              0.2222222222222222,
              "#7201a8"
             ],
             [
              0.3333333333333333,
              "#9c179e"
             ],
             [
              0.4444444444444444,
              "#bd3786"
             ],
             [
              0.5555555555555556,
              "#d8576b"
             ],
             [
              0.6666666666666666,
              "#ed7953"
             ],
             [
              0.7777777777777778,
              "#fb9f3a"
             ],
             [
              0.8888888888888888,
              "#fdca26"
             ],
             [
              1,
              "#f0f921"
             ]
            ],
            "type": "contour"
           }
          ],
          "contourcarpet": [
           {
            "colorbar": {
             "outlinewidth": 0,
             "ticks": ""
            },
            "type": "contourcarpet"
           }
          ],
          "heatmap": [
           {
            "colorbar": {
             "outlinewidth": 0,
             "ticks": ""
            },
            "colorscale": [
             [
              0,
              "#0d0887"
             ],
             [
              0.1111111111111111,
              "#46039f"
             ],
             [
              0.2222222222222222,
              "#7201a8"
             ],
             [
              0.3333333333333333,
              "#9c179e"
             ],
             [
              0.4444444444444444,
              "#bd3786"
             ],
             [
              0.5555555555555556,
              "#d8576b"
             ],
             [
              0.6666666666666666,
              "#ed7953"
             ],
             [
              0.7777777777777778,
              "#fb9f3a"
             ],
             [
              0.8888888888888888,
              "#fdca26"
             ],
             [
              1,
              "#f0f921"
             ]
            ],
            "type": "heatmap"
           }
          ],
          "histogram": [
           {
            "marker": {
             "pattern": {
              "fillmode": "overlay",
              "size": 10,
              "solidity": 0.2
             }
            },
            "type": "histogram"
           }
          ],
          "histogram2d": [
           {
            "colorbar": {
             "outlinewidth": 0,
             "ticks": ""
            },
            "colorscale": [
             [
              0,
              "#0d0887"
             ],
             [
              0.1111111111111111,
              "#46039f"
             ],
             [
              0.2222222222222222,
              "#7201a8"
             ],
             [
              0.3333333333333333,
              "#9c179e"
             ],
             [
              0.4444444444444444,
              "#bd3786"
             ],
             [
              0.5555555555555556,
              "#d8576b"
             ],
             [
              0.6666666666666666,
              "#ed7953"
             ],
             [
              0.7777777777777778,
              "#fb9f3a"
             ],
             [
              0.8888888888888888,
              "#fdca26"
             ],
             [
              1,
              "#f0f921"
             ]
            ],
            "type": "histogram2d"
           }
          ],
          "histogram2dcontour": [
           {
            "colorbar": {
             "outlinewidth": 0,
             "ticks": ""
            },
            "colorscale": [
             [
              0,
              "#0d0887"
             ],
             [
              0.1111111111111111,
              "#46039f"
             ],
             [
              0.2222222222222222,
              "#7201a8"
             ],
             [
              0.3333333333333333,
              "#9c179e"
             ],
             [
              0.4444444444444444,
              "#bd3786"
             ],
             [
              0.5555555555555556,
              "#d8576b"
             ],
             [
              0.6666666666666666,
              "#ed7953"
             ],
             [
              0.7777777777777778,
              "#fb9f3a"
             ],
             [
              0.8888888888888888,
              "#fdca26"
             ],
             [
              1,
              "#f0f921"
             ]
            ],
            "type": "histogram2dcontour"
           }
          ],
          "mesh3d": [
           {
            "colorbar": {
             "outlinewidth": 0,
             "ticks": ""
            },
            "type": "mesh3d"
           }
          ],
          "parcoords": [
           {
            "line": {
             "colorbar": {
              "outlinewidth": 0,
              "ticks": ""
             }
            },
            "type": "parcoords"
           }
          ],
          "pie": [
           {
            "automargin": true,
            "type": "pie"
           }
          ],
          "scatter": [
           {
            "fillpattern": {
             "fillmode": "overlay",
             "size": 10,
             "solidity": 0.2
            },
            "type": "scatter"
           }
          ],
          "scatter3d": [
           {
            "line": {
             "colorbar": {
              "outlinewidth": 0,
              "ticks": ""
             }
            },
            "marker": {
             "colorbar": {
              "outlinewidth": 0,
              "ticks": ""
             }
            },
            "type": "scatter3d"
           }
          ],
          "scattercarpet": [
           {
            "marker": {
             "colorbar": {
              "outlinewidth": 0,
              "ticks": ""
             }
            },
            "type": "scattercarpet"
           }
          ],
          "scattergeo": [
           {
            "marker": {
             "colorbar": {
              "outlinewidth": 0,
              "ticks": ""
             }
            },
            "type": "scattergeo"
           }
          ],
          "scattergl": [
           {
            "marker": {
             "colorbar": {
              "outlinewidth": 0,
              "ticks": ""
             }
            },
            "type": "scattergl"
           }
          ],
          "scattermap": [
           {
            "marker": {
             "colorbar": {
              "outlinewidth": 0,
              "ticks": ""
             }
            },
            "type": "scattermap"
           }
          ],
          "scattermapbox": [
           {
            "marker": {
             "colorbar": {
              "outlinewidth": 0,
              "ticks": ""
             }
            },
            "type": "scattermapbox"
           }
          ],
          "scatterpolar": [
           {
            "marker": {
             "colorbar": {
              "outlinewidth": 0,
              "ticks": ""
             }
            },
            "type": "scatterpolar"
           }
          ],
          "scatterpolargl": [
           {
            "marker": {
             "colorbar": {
              "outlinewidth": 0,
              "ticks": ""
             }
            },
            "type": "scatterpolargl"
           }
          ],
          "scatterternary": [
           {
            "marker": {
             "colorbar": {
              "outlinewidth": 0,
              "ticks": ""
             }
            },
            "type": "scatterternary"
           }
          ],
          "surface": [
           {
            "colorbar": {
             "outlinewidth": 0,
             "ticks": ""
            },
            "colorscale": [
             [
              0,
              "#0d0887"
             ],
             [
              0.1111111111111111,
              "#46039f"
             ],
             [
              0.2222222222222222,
              "#7201a8"
             ],
             [
              0.3333333333333333,
              "#9c179e"
             ],
             [
              0.4444444444444444,
              "#bd3786"
             ],
             [
              0.5555555555555556,
              "#d8576b"
             ],
             [
              0.6666666666666666,
              "#ed7953"
             ],
             [
              0.7777777777777778,
              "#fb9f3a"
             ],
             [
              0.8888888888888888,
              "#fdca26"
             ],
             [
              1,
              "#f0f921"
             ]
            ],
            "type": "surface"
           }
          ],
          "table": [
           {
            "cells": {
             "fill": {
              "color": "#EBF0F8"
             },
             "line": {
              "color": "white"
             }
            },
            "header": {
             "fill": {
              "color": "#C8D4E3"
             },
             "line": {
              "color": "white"
             }
            },
            "type": "table"
           }
          ]
         },
         "layout": {
          "annotationdefaults": {
           "arrowcolor": "#2a3f5f",
           "arrowhead": 0,
           "arrowwidth": 1
          },
          "autotypenumbers": "strict",
          "coloraxis": {
           "colorbar": {
            "outlinewidth": 0,
            "ticks": ""
           }
          },
          "colorscale": {
           "diverging": [
            [
             0,
             "#8e0152"
            ],
            [
             0.1,
             "#c51b7d"
            ],
            [
             0.2,
             "#de77ae"
            ],
            [
             0.3,
             "#f1b6da"
            ],
            [
             0.4,
             "#fde0ef"
            ],
            [
             0.5,
             "#f7f7f7"
            ],
            [
             0.6,
             "#e6f5d0"
            ],
            [
             0.7,
             "#b8e186"
            ],
            [
             0.8,
             "#7fbc41"
            ],
            [
             0.9,
             "#4d9221"
            ],
            [
             1,
             "#276419"
            ]
           ],
           "sequential": [
            [
             0,
             "#0d0887"
            ],
            [
             0.1111111111111111,
             "#46039f"
            ],
            [
             0.2222222222222222,
             "#7201a8"
            ],
            [
             0.3333333333333333,
             "#9c179e"
            ],
            [
             0.4444444444444444,
             "#bd3786"
            ],
            [
             0.5555555555555556,
             "#d8576b"
            ],
            [
             0.6666666666666666,
             "#ed7953"
            ],
            [
             0.7777777777777778,
             "#fb9f3a"
            ],
            [
             0.8888888888888888,
             "#fdca26"
            ],
            [
             1,
             "#f0f921"
            ]
           ],
           "sequentialminus": [
            [
             0,
             "#0d0887"
            ],
            [
             0.1111111111111111,
             "#46039f"
            ],
            [
             0.2222222222222222,
             "#7201a8"
            ],
            [
             0.3333333333333333,
             "#9c179e"
            ],
            [
             0.4444444444444444,
             "#bd3786"
            ],
            [
             0.5555555555555556,
             "#d8576b"
            ],
            [
             0.6666666666666666,
             "#ed7953"
            ],
            [
             0.7777777777777778,
             "#fb9f3a"
            ],
            [
             0.8888888888888888,
             "#fdca26"
            ],
            [
             1,
             "#f0f921"
            ]
           ]
          },
          "colorway": [
           "#636efa",
           "#EF553B",
           "#00cc96",
           "#ab63fa",
           "#FFA15A",
           "#19d3f3",
           "#FF6692",
           "#B6E880",
           "#FF97FF",
           "#FECB52"
          ],
          "font": {
           "color": "#2a3f5f"
          },
          "geo": {
           "bgcolor": "white",
           "lakecolor": "white",
           "landcolor": "white",
           "showlakes": true,
           "showland": true,
           "subunitcolor": "#C8D4E3"
          },
          "hoverlabel": {
           "align": "left"
          },
          "hovermode": "closest",
          "mapbox": {
           "style": "light"
          },
          "paper_bgcolor": "white",
          "plot_bgcolor": "white",
          "polar": {
           "angularaxis": {
            "gridcolor": "#EBF0F8",
            "linecolor": "#EBF0F8",
            "ticks": ""
           },
           "bgcolor": "white",
           "radialaxis": {
            "gridcolor": "#EBF0F8",
            "linecolor": "#EBF0F8",
            "ticks": ""
           }
          },
          "scene": {
           "xaxis": {
            "backgroundcolor": "white",
            "gridcolor": "#DFE8F3",
            "gridwidth": 2,
            "linecolor": "#EBF0F8",
            "showbackground": true,
            "ticks": "",
            "zerolinecolor": "#EBF0F8"
           },
           "yaxis": {
            "backgroundcolor": "white",
            "gridcolor": "#DFE8F3",
            "gridwidth": 2,
            "linecolor": "#EBF0F8",
            "showbackground": true,
            "ticks": "",
            "zerolinecolor": "#EBF0F8"
           },
           "zaxis": {
            "backgroundcolor": "white",
            "gridcolor": "#DFE8F3",
            "gridwidth": 2,
            "linecolor": "#EBF0F8",
            "showbackground": true,
            "ticks": "",
            "zerolinecolor": "#EBF0F8"
           }
          },
          "shapedefaults": {
           "line": {
            "color": "#2a3f5f"
           }
          },
          "ternary": {
           "aaxis": {
            "gridcolor": "#DFE8F3",
            "linecolor": "#A2B1C6",
            "ticks": ""
           },
           "baxis": {
            "gridcolor": "#DFE8F3",
            "linecolor": "#A2B1C6",
            "ticks": ""
           },
           "bgcolor": "white",
           "caxis": {
            "gridcolor": "#DFE8F3",
            "linecolor": "#A2B1C6",
            "ticks": ""
           }
          },
          "title": {
           "x": 0.05
          },
          "xaxis": {
           "automargin": true,
           "gridcolor": "#EBF0F8",
           "linecolor": "#EBF0F8",
           "ticks": "",
           "title": {
            "standoff": 15
           },
           "zerolinecolor": "#EBF0F8",
           "zerolinewidth": 2
          },
          "yaxis": {
           "automargin": true,
           "gridcolor": "#EBF0F8",
           "linecolor": "#EBF0F8",
           "ticks": "",
           "title": {
            "standoff": 15
           },
           "zerolinecolor": "#EBF0F8",
           "zerolinewidth": 2
          }
         }
        },
        "title": {
         "text": "Asset Correlation Matrix"
        },
        "width": 800,
        "xaxis": {
         "anchor": "y",
         "constrain": "domain",
         "domain": [
          0,
          1
         ],
         "scaleanchor": "y",
         "title": {
          "text": "Assets"
         }
        },
        "yaxis": {
         "anchor": "x",
         "autorange": "reversed",
         "constrain": "domain",
         "domain": [
          0,
          1
         ],
         "title": {
          "text": "Assets"
         }
        }
       }
      }
     },
     "metadata": {},
     "output_type": "display_data"
    }
   ],
   "source": [
    "# --- Use your monthly returns from earlier ---\n",
    "# If you followed the efficient frontier code, just reuse:\n",
    "rets_m = prices.resample(\"M\").last().pct_change().dropna(how=\"all\").dropna(axis=1)\n",
    "\n",
    "# --- Compute correlation matrix ---\n",
    "corr_df = rets_m.corr()\n",
    "\n",
    "# --- Plot with Plotly (interactive heatmap) ---\n",
    "fig = px.imshow(\n",
    "    corr_df,\n",
    "    text_auto=\".2f\",\n",
    "    color_continuous_scale=\"RdBu_r\",\n",
    "    zmin=-1,\n",
    "    zmax=1,\n",
    "    title=\"Asset Correlation Matrix\"\n",
    ")\n",
    "fig.update_layout(\n",
    "    width=800,\n",
    "    height=700,\n",
    "    xaxis_title=\"Assets\",\n",
    "    yaxis_title=\"Assets\",\n",
    "    template=\"plotly_white\"\n",
    ")\n",
    "fig.show()\n",
    "\n",
    "# --- Optional 4️⃣: Save correlation matrix ---\n",
    "corr_df.to_csv(\"outputs/asset_correlation_matrix.csv\")"
   ]
  },
  {
   "cell_type": "markdown",
   "id": "e9b96f5f",
   "metadata": {},
   "source": [
    "### 1 Build Ticker → Country mapping (from your brand table)"
   ]
  },
  {
   "cell_type": "code",
   "execution_count": 450,
   "id": "7c80c05a",
   "metadata": {},
   "outputs": [],
   "source": [
    "\n",
    "# brand_to_one_ticker: {ticker: brand}; ensure uppercase brands\n",
    "ticker_brand = (pd.Series(brand_to_one_ticker, name=\"Brand\")\n",
    "                .rename_axis(\"Ticker\").reset_index())\n",
    "ticker_brand[\"Brand\"] = ticker_brand[\"Brand\"].str.upper().str.strip()\n",
    "\n",
    "# df_brand: has columns [\"Make\",\"Country\",\"ParentCompany\",\"ParentCountry\"]\n",
    "brand_origin = df_brand[[\"Make\",\"ParentCountry\"]].copy()\n",
    "brand_origin[\"Make\"] = brand_origin[\"Make\"].str.upper().str.strip()\n",
    "\n",
    "# join to get each ticker's country of (parent) origin\n",
    "ticker_meta = (ticker_brand.merge(brand_origin, left_on=\"Brand\", right_on=\"Make\", how=\"left\")\n",
    "                          .drop(columns=[\"Make\"])\n",
    "                          .rename(columns={\"ParentCountry\":\"Country\"}))\n",
    "\n",
    "# keep only tickers present in your return matrix\n",
    "tickers_in_data = set(rets_m.columns)\n",
    "ticker_meta = ticker_meta[ticker_meta[\"Ticker\"].isin(tickers_in_data)].dropna(subset=[\"Country\"])\n",
    "assert not ticker_meta.empty, \"No tickers mapped to countries. Check brand names & df_brand.\"\n"
   ]
  },
  {
   "cell_type": "markdown",
   "id": "52d6d906",
   "metadata": {},
   "source": [
    "### 2) Country portfolios (equal-weighted within each country)"
   ]
  },
  {
   "cell_type": "code",
   "execution_count": 451,
   "id": "5266b2a7",
   "metadata": {},
   "outputs": [
    {
     "name": "stderr",
     "output_type": "stream",
     "text": [
      "/var/folders/7x/pd53f7tx0jl5lyy8g87z1qqw0000gn/T/ipykernel_13578/3423980527.py:10: FutureWarning:\n",
      "\n",
      "'M' is deprecated and will be removed in a future version, please use 'ME' instead.\n",
      "\n"
     ]
    }
   ],
   "source": [
    "# --- 0) From your ticker_meta (must have columns: Tickers, Country) ---\n",
    "ticker_meta = ticker_meta.dropna(subset=[\"Ticker\",\"Country\"]).copy()\n",
    "tickers = sorted(ticker_meta[\"Ticker\"].unique().tolist())\n",
    "assert len(tickers) >= 2, \"Need at least 2 tickers.\"\n",
    "\n",
    "# --- 1) Pull prices and build monthly returns ---\n",
    "prices = yf.download(tickers, period=\"5y\", auto_adjust=True, progress=False)[\"Close\"]\n",
    "if isinstance(prices, pd.Series):  # if only 1 ticker returned\n",
    "    prices = prices.to_frame()\n",
    "rets_m = prices.resample(\"M\").last().pct_change().dropna(how=\"all\").dropna(axis=1)\n",
    "tickers = rets_m.columns.tolist()  # keep only tickers with data\n",
    "\n",
    "# --- 2) Keep only mapped tickers & build equal-weight country weights ---\n",
    "tm = (ticker_meta[ticker_meta[\"Ticker\"].isin(tickers)]\n",
    "      .drop_duplicates([\"Country\",\"Ticker\"]))\n",
    "\n",
    "w_eq = (tm.groupby(\"Country\")[\"Ticker\"]\n",
    "          .apply(lambda s: pd.Series(1.0/len(s), index=s.values))\n",
    "          .rename(\"Weight\").reset_index())\n",
    "# --- Build weight matrix: Countries × Tickers ---\n",
    "W = (\n",
    "    w_eq.pivot(index=\"Country\", columns=\"level_1\", values=\"Weight\")\n",
    "        .reindex(columns=rets_m.columns, fill_value=0.0)\n",
    ")\n",
    "\n",
    "# --- Re-normalize so each country's weights sum to 1 ---\n",
    "W = W.div(W.sum(axis=1), axis=0).fillna(0.0)\n",
    "\n",
    "\n",
    "# --- 3) Country portfolios: monthly returns, stats, correlations ---\n",
    "country_rets = rets_m.dot(W.T)          # index = month, cols = Country\n",
    "freq = 12\n",
    "country_stats = pd.DataFrame({\n",
    "    \"AnnReturn\": country_rets.mean()*freq,\n",
    "    \"AnnVol\": country_rets.std(ddof=1)*np.sqrt(freq)\n",
    "})\n",
    "country_stats[\"Sharpe(0%)\"] = country_stats[\"AnnReturn\"] / country_stats[\"AnnVol\"]\n",
    "country_corr = country_rets.corr()\n",
    "\n",
    "# (Optional) save\n",
    "country_stats.to_csv(OUT_DIR / \"country_portfolio_stats.csv\")\n",
    "country_corr.to_csv(OUT_DIR / \"country_portfolio_correlations.csv\")"
   ]
  },
  {
   "cell_type": "code",
   "execution_count": 452,
   "id": "fc3508db",
   "metadata": {},
   "outputs": [
    {
     "name": "stdout",
     "output_type": "stream",
     "text": [
      "Japan             3.047196e-01\n",
      "Sweden            2.020657e-01\n",
      "South Korea       1.657047e-01\n",
      "India             1.365167e-01\n",
      "Italy             1.042410e-01\n",
      "China             8.675232e-02\n",
      "Germany           4.457087e-17\n",
      "France            7.299582e-18\n",
      "United Kingdom    1.805874e-18\n",
      "Netherlands       0.000000e+00\n",
      "United States     0.000000e+00\n",
      "Name: MinVar, dtype: float64 India             5.592951e-01\n",
      "Japan             1.743774e-01\n",
      "Sweden            1.278097e-01\n",
      "Italy             8.007640e-02\n",
      "China             5.844144e-02\n",
      "United Kingdom    3.150258e-15\n",
      "France            7.557973e-16\n",
      "United States     7.470153e-16\n",
      "South Korea       5.043166e-16\n",
      "Germany           7.309962e-17\n",
      "Netherlands       0.000000e+00\n",
      "Name: Tangency, dtype: float64\n",
      "Japan             3.047196e-01\n",
      "Sweden            2.020657e-01\n",
      "South Korea       1.657047e-01\n",
      "India             1.365167e-01\n",
      "Italy             1.042410e-01\n",
      "China             8.675232e-02\n",
      "Germany           4.457087e-17\n",
      "France            7.299582e-18\n",
      "United Kingdom    1.805874e-18\n",
      "Netherlands       0.000000e+00\n",
      "United States     0.000000e+00\n",
      "Name: MinVar, dtype: float64 India             5.592951e-01\n",
      "Japan             1.743774e-01\n",
      "Sweden            1.278097e-01\n",
      "Italy             8.007640e-02\n",
      "China             5.844144e-02\n",
      "United Kingdom    3.150258e-15\n",
      "France            7.557973e-16\n",
      "United States     7.470153e-16\n",
      "South Korea       5.043166e-16\n",
      "Germany           7.309962e-17\n",
      "Netherlands       0.000000e+00\n",
      "Name: Tangency, dtype: float64\n"
     ]
    }
   ],
   "source": [
    "from scipy.optimize import minimize\n",
    "\n",
    "mu = country_rets.mean()*freq\n",
    "Sigma = country_rets.cov()*freq\n",
    "countries = mu.index.tolist()\n",
    "n = len(countries)\n",
    "ones = np.ones(n)\n",
    "\n",
    "def perf(w): r = float(w@mu.values); v = float(np.sqrt(w@Sigma.values@w)); return r, v\n",
    "def min_var(bounds=(0,1)):\n",
    "    cons = ({\"type\":\"eq\",\"fun\":lambda w: w.sum()-1.0},)\n",
    "    bnds = [bounds]*n if bounds else None\n",
    "    res = minimize(lambda w: w@Sigma.values@w, ones/n, method=\"SLSQP\", bounds=bnds, constraints=cons)\n",
    "    return res.x\n",
    "def max_sharpe(rf=0.03, bounds=(0,1)):\n",
    "    def negS(w): r,v = perf(w); return -(r-rf)/(v+1e-12)\n",
    "    cons = ({\"type\":\"eq\",\"fun\":lambda w: w.sum()-1.0},)\n",
    "    bnds = [bounds]*n if bounds else None\n",
    "    res = minimize(negS, ones/n, method=\"SLSQP\", bounds=bnds, constraints=cons)\n",
    "    return res.x\n",
    "\n",
    "w_min = min_var(bounds=(0,1))\n",
    "w_tan = max_sharpe(rf=0.03, bounds=(0,1))\n",
    "\n",
    "weights_min = pd.Series(w_min, index=countries, name=\"MinVar\").sort_values(ascending=False)\n",
    "weights_tan = pd.Series(w_tan, index=countries, name=\"Tangency\").sort_values(ascending=False)\n",
    "\n",
    "print(weights_min, weights_tan)\n",
    "\n",
    "mu = country_rets.mean()*freq\n",
    "Sigma = country_rets.cov()*freq\n",
    "countries = mu.index.tolist()\n",
    "n = len(countries)\n",
    "ones = np.ones(n)\n",
    "\n",
    "def perf(w): r = float(w@mu.values); v = float(np.sqrt(w@Sigma.values@w)); return r, v\n",
    "def min_var(bounds=(0,1)):\n",
    "    cons = ({\"type\":\"eq\",\"fun\":lambda w: w.sum()-1.0},)\n",
    "    bnds = [bounds]*n if bounds else None\n",
    "    res = minimize(lambda w: w@Sigma.values@w, ones/n, method=\"SLSQP\", bounds=bnds, constraints=cons)\n",
    "    return res.x\n",
    "def max_sharpe(rf=0.03, bounds=(0,1)):\n",
    "    def negS(w): r,v = perf(w); return -(r-rf)/(v+1e-12)\n",
    "    cons = ({\"type\":\"eq\",\"fun\":lambda w: w.sum()-1.0},)\n",
    "    bnds = [bounds]*n if bounds else None\n",
    "    res = minimize(negS, ones/n, method=\"SLSQP\", bounds=bnds, constraints=cons)\n",
    "    return res.x\n",
    "\n",
    "w_min = min_var(bounds=(0,1))\n",
    "w_tan = max_sharpe(rf=0.03, bounds=(0,1))\n",
    "\n",
    "weights_min = pd.Series(w_min, index=countries, name=\"MinVar\").sort_values(ascending=False)\n",
    "weights_tan = pd.Series(w_tan, index=countries, name=\"Tangency\").sort_values(ascending=False)\n",
    "\n",
    "print(weights_min, weights_tan)"
   ]
  },
  {
   "cell_type": "markdown",
   "id": "ea35b9a6",
   "metadata": {},
   "source": [
    "### 3) Correlation between country portfolios"
   ]
  },
  {
   "cell_type": "code",
   "execution_count": 453,
   "id": "fcad013d",
   "metadata": {},
   "outputs": [
    {
     "data": {
      "application/vnd.plotly.v1+json": {
       "config": {
        "plotlyServerURL": "https://plot.ly"
       },
       "data": [
        {
         "coloraxis": "coloraxis",
         "hovertemplate": "Country: %{x}<br>Country: %{y}<br>color: %{z}<extra></extra>",
         "name": "0",
         "texttemplate": "%{z:.2f}",
         "type": "heatmap",
         "x": [
          "China",
          "France",
          "Germany",
          "India",
          "Italy",
          "Japan",
          "Netherlands",
          "South Korea",
          "Sweden",
          "United Kingdom",
          "United States"
         ],
         "xaxis": "x",
         "y": [
          "China",
          "France",
          "Germany",
          "India",
          "Italy",
          "Japan",
          "Netherlands",
          "South Korea",
          "Sweden",
          "United Kingdom",
          "United States"
         ],
         "yaxis": "y",
         "z": {
          "bdata": "AAAAAAAA8D/kBKe8z8fPPwocnKSNsMg/pDGI0HBuwD+7+X6mTwPLP13k9mlc9cE/7MPv+I5s0D//P3QUhDG9P/6j+wHxqcw/4rwSXBbDwz/j4FgumqXHP+QEp7zPx88/AAAAAAAA8D/TsmTofdvjP1cUqcgf2dw/dbEOmFG92T93EtXlJfnhP3YPp2W+lOQ//HAklTUDqT/3nkG8qpTiP5CoMS5jBts/of13YbAU4j8KHJykjbDIP9OyZOh92+M/AAAAAAAA8D/AelyrSB/YP39crCRvBdw/m5/Bqkrf4T9uZFyf7WTlP+pnBflyZNA/NOhef2zq5D810lkn2QndPy0Re+TA6uE/pDGI0HBuwD9XFKnIH9ncP8B6XKtIH9g/AAAAAAAA8D97AujKXITOP8w5b/BPtdQ/Xa+4r+kj0z/P131daerXP0ENESvBFtQ/anwzE7OU0T/6D1pAmyXhP7v5fqZPA8s/dbEOmFG92T9/XKwkbwXcP3sC6MpchM4/AAAAAAAA8D+AmGEhBXfIP9rkSyfgVd0/HyA4Kp38vD/PILz29QbeP4lKLF0mB9w/eWJUs/1j2T9d5PZpXPXBP3cS1eUl+eE/m5/Bqkrf4T/MOW/wT7XUP4CYYSEFd8g/AAAAAAAA8D+va8c3Zv/bP9I275SwFMA/3WSom6mb0j8at2oEcFHVP59k+hi1qds/7MPv+I5s0D92D6dlvpTkP25kXJ/tZOU/Xa+4r+kj0z/a5Esn4FXdP69rxzdm/9s/AAAAAAAA8D9EPAtMxj7SP0hAmmxjgOg/WZ2U16Xg2z9EYmED6RHlP/8/dBSEMb0//HAklTUDqT/qZwX5cmTQP8/XfV1p6tc/HyA4Kp38vD/SNu+UsBTAP0Q8C0zGPtI/AAAAAAAA8D/8PVHrQknZPwYIFw1VyLs/WBCPR3f60T/+o/sB8anMP/eeQbyqlOI/NOhef2zq5D9BDRErwRbUP88gvPb1Bt4/3WSom6mb0j9IQJpsY4DoP/w9UetCSdk/AAAAAAAA8D8INzw27L3SP7MIqzO3puM/4rwSXBbDwz+QqDEuYwbbPzXSWSfZCd0/anwzE7OU0T+JSixdJgfcPxq3agRwUdU/WZ2U16Xg2z8GCBcNVci7Pwg3PDbsvdI/AAAAAAAA8D8qy59SlhjfP+PgWC6apcc/of13YbAU4j8tEXvkwOrhP/oPWkCbJeE/eWJUs/1j2T+fZPoYtanbP0RiYQPpEeU/WBCPR3f60T+zCKszt6bjPyrLn1KWGN8/AAAAAAAA8D8=",
          "dtype": "f8",
          "shape": "11, 11"
         }
        }
       ],
       "layout": {
        "coloraxis": {
         "cmax": 1,
         "cmin": -1,
         "colorscale": [
          [
           0,
           "rgb(5,48,97)"
          ],
          [
           0.1,
           "rgb(33,102,172)"
          ],
          [
           0.2,
           "rgb(67,147,195)"
          ],
          [
           0.3,
           "rgb(146,197,222)"
          ],
          [
           0.4,
           "rgb(209,229,240)"
          ],
          [
           0.5,
           "rgb(247,247,247)"
          ],
          [
           0.6,
           "rgb(253,219,199)"
          ],
          [
           0.7,
           "rgb(244,165,130)"
          ],
          [
           0.8,
           "rgb(214,96,77)"
          ],
          [
           0.9,
           "rgb(178,24,43)"
          ],
          [
           1,
           "rgb(103,0,31)"
          ]
         ]
        },
        "height": 700,
        "template": {
         "data": {
          "bar": [
           {
            "error_x": {
             "color": "#2a3f5f"
            },
            "error_y": {
             "color": "#2a3f5f"
            },
            "marker": {
             "line": {
              "color": "white",
              "width": 0.5
             },
             "pattern": {
              "fillmode": "overlay",
              "size": 10,
              "solidity": 0.2
             }
            },
            "type": "bar"
           }
          ],
          "barpolar": [
           {
            "marker": {
             "line": {
              "color": "white",
              "width": 0.5
             },
             "pattern": {
              "fillmode": "overlay",
              "size": 10,
              "solidity": 0.2
             }
            },
            "type": "barpolar"
           }
          ],
          "carpet": [
           {
            "aaxis": {
             "endlinecolor": "#2a3f5f",
             "gridcolor": "#C8D4E3",
             "linecolor": "#C8D4E3",
             "minorgridcolor": "#C8D4E3",
             "startlinecolor": "#2a3f5f"
            },
            "baxis": {
             "endlinecolor": "#2a3f5f",
             "gridcolor": "#C8D4E3",
             "linecolor": "#C8D4E3",
             "minorgridcolor": "#C8D4E3",
             "startlinecolor": "#2a3f5f"
            },
            "type": "carpet"
           }
          ],
          "choropleth": [
           {
            "colorbar": {
             "outlinewidth": 0,
             "ticks": ""
            },
            "type": "choropleth"
           }
          ],
          "contour": [
           {
            "colorbar": {
             "outlinewidth": 0,
             "ticks": ""
            },
            "colorscale": [
             [
              0,
              "#0d0887"
             ],
             [
              0.1111111111111111,
              "#46039f"
             ],
             [
              0.2222222222222222,
              "#7201a8"
             ],
             [
              0.3333333333333333,
              "#9c179e"
             ],
             [
              0.4444444444444444,
              "#bd3786"
             ],
             [
              0.5555555555555556,
              "#d8576b"
             ],
             [
              0.6666666666666666,
              "#ed7953"
             ],
             [
              0.7777777777777778,
              "#fb9f3a"
             ],
             [
              0.8888888888888888,
              "#fdca26"
             ],
             [
              1,
              "#f0f921"
             ]
            ],
            "type": "contour"
           }
          ],
          "contourcarpet": [
           {
            "colorbar": {
             "outlinewidth": 0,
             "ticks": ""
            },
            "type": "contourcarpet"
           }
          ],
          "heatmap": [
           {
            "colorbar": {
             "outlinewidth": 0,
             "ticks": ""
            },
            "colorscale": [
             [
              0,
              "#0d0887"
             ],
             [
              0.1111111111111111,
              "#46039f"
             ],
             [
              0.2222222222222222,
              "#7201a8"
             ],
             [
              0.3333333333333333,
              "#9c179e"
             ],
             [
              0.4444444444444444,
              "#bd3786"
             ],
             [
              0.5555555555555556,
              "#d8576b"
             ],
             [
              0.6666666666666666,
              "#ed7953"
             ],
             [
              0.7777777777777778,
              "#fb9f3a"
             ],
             [
              0.8888888888888888,
              "#fdca26"
             ],
             [
              1,
              "#f0f921"
             ]
            ],
            "type": "heatmap"
           }
          ],
          "histogram": [
           {
            "marker": {
             "pattern": {
              "fillmode": "overlay",
              "size": 10,
              "solidity": 0.2
             }
            },
            "type": "histogram"
           }
          ],
          "histogram2d": [
           {
            "colorbar": {
             "outlinewidth": 0,
             "ticks": ""
            },
            "colorscale": [
             [
              0,
              "#0d0887"
             ],
             [
              0.1111111111111111,
              "#46039f"
             ],
             [
              0.2222222222222222,
              "#7201a8"
             ],
             [
              0.3333333333333333,
              "#9c179e"
             ],
             [
              0.4444444444444444,
              "#bd3786"
             ],
             [
              0.5555555555555556,
              "#d8576b"
             ],
             [
              0.6666666666666666,
              "#ed7953"
             ],
             [
              0.7777777777777778,
              "#fb9f3a"
             ],
             [
              0.8888888888888888,
              "#fdca26"
             ],
             [
              1,
              "#f0f921"
             ]
            ],
            "type": "histogram2d"
           }
          ],
          "histogram2dcontour": [
           {
            "colorbar": {
             "outlinewidth": 0,
             "ticks": ""
            },
            "colorscale": [
             [
              0,
              "#0d0887"
             ],
             [
              0.1111111111111111,
              "#46039f"
             ],
             [
              0.2222222222222222,
              "#7201a8"
             ],
             [
              0.3333333333333333,
              "#9c179e"
             ],
             [
              0.4444444444444444,
              "#bd3786"
             ],
             [
              0.5555555555555556,
              "#d8576b"
             ],
             [
              0.6666666666666666,
              "#ed7953"
             ],
             [
              0.7777777777777778,
              "#fb9f3a"
             ],
             [
              0.8888888888888888,
              "#fdca26"
             ],
             [
              1,
              "#f0f921"
             ]
            ],
            "type": "histogram2dcontour"
           }
          ],
          "mesh3d": [
           {
            "colorbar": {
             "outlinewidth": 0,
             "ticks": ""
            },
            "type": "mesh3d"
           }
          ],
          "parcoords": [
           {
            "line": {
             "colorbar": {
              "outlinewidth": 0,
              "ticks": ""
             }
            },
            "type": "parcoords"
           }
          ],
          "pie": [
           {
            "automargin": true,
            "type": "pie"
           }
          ],
          "scatter": [
           {
            "fillpattern": {
             "fillmode": "overlay",
             "size": 10,
             "solidity": 0.2
            },
            "type": "scatter"
           }
          ],
          "scatter3d": [
           {
            "line": {
             "colorbar": {
              "outlinewidth": 0,
              "ticks": ""
             }
            },
            "marker": {
             "colorbar": {
              "outlinewidth": 0,
              "ticks": ""
             }
            },
            "type": "scatter3d"
           }
          ],
          "scattercarpet": [
           {
            "marker": {
             "colorbar": {
              "outlinewidth": 0,
              "ticks": ""
             }
            },
            "type": "scattercarpet"
           }
          ],
          "scattergeo": [
           {
            "marker": {
             "colorbar": {
              "outlinewidth": 0,
              "ticks": ""
             }
            },
            "type": "scattergeo"
           }
          ],
          "scattergl": [
           {
            "marker": {
             "colorbar": {
              "outlinewidth": 0,
              "ticks": ""
             }
            },
            "type": "scattergl"
           }
          ],
          "scattermap": [
           {
            "marker": {
             "colorbar": {
              "outlinewidth": 0,
              "ticks": ""
             }
            },
            "type": "scattermap"
           }
          ],
          "scattermapbox": [
           {
            "marker": {
             "colorbar": {
              "outlinewidth": 0,
              "ticks": ""
             }
            },
            "type": "scattermapbox"
           }
          ],
          "scatterpolar": [
           {
            "marker": {
             "colorbar": {
              "outlinewidth": 0,
              "ticks": ""
             }
            },
            "type": "scatterpolar"
           }
          ],
          "scatterpolargl": [
           {
            "marker": {
             "colorbar": {
              "outlinewidth": 0,
              "ticks": ""
             }
            },
            "type": "scatterpolargl"
           }
          ],
          "scatterternary": [
           {
            "marker": {
             "colorbar": {
              "outlinewidth": 0,
              "ticks": ""
             }
            },
            "type": "scatterternary"
           }
          ],
          "surface": [
           {
            "colorbar": {
             "outlinewidth": 0,
             "ticks": ""
            },
            "colorscale": [
             [
              0,
              "#0d0887"
             ],
             [
              0.1111111111111111,
              "#46039f"
             ],
             [
              0.2222222222222222,
              "#7201a8"
             ],
             [
              0.3333333333333333,
              "#9c179e"
             ],
             [
              0.4444444444444444,
              "#bd3786"
             ],
             [
              0.5555555555555556,
              "#d8576b"
             ],
             [
              0.6666666666666666,
              "#ed7953"
             ],
             [
              0.7777777777777778,
              "#fb9f3a"
             ],
             [
              0.8888888888888888,
              "#fdca26"
             ],
             [
              1,
              "#f0f921"
             ]
            ],
            "type": "surface"
           }
          ],
          "table": [
           {
            "cells": {
             "fill": {
              "color": "#EBF0F8"
             },
             "line": {
              "color": "white"
             }
            },
            "header": {
             "fill": {
              "color": "#C8D4E3"
             },
             "line": {
              "color": "white"
             }
            },
            "type": "table"
           }
          ]
         },
         "layout": {
          "annotationdefaults": {
           "arrowcolor": "#2a3f5f",
           "arrowhead": 0,
           "arrowwidth": 1
          },
          "autotypenumbers": "strict",
          "coloraxis": {
           "colorbar": {
            "outlinewidth": 0,
            "ticks": ""
           }
          },
          "colorscale": {
           "diverging": [
            [
             0,
             "#8e0152"
            ],
            [
             0.1,
             "#c51b7d"
            ],
            [
             0.2,
             "#de77ae"
            ],
            [
             0.3,
             "#f1b6da"
            ],
            [
             0.4,
             "#fde0ef"
            ],
            [
             0.5,
             "#f7f7f7"
            ],
            [
             0.6,
             "#e6f5d0"
            ],
            [
             0.7,
             "#b8e186"
            ],
            [
             0.8,
             "#7fbc41"
            ],
            [
             0.9,
             "#4d9221"
            ],
            [
             1,
             "#276419"
            ]
           ],
           "sequential": [
            [
             0,
             "#0d0887"
            ],
            [
             0.1111111111111111,
             "#46039f"
            ],
            [
             0.2222222222222222,
             "#7201a8"
            ],
            [
             0.3333333333333333,
             "#9c179e"
            ],
            [
             0.4444444444444444,
             "#bd3786"
            ],
            [
             0.5555555555555556,
             "#d8576b"
            ],
            [
             0.6666666666666666,
             "#ed7953"
            ],
            [
             0.7777777777777778,
             "#fb9f3a"
            ],
            [
             0.8888888888888888,
             "#fdca26"
            ],
            [
             1,
             "#f0f921"
            ]
           ],
           "sequentialminus": [
            [
             0,
             "#0d0887"
            ],
            [
             0.1111111111111111,
             "#46039f"
            ],
            [
             0.2222222222222222,
             "#7201a8"
            ],
            [
             0.3333333333333333,
             "#9c179e"
            ],
            [
             0.4444444444444444,
             "#bd3786"
            ],
            [
             0.5555555555555556,
             "#d8576b"
            ],
            [
             0.6666666666666666,
             "#ed7953"
            ],
            [
             0.7777777777777778,
             "#fb9f3a"
            ],
            [
             0.8888888888888888,
             "#fdca26"
            ],
            [
             1,
             "#f0f921"
            ]
           ]
          },
          "colorway": [
           "#636efa",
           "#EF553B",
           "#00cc96",
           "#ab63fa",
           "#FFA15A",
           "#19d3f3",
           "#FF6692",
           "#B6E880",
           "#FF97FF",
           "#FECB52"
          ],
          "font": {
           "color": "#2a3f5f"
          },
          "geo": {
           "bgcolor": "white",
           "lakecolor": "white",
           "landcolor": "white",
           "showlakes": true,
           "showland": true,
           "subunitcolor": "#C8D4E3"
          },
          "hoverlabel": {
           "align": "left"
          },
          "hovermode": "closest",
          "mapbox": {
           "style": "light"
          },
          "paper_bgcolor": "white",
          "plot_bgcolor": "white",
          "polar": {
           "angularaxis": {
            "gridcolor": "#EBF0F8",
            "linecolor": "#EBF0F8",
            "ticks": ""
           },
           "bgcolor": "white",
           "radialaxis": {
            "gridcolor": "#EBF0F8",
            "linecolor": "#EBF0F8",
            "ticks": ""
           }
          },
          "scene": {
           "xaxis": {
            "backgroundcolor": "white",
            "gridcolor": "#DFE8F3",
            "gridwidth": 2,
            "linecolor": "#EBF0F8",
            "showbackground": true,
            "ticks": "",
            "zerolinecolor": "#EBF0F8"
           },
           "yaxis": {
            "backgroundcolor": "white",
            "gridcolor": "#DFE8F3",
            "gridwidth": 2,
            "linecolor": "#EBF0F8",
            "showbackground": true,
            "ticks": "",
            "zerolinecolor": "#EBF0F8"
           },
           "zaxis": {
            "backgroundcolor": "white",
            "gridcolor": "#DFE8F3",
            "gridwidth": 2,
            "linecolor": "#EBF0F8",
            "showbackground": true,
            "ticks": "",
            "zerolinecolor": "#EBF0F8"
           }
          },
          "shapedefaults": {
           "line": {
            "color": "#2a3f5f"
           }
          },
          "ternary": {
           "aaxis": {
            "gridcolor": "#DFE8F3",
            "linecolor": "#A2B1C6",
            "ticks": ""
           },
           "baxis": {
            "gridcolor": "#DFE8F3",
            "linecolor": "#A2B1C6",
            "ticks": ""
           },
           "bgcolor": "white",
           "caxis": {
            "gridcolor": "#DFE8F3",
            "linecolor": "#A2B1C6",
            "ticks": ""
           }
          },
          "title": {
           "x": 0.05
          },
          "xaxis": {
           "automargin": true,
           "gridcolor": "#EBF0F8",
           "linecolor": "#EBF0F8",
           "ticks": "",
           "title": {
            "standoff": 15
           },
           "zerolinecolor": "#EBF0F8",
           "zerolinewidth": 2
          },
          "yaxis": {
           "automargin": true,
           "gridcolor": "#EBF0F8",
           "linecolor": "#EBF0F8",
           "ticks": "",
           "title": {
            "standoff": 15
           },
           "zerolinecolor": "#EBF0F8",
           "zerolinewidth": 2
          }
         }
        },
        "title": {
         "text": "Correlation Between Country Portfolios"
        },
        "width": 900,
        "xaxis": {
         "anchor": "y",
         "constrain": "domain",
         "domain": [
          0,
          1
         ],
         "scaleanchor": "y",
         "title": {
          "text": "Country"
         }
        },
        "yaxis": {
         "anchor": "x",
         "autorange": "reversed",
         "constrain": "domain",
         "domain": [
          0,
          1
         ],
         "title": {
          "text": "Country"
         }
        }
       }
      }
     },
     "metadata": {},
     "output_type": "display_data"
    }
   ],
   "source": [
    "country_corr = country_rets.corr()\n",
    "country_corr.to_csv(\"outputs/country_portfolio_correlations.csv\")\n",
    "country_corr\n",
    "# --- Compute and export correlation matrix ---\n",
    "country_corr = country_rets.corr()\n",
    "country_corr.to_csv(OUT_DIR / \"country_portfolio_correlations.csv\")\n",
    "\n",
    "# --- Plot interactive heatmap ---\n",
    "fig = px.imshow(\n",
    "    country_corr,\n",
    "    text_auto=\".2f\",\n",
    "    color_continuous_scale=\"RdBu_r\",\n",
    "    zmin=-1, zmax=1,\n",
    "    title=\"Correlation Between Country Portfolios\",\n",
    ")\n",
    "\n",
    "fig.update_layout(\n",
    "    template=\"plotly_white\",\n",
    "    width=900,\n",
    "    height=700,\n",
    "    xaxis_title=\"Country\",\n",
    "    yaxis_title=\"Country\"\n",
    ")\n",
    "\n",
    "# --- Save visual outputs ---\n",
    "fig.write_html(FIG_DIR / \"country_corr_heatmap.html\")\n",
    "fig.write_image(FIG_DIR / \"country_corr_heatmap.pdf\")\n",
    "\n",
    "fig.show()"
   ]
  },
  {
   "cell_type": "markdown",
   "id": "c4d170cb",
   "metadata": {},
   "source": [
    "### 4) (Optional) Rolling 12-month correlations between two countries"
   ]
  },
  {
   "cell_type": "code",
   "execution_count": 454,
   "id": "943c8a95",
   "metadata": {},
   "outputs": [],
   "source": [
    "c1, c2 = \"China\", \"Germany\"   # change as needed\n",
    "rolling_corr = (country_rets[c1].rolling(12).corr(country_rets[c2])\n",
    "                               .dropna())\n",
    "rolling_corr.to_csv(\"outputs/rolling_corr_12m_{}_{}.csv\".format(c1, c2))\n"
   ]
  },
  {
   "cell_type": "markdown",
   "id": "af857ab5",
   "metadata": {},
   "source": [
    "### 5) (Optional) Cap-weighted within each country (if you have market caps)"
   ]
  },
  {
   "cell_type": "code",
   "execution_count": 455,
   "id": "0b4b4d4f",
   "metadata": {},
   "outputs": [
    {
     "name": "stdout",
     "output_type": "stream",
     "text": [
      "✓ Retrieved 34 valid market caps out of 34 tickers.\n",
      "country_rets_cap shape: (60, 11)\n",
      "country_corr_cap shape: (11, 11)\n"
     ]
    },
    {
     "name": "stderr",
     "output_type": "stream",
     "text": [
      "/var/folders/7x/pd53f7tx0jl5lyy8g87z1qqw0000gn/T/ipykernel_13578/3111319913.py:22: DeprecationWarning:\n",
      "\n",
      "DataFrameGroupBy.apply operated on the grouping columns. This behavior is deprecated, and in a future version of pandas the grouping columns will be excluded from the operation. Either pass `include_groups=False` to exclude the groupings or explicitly select the grouping columns after groupby to silence this warning.\n",
      "\n"
     ]
    }
   ],
   "source": [
    "# ---  Ensure ticker_meta has Ticker + Country ---\n",
    "tm = (ticker_meta.dropna(subset=[\"Ticker\",\"Country\"])\n",
    "                  .assign(Ticker=lambda d: d[\"Ticker\"].str.strip().str.upper())\n",
    "                  .drop_duplicates([\"Country\",\"Ticker\"]))\n",
    "\n",
    "# --- Fetch market caps (if you don’t already have them) ---\n",
    "caps = []\n",
    "for t in tm[\"Ticker\"].unique():\n",
    "    try:\n",
    "        info = yf.Ticker(t).info\n",
    "        cap = info.get(\"marketCap\", np.nan)\n",
    "        caps.append({\"Ticker\": t, \"MarketCap\": cap})\n",
    "    except Exception:\n",
    "        pass\n",
    "cap_df = pd.DataFrame(caps).dropna(subset=[\"MarketCap\"])\n",
    "print(f\"✓ Retrieved {len(cap_df)} valid market caps out of {len(tm)} tickers.\")\n",
    "\n",
    "# --- Merge and compute within-country cap weights ---\n",
    "w_cap = (\n",
    "    tm.merge(cap_df, on=\"Ticker\", how=\"inner\")\n",
    "      .groupby(\"Country\")\n",
    "      .apply(lambda g: g.assign(Weight=g[\"MarketCap\"] / g[\"MarketCap\"].sum()))\n",
    "      .reset_index(drop=True)[[\"Country\",\"Ticker\",\"Weight\"]]\n",
    ")\n",
    "\n",
    "# ---  Build weight matrix Countries × Tickers ---\n",
    "W_cap = (\n",
    "    w_cap.pivot(index=\"Country\", columns=\"Ticker\", values=\"Weight\")\n",
    "         .reindex(columns=rets_m.columns, fill_value=0.0)\n",
    ")\n",
    "W_cap = W_cap.div(W_cap.sum(axis=1), axis=0).fillna(0.0)\n",
    "\n",
    "# ---  Compute country cap-weighted monthly returns ---\n",
    "country_rets_cap = rets_m.dot(W_cap.T)\n",
    "country_corr_cap = country_rets_cap.corr()\n",
    "\n",
    "# ---  Optional: export ---\n",
    "# country_rets_cap.to_csv(OUT_DIR / \"country_rets_cap_weighted.csv\")\n",
    "# country_corr_cap.to_csv(OUT_DIR / \"country_corr_cap_weighted.csv\")\n",
    "\n",
    "print(\"country_rets_cap shape:\", country_rets_cap.shape)\n",
    "print(\"country_corr_cap shape:\", country_corr_cap.shape)\n",
    "\n"
   ]
  },
  {
   "cell_type": "markdown",
   "id": "dc0c9f10",
   "metadata": {},
   "source": [
    "### 6) (Optional) Portfolio across countries with your own country weights"
   ]
  },
  {
   "cell_type": "code",
   "execution_count": 456,
   "id": "7978f822",
   "metadata": {},
   "outputs": [
    {
     "name": "stdout",
     "output_type": "stream",
     "text": [
      "Custom Portfolio → Annualised Return=15.11%, Volatility=23.51%, Sharpe(0%)=0.64\n"
     ]
    }
   ],
   "source": [
    "# --- Custom country blend: e.g., 60% Germany, 40% China ---\n",
    "country_weights = pd.Series({\"Germany\": 0.6, \"China\": 0.4}, name=\"w\")\n",
    "country_weights = country_weights / country_weights.sum()\n",
    "\n",
    "# Align weights to available countries in country_rets\n",
    "valid_countries = [c for c in country_weights.index if c in country_rets.columns]\n",
    "country_weights = country_weights.loc[valid_countries]\n",
    "\n",
    "# Compute portfolio monthly returns\n",
    "portfolio_rets = country_rets[valid_countries].mul(country_weights, axis=1).sum(axis=1)\n",
    "\n",
    "# Optional: annualised stats\n",
    "freq = 12\n",
    "ann_ret = portfolio_rets.mean() * freq\n",
    "ann_vol = portfolio_rets.std(ddof=1) * np.sqrt(freq)\n",
    "sharpe = ann_ret / ann_vol\n",
    "\n",
    "print(f\"Custom Portfolio → Annualised Return={ann_ret:.2%}, Volatility={ann_vol:.2%}, Sharpe(0%)={sharpe:.2f}\")\n",
    "\n"
   ]
  }
 ],
 "metadata": {
  "kernelspec": {
   "display_name": "base",
   "language": "python",
   "name": "python3"
  },
  "language_info": {
   "codemirror_mode": {
    "name": "ipython",
    "version": 3
   },
   "file_extension": ".py",
   "mimetype": "text/x-python",
   "name": "python",
   "nbconvert_exporter": "python",
   "pygments_lexer": "ipython3",
   "version": "3.12.10"
  }
 },
 "nbformat": 4,
 "nbformat_minor": 5
}
