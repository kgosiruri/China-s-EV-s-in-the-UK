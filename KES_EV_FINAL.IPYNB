{
 "cells": [
  {
   "cell_type": "markdown",
   "id": "c3b61a3f",
   "metadata": {},
   "source": [
    "# 1. IMPORT REQUIRED PACKAGES"
   ]
  },
  {
   "cell_type": "code",
   "execution_count": 1,
   "id": "565e2624",
   "metadata": {},
   "outputs": [],
   "source": [
    "#%pip install --upgrade kaleido"
   ]
  },
  {
   "cell_type": "code",
   "execution_count": 2,
   "id": "8d227196",
   "metadata": {},
   "outputs": [],
   "source": [
    "import pandas as pd\n",
    "import numpy as np\n",
    "import matplotlib.pyplot as plt\n",
    "from pathlib import Path\n",
    "import seaborn as sns\n",
    "import json\n",
    "import os\n",
    "import re\n",
    "import statsmodels\n",
    "import yfinance as yf\n",
    "import plotly.express as px\n",
    "import re\n",
    "import yfinance as yf\n",
    "from scipy.optimize import minimize\n",
    "import plotly.express as px\n",
    "import plotly.graph_objects as go\n",
    "from pathlib import Path\n"
   ]
  },
  {
   "cell_type": "code",
   "execution_count": 3,
   "id": "2914ef70",
   "metadata": {},
   "outputs": [],
   "source": [
    "#For Seaborn plots red-blue colour palette\n",
    "KES_palette = ['#780000','#1D3557','#A8DADC','#572523', '#e2caA8', '#F4A261', '#0b5d9e', '#2A9D8F', '#E76F51', '#1890ae','#d56270', '#87ffff']\n",
    "sns.set_palette(KES_palette)"
   ]
  },
  {
   "cell_type": "markdown",
   "id": "a6015689",
   "metadata": {},
   "source": [
    "# 2. PROJECT PATHS"
   ]
  },
  {
   "cell_type": "code",
   "execution_count": 4,
   "id": "60eb0d61",
   "metadata": {},
   "outputs": [
    {
     "name": "stdout",
     "output_type": "stream",
     "text": [
      "Project dir: /Users/kruri/Desktop/China EV's in the UK/Data Analysis\n",
      "Inputs dir:  /Users/kruri/Desktop/China EV's in the UK/Data Analysis/inputs\n",
      "Outputs dir: /Users/kruri/Desktop/China EV's in the UK/Data Analysis/outputs\n",
      "Figures dir: /Users/kruri/Desktop/China EV's in the UK/Data Analysis/figures\n",
      "Config dir:  /Users/kruri/Desktop/China EV's in the UK/Data Analysis/config\n"
     ]
    }
   ],
   "source": [
    "BASE_DIR = Path(\".\").resolve()\n",
    "PROJ_DIR = Path(\"/Users/kruri/Desktop/China EV's in the UK/Data Analysis\")\n",
    "IN_DIR = PROJ_DIR / \"inputs\"\n",
    "OUT_DIR = PROJ_DIR / \"outputs\"\n",
    "FIG_DIR = PROJ_DIR / \"figures\"\n",
    "CFG_DIR = PROJ_DIR / \"config\"\n",
    "# ...existing code..\n",
    "\n",
    "for p in [IN_DIR, OUT_DIR, FIG_DIR, CFG_DIR]:\n",
    "    p.mkdir(parents=True, exist_ok=True)\n",
    "\n",
    "print(f\"Project dir: {PROJ_DIR}\")\n",
    "print(f\"Inputs dir:  {IN_DIR}\")\n",
    "print(f\"Outputs dir: {OUT_DIR}\")\n",
    "print(f\"Figures dir: {FIG_DIR}\")\n",
    "print(f\"Config dir:  {CFG_DIR}\")"
   ]
  },
  {
   "cell_type": "markdown",
   "id": "1611b256",
   "metadata": {},
   "source": [
    "# 2. IMPORT DATASETS"
   ]
  },
  {
   "cell_type": "markdown",
   "id": "6c065809",
   "metadata": {},
   "source": [
    "## 2.1 Vehicles Data and other Government outputs."
   ]
  },
  {
   "cell_type": "code",
   "execution_count": 5,
   "id": "cd2aabc7",
   "metadata": {},
   "outputs": [
    {
     "name": "stdout",
     "output_type": "stream",
     "text": [
      "<class 'pandas.core.frame.DataFrame'>\n",
      "RangeIndex: 240631 entries, 0 to 240630\n",
      "Data columns (total 87 columns):\n",
      " #   Column         Non-Null Count   Dtype \n",
      "---  ------         --------------   ----- \n",
      " 0   BodyType       240631 non-null  object\n",
      " 1   Make           240631 non-null  object\n",
      " 2   GenModel       240629 non-null  object\n",
      " 3   Model          240631 non-null  object\n",
      " 4   Fuel           240631 non-null  object\n",
      " 5   LicenceStatus  240631 non-null  object\n",
      " 6   2025Q1         240631 non-null  int64 \n",
      " 7   2024Q4         240631 non-null  int64 \n",
      " 8   2024Q3         240631 non-null  int64 \n",
      " 9   2024Q2         240631 non-null  int64 \n",
      " 10  2024Q1         240631 non-null  int64 \n",
      " 11  2023Q4         240631 non-null  int64 \n",
      " 12  2023Q3         240631 non-null  int64 \n",
      " 13  2023Q2         240631 non-null  int64 \n",
      " 14  2023Q1         240631 non-null  int64 \n",
      " 15  2022Q4         240631 non-null  int64 \n",
      " 16  2022Q3         240631 non-null  int64 \n",
      " 17  2022Q2         240631 non-null  int64 \n",
      " 18  2022Q1         240631 non-null  int64 \n",
      " 19  2021Q4         240631 non-null  int64 \n",
      " 20  2021Q3         240631 non-null  int64 \n",
      " 21  2021Q2         240631 non-null  int64 \n",
      " 22  2021Q1         240631 non-null  int64 \n",
      " 23  2020Q4         240631 non-null  int64 \n",
      " 24  2020Q3         240631 non-null  int64 \n",
      " 25  2020Q2         240631 non-null  int64 \n",
      " 26  2020Q1         240631 non-null  int64 \n",
      " 27  2019Q4         240631 non-null  int64 \n",
      " 28  2019Q3         240631 non-null  int64 \n",
      " 29  2019Q2         240631 non-null  int64 \n",
      " 30  2019Q1         240631 non-null  int64 \n",
      " 31  2018Q4         240631 non-null  int64 \n",
      " 32  2018Q3         240631 non-null  int64 \n",
      " 33  2018Q2         240631 non-null  int64 \n",
      " 34  2018Q1         240631 non-null  int64 \n",
      " 35  2017Q4         240631 non-null  int64 \n",
      " 36  2017Q3         240631 non-null  int64 \n",
      " 37  2017Q2         240631 non-null  int64 \n",
      " 38  2017Q1         240631 non-null  int64 \n",
      " 39  2016Q4         240631 non-null  int64 \n",
      " 40  2016Q3         240631 non-null  int64 \n",
      " 41  2016Q2         240631 non-null  int64 \n",
      " 42  2016Q1         240631 non-null  int64 \n",
      " 43  2015Q4         240631 non-null  int64 \n",
      " 44  2015Q3         240631 non-null  int64 \n",
      " 45  2015Q2         240631 non-null  int64 \n",
      " 46  2015Q1         240631 non-null  int64 \n",
      " 47  2014Q4         240631 non-null  int64 \n",
      " 48  2014Q3         240631 non-null  int64 \n",
      " 49  2014Q2         240631 non-null  int64 \n",
      " 50  2014Q1         240631 non-null  int64 \n",
      " 51  2013Q4         240631 non-null  int64 \n",
      " 52  2013Q3         240631 non-null  int64 \n",
      " 53  2013Q2         240631 non-null  int64 \n",
      " 54  2013Q1         240631 non-null  int64 \n",
      " 55  2012Q4         240631 non-null  int64 \n",
      " 56  2012Q3         240631 non-null  int64 \n",
      " 57  2012Q2         240631 non-null  int64 \n",
      " 58  2012Q1         240631 non-null  int64 \n",
      " 59  2011Q4         240631 non-null  int64 \n",
      " 60  2011Q3         240631 non-null  int64 \n",
      " 61  2011Q2         240631 non-null  int64 \n",
      " 62  2011Q1         240631 non-null  int64 \n",
      " 63  2010Q4         240631 non-null  int64 \n",
      " 64  2010Q3         240631 non-null  int64 \n",
      " 65  2010Q2         240631 non-null  int64 \n",
      " 66  2010Q1         240631 non-null  int64 \n",
      " 67  2009Q4         240631 non-null  int64 \n",
      " 68  2009Q3         240631 non-null  int64 \n",
      " 69  2009Q2         240631 non-null  int64 \n",
      " 70  2009Q1         240631 non-null  int64 \n",
      " 71  2008Q4         240631 non-null  int64 \n",
      " 72  2008Q3         240631 non-null  int64 \n",
      " 73  2007Q4         240631 non-null  int64 \n",
      " 74  2006Q4         240631 non-null  int64 \n",
      " 75  2005Q4         240631 non-null  int64 \n",
      " 76  2004Q4         240631 non-null  int64 \n",
      " 77  2003Q4         240631 non-null  int64 \n",
      " 78  2002Q4         240631 non-null  int64 \n",
      " 79  2001Q4         240631 non-null  int64 \n",
      " 80  2000Q4         240631 non-null  int64 \n",
      " 81  1999Q4         240631 non-null  int64 \n",
      " 82  1998Q4         240631 non-null  int64 \n",
      " 83  1997Q4         240631 non-null  int64 \n",
      " 84  1996Q4         240631 non-null  int64 \n",
      " 85  1995Q4         240631 non-null  int64 \n",
      " 86  1994Q4         240631 non-null  int64 \n",
      "dtypes: int64(81), object(6)\n",
      "memory usage: 159.7+ MB\n"
     ]
    }
   ],
   "source": [
    "df_veh = pd.read_csv(IN_DIR / \"df_VEH0120_GB.csv\", low_memory=False)\n",
    "df_veh.info()\n",
    "df_fuel = pd.read_csv(IN_DIR / \"fuel_data.csv\", low_memory=False)\n",
    "\n",
    "# config files\n",
    "with open(CFG_DIR / \"brand_Country.txt\", \"r\", encoding=\"utf-8\") as f:\n",
    "    lines = [line.strip() for line in f if line.strip()]\n",
    "\n",
    "df_brand = pd.DataFrame(lines, columns=[\"raw\"])"
   ]
  },
  {
   "cell_type": "markdown",
   "id": "db5c387e",
   "metadata": {},
   "source": [
    "### 2.1.2 Cleaning and Sorting Vehicles Data\n"
   ]
  },
  {
   "cell_type": "code",
   "execution_count": 6,
   "id": "95b23b02",
   "metadata": {},
   "outputs": [
    {
     "name": "stdout",
     "output_type": "stream",
     "text": [
      "<class 'pandas.core.frame.DataFrame'>\n",
      "Index: 270816 entries, 136709 to 7790609\n",
      "Data columns (total 8 columns):\n",
      " #   Column         Non-Null Count   Dtype \n",
      "---  ------         --------------   ----- \n",
      " 0   BodyType       270816 non-null  object\n",
      " 1   Make           270816 non-null  object\n",
      " 2   Fuel           270816 non-null  object\n",
      " 3   LicenceStatus  270816 non-null  object\n",
      " 4   Registrations  270816 non-null  int64 \n",
      " 5   Year           270816 non-null  int64 \n",
      " 6   Fuel Group     270816 non-null  object\n",
      " 7   Country        260400 non-null  object\n",
      "dtypes: int64(2), object(6)\n",
      "memory usage: 18.6+ MB\n",
      "<class 'pandas.core.frame.DataFrame'>\n",
      "RangeIndex: 467 entries, 0 to 466\n",
      "Data columns (total 4 columns):\n",
      " #   Column         Non-Null Count  Dtype \n",
      "---  ------         --------------  ----- \n",
      " 0   raw            467 non-null    object\n",
      " 1   Make           467 non-null    object\n",
      " 2   Country        467 non-null    object\n",
      " 3   ParentCompany  467 non-null    object\n",
      "dtypes: object(4)\n",
      "memory usage: 14.7+ KB\n"
     ]
    }
   ],
   "source": [
    "quarter_cols = [c for c in df_veh.columns if c.startswith(\"20\") and \"Q\" in c]\n",
    "\n",
    "# 3. Melt to long format\n",
    "df_long = df_veh.melt(\n",
    "    id_vars=[\"BodyType\", \"Make\", \"GenModel\", \"Model\", \"Fuel\", \"LicenceStatus\"],\n",
    "    value_vars=quarter_cols,\n",
    "    var_name=\"Quarter\",\n",
    "    value_name=\"Registrations\"\n",
    ")\n",
    "\n",
    "# 4. Extract Year and Quarter number and keep cars\n",
    "df_long[\"Year\"] = df_long[\"Quarter\"].str.extract(r\"(20\\d{2})\").astype(int)\n",
    "df_long[\"QuarterNo\"] = df_long[\"Quarter\"].str.extract(r\"Q(\\d)\").astype(int)\n",
    "df_long = df_long[df_long[\"BodyType\"] == \"Cars\"]\n",
    "df_long = df_long.drop(columns=[\"QuarterNo\",\"GenModel\",\"Model\",\"Quarter\"])\n",
    "# Group by Year × Make (collapse simple duplicates by normalising Make)\n",
    "df_long[\"Make\"] = (df_long[\"Make\"].astype(str)\n",
    "                   .str.replace(\"\\xa0\", \" \", regex=False)\n",
    "                   .str.strip().str.upper()\n",
    "                   .str.replace(r\"\\s+\", \" \", regex=True))\n",
    "\n",
    "#Fuel type\n",
    "\n",
    "df_long[\"Fuel Group\"] = df_long[\"Fuel\"].str.strip().str.lower().apply(\n",
    "    lambda f:\n",
    "        \"Electric\" if any(e in f for e in [\n",
    "            \"electric\", \"battery\", \"plug-in\", \"fuel cell\"\n",
    "        ])\n",
    "        else \"Petrol\" if \"petrol\" in f and \"electric\" not in f\n",
    "        else \"Diesel\" if \"diesel\" in f and \"electric\" not in f\n",
    "        else \"Petrol\" if \"gas\" in f\n",
    "        else \"Other Fuel Types\"\n",
    ")\n",
    "\n",
    "# Brand origin\n",
    "df_brand[\"raw\"] = (\n",
    "    df_brand[\"raw\"]\n",
    "    .str.replace(\"\\xa0\", \" \", regex=False)          # NBSP -> space\n",
    "    .str.replace(r\"\\s+\", \" \", regex=True)           # collapse spaces\n",
    "    .str.replace(r\"-|—|-\", \"—\", regex=True)         # any dash -> em dash\n",
    "    .str.strip()\n",
    ")\n",
    "\n",
    "parts = df_brand[\"raw\"].str.split(\"—\", n=3, expand=True)\n",
    "# If some lines are short/long, pad or trim to 4 columns\n",
    "if parts.shape[1] < 4:\n",
    "    parts = parts.reindex(columns=range(4))\n",
    "parts = parts.apply(lambda c: c.fillna(\"\").str.strip())\n",
    "\n",
    "df_brand[[\"Make\", \"Country\", \"ParentCompany\", \"Country\"]] = parts.iloc[:, :4]\n",
    "df_brand.drop(columns=[\"raw\"])\n",
    "# Attaching Country of Origin to dataset\n",
    "\n",
    "df_long = df_long.merge(df_brand[[\"Make\", \"Country\"]], on=\"Make\", how=\"left\")\n",
    "df_long = df_long[df_long[\"BodyType\"].str.contains(\"Cars\")]\n",
    "df_veh_raw = df_long.copy()\n",
    "df_veh_raw = df_veh_raw[df_veh_raw[\"Year\"] < 2025]\n",
    "df_veh_raw = df_veh_raw[df_veh_raw[\"Year\"] > 2010]\n",
    "df_veh_raw = df_veh_raw[df_veh_raw['LicenceStatus'] == 'Licensed']\n",
    "df_ev = df_veh_raw[df_veh_raw['Fuel Group'] == 'Electric']\n",
    "df_ev.info()\n",
    "df_brand.info()\n",
    "\n",
    "pd.DataFrame(df_veh_raw['Make'].unique(), columns=['Make']).to_excel(\n",
    "    OUT_DIR / \"unique_makes.csv\", index=False\n",
    ")"
   ]
  },
  {
   "cell_type": "code",
   "execution_count": 7,
   "id": "26d04a14",
   "metadata": {},
   "outputs": [
    {
     "name": "stdout",
     "output_type": "stream",
     "text": [
      "<class 'pandas.core.frame.DataFrame'>\n",
      "RangeIndex: 669 entries, 0 to 668\n",
      "Data columns (total 3 columns):\n",
      " #   Column      Non-Null Count  Dtype  \n",
      "---  ------      --------------  -----  \n",
      " 0   Year        669 non-null    object \n",
      " 1   Amount      669 non-null    int64  \n",
      " 2   Unnamed: 2  113 non-null    float64\n",
      "dtypes: float64(1), int64(1), object(1)\n",
      "memory usage: 15.8+ KB\n"
     ]
    }
   ],
   "source": [
    "df_fuel.info()\n"
   ]
  },
  {
   "cell_type": "markdown",
   "id": "8a19ecab",
   "metadata": {},
   "source": [
    "# 3. Data Analysis"
   ]
  },
  {
   "cell_type": "markdown",
   "id": "8e642c19",
   "metadata": {},
   "source": [
    "## 3.1 Features"
   ]
  },
  {
   "cell_type": "markdown",
   "id": "18fc63f6",
   "metadata": {},
   "source": [
    "### 3.1.1 Pie Chart of Types of Vehicles"
   ]
  },
  {
   "cell_type": "code",
   "execution_count": 8,
   "id": "61d35343",
   "metadata": {},
   "outputs": [],
   "source": [
    "distinct_names_array = df_veh_raw['Fuel'].unique()\n",
    "counts,values = pd.Series(df_veh_raw['Make']).value_counts().values, pd.Series(df_veh_raw['Fuel']).value_counts().index\n",
    "df_results = pd.DataFrame(list(zip(values,counts)),columns=[\"Fuel\",\"Count\"])\n",
    "df_results\n",
    "data_2024= df_results.nlargest(n=10,columns=\"Count\")\n",
    "\n",
    "\n",
    "fig = px.pie(data_2024, values='Count', names='Fuel', title='Distribution of EV Registrations by Fuel Type (2010 onwards)', color_discrete_sequence=KES_palette)\n",
    "#plt.pie(data_2024['Count'], labels=data_2024['Fuel Type'], autopct='%1.1f%%', startangle=140, colors=KES_palette)\n",
    "#DOWNLOAD FIGURE\n",
    "fig.write_image(FIG_DIR / \"pie_chart_fuel_group_registrations_by_make_2024.pdf\")\n"
   ]
  },
  {
   "cell_type": "markdown",
   "id": "cc05d93e",
   "metadata": {},
   "source": [
    "### 3.1.2 Pie Chart of Countries in the EV Space"
   ]
  },
  {
   "cell_type": "code",
   "execution_count": 9,
   "id": "59e8e60f",
   "metadata": {},
   "outputs": [],
   "source": [
    "# --- Filter electric vehicles ---\n",
    "df_ev = df_ev[df_ev[\"Year\"] >= 2010].copy()\n",
    "\n",
    "# --- Group by parent country ---\n",
    "country_counts = (\n",
    "    df_ev.groupby(\"Country\", as_index=False)[\"Registrations\"]\n",
    "         .sum()\n",
    ")\n",
    "\n",
    "# --- Replace countries <5% with \"Other\" and re-aggregate ---\n",
    "threshold = 0.05 * country_counts[\"Registrations\"].sum()\n",
    "country_counts[\"Country\"] = country_counts.apply(\n",
    "    lambda r: r[\"Country\"] if r[\"Registrations\"] >= threshold else \"Other\",\n",
    "    axis=1\n",
    ")\n",
    "country_counts = (\n",
    "    country_counts.groupby(\"Country\", as_index=False)[\"Registrations\"]\n",
    "                  .sum()\n",
    "                  .sort_values(\"Registrations\", ascending=False)\n",
    ")\n",
    "# --- Create pie chart ---\n",
    "fig = px.pie(\n",
    "    country_counts,\n",
    "    values=\"Registrations\",\n",
    "    names=\"Country\",\n",
    "    title=\"Distribution of Countries in the EV Space\",\n",
    "    hole=0,  # 0.4 -> donut style\n",
    "    color_discrete_sequence=KES_palette\n",
    ")\n",
    "\n",
    "fig.write_image(FIG_DIR / \"pie_chart_Country group.pdf\")"
   ]
  },
  {
   "cell_type": "markdown",
   "id": "e385fc0e",
   "metadata": {},
   "source": [
    "### 3.1.3 Line graph: EV registrations by parent country over time"
   ]
  },
  {
   "cell_type": "code",
   "execution_count": 10,
   "id": "c3b70209",
   "metadata": {},
   "outputs": [
    {
     "data": {
      "application/vnd.plotly.v1+json": {
       "config": {
        "plotlyServerURL": "https://plot.ly"
       },
       "data": [
        {
         "hovertemplate": "Country=China<br>Year=%{x}<br>Anomaly_%=%{y}<extra></extra>",
         "legendgroup": "China",
         "line": {
          "color": "#780000",
          "dash": "solid"
         },
         "marker": {
          "symbol": "circle"
         },
         "mode": "lines+markers",
         "name": "China",
         "orientation": "v",
         "showlegend": true,
         "type": "scatter",
         "x": {
          "bdata": "3AfdB94H3wfgB+EH4gfjB+QH5QfmB+cH6Ac=",
          "dtype": "i2"
         },
         "xaxis": "x",
         "y": {
          "bdata": "tDyye05go8DuEpK8dZBowAAAAAAAAPD/0d0e/yYHYcA0u/u6e11gwAAAAAAAAPD/MoS/0posUUDUkaaS4RtTQOTUJYI3WHBAROKxvA0lUECMussh7/E3QAAAAAAAAPD/AAAAAAAA8P8=",
          "dtype": "f8"
         },
         "yaxis": "y"
        },
        {
         "hovertemplate": "Country=Germany<br>Year=%{x}<br>Anomaly_%=%{y}<extra></extra>",
         "legendgroup": "Germany",
         "line": {
          "color": "#1D3557",
          "dash": "solid"
         },
         "marker": {
          "symbol": "circle"
         },
         "mode": "lines+markers",
         "name": "Germany",
         "orientation": "v",
         "showlegend": true,
         "type": "scatter",
         "x": {
          "bdata": "3AfdB94H3wfgB+EH4gfjB+QH5QfmB+cH6Ac=",
          "dtype": "i2"
         },
         "xaxis": "x",
         "y": {
          "bdata": "+Dun1qL6osCwcQGQcSpRwAAAAAAAAPD/gHGRoUCKA0BgaCzjgVEuwAAAAAAAAPD/WOBr6K/CHkAAwjM+d2YlwAg4A1X/CkTAiHXM4mMELcCQ6B/wd9UswAAAAAAAAPD/AAAAAAAA8P8=",
          "dtype": "f8"
         },
         "yaxis": "y"
        },
        {
         "hovertemplate": "Country=India<br>Year=%{x}<br>Anomaly_%=%{y}<extra></extra>",
         "legendgroup": "India",
         "line": {
          "color": "#A8DADC",
          "dash": "solid"
         },
         "marker": {
          "symbol": "circle"
         },
         "mode": "lines+markers",
         "name": "India",
         "orientation": "v",
         "showlegend": true,
         "type": "scatter",
         "x": {
          "bdata": "3AfdB94H3wfgB+EH4gfjB+QH5QfmB+cH6Ac=",
          "dtype": "i2"
         },
         "xaxis": "x",
         "y": {
          "bdata": "1LANkSyto8AOSPakn+NpwAAAAAAAAPD/3vbLOuysWcDgAgdwAqtYwAAAAAAAAPD/chLt/prQWUAVmJkxZyxnQPAkgLeLXClAcGVZFhOzJ8CO6l1fxRc7wAAAAAAAAPD/AAAAAAAA8P8=",
          "dtype": "f8"
         },
         "yaxis": "y"
        },
        {
         "hovertemplate": "Country=Japan<br>Year=%{x}<br>Anomaly_%=%{y}<extra></extra>",
         "legendgroup": "Japan",
         "line": {
          "color": "#572523",
          "dash": "solid"
         },
         "marker": {
          "symbol": "circle"
         },
         "mode": "lines+markers",
         "name": "Japan",
         "orientation": "v",
         "showlegend": true,
         "type": "scatter",
         "x": {
          "bdata": "3AfdB94H3wfgB+EH4gfjB+QH5QfmB+cH6Ac=",
          "dtype": "i2"
         },
         "xaxis": "x",
         "y": {
          "bdata": "1vgcrl11o8DKhE2BJmZnwAAAAAAAAPD/BCOkWpo0V8Cq/H7WzydZwAAAAAAAAPD/wnfSw2ViN8AtfelCsnc0wLCJ0LqVN1HAGZdNtt52VcCAWZbGD1xIwAAAAAAAAPD/AAAAAAAA8P8=",
          "dtype": "f8"
         },
         "yaxis": "y"
        },
        {
         "hovertemplate": "Country=South Korea<br>Year=%{x}<br>Anomaly_%=%{y}<extra></extra>",
         "legendgroup": "South Korea",
         "line": {
          "color": "#e2caA8",
          "dash": "solid"
         },
         "marker": {
          "symbol": "circle"
         },
         "mode": "lines+markers",
         "name": "South Korea",
         "orientation": "v",
         "showlegend": true,
         "type": "scatter",
         "x": {
          "bdata": "3AfdB94H3wfgB+EH4gfjB+QH5QfmB+cH6Ac=",
          "dtype": "i2"
         },
         "xaxis": "x",
         "y": {
          "bdata": "CZIH0aOio8DN7Dqs4uRpwAAAAAAAAPD/FQEilSwRhEBk17l5XjuJQAAAAAAAAPD/sFovRyPbWkAPAcE828tFQNC9PkcRvhnAYMJcQwARBMBAq1kMkW4CwAAAAAAAAPD/AAAAAAAA8P8=",
          "dtype": "f8"
         },
         "yaxis": "y"
        },
        {
         "hovertemplate": "Country=Sweden<br>Year=%{x}<br>Anomaly_%=%{y}<extra></extra>",
         "legendgroup": "Sweden",
         "line": {
          "color": "#F4A261",
          "dash": "solid"
         },
         "marker": {
          "symbol": "circle"
         },
         "mode": "lines+markers",
         "name": "Sweden",
         "orientation": "v",
         "showlegend": true,
         "type": "scatter",
         "x": {
          "bdata": "3AfdB94H3wfgB+EH4gfjB+QH5QfmB+cH6Ac=",
          "dtype": "i2"
         },
         "xaxis": "x",
         "y": {
          "bdata": "CZIH0SP6o8C7983/uIicQAAAAAAAAPD/vOxXxDRlS8DV/znRhtduQAAAAAAAAPD/AF8ypqNuL0CAloNr4LfaP4CCxavr5j1AcoCLOI34VkAArWU/f+37vwAAAAAAAPD/AAAAAAAA8P8=",
          "dtype": "f8"
         },
         "yaxis": "y"
        },
        {
         "hovertemplate": "Country=United Kingdom<br>Year=%{x}<br>Anomaly_%=%{y}<extra></extra>",
         "legendgroup": "United Kingdom",
         "line": {
          "color": "#0b5d9e",
          "dash": "solid"
         },
         "marker": {
          "symbol": "circle"
         },
         "mode": "lines+markers",
         "name": "United Kingdom",
         "orientation": "v",
         "showlegend": true,
         "type": "scatter",
         "x": {
          "bdata": "3AfdB94H3wfgB+EH4gfjB+QH5QfmB+cH6Ac=",
          "dtype": "i2"
         },
         "xaxis": "x",
         "y": {
          "bdata": "GtQP8id/o8Aah28VtQlpwAAAAAAAAPD/MpzNoiIGYMCfkUhbtMhYwAAAAAAAAPD/6oGlzJiISsDQwgC1rhc0QPgjU+vfayDAuMYGiRz+P8CcXbwtX3AwwAAAAAAAAPD/AAAAAAAA8P8=",
          "dtype": "f8"
         },
         "yaxis": "y"
        },
        {
         "hovertemplate": "Country=United States<br>Year=%{x}<br>Anomaly_%=%{y}<extra></extra>",
         "legendgroup": "United States",
         "line": {
          "color": "#2A9D8F",
          "dash": "solid"
         },
         "marker": {
          "symbol": "circle"
         },
         "mode": "lines+markers",
         "name": "United States",
         "orientation": "v",
         "showlegend": true,
         "type": "scatter",
         "x": {
          "bdata": "3AfdB94H3wfgB+EH4gfjB+QH5QfmB+cH6Ac=",
          "dtype": "i2"
         },
         "xaxis": "x",
         "y": {
          "bdata": "ACJQ7HyVo8BlSXz4kKVnwAAAAAAAAPD/4ddF5KsUUEDAKnHUSRg3QAAAAAAAAPD/gERz5S1qBEAMD0BF390wQNQQ3pYtzz9AaN82ukIeOcAAiYPwFLH7PwAAAAAAAPD/AAAAAAAA8P8=",
          "dtype": "f8"
         },
         "yaxis": "y"
        }
       ],
       "layout": {
        "font": {
         "family": "Helvetica",
         "size": 14
        },
        "legend": {
         "title": {
          "text": "Country"
         },
         "tracegroupgap": 0
        },
        "shapes": [
         {
          "line": {
           "color": "black",
           "dash": "dash"
          },
          "type": "line",
          "x0": 0,
          "x1": 1,
          "xref": "paper",
          "y0": 0,
          "y1": 0,
          "yref": "y"
         }
        ],
        "template": {
         "data": {
          "bar": [
           {
            "error_x": {
             "color": "#2a3f5f"
            },
            "error_y": {
             "color": "#2a3f5f"
            },
            "marker": {
             "line": {
              "color": "white",
              "width": 0.5
             },
             "pattern": {
              "fillmode": "overlay",
              "size": 10,
              "solidity": 0.2
             }
            },
            "type": "bar"
           }
          ],
          "barpolar": [
           {
            "marker": {
             "line": {
              "color": "white",
              "width": 0.5
             },
             "pattern": {
              "fillmode": "overlay",
              "size": 10,
              "solidity": 0.2
             }
            },
            "type": "barpolar"
           }
          ],
          "carpet": [
           {
            "aaxis": {
             "endlinecolor": "#2a3f5f",
             "gridcolor": "#C8D4E3",
             "linecolor": "#C8D4E3",
             "minorgridcolor": "#C8D4E3",
             "startlinecolor": "#2a3f5f"
            },
            "baxis": {
             "endlinecolor": "#2a3f5f",
             "gridcolor": "#C8D4E3",
             "linecolor": "#C8D4E3",
             "minorgridcolor": "#C8D4E3",
             "startlinecolor": "#2a3f5f"
            },
            "type": "carpet"
           }
          ],
          "choropleth": [
           {
            "colorbar": {
             "outlinewidth": 0,
             "ticks": ""
            },
            "type": "choropleth"
           }
          ],
          "contour": [
           {
            "colorbar": {
             "outlinewidth": 0,
             "ticks": ""
            },
            "colorscale": [
             [
              0,
              "#0d0887"
             ],
             [
              0.1111111111111111,
              "#46039f"
             ],
             [
              0.2222222222222222,
              "#7201a8"
             ],
             [
              0.3333333333333333,
              "#9c179e"
             ],
             [
              0.4444444444444444,
              "#bd3786"
             ],
             [
              0.5555555555555556,
              "#d8576b"
             ],
             [
              0.6666666666666666,
              "#ed7953"
             ],
             [
              0.7777777777777778,
              "#fb9f3a"
             ],
             [
              0.8888888888888888,
              "#fdca26"
             ],
             [
              1,
              "#f0f921"
             ]
            ],
            "type": "contour"
           }
          ],
          "contourcarpet": [
           {
            "colorbar": {
             "outlinewidth": 0,
             "ticks": ""
            },
            "type": "contourcarpet"
           }
          ],
          "heatmap": [
           {
            "colorbar": {
             "outlinewidth": 0,
             "ticks": ""
            },
            "colorscale": [
             [
              0,
              "#0d0887"
             ],
             [
              0.1111111111111111,
              "#46039f"
             ],
             [
              0.2222222222222222,
              "#7201a8"
             ],
             [
              0.3333333333333333,
              "#9c179e"
             ],
             [
              0.4444444444444444,
              "#bd3786"
             ],
             [
              0.5555555555555556,
              "#d8576b"
             ],
             [
              0.6666666666666666,
              "#ed7953"
             ],
             [
              0.7777777777777778,
              "#fb9f3a"
             ],
             [
              0.8888888888888888,
              "#fdca26"
             ],
             [
              1,
              "#f0f921"
             ]
            ],
            "type": "heatmap"
           }
          ],
          "histogram": [
           {
            "marker": {
             "pattern": {
              "fillmode": "overlay",
              "size": 10,
              "solidity": 0.2
             }
            },
            "type": "histogram"
           }
          ],
          "histogram2d": [
           {
            "colorbar": {
             "outlinewidth": 0,
             "ticks": ""
            },
            "colorscale": [
             [
              0,
              "#0d0887"
             ],
             [
              0.1111111111111111,
              "#46039f"
             ],
             [
              0.2222222222222222,
              "#7201a8"
             ],
             [
              0.3333333333333333,
              "#9c179e"
             ],
             [
              0.4444444444444444,
              "#bd3786"
             ],
             [
              0.5555555555555556,
              "#d8576b"
             ],
             [
              0.6666666666666666,
              "#ed7953"
             ],
             [
              0.7777777777777778,
              "#fb9f3a"
             ],
             [
              0.8888888888888888,
              "#fdca26"
             ],
             [
              1,
              "#f0f921"
             ]
            ],
            "type": "histogram2d"
           }
          ],
          "histogram2dcontour": [
           {
            "colorbar": {
             "outlinewidth": 0,
             "ticks": ""
            },
            "colorscale": [
             [
              0,
              "#0d0887"
             ],
             [
              0.1111111111111111,
              "#46039f"
             ],
             [
              0.2222222222222222,
              "#7201a8"
             ],
             [
              0.3333333333333333,
              "#9c179e"
             ],
             [
              0.4444444444444444,
              "#bd3786"
             ],
             [
              0.5555555555555556,
              "#d8576b"
             ],
             [
              0.6666666666666666,
              "#ed7953"
             ],
             [
              0.7777777777777778,
              "#fb9f3a"
             ],
             [
              0.8888888888888888,
              "#fdca26"
             ],
             [
              1,
              "#f0f921"
             ]
            ],
            "type": "histogram2dcontour"
           }
          ],
          "mesh3d": [
           {
            "colorbar": {
             "outlinewidth": 0,
             "ticks": ""
            },
            "type": "mesh3d"
           }
          ],
          "parcoords": [
           {
            "line": {
             "colorbar": {
              "outlinewidth": 0,
              "ticks": ""
             }
            },
            "type": "parcoords"
           }
          ],
          "pie": [
           {
            "automargin": true,
            "type": "pie"
           }
          ],
          "scatter": [
           {
            "fillpattern": {
             "fillmode": "overlay",
             "size": 10,
             "solidity": 0.2
            },
            "type": "scatter"
           }
          ],
          "scatter3d": [
           {
            "line": {
             "colorbar": {
              "outlinewidth": 0,
              "ticks": ""
             }
            },
            "marker": {
             "colorbar": {
              "outlinewidth": 0,
              "ticks": ""
             }
            },
            "type": "scatter3d"
           }
          ],
          "scattercarpet": [
           {
            "marker": {
             "colorbar": {
              "outlinewidth": 0,
              "ticks": ""
             }
            },
            "type": "scattercarpet"
           }
          ],
          "scattergeo": [
           {
            "marker": {
             "colorbar": {
              "outlinewidth": 0,
              "ticks": ""
             }
            },
            "type": "scattergeo"
           }
          ],
          "scattergl": [
           {
            "marker": {
             "colorbar": {
              "outlinewidth": 0,
              "ticks": ""
             }
            },
            "type": "scattergl"
           }
          ],
          "scattermap": [
           {
            "marker": {
             "colorbar": {
              "outlinewidth": 0,
              "ticks": ""
             }
            },
            "type": "scattermap"
           }
          ],
          "scattermapbox": [
           {
            "marker": {
             "colorbar": {
              "outlinewidth": 0,
              "ticks": ""
             }
            },
            "type": "scattermapbox"
           }
          ],
          "scatterpolar": [
           {
            "marker": {
             "colorbar": {
              "outlinewidth": 0,
              "ticks": ""
             }
            },
            "type": "scatterpolar"
           }
          ],
          "scatterpolargl": [
           {
            "marker": {
             "colorbar": {
              "outlinewidth": 0,
              "ticks": ""
             }
            },
            "type": "scatterpolargl"
           }
          ],
          "scatterternary": [
           {
            "marker": {
             "colorbar": {
              "outlinewidth": 0,
              "ticks": ""
             }
            },
            "type": "scatterternary"
           }
          ],
          "surface": [
           {
            "colorbar": {
             "outlinewidth": 0,
             "ticks": ""
            },
            "colorscale": [
             [
              0,
              "#0d0887"
             ],
             [
              0.1111111111111111,
              "#46039f"
             ],
             [
              0.2222222222222222,
              "#7201a8"
             ],
             [
              0.3333333333333333,
              "#9c179e"
             ],
             [
              0.4444444444444444,
              "#bd3786"
             ],
             [
              0.5555555555555556,
              "#d8576b"
             ],
             [
              0.6666666666666666,
              "#ed7953"
             ],
             [
              0.7777777777777778,
              "#fb9f3a"
             ],
             [
              0.8888888888888888,
              "#fdca26"
             ],
             [
              1,
              "#f0f921"
             ]
            ],
            "type": "surface"
           }
          ],
          "table": [
           {
            "cells": {
             "fill": {
              "color": "#EBF0F8"
             },
             "line": {
              "color": "white"
             }
            },
            "header": {
             "fill": {
              "color": "#C8D4E3"
             },
             "line": {
              "color": "white"
             }
            },
            "type": "table"
           }
          ]
         },
         "layout": {
          "annotationdefaults": {
           "arrowcolor": "#2a3f5f",
           "arrowhead": 0,
           "arrowwidth": 1
          },
          "autotypenumbers": "strict",
          "coloraxis": {
           "colorbar": {
            "outlinewidth": 0,
            "ticks": ""
           }
          },
          "colorscale": {
           "diverging": [
            [
             0,
             "#8e0152"
            ],
            [
             0.1,
             "#c51b7d"
            ],
            [
             0.2,
             "#de77ae"
            ],
            [
             0.3,
             "#f1b6da"
            ],
            [
             0.4,
             "#fde0ef"
            ],
            [
             0.5,
             "#f7f7f7"
            ],
            [
             0.6,
             "#e6f5d0"
            ],
            [
             0.7,
             "#b8e186"
            ],
            [
             0.8,
             "#7fbc41"
            ],
            [
             0.9,
             "#4d9221"
            ],
            [
             1,
             "#276419"
            ]
           ],
           "sequential": [
            [
             0,
             "#0d0887"
            ],
            [
             0.1111111111111111,
             "#46039f"
            ],
            [
             0.2222222222222222,
             "#7201a8"
            ],
            [
             0.3333333333333333,
             "#9c179e"
            ],
            [
             0.4444444444444444,
             "#bd3786"
            ],
            [
             0.5555555555555556,
             "#d8576b"
            ],
            [
             0.6666666666666666,
             "#ed7953"
            ],
            [
             0.7777777777777778,
             "#fb9f3a"
            ],
            [
             0.8888888888888888,
             "#fdca26"
            ],
            [
             1,
             "#f0f921"
            ]
           ],
           "sequentialminus": [
            [
             0,
             "#0d0887"
            ],
            [
             0.1111111111111111,
             "#46039f"
            ],
            [
             0.2222222222222222,
             "#7201a8"
            ],
            [
             0.3333333333333333,
             "#9c179e"
            ],
            [
             0.4444444444444444,
             "#bd3786"
            ],
            [
             0.5555555555555556,
             "#d8576b"
            ],
            [
             0.6666666666666666,
             "#ed7953"
            ],
            [
             0.7777777777777778,
             "#fb9f3a"
            ],
            [
             0.8888888888888888,
             "#fdca26"
            ],
            [
             1,
             "#f0f921"
            ]
           ]
          },
          "colorway": [
           "#636efa",
           "#EF553B",
           "#00cc96",
           "#ab63fa",
           "#FFA15A",
           "#19d3f3",
           "#FF6692",
           "#B6E880",
           "#FF97FF",
           "#FECB52"
          ],
          "font": {
           "color": "#2a3f5f"
          },
          "geo": {
           "bgcolor": "white",
           "lakecolor": "white",
           "landcolor": "white",
           "showlakes": true,
           "showland": true,
           "subunitcolor": "#C8D4E3"
          },
          "hoverlabel": {
           "align": "left"
          },
          "hovermode": "closest",
          "mapbox": {
           "style": "light"
          },
          "paper_bgcolor": "white",
          "plot_bgcolor": "white",
          "polar": {
           "angularaxis": {
            "gridcolor": "#EBF0F8",
            "linecolor": "#EBF0F8",
            "ticks": ""
           },
           "bgcolor": "white",
           "radialaxis": {
            "gridcolor": "#EBF0F8",
            "linecolor": "#EBF0F8",
            "ticks": ""
           }
          },
          "scene": {
           "xaxis": {
            "backgroundcolor": "white",
            "gridcolor": "#DFE8F3",
            "gridwidth": 2,
            "linecolor": "#EBF0F8",
            "showbackground": true,
            "ticks": "",
            "zerolinecolor": "#EBF0F8"
           },
           "yaxis": {
            "backgroundcolor": "white",
            "gridcolor": "#DFE8F3",
            "gridwidth": 2,
            "linecolor": "#EBF0F8",
            "showbackground": true,
            "ticks": "",
            "zerolinecolor": "#EBF0F8"
           },
           "zaxis": {
            "backgroundcolor": "white",
            "gridcolor": "#DFE8F3",
            "gridwidth": 2,
            "linecolor": "#EBF0F8",
            "showbackground": true,
            "ticks": "",
            "zerolinecolor": "#EBF0F8"
           }
          },
          "shapedefaults": {
           "line": {
            "color": "#2a3f5f"
           }
          },
          "ternary": {
           "aaxis": {
            "gridcolor": "#DFE8F3",
            "linecolor": "#A2B1C6",
            "ticks": ""
           },
           "baxis": {
            "gridcolor": "#DFE8F3",
            "linecolor": "#A2B1C6",
            "ticks": ""
           },
           "bgcolor": "white",
           "caxis": {
            "gridcolor": "#DFE8F3",
            "linecolor": "#A2B1C6",
            "ticks": ""
           }
          },
          "title": {
           "x": 0.05
          },
          "xaxis": {
           "automargin": true,
           "gridcolor": "#EBF0F8",
           "linecolor": "#EBF0F8",
           "ticks": "",
           "title": {
            "standoff": 15
           },
           "zerolinecolor": "#EBF0F8",
           "zerolinewidth": 2
          },
          "yaxis": {
           "automargin": true,
           "gridcolor": "#EBF0F8",
           "linecolor": "#EBF0F8",
           "ticks": "",
           "title": {
            "standoff": 15
           },
           "zerolinecolor": "#EBF0F8",
           "zerolinewidth": 2
          }
         }
        },
        "title": {
         "text": "EV Registration Growth Anomalies (Deviation from Global Mean)",
         "x": 0.5,
         "xanchor": "center"
        },
        "xaxis": {
         "anchor": "y",
         "domain": [
          0,
          1
         ],
         "title": {
          "text": "Year"
         }
        },
        "yaxis": {
         "anchor": "x",
         "domain": [
          0,
          1
         ],
         "title": {
          "text": "Growth Anomaly (% from Global Mean)"
         }
        }
       }
      }
     },
     "metadata": {},
     "output_type": "display_data"
    }
   ],
   "source": [
    "# ==== EV Registration Growth Anomalies (Selected Countries) ====\n",
    "import pandas as pd\n",
    "import plotly.express as px\n",
    "\n",
    "# --- 1) Define key countries of interest ---\n",
    "focus_countries = [\n",
    "    \"China\", \"Sweden\", \"India\", \"United States\",\n",
    "    \"United Kingdom\", \"South Korea\", \"Germany\", \"Japan\"\n",
    "]\n",
    "\n",
    "# --- 2) Aggregate registrations ---\n",
    "country_trend = (\n",
    "    df_ev.groupby([\"Year\", \"Country\"], as_index=False)[\"Registrations\"]\n",
    "         .sum()\n",
    "         .sort_values([\"Country\", \"Year\"])\n",
    ")\n",
    "\n",
    "# --- 3) Compute year-on-year growth (% change) ---\n",
    "country_trend[\"Growth_%\"] = (\n",
    "    country_trend.groupby(\"Country\")[\"Registrations\"]\n",
    "                 .pct_change() * 100\n",
    ")\n",
    "\n",
    "# Drop missing first-year values\n",
    "country_trend = country_trend.dropna(subset=[\"Growth_%\"]).copy()\n",
    "\n",
    "# --- 4) Compute global mean growth per year ---\n",
    "year_mean = (\n",
    "    country_trend.groupby(\"Year\", as_index=False)[\"Growth_%\"]\n",
    "                 .mean()\n",
    "                 .rename(columns={\"Growth_%\": \"Global_Mean_Growth\"})\n",
    ")\n",
    "\n",
    "# Merge and compute anomalies\n",
    "country_trend = country_trend.merge(year_mean, on=\"Year\", how=\"left\")\n",
    "country_trend[\"Anomaly_%\"] = country_trend[\"Growth_%\"] - country_trend[\"Global_Mean_Growth\"]\n",
    "\n",
    "# --- 5) Filter to focus countries only ---\n",
    "country_trend = country_trend[country_trend[\"Country\"].isin(focus_countries)]\n",
    "\n",
    "# --- 6) Plot anomalies ---\n",
    "fig = px.line(\n",
    "    country_trend,\n",
    "    x=\"Year\",\n",
    "    y=\"Anomaly_%\",\n",
    "    color=\"Country\",\n",
    "    title=\"EV Registration Growth Anomalies (Deviation from Global Mean)\",\n",
    "    markers=True,\n",
    "    color_discrete_sequence=KES_palette\n",
    ")\n",
    "\n",
    "fig.update_layout(\n",
    "    template=\"plotly_white\",\n",
    "    yaxis_title=\"Growth Anomaly (% from Global Mean)\",\n",
    "    xaxis_title=\"Year\",\n",
    "    font=dict(family=\"Helvetica\", size=14),\n",
    "    title=dict(x=0.5, xanchor=\"center\"),\n",
    "    legend_title_text=\"Country\",\n",
    "    shapes=[\n",
    "        dict(\n",
    "            type=\"line\",\n",
    "            xref=\"paper\", x0=0, x1=1,\n",
    "            yref=\"y\", y0=0, y1=0,\n",
    "            line=dict(color=\"black\", dash=\"dash\")\n",
    "        )\n",
    "    ]\n",
    ")\n",
    "\n",
    "# --- 7) Save output ---\n",
    "fig.write_image(FIG_DIR / \"line_Country_trend.pdf\")\n",
    "fig.show()\n",
    "\n"
   ]
  },
  {
   "cell_type": "markdown",
   "id": "0e5224e6",
   "metadata": {},
   "source": [
    "## 4 Economic Metrics\n"
   ]
  },
  {
   "cell_type": "markdown",
   "id": "57f246c9",
   "metadata": {},
   "source": [
    "### 4.1.1 Annual Growth Rate of Total Car Registrations"
   ]
  },
  {
   "cell_type": "code",
   "execution_count": 11,
   "id": "526c351a",
   "metadata": {},
   "outputs": [
    {
     "name": "stdout",
     "output_type": "stream",
     "text": [
      "    Year  Registrations  GrowthRate_%\n",
      "0   2011         392510           NaN\n",
      "1   2012         486645         23.98\n",
      "2   2013         594222         22.11\n",
      "3   2014         754828         27.03\n",
      "4   2015         986526         30.70\n",
      "5   2016        1294929         31.26\n",
      "6   2017        1687886         30.35\n",
      "7   2018        2172243         28.70\n",
      "8   2019        2758939         27.01\n",
      "9   2020        3674015         33.17\n",
      "10  2021        5575449         51.75\n",
      "11  2022        8086103         45.03\n",
      "12  2023       11150531         37.90\n",
      "13  2024       15019215         34.70\n"
     ]
    },
    {
     "data": {
      "application/vnd.plotly.v1+json": {
       "config": {
        "plotlyServerURL": "https://plot.ly"
       },
       "data": [
        {
         "marker": {
          "color": "steelblue"
         },
         "name": "Registrations",
         "opacity": 0.7,
         "type": "bar",
         "x": {
          "bdata": "2wfcB90H3gffB+AH4QfiB+MH5AflB+YH5wfoBw==",
          "dtype": "i2"
         },
         "y": {
          "bdata": "Pv0FAPVsBwAuEQkAjIQLAJ4NDwBRwhMATsEZAFMlIQAbGSoAnw84ABkTVQBXYnsAwySqAM8s5QA=",
          "dtype": "i4"
         }
        },
        {
         "line": {
          "color": "crimson",
          "width": 2
         },
         "mode": "lines+markers",
         "name": "Growth Rate (%)",
         "type": "scatter",
         "x": {
          "bdata": "2wfcB90H3gffB+AH4QfiB+MH5AflB+YH5wfoBw==",
          "dtype": "i2"
         },
         "y": {
          "bdata": "AAAAAAAA+H97FK5H4fo3QFyPwvUoHDZASOF6FK4HO0AzMzMzM7M+QMP1KFyPQj9AmpmZmZlZPkAzMzMzM7M8QMP1KFyPAjtA9ihcj8KVQEAAAAAAAOBJQKRwPQrXg0ZAMzMzMzPzQkCamZmZmVlBQA==",
          "dtype": "f8"
         },
         "yaxis": "y2"
        }
       ],
       "layout": {
        "height": 500,
        "legend": {
         "x": 0.02,
         "y": 0.98
        },
        "template": {
         "data": {
          "bar": [
           {
            "error_x": {
             "color": "#2a3f5f"
            },
            "error_y": {
             "color": "#2a3f5f"
            },
            "marker": {
             "line": {
              "color": "white",
              "width": 0.5
             },
             "pattern": {
              "fillmode": "overlay",
              "size": 10,
              "solidity": 0.2
             }
            },
            "type": "bar"
           }
          ],
          "barpolar": [
           {
            "marker": {
             "line": {
              "color": "white",
              "width": 0.5
             },
             "pattern": {
              "fillmode": "overlay",
              "size": 10,
              "solidity": 0.2
             }
            },
            "type": "barpolar"
           }
          ],
          "carpet": [
           {
            "aaxis": {
             "endlinecolor": "#2a3f5f",
             "gridcolor": "#C8D4E3",
             "linecolor": "#C8D4E3",
             "minorgridcolor": "#C8D4E3",
             "startlinecolor": "#2a3f5f"
            },
            "baxis": {
             "endlinecolor": "#2a3f5f",
             "gridcolor": "#C8D4E3",
             "linecolor": "#C8D4E3",
             "minorgridcolor": "#C8D4E3",
             "startlinecolor": "#2a3f5f"
            },
            "type": "carpet"
           }
          ],
          "choropleth": [
           {
            "colorbar": {
             "outlinewidth": 0,
             "ticks": ""
            },
            "type": "choropleth"
           }
          ],
          "contour": [
           {
            "colorbar": {
             "outlinewidth": 0,
             "ticks": ""
            },
            "colorscale": [
             [
              0,
              "#0d0887"
             ],
             [
              0.1111111111111111,
              "#46039f"
             ],
             [
              0.2222222222222222,
              "#7201a8"
             ],
             [
              0.3333333333333333,
              "#9c179e"
             ],
             [
              0.4444444444444444,
              "#bd3786"
             ],
             [
              0.5555555555555556,
              "#d8576b"
             ],
             [
              0.6666666666666666,
              "#ed7953"
             ],
             [
              0.7777777777777778,
              "#fb9f3a"
             ],
             [
              0.8888888888888888,
              "#fdca26"
             ],
             [
              1,
              "#f0f921"
             ]
            ],
            "type": "contour"
           }
          ],
          "contourcarpet": [
           {
            "colorbar": {
             "outlinewidth": 0,
             "ticks": ""
            },
            "type": "contourcarpet"
           }
          ],
          "heatmap": [
           {
            "colorbar": {
             "outlinewidth": 0,
             "ticks": ""
            },
            "colorscale": [
             [
              0,
              "#0d0887"
             ],
             [
              0.1111111111111111,
              "#46039f"
             ],
             [
              0.2222222222222222,
              "#7201a8"
             ],
             [
              0.3333333333333333,
              "#9c179e"
             ],
             [
              0.4444444444444444,
              "#bd3786"
             ],
             [
              0.5555555555555556,
              "#d8576b"
             ],
             [
              0.6666666666666666,
              "#ed7953"
             ],
             [
              0.7777777777777778,
              "#fb9f3a"
             ],
             [
              0.8888888888888888,
              "#fdca26"
             ],
             [
              1,
              "#f0f921"
             ]
            ],
            "type": "heatmap"
           }
          ],
          "histogram": [
           {
            "marker": {
             "pattern": {
              "fillmode": "overlay",
              "size": 10,
              "solidity": 0.2
             }
            },
            "type": "histogram"
           }
          ],
          "histogram2d": [
           {
            "colorbar": {
             "outlinewidth": 0,
             "ticks": ""
            },
            "colorscale": [
             [
              0,
              "#0d0887"
             ],
             [
              0.1111111111111111,
              "#46039f"
             ],
             [
              0.2222222222222222,
              "#7201a8"
             ],
             [
              0.3333333333333333,
              "#9c179e"
             ],
             [
              0.4444444444444444,
              "#bd3786"
             ],
             [
              0.5555555555555556,
              "#d8576b"
             ],
             [
              0.6666666666666666,
              "#ed7953"
             ],
             [
              0.7777777777777778,
              "#fb9f3a"
             ],
             [
              0.8888888888888888,
              "#fdca26"
             ],
             [
              1,
              "#f0f921"
             ]
            ],
            "type": "histogram2d"
           }
          ],
          "histogram2dcontour": [
           {
            "colorbar": {
             "outlinewidth": 0,
             "ticks": ""
            },
            "colorscale": [
             [
              0,
              "#0d0887"
             ],
             [
              0.1111111111111111,
              "#46039f"
             ],
             [
              0.2222222222222222,
              "#7201a8"
             ],
             [
              0.3333333333333333,
              "#9c179e"
             ],
             [
              0.4444444444444444,
              "#bd3786"
             ],
             [
              0.5555555555555556,
              "#d8576b"
             ],
             [
              0.6666666666666666,
              "#ed7953"
             ],
             [
              0.7777777777777778,
              "#fb9f3a"
             ],
             [
              0.8888888888888888,
              "#fdca26"
             ],
             [
              1,
              "#f0f921"
             ]
            ],
            "type": "histogram2dcontour"
           }
          ],
          "mesh3d": [
           {
            "colorbar": {
             "outlinewidth": 0,
             "ticks": ""
            },
            "type": "mesh3d"
           }
          ],
          "parcoords": [
           {
            "line": {
             "colorbar": {
              "outlinewidth": 0,
              "ticks": ""
             }
            },
            "type": "parcoords"
           }
          ],
          "pie": [
           {
            "automargin": true,
            "type": "pie"
           }
          ],
          "scatter": [
           {
            "fillpattern": {
             "fillmode": "overlay",
             "size": 10,
             "solidity": 0.2
            },
            "type": "scatter"
           }
          ],
          "scatter3d": [
           {
            "line": {
             "colorbar": {
              "outlinewidth": 0,
              "ticks": ""
             }
            },
            "marker": {
             "colorbar": {
              "outlinewidth": 0,
              "ticks": ""
             }
            },
            "type": "scatter3d"
           }
          ],
          "scattercarpet": [
           {
            "marker": {
             "colorbar": {
              "outlinewidth": 0,
              "ticks": ""
             }
            },
            "type": "scattercarpet"
           }
          ],
          "scattergeo": [
           {
            "marker": {
             "colorbar": {
              "outlinewidth": 0,
              "ticks": ""
             }
            },
            "type": "scattergeo"
           }
          ],
          "scattergl": [
           {
            "marker": {
             "colorbar": {
              "outlinewidth": 0,
              "ticks": ""
             }
            },
            "type": "scattergl"
           }
          ],
          "scattermap": [
           {
            "marker": {
             "colorbar": {
              "outlinewidth": 0,
              "ticks": ""
             }
            },
            "type": "scattermap"
           }
          ],
          "scattermapbox": [
           {
            "marker": {
             "colorbar": {
              "outlinewidth": 0,
              "ticks": ""
             }
            },
            "type": "scattermapbox"
           }
          ],
          "scatterpolar": [
           {
            "marker": {
             "colorbar": {
              "outlinewidth": 0,
              "ticks": ""
             }
            },
            "type": "scatterpolar"
           }
          ],
          "scatterpolargl": [
           {
            "marker": {
             "colorbar": {
              "outlinewidth": 0,
              "ticks": ""
             }
            },
            "type": "scatterpolargl"
           }
          ],
          "scatterternary": [
           {
            "marker": {
             "colorbar": {
              "outlinewidth": 0,
              "ticks": ""
             }
            },
            "type": "scatterternary"
           }
          ],
          "surface": [
           {
            "colorbar": {
             "outlinewidth": 0,
             "ticks": ""
            },
            "colorscale": [
             [
              0,
              "#0d0887"
             ],
             [
              0.1111111111111111,
              "#46039f"
             ],
             [
              0.2222222222222222,
              "#7201a8"
             ],
             [
              0.3333333333333333,
              "#9c179e"
             ],
             [
              0.4444444444444444,
              "#bd3786"
             ],
             [
              0.5555555555555556,
              "#d8576b"
             ],
             [
              0.6666666666666666,
              "#ed7953"
             ],
             [
              0.7777777777777778,
              "#fb9f3a"
             ],
             [
              0.8888888888888888,
              "#fdca26"
             ],
             [
              1,
              "#f0f921"
             ]
            ],
            "type": "surface"
           }
          ],
          "table": [
           {
            "cells": {
             "fill": {
              "color": "#EBF0F8"
             },
             "line": {
              "color": "white"
             }
            },
            "header": {
             "fill": {
              "color": "#C8D4E3"
             },
             "line": {
              "color": "white"
             }
            },
            "type": "table"
           }
          ]
         },
         "layout": {
          "annotationdefaults": {
           "arrowcolor": "#2a3f5f",
           "arrowhead": 0,
           "arrowwidth": 1
          },
          "autotypenumbers": "strict",
          "coloraxis": {
           "colorbar": {
            "outlinewidth": 0,
            "ticks": ""
           }
          },
          "colorscale": {
           "diverging": [
            [
             0,
             "#8e0152"
            ],
            [
             0.1,
             "#c51b7d"
            ],
            [
             0.2,
             "#de77ae"
            ],
            [
             0.3,
             "#f1b6da"
            ],
            [
             0.4,
             "#fde0ef"
            ],
            [
             0.5,
             "#f7f7f7"
            ],
            [
             0.6,
             "#e6f5d0"
            ],
            [
             0.7,
             "#b8e186"
            ],
            [
             0.8,
             "#7fbc41"
            ],
            [
             0.9,
             "#4d9221"
            ],
            [
             1,
             "#276419"
            ]
           ],
           "sequential": [
            [
             0,
             "#0d0887"
            ],
            [
             0.1111111111111111,
             "#46039f"
            ],
            [
             0.2222222222222222,
             "#7201a8"
            ],
            [
             0.3333333333333333,
             "#9c179e"
            ],
            [
             0.4444444444444444,
             "#bd3786"
            ],
            [
             0.5555555555555556,
             "#d8576b"
            ],
            [
             0.6666666666666666,
             "#ed7953"
            ],
            [
             0.7777777777777778,
             "#fb9f3a"
            ],
            [
             0.8888888888888888,
             "#fdca26"
            ],
            [
             1,
             "#f0f921"
            ]
           ],
           "sequentialminus": [
            [
             0,
             "#0d0887"
            ],
            [
             0.1111111111111111,
             "#46039f"
            ],
            [
             0.2222222222222222,
             "#7201a8"
            ],
            [
             0.3333333333333333,
             "#9c179e"
            ],
            [
             0.4444444444444444,
             "#bd3786"
            ],
            [
             0.5555555555555556,
             "#d8576b"
            ],
            [
             0.6666666666666666,
             "#ed7953"
            ],
            [
             0.7777777777777778,
             "#fb9f3a"
            ],
            [
             0.8888888888888888,
             "#fdca26"
            ],
            [
             1,
             "#f0f921"
            ]
           ]
          },
          "colorway": [
           "#636efa",
           "#EF553B",
           "#00cc96",
           "#ab63fa",
           "#FFA15A",
           "#19d3f3",
           "#FF6692",
           "#B6E880",
           "#FF97FF",
           "#FECB52"
          ],
          "font": {
           "color": "#2a3f5f"
          },
          "geo": {
           "bgcolor": "white",
           "lakecolor": "white",
           "landcolor": "white",
           "showlakes": true,
           "showland": true,
           "subunitcolor": "#C8D4E3"
          },
          "hoverlabel": {
           "align": "left"
          },
          "hovermode": "closest",
          "mapbox": {
           "style": "light"
          },
          "paper_bgcolor": "white",
          "plot_bgcolor": "white",
          "polar": {
           "angularaxis": {
            "gridcolor": "#EBF0F8",
            "linecolor": "#EBF0F8",
            "ticks": ""
           },
           "bgcolor": "white",
           "radialaxis": {
            "gridcolor": "#EBF0F8",
            "linecolor": "#EBF0F8",
            "ticks": ""
           }
          },
          "scene": {
           "xaxis": {
            "backgroundcolor": "white",
            "gridcolor": "#DFE8F3",
            "gridwidth": 2,
            "linecolor": "#EBF0F8",
            "showbackground": true,
            "ticks": "",
            "zerolinecolor": "#EBF0F8"
           },
           "yaxis": {
            "backgroundcolor": "white",
            "gridcolor": "#DFE8F3",
            "gridwidth": 2,
            "linecolor": "#EBF0F8",
            "showbackground": true,
            "ticks": "",
            "zerolinecolor": "#EBF0F8"
           },
           "zaxis": {
            "backgroundcolor": "white",
            "gridcolor": "#DFE8F3",
            "gridwidth": 2,
            "linecolor": "#EBF0F8",
            "showbackground": true,
            "ticks": "",
            "zerolinecolor": "#EBF0F8"
           }
          },
          "shapedefaults": {
           "line": {
            "color": "#2a3f5f"
           }
          },
          "ternary": {
           "aaxis": {
            "gridcolor": "#DFE8F3",
            "linecolor": "#A2B1C6",
            "ticks": ""
           },
           "baxis": {
            "gridcolor": "#DFE8F3",
            "linecolor": "#A2B1C6",
            "ticks": ""
           },
           "bgcolor": "white",
           "caxis": {
            "gridcolor": "#DFE8F3",
            "linecolor": "#A2B1C6",
            "ticks": ""
           }
          },
          "title": {
           "x": 0.05
          },
          "xaxis": {
           "automargin": true,
           "gridcolor": "#EBF0F8",
           "linecolor": "#EBF0F8",
           "ticks": "",
           "title": {
            "standoff": 15
           },
           "zerolinecolor": "#EBF0F8",
           "zerolinewidth": 2
          },
          "yaxis": {
           "automargin": true,
           "gridcolor": "#EBF0F8",
           "linecolor": "#EBF0F8",
           "ticks": "",
           "title": {
            "standoff": 15
           },
           "zerolinecolor": "#EBF0F8",
           "zerolinewidth": 2
          }
         }
        },
        "title": {
         "text": "Annual Vehicle Registrations and Year-on-Year Growth"
        },
        "width": 850,
        "xaxis": {
         "title": {
          "text": "Year"
         }
        },
        "yaxis": {
         "title": {
          "text": "Registrations"
         }
        },
        "yaxis2": {
         "overlaying": "y",
         "showgrid": false,
         "side": "right",
         "title": {
          "text": "Growth Rate (%)"
         }
        }
       }
      }
     },
     "metadata": {},
     "output_type": "display_data"
    }
   ],
   "source": [
    "# --- Total registrations by year ---\n",
    "annual_total = (\n",
    "    df_ev.groupby(\"Year\", as_index=False)[\"Registrations\"]\n",
    "         .sum()\n",
    "         .sort_values(\"Year\")\n",
    "         .reset_index(drop=True)\n",
    ")\n",
    "\n",
    "# --- Compute year-on-year growth rate (% change from previous year) ---\n",
    "annual_total[\"GrowthRate_%\"] = (\n",
    "    annual_total[\"Registrations\"].pct_change() * 100\n",
    ").round(2)\n",
    "\n",
    "# --- Display ---\n",
    "print(annual_total)\n",
    "\n",
    "\n",
    "# --- Base figure with bars for Registrations ---\n",
    "fig = go.Figure()\n",
    "\n",
    "fig.add_trace(go.Bar(\n",
    "    x=annual_total[\"Year\"],\n",
    "    y=annual_total[\"Registrations\"],\n",
    "    name=\"Registrations\",\n",
    "    marker_color=\"steelblue\",\n",
    "    opacity=0.7,\n",
    "))\n",
    "\n",
    "# --- Add growth rate line (secondary axis) ---\n",
    "fig.add_trace(go.Scatter(\n",
    "    x=annual_total[\"Year\"],\n",
    "    y=annual_total[\"GrowthRate_%\"],\n",
    "    name=\"Growth Rate (%)\",\n",
    "    mode=\"lines+markers\",\n",
    "    yaxis=\"y2\",\n",
    "    line=dict(color=\"crimson\", width=2)\n",
    "))\n",
    "\n",
    "# --- Layout ---\n",
    "fig.update_layout(\n",
    "    title=\"Annual Vehicle Registrations and Year-on-Year Growth\",\n",
    "    xaxis_title=\"Year\",\n",
    "    yaxis=dict(title=\"Registrations\"),\n",
    "    yaxis2=dict(\n",
    "        title=\"Growth Rate (%)\",\n",
    "        overlaying=\"y\",\n",
    "        side=\"right\",\n",
    "        showgrid=False\n",
    "    ),\n",
    "    template=\"plotly_white\",\n",
    "    legend=dict(x=0.02, y=0.98),\n",
    "    width=850, height=500\n",
    ")\n",
    "\n",
    "# --- Save ---\n",
    "fig.write_image(FIG_DIR / \"annual_total_growth.pdf\")\n",
    "\n",
    "fig.show()"
   ]
  },
  {
   "cell_type": "markdown",
   "id": "b7e712b3",
   "metadata": {},
   "source": [
    "### 4.1.2 Market Share by Fuel Group"
   ]
  },
  {
   "cell_type": "code",
   "execution_count": 12,
   "id": "abc44d73",
   "metadata": {},
   "outputs": [
    {
     "data": {
      "application/vnd.plotly.v1+json": {
       "config": {
        "plotlyServerURL": "https://plot.ly"
       },
       "data": [
        {
         "hovertemplate": "Fuel Group=Petrol<br>Year=%{x}<br>YoY_Change_%=%{y}<extra></extra>",
         "legendgroup": "Petrol",
         "line": {
          "color": "#780000",
          "dash": "solid"
         },
         "marker": {
          "symbol": "circle"
         },
         "mode": "lines+markers",
         "name": "Petrol",
         "orientation": "v",
         "showlegend": true,
         "type": "scatter",
         "x": {
          "bdata": "2wfcB90H3gffB+AH4QfiB+MH5AflB+YH5wfoBw==",
          "dtype": "i2"
         },
         "xaxis": "x",
         "y": {
          "bdata": "AAAAAAAA+H87B+j0T/wGwPrsUDngzgbAhc2972lbB8CcjyuIiU4GwDuqBI2LMwXASBmbdOyi/b/8LPYvlrXkv+C3Lprd39g/QGfio1XPtj8opXuAhJTdvzDRRpSGnue/7Edom7cV6b8WsLVV1zH2vw==",
          "dtype": "f8"
         },
         "yaxis": "y"
        },
        {
         "hovertemplate": "Fuel Group=Diesel<br>Year=%{x}<br>YoY_Change_%=%{y}<extra></extra>",
         "legendgroup": "Diesel",
         "line": {
          "color": "#1D3557",
          "dash": "solid"
         },
         "marker": {
          "symbol": "circle"
         },
         "mode": "lines+markers",
         "name": "Diesel",
         "orientation": "v",
         "showlegend": true,
         "type": "scatter",
         "x": {
          "bdata": "2wfcB90H3gffB+AH4QfiB+MH5AflB+YH5wfoBw==",
          "dtype": "i2"
         },
         "xaxis": "x",
         "y": {
          "bdata": "AAAAAAAA+H/YJhDEqI0ZQNuFp/eDBRdA/5/aGfYzFUCHUNJWKOgRQKTPb5jrTA5AXrAxS4z6AEAAX/3ggqWcPzCYh4dtLPu/1rCPXvYpAMAbIAp1/T0JwJ15P+dWTBDA1omeQu/CFMC0+CHB/kEYwA==",
          "dtype": "f8"
         },
         "yaxis": "y"
        },
        {
         "hovertemplate": "Fuel Group=Electric<br>Year=%{x}<br>YoY_Change_%=%{y}<extra></extra>",
         "legendgroup": "Electric",
         "line": {
          "color": "#A8DADC",
          "dash": "solid"
         },
         "marker": {
          "symbol": "circle"
         },
         "mode": "lines+markers",
         "name": "Electric",
         "orientation": "v",
         "showlegend": true,
         "type": "scatter",
         "x": {
          "bdata": "2wfcB90H3gffB+AH4QfiB+MH5AflB+YH5wfoBw==",
          "dtype": "i2"
         },
         "xaxis": "x",
         "y": {
          "bdata": "AAAAAAAA+H8qXvtlsUQ3QPAvqDhOlzRA+Dtc48x+OEC0hZ+0E+g8QM0LLqVtfjxAKv5cFz5OPEBJXRrlD4g7QGYvwIWGlTlAAI4TxyXfQEAQ65vDP2hJQJaNdojrIEZABsQXFJQqQkD2PzxUzXxAQA==",
          "dtype": "f8"
         },
         "yaxis": "y"
        },
        {
         "hovertemplate": "Fuel Group=Other Fuel Types<br>Year=%{x}<br>YoY_Change_%=%{y}<extra></extra>",
         "legendgroup": "Other Fuel Types",
         "line": {
          "color": "#572523",
          "dash": "solid"
         },
         "marker": {
          "symbol": "circle"
         },
         "mode": "lines+markers",
         "name": "Other Fuel Types",
         "orientation": "v",
         "showlegend": true,
         "type": "scatter",
         "x": {
          "bdata": "2wfcB90H3gffB+AH4QfiB+MH5AflB+YH5wfoBw==",
          "dtype": "i2"
         },
         "xaxis": "x",
         "y": {
          "bdata": "AAAAAAAA+H/PhWbEA+YIwIvxYyjrXwrACkKAaN/OAsCka1Zrg20TwDJcbFtIFhLABhHkx9KsGsCJ7FXPSrAUwBvlztnRrBnAYZctZHa4IMD2QjqeOZYSwEISJTccVxXAP0V2QL/0IMCHvnHkAtEhwA==",
          "dtype": "f8"
         },
         "yaxis": "y"
        }
       ],
       "layout": {
        "height": 500,
        "legend": {
         "title": {
          "text": "Fuel Group"
         },
         "tracegroupgap": 0
        },
        "template": {
         "data": {
          "bar": [
           {
            "error_x": {
             "color": "#2a3f5f"
            },
            "error_y": {
             "color": "#2a3f5f"
            },
            "marker": {
             "line": {
              "color": "white",
              "width": 0.5
             },
             "pattern": {
              "fillmode": "overlay",
              "size": 10,
              "solidity": 0.2
             }
            },
            "type": "bar"
           }
          ],
          "barpolar": [
           {
            "marker": {
             "line": {
              "color": "white",
              "width": 0.5
             },
             "pattern": {
              "fillmode": "overlay",
              "size": 10,
              "solidity": 0.2
             }
            },
            "type": "barpolar"
           }
          ],
          "carpet": [
           {
            "aaxis": {
             "endlinecolor": "#2a3f5f",
             "gridcolor": "#C8D4E3",
             "linecolor": "#C8D4E3",
             "minorgridcolor": "#C8D4E3",
             "startlinecolor": "#2a3f5f"
            },
            "baxis": {
             "endlinecolor": "#2a3f5f",
             "gridcolor": "#C8D4E3",
             "linecolor": "#C8D4E3",
             "minorgridcolor": "#C8D4E3",
             "startlinecolor": "#2a3f5f"
            },
            "type": "carpet"
           }
          ],
          "choropleth": [
           {
            "colorbar": {
             "outlinewidth": 0,
             "ticks": ""
            },
            "type": "choropleth"
           }
          ],
          "contour": [
           {
            "colorbar": {
             "outlinewidth": 0,
             "ticks": ""
            },
            "colorscale": [
             [
              0,
              "#0d0887"
             ],
             [
              0.1111111111111111,
              "#46039f"
             ],
             [
              0.2222222222222222,
              "#7201a8"
             ],
             [
              0.3333333333333333,
              "#9c179e"
             ],
             [
              0.4444444444444444,
              "#bd3786"
             ],
             [
              0.5555555555555556,
              "#d8576b"
             ],
             [
              0.6666666666666666,
              "#ed7953"
             ],
             [
              0.7777777777777778,
              "#fb9f3a"
             ],
             [
              0.8888888888888888,
              "#fdca26"
             ],
             [
              1,
              "#f0f921"
             ]
            ],
            "type": "contour"
           }
          ],
          "contourcarpet": [
           {
            "colorbar": {
             "outlinewidth": 0,
             "ticks": ""
            },
            "type": "contourcarpet"
           }
          ],
          "heatmap": [
           {
            "colorbar": {
             "outlinewidth": 0,
             "ticks": ""
            },
            "colorscale": [
             [
              0,
              "#0d0887"
             ],
             [
              0.1111111111111111,
              "#46039f"
             ],
             [
              0.2222222222222222,
              "#7201a8"
             ],
             [
              0.3333333333333333,
              "#9c179e"
             ],
             [
              0.4444444444444444,
              "#bd3786"
             ],
             [
              0.5555555555555556,
              "#d8576b"
             ],
             [
              0.6666666666666666,
              "#ed7953"
             ],
             [
              0.7777777777777778,
              "#fb9f3a"
             ],
             [
              0.8888888888888888,
              "#fdca26"
             ],
             [
              1,
              "#f0f921"
             ]
            ],
            "type": "heatmap"
           }
          ],
          "histogram": [
           {
            "marker": {
             "pattern": {
              "fillmode": "overlay",
              "size": 10,
              "solidity": 0.2
             }
            },
            "type": "histogram"
           }
          ],
          "histogram2d": [
           {
            "colorbar": {
             "outlinewidth": 0,
             "ticks": ""
            },
            "colorscale": [
             [
              0,
              "#0d0887"
             ],
             [
              0.1111111111111111,
              "#46039f"
             ],
             [
              0.2222222222222222,
              "#7201a8"
             ],
             [
              0.3333333333333333,
              "#9c179e"
             ],
             [
              0.4444444444444444,
              "#bd3786"
             ],
             [
              0.5555555555555556,
              "#d8576b"
             ],
             [
              0.6666666666666666,
              "#ed7953"
             ],
             [
              0.7777777777777778,
              "#fb9f3a"
             ],
             [
              0.8888888888888888,
              "#fdca26"
             ],
             [
              1,
              "#f0f921"
             ]
            ],
            "type": "histogram2d"
           }
          ],
          "histogram2dcontour": [
           {
            "colorbar": {
             "outlinewidth": 0,
             "ticks": ""
            },
            "colorscale": [
             [
              0,
              "#0d0887"
             ],
             [
              0.1111111111111111,
              "#46039f"
             ],
             [
              0.2222222222222222,
              "#7201a8"
             ],
             [
              0.3333333333333333,
              "#9c179e"
             ],
             [
              0.4444444444444444,
              "#bd3786"
             ],
             [
              0.5555555555555556,
              "#d8576b"
             ],
             [
              0.6666666666666666,
              "#ed7953"
             ],
             [
              0.7777777777777778,
              "#fb9f3a"
             ],
             [
              0.8888888888888888,
              "#fdca26"
             ],
             [
              1,
              "#f0f921"
             ]
            ],
            "type": "histogram2dcontour"
           }
          ],
          "mesh3d": [
           {
            "colorbar": {
             "outlinewidth": 0,
             "ticks": ""
            },
            "type": "mesh3d"
           }
          ],
          "parcoords": [
           {
            "line": {
             "colorbar": {
              "outlinewidth": 0,
              "ticks": ""
             }
            },
            "type": "parcoords"
           }
          ],
          "pie": [
           {
            "automargin": true,
            "type": "pie"
           }
          ],
          "scatter": [
           {
            "fillpattern": {
             "fillmode": "overlay",
             "size": 10,
             "solidity": 0.2
            },
            "type": "scatter"
           }
          ],
          "scatter3d": [
           {
            "line": {
             "colorbar": {
              "outlinewidth": 0,
              "ticks": ""
             }
            },
            "marker": {
             "colorbar": {
              "outlinewidth": 0,
              "ticks": ""
             }
            },
            "type": "scatter3d"
           }
          ],
          "scattercarpet": [
           {
            "marker": {
             "colorbar": {
              "outlinewidth": 0,
              "ticks": ""
             }
            },
            "type": "scattercarpet"
           }
          ],
          "scattergeo": [
           {
            "marker": {
             "colorbar": {
              "outlinewidth": 0,
              "ticks": ""
             }
            },
            "type": "scattergeo"
           }
          ],
          "scattergl": [
           {
            "marker": {
             "colorbar": {
              "outlinewidth": 0,
              "ticks": ""
             }
            },
            "type": "scattergl"
           }
          ],
          "scattermap": [
           {
            "marker": {
             "colorbar": {
              "outlinewidth": 0,
              "ticks": ""
             }
            },
            "type": "scattermap"
           }
          ],
          "scattermapbox": [
           {
            "marker": {
             "colorbar": {
              "outlinewidth": 0,
              "ticks": ""
             }
            },
            "type": "scattermapbox"
           }
          ],
          "scatterpolar": [
           {
            "marker": {
             "colorbar": {
              "outlinewidth": 0,
              "ticks": ""
             }
            },
            "type": "scatterpolar"
           }
          ],
          "scatterpolargl": [
           {
            "marker": {
             "colorbar": {
              "outlinewidth": 0,
              "ticks": ""
             }
            },
            "type": "scatterpolargl"
           }
          ],
          "scatterternary": [
           {
            "marker": {
             "colorbar": {
              "outlinewidth": 0,
              "ticks": ""
             }
            },
            "type": "scatterternary"
           }
          ],
          "surface": [
           {
            "colorbar": {
             "outlinewidth": 0,
             "ticks": ""
            },
            "colorscale": [
             [
              0,
              "#0d0887"
             ],
             [
              0.1111111111111111,
              "#46039f"
             ],
             [
              0.2222222222222222,
              "#7201a8"
             ],
             [
              0.3333333333333333,
              "#9c179e"
             ],
             [
              0.4444444444444444,
              "#bd3786"
             ],
             [
              0.5555555555555556,
              "#d8576b"
             ],
             [
              0.6666666666666666,
              "#ed7953"
             ],
             [
              0.7777777777777778,
              "#fb9f3a"
             ],
             [
              0.8888888888888888,
              "#fdca26"
             ],
             [
              1,
              "#f0f921"
             ]
            ],
            "type": "surface"
           }
          ],
          "table": [
           {
            "cells": {
             "fill": {
              "color": "#EBF0F8"
             },
             "line": {
              "color": "white"
             }
            },
            "header": {
             "fill": {
              "color": "#C8D4E3"
             },
             "line": {
              "color": "white"
             }
            },
            "type": "table"
           }
          ]
         },
         "layout": {
          "annotationdefaults": {
           "arrowcolor": "#2a3f5f",
           "arrowhead": 0,
           "arrowwidth": 1
          },
          "autotypenumbers": "strict",
          "coloraxis": {
           "colorbar": {
            "outlinewidth": 0,
            "ticks": ""
           }
          },
          "colorscale": {
           "diverging": [
            [
             0,
             "#8e0152"
            ],
            [
             0.1,
             "#c51b7d"
            ],
            [
             0.2,
             "#de77ae"
            ],
            [
             0.3,
             "#f1b6da"
            ],
            [
             0.4,
             "#fde0ef"
            ],
            [
             0.5,
             "#f7f7f7"
            ],
            [
             0.6,
             "#e6f5d0"
            ],
            [
             0.7,
             "#b8e186"
            ],
            [
             0.8,
             "#7fbc41"
            ],
            [
             0.9,
             "#4d9221"
            ],
            [
             1,
             "#276419"
            ]
           ],
           "sequential": [
            [
             0,
             "#0d0887"
            ],
            [
             0.1111111111111111,
             "#46039f"
            ],
            [
             0.2222222222222222,
             "#7201a8"
            ],
            [
             0.3333333333333333,
             "#9c179e"
            ],
            [
             0.4444444444444444,
             "#bd3786"
            ],
            [
             0.5555555555555556,
             "#d8576b"
            ],
            [
             0.6666666666666666,
             "#ed7953"
            ],
            [
             0.7777777777777778,
             "#fb9f3a"
            ],
            [
             0.8888888888888888,
             "#fdca26"
            ],
            [
             1,
             "#f0f921"
            ]
           ],
           "sequentialminus": [
            [
             0,
             "#0d0887"
            ],
            [
             0.1111111111111111,
             "#46039f"
            ],
            [
             0.2222222222222222,
             "#7201a8"
            ],
            [
             0.3333333333333333,
             "#9c179e"
            ],
            [
             0.4444444444444444,
             "#bd3786"
            ],
            [
             0.5555555555555556,
             "#d8576b"
            ],
            [
             0.6666666666666666,
             "#ed7953"
            ],
            [
             0.7777777777777778,
             "#fb9f3a"
            ],
            [
             0.8888888888888888,
             "#fdca26"
            ],
            [
             1,
             "#f0f921"
            ]
           ]
          },
          "colorway": [
           "#636efa",
           "#EF553B",
           "#00cc96",
           "#ab63fa",
           "#FFA15A",
           "#19d3f3",
           "#FF6692",
           "#B6E880",
           "#FF97FF",
           "#FECB52"
          ],
          "font": {
           "color": "#2a3f5f"
          },
          "geo": {
           "bgcolor": "white",
           "lakecolor": "white",
           "landcolor": "white",
           "showlakes": true,
           "showland": true,
           "subunitcolor": "#C8D4E3"
          },
          "hoverlabel": {
           "align": "left"
          },
          "hovermode": "closest",
          "mapbox": {
           "style": "light"
          },
          "paper_bgcolor": "white",
          "plot_bgcolor": "white",
          "polar": {
           "angularaxis": {
            "gridcolor": "#EBF0F8",
            "linecolor": "#EBF0F8",
            "ticks": ""
           },
           "bgcolor": "white",
           "radialaxis": {
            "gridcolor": "#EBF0F8",
            "linecolor": "#EBF0F8",
            "ticks": ""
           }
          },
          "scene": {
           "xaxis": {
            "backgroundcolor": "white",
            "gridcolor": "#DFE8F3",
            "gridwidth": 2,
            "linecolor": "#EBF0F8",
            "showbackground": true,
            "ticks": "",
            "zerolinecolor": "#EBF0F8"
           },
           "yaxis": {
            "backgroundcolor": "white",
            "gridcolor": "#DFE8F3",
            "gridwidth": 2,
            "linecolor": "#EBF0F8",
            "showbackground": true,
            "ticks": "",
            "zerolinecolor": "#EBF0F8"
           },
           "zaxis": {
            "backgroundcolor": "white",
            "gridcolor": "#DFE8F3",
            "gridwidth": 2,
            "linecolor": "#EBF0F8",
            "showbackground": true,
            "ticks": "",
            "zerolinecolor": "#EBF0F8"
           }
          },
          "shapedefaults": {
           "line": {
            "color": "#2a3f5f"
           }
          },
          "ternary": {
           "aaxis": {
            "gridcolor": "#DFE8F3",
            "linecolor": "#A2B1C6",
            "ticks": ""
           },
           "baxis": {
            "gridcolor": "#DFE8F3",
            "linecolor": "#A2B1C6",
            "ticks": ""
           },
           "bgcolor": "white",
           "caxis": {
            "gridcolor": "#DFE8F3",
            "linecolor": "#A2B1C6",
            "ticks": ""
           }
          },
          "title": {
           "x": 0.05
          },
          "xaxis": {
           "automargin": true,
           "gridcolor": "#EBF0F8",
           "linecolor": "#EBF0F8",
           "ticks": "",
           "title": {
            "standoff": 15
           },
           "zerolinecolor": "#EBF0F8",
           "zerolinewidth": 2
          },
          "yaxis": {
           "automargin": true,
           "gridcolor": "#EBF0F8",
           "linecolor": "#EBF0F8",
           "ticks": "",
           "title": {
            "standoff": 15
           },
           "zerolinecolor": "#EBF0F8",
           "zerolinewidth": 2
          }
         }
        },
        "title": {
         "text": "Rate of Change in Market Share of Fuel Types Over Time"
        },
        "width": 850,
        "xaxis": {
         "anchor": "y",
         "domain": [
          0,
          1
         ],
         "title": {
          "text": "Year"
         }
        },
        "yaxis": {
         "anchor": "x",
         "domain": [
          0,
          1
         ],
         "title": {
          "text": "Rate of Change in Market Share (%)"
         }
        }
       }
      }
     },
     "metadata": {},
     "output_type": "display_data"
    }
   ],
   "source": [
    "# --- Aggregate total registrations by Year and Fuel Group ---\n",
    "fuel_share = (\n",
    "    df_veh_raw.groupby([\"Year\", \"Fuel Group\"], as_index=False)[\"Registrations\"]\n",
    "      .sum()\n",
    ")\n",
    "\n",
    "# --- Compute market share within each year ---\n",
    "fuel_share[\"MarketShare_%\"] = (\n",
    "    fuel_share.groupby(\"Year\")[\"Registrations\"]\n",
    "              .transform(lambda x: 100 * x / x.sum())\n",
    ")\n",
    "\n",
    "# --- Compute year-on-year change in market share (percentage points) ---\n",
    "fuel_share[\"YoY_Change_pp\"] = (\n",
    "    fuel_share.sort_values([\"Fuel Group\", \"Year\"])\n",
    "              .groupby(\"Fuel Group\")[\"MarketShare_%\"]\n",
    "              .diff()\n",
    ")\n",
    "\n",
    "# Optional: also compute % change rate (relative growth)\n",
    "fuel_share[\"YoY_Change_%\"] = (\n",
    "    fuel_share.sort_values([\"Fuel Group\", \"Year\"])\n",
    "              .groupby(\"Fuel Group\")[\"MarketShare_%\"]\n",
    "              .pct_change() * 100\n",
    ")\n",
    "\n",
    "# --- Sort for readability, keeping same structure as before ---\n",
    "fuel_share = fuel_share.sort_values([\"Year\", \"MarketShare_%\"], ascending=[True, False])\n",
    "\n",
    "fuel_share.head(10)\n",
    "\n",
    "\n",
    "# --- Line chart: each fuel group over time ---\n",
    "fig = px.line(\n",
    "    fuel_share,\n",
    "    x=\"Year\",\n",
    "    y=\"YoY_Change_%\",\n",
    "    color=\"Fuel Group\",\n",
    "    markers=True,\n",
    "    title=\"Rate of Change in Market Share of Fuel Types Over Time\",\n",
    "    color_discrete_sequence=KES_palette\n",
    ")\n",
    "\n",
    "fig.update_layout(\n",
    "    xaxis_title=\"Year\",\n",
    "    yaxis_title=\"Rate of Change in Market Share (%)\",\n",
    "    legend_title=\"Fuel Group\",\n",
    "    template=\"plotly_white\",\n",
    "    width=850,\n",
    "    height=500\n",
    ")\n",
    "\n",
    "# --- Save outputs ---\n",
    "fig.write_image(FIG_DIR / \"fuel_share_trends.pdf\")\n",
    "\n",
    "fig.show()\n"
   ]
  },
  {
   "cell_type": "markdown",
   "id": "cbc60bcc",
   "metadata": {},
   "source": [
    "### 4.1.3 Market Share by Parent Country"
   ]
  },
  {
   "cell_type": "code",
   "execution_count": 13,
   "id": "b249ac00",
   "metadata": {},
   "outputs": [
    {
     "data": {
      "application/vnd.plotly.v1+json": {
       "config": {
        "plotlyServerURL": "https://plot.ly"
       },
       "data": [
        {
         "hovertemplate": "Country=Japan<br>Year=%{x}<br>MarketShare_%=%{y}<extra></extra>",
         "legendgroup": "Japan",
         "line": {
          "color": "#780000",
          "dash": "solid"
         },
         "marker": {
          "symbol": "circle"
         },
         "mode": "lines+markers",
         "name": "Japan",
         "orientation": "v",
         "showlegend": true,
         "type": "scatter",
         "x": {
          "bdata": "2wfcB90H3gffB+AH4QfiB+MH5AflB+YH5wfoBw==",
          "dtype": "i2"
         },
         "xaxis": "x",
         "y": {
          "bdata": "H3tWXE+NWEB6ry9AZExYQEcM7SeT6ldAckfiUVRhV0DMcolH6atWQGD4tuw5iVVA3aVw31o8VEDCuEkVoBtTQBRVaxj9MFJAGvRvVsQ8UECrXx50fVdKQL4DiTzgrEZA4I2sdBw1REBV8d3RKyZCQA==",
          "dtype": "f8"
         },
         "yaxis": "y"
        },
        {
         "hovertemplate": "Country=Germany<br>Year=%{x}<br>MarketShare_%=%{y}<extra></extra>",
         "legendgroup": "Germany",
         "line": {
          "color": "#1D3557",
          "dash": "solid"
         },
         "marker": {
          "symbol": "circle"
         },
         "mode": "lines+markers",
         "name": "Germany",
         "orientation": "v",
         "showlegend": true,
         "type": "scatter",
         "x": {
          "bdata": "3QfeB98H4AfhB+IH4wfkB+UH5gfnB+gH",
          "dtype": "i2"
         },
         "xaxis": "x",
         "y": {
          "bdata": "NVm4VCHr+D+jdGB1JaQJQFlWWo4ZwxVAT22m0ptpIUAGDInH/0YnQLHlWtnGmCtAfGyxAO5kLEAtCtKMUHovQMdWPBKYKzRAhpiRy8cjNkDsZ9hAhQU3QGPDVAxdWDhA",
          "dtype": "f8"
         },
         "yaxis": "y"
        },
        {
         "hovertemplate": "Country=Netherlands<br>Year=%{x}<br>MarketShare_%=%{y}<extra></extra>",
         "legendgroup": "Netherlands",
         "line": {
          "color": "#A8DADC",
          "dash": "solid"
         },
         "marker": {
          "symbol": "circle"
         },
         "mode": "lines+markers",
         "name": "Netherlands",
         "orientation": "v",
         "showlegend": true,
         "type": "scatter",
         "x": {
          "bdata": "3QfeB98H4AfkB+UH5gfnB+gH",
          "dtype": "i2"
         },
         "xaxis": "x",
         "y": {
          "bdata": "E/EXrbnH+D8N7fnLEZb6P1X3dtZL/PY/lmqJNDoH8j8uB/XnDTvwP8Rw4dLAjv8/hmiUhZYiB0CyjIvsOmEJQA/7yxNnSwtA",
          "dtype": "f8"
         },
         "yaxis": "y"
        },
        {
         "hovertemplate": "Country=France<br>Year=%{x}<br>MarketShare_%=%{y}<extra></extra>",
         "legendgroup": "France",
         "line": {
          "color": "#572523",
          "dash": "solid"
         },
         "marker": {
          "symbol": "circle"
         },
         "mode": "lines+markers",
         "name": "France",
         "orientation": "v",
         "showlegend": true,
         "type": "scatter",
         "x": {
          "bdata": "3wfgB+EH4gfjB+QH5QfmB+cH6Ac=",
          "dtype": "i2"
         },
         "xaxis": "x",
         "y": {
          "bdata": "yChS/Yjn8T9BTQLlICH4P7tySaWUePY/ZVWc79aO9D9szNaWs1D2P98platSyPY/zuAS6rm0+D86VrSxVd/7PwcEXThDsgBAj0VqXrgcBUA=",
          "dtype": "f8"
         },
         "yaxis": "y"
        },
        {
         "hovertemplate": "Country=United States<br>Year=%{x}<br>MarketShare_%=%{y}<extra></extra>",
         "legendgroup": "United States",
         "line": {
          "color": "#e2caA8",
          "dash": "solid"
         },
         "marker": {
          "symbol": "circle"
         },
         "mode": "lines+markers",
         "name": "United States",
         "orientation": "v",
         "showlegend": true,
         "type": "scatter",
         "x": {
          "bdata": "4AfhB+IH4wfkB+UH5gfnB+gH",
          "dtype": "i2"
         },
         "xaxis": "x",
         "y": {
          "bdata": "sXcxCVYO9j9xXs2yEev/P63CxeqmSAJAWSjGa0/HBkCl5Id2ecUSQJ5TLtBXvhZAUuNzoPd/G0DB4Z/MtrEgQLn35ZAMlSNA",
          "dtype": "f8"
         },
         "yaxis": "y"
        },
        {
         "hovertemplate": "Country=South Korea<br>Year=%{x}<br>MarketShare_%=%{y}<extra></extra>",
         "legendgroup": "South Korea",
         "line": {
          "color": "#F4A261",
          "dash": "solid"
         },
         "marker": {
          "symbol": "circle"
         },
         "mode": "lines+markers",
         "name": "South Korea",
         "orientation": "v",
         "showlegend": true,
         "type": "scatter",
         "x": {
          "bdata": "4QfiB+MH5AflB+YH5wfoBw==",
          "dtype": "i2"
         },
         "xaxis": "x",
         "y": {
          "bdata": "fGduJL6I/z+CAxb0XOcOQA49xRUSgBZAiqPFw0GgHkBV2b5XBtYkQGHBM33wnChAeNXgDCIMKkBaoOIJ8n4pQA==",
          "dtype": "f8"
         },
         "yaxis": "y"
        },
        {
         "hovertemplate": "Country=Sweden<br>Year=%{x}<br>MarketShare_%=%{y}<extra></extra>",
         "legendgroup": "Sweden",
         "line": {
          "color": "#0b5d9e",
          "dash": "solid"
         },
         "marker": {
          "symbol": "circle"
         },
         "mode": "lines+markers",
         "name": "Sweden",
         "orientation": "v",
         "showlegend": true,
         "type": "scatter",
         "x": {
          "bdata": "4gfjB+QH5QfmB+cH6Ac=",
          "dtype": "i2"
         },
         "xaxis": "x",
         "y": {
          "bdata": "INM11lrS8D9efJqfjsfyP6MiVarSrv4/rbSaoxtsDkAObCLZ9AYSQMcdb+eRtxRAwhDFR4YbFkA=",
          "dtype": "f8"
         },
         "yaxis": "y"
        },
        {
         "hovertemplate": "Country=India<br>Year=%{x}<br>MarketShare_%=%{y}<extra></extra>",
         "legendgroup": "India",
         "line": {
          "color": "#2A9D8F",
          "dash": "solid"
         },
         "marker": {
          "symbol": "circle"
         },
         "mode": "lines+markers",
         "name": "India",
         "orientation": "v",
         "showlegend": true,
         "type": "scatter",
         "x": {
          "bdata": "4wfkB+UH5gfnB+gH",
          "dtype": "i2"
         },
         "xaxis": "x",
         "y": {
          "bdata": "m8B/NlyO9D9ll7Jfxu3+P04g+CjwFgRA6QAA1AJLBEAkqAfPBq0DQO7SI3tDgwNA",
          "dtype": "f8"
         },
         "yaxis": "y"
        },
        {
         "hovertemplate": "Country=China<br>Year=%{x}<br>MarketShare_%=%{y}<extra></extra>",
         "legendgroup": "China",
         "line": {
          "color": "#E76F51",
          "dash": "solid"
         },
         "marker": {
          "symbol": "circle"
         },
         "mode": "lines+markers",
         "name": "China",
         "orientation": "v",
         "showlegend": true,
         "type": "scatter",
         "x": {
          "bdata": "5QfmB+cH6Ac=",
          "dtype": "i2"
         },
         "xaxis": "x",
         "y": {
          "bdata": "ZXZmA9kb8z/XEOtEJwn6PwS6tuPOEgJA9ydyU7AcBkA=",
          "dtype": "f8"
         },
         "yaxis": "y"
        }
       ],
       "layout": {
        "height": 550,
        "legend": {
         "title": {
          "text": "Parent Country"
         },
         "tracegroupgap": 0
        },
        "template": {
         "data": {
          "bar": [
           {
            "error_x": {
             "color": "#2a3f5f"
            },
            "error_y": {
             "color": "#2a3f5f"
            },
            "marker": {
             "line": {
              "color": "white",
              "width": 0.5
             },
             "pattern": {
              "fillmode": "overlay",
              "size": 10,
              "solidity": 0.2
             }
            },
            "type": "bar"
           }
          ],
          "barpolar": [
           {
            "marker": {
             "line": {
              "color": "white",
              "width": 0.5
             },
             "pattern": {
              "fillmode": "overlay",
              "size": 10,
              "solidity": 0.2
             }
            },
            "type": "barpolar"
           }
          ],
          "carpet": [
           {
            "aaxis": {
             "endlinecolor": "#2a3f5f",
             "gridcolor": "#C8D4E3",
             "linecolor": "#C8D4E3",
             "minorgridcolor": "#C8D4E3",
             "startlinecolor": "#2a3f5f"
            },
            "baxis": {
             "endlinecolor": "#2a3f5f",
             "gridcolor": "#C8D4E3",
             "linecolor": "#C8D4E3",
             "minorgridcolor": "#C8D4E3",
             "startlinecolor": "#2a3f5f"
            },
            "type": "carpet"
           }
          ],
          "choropleth": [
           {
            "colorbar": {
             "outlinewidth": 0,
             "ticks": ""
            },
            "type": "choropleth"
           }
          ],
          "contour": [
           {
            "colorbar": {
             "outlinewidth": 0,
             "ticks": ""
            },
            "colorscale": [
             [
              0,
              "#0d0887"
             ],
             [
              0.1111111111111111,
              "#46039f"
             ],
             [
              0.2222222222222222,
              "#7201a8"
             ],
             [
              0.3333333333333333,
              "#9c179e"
             ],
             [
              0.4444444444444444,
              "#bd3786"
             ],
             [
              0.5555555555555556,
              "#d8576b"
             ],
             [
              0.6666666666666666,
              "#ed7953"
             ],
             [
              0.7777777777777778,
              "#fb9f3a"
             ],
             [
              0.8888888888888888,
              "#fdca26"
             ],
             [
              1,
              "#f0f921"
             ]
            ],
            "type": "contour"
           }
          ],
          "contourcarpet": [
           {
            "colorbar": {
             "outlinewidth": 0,
             "ticks": ""
            },
            "type": "contourcarpet"
           }
          ],
          "heatmap": [
           {
            "colorbar": {
             "outlinewidth": 0,
             "ticks": ""
            },
            "colorscale": [
             [
              0,
              "#0d0887"
             ],
             [
              0.1111111111111111,
              "#46039f"
             ],
             [
              0.2222222222222222,
              "#7201a8"
             ],
             [
              0.3333333333333333,
              "#9c179e"
             ],
             [
              0.4444444444444444,
              "#bd3786"
             ],
             [
              0.5555555555555556,
              "#d8576b"
             ],
             [
              0.6666666666666666,
              "#ed7953"
             ],
             [
              0.7777777777777778,
              "#fb9f3a"
             ],
             [
              0.8888888888888888,
              "#fdca26"
             ],
             [
              1,
              "#f0f921"
             ]
            ],
            "type": "heatmap"
           }
          ],
          "histogram": [
           {
            "marker": {
             "pattern": {
              "fillmode": "overlay",
              "size": 10,
              "solidity": 0.2
             }
            },
            "type": "histogram"
           }
          ],
          "histogram2d": [
           {
            "colorbar": {
             "outlinewidth": 0,
             "ticks": ""
            },
            "colorscale": [
             [
              0,
              "#0d0887"
             ],
             [
              0.1111111111111111,
              "#46039f"
             ],
             [
              0.2222222222222222,
              "#7201a8"
             ],
             [
              0.3333333333333333,
              "#9c179e"
             ],
             [
              0.4444444444444444,
              "#bd3786"
             ],
             [
              0.5555555555555556,
              "#d8576b"
             ],
             [
              0.6666666666666666,
              "#ed7953"
             ],
             [
              0.7777777777777778,
              "#fb9f3a"
             ],
             [
              0.8888888888888888,
              "#fdca26"
             ],
             [
              1,
              "#f0f921"
             ]
            ],
            "type": "histogram2d"
           }
          ],
          "histogram2dcontour": [
           {
            "colorbar": {
             "outlinewidth": 0,
             "ticks": ""
            },
            "colorscale": [
             [
              0,
              "#0d0887"
             ],
             [
              0.1111111111111111,
              "#46039f"
             ],
             [
              0.2222222222222222,
              "#7201a8"
             ],
             [
              0.3333333333333333,
              "#9c179e"
             ],
             [
              0.4444444444444444,
              "#bd3786"
             ],
             [
              0.5555555555555556,
              "#d8576b"
             ],
             [
              0.6666666666666666,
              "#ed7953"
             ],
             [
              0.7777777777777778,
              "#fb9f3a"
             ],
             [
              0.8888888888888888,
              "#fdca26"
             ],
             [
              1,
              "#f0f921"
             ]
            ],
            "type": "histogram2dcontour"
           }
          ],
          "mesh3d": [
           {
            "colorbar": {
             "outlinewidth": 0,
             "ticks": ""
            },
            "type": "mesh3d"
           }
          ],
          "parcoords": [
           {
            "line": {
             "colorbar": {
              "outlinewidth": 0,
              "ticks": ""
             }
            },
            "type": "parcoords"
           }
          ],
          "pie": [
           {
            "automargin": true,
            "type": "pie"
           }
          ],
          "scatter": [
           {
            "fillpattern": {
             "fillmode": "overlay",
             "size": 10,
             "solidity": 0.2
            },
            "type": "scatter"
           }
          ],
          "scatter3d": [
           {
            "line": {
             "colorbar": {
              "outlinewidth": 0,
              "ticks": ""
             }
            },
            "marker": {
             "colorbar": {
              "outlinewidth": 0,
              "ticks": ""
             }
            },
            "type": "scatter3d"
           }
          ],
          "scattercarpet": [
           {
            "marker": {
             "colorbar": {
              "outlinewidth": 0,
              "ticks": ""
             }
            },
            "type": "scattercarpet"
           }
          ],
          "scattergeo": [
           {
            "marker": {
             "colorbar": {
              "outlinewidth": 0,
              "ticks": ""
             }
            },
            "type": "scattergeo"
           }
          ],
          "scattergl": [
           {
            "marker": {
             "colorbar": {
              "outlinewidth": 0,
              "ticks": ""
             }
            },
            "type": "scattergl"
           }
          ],
          "scattermap": [
           {
            "marker": {
             "colorbar": {
              "outlinewidth": 0,
              "ticks": ""
             }
            },
            "type": "scattermap"
           }
          ],
          "scattermapbox": [
           {
            "marker": {
             "colorbar": {
              "outlinewidth": 0,
              "ticks": ""
             }
            },
            "type": "scattermapbox"
           }
          ],
          "scatterpolar": [
           {
            "marker": {
             "colorbar": {
              "outlinewidth": 0,
              "ticks": ""
             }
            },
            "type": "scatterpolar"
           }
          ],
          "scatterpolargl": [
           {
            "marker": {
             "colorbar": {
              "outlinewidth": 0,
              "ticks": ""
             }
            },
            "type": "scatterpolargl"
           }
          ],
          "scatterternary": [
           {
            "marker": {
             "colorbar": {
              "outlinewidth": 0,
              "ticks": ""
             }
            },
            "type": "scatterternary"
           }
          ],
          "surface": [
           {
            "colorbar": {
             "outlinewidth": 0,
             "ticks": ""
            },
            "colorscale": [
             [
              0,
              "#0d0887"
             ],
             [
              0.1111111111111111,
              "#46039f"
             ],
             [
              0.2222222222222222,
              "#7201a8"
             ],
             [
              0.3333333333333333,
              "#9c179e"
             ],
             [
              0.4444444444444444,
              "#bd3786"
             ],
             [
              0.5555555555555556,
              "#d8576b"
             ],
             [
              0.6666666666666666,
              "#ed7953"
             ],
             [
              0.7777777777777778,
              "#fb9f3a"
             ],
             [
              0.8888888888888888,
              "#fdca26"
             ],
             [
              1,
              "#f0f921"
             ]
            ],
            "type": "surface"
           }
          ],
          "table": [
           {
            "cells": {
             "fill": {
              "color": "#EBF0F8"
             },
             "line": {
              "color": "white"
             }
            },
            "header": {
             "fill": {
              "color": "#C8D4E3"
             },
             "line": {
              "color": "white"
             }
            },
            "type": "table"
           }
          ]
         },
         "layout": {
          "annotationdefaults": {
           "arrowcolor": "#2a3f5f",
           "arrowhead": 0,
           "arrowwidth": 1
          },
          "autotypenumbers": "strict",
          "coloraxis": {
           "colorbar": {
            "outlinewidth": 0,
            "ticks": ""
           }
          },
          "colorscale": {
           "diverging": [
            [
             0,
             "#8e0152"
            ],
            [
             0.1,
             "#c51b7d"
            ],
            [
             0.2,
             "#de77ae"
            ],
            [
             0.3,
             "#f1b6da"
            ],
            [
             0.4,
             "#fde0ef"
            ],
            [
             0.5,
             "#f7f7f7"
            ],
            [
             0.6,
             "#e6f5d0"
            ],
            [
             0.7,
             "#b8e186"
            ],
            [
             0.8,
             "#7fbc41"
            ],
            [
             0.9,
             "#4d9221"
            ],
            [
             1,
             "#276419"
            ]
           ],
           "sequential": [
            [
             0,
             "#0d0887"
            ],
            [
             0.1111111111111111,
             "#46039f"
            ],
            [
             0.2222222222222222,
             "#7201a8"
            ],
            [
             0.3333333333333333,
             "#9c179e"
            ],
            [
             0.4444444444444444,
             "#bd3786"
            ],
            [
             0.5555555555555556,
             "#d8576b"
            ],
            [
             0.6666666666666666,
             "#ed7953"
            ],
            [
             0.7777777777777778,
             "#fb9f3a"
            ],
            [
             0.8888888888888888,
             "#fdca26"
            ],
            [
             1,
             "#f0f921"
            ]
           ],
           "sequentialminus": [
            [
             0,
             "#0d0887"
            ],
            [
             0.1111111111111111,
             "#46039f"
            ],
            [
             0.2222222222222222,
             "#7201a8"
            ],
            [
             0.3333333333333333,
             "#9c179e"
            ],
            [
             0.4444444444444444,
             "#bd3786"
            ],
            [
             0.5555555555555556,
             "#d8576b"
            ],
            [
             0.6666666666666666,
             "#ed7953"
            ],
            [
             0.7777777777777778,
             "#fb9f3a"
            ],
            [
             0.8888888888888888,
             "#fdca26"
            ],
            [
             1,
             "#f0f921"
            ]
           ]
          },
          "colorway": [
           "#636efa",
           "#EF553B",
           "#00cc96",
           "#ab63fa",
           "#FFA15A",
           "#19d3f3",
           "#FF6692",
           "#B6E880",
           "#FF97FF",
           "#FECB52"
          ],
          "font": {
           "color": "#2a3f5f"
          },
          "geo": {
           "bgcolor": "white",
           "lakecolor": "white",
           "landcolor": "white",
           "showlakes": true,
           "showland": true,
           "subunitcolor": "#C8D4E3"
          },
          "hoverlabel": {
           "align": "left"
          },
          "hovermode": "closest",
          "mapbox": {
           "style": "light"
          },
          "paper_bgcolor": "white",
          "plot_bgcolor": "white",
          "polar": {
           "angularaxis": {
            "gridcolor": "#EBF0F8",
            "linecolor": "#EBF0F8",
            "ticks": ""
           },
           "bgcolor": "white",
           "radialaxis": {
            "gridcolor": "#EBF0F8",
            "linecolor": "#EBF0F8",
            "ticks": ""
           }
          },
          "scene": {
           "xaxis": {
            "backgroundcolor": "white",
            "gridcolor": "#DFE8F3",
            "gridwidth": 2,
            "linecolor": "#EBF0F8",
            "showbackground": true,
            "ticks": "",
            "zerolinecolor": "#EBF0F8"
           },
           "yaxis": {
            "backgroundcolor": "white",
            "gridcolor": "#DFE8F3",
            "gridwidth": 2,
            "linecolor": "#EBF0F8",
            "showbackground": true,
            "ticks": "",
            "zerolinecolor": "#EBF0F8"
           },
           "zaxis": {
            "backgroundcolor": "white",
            "gridcolor": "#DFE8F3",
            "gridwidth": 2,
            "linecolor": "#EBF0F8",
            "showbackground": true,
            "ticks": "",
            "zerolinecolor": "#EBF0F8"
           }
          },
          "shapedefaults": {
           "line": {
            "color": "#2a3f5f"
           }
          },
          "ternary": {
           "aaxis": {
            "gridcolor": "#DFE8F3",
            "linecolor": "#A2B1C6",
            "ticks": ""
           },
           "baxis": {
            "gridcolor": "#DFE8F3",
            "linecolor": "#A2B1C6",
            "ticks": ""
           },
           "bgcolor": "white",
           "caxis": {
            "gridcolor": "#DFE8F3",
            "linecolor": "#A2B1C6",
            "ticks": ""
           }
          },
          "title": {
           "x": 0.05
          },
          "xaxis": {
           "automargin": true,
           "gridcolor": "#EBF0F8",
           "linecolor": "#EBF0F8",
           "ticks": "",
           "title": {
            "standoff": 15
           },
           "zerolinecolor": "#EBF0F8",
           "zerolinewidth": 2
          },
          "yaxis": {
           "automargin": true,
           "gridcolor": "#EBF0F8",
           "linecolor": "#EBF0F8",
           "ticks": "",
           "title": {
            "standoff": 15
           },
           "zerolinecolor": "#EBF0F8",
           "zerolinewidth": 2
          }
         }
        },
        "title": {
         "text": "Market Share of Vehicle Registrations by Country"
        },
        "width": 900,
        "xaxis": {
         "anchor": "y",
         "domain": [
          0,
          1
         ],
         "title": {
          "text": "Year"
         }
        },
        "yaxis": {
         "anchor": "x",
         "domain": [
          0,
          1
         ],
         "title": {
          "text": "Market Share (%)"
         }
        }
       }
      }
     },
     "metadata": {},
     "output_type": "display_data"
    }
   ],
   "source": [
    "# --- Aggregate total registrations by Year and Country ---\n",
    "country_share = (\n",
    "    df_ev.groupby([\"Year\", \"Country\"], as_index=False)[\"Registrations\"]\n",
    "         .sum()\n",
    ")\n",
    "\n",
    "# --- Compute market share (%) per year ---\n",
    "country_share[\"MarketShare_%\"] = (\n",
    "    country_share.groupby(\"Year\")[\"Registrations\"]\n",
    "                 .transform(lambda x: 100 * x / x.sum())\n",
    ")\n",
    "\n",
    "# --- Compute year-on-year change in market share ---\n",
    "country_share[\"YoY_Change_pp\"] = (\n",
    "    country_share.sort_values([\"Country\", \"Year\"])\n",
    "                 .groupby(\"Country\")[\"MarketShare_%\"]\n",
    "                 .diff()\n",
    ")\n",
    "\n",
    "# --- Optional: relative % change (rate-based) ---\n",
    "country_share[\"YoY_Change_%\"] = (\n",
    "    country_share.sort_values([\"Country\", \"Year\"])\n",
    "                 .groupby(\"Country\")[\"MarketShare_%\"]\n",
    "                 .pct_change() * 100\n",
    ")\n",
    "\n",
    "# --- Sort for readability (same structure as before) ---\n",
    "country_share = country_share.sort_values([\"Year\", \"MarketShare_%\"], ascending=[True, False])\n",
    "\n",
    "# --- Filter out minor countries (<1% share) ---\n",
    "country_share = country_share[country_share[\"MarketShare_%\"] > 1]\n",
    "\n",
    "country_share.head(10)\n",
    "\n",
    "\n",
    "# --- Line chart for market share trends ---\n",
    "fig = px.line(\n",
    "    country_share,\n",
    "    x=\"Year\",\n",
    "    y=\"MarketShare_%\",\n",
    "    color=\"Country\",\n",
    "    markers=True,\n",
    "    title=\"Market Share of Vehicle Registrations by Country\",\n",
    "    color_discrete_sequence=KES_palette\n",
    ")\n",
    "\n",
    "fig.update_layout(\n",
    "    xaxis_title=\"Year\",\n",
    "    yaxis_title=\"Market Share (%)\",\n",
    "    legend_title=\"Parent Country\",\n",
    "    template=\"plotly_white\",\n",
    "    width=900,\n",
    "    height=550\n",
    ")\n",
    "\n",
    "# --- Save outputs ---\n",
    "fig.write_image(FIG_DIR / \"country_share_trends.pdf\")\n",
    "\n",
    "fig.show()\n"
   ]
  },
  {
   "cell_type": "markdown",
   "id": "77e68458",
   "metadata": {},
   "source": [
    "### 4.1.4 Herfindahl–Hirschman Index (HHI) — Market Concentration by Year"
   ]
  },
  {
   "cell_type": "code",
   "execution_count": 14,
   "id": "d00ad5e2",
   "metadata": {},
   "outputs": [
    {
     "data": {
      "application/vnd.plotly.v1+json": {
       "config": {
        "plotlyServerURL": "https://plot.ly"
       },
       "data": [
        {
         "hovertemplate": "Year=%{x}<br>HHI_Index=%{y}<extra></extra>",
         "legendgroup": "",
         "line": {
          "color": "crimson",
          "dash": "solid"
         },
         "marker": {
          "symbol": "circle"
         },
         "mode": "lines+markers",
         "name": "",
         "orientation": "v",
         "showlegend": false,
         "type": "scatter",
         "x": {
          "bdata": "2wfcB90H3gffB+AH4QfiB+MH5AflB+YH5wfoBw==",
          "dtype": "i2"
         },
         "xaxis": "x",
         "y": {
          "bdata": "QFfaPAbd7j+5SPyCpzruP1iZZe8iTe0/ZDgH0oIH7D+7Y5qaCmzqP96Pv/CvAeg/xAYVwj1u5T8wN1ZOVWDjPzTLIPtCu+E/suZZ+p4q3T8/TZy9d3PVP7h9ovEo1dE/zgDDe7Nszz99S4l3u4/MPw==",
          "dtype": "f8"
         },
         "yaxis": "y"
        }
       ],
       "layout": {
        "height": 500,
        "legend": {
         "tracegroupgap": 0
        },
        "template": {
         "data": {
          "bar": [
           {
            "error_x": {
             "color": "#2a3f5f"
            },
            "error_y": {
             "color": "#2a3f5f"
            },
            "marker": {
             "line": {
              "color": "white",
              "width": 0.5
             },
             "pattern": {
              "fillmode": "overlay",
              "size": 10,
              "solidity": 0.2
             }
            },
            "type": "bar"
           }
          ],
          "barpolar": [
           {
            "marker": {
             "line": {
              "color": "white",
              "width": 0.5
             },
             "pattern": {
              "fillmode": "overlay",
              "size": 10,
              "solidity": 0.2
             }
            },
            "type": "barpolar"
           }
          ],
          "carpet": [
           {
            "aaxis": {
             "endlinecolor": "#2a3f5f",
             "gridcolor": "#C8D4E3",
             "linecolor": "#C8D4E3",
             "minorgridcolor": "#C8D4E3",
             "startlinecolor": "#2a3f5f"
            },
            "baxis": {
             "endlinecolor": "#2a3f5f",
             "gridcolor": "#C8D4E3",
             "linecolor": "#C8D4E3",
             "minorgridcolor": "#C8D4E3",
             "startlinecolor": "#2a3f5f"
            },
            "type": "carpet"
           }
          ],
          "choropleth": [
           {
            "colorbar": {
             "outlinewidth": 0,
             "ticks": ""
            },
            "type": "choropleth"
           }
          ],
          "contour": [
           {
            "colorbar": {
             "outlinewidth": 0,
             "ticks": ""
            },
            "colorscale": [
             [
              0,
              "#0d0887"
             ],
             [
              0.1111111111111111,
              "#46039f"
             ],
             [
              0.2222222222222222,
              "#7201a8"
             ],
             [
              0.3333333333333333,
              "#9c179e"
             ],
             [
              0.4444444444444444,
              "#bd3786"
             ],
             [
              0.5555555555555556,
              "#d8576b"
             ],
             [
              0.6666666666666666,
              "#ed7953"
             ],
             [
              0.7777777777777778,
              "#fb9f3a"
             ],
             [
              0.8888888888888888,
              "#fdca26"
             ],
             [
              1,
              "#f0f921"
             ]
            ],
            "type": "contour"
           }
          ],
          "contourcarpet": [
           {
            "colorbar": {
             "outlinewidth": 0,
             "ticks": ""
            },
            "type": "contourcarpet"
           }
          ],
          "heatmap": [
           {
            "colorbar": {
             "outlinewidth": 0,
             "ticks": ""
            },
            "colorscale": [
             [
              0,
              "#0d0887"
             ],
             [
              0.1111111111111111,
              "#46039f"
             ],
             [
              0.2222222222222222,
              "#7201a8"
             ],
             [
              0.3333333333333333,
              "#9c179e"
             ],
             [
              0.4444444444444444,
              "#bd3786"
             ],
             [
              0.5555555555555556,
              "#d8576b"
             ],
             [
              0.6666666666666666,
              "#ed7953"
             ],
             [
              0.7777777777777778,
              "#fb9f3a"
             ],
             [
              0.8888888888888888,
              "#fdca26"
             ],
             [
              1,
              "#f0f921"
             ]
            ],
            "type": "heatmap"
           }
          ],
          "histogram": [
           {
            "marker": {
             "pattern": {
              "fillmode": "overlay",
              "size": 10,
              "solidity": 0.2
             }
            },
            "type": "histogram"
           }
          ],
          "histogram2d": [
           {
            "colorbar": {
             "outlinewidth": 0,
             "ticks": ""
            },
            "colorscale": [
             [
              0,
              "#0d0887"
             ],
             [
              0.1111111111111111,
              "#46039f"
             ],
             [
              0.2222222222222222,
              "#7201a8"
             ],
             [
              0.3333333333333333,
              "#9c179e"
             ],
             [
              0.4444444444444444,
              "#bd3786"
             ],
             [
              0.5555555555555556,
              "#d8576b"
             ],
             [
              0.6666666666666666,
              "#ed7953"
             ],
             [
              0.7777777777777778,
              "#fb9f3a"
             ],
             [
              0.8888888888888888,
              "#fdca26"
             ],
             [
              1,
              "#f0f921"
             ]
            ],
            "type": "histogram2d"
           }
          ],
          "histogram2dcontour": [
           {
            "colorbar": {
             "outlinewidth": 0,
             "ticks": ""
            },
            "colorscale": [
             [
              0,
              "#0d0887"
             ],
             [
              0.1111111111111111,
              "#46039f"
             ],
             [
              0.2222222222222222,
              "#7201a8"
             ],
             [
              0.3333333333333333,
              "#9c179e"
             ],
             [
              0.4444444444444444,
              "#bd3786"
             ],
             [
              0.5555555555555556,
              "#d8576b"
             ],
             [
              0.6666666666666666,
              "#ed7953"
             ],
             [
              0.7777777777777778,
              "#fb9f3a"
             ],
             [
              0.8888888888888888,
              "#fdca26"
             ],
             [
              1,
              "#f0f921"
             ]
            ],
            "type": "histogram2dcontour"
           }
          ],
          "mesh3d": [
           {
            "colorbar": {
             "outlinewidth": 0,
             "ticks": ""
            },
            "type": "mesh3d"
           }
          ],
          "parcoords": [
           {
            "line": {
             "colorbar": {
              "outlinewidth": 0,
              "ticks": ""
             }
            },
            "type": "parcoords"
           }
          ],
          "pie": [
           {
            "automargin": true,
            "type": "pie"
           }
          ],
          "scatter": [
           {
            "fillpattern": {
             "fillmode": "overlay",
             "size": 10,
             "solidity": 0.2
            },
            "type": "scatter"
           }
          ],
          "scatter3d": [
           {
            "line": {
             "colorbar": {
              "outlinewidth": 0,
              "ticks": ""
             }
            },
            "marker": {
             "colorbar": {
              "outlinewidth": 0,
              "ticks": ""
             }
            },
            "type": "scatter3d"
           }
          ],
          "scattercarpet": [
           {
            "marker": {
             "colorbar": {
              "outlinewidth": 0,
              "ticks": ""
             }
            },
            "type": "scattercarpet"
           }
          ],
          "scattergeo": [
           {
            "marker": {
             "colorbar": {
              "outlinewidth": 0,
              "ticks": ""
             }
            },
            "type": "scattergeo"
           }
          ],
          "scattergl": [
           {
            "marker": {
             "colorbar": {
              "outlinewidth": 0,
              "ticks": ""
             }
            },
            "type": "scattergl"
           }
          ],
          "scattermap": [
           {
            "marker": {
             "colorbar": {
              "outlinewidth": 0,
              "ticks": ""
             }
            },
            "type": "scattermap"
           }
          ],
          "scattermapbox": [
           {
            "marker": {
             "colorbar": {
              "outlinewidth": 0,
              "ticks": ""
             }
            },
            "type": "scattermapbox"
           }
          ],
          "scatterpolar": [
           {
            "marker": {
             "colorbar": {
              "outlinewidth": 0,
              "ticks": ""
             }
            },
            "type": "scatterpolar"
           }
          ],
          "scatterpolargl": [
           {
            "marker": {
             "colorbar": {
              "outlinewidth": 0,
              "ticks": ""
             }
            },
            "type": "scatterpolargl"
           }
          ],
          "scatterternary": [
           {
            "marker": {
             "colorbar": {
              "outlinewidth": 0,
              "ticks": ""
             }
            },
            "type": "scatterternary"
           }
          ],
          "surface": [
           {
            "colorbar": {
             "outlinewidth": 0,
             "ticks": ""
            },
            "colorscale": [
             [
              0,
              "#0d0887"
             ],
             [
              0.1111111111111111,
              "#46039f"
             ],
             [
              0.2222222222222222,
              "#7201a8"
             ],
             [
              0.3333333333333333,
              "#9c179e"
             ],
             [
              0.4444444444444444,
              "#bd3786"
             ],
             [
              0.5555555555555556,
              "#d8576b"
             ],
             [
              0.6666666666666666,
              "#ed7953"
             ],
             [
              0.7777777777777778,
              "#fb9f3a"
             ],
             [
              0.8888888888888888,
              "#fdca26"
             ],
             [
              1,
              "#f0f921"
             ]
            ],
            "type": "surface"
           }
          ],
          "table": [
           {
            "cells": {
             "fill": {
              "color": "#EBF0F8"
             },
             "line": {
              "color": "white"
             }
            },
            "header": {
             "fill": {
              "color": "#C8D4E3"
             },
             "line": {
              "color": "white"
             }
            },
            "type": "table"
           }
          ]
         },
         "layout": {
          "annotationdefaults": {
           "arrowcolor": "#2a3f5f",
           "arrowhead": 0,
           "arrowwidth": 1
          },
          "autotypenumbers": "strict",
          "coloraxis": {
           "colorbar": {
            "outlinewidth": 0,
            "ticks": ""
           }
          },
          "colorscale": {
           "diverging": [
            [
             0,
             "#8e0152"
            ],
            [
             0.1,
             "#c51b7d"
            ],
            [
             0.2,
             "#de77ae"
            ],
            [
             0.3,
             "#f1b6da"
            ],
            [
             0.4,
             "#fde0ef"
            ],
            [
             0.5,
             "#f7f7f7"
            ],
            [
             0.6,
             "#e6f5d0"
            ],
            [
             0.7,
             "#b8e186"
            ],
            [
             0.8,
             "#7fbc41"
            ],
            [
             0.9,
             "#4d9221"
            ],
            [
             1,
             "#276419"
            ]
           ],
           "sequential": [
            [
             0,
             "#0d0887"
            ],
            [
             0.1111111111111111,
             "#46039f"
            ],
            [
             0.2222222222222222,
             "#7201a8"
            ],
            [
             0.3333333333333333,
             "#9c179e"
            ],
            [
             0.4444444444444444,
             "#bd3786"
            ],
            [
             0.5555555555555556,
             "#d8576b"
            ],
            [
             0.6666666666666666,
             "#ed7953"
            ],
            [
             0.7777777777777778,
             "#fb9f3a"
            ],
            [
             0.8888888888888888,
             "#fdca26"
            ],
            [
             1,
             "#f0f921"
            ]
           ],
           "sequentialminus": [
            [
             0,
             "#0d0887"
            ],
            [
             0.1111111111111111,
             "#46039f"
            ],
            [
             0.2222222222222222,
             "#7201a8"
            ],
            [
             0.3333333333333333,
             "#9c179e"
            ],
            [
             0.4444444444444444,
             "#bd3786"
            ],
            [
             0.5555555555555556,
             "#d8576b"
            ],
            [
             0.6666666666666666,
             "#ed7953"
            ],
            [
             0.7777777777777778,
             "#fb9f3a"
            ],
            [
             0.8888888888888888,
             "#fdca26"
            ],
            [
             1,
             "#f0f921"
            ]
           ]
          },
          "colorway": [
           "#636efa",
           "#EF553B",
           "#00cc96",
           "#ab63fa",
           "#FFA15A",
           "#19d3f3",
           "#FF6692",
           "#B6E880",
           "#FF97FF",
           "#FECB52"
          ],
          "font": {
           "color": "#2a3f5f"
          },
          "geo": {
           "bgcolor": "white",
           "lakecolor": "white",
           "landcolor": "white",
           "showlakes": true,
           "showland": true,
           "subunitcolor": "#C8D4E3"
          },
          "hoverlabel": {
           "align": "left"
          },
          "hovermode": "closest",
          "mapbox": {
           "style": "light"
          },
          "paper_bgcolor": "white",
          "plot_bgcolor": "white",
          "polar": {
           "angularaxis": {
            "gridcolor": "#EBF0F8",
            "linecolor": "#EBF0F8",
            "ticks": ""
           },
           "bgcolor": "white",
           "radialaxis": {
            "gridcolor": "#EBF0F8",
            "linecolor": "#EBF0F8",
            "ticks": ""
           }
          },
          "scene": {
           "xaxis": {
            "backgroundcolor": "white",
            "gridcolor": "#DFE8F3",
            "gridwidth": 2,
            "linecolor": "#EBF0F8",
            "showbackground": true,
            "ticks": "",
            "zerolinecolor": "#EBF0F8"
           },
           "yaxis": {
            "backgroundcolor": "white",
            "gridcolor": "#DFE8F3",
            "gridwidth": 2,
            "linecolor": "#EBF0F8",
            "showbackground": true,
            "ticks": "",
            "zerolinecolor": "#EBF0F8"
           },
           "zaxis": {
            "backgroundcolor": "white",
            "gridcolor": "#DFE8F3",
            "gridwidth": 2,
            "linecolor": "#EBF0F8",
            "showbackground": true,
            "ticks": "",
            "zerolinecolor": "#EBF0F8"
           }
          },
          "shapedefaults": {
           "line": {
            "color": "#2a3f5f"
           }
          },
          "ternary": {
           "aaxis": {
            "gridcolor": "#DFE8F3",
            "linecolor": "#A2B1C6",
            "ticks": ""
           },
           "baxis": {
            "gridcolor": "#DFE8F3",
            "linecolor": "#A2B1C6",
            "ticks": ""
           },
           "bgcolor": "white",
           "caxis": {
            "gridcolor": "#DFE8F3",
            "linecolor": "#A2B1C6",
            "ticks": ""
           }
          },
          "title": {
           "x": 0.05
          },
          "xaxis": {
           "automargin": true,
           "gridcolor": "#EBF0F8",
           "linecolor": "#EBF0F8",
           "ticks": "",
           "title": {
            "standoff": 15
           },
           "zerolinecolor": "#EBF0F8",
           "zerolinewidth": 2
          },
          "yaxis": {
           "automargin": true,
           "gridcolor": "#EBF0F8",
           "linecolor": "#EBF0F8",
           "ticks": "",
           "title": {
            "standoff": 15
           },
           "zerolinecolor": "#EBF0F8",
           "zerolinewidth": 2
          }
         }
        },
        "title": {
         "text": "Market Concentration (HHI Index) Over Time"
        },
        "width": 850,
        "xaxis": {
         "anchor": "y",
         "domain": [
          0,
          1
         ],
         "title": {
          "text": "Year"
         }
        },
        "yaxis": {
         "anchor": "x",
         "domain": [
          0,
          1
         ],
         "title": {
          "text": "HHI Index (0-1 scale)"
         }
        }
       }
      }
     },
     "metadata": {},
     "output_type": "display_data"
    }
   ],
   "source": [
    "# HHI = sum of squared market shares (%)\n",
    "hhi = (\n",
    "    country_share.groupby(\"Year\", as_index=False)[\"MarketShare_%\"]\n",
    "                 .apply(lambda x: (x**2).sum())\n",
    "                 .rename(columns={\"MarketShare_%\": \"HHI\"})\n",
    ")\n",
    "hhi[\"HHI_Index\"] = hhi[\"HHI\"] / 10000  # normalize to 0–1 range\n",
    "hhi\n",
    "\n",
    "\n",
    "# --- Calculate HHI ---\n",
    "hhi = (\n",
    "    country_share.groupby(\"Year\", as_index=False)[\"MarketShare_%\"]\n",
    "                 .apply(lambda x: (x**2).sum())\n",
    "                 .rename(columns={\"MarketShare_%\": \"HHI\"})\n",
    ")\n",
    "hhi[\"HHI_Index\"] = hhi[\"HHI\"] / 10000  # normalize to 0–1\n",
    "\n",
    "# --- Plot HHI over time ---\n",
    "fig = px.line(\n",
    "    hhi,\n",
    "    x=\"Year\",\n",
    "    y=\"HHI_Index\",\n",
    "    markers=True,\n",
    "    title=\"Market Concentration (HHI Index) Over Time\",\n",
    "    color_discrete_sequence=[\"crimson\"]\n",
    ")\n",
    "\n",
    "fig.update_layout(\n",
    "    xaxis_title=\"Year\",\n",
    "    yaxis_title=\"HHI Index (0-1 scale)\",\n",
    "    template=\"plotly_white\",\n",
    "    width=850,\n",
    "    height=500\n",
    ")\n",
    "\n",
    "# --- Save outputs ---\n",
    "fig.write_image(FIG_DIR / \"hhi_trend.pdf\")\n",
    "\n",
    "fig.show()\n"
   ]
  },
  {
   "cell_type": "markdown",
   "id": "f88cb4fb",
   "metadata": {},
   "source": [
    "### 4.1.5 EV Penetration Over Time (Electric vs Total)"
   ]
  },
  {
   "cell_type": "code",
   "execution_count": 15,
   "id": "b2259f56",
   "metadata": {},
   "outputs": [
    {
     "data": {
      "application/vnd.plotly.v1+json": {
       "config": {
        "plotlyServerURL": "https://plot.ly"
       },
       "data": [
        {
         "hovertemplate": "Year=%{x}<br>EV_Share_%=%{y}<extra></extra>",
         "legendgroup": "",
         "line": {
          "color": "green",
          "dash": "solid"
         },
         "marker": {
          "symbol": "circle"
         },
         "mode": "lines+markers",
         "name": "",
         "orientation": "v",
         "showlegend": false,
         "type": "scatter",
         "x": {
          "bdata": "2wfcB90H3gffB+AH4QfiB+MH5AflB+YH5wfoBw==",
          "dtype": "i2"
         },
         "xaxis": "x",
         "y": {
          "bdata": "Z9vXZ/cA1j/qJqLrqR/bP+hgn9O3WuA/m37XjkRc5D+tDT1j9D7qPzsgtNu43PA/DE//Apmi9T88FQ/RdJf7P0eYBNhJUwFAybuKJucrB0Cg2ypRFXkRQPSgyH++NBlAon46LZkuIUB+Wr1vCdkmQA==",
          "dtype": "f8"
         },
         "yaxis": "y"
        }
       ],
       "layout": {
        "height": 500,
        "legend": {
         "tracegroupgap": 0
        },
        "template": {
         "data": {
          "bar": [
           {
            "error_x": {
             "color": "#2a3f5f"
            },
            "error_y": {
             "color": "#2a3f5f"
            },
            "marker": {
             "line": {
              "color": "white",
              "width": 0.5
             },
             "pattern": {
              "fillmode": "overlay",
              "size": 10,
              "solidity": 0.2
             }
            },
            "type": "bar"
           }
          ],
          "barpolar": [
           {
            "marker": {
             "line": {
              "color": "white",
              "width": 0.5
             },
             "pattern": {
              "fillmode": "overlay",
              "size": 10,
              "solidity": 0.2
             }
            },
            "type": "barpolar"
           }
          ],
          "carpet": [
           {
            "aaxis": {
             "endlinecolor": "#2a3f5f",
             "gridcolor": "#C8D4E3",
             "linecolor": "#C8D4E3",
             "minorgridcolor": "#C8D4E3",
             "startlinecolor": "#2a3f5f"
            },
            "baxis": {
             "endlinecolor": "#2a3f5f",
             "gridcolor": "#C8D4E3",
             "linecolor": "#C8D4E3",
             "minorgridcolor": "#C8D4E3",
             "startlinecolor": "#2a3f5f"
            },
            "type": "carpet"
           }
          ],
          "choropleth": [
           {
            "colorbar": {
             "outlinewidth": 0,
             "ticks": ""
            },
            "type": "choropleth"
           }
          ],
          "contour": [
           {
            "colorbar": {
             "outlinewidth": 0,
             "ticks": ""
            },
            "colorscale": [
             [
              0,
              "#0d0887"
             ],
             [
              0.1111111111111111,
              "#46039f"
             ],
             [
              0.2222222222222222,
              "#7201a8"
             ],
             [
              0.3333333333333333,
              "#9c179e"
             ],
             [
              0.4444444444444444,
              "#bd3786"
             ],
             [
              0.5555555555555556,
              "#d8576b"
             ],
             [
              0.6666666666666666,
              "#ed7953"
             ],
             [
              0.7777777777777778,
              "#fb9f3a"
             ],
             [
              0.8888888888888888,
              "#fdca26"
             ],
             [
              1,
              "#f0f921"
             ]
            ],
            "type": "contour"
           }
          ],
          "contourcarpet": [
           {
            "colorbar": {
             "outlinewidth": 0,
             "ticks": ""
            },
            "type": "contourcarpet"
           }
          ],
          "heatmap": [
           {
            "colorbar": {
             "outlinewidth": 0,
             "ticks": ""
            },
            "colorscale": [
             [
              0,
              "#0d0887"
             ],
             [
              0.1111111111111111,
              "#46039f"
             ],
             [
              0.2222222222222222,
              "#7201a8"
             ],
             [
              0.3333333333333333,
              "#9c179e"
             ],
             [
              0.4444444444444444,
              "#bd3786"
             ],
             [
              0.5555555555555556,
              "#d8576b"
             ],
             [
              0.6666666666666666,
              "#ed7953"
             ],
             [
              0.7777777777777778,
              "#fb9f3a"
             ],
             [
              0.8888888888888888,
              "#fdca26"
             ],
             [
              1,
              "#f0f921"
             ]
            ],
            "type": "heatmap"
           }
          ],
          "histogram": [
           {
            "marker": {
             "pattern": {
              "fillmode": "overlay",
              "size": 10,
              "solidity": 0.2
             }
            },
            "type": "histogram"
           }
          ],
          "histogram2d": [
           {
            "colorbar": {
             "outlinewidth": 0,
             "ticks": ""
            },
            "colorscale": [
             [
              0,
              "#0d0887"
             ],
             [
              0.1111111111111111,
              "#46039f"
             ],
             [
              0.2222222222222222,
              "#7201a8"
             ],
             [
              0.3333333333333333,
              "#9c179e"
             ],
             [
              0.4444444444444444,
              "#bd3786"
             ],
             [
              0.5555555555555556,
              "#d8576b"
             ],
             [
              0.6666666666666666,
              "#ed7953"
             ],
             [
              0.7777777777777778,
              "#fb9f3a"
             ],
             [
              0.8888888888888888,
              "#fdca26"
             ],
             [
              1,
              "#f0f921"
             ]
            ],
            "type": "histogram2d"
           }
          ],
          "histogram2dcontour": [
           {
            "colorbar": {
             "outlinewidth": 0,
             "ticks": ""
            },
            "colorscale": [
             [
              0,
              "#0d0887"
             ],
             [
              0.1111111111111111,
              "#46039f"
             ],
             [
              0.2222222222222222,
              "#7201a8"
             ],
             [
              0.3333333333333333,
              "#9c179e"
             ],
             [
              0.4444444444444444,
              "#bd3786"
             ],
             [
              0.5555555555555556,
              "#d8576b"
             ],
             [
              0.6666666666666666,
              "#ed7953"
             ],
             [
              0.7777777777777778,
              "#fb9f3a"
             ],
             [
              0.8888888888888888,
              "#fdca26"
             ],
             [
              1,
              "#f0f921"
             ]
            ],
            "type": "histogram2dcontour"
           }
          ],
          "mesh3d": [
           {
            "colorbar": {
             "outlinewidth": 0,
             "ticks": ""
            },
            "type": "mesh3d"
           }
          ],
          "parcoords": [
           {
            "line": {
             "colorbar": {
              "outlinewidth": 0,
              "ticks": ""
             }
            },
            "type": "parcoords"
           }
          ],
          "pie": [
           {
            "automargin": true,
            "type": "pie"
           }
          ],
          "scatter": [
           {
            "fillpattern": {
             "fillmode": "overlay",
             "size": 10,
             "solidity": 0.2
            },
            "type": "scatter"
           }
          ],
          "scatter3d": [
           {
            "line": {
             "colorbar": {
              "outlinewidth": 0,
              "ticks": ""
             }
            },
            "marker": {
             "colorbar": {
              "outlinewidth": 0,
              "ticks": ""
             }
            },
            "type": "scatter3d"
           }
          ],
          "scattercarpet": [
           {
            "marker": {
             "colorbar": {
              "outlinewidth": 0,
              "ticks": ""
             }
            },
            "type": "scattercarpet"
           }
          ],
          "scattergeo": [
           {
            "marker": {
             "colorbar": {
              "outlinewidth": 0,
              "ticks": ""
             }
            },
            "type": "scattergeo"
           }
          ],
          "scattergl": [
           {
            "marker": {
             "colorbar": {
              "outlinewidth": 0,
              "ticks": ""
             }
            },
            "type": "scattergl"
           }
          ],
          "scattermap": [
           {
            "marker": {
             "colorbar": {
              "outlinewidth": 0,
              "ticks": ""
             }
            },
            "type": "scattermap"
           }
          ],
          "scattermapbox": [
           {
            "marker": {
             "colorbar": {
              "outlinewidth": 0,
              "ticks": ""
             }
            },
            "type": "scattermapbox"
           }
          ],
          "scatterpolar": [
           {
            "marker": {
             "colorbar": {
              "outlinewidth": 0,
              "ticks": ""
             }
            },
            "type": "scatterpolar"
           }
          ],
          "scatterpolargl": [
           {
            "marker": {
             "colorbar": {
              "outlinewidth": 0,
              "ticks": ""
             }
            },
            "type": "scatterpolargl"
           }
          ],
          "scatterternary": [
           {
            "marker": {
             "colorbar": {
              "outlinewidth": 0,
              "ticks": ""
             }
            },
            "type": "scatterternary"
           }
          ],
          "surface": [
           {
            "colorbar": {
             "outlinewidth": 0,
             "ticks": ""
            },
            "colorscale": [
             [
              0,
              "#0d0887"
             ],
             [
              0.1111111111111111,
              "#46039f"
             ],
             [
              0.2222222222222222,
              "#7201a8"
             ],
             [
              0.3333333333333333,
              "#9c179e"
             ],
             [
              0.4444444444444444,
              "#bd3786"
             ],
             [
              0.5555555555555556,
              "#d8576b"
             ],
             [
              0.6666666666666666,
              "#ed7953"
             ],
             [
              0.7777777777777778,
              "#fb9f3a"
             ],
             [
              0.8888888888888888,
              "#fdca26"
             ],
             [
              1,
              "#f0f921"
             ]
            ],
            "type": "surface"
           }
          ],
          "table": [
           {
            "cells": {
             "fill": {
              "color": "#EBF0F8"
             },
             "line": {
              "color": "white"
             }
            },
            "header": {
             "fill": {
              "color": "#C8D4E3"
             },
             "line": {
              "color": "white"
             }
            },
            "type": "table"
           }
          ]
         },
         "layout": {
          "annotationdefaults": {
           "arrowcolor": "#2a3f5f",
           "arrowhead": 0,
           "arrowwidth": 1
          },
          "autotypenumbers": "strict",
          "coloraxis": {
           "colorbar": {
            "outlinewidth": 0,
            "ticks": ""
           }
          },
          "colorscale": {
           "diverging": [
            [
             0,
             "#8e0152"
            ],
            [
             0.1,
             "#c51b7d"
            ],
            [
             0.2,
             "#de77ae"
            ],
            [
             0.3,
             "#f1b6da"
            ],
            [
             0.4,
             "#fde0ef"
            ],
            [
             0.5,
             "#f7f7f7"
            ],
            [
             0.6,
             "#e6f5d0"
            ],
            [
             0.7,
             "#b8e186"
            ],
            [
             0.8,
             "#7fbc41"
            ],
            [
             0.9,
             "#4d9221"
            ],
            [
             1,
             "#276419"
            ]
           ],
           "sequential": [
            [
             0,
             "#0d0887"
            ],
            [
             0.1111111111111111,
             "#46039f"
            ],
            [
             0.2222222222222222,
             "#7201a8"
            ],
            [
             0.3333333333333333,
             "#9c179e"
            ],
            [
             0.4444444444444444,
             "#bd3786"
            ],
            [
             0.5555555555555556,
             "#d8576b"
            ],
            [
             0.6666666666666666,
             "#ed7953"
            ],
            [
             0.7777777777777778,
             "#fb9f3a"
            ],
            [
             0.8888888888888888,
             "#fdca26"
            ],
            [
             1,
             "#f0f921"
            ]
           ],
           "sequentialminus": [
            [
             0,
             "#0d0887"
            ],
            [
             0.1111111111111111,
             "#46039f"
            ],
            [
             0.2222222222222222,
             "#7201a8"
            ],
            [
             0.3333333333333333,
             "#9c179e"
            ],
            [
             0.4444444444444444,
             "#bd3786"
            ],
            [
             0.5555555555555556,
             "#d8576b"
            ],
            [
             0.6666666666666666,
             "#ed7953"
            ],
            [
             0.7777777777777778,
             "#fb9f3a"
            ],
            [
             0.8888888888888888,
             "#fdca26"
            ],
            [
             1,
             "#f0f921"
            ]
           ]
          },
          "colorway": [
           "#636efa",
           "#EF553B",
           "#00cc96",
           "#ab63fa",
           "#FFA15A",
           "#19d3f3",
           "#FF6692",
           "#B6E880",
           "#FF97FF",
           "#FECB52"
          ],
          "font": {
           "color": "#2a3f5f"
          },
          "geo": {
           "bgcolor": "white",
           "lakecolor": "white",
           "landcolor": "white",
           "showlakes": true,
           "showland": true,
           "subunitcolor": "#C8D4E3"
          },
          "hoverlabel": {
           "align": "left"
          },
          "hovermode": "closest",
          "mapbox": {
           "style": "light"
          },
          "paper_bgcolor": "white",
          "plot_bgcolor": "white",
          "polar": {
           "angularaxis": {
            "gridcolor": "#EBF0F8",
            "linecolor": "#EBF0F8",
            "ticks": ""
           },
           "bgcolor": "white",
           "radialaxis": {
            "gridcolor": "#EBF0F8",
            "linecolor": "#EBF0F8",
            "ticks": ""
           }
          },
          "scene": {
           "xaxis": {
            "backgroundcolor": "white",
            "gridcolor": "#DFE8F3",
            "gridwidth": 2,
            "linecolor": "#EBF0F8",
            "showbackground": true,
            "ticks": "",
            "zerolinecolor": "#EBF0F8"
           },
           "yaxis": {
            "backgroundcolor": "white",
            "gridcolor": "#DFE8F3",
            "gridwidth": 2,
            "linecolor": "#EBF0F8",
            "showbackground": true,
            "ticks": "",
            "zerolinecolor": "#EBF0F8"
           },
           "zaxis": {
            "backgroundcolor": "white",
            "gridcolor": "#DFE8F3",
            "gridwidth": 2,
            "linecolor": "#EBF0F8",
            "showbackground": true,
            "ticks": "",
            "zerolinecolor": "#EBF0F8"
           }
          },
          "shapedefaults": {
           "line": {
            "color": "#2a3f5f"
           }
          },
          "ternary": {
           "aaxis": {
            "gridcolor": "#DFE8F3",
            "linecolor": "#A2B1C6",
            "ticks": ""
           },
           "baxis": {
            "gridcolor": "#DFE8F3",
            "linecolor": "#A2B1C6",
            "ticks": ""
           },
           "bgcolor": "white",
           "caxis": {
            "gridcolor": "#DFE8F3",
            "linecolor": "#A2B1C6",
            "ticks": ""
           }
          },
          "title": {
           "x": 0.05
          },
          "xaxis": {
           "automargin": true,
           "gridcolor": "#EBF0F8",
           "linecolor": "#EBF0F8",
           "ticks": "",
           "title": {
            "standoff": 15
           },
           "zerolinecolor": "#EBF0F8",
           "zerolinewidth": 2
          },
          "yaxis": {
           "automargin": true,
           "gridcolor": "#EBF0F8",
           "linecolor": "#EBF0F8",
           "ticks": "",
           "title": {
            "standoff": 15
           },
           "zerolinecolor": "#EBF0F8",
           "zerolinewidth": 2
          }
         }
        },
        "title": {
         "text": "Electric Vehicle (EV) Penetration Over Time"
        },
        "width": 850,
        "xaxis": {
         "anchor": "y",
         "domain": [
          0,
          1
         ],
         "title": {
          "text": "Year"
         }
        },
        "yaxis": {
         "anchor": "x",
         "domain": [
          0,
          1
         ],
         "title": {
          "text": "EV Share (%)"
         }
        }
       }
      }
     },
     "metadata": {},
     "output_type": "display_data"
    }
   ],
   "source": [
    "# --- Total market by year (all fuels) ---\n",
    "total_by_year = (\n",
    "    df_veh_raw.groupby(\"Year\")[\"Registrations\"].sum()\n",
    "              .rename(\"Total_All\")\n",
    ")\n",
    "\n",
    "# --- Total EV by year (only electric vehicles) ---\n",
    "ev_by_year = (\n",
    "    df_ev.groupby(\"Year\")[\"Registrations\"].sum()\n",
    "         .rename(\"EV_Total\")\n",
    ")\n",
    "\n",
    "# --- Compute EV penetration (EV share of total registrations) ---\n",
    "ev_penetration = (\n",
    "    pd.concat([total_by_year, ev_by_year], axis=1)\n",
    "      .fillna(0)\n",
    "      .reset_index()\n",
    ")\n",
    "ev_penetration[\"EV_Share_%\"] = 100 * ev_penetration[\"EV_Total\"] / ev_penetration[\"Total_All\"]\n",
    "ev_penetration = ev_penetration[[\"Year\", \"EV_Share_%\"]]\n",
    "\n",
    "# --- Plot ---\n",
    "fig = px.line(\n",
    "    ev_penetration,\n",
    "    x=\"Year\",\n",
    "    y=\"EV_Share_%\",\n",
    "    markers=True,\n",
    "    title=\"Electric Vehicle (EV) Penetration Over Time\",\n",
    "    color_discrete_sequence=[\"green\"]\n",
    ")\n",
    "\n",
    "fig.update_layout(\n",
    "    xaxis_title=\"Year\",\n",
    "    yaxis_title=\"EV Share (%)\",\n",
    "    template=\"plotly_white\",\n",
    "    width=850,\n",
    "    height=500\n",
    ")\n",
    "\n",
    "# --- Save ---\n",
    "fig.write_image(FIG_DIR / \"ev_penetration.pdf\")\n",
    "\n",
    "fig.show()"
   ]
  },
  {
   "cell_type": "markdown",
   "id": "02af4317",
   "metadata": {},
   "source": [
    "### 4.1.6 Top Parent Countries by Market Share (Last Available Year)"
   ]
  },
  {
   "cell_type": "code",
   "execution_count": 16,
   "id": "99413277",
   "metadata": {},
   "outputs": [
    {
     "data": {
      "application/vnd.plotly.v1+json": {
       "config": {
        "plotlyServerURL": "https://plot.ly"
       },
       "data": [
        {
         "hovertemplate": "Country=%{x}<br>MarketShare_%=%{y}<br>text=%{text}<extra></extra>",
         "legendgroup": "Japan",
         "marker": {
          "color": "#780000",
          "pattern": {
           "shape": ""
          }
         },
         "name": "Japan",
         "orientation": "v",
         "showlegend": true,
         "text": [
          "36.3%"
         ],
         "textposition": "outside",
         "type": "bar",
         "x": [
          "Japan"
         ],
         "xaxis": "x",
         "y": {
          "bdata": "VfHd0SsmQkA=",
          "dtype": "f8"
         },
         "yaxis": "y"
        },
        {
         "hovertemplate": "Country=%{x}<br>MarketShare_%=%{y}<br>text=%{text}<extra></extra>",
         "legendgroup": "Germany",
         "marker": {
          "color": "#1D3557",
          "pattern": {
           "shape": ""
          }
         },
         "name": "Germany",
         "orientation": "v",
         "showlegend": true,
         "text": [
          "24.35%"
         ],
         "textposition": "outside",
         "type": "bar",
         "x": [
          "Germany"
         ],
         "xaxis": "x",
         "y": {
          "bdata": "Y8NUDF1YOEA=",
          "dtype": "f8"
         },
         "yaxis": "y"
        },
        {
         "hovertemplate": "Country=%{x}<br>MarketShare_%=%{y}<br>text=%{text}<extra></extra>",
         "legendgroup": "South Korea",
         "marker": {
          "color": "#A8DADC",
          "pattern": {
           "shape": ""
          }
         },
         "name": "South Korea",
         "orientation": "v",
         "showlegend": true,
         "text": [
          "12.75%"
         ],
         "textposition": "outside",
         "type": "bar",
         "x": [
          "South Korea"
         ],
         "xaxis": "x",
         "y": {
          "bdata": "WqDiCfJ+KUA=",
          "dtype": "f8"
         },
         "yaxis": "y"
        },
        {
         "hovertemplate": "Country=%{x}<br>MarketShare_%=%{y}<br>text=%{text}<extra></extra>",
         "legendgroup": "United States",
         "marker": {
          "color": "#572523",
          "pattern": {
           "shape": ""
          }
         },
         "name": "United States",
         "orientation": "v",
         "showlegend": true,
         "text": [
          "9.79%"
         ],
         "textposition": "outside",
         "type": "bar",
         "x": [
          "United States"
         ],
         "xaxis": "x",
         "y": {
          "bdata": "ufflkAyVI0A=",
          "dtype": "f8"
         },
         "yaxis": "y"
        },
        {
         "hovertemplate": "Country=%{x}<br>MarketShare_%=%{y}<br>text=%{text}<extra></extra>",
         "legendgroup": "Sweden",
         "marker": {
          "color": "#e2caA8",
          "pattern": {
           "shape": ""
          }
         },
         "name": "Sweden",
         "orientation": "v",
         "showlegend": true,
         "text": [
          "5.53%"
         ],
         "textposition": "outside",
         "type": "bar",
         "x": [
          "Sweden"
         ],
         "xaxis": "x",
         "y": {
          "bdata": "whDFR4YbFkA=",
          "dtype": "f8"
         },
         "yaxis": "y"
        },
        {
         "hovertemplate": "Country=%{x}<br>MarketShare_%=%{y}<br>text=%{text}<extra></extra>",
         "legendgroup": "Netherlands",
         "marker": {
          "color": "#F4A261",
          "pattern": {
           "shape": ""
          }
         },
         "name": "Netherlands",
         "orientation": "v",
         "showlegend": true,
         "text": [
          "3.41%"
         ],
         "textposition": "outside",
         "type": "bar",
         "x": [
          "Netherlands"
         ],
         "xaxis": "x",
         "y": {
          "bdata": "D/vLE2dLC0A=",
          "dtype": "f8"
         },
         "yaxis": "y"
        },
        {
         "hovertemplate": "Country=%{x}<br>MarketShare_%=%{y}<br>text=%{text}<extra></extra>",
         "legendgroup": "China",
         "marker": {
          "color": "#0b5d9e",
          "pattern": {
           "shape": ""
          }
         },
         "name": "China",
         "orientation": "v",
         "showlegend": true,
         "text": [
          "2.76%"
         ],
         "textposition": "outside",
         "type": "bar",
         "x": [
          "China"
         ],
         "xaxis": "x",
         "y": {
          "bdata": "9ydyU7AcBkA=",
          "dtype": "f8"
         },
         "yaxis": "y"
        },
        {
         "hovertemplate": "Country=%{x}<br>MarketShare_%=%{y}<br>text=%{text}<extra></extra>",
         "legendgroup": "France",
         "marker": {
          "color": "#2A9D8F",
          "pattern": {
           "shape": ""
          }
         },
         "name": "France",
         "orientation": "v",
         "showlegend": true,
         "text": [
          "2.64%"
         ],
         "textposition": "outside",
         "type": "bar",
         "x": [
          "France"
         ],
         "xaxis": "x",
         "y": {
          "bdata": "j0VqXrgcBUA=",
          "dtype": "f8"
         },
         "yaxis": "y"
        },
        {
         "hovertemplate": "Country=%{x}<br>MarketShare_%=%{y}<br>text=%{text}<extra></extra>",
         "legendgroup": "India",
         "marker": {
          "color": "#E76F51",
          "pattern": {
           "shape": ""
          }
         },
         "name": "India",
         "orientation": "v",
         "showlegend": true,
         "text": [
          "2.44%"
         ],
         "textposition": "outside",
         "type": "bar",
         "x": [
          "India"
         ],
         "xaxis": "x",
         "y": {
          "bdata": "7tIje0ODA0A=",
          "dtype": "f8"
         },
         "yaxis": "y"
        }
       ],
       "layout": {
        "barmode": "relative",
        "height": 500,
        "legend": {
         "title": {
          "text": "Country"
         },
         "tracegroupgap": 0
        },
        "showlegend": false,
        "template": {
         "data": {
          "bar": [
           {
            "error_x": {
             "color": "#2a3f5f"
            },
            "error_y": {
             "color": "#2a3f5f"
            },
            "marker": {
             "line": {
              "color": "white",
              "width": 0.5
             },
             "pattern": {
              "fillmode": "overlay",
              "size": 10,
              "solidity": 0.2
             }
            },
            "type": "bar"
           }
          ],
          "barpolar": [
           {
            "marker": {
             "line": {
              "color": "white",
              "width": 0.5
             },
             "pattern": {
              "fillmode": "overlay",
              "size": 10,
              "solidity": 0.2
             }
            },
            "type": "barpolar"
           }
          ],
          "carpet": [
           {
            "aaxis": {
             "endlinecolor": "#2a3f5f",
             "gridcolor": "#C8D4E3",
             "linecolor": "#C8D4E3",
             "minorgridcolor": "#C8D4E3",
             "startlinecolor": "#2a3f5f"
            },
            "baxis": {
             "endlinecolor": "#2a3f5f",
             "gridcolor": "#C8D4E3",
             "linecolor": "#C8D4E3",
             "minorgridcolor": "#C8D4E3",
             "startlinecolor": "#2a3f5f"
            },
            "type": "carpet"
           }
          ],
          "choropleth": [
           {
            "colorbar": {
             "outlinewidth": 0,
             "ticks": ""
            },
            "type": "choropleth"
           }
          ],
          "contour": [
           {
            "colorbar": {
             "outlinewidth": 0,
             "ticks": ""
            },
            "colorscale": [
             [
              0,
              "#0d0887"
             ],
             [
              0.1111111111111111,
              "#46039f"
             ],
             [
              0.2222222222222222,
              "#7201a8"
             ],
             [
              0.3333333333333333,
              "#9c179e"
             ],
             [
              0.4444444444444444,
              "#bd3786"
             ],
             [
              0.5555555555555556,
              "#d8576b"
             ],
             [
              0.6666666666666666,
              "#ed7953"
             ],
             [
              0.7777777777777778,
              "#fb9f3a"
             ],
             [
              0.8888888888888888,
              "#fdca26"
             ],
             [
              1,
              "#f0f921"
             ]
            ],
            "type": "contour"
           }
          ],
          "contourcarpet": [
           {
            "colorbar": {
             "outlinewidth": 0,
             "ticks": ""
            },
            "type": "contourcarpet"
           }
          ],
          "heatmap": [
           {
            "colorbar": {
             "outlinewidth": 0,
             "ticks": ""
            },
            "colorscale": [
             [
              0,
              "#0d0887"
             ],
             [
              0.1111111111111111,
              "#46039f"
             ],
             [
              0.2222222222222222,
              "#7201a8"
             ],
             [
              0.3333333333333333,
              "#9c179e"
             ],
             [
              0.4444444444444444,
              "#bd3786"
             ],
             [
              0.5555555555555556,
              "#d8576b"
             ],
             [
              0.6666666666666666,
              "#ed7953"
             ],
             [
              0.7777777777777778,
              "#fb9f3a"
             ],
             [
              0.8888888888888888,
              "#fdca26"
             ],
             [
              1,
              "#f0f921"
             ]
            ],
            "type": "heatmap"
           }
          ],
          "histogram": [
           {
            "marker": {
             "pattern": {
              "fillmode": "overlay",
              "size": 10,
              "solidity": 0.2
             }
            },
            "type": "histogram"
           }
          ],
          "histogram2d": [
           {
            "colorbar": {
             "outlinewidth": 0,
             "ticks": ""
            },
            "colorscale": [
             [
              0,
              "#0d0887"
             ],
             [
              0.1111111111111111,
              "#46039f"
             ],
             [
              0.2222222222222222,
              "#7201a8"
             ],
             [
              0.3333333333333333,
              "#9c179e"
             ],
             [
              0.4444444444444444,
              "#bd3786"
             ],
             [
              0.5555555555555556,
              "#d8576b"
             ],
             [
              0.6666666666666666,
              "#ed7953"
             ],
             [
              0.7777777777777778,
              "#fb9f3a"
             ],
             [
              0.8888888888888888,
              "#fdca26"
             ],
             [
              1,
              "#f0f921"
             ]
            ],
            "type": "histogram2d"
           }
          ],
          "histogram2dcontour": [
           {
            "colorbar": {
             "outlinewidth": 0,
             "ticks": ""
            },
            "colorscale": [
             [
              0,
              "#0d0887"
             ],
             [
              0.1111111111111111,
              "#46039f"
             ],
             [
              0.2222222222222222,
              "#7201a8"
             ],
             [
              0.3333333333333333,
              "#9c179e"
             ],
             [
              0.4444444444444444,
              "#bd3786"
             ],
             [
              0.5555555555555556,
              "#d8576b"
             ],
             [
              0.6666666666666666,
              "#ed7953"
             ],
             [
              0.7777777777777778,
              "#fb9f3a"
             ],
             [
              0.8888888888888888,
              "#fdca26"
             ],
             [
              1,
              "#f0f921"
             ]
            ],
            "type": "histogram2dcontour"
           }
          ],
          "mesh3d": [
           {
            "colorbar": {
             "outlinewidth": 0,
             "ticks": ""
            },
            "type": "mesh3d"
           }
          ],
          "parcoords": [
           {
            "line": {
             "colorbar": {
              "outlinewidth": 0,
              "ticks": ""
             }
            },
            "type": "parcoords"
           }
          ],
          "pie": [
           {
            "automargin": true,
            "type": "pie"
           }
          ],
          "scatter": [
           {
            "fillpattern": {
             "fillmode": "overlay",
             "size": 10,
             "solidity": 0.2
            },
            "type": "scatter"
           }
          ],
          "scatter3d": [
           {
            "line": {
             "colorbar": {
              "outlinewidth": 0,
              "ticks": ""
             }
            },
            "marker": {
             "colorbar": {
              "outlinewidth": 0,
              "ticks": ""
             }
            },
            "type": "scatter3d"
           }
          ],
          "scattercarpet": [
           {
            "marker": {
             "colorbar": {
              "outlinewidth": 0,
              "ticks": ""
             }
            },
            "type": "scattercarpet"
           }
          ],
          "scattergeo": [
           {
            "marker": {
             "colorbar": {
              "outlinewidth": 0,
              "ticks": ""
             }
            },
            "type": "scattergeo"
           }
          ],
          "scattergl": [
           {
            "marker": {
             "colorbar": {
              "outlinewidth": 0,
              "ticks": ""
             }
            },
            "type": "scattergl"
           }
          ],
          "scattermap": [
           {
            "marker": {
             "colorbar": {
              "outlinewidth": 0,
              "ticks": ""
             }
            },
            "type": "scattermap"
           }
          ],
          "scattermapbox": [
           {
            "marker": {
             "colorbar": {
              "outlinewidth": 0,
              "ticks": ""
             }
            },
            "type": "scattermapbox"
           }
          ],
          "scatterpolar": [
           {
            "marker": {
             "colorbar": {
              "outlinewidth": 0,
              "ticks": ""
             }
            },
            "type": "scatterpolar"
           }
          ],
          "scatterpolargl": [
           {
            "marker": {
             "colorbar": {
              "outlinewidth": 0,
              "ticks": ""
             }
            },
            "type": "scatterpolargl"
           }
          ],
          "scatterternary": [
           {
            "marker": {
             "colorbar": {
              "outlinewidth": 0,
              "ticks": ""
             }
            },
            "type": "scatterternary"
           }
          ],
          "surface": [
           {
            "colorbar": {
             "outlinewidth": 0,
             "ticks": ""
            },
            "colorscale": [
             [
              0,
              "#0d0887"
             ],
             [
              0.1111111111111111,
              "#46039f"
             ],
             [
              0.2222222222222222,
              "#7201a8"
             ],
             [
              0.3333333333333333,
              "#9c179e"
             ],
             [
              0.4444444444444444,
              "#bd3786"
             ],
             [
              0.5555555555555556,
              "#d8576b"
             ],
             [
              0.6666666666666666,
              "#ed7953"
             ],
             [
              0.7777777777777778,
              "#fb9f3a"
             ],
             [
              0.8888888888888888,
              "#fdca26"
             ],
             [
              1,
              "#f0f921"
             ]
            ],
            "type": "surface"
           }
          ],
          "table": [
           {
            "cells": {
             "fill": {
              "color": "#EBF0F8"
             },
             "line": {
              "color": "white"
             }
            },
            "header": {
             "fill": {
              "color": "#C8D4E3"
             },
             "line": {
              "color": "white"
             }
            },
            "type": "table"
           }
          ]
         },
         "layout": {
          "annotationdefaults": {
           "arrowcolor": "#2a3f5f",
           "arrowhead": 0,
           "arrowwidth": 1
          },
          "autotypenumbers": "strict",
          "coloraxis": {
           "colorbar": {
            "outlinewidth": 0,
            "ticks": ""
           }
          },
          "colorscale": {
           "diverging": [
            [
             0,
             "#8e0152"
            ],
            [
             0.1,
             "#c51b7d"
            ],
            [
             0.2,
             "#de77ae"
            ],
            [
             0.3,
             "#f1b6da"
            ],
            [
             0.4,
             "#fde0ef"
            ],
            [
             0.5,
             "#f7f7f7"
            ],
            [
             0.6,
             "#e6f5d0"
            ],
            [
             0.7,
             "#b8e186"
            ],
            [
             0.8,
             "#7fbc41"
            ],
            [
             0.9,
             "#4d9221"
            ],
            [
             1,
             "#276419"
            ]
           ],
           "sequential": [
            [
             0,
             "#0d0887"
            ],
            [
             0.1111111111111111,
             "#46039f"
            ],
            [
             0.2222222222222222,
             "#7201a8"
            ],
            [
             0.3333333333333333,
             "#9c179e"
            ],
            [
             0.4444444444444444,
             "#bd3786"
            ],
            [
             0.5555555555555556,
             "#d8576b"
            ],
            [
             0.6666666666666666,
             "#ed7953"
            ],
            [
             0.7777777777777778,
             "#fb9f3a"
            ],
            [
             0.8888888888888888,
             "#fdca26"
            ],
            [
             1,
             "#f0f921"
            ]
           ],
           "sequentialminus": [
            [
             0,
             "#0d0887"
            ],
            [
             0.1111111111111111,
             "#46039f"
            ],
            [
             0.2222222222222222,
             "#7201a8"
            ],
            [
             0.3333333333333333,
             "#9c179e"
            ],
            [
             0.4444444444444444,
             "#bd3786"
            ],
            [
             0.5555555555555556,
             "#d8576b"
            ],
            [
             0.6666666666666666,
             "#ed7953"
            ],
            [
             0.7777777777777778,
             "#fb9f3a"
            ],
            [
             0.8888888888888888,
             "#fdca26"
            ],
            [
             1,
             "#f0f921"
            ]
           ]
          },
          "colorway": [
           "#636efa",
           "#EF553B",
           "#00cc96",
           "#ab63fa",
           "#FFA15A",
           "#19d3f3",
           "#FF6692",
           "#B6E880",
           "#FF97FF",
           "#FECB52"
          ],
          "font": {
           "color": "#2a3f5f"
          },
          "geo": {
           "bgcolor": "white",
           "lakecolor": "white",
           "landcolor": "white",
           "showlakes": true,
           "showland": true,
           "subunitcolor": "#C8D4E3"
          },
          "hoverlabel": {
           "align": "left"
          },
          "hovermode": "closest",
          "mapbox": {
           "style": "light"
          },
          "paper_bgcolor": "white",
          "plot_bgcolor": "white",
          "polar": {
           "angularaxis": {
            "gridcolor": "#EBF0F8",
            "linecolor": "#EBF0F8",
            "ticks": ""
           },
           "bgcolor": "white",
           "radialaxis": {
            "gridcolor": "#EBF0F8",
            "linecolor": "#EBF0F8",
            "ticks": ""
           }
          },
          "scene": {
           "xaxis": {
            "backgroundcolor": "white",
            "gridcolor": "#DFE8F3",
            "gridwidth": 2,
            "linecolor": "#EBF0F8",
            "showbackground": true,
            "ticks": "",
            "zerolinecolor": "#EBF0F8"
           },
           "yaxis": {
            "backgroundcolor": "white",
            "gridcolor": "#DFE8F3",
            "gridwidth": 2,
            "linecolor": "#EBF0F8",
            "showbackground": true,
            "ticks": "",
            "zerolinecolor": "#EBF0F8"
           },
           "zaxis": {
            "backgroundcolor": "white",
            "gridcolor": "#DFE8F3",
            "gridwidth": 2,
            "linecolor": "#EBF0F8",
            "showbackground": true,
            "ticks": "",
            "zerolinecolor": "#EBF0F8"
           }
          },
          "shapedefaults": {
           "line": {
            "color": "#2a3f5f"
           }
          },
          "ternary": {
           "aaxis": {
            "gridcolor": "#DFE8F3",
            "linecolor": "#A2B1C6",
            "ticks": ""
           },
           "baxis": {
            "gridcolor": "#DFE8F3",
            "linecolor": "#A2B1C6",
            "ticks": ""
           },
           "bgcolor": "white",
           "caxis": {
            "gridcolor": "#DFE8F3",
            "linecolor": "#A2B1C6",
            "ticks": ""
           }
          },
          "title": {
           "x": 0.05
          },
          "xaxis": {
           "automargin": true,
           "gridcolor": "#EBF0F8",
           "linecolor": "#EBF0F8",
           "ticks": "",
           "title": {
            "standoff": 15
           },
           "zerolinecolor": "#EBF0F8",
           "zerolinewidth": 2
          },
          "yaxis": {
           "automargin": true,
           "gridcolor": "#EBF0F8",
           "linecolor": "#EBF0F8",
           "ticks": "",
           "title": {
            "standoff": 15
           },
           "zerolinecolor": "#EBF0F8",
           "zerolinewidth": 2
          }
         }
        },
        "title": {
         "text": "Top 10 Countries by Market Share — 2024"
        },
        "width": 850,
        "xaxis": {
         "anchor": "y",
         "categoryarray": [
          "Japan",
          "Germany",
          "South Korea",
          "United States",
          "Sweden",
          "Netherlands",
          "China",
          "France",
          "India"
         ],
         "categoryorder": "array",
         "domain": [
          0,
          1
         ],
         "title": {
          "text": "Country of Origin"
         }
        },
        "yaxis": {
         "anchor": "x",
         "domain": [
          0,
          1
         ],
         "title": {
          "text": "Market Share (%)"
         }
        }
       }
      }
     },
     "metadata": {},
     "output_type": "display_data"
    }
   ],
   "source": [
    "latest_year = df_ev[\"Year\"].max()\n",
    "top_countries = (\n",
    "    country_share[country_share[\"Year\"] == latest_year]\n",
    "    .sort_values(\"MarketShare_%\", ascending=False)\n",
    "    .head(10)\n",
    ")\n",
    "top_countries\n",
    "\n",
    "# --- Compute latest year & filter top 10 ---\n",
    "latest_year = df_ev[\"Year\"].max()\n",
    "top_countries = (\n",
    "    country_share[country_share[\"Year\"] == latest_year]\n",
    "    .sort_values(\"MarketShare_%\", ascending=False)\n",
    "    .head(10)\n",
    ")\n",
    "\n",
    "# --- Bar chart ---\n",
    "fig = px.bar(\n",
    "    top_countries,\n",
    "    x=\"Country\",\n",
    "    y=\"MarketShare_%\",\n",
    "    text=top_countries[\"MarketShare_%\"].round(2).astype(str) + \"%\",\n",
    "    title=f\"Top 10 Countries by Market Share — {latest_year}\",\n",
    "    color=\"Country\",\n",
    "    color_discrete_sequence=KES_palette\n",
    ")\n",
    "\n",
    "fig.update_traces(textposition=\"outside\")\n",
    "fig.update_layout(\n",
    "    xaxis_title=\"Country of Origin\",\n",
    "    yaxis_title=\"Market Share (%)\",\n",
    "    template=\"plotly_white\",\n",
    "    width=850,\n",
    "    height=500,\n",
    "    showlegend=False\n",
    ")\n",
    "\n",
    "# --- Save outputs ---\n",
    "fig.write_image(FIG_DIR / f\"top_countries_{latest_year}.pdf\")\n",
    "\n",
    "fig.show()\n"
   ]
  },
  {
   "cell_type": "markdown",
   "id": "a94b9559",
   "metadata": {},
   "source": [
    "### 4.1.7 Compound Annual Growth Rate (CAGR)"
   ]
  },
  {
   "cell_type": "code",
   "execution_count": 17,
   "id": "b273e044",
   "metadata": {},
   "outputs": [
    {
     "name": "stdout",
     "output_type": "stream",
     "text": [
      "CAGR (2011-2024): 32.36%\n",
      "CAGR (2011-2024): 32.36%\n"
     ]
    },
    {
     "data": {
      "application/vnd.plotly.v1+json": {
       "config": {
        "plotlyServerURL": "https://plot.ly"
       },
       "data": [
        {
         "line": {
          "color": "steelblue"
         },
         "mode": "lines+markers",
         "name": "Registrations",
         "type": "scatter",
         "x": {
          "bdata": "2wfcB90H3gffB+AH4QfiB+MH5AflB+YH5wfoBw==",
          "dtype": "i2"
         },
         "y": {
          "bdata": "Pv0FAPVsBwAuEQkAjIQLAJ4NDwBRwhMATsEZAFMlIQAbGSoAnw84ABkTVQBXYnsAwySqAM8s5QA=",
          "dtype": "i4"
         }
        }
       ],
       "layout": {
        "annotations": [
         {
          "arrowhead": 2,
          "ax": -50,
          "ay": -40,
          "font": {
           "color": "crimson",
           "size": 12
          },
          "showarrow": true,
          "text": "CAGR 32.36%",
          "x": 2024,
          "y": 15019215
         }
        ],
        "height": 500,
        "template": {
         "data": {
          "bar": [
           {
            "error_x": {
             "color": "#2a3f5f"
            },
            "error_y": {
             "color": "#2a3f5f"
            },
            "marker": {
             "line": {
              "color": "white",
              "width": 0.5
             },
             "pattern": {
              "fillmode": "overlay",
              "size": 10,
              "solidity": 0.2
             }
            },
            "type": "bar"
           }
          ],
          "barpolar": [
           {
            "marker": {
             "line": {
              "color": "white",
              "width": 0.5
             },
             "pattern": {
              "fillmode": "overlay",
              "size": 10,
              "solidity": 0.2
             }
            },
            "type": "barpolar"
           }
          ],
          "carpet": [
           {
            "aaxis": {
             "endlinecolor": "#2a3f5f",
             "gridcolor": "#C8D4E3",
             "linecolor": "#C8D4E3",
             "minorgridcolor": "#C8D4E3",
             "startlinecolor": "#2a3f5f"
            },
            "baxis": {
             "endlinecolor": "#2a3f5f",
             "gridcolor": "#C8D4E3",
             "linecolor": "#C8D4E3",
             "minorgridcolor": "#C8D4E3",
             "startlinecolor": "#2a3f5f"
            },
            "type": "carpet"
           }
          ],
          "choropleth": [
           {
            "colorbar": {
             "outlinewidth": 0,
             "ticks": ""
            },
            "type": "choropleth"
           }
          ],
          "contour": [
           {
            "colorbar": {
             "outlinewidth": 0,
             "ticks": ""
            },
            "colorscale": [
             [
              0,
              "#0d0887"
             ],
             [
              0.1111111111111111,
              "#46039f"
             ],
             [
              0.2222222222222222,
              "#7201a8"
             ],
             [
              0.3333333333333333,
              "#9c179e"
             ],
             [
              0.4444444444444444,
              "#bd3786"
             ],
             [
              0.5555555555555556,
              "#d8576b"
             ],
             [
              0.6666666666666666,
              "#ed7953"
             ],
             [
              0.7777777777777778,
              "#fb9f3a"
             ],
             [
              0.8888888888888888,
              "#fdca26"
             ],
             [
              1,
              "#f0f921"
             ]
            ],
            "type": "contour"
           }
          ],
          "contourcarpet": [
           {
            "colorbar": {
             "outlinewidth": 0,
             "ticks": ""
            },
            "type": "contourcarpet"
           }
          ],
          "heatmap": [
           {
            "colorbar": {
             "outlinewidth": 0,
             "ticks": ""
            },
            "colorscale": [
             [
              0,
              "#0d0887"
             ],
             [
              0.1111111111111111,
              "#46039f"
             ],
             [
              0.2222222222222222,
              "#7201a8"
             ],
             [
              0.3333333333333333,
              "#9c179e"
             ],
             [
              0.4444444444444444,
              "#bd3786"
             ],
             [
              0.5555555555555556,
              "#d8576b"
             ],
             [
              0.6666666666666666,
              "#ed7953"
             ],
             [
              0.7777777777777778,
              "#fb9f3a"
             ],
             [
              0.8888888888888888,
              "#fdca26"
             ],
             [
              1,
              "#f0f921"
             ]
            ],
            "type": "heatmap"
           }
          ],
          "histogram": [
           {
            "marker": {
             "pattern": {
              "fillmode": "overlay",
              "size": 10,
              "solidity": 0.2
             }
            },
            "type": "histogram"
           }
          ],
          "histogram2d": [
           {
            "colorbar": {
             "outlinewidth": 0,
             "ticks": ""
            },
            "colorscale": [
             [
              0,
              "#0d0887"
             ],
             [
              0.1111111111111111,
              "#46039f"
             ],
             [
              0.2222222222222222,
              "#7201a8"
             ],
             [
              0.3333333333333333,
              "#9c179e"
             ],
             [
              0.4444444444444444,
              "#bd3786"
             ],
             [
              0.5555555555555556,
              "#d8576b"
             ],
             [
              0.6666666666666666,
              "#ed7953"
             ],
             [
              0.7777777777777778,
              "#fb9f3a"
             ],
             [
              0.8888888888888888,
              "#fdca26"
             ],
             [
              1,
              "#f0f921"
             ]
            ],
            "type": "histogram2d"
           }
          ],
          "histogram2dcontour": [
           {
            "colorbar": {
             "outlinewidth": 0,
             "ticks": ""
            },
            "colorscale": [
             [
              0,
              "#0d0887"
             ],
             [
              0.1111111111111111,
              "#46039f"
             ],
             [
              0.2222222222222222,
              "#7201a8"
             ],
             [
              0.3333333333333333,
              "#9c179e"
             ],
             [
              0.4444444444444444,
              "#bd3786"
             ],
             [
              0.5555555555555556,
              "#d8576b"
             ],
             [
              0.6666666666666666,
              "#ed7953"
             ],
             [
              0.7777777777777778,
              "#fb9f3a"
             ],
             [
              0.8888888888888888,
              "#fdca26"
             ],
             [
              1,
              "#f0f921"
             ]
            ],
            "type": "histogram2dcontour"
           }
          ],
          "mesh3d": [
           {
            "colorbar": {
             "outlinewidth": 0,
             "ticks": ""
            },
            "type": "mesh3d"
           }
          ],
          "parcoords": [
           {
            "line": {
             "colorbar": {
              "outlinewidth": 0,
              "ticks": ""
             }
            },
            "type": "parcoords"
           }
          ],
          "pie": [
           {
            "automargin": true,
            "type": "pie"
           }
          ],
          "scatter": [
           {
            "fillpattern": {
             "fillmode": "overlay",
             "size": 10,
             "solidity": 0.2
            },
            "type": "scatter"
           }
          ],
          "scatter3d": [
           {
            "line": {
             "colorbar": {
              "outlinewidth": 0,
              "ticks": ""
             }
            },
            "marker": {
             "colorbar": {
              "outlinewidth": 0,
              "ticks": ""
             }
            },
            "type": "scatter3d"
           }
          ],
          "scattercarpet": [
           {
            "marker": {
             "colorbar": {
              "outlinewidth": 0,
              "ticks": ""
             }
            },
            "type": "scattercarpet"
           }
          ],
          "scattergeo": [
           {
            "marker": {
             "colorbar": {
              "outlinewidth": 0,
              "ticks": ""
             }
            },
            "type": "scattergeo"
           }
          ],
          "scattergl": [
           {
            "marker": {
             "colorbar": {
              "outlinewidth": 0,
              "ticks": ""
             }
            },
            "type": "scattergl"
           }
          ],
          "scattermap": [
           {
            "marker": {
             "colorbar": {
              "outlinewidth": 0,
              "ticks": ""
             }
            },
            "type": "scattermap"
           }
          ],
          "scattermapbox": [
           {
            "marker": {
             "colorbar": {
              "outlinewidth": 0,
              "ticks": ""
             }
            },
            "type": "scattermapbox"
           }
          ],
          "scatterpolar": [
           {
            "marker": {
             "colorbar": {
              "outlinewidth": 0,
              "ticks": ""
             }
            },
            "type": "scatterpolar"
           }
          ],
          "scatterpolargl": [
           {
            "marker": {
             "colorbar": {
              "outlinewidth": 0,
              "ticks": ""
             }
            },
            "type": "scatterpolargl"
           }
          ],
          "scatterternary": [
           {
            "marker": {
             "colorbar": {
              "outlinewidth": 0,
              "ticks": ""
             }
            },
            "type": "scatterternary"
           }
          ],
          "surface": [
           {
            "colorbar": {
             "outlinewidth": 0,
             "ticks": ""
            },
            "colorscale": [
             [
              0,
              "#0d0887"
             ],
             [
              0.1111111111111111,
              "#46039f"
             ],
             [
              0.2222222222222222,
              "#7201a8"
             ],
             [
              0.3333333333333333,
              "#9c179e"
             ],
             [
              0.4444444444444444,
              "#bd3786"
             ],
             [
              0.5555555555555556,
              "#d8576b"
             ],
             [
              0.6666666666666666,
              "#ed7953"
             ],
             [
              0.7777777777777778,
              "#fb9f3a"
             ],
             [
              0.8888888888888888,
              "#fdca26"
             ],
             [
              1,
              "#f0f921"
             ]
            ],
            "type": "surface"
           }
          ],
          "table": [
           {
            "cells": {
             "fill": {
              "color": "#EBF0F8"
             },
             "line": {
              "color": "white"
             }
            },
            "header": {
             "fill": {
              "color": "#C8D4E3"
             },
             "line": {
              "color": "white"
             }
            },
            "type": "table"
           }
          ]
         },
         "layout": {
          "annotationdefaults": {
           "arrowcolor": "#2a3f5f",
           "arrowhead": 0,
           "arrowwidth": 1
          },
          "autotypenumbers": "strict",
          "coloraxis": {
           "colorbar": {
            "outlinewidth": 0,
            "ticks": ""
           }
          },
          "colorscale": {
           "diverging": [
            [
             0,
             "#8e0152"
            ],
            [
             0.1,
             "#c51b7d"
            ],
            [
             0.2,
             "#de77ae"
            ],
            [
             0.3,
             "#f1b6da"
            ],
            [
             0.4,
             "#fde0ef"
            ],
            [
             0.5,
             "#f7f7f7"
            ],
            [
             0.6,
             "#e6f5d0"
            ],
            [
             0.7,
             "#b8e186"
            ],
            [
             0.8,
             "#7fbc41"
            ],
            [
             0.9,
             "#4d9221"
            ],
            [
             1,
             "#276419"
            ]
           ],
           "sequential": [
            [
             0,
             "#0d0887"
            ],
            [
             0.1111111111111111,
             "#46039f"
            ],
            [
             0.2222222222222222,
             "#7201a8"
            ],
            [
             0.3333333333333333,
             "#9c179e"
            ],
            [
             0.4444444444444444,
             "#bd3786"
            ],
            [
             0.5555555555555556,
             "#d8576b"
            ],
            [
             0.6666666666666666,
             "#ed7953"
            ],
            [
             0.7777777777777778,
             "#fb9f3a"
            ],
            [
             0.8888888888888888,
             "#fdca26"
            ],
            [
             1,
             "#f0f921"
            ]
           ],
           "sequentialminus": [
            [
             0,
             "#0d0887"
            ],
            [
             0.1111111111111111,
             "#46039f"
            ],
            [
             0.2222222222222222,
             "#7201a8"
            ],
            [
             0.3333333333333333,
             "#9c179e"
            ],
            [
             0.4444444444444444,
             "#bd3786"
            ],
            [
             0.5555555555555556,
             "#d8576b"
            ],
            [
             0.6666666666666666,
             "#ed7953"
            ],
            [
             0.7777777777777778,
             "#fb9f3a"
            ],
            [
             0.8888888888888888,
             "#fdca26"
            ],
            [
             1,
             "#f0f921"
            ]
           ]
          },
          "colorway": [
           "#636efa",
           "#EF553B",
           "#00cc96",
           "#ab63fa",
           "#FFA15A",
           "#19d3f3",
           "#FF6692",
           "#B6E880",
           "#FF97FF",
           "#FECB52"
          ],
          "font": {
           "color": "#2a3f5f"
          },
          "geo": {
           "bgcolor": "white",
           "lakecolor": "white",
           "landcolor": "white",
           "showlakes": true,
           "showland": true,
           "subunitcolor": "#C8D4E3"
          },
          "hoverlabel": {
           "align": "left"
          },
          "hovermode": "closest",
          "mapbox": {
           "style": "light"
          },
          "paper_bgcolor": "white",
          "plot_bgcolor": "white",
          "polar": {
           "angularaxis": {
            "gridcolor": "#EBF0F8",
            "linecolor": "#EBF0F8",
            "ticks": ""
           },
           "bgcolor": "white",
           "radialaxis": {
            "gridcolor": "#EBF0F8",
            "linecolor": "#EBF0F8",
            "ticks": ""
           }
          },
          "scene": {
           "xaxis": {
            "backgroundcolor": "white",
            "gridcolor": "#DFE8F3",
            "gridwidth": 2,
            "linecolor": "#EBF0F8",
            "showbackground": true,
            "ticks": "",
            "zerolinecolor": "#EBF0F8"
           },
           "yaxis": {
            "backgroundcolor": "white",
            "gridcolor": "#DFE8F3",
            "gridwidth": 2,
            "linecolor": "#EBF0F8",
            "showbackground": true,
            "ticks": "",
            "zerolinecolor": "#EBF0F8"
           },
           "zaxis": {
            "backgroundcolor": "white",
            "gridcolor": "#DFE8F3",
            "gridwidth": 2,
            "linecolor": "#EBF0F8",
            "showbackground": true,
            "ticks": "",
            "zerolinecolor": "#EBF0F8"
           }
          },
          "shapedefaults": {
           "line": {
            "color": "#2a3f5f"
           }
          },
          "ternary": {
           "aaxis": {
            "gridcolor": "#DFE8F3",
            "linecolor": "#A2B1C6",
            "ticks": ""
           },
           "baxis": {
            "gridcolor": "#DFE8F3",
            "linecolor": "#A2B1C6",
            "ticks": ""
           },
           "bgcolor": "white",
           "caxis": {
            "gridcolor": "#DFE8F3",
            "linecolor": "#A2B1C6",
            "ticks": ""
           }
          },
          "title": {
           "x": 0.05
          },
          "xaxis": {
           "automargin": true,
           "gridcolor": "#EBF0F8",
           "linecolor": "#EBF0F8",
           "ticks": "",
           "title": {
            "standoff": 15
           },
           "zerolinecolor": "#EBF0F8",
           "zerolinewidth": 2
          },
          "yaxis": {
           "automargin": true,
           "gridcolor": "#EBF0F8",
           "linecolor": "#EBF0F8",
           "ticks": "",
           "title": {
            "standoff": 15
           },
           "zerolinecolor": "#EBF0F8",
           "zerolinewidth": 2
          }
         }
        },
        "title": {
         "text": "Annual Vehicle Registrations (2011–2024) — CAGR: 32.36%"
        },
        "width": 850,
        "xaxis": {
         "title": {
          "text": "Year"
         }
        },
        "yaxis": {
         "title": {
          "text": "Registrations"
         }
        }
       }
      }
     },
     "metadata": {},
     "output_type": "display_data"
    }
   ],
   "source": [
    "y0, y1 = df_ev[\"Year\"].min(), df_ev[\"Year\"].max()\n",
    "r0 = annual_total.loc[annual_total[\"Year\"] == y0, \"Registrations\"].values[0]\n",
    "r1 = annual_total.loc[annual_total[\"Year\"] == y1, \"Registrations\"].values[0]\n",
    "\n",
    "CAGR = ((r1 / r0) ** (1 / (y1 - y0)) - 1) * 100\n",
    "print(f\"CAGR ({y0}-{y1}): {CAGR:.2f}%\")\n",
    "\n",
    "# --- Compute CAGR ---\n",
    "y0, y1 = df_ev[\"Year\"].min(), df_ev[\"Year\"].max()\n",
    "r0 = annual_total.loc[annual_total[\"Year\"] == y0, \"Registrations\"].values[0]\n",
    "r1 = annual_total.loc[annual_total[\"Year\"] == y1, \"Registrations\"].values[0]\n",
    "\n",
    "CAGR = ((r1 / r0) ** (1 / (y1 - y0)) - 1) * 100\n",
    "print(f\"CAGR ({y0}-{y1}): {CAGR:.2f}%\")\n",
    "\n",
    "# --- Optional: quick mini-plot for CAGR trend ---\n",
    "fig = go.Figure()\n",
    "fig.add_trace(go.Scatter(\n",
    "    x=annual_total[\"Year\"],\n",
    "    y=annual_total[\"Registrations\"],\n",
    "    mode=\"lines+markers\",\n",
    "    name=\"Registrations\",\n",
    "    line=dict(color=\"steelblue\")\n",
    "))\n",
    "\n",
    "fig.add_annotation(\n",
    "    x=y1, y=r1,\n",
    "    text=f\"CAGR {CAGR:.2f}%\",\n",
    "    showarrow=True,\n",
    "    arrowhead=2,\n",
    "    ax=-50, ay=-40,\n",
    "    font=dict(size=12, color=\"crimson\")\n",
    ")\n",
    "\n",
    "fig.update_layout(\n",
    "    title=f\"Annual Vehicle Registrations ({y0}–{y1}) — CAGR: {CAGR:.2f}%\",\n",
    "    xaxis_title=\"Year\",\n",
    "    yaxis_title=\"Registrations\",\n",
    "    template=\"plotly_white\",\n",
    "    width=850,\n",
    "    height=500\n",
    ")\n",
    "\n",
    "fig.write_image(FIG_DIR / f\"annual_registrations_cagr_{y0}_{y1}.pdf\")\n",
    "\n",
    "fig.show()\n"
   ]
  },
  {
   "cell_type": "markdown",
   "id": "f4a8a9a7",
   "metadata": {},
   "source": [
    "### 4.1.8 Top 10 Brands by Total Registrations"
   ]
  },
  {
   "cell_type": "code",
   "execution_count": 18,
   "id": "c20c0e1e",
   "metadata": {},
   "outputs": [
    {
     "data": {
      "application/vnd.plotly.v1+json": {
       "config": {
        "plotlyServerURL": "https://plot.ly"
       },
       "data": [
        {
         "hovertemplate": "Make=%{x}<br>Registrations=%{y}<br>text=%{text}<extra></extra>",
         "legendgroup": "TOYOTA",
         "marker": {
          "color": "#780000",
          "pattern": {
           "shape": ""
          }
         },
         "name": "TOYOTA",
         "orientation": "v",
         "showlegend": true,
         "text": [
          "37.6%"
         ],
         "textposition": "outside",
         "type": "bar",
         "x": [
          "TOYOTA"
         ],
         "xaxis": "x",
         "y": {
          "bdata": "XCHtAA==",
          "dtype": "i4"
         },
         "yaxis": "y"
        },
        {
         "hovertemplate": "Make=%{x}<br>Registrations=%{y}<br>text=%{text}<extra></extra>",
         "legendgroup": "LEXUS",
         "marker": {
          "color": "#1D3557",
          "pattern": {
           "shape": ""
          }
         },
         "name": "LEXUS",
         "orientation": "v",
         "showlegend": true,
         "text": [
          "11.5%"
         ],
         "textposition": "outside",
         "type": "bar",
         "x": [
          "LEXUS"
         ],
         "xaxis": "x",
         "y": {
          "bdata": "lmpIAA==",
          "dtype": "i4"
         },
         "yaxis": "y"
        },
        {
         "hovertemplate": "Make=%{x}<br>Registrations=%{y}<br>text=%{text}<extra></extra>",
         "legendgroup": "BMW",
         "marker": {
          "color": "#A8DADC",
          "pattern": {
           "shape": ""
          }
         },
         "name": "BMW",
         "orientation": "v",
         "showlegend": true,
         "text": [
          "9.5%"
         ],
         "textposition": "outside",
         "type": "bar",
         "x": [
          "BMW"
         ],
         "xaxis": "x",
         "y": {
          "bdata": "5tg7AA==",
          "dtype": "i4"
         },
         "yaxis": "y"
        },
        {
         "hovertemplate": "Make=%{x}<br>Registrations=%{y}<br>text=%{text}<extra></extra>",
         "legendgroup": "KIA",
         "marker": {
          "color": "#572523",
          "pattern": {
           "shape": ""
          }
         },
         "name": "KIA",
         "orientation": "v",
         "showlegend": true,
         "text": [
          "6.7%"
         ],
         "textposition": "outside",
         "type": "bar",
         "x": [
          "KIA"
         ],
         "xaxis": "x",
         "y": {
          "bdata": "Dm4qAA==",
          "dtype": "i4"
         },
         "yaxis": "y"
        },
        {
         "hovertemplate": "Make=%{x}<br>Registrations=%{y}<br>text=%{text}<extra></extra>",
         "legendgroup": "HYUNDAI",
         "marker": {
          "color": "#e2caA8",
          "pattern": {
           "shape": ""
          }
         },
         "name": "HYUNDAI",
         "orientation": "v",
         "showlegend": true,
         "text": [
          "6.5%"
         ],
         "textposition": "outside",
         "type": "bar",
         "x": [
          "HYUNDAI"
         ],
         "xaxis": "x",
         "y": {
          "bdata": "vPUoAA==",
          "dtype": "i4"
         },
         "yaxis": "y"
        },
        {
         "hovertemplate": "Make=%{x}<br>Registrations=%{y}<br>text=%{text}<extra></extra>",
         "legendgroup": "NISSAN",
         "marker": {
          "color": "#F4A261",
          "pattern": {
           "shape": ""
          }
         },
         "name": "NISSAN",
         "orientation": "v",
         "showlegend": true,
         "text": [
          "6.2%"
         ],
         "textposition": "outside",
         "type": "bar",
         "x": [
          "NISSAN"
         ],
         "xaxis": "x",
         "y": {
          "bdata": "WP0mAA==",
          "dtype": "i4"
         },
         "yaxis": "y"
        },
        {
         "hovertemplate": "Make=%{x}<br>Registrations=%{y}<br>text=%{text}<extra></extra>",
         "legendgroup": "TESLA",
         "marker": {
          "color": "#0b5d9e",
          "pattern": {
           "shape": ""
          }
         },
         "name": "TESLA",
         "orientation": "v",
         "showlegend": true,
         "text": [
          "6.1%"
         ],
         "textposition": "outside",
         "type": "bar",
         "x": [
          "TESLA"
         ],
         "xaxis": "x",
         "y": {
          "bdata": "A88mAA==",
          "dtype": "i4"
         },
         "yaxis": "y"
        },
        {
         "hovertemplate": "Make=%{x}<br>Registrations=%{y}<br>text=%{text}<extra></extra>",
         "legendgroup": "MERCEDES",
         "marker": {
          "color": "#2A9D8F",
          "pattern": {
           "shape": ""
          }
         },
         "name": "MERCEDES",
         "orientation": "v",
         "showlegend": true,
         "text": [
          "5.8%"
         ],
         "textposition": "outside",
         "type": "bar",
         "x": [
          "MERCEDES"
         ],
         "xaxis": "x",
         "y": {
          "bdata": "zs4kAA==",
          "dtype": "i4"
         },
         "yaxis": "y"
        },
        {
         "hovertemplate": "Make=%{x}<br>Registrations=%{y}<br>text=%{text}<extra></extra>",
         "legendgroup": "HONDA",
         "marker": {
          "color": "#E76F51",
          "pattern": {
           "shape": ""
          }
         },
         "name": "HONDA",
         "orientation": "v",
         "showlegend": true,
         "text": [
          "5.6%"
         ],
         "textposition": "outside",
         "type": "bar",
         "x": [
          "HONDA"
         ],
         "xaxis": "x",
         "y": {
          "bdata": "2hojAA==",
          "dtype": "i4"
         },
         "yaxis": "y"
        },
        {
         "hovertemplate": "Make=%{x}<br>Registrations=%{y}<br>text=%{text}<extra></extra>",
         "legendgroup": "VOLVO",
         "marker": {
          "color": "#1890ae",
          "pattern": {
           "shape": ""
          }
         },
         "name": "VOLVO",
         "orientation": "v",
         "showlegend": true,
         "text": [
          "4.5%"
         ],
         "textposition": "outside",
         "type": "bar",
         "x": [
          "VOLVO"
         ],
         "xaxis": "x",
         "y": {
          "bdata": "XbMcAA==",
          "dtype": "i4"
         },
         "yaxis": "y"
        }
       ],
       "layout": {
        "barmode": "relative",
        "height": 500,
        "legend": {
         "title": {
          "text": "Make"
         },
         "tracegroupgap": 0
        },
        "showlegend": false,
        "template": {
         "data": {
          "bar": [
           {
            "error_x": {
             "color": "#2a3f5f"
            },
            "error_y": {
             "color": "#2a3f5f"
            },
            "marker": {
             "line": {
              "color": "white",
              "width": 0.5
             },
             "pattern": {
              "fillmode": "overlay",
              "size": 10,
              "solidity": 0.2
             }
            },
            "type": "bar"
           }
          ],
          "barpolar": [
           {
            "marker": {
             "line": {
              "color": "white",
              "width": 0.5
             },
             "pattern": {
              "fillmode": "overlay",
              "size": 10,
              "solidity": 0.2
             }
            },
            "type": "barpolar"
           }
          ],
          "carpet": [
           {
            "aaxis": {
             "endlinecolor": "#2a3f5f",
             "gridcolor": "#C8D4E3",
             "linecolor": "#C8D4E3",
             "minorgridcolor": "#C8D4E3",
             "startlinecolor": "#2a3f5f"
            },
            "baxis": {
             "endlinecolor": "#2a3f5f",
             "gridcolor": "#C8D4E3",
             "linecolor": "#C8D4E3",
             "minorgridcolor": "#C8D4E3",
             "startlinecolor": "#2a3f5f"
            },
            "type": "carpet"
           }
          ],
          "choropleth": [
           {
            "colorbar": {
             "outlinewidth": 0,
             "ticks": ""
            },
            "type": "choropleth"
           }
          ],
          "contour": [
           {
            "colorbar": {
             "outlinewidth": 0,
             "ticks": ""
            },
            "colorscale": [
             [
              0,
              "#0d0887"
             ],
             [
              0.1111111111111111,
              "#46039f"
             ],
             [
              0.2222222222222222,
              "#7201a8"
             ],
             [
              0.3333333333333333,
              "#9c179e"
             ],
             [
              0.4444444444444444,
              "#bd3786"
             ],
             [
              0.5555555555555556,
              "#d8576b"
             ],
             [
              0.6666666666666666,
              "#ed7953"
             ],
             [
              0.7777777777777778,
              "#fb9f3a"
             ],
             [
              0.8888888888888888,
              "#fdca26"
             ],
             [
              1,
              "#f0f921"
             ]
            ],
            "type": "contour"
           }
          ],
          "contourcarpet": [
           {
            "colorbar": {
             "outlinewidth": 0,
             "ticks": ""
            },
            "type": "contourcarpet"
           }
          ],
          "heatmap": [
           {
            "colorbar": {
             "outlinewidth": 0,
             "ticks": ""
            },
            "colorscale": [
             [
              0,
              "#0d0887"
             ],
             [
              0.1111111111111111,
              "#46039f"
             ],
             [
              0.2222222222222222,
              "#7201a8"
             ],
             [
              0.3333333333333333,
              "#9c179e"
             ],
             [
              0.4444444444444444,
              "#bd3786"
             ],
             [
              0.5555555555555556,
              "#d8576b"
             ],
             [
              0.6666666666666666,
              "#ed7953"
             ],
             [
              0.7777777777777778,
              "#fb9f3a"
             ],
             [
              0.8888888888888888,
              "#fdca26"
             ],
             [
              1,
              "#f0f921"
             ]
            ],
            "type": "heatmap"
           }
          ],
          "histogram": [
           {
            "marker": {
             "pattern": {
              "fillmode": "overlay",
              "size": 10,
              "solidity": 0.2
             }
            },
            "type": "histogram"
           }
          ],
          "histogram2d": [
           {
            "colorbar": {
             "outlinewidth": 0,
             "ticks": ""
            },
            "colorscale": [
             [
              0,
              "#0d0887"
             ],
             [
              0.1111111111111111,
              "#46039f"
             ],
             [
              0.2222222222222222,
              "#7201a8"
             ],
             [
              0.3333333333333333,
              "#9c179e"
             ],
             [
              0.4444444444444444,
              "#bd3786"
             ],
             [
              0.5555555555555556,
              "#d8576b"
             ],
             [
              0.6666666666666666,
              "#ed7953"
             ],
             [
              0.7777777777777778,
              "#fb9f3a"
             ],
             [
              0.8888888888888888,
              "#fdca26"
             ],
             [
              1,
              "#f0f921"
             ]
            ],
            "type": "histogram2d"
           }
          ],
          "histogram2dcontour": [
           {
            "colorbar": {
             "outlinewidth": 0,
             "ticks": ""
            },
            "colorscale": [
             [
              0,
              "#0d0887"
             ],
             [
              0.1111111111111111,
              "#46039f"
             ],
             [
              0.2222222222222222,
              "#7201a8"
             ],
             [
              0.3333333333333333,
              "#9c179e"
             ],
             [
              0.4444444444444444,
              "#bd3786"
             ],
             [
              0.5555555555555556,
              "#d8576b"
             ],
             [
              0.6666666666666666,
              "#ed7953"
             ],
             [
              0.7777777777777778,
              "#fb9f3a"
             ],
             [
              0.8888888888888888,
              "#fdca26"
             ],
             [
              1,
              "#f0f921"
             ]
            ],
            "type": "histogram2dcontour"
           }
          ],
          "mesh3d": [
           {
            "colorbar": {
             "outlinewidth": 0,
             "ticks": ""
            },
            "type": "mesh3d"
           }
          ],
          "parcoords": [
           {
            "line": {
             "colorbar": {
              "outlinewidth": 0,
              "ticks": ""
             }
            },
            "type": "parcoords"
           }
          ],
          "pie": [
           {
            "automargin": true,
            "type": "pie"
           }
          ],
          "scatter": [
           {
            "fillpattern": {
             "fillmode": "overlay",
             "size": 10,
             "solidity": 0.2
            },
            "type": "scatter"
           }
          ],
          "scatter3d": [
           {
            "line": {
             "colorbar": {
              "outlinewidth": 0,
              "ticks": ""
             }
            },
            "marker": {
             "colorbar": {
              "outlinewidth": 0,
              "ticks": ""
             }
            },
            "type": "scatter3d"
           }
          ],
          "scattercarpet": [
           {
            "marker": {
             "colorbar": {
              "outlinewidth": 0,
              "ticks": ""
             }
            },
            "type": "scattercarpet"
           }
          ],
          "scattergeo": [
           {
            "marker": {
             "colorbar": {
              "outlinewidth": 0,
              "ticks": ""
             }
            },
            "type": "scattergeo"
           }
          ],
          "scattergl": [
           {
            "marker": {
             "colorbar": {
              "outlinewidth": 0,
              "ticks": ""
             }
            },
            "type": "scattergl"
           }
          ],
          "scattermap": [
           {
            "marker": {
             "colorbar": {
              "outlinewidth": 0,
              "ticks": ""
             }
            },
            "type": "scattermap"
           }
          ],
          "scattermapbox": [
           {
            "marker": {
             "colorbar": {
              "outlinewidth": 0,
              "ticks": ""
             }
            },
            "type": "scattermapbox"
           }
          ],
          "scatterpolar": [
           {
            "marker": {
             "colorbar": {
              "outlinewidth": 0,
              "ticks": ""
             }
            },
            "type": "scatterpolar"
           }
          ],
          "scatterpolargl": [
           {
            "marker": {
             "colorbar": {
              "outlinewidth": 0,
              "ticks": ""
             }
            },
            "type": "scatterpolargl"
           }
          ],
          "scatterternary": [
           {
            "marker": {
             "colorbar": {
              "outlinewidth": 0,
              "ticks": ""
             }
            },
            "type": "scatterternary"
           }
          ],
          "surface": [
           {
            "colorbar": {
             "outlinewidth": 0,
             "ticks": ""
            },
            "colorscale": [
             [
              0,
              "#0d0887"
             ],
             [
              0.1111111111111111,
              "#46039f"
             ],
             [
              0.2222222222222222,
              "#7201a8"
             ],
             [
              0.3333333333333333,
              "#9c179e"
             ],
             [
              0.4444444444444444,
              "#bd3786"
             ],
             [
              0.5555555555555556,
              "#d8576b"
             ],
             [
              0.6666666666666666,
              "#ed7953"
             ],
             [
              0.7777777777777778,
              "#fb9f3a"
             ],
             [
              0.8888888888888888,
              "#fdca26"
             ],
             [
              1,
              "#f0f921"
             ]
            ],
            "type": "surface"
           }
          ],
          "table": [
           {
            "cells": {
             "fill": {
              "color": "#EBF0F8"
             },
             "line": {
              "color": "white"
             }
            },
            "header": {
             "fill": {
              "color": "#C8D4E3"
             },
             "line": {
              "color": "white"
             }
            },
            "type": "table"
           }
          ]
         },
         "layout": {
          "annotationdefaults": {
           "arrowcolor": "#2a3f5f",
           "arrowhead": 0,
           "arrowwidth": 1
          },
          "autotypenumbers": "strict",
          "coloraxis": {
           "colorbar": {
            "outlinewidth": 0,
            "ticks": ""
           }
          },
          "colorscale": {
           "diverging": [
            [
             0,
             "#8e0152"
            ],
            [
             0.1,
             "#c51b7d"
            ],
            [
             0.2,
             "#de77ae"
            ],
            [
             0.3,
             "#f1b6da"
            ],
            [
             0.4,
             "#fde0ef"
            ],
            [
             0.5,
             "#f7f7f7"
            ],
            [
             0.6,
             "#e6f5d0"
            ],
            [
             0.7,
             "#b8e186"
            ],
            [
             0.8,
             "#7fbc41"
            ],
            [
             0.9,
             "#4d9221"
            ],
            [
             1,
             "#276419"
            ]
           ],
           "sequential": [
            [
             0,
             "#0d0887"
            ],
            [
             0.1111111111111111,
             "#46039f"
            ],
            [
             0.2222222222222222,
             "#7201a8"
            ],
            [
             0.3333333333333333,
             "#9c179e"
            ],
            [
             0.4444444444444444,
             "#bd3786"
            ],
            [
             0.5555555555555556,
             "#d8576b"
            ],
            [
             0.6666666666666666,
             "#ed7953"
            ],
            [
             0.7777777777777778,
             "#fb9f3a"
            ],
            [
             0.8888888888888888,
             "#fdca26"
            ],
            [
             1,
             "#f0f921"
            ]
           ],
           "sequentialminus": [
            [
             0,
             "#0d0887"
            ],
            [
             0.1111111111111111,
             "#46039f"
            ],
            [
             0.2222222222222222,
             "#7201a8"
            ],
            [
             0.3333333333333333,
             "#9c179e"
            ],
            [
             0.4444444444444444,
             "#bd3786"
            ],
            [
             0.5555555555555556,
             "#d8576b"
            ],
            [
             0.6666666666666666,
             "#ed7953"
            ],
            [
             0.7777777777777778,
             "#fb9f3a"
            ],
            [
             0.8888888888888888,
             "#fdca26"
            ],
            [
             1,
             "#f0f921"
            ]
           ]
          },
          "colorway": [
           "#636efa",
           "#EF553B",
           "#00cc96",
           "#ab63fa",
           "#FFA15A",
           "#19d3f3",
           "#FF6692",
           "#B6E880",
           "#FF97FF",
           "#FECB52"
          ],
          "font": {
           "color": "#2a3f5f"
          },
          "geo": {
           "bgcolor": "white",
           "lakecolor": "white",
           "landcolor": "white",
           "showlakes": true,
           "showland": true,
           "subunitcolor": "#C8D4E3"
          },
          "hoverlabel": {
           "align": "left"
          },
          "hovermode": "closest",
          "mapbox": {
           "style": "light"
          },
          "paper_bgcolor": "white",
          "plot_bgcolor": "white",
          "polar": {
           "angularaxis": {
            "gridcolor": "#EBF0F8",
            "linecolor": "#EBF0F8",
            "ticks": ""
           },
           "bgcolor": "white",
           "radialaxis": {
            "gridcolor": "#EBF0F8",
            "linecolor": "#EBF0F8",
            "ticks": ""
           }
          },
          "scene": {
           "xaxis": {
            "backgroundcolor": "white",
            "gridcolor": "#DFE8F3",
            "gridwidth": 2,
            "linecolor": "#EBF0F8",
            "showbackground": true,
            "ticks": "",
            "zerolinecolor": "#EBF0F8"
           },
           "yaxis": {
            "backgroundcolor": "white",
            "gridcolor": "#DFE8F3",
            "gridwidth": 2,
            "linecolor": "#EBF0F8",
            "showbackground": true,
            "ticks": "",
            "zerolinecolor": "#EBF0F8"
           },
           "zaxis": {
            "backgroundcolor": "white",
            "gridcolor": "#DFE8F3",
            "gridwidth": 2,
            "linecolor": "#EBF0F8",
            "showbackground": true,
            "ticks": "",
            "zerolinecolor": "#EBF0F8"
           }
          },
          "shapedefaults": {
           "line": {
            "color": "#2a3f5f"
           }
          },
          "ternary": {
           "aaxis": {
            "gridcolor": "#DFE8F3",
            "linecolor": "#A2B1C6",
            "ticks": ""
           },
           "baxis": {
            "gridcolor": "#DFE8F3",
            "linecolor": "#A2B1C6",
            "ticks": ""
           },
           "bgcolor": "white",
           "caxis": {
            "gridcolor": "#DFE8F3",
            "linecolor": "#A2B1C6",
            "ticks": ""
           }
          },
          "title": {
           "x": 0.05
          },
          "xaxis": {
           "automargin": true,
           "gridcolor": "#EBF0F8",
           "linecolor": "#EBF0F8",
           "ticks": "",
           "title": {
            "standoff": 15
           },
           "zerolinecolor": "#EBF0F8",
           "zerolinewidth": 2
          },
          "yaxis": {
           "automargin": true,
           "gridcolor": "#EBF0F8",
           "linecolor": "#EBF0F8",
           "ticks": "",
           "title": {
            "standoff": 15
           },
           "zerolinecolor": "#EBF0F8",
           "zerolinewidth": 2
          }
         }
        },
        "title": {
         "text": "Top 10 Car Manufacturers by Total Registrations"
        },
        "width": 900,
        "xaxis": {
         "anchor": "y",
         "categoryarray": [
          "TOYOTA",
          "LEXUS",
          "BMW",
          "KIA",
          "HYUNDAI",
          "NISSAN",
          "TESLA",
          "MERCEDES",
          "HONDA",
          "VOLVO"
         ],
         "categoryorder": "array",
         "domain": [
          0,
          1
         ],
         "title": {
          "text": "Manufacturer (Make)"
         }
        },
        "yaxis": {
         "anchor": "x",
         "domain": [
          0,
          1
         ],
         "title": {
          "text": "Total Registrations"
         }
        }
       }
      }
     },
     "metadata": {},
     "output_type": "display_data"
    }
   ],
   "source": [
    "top_makes = (\n",
    "    df_ev.groupby(\"Make\", as_index=False)[\"Registrations\"]\n",
    "      .sum()\n",
    "      .sort_values(\"Registrations\", ascending=False)\n",
    "      .head(10)\n",
    ")\n",
    "top_makes\n",
    "\n",
    "# --- Aggregate top makes ---\n",
    "top_makes = (\n",
    "    df_ev.groupby(\"Make\", as_index=False)[\"Registrations\"]\n",
    "      .sum()\n",
    "      .sort_values(\"Registrations\", ascending=False)\n",
    "      .head(10)\n",
    ")\n",
    "\n",
    "# --- Compute % share (optional) ---\n",
    "total_reg = top_makes[\"Registrations\"].sum()\n",
    "top_makes[\"MarketShare_%\"] = 100 * top_makes[\"Registrations\"] / total_reg\n",
    "\n",
    "# --- Plot bar chart ---\n",
    "fig = px.bar(\n",
    "    top_makes,\n",
    "    x=\"Make\",\n",
    "    y=\"Registrations\",\n",
    "    text=top_makes[\"MarketShare_%\"].round(1).astype(str) + \"%\",\n",
    "    title=\"Top 10 Car Manufacturers by Total Registrations\",\n",
    "    color=\"Make\",\n",
    "    color_discrete_sequence=KES_palette\n",
    ")\n",
    "\n",
    "fig.update_traces(textposition=\"outside\")\n",
    "fig.update_layout(\n",
    "    xaxis_title=\"Manufacturer (Make)\",\n",
    "    yaxis_title=\"Total Registrations\",\n",
    "    template=\"plotly_white\",\n",
    "    width=900,\n",
    "    height=500,\n",
    "    showlegend=False\n",
    ")\n",
    "\n",
    "# --- Save outputs ---\n",
    "fig.write_image(FIG_DIR / \"top_makes.pdf\")\n",
    "\n",
    "fig.show()"
   ]
  },
  {
   "cell_type": "markdown",
   "id": "4861da00",
   "metadata": {},
   "source": [
    "### 4.1.9 Chinese Brand Composition in the UK (Bar Plot Over Years)"
   ]
  },
  {
   "cell_type": "code",
   "execution_count": 19,
   "id": "6a7c8db1",
   "metadata": {},
   "outputs": [
    {
     "name": "stderr",
     "output_type": "stream",
     "text": [
      "/var/folders/7x/pd53f7tx0jl5lyy8g87z1qqw0000gn/T/ipykernel_3314/2371612879.py:2: UserWarning:\n",
      "\n",
      "Boolean Series key will be reindexed to match DataFrame index.\n",
      "\n"
     ]
    },
    {
     "data": {
      "application/vnd.plotly.v1+json": {
       "config": {
        "plotlyServerURL": "https://plot.ly"
       },
       "data": [
        {
         "hovertemplate": "Make=BYD<br>Year=%{x}<br>Registrations=%{y}<extra></extra>",
         "legendgroup": "BYD",
         "marker": {
          "color": "#780000",
          "pattern": {
           "shape": ""
          }
         },
         "name": "BYD",
         "orientation": "v",
         "showlegend": true,
         "textposition": "auto",
         "texttemplate": "%{y:.2s}",
         "type": "bar",
         "x": {
          "bdata": "2wfcB90H3gffB+AH4QfiB+MH5AfnB+gH",
          "dtype": "i2"
         },
         "xaxis": "x",
         "y": {
          "bdata": "AAAAAAAAAAAAAAAAAAAAAAAAAADXBn1X",
          "dtype": "i2"
         },
         "yaxis": "y"
        },
        {
         "hovertemplate": "Make=LOTUS<br>Year=%{x}<br>Registrations=%{y}<extra></extra>",
         "legendgroup": "LOTUS",
         "marker": {
          "color": "#1D3557",
          "pattern": {
           "shape": ""
          }
         },
         "name": "LOTUS",
         "orientation": "v",
         "showlegend": true,
         "textposition": "auto",
         "texttemplate": "%{y:.2s}",
         "type": "bar",
         "x": {
          "bdata": "2wfcB90H3gffB+AH4QfiB+MH5AflB+YH5wfoBw==",
          "dtype": "i2"
         },
         "xaxis": "x",
         "y": {
          "bdata": "CAAIAAcABAAEAAQABAAEAAYAGAAYACEAhgISEA==",
          "dtype": "i2"
         },
         "yaxis": "y"
        },
        {
         "hovertemplate": "Make=MG<br>Year=%{x}<br>Registrations=%{y}<extra></extra>",
         "legendgroup": "MG",
         "marker": {
          "color": "#A8DADC",
          "pattern": {
           "shape": ""
          }
         },
         "name": "MG",
         "orientation": "v",
         "showlegend": true,
         "textposition": "auto",
         "texttemplate": "%{y:.2s}",
         "type": "bar",
         "x": {
          "bdata": "2wfcB90H3gffB+AH4QfiB+MH5AflB+YH5wfoBw==",
          "dtype": "i2"
         },
         "xaxis": "x",
         "y": {
          "bdata": "CgAAAAwAAAAMAAAADAAAAA8AAAAQAAAADAAAAAwAAABnAwAATz8AAA3OAAD0tQEAX28DAKlaBQA=",
          "dtype": "i4"
         },
         "yaxis": "y"
        },
        {
         "hovertemplate": "Make=Other Chinese<br>Year=%{x}<br>Registrations=%{y}<extra></extra>",
         "legendgroup": "Other Chinese",
         "marker": {
          "color": "#572523",
          "pattern": {
           "shape": ""
          }
         },
         "name": "Other Chinese",
         "orientation": "v",
         "showlegend": true,
         "textposition": "auto",
         "texttemplate": "%{y:.2s}",
         "type": "bar",
         "x": {
          "bdata": "2wfcB90H3gffB+AH4QfiB+MH5AflB+YH5wfoBw==",
          "dtype": "i2"
         },
         "xaxis": "x",
         "y": {
          "bdata": "AAAAAAAAAAAAAAAAAAAAAAAAAAAAAA4ATgDwAQ==",
          "dtype": "i2"
         },
         "yaxis": "y"
        },
        {
         "hovertemplate": "Make=PROTON<br>Year=%{x}<br>Registrations=%{y}<extra></extra>",
         "legendgroup": "PROTON",
         "marker": {
          "color": "#e2caA8",
          "pattern": {
           "shape": ""
          }
         },
         "name": "PROTON",
         "orientation": "v",
         "showlegend": true,
         "textposition": "auto",
         "texttemplate": "%{y:.2s}",
         "type": "bar",
         "x": {
          "bdata": "2wfcB90H3gffB+AH4Qc=",
          "dtype": "i2"
         },
         "xaxis": "x",
         "y": {
          "bdata": "GBwVCgQCAw==",
          "dtype": "i1"
         },
         "yaxis": "y"
        },
        {
         "hovertemplate": "Make=SMART<br>Year=%{x}<br>Registrations=%{y}<extra></extra>",
         "legendgroup": "SMART",
         "marker": {
          "color": "#F4A261",
          "pattern": {
           "shape": ""
          }
         },
         "name": "SMART",
         "orientation": "v",
         "showlegend": true,
         "textposition": "auto",
         "texttemplate": "%{y:.2s}",
         "type": "bar",
         "x": {
          "bdata": "2wfcB90H3gffB+AH4QfiB+MH5AflB+YH5wfoBw==",
          "dtype": "i2"
         },
         "xaxis": "x",
         "y": {
          "bdata": "KgLsAkkDbgSsA3YDdQSjCbIRhR94NehJL1K/ag==",
          "dtype": "i2"
         },
         "yaxis": "y"
        },
        {
         "hovertemplate": "Make=TIANJIN<br>Year=%{x}<br>Registrations=%{y}<extra></extra>",
         "legendgroup": "TIANJIN",
         "marker": {
          "color": "#0b5d9e",
          "pattern": {
           "shape": ""
          }
         },
         "name": "TIANJIN",
         "orientation": "v",
         "showlegend": true,
         "textposition": "auto",
         "texttemplate": "%{y:.2s}",
         "type": "bar",
         "x": {
          "bdata": "2wfcB90H",
          "dtype": "i2"
         },
         "xaxis": "x",
         "y": {
          "bdata": "BAMD",
          "dtype": "i1"
         },
         "yaxis": "y"
        },
        {
         "hovertemplate": "Make=DFSK<br>Year=%{x}<br>Registrations=%{y}<extra></extra>",
         "legendgroup": "DFSK",
         "marker": {
          "color": "#2A9D8F",
          "pattern": {
           "shape": ""
          }
         },
         "name": "DFSK",
         "orientation": "v",
         "showlegend": true,
         "textposition": "auto",
         "texttemplate": "%{y:.2s}",
         "type": "bar",
         "x": {
          "bdata": "3gfiB+MH5AflB+YH",
          "dtype": "i2"
         },
         "xaxis": "x",
         "y": {
          "bdata": "AAAAAAYY",
          "dtype": "i1"
         },
         "yaxis": "y"
        },
        {
         "hovertemplate": "Make=JONWAY<br>Year=%{x}<br>Registrations=%{y}<extra></extra>",
         "legendgroup": "JONWAY",
         "marker": {
          "color": "#E76F51",
          "pattern": {
           "shape": ""
          }
         },
         "name": "JONWAY",
         "orientation": "v",
         "showlegend": true,
         "textposition": "auto",
         "texttemplate": "%{y:.2s}",
         "type": "bar",
         "x": {
          "bdata": "3wfgB+EH4wfkB+UH",
          "dtype": "i2"
         },
         "xaxis": "x",
         "y": {
          "bdata": "BggCAwgG",
          "dtype": "i1"
         },
         "yaxis": "y"
        },
        {
         "hovertemplate": "Make=GREAT WALL<br>Year=%{x}<br>Registrations=%{y}<extra></extra>",
         "legendgroup": "GREAT WALL",
         "marker": {
          "color": "#1890ae",
          "pattern": {
           "shape": ""
          }
         },
         "name": "GREAT WALL",
         "orientation": "v",
         "showlegend": true,
         "textposition": "auto",
         "texttemplate": "%{y:.2s}",
         "type": "bar",
         "x": {
          "bdata": "4gflB+YH5wc=",
          "dtype": "i2"
         },
         "xaxis": "x",
         "y": {
          "bdata": "AAABAC8AqQA=",
          "dtype": "i2"
         },
         "yaxis": "y"
        },
        {
         "hovertemplate": "Make=ORA<br>Year=%{x}<br>Registrations=%{y}<extra></extra>",
         "legendgroup": "ORA",
         "marker": {
          "color": "#d56270",
          "pattern": {
           "shape": ""
          }
         },
         "name": "ORA",
         "orientation": "v",
         "showlegend": true,
         "textposition": "auto",
         "texttemplate": "%{y:.2s}",
         "type": "bar",
         "x": {
          "bdata": "5gfnB+gH",
          "dtype": "i2"
         },
         "xaxis": "x",
         "y": {
          "bdata": "HABeCJka",
          "dtype": "i2"
         },
         "yaxis": "y"
        },
        {
         "hovertemplate": "Make=OMODA<br>Year=%{x}<br>Registrations=%{y}<extra></extra>",
         "legendgroup": "OMODA",
         "marker": {
          "color": "#87ffff",
          "pattern": {
           "shape": ""
          }
         },
         "name": "OMODA",
         "orientation": "v",
         "showlegend": true,
         "textposition": "auto",
         "texttemplate": "%{y:.2s}",
         "type": "bar",
         "x": {
          "bdata": "6Ac=",
          "dtype": "i2"
         },
         "xaxis": "x",
         "y": {
          "bdata": "4QQ=",
          "dtype": "i2"
         },
         "yaxis": "y"
        }
       ],
       "layout": {
        "barmode": "stack",
        "legend": {
         "title": {
          "text": "Chinese Brand"
         },
         "tracegroupgap": 0
        },
        "template": {
         "data": {
          "bar": [
           {
            "error_x": {
             "color": "#2a3f5f"
            },
            "error_y": {
             "color": "#2a3f5f"
            },
            "marker": {
             "line": {
              "color": "white",
              "width": 0.5
             },
             "pattern": {
              "fillmode": "overlay",
              "size": 10,
              "solidity": 0.2
             }
            },
            "type": "bar"
           }
          ],
          "barpolar": [
           {
            "marker": {
             "line": {
              "color": "white",
              "width": 0.5
             },
             "pattern": {
              "fillmode": "overlay",
              "size": 10,
              "solidity": 0.2
             }
            },
            "type": "barpolar"
           }
          ],
          "carpet": [
           {
            "aaxis": {
             "endlinecolor": "#2a3f5f",
             "gridcolor": "#C8D4E3",
             "linecolor": "#C8D4E3",
             "minorgridcolor": "#C8D4E3",
             "startlinecolor": "#2a3f5f"
            },
            "baxis": {
             "endlinecolor": "#2a3f5f",
             "gridcolor": "#C8D4E3",
             "linecolor": "#C8D4E3",
             "minorgridcolor": "#C8D4E3",
             "startlinecolor": "#2a3f5f"
            },
            "type": "carpet"
           }
          ],
          "choropleth": [
           {
            "colorbar": {
             "outlinewidth": 0,
             "ticks": ""
            },
            "type": "choropleth"
           }
          ],
          "contour": [
           {
            "colorbar": {
             "outlinewidth": 0,
             "ticks": ""
            },
            "colorscale": [
             [
              0,
              "#0d0887"
             ],
             [
              0.1111111111111111,
              "#46039f"
             ],
             [
              0.2222222222222222,
              "#7201a8"
             ],
             [
              0.3333333333333333,
              "#9c179e"
             ],
             [
              0.4444444444444444,
              "#bd3786"
             ],
             [
              0.5555555555555556,
              "#d8576b"
             ],
             [
              0.6666666666666666,
              "#ed7953"
             ],
             [
              0.7777777777777778,
              "#fb9f3a"
             ],
             [
              0.8888888888888888,
              "#fdca26"
             ],
             [
              1,
              "#f0f921"
             ]
            ],
            "type": "contour"
           }
          ],
          "contourcarpet": [
           {
            "colorbar": {
             "outlinewidth": 0,
             "ticks": ""
            },
            "type": "contourcarpet"
           }
          ],
          "heatmap": [
           {
            "colorbar": {
             "outlinewidth": 0,
             "ticks": ""
            },
            "colorscale": [
             [
              0,
              "#0d0887"
             ],
             [
              0.1111111111111111,
              "#46039f"
             ],
             [
              0.2222222222222222,
              "#7201a8"
             ],
             [
              0.3333333333333333,
              "#9c179e"
             ],
             [
              0.4444444444444444,
              "#bd3786"
             ],
             [
              0.5555555555555556,
              "#d8576b"
             ],
             [
              0.6666666666666666,
              "#ed7953"
             ],
             [
              0.7777777777777778,
              "#fb9f3a"
             ],
             [
              0.8888888888888888,
              "#fdca26"
             ],
             [
              1,
              "#f0f921"
             ]
            ],
            "type": "heatmap"
           }
          ],
          "histogram": [
           {
            "marker": {
             "pattern": {
              "fillmode": "overlay",
              "size": 10,
              "solidity": 0.2
             }
            },
            "type": "histogram"
           }
          ],
          "histogram2d": [
           {
            "colorbar": {
             "outlinewidth": 0,
             "ticks": ""
            },
            "colorscale": [
             [
              0,
              "#0d0887"
             ],
             [
              0.1111111111111111,
              "#46039f"
             ],
             [
              0.2222222222222222,
              "#7201a8"
             ],
             [
              0.3333333333333333,
              "#9c179e"
             ],
             [
              0.4444444444444444,
              "#bd3786"
             ],
             [
              0.5555555555555556,
              "#d8576b"
             ],
             [
              0.6666666666666666,
              "#ed7953"
             ],
             [
              0.7777777777777778,
              "#fb9f3a"
             ],
             [
              0.8888888888888888,
              "#fdca26"
             ],
             [
              1,
              "#f0f921"
             ]
            ],
            "type": "histogram2d"
           }
          ],
          "histogram2dcontour": [
           {
            "colorbar": {
             "outlinewidth": 0,
             "ticks": ""
            },
            "colorscale": [
             [
              0,
              "#0d0887"
             ],
             [
              0.1111111111111111,
              "#46039f"
             ],
             [
              0.2222222222222222,
              "#7201a8"
             ],
             [
              0.3333333333333333,
              "#9c179e"
             ],
             [
              0.4444444444444444,
              "#bd3786"
             ],
             [
              0.5555555555555556,
              "#d8576b"
             ],
             [
              0.6666666666666666,
              "#ed7953"
             ],
             [
              0.7777777777777778,
              "#fb9f3a"
             ],
             [
              0.8888888888888888,
              "#fdca26"
             ],
             [
              1,
              "#f0f921"
             ]
            ],
            "type": "histogram2dcontour"
           }
          ],
          "mesh3d": [
           {
            "colorbar": {
             "outlinewidth": 0,
             "ticks": ""
            },
            "type": "mesh3d"
           }
          ],
          "parcoords": [
           {
            "line": {
             "colorbar": {
              "outlinewidth": 0,
              "ticks": ""
             }
            },
            "type": "parcoords"
           }
          ],
          "pie": [
           {
            "automargin": true,
            "type": "pie"
           }
          ],
          "scatter": [
           {
            "fillpattern": {
             "fillmode": "overlay",
             "size": 10,
             "solidity": 0.2
            },
            "type": "scatter"
           }
          ],
          "scatter3d": [
           {
            "line": {
             "colorbar": {
              "outlinewidth": 0,
              "ticks": ""
             }
            },
            "marker": {
             "colorbar": {
              "outlinewidth": 0,
              "ticks": ""
             }
            },
            "type": "scatter3d"
           }
          ],
          "scattercarpet": [
           {
            "marker": {
             "colorbar": {
              "outlinewidth": 0,
              "ticks": ""
             }
            },
            "type": "scattercarpet"
           }
          ],
          "scattergeo": [
           {
            "marker": {
             "colorbar": {
              "outlinewidth": 0,
              "ticks": ""
             }
            },
            "type": "scattergeo"
           }
          ],
          "scattergl": [
           {
            "marker": {
             "colorbar": {
              "outlinewidth": 0,
              "ticks": ""
             }
            },
            "type": "scattergl"
           }
          ],
          "scattermap": [
           {
            "marker": {
             "colorbar": {
              "outlinewidth": 0,
              "ticks": ""
             }
            },
            "type": "scattermap"
           }
          ],
          "scattermapbox": [
           {
            "marker": {
             "colorbar": {
              "outlinewidth": 0,
              "ticks": ""
             }
            },
            "type": "scattermapbox"
           }
          ],
          "scatterpolar": [
           {
            "marker": {
             "colorbar": {
              "outlinewidth": 0,
              "ticks": ""
             }
            },
            "type": "scatterpolar"
           }
          ],
          "scatterpolargl": [
           {
            "marker": {
             "colorbar": {
              "outlinewidth": 0,
              "ticks": ""
             }
            },
            "type": "scatterpolargl"
           }
          ],
          "scatterternary": [
           {
            "marker": {
             "colorbar": {
              "outlinewidth": 0,
              "ticks": ""
             }
            },
            "type": "scatterternary"
           }
          ],
          "surface": [
           {
            "colorbar": {
             "outlinewidth": 0,
             "ticks": ""
            },
            "colorscale": [
             [
              0,
              "#0d0887"
             ],
             [
              0.1111111111111111,
              "#46039f"
             ],
             [
              0.2222222222222222,
              "#7201a8"
             ],
             [
              0.3333333333333333,
              "#9c179e"
             ],
             [
              0.4444444444444444,
              "#bd3786"
             ],
             [
              0.5555555555555556,
              "#d8576b"
             ],
             [
              0.6666666666666666,
              "#ed7953"
             ],
             [
              0.7777777777777778,
              "#fb9f3a"
             ],
             [
              0.8888888888888888,
              "#fdca26"
             ],
             [
              1,
              "#f0f921"
             ]
            ],
            "type": "surface"
           }
          ],
          "table": [
           {
            "cells": {
             "fill": {
              "color": "#EBF0F8"
             },
             "line": {
              "color": "white"
             }
            },
            "header": {
             "fill": {
              "color": "#C8D4E3"
             },
             "line": {
              "color": "white"
             }
            },
            "type": "table"
           }
          ]
         },
         "layout": {
          "annotationdefaults": {
           "arrowcolor": "#2a3f5f",
           "arrowhead": 0,
           "arrowwidth": 1
          },
          "autotypenumbers": "strict",
          "coloraxis": {
           "colorbar": {
            "outlinewidth": 0,
            "ticks": ""
           }
          },
          "colorscale": {
           "diverging": [
            [
             0,
             "#8e0152"
            ],
            [
             0.1,
             "#c51b7d"
            ],
            [
             0.2,
             "#de77ae"
            ],
            [
             0.3,
             "#f1b6da"
            ],
            [
             0.4,
             "#fde0ef"
            ],
            [
             0.5,
             "#f7f7f7"
            ],
            [
             0.6,
             "#e6f5d0"
            ],
            [
             0.7,
             "#b8e186"
            ],
            [
             0.8,
             "#7fbc41"
            ],
            [
             0.9,
             "#4d9221"
            ],
            [
             1,
             "#276419"
            ]
           ],
           "sequential": [
            [
             0,
             "#0d0887"
            ],
            [
             0.1111111111111111,
             "#46039f"
            ],
            [
             0.2222222222222222,
             "#7201a8"
            ],
            [
             0.3333333333333333,
             "#9c179e"
            ],
            [
             0.4444444444444444,
             "#bd3786"
            ],
            [
             0.5555555555555556,
             "#d8576b"
            ],
            [
             0.6666666666666666,
             "#ed7953"
            ],
            [
             0.7777777777777778,
             "#fb9f3a"
            ],
            [
             0.8888888888888888,
             "#fdca26"
            ],
            [
             1,
             "#f0f921"
            ]
           ],
           "sequentialminus": [
            [
             0,
             "#0d0887"
            ],
            [
             0.1111111111111111,
             "#46039f"
            ],
            [
             0.2222222222222222,
             "#7201a8"
            ],
            [
             0.3333333333333333,
             "#9c179e"
            ],
            [
             0.4444444444444444,
             "#bd3786"
            ],
            [
             0.5555555555555556,
             "#d8576b"
            ],
            [
             0.6666666666666666,
             "#ed7953"
            ],
            [
             0.7777777777777778,
             "#fb9f3a"
            ],
            [
             0.8888888888888888,
             "#fdca26"
            ],
            [
             1,
             "#f0f921"
            ]
           ]
          },
          "colorway": [
           "#636efa",
           "#EF553B",
           "#00cc96",
           "#ab63fa",
           "#FFA15A",
           "#19d3f3",
           "#FF6692",
           "#B6E880",
           "#FF97FF",
           "#FECB52"
          ],
          "font": {
           "color": "#2a3f5f"
          },
          "geo": {
           "bgcolor": "white",
           "lakecolor": "white",
           "landcolor": "white",
           "showlakes": true,
           "showland": true,
           "subunitcolor": "#C8D4E3"
          },
          "hoverlabel": {
           "align": "left"
          },
          "hovermode": "closest",
          "mapbox": {
           "style": "light"
          },
          "paper_bgcolor": "white",
          "plot_bgcolor": "white",
          "polar": {
           "angularaxis": {
            "gridcolor": "#EBF0F8",
            "linecolor": "#EBF0F8",
            "ticks": ""
           },
           "bgcolor": "white",
           "radialaxis": {
            "gridcolor": "#EBF0F8",
            "linecolor": "#EBF0F8",
            "ticks": ""
           }
          },
          "scene": {
           "xaxis": {
            "backgroundcolor": "white",
            "gridcolor": "#DFE8F3",
            "gridwidth": 2,
            "linecolor": "#EBF0F8",
            "showbackground": true,
            "ticks": "",
            "zerolinecolor": "#EBF0F8"
           },
           "yaxis": {
            "backgroundcolor": "white",
            "gridcolor": "#DFE8F3",
            "gridwidth": 2,
            "linecolor": "#EBF0F8",
            "showbackground": true,
            "ticks": "",
            "zerolinecolor": "#EBF0F8"
           },
           "zaxis": {
            "backgroundcolor": "white",
            "gridcolor": "#DFE8F3",
            "gridwidth": 2,
            "linecolor": "#EBF0F8",
            "showbackground": true,
            "ticks": "",
            "zerolinecolor": "#EBF0F8"
           }
          },
          "shapedefaults": {
           "line": {
            "color": "#2a3f5f"
           }
          },
          "ternary": {
           "aaxis": {
            "gridcolor": "#DFE8F3",
            "linecolor": "#A2B1C6",
            "ticks": ""
           },
           "baxis": {
            "gridcolor": "#DFE8F3",
            "linecolor": "#A2B1C6",
            "ticks": ""
           },
           "bgcolor": "white",
           "caxis": {
            "gridcolor": "#DFE8F3",
            "linecolor": "#A2B1C6",
            "ticks": ""
           }
          },
          "title": {
           "x": 0.05
          },
          "xaxis": {
           "automargin": true,
           "gridcolor": "#EBF0F8",
           "linecolor": "#EBF0F8",
           "ticks": "",
           "title": {
            "standoff": 15
           },
           "zerolinecolor": "#EBF0F8",
           "zerolinewidth": 2
          },
          "yaxis": {
           "automargin": true,
           "gridcolor": "#EBF0F8",
           "linecolor": "#EBF0F8",
           "ticks": "",
           "title": {
            "standoff": 15
           },
           "zerolinecolor": "#EBF0F8",
           "zerolinewidth": 2
          }
         }
        },
        "title": {
         "text": "Chinese Brand Composition in the UK Market (by Year)"
        },
        "xaxis": {
         "anchor": "y",
         "domain": [
          0,
          1
         ],
         "title": {
          "text": "Year"
         }
        },
        "yaxis": {
         "anchor": "x",
         "domain": [
          0,
          1
         ],
         "title": {
          "text": "Registrations"
         }
        }
       }
      }
     },
     "metadata": {},
     "output_type": "display_data"
    }
   ],
   "source": [
    "# --- Filter dataset to Chinese parent companies ---\n",
    "df_china = df_ev[\n",
    "    (df_veh_raw[\"Country\"] == \"China\") & (df_veh_raw[\"Year\"] < 2025)\n",
    "].copy()\n",
    "\n",
    "# --- Aggregate registrations by Year × Make ---\n",
    "china_comp = (\n",
    "    df_china.groupby([\"Year\", \"Make\"], as_index=False)[\"Registrations\"]\n",
    "            .sum()\n",
    "            .sort_values([\"Year\", \"Registrations\"], ascending=[True, False])\n",
    ")\n",
    "\n",
    "# --- Optional: keep top N brands for each year (rest -> 'Other Chinese') ---\n",
    "top_brands = (\n",
    "    china_comp.groupby(\"Year\")[\"Registrations\"]\n",
    "              .apply(lambda x: x.nlargest(6).index)\n",
    "              .explode()\n",
    ")\n",
    "china_comp[\"Make\"] = china_comp.apply(\n",
    "    lambda r: r[\"Make\"] if r.name in top_brands.values else \"Other Chinese\", axis=1\n",
    ")\n",
    "\n",
    "china_comp = (\n",
    "    china_comp.groupby([\"Year\", \"Make\"], as_index=False)[\"Registrations\"]\n",
    "              .sum()\n",
    ")\n",
    "\n",
    "# --- Plotly bar chart ---\n",
    "fig = px.bar(\n",
    "    china_comp,\n",
    "    x=\"Year\",\n",
    "    y=\"Registrations\",\n",
    "    color=\"Make\",\n",
    "    title=\"Chinese Brand Composition in the UK Market (by Year)\",\n",
    "    text_auto=\".2s\",\n",
    "    color_discrete_sequence=KES_palette\n",
    ")\n",
    "\n",
    "fig.update_layout(\n",
    "    barmode=\"stack\",        # or \"group\" if you prefer side-by-side bars\n",
    "    xaxis_title=\"Year\",\n",
    "    yaxis_title=\"Registrations\",\n",
    "    legend_title_text=\"Chinese Brand\",\n",
    "    template=\"plotly_white\"\n",
    ")\n",
    "\n",
    "fig.write_image(FIG_DIR / \"chinese_brand_comp.pdf\")\n",
    "\n",
    "fig.show()"
   ]
  },
  {
   "cell_type": "markdown",
   "id": "3bcba17a",
   "metadata": {},
   "source": [
    "### 4.1.10 China vs Germany in the UK"
   ]
  },
  {
   "cell_type": "code",
   "execution_count": 20,
   "id": "b1941de5",
   "metadata": {},
   "outputs": [
    {
     "data": {
      "application/vnd.plotly.v1+json": {
       "config": {
        "plotlyServerURL": "https://plot.ly"
       },
       "data": [
        {
         "hovertemplate": "Country=China<br>Year=%{x}<br>Growth_%=%{y}<extra></extra>",
         "legendgroup": "China",
         "line": {
          "color": "#780000",
          "dash": "solid"
         },
         "marker": {
          "symbol": "circle"
         },
         "mode": "lines+markers",
         "name": "China",
         "orientation": "v",
         "showlegend": true,
         "type": "scatter",
         "x": {
          "bdata": "3AfdB94H3wfgB+EH4gfjB+QH5QfmB+cH6Ac=",
          "dtype": "i2"
         },
         "xaxis": "x",
         "y": {
          "bdata": "ICakcZsbEsB1rjoMd74UwMVPkFKwoBHAsJKer2MxFMCsxL0PBHD7vzgFBQUFYdG/2LR7oXq86T+Grm5jk5QMQBThb9dcrgdAWPZNM2YqI0AyAgPohKwvQFKmb+uiZDVAeD4gpwFYN0A=",
          "dtype": "f8"
         },
         "yaxis": "y"
        },
        {
         "hovertemplate": "Country=Germany<br>Year=%{x}<br>Growth_%=%{y}<extra></extra>",
         "legendgroup": "Germany",
         "line": {
          "color": "#1D3557",
          "dash": "solid"
         },
         "marker": {
          "symbol": "circle"
         },
         "mode": "lines+markers",
         "name": "Germany",
         "orientation": "v",
         "showlegend": true,
         "type": "scatter",
         "x": {
          "bdata": "3AfdB94H3wfgB+EH4gfjB+QH5QfmB+cH6Ac=",
          "dtype": "i2"
         },
         "xaxis": "x",
         "y": {
          "bdata": "0bUs/EJyE0Adwb6dN7QVQG8llagZQRlAW8gELuz3FUCmiuKyngoYQHnedJxWjxVAKrlpb00REkCkjnCtQekPQNy5cDpt8Po/fia1inJHBkC88i4tLAv9P4jXKc9TxQBAVMIfpR6eAkA=",
          "dtype": "f8"
         },
         "yaxis": "y"
        },
        {
         "hovertemplate": "Country=United States<br>Year=%{x}<br>Growth_%=%{y}<extra></extra>",
         "legendgroup": "United States",
         "line": {
          "color": "#A8DADC",
          "dash": "solid"
         },
         "marker": {
          "symbol": "circle"
         },
         "mode": "lines+markers",
         "name": "United States",
         "orientation": "v",
         "showlegend": true,
         "type": "scatter",
         "x": {
          "bdata": "3AfdB94H3wfgB+EH4gfjB+QH5QfmB+cH6Ac=",
          "dtype": "i2"
         },
         "xaxis": "x",
         "y": {
          "bdata": "AGjHyrYZYr8AOrkb0N/YP5hhPat1iuM/aLOllzUH4L9gLmg/Bt+xvzTV6l5DFue/WDjnJt+Q+b/E7iH0Ngvzv8Q4bNOpGf6/kFYtfF/L978iiqeiB0P0vwBNBsR9/ra/EJCGpds98L8=",
          "dtype": "f8"
         },
         "yaxis": "y"
        }
       ],
       "layout": {
        "legend": {
         "title": {
          "text": "Country"
         },
         "tracegroupgap": 0
        },
        "template": {
         "data": {
          "bar": [
           {
            "error_x": {
             "color": "#2a3f5f"
            },
            "error_y": {
             "color": "#2a3f5f"
            },
            "marker": {
             "line": {
              "color": "white",
              "width": 0.5
             },
             "pattern": {
              "fillmode": "overlay",
              "size": 10,
              "solidity": 0.2
             }
            },
            "type": "bar"
           }
          ],
          "barpolar": [
           {
            "marker": {
             "line": {
              "color": "white",
              "width": 0.5
             },
             "pattern": {
              "fillmode": "overlay",
              "size": 10,
              "solidity": 0.2
             }
            },
            "type": "barpolar"
           }
          ],
          "carpet": [
           {
            "aaxis": {
             "endlinecolor": "#2a3f5f",
             "gridcolor": "#C8D4E3",
             "linecolor": "#C8D4E3",
             "minorgridcolor": "#C8D4E3",
             "startlinecolor": "#2a3f5f"
            },
            "baxis": {
             "endlinecolor": "#2a3f5f",
             "gridcolor": "#C8D4E3",
             "linecolor": "#C8D4E3",
             "minorgridcolor": "#C8D4E3",
             "startlinecolor": "#2a3f5f"
            },
            "type": "carpet"
           }
          ],
          "choropleth": [
           {
            "colorbar": {
             "outlinewidth": 0,
             "ticks": ""
            },
            "type": "choropleth"
           }
          ],
          "contour": [
           {
            "colorbar": {
             "outlinewidth": 0,
             "ticks": ""
            },
            "colorscale": [
             [
              0,
              "#0d0887"
             ],
             [
              0.1111111111111111,
              "#46039f"
             ],
             [
              0.2222222222222222,
              "#7201a8"
             ],
             [
              0.3333333333333333,
              "#9c179e"
             ],
             [
              0.4444444444444444,
              "#bd3786"
             ],
             [
              0.5555555555555556,
              "#d8576b"
             ],
             [
              0.6666666666666666,
              "#ed7953"
             ],
             [
              0.7777777777777778,
              "#fb9f3a"
             ],
             [
              0.8888888888888888,
              "#fdca26"
             ],
             [
              1,
              "#f0f921"
             ]
            ],
            "type": "contour"
           }
          ],
          "contourcarpet": [
           {
            "colorbar": {
             "outlinewidth": 0,
             "ticks": ""
            },
            "type": "contourcarpet"
           }
          ],
          "heatmap": [
           {
            "colorbar": {
             "outlinewidth": 0,
             "ticks": ""
            },
            "colorscale": [
             [
              0,
              "#0d0887"
             ],
             [
              0.1111111111111111,
              "#46039f"
             ],
             [
              0.2222222222222222,
              "#7201a8"
             ],
             [
              0.3333333333333333,
              "#9c179e"
             ],
             [
              0.4444444444444444,
              "#bd3786"
             ],
             [
              0.5555555555555556,
              "#d8576b"
             ],
             [
              0.6666666666666666,
              "#ed7953"
             ],
             [
              0.7777777777777778,
              "#fb9f3a"
             ],
             [
              0.8888888888888888,
              "#fdca26"
             ],
             [
              1,
              "#f0f921"
             ]
            ],
            "type": "heatmap"
           }
          ],
          "histogram": [
           {
            "marker": {
             "pattern": {
              "fillmode": "overlay",
              "size": 10,
              "solidity": 0.2
             }
            },
            "type": "histogram"
           }
          ],
          "histogram2d": [
           {
            "colorbar": {
             "outlinewidth": 0,
             "ticks": ""
            },
            "colorscale": [
             [
              0,
              "#0d0887"
             ],
             [
              0.1111111111111111,
              "#46039f"
             ],
             [
              0.2222222222222222,
              "#7201a8"
             ],
             [
              0.3333333333333333,
              "#9c179e"
             ],
             [
              0.4444444444444444,
              "#bd3786"
             ],
             [
              0.5555555555555556,
              "#d8576b"
             ],
             [
              0.6666666666666666,
              "#ed7953"
             ],
             [
              0.7777777777777778,
              "#fb9f3a"
             ],
             [
              0.8888888888888888,
              "#fdca26"
             ],
             [
              1,
              "#f0f921"
             ]
            ],
            "type": "histogram2d"
           }
          ],
          "histogram2dcontour": [
           {
            "colorbar": {
             "outlinewidth": 0,
             "ticks": ""
            },
            "colorscale": [
             [
              0,
              "#0d0887"
             ],
             [
              0.1111111111111111,
              "#46039f"
             ],
             [
              0.2222222222222222,
              "#7201a8"
             ],
             [
              0.3333333333333333,
              "#9c179e"
             ],
             [
              0.4444444444444444,
              "#bd3786"
             ],
             [
              0.5555555555555556,
              "#d8576b"
             ],
             [
              0.6666666666666666,
              "#ed7953"
             ],
             [
              0.7777777777777778,
              "#fb9f3a"
             ],
             [
              0.8888888888888888,
              "#fdca26"
             ],
             [
              1,
              "#f0f921"
             ]
            ],
            "type": "histogram2dcontour"
           }
          ],
          "mesh3d": [
           {
            "colorbar": {
             "outlinewidth": 0,
             "ticks": ""
            },
            "type": "mesh3d"
           }
          ],
          "parcoords": [
           {
            "line": {
             "colorbar": {
              "outlinewidth": 0,
              "ticks": ""
             }
            },
            "type": "parcoords"
           }
          ],
          "pie": [
           {
            "automargin": true,
            "type": "pie"
           }
          ],
          "scatter": [
           {
            "fillpattern": {
             "fillmode": "overlay",
             "size": 10,
             "solidity": 0.2
            },
            "type": "scatter"
           }
          ],
          "scatter3d": [
           {
            "line": {
             "colorbar": {
              "outlinewidth": 0,
              "ticks": ""
             }
            },
            "marker": {
             "colorbar": {
              "outlinewidth": 0,
              "ticks": ""
             }
            },
            "type": "scatter3d"
           }
          ],
          "scattercarpet": [
           {
            "marker": {
             "colorbar": {
              "outlinewidth": 0,
              "ticks": ""
             }
            },
            "type": "scattercarpet"
           }
          ],
          "scattergeo": [
           {
            "marker": {
             "colorbar": {
              "outlinewidth": 0,
              "ticks": ""
             }
            },
            "type": "scattergeo"
           }
          ],
          "scattergl": [
           {
            "marker": {
             "colorbar": {
              "outlinewidth": 0,
              "ticks": ""
             }
            },
            "type": "scattergl"
           }
          ],
          "scattermap": [
           {
            "marker": {
             "colorbar": {
              "outlinewidth": 0,
              "ticks": ""
             }
            },
            "type": "scattermap"
           }
          ],
          "scattermapbox": [
           {
            "marker": {
             "colorbar": {
              "outlinewidth": 0,
              "ticks": ""
             }
            },
            "type": "scattermapbox"
           }
          ],
          "scatterpolar": [
           {
            "marker": {
             "colorbar": {
              "outlinewidth": 0,
              "ticks": ""
             }
            },
            "type": "scatterpolar"
           }
          ],
          "scatterpolargl": [
           {
            "marker": {
             "colorbar": {
              "outlinewidth": 0,
              "ticks": ""
             }
            },
            "type": "scatterpolargl"
           }
          ],
          "scatterternary": [
           {
            "marker": {
             "colorbar": {
              "outlinewidth": 0,
              "ticks": ""
             }
            },
            "type": "scatterternary"
           }
          ],
          "surface": [
           {
            "colorbar": {
             "outlinewidth": 0,
             "ticks": ""
            },
            "colorscale": [
             [
              0,
              "#0d0887"
             ],
             [
              0.1111111111111111,
              "#46039f"
             ],
             [
              0.2222222222222222,
              "#7201a8"
             ],
             [
              0.3333333333333333,
              "#9c179e"
             ],
             [
              0.4444444444444444,
              "#bd3786"
             ],
             [
              0.5555555555555556,
              "#d8576b"
             ],
             [
              0.6666666666666666,
              "#ed7953"
             ],
             [
              0.7777777777777778,
              "#fb9f3a"
             ],
             [
              0.8888888888888888,
              "#fdca26"
             ],
             [
              1,
              "#f0f921"
             ]
            ],
            "type": "surface"
           }
          ],
          "table": [
           {
            "cells": {
             "fill": {
              "color": "#EBF0F8"
             },
             "line": {
              "color": "white"
             }
            },
            "header": {
             "fill": {
              "color": "#C8D4E3"
             },
             "line": {
              "color": "white"
             }
            },
            "type": "table"
           }
          ]
         },
         "layout": {
          "annotationdefaults": {
           "arrowcolor": "#2a3f5f",
           "arrowhead": 0,
           "arrowwidth": 1
          },
          "autotypenumbers": "strict",
          "coloraxis": {
           "colorbar": {
            "outlinewidth": 0,
            "ticks": ""
           }
          },
          "colorscale": {
           "diverging": [
            [
             0,
             "#8e0152"
            ],
            [
             0.1,
             "#c51b7d"
            ],
            [
             0.2,
             "#de77ae"
            ],
            [
             0.3,
             "#f1b6da"
            ],
            [
             0.4,
             "#fde0ef"
            ],
            [
             0.5,
             "#f7f7f7"
            ],
            [
             0.6,
             "#e6f5d0"
            ],
            [
             0.7,
             "#b8e186"
            ],
            [
             0.8,
             "#7fbc41"
            ],
            [
             0.9,
             "#4d9221"
            ],
            [
             1,
             "#276419"
            ]
           ],
           "sequential": [
            [
             0,
             "#0d0887"
            ],
            [
             0.1111111111111111,
             "#46039f"
            ],
            [
             0.2222222222222222,
             "#7201a8"
            ],
            [
             0.3333333333333333,
             "#9c179e"
            ],
            [
             0.4444444444444444,
             "#bd3786"
            ],
            [
             0.5555555555555556,
             "#d8576b"
            ],
            [
             0.6666666666666666,
             "#ed7953"
            ],
            [
             0.7777777777777778,
             "#fb9f3a"
            ],
            [
             0.8888888888888888,
             "#fdca26"
            ],
            [
             1,
             "#f0f921"
            ]
           ],
           "sequentialminus": [
            [
             0,
             "#0d0887"
            ],
            [
             0.1111111111111111,
             "#46039f"
            ],
            [
             0.2222222222222222,
             "#7201a8"
            ],
            [
             0.3333333333333333,
             "#9c179e"
            ],
            [
             0.4444444444444444,
             "#bd3786"
            ],
            [
             0.5555555555555556,
             "#d8576b"
            ],
            [
             0.6666666666666666,
             "#ed7953"
            ],
            [
             0.7777777777777778,
             "#fb9f3a"
            ],
            [
             0.8888888888888888,
             "#fdca26"
            ],
            [
             1,
             "#f0f921"
            ]
           ]
          },
          "colorway": [
           "#636efa",
           "#EF553B",
           "#00cc96",
           "#ab63fa",
           "#FFA15A",
           "#19d3f3",
           "#FF6692",
           "#B6E880",
           "#FF97FF",
           "#FECB52"
          ],
          "font": {
           "color": "#2a3f5f"
          },
          "geo": {
           "bgcolor": "white",
           "lakecolor": "white",
           "landcolor": "white",
           "showlakes": true,
           "showland": true,
           "subunitcolor": "#C8D4E3"
          },
          "hoverlabel": {
           "align": "left"
          },
          "hovermode": "closest",
          "mapbox": {
           "style": "light"
          },
          "paper_bgcolor": "white",
          "plot_bgcolor": "white",
          "polar": {
           "angularaxis": {
            "gridcolor": "#EBF0F8",
            "linecolor": "#EBF0F8",
            "ticks": ""
           },
           "bgcolor": "white",
           "radialaxis": {
            "gridcolor": "#EBF0F8",
            "linecolor": "#EBF0F8",
            "ticks": ""
           }
          },
          "scene": {
           "xaxis": {
            "backgroundcolor": "white",
            "gridcolor": "#DFE8F3",
            "gridwidth": 2,
            "linecolor": "#EBF0F8",
            "showbackground": true,
            "ticks": "",
            "zerolinecolor": "#EBF0F8"
           },
           "yaxis": {
            "backgroundcolor": "white",
            "gridcolor": "#DFE8F3",
            "gridwidth": 2,
            "linecolor": "#EBF0F8",
            "showbackground": true,
            "ticks": "",
            "zerolinecolor": "#EBF0F8"
           },
           "zaxis": {
            "backgroundcolor": "white",
            "gridcolor": "#DFE8F3",
            "gridwidth": 2,
            "linecolor": "#EBF0F8",
            "showbackground": true,
            "ticks": "",
            "zerolinecolor": "#EBF0F8"
           }
          },
          "shapedefaults": {
           "line": {
            "color": "#2a3f5f"
           }
          },
          "ternary": {
           "aaxis": {
            "gridcolor": "#DFE8F3",
            "linecolor": "#A2B1C6",
            "ticks": ""
           },
           "baxis": {
            "gridcolor": "#DFE8F3",
            "linecolor": "#A2B1C6",
            "ticks": ""
           },
           "bgcolor": "white",
           "caxis": {
            "gridcolor": "#DFE8F3",
            "linecolor": "#A2B1C6",
            "ticks": ""
           }
          },
          "title": {
           "x": 0.05
          },
          "xaxis": {
           "automargin": true,
           "gridcolor": "#EBF0F8",
           "linecolor": "#EBF0F8",
           "ticks": "",
           "title": {
            "standoff": 15
           },
           "zerolinecolor": "#EBF0F8",
           "zerolinewidth": 2
          },
          "yaxis": {
           "automargin": true,
           "gridcolor": "#EBF0F8",
           "linecolor": "#EBF0F8",
           "ticks": "",
           "title": {
            "standoff": 15
           },
           "zerolinecolor": "#EBF0F8",
           "zerolinewidth": 2
          }
         }
        },
        "title": {
         "text": "Rate of Growth in UK Car Registrations: Chinese vs United States vs German Automakers"
        },
        "xaxis": {
         "anchor": "y",
         "domain": [
          0,
          1
         ],
         "title": {
          "text": "Year"
         }
        },
        "yaxis": {
         "anchor": "x",
         "domain": [
          0,
          1
         ],
         "title": {
          "text": "Annual Growth Rate (%)"
         }
        }
       }
      }
     },
     "metadata": {},
     "output_type": "display_data"
    }
   ],
   "source": [
    "# ==== Chinese vs German Automakers: Rate of Growth Analysis ====\n",
    "# --- 1) Exclude 2025 and filter countries ---\n",
    "df_market = df_veh_raw[df_veh_raw[\"Year\"] < 2025].copy()\n",
    "df_cg = df_market[df_market[\"Country\"].isin([\"China\", \"Germany\", \"United States\"])]\n",
    "\n",
    "# --- 2) Aggregate by year and country ---\n",
    "cg_trend = (\n",
    "    df_cg.groupby([\"Year\", \"Country\"], as_index=False)[\"Registrations\"]\n",
    "         .sum()\n",
    "         .sort_values([\"Country\", \"Year\"])\n",
    ")\n",
    "\n",
    "# --- 3) Compute year-on-year growth rate (% change) ---\n",
    "cg_trend[\"Growth_%\"] = (\n",
    "    cg_trend.groupby(\"Country\")[\"Registrations\"]\n",
    "            .pct_change() * 100\n",
    ")\n",
    "\n",
    "# Drop first year (NaN growth)\n",
    "cg_trend = cg_trend.dropna(subset=[\"Growth_%\"])\n",
    "\n",
    "# --- 4) Plot: Annual Growth Rate (Registrations) ---\n",
    "fig = px.line(\n",
    "    cg_trend,\n",
    "    x=\"Year\",\n",
    "    y=\"Growth_%\",\n",
    "    color=\"Country\",\n",
    "    title=\"Rate of Growth in UK Car Registrations: Chinese vs United States vs German Automakers\",\n",
    "    markers=True,\n",
    "    color_discrete_sequence=KES_palette\n",
    ")\n",
    "fig.update_layout(\n",
    "    template=\"plotly_white\",\n",
    "    yaxis_title=\"Annual Growth Rate (%)\",\n",
    "    xaxis_title=\"Year\"\n",
    ")\n",
    "fig.write_image(FIG_DIR / \"reg_china_v_german_trend.pdf\")\n",
    "\n",
    "# --- 5) Optional: Market Share Growth Rate ---\n",
    "# Compute market share within each year\n",
    "cg_trend[\"Share_%\"] = (\n",
    "    cg_trend.groupby(\"Year\")[\"Registrations\"]\n",
    "            .transform(lambda x: 100 * x / x.sum())\n",
    ")\n",
    "\n",
    "# Compute year-on-year change in market share\n",
    "cg_trend[\"Share_Growth_%\"] = (\n",
    "    cg_trend.groupby(\"Country\")[\"Share_%\"]\n",
    "            .pct_change() * 100\n",
    ")\n",
    "cg_share = cg_trend.dropna(subset=[\"Share_Growth_%\"])\n",
    "\n",
    "fig2 = px.line(\n",
    "    cg_share,\n",
    "    x=\"Year\",\n",
    "    y=\"Share_Growth_%\",\n",
    "    color=\"Country\",\n",
    "    title=\"Rate of Growth in Market Share: Chinese vs German Automakers\",\n",
    "    markers=True,\n",
    "    color_discrete_sequence=KES_palette\n",
    ")\n",
    "fig2.update_layout(\n",
    "    template=\"plotly_white\",\n",
    "    yaxis_title=\"Market Share Growth Rate (%)\",\n",
    "    xaxis_title=\"Year\"\n",
    ")\n",
    "fig2.write_image(FIG_DIR / \"market_share_china_v_german_trend.pdf\")\n",
    "\n",
    "fig.show()\n"
   ]
  },
  {
   "cell_type": "markdown",
   "id": "348b0212",
   "metadata": {},
   "source": []
  },
  {
   "cell_type": "markdown",
   "id": "263a5f96",
   "metadata": {},
   "source": [
    "# 5 Discussion Outputs"
   ]
  },
  {
   "cell_type": "markdown",
   "id": "8875f7c1",
   "metadata": {},
   "source": [
    "### 5.0.1 Setup & helpers"
   ]
  },
  {
   "cell_type": "code",
   "execution_count": 21,
   "id": "94245654",
   "metadata": {},
   "outputs": [
    {
     "data": {
      "application/vnd.microsoft.datawrangler.viewer.v0+json": {
       "columns": [
        {
         "name": "index",
         "rawType": "int64",
         "type": "integer"
        },
        {
         "name": "Year",
         "rawType": "int64",
         "type": "integer"
        },
        {
         "name": "FuelDuty",
         "rawType": "float64",
         "type": "float"
        }
       ],
       "ref": "a15ba5bf-aae6-4615-a631-6a4e59325d91",
       "rows": [
        [
         "41",
         "2011",
         "0.0"
        ],
        [
         "42",
         "2012",
         "0.0"
        ],
        [
         "43",
         "2013",
         "0.0"
        ],
        [
         "44",
         "2014",
         "0.0"
        ],
        [
         "45",
         "2015",
         "0.0"
        ],
        [
         "46",
         "2016",
         "0.0"
        ],
        [
         "47",
         "2017",
         "0.0"
        ],
        [
         "48",
         "2018",
         "0.0"
        ],
        [
         "49",
         "2019",
         "0.0"
        ],
        [
         "50",
         "2020",
         "0.0"
        ],
        [
         "51",
         "2021",
         "0.0"
        ],
        [
         "52",
         "2022",
         "0.0"
        ]
       ],
       "shape": {
        "columns": 2,
        "rows": 12
       }
      },
      "text/html": [
       "<div>\n",
       "<style scoped>\n",
       "    .dataframe tbody tr th:only-of-type {\n",
       "        vertical-align: middle;\n",
       "    }\n",
       "\n",
       "    .dataframe tbody tr th {\n",
       "        vertical-align: top;\n",
       "    }\n",
       "\n",
       "    .dataframe thead th {\n",
       "        text-align: right;\n",
       "    }\n",
       "</style>\n",
       "<table border=\"1\" class=\"dataframe\">\n",
       "  <thead>\n",
       "    <tr style=\"text-align: right;\">\n",
       "      <th></th>\n",
       "      <th>Year</th>\n",
       "      <th>FuelDuty</th>\n",
       "    </tr>\n",
       "  </thead>\n",
       "  <tbody>\n",
       "    <tr>\n",
       "      <th>41</th>\n",
       "      <td>2011</td>\n",
       "      <td>0.0</td>\n",
       "    </tr>\n",
       "    <tr>\n",
       "      <th>42</th>\n",
       "      <td>2012</td>\n",
       "      <td>0.0</td>\n",
       "    </tr>\n",
       "    <tr>\n",
       "      <th>43</th>\n",
       "      <td>2013</td>\n",
       "      <td>0.0</td>\n",
       "    </tr>\n",
       "    <tr>\n",
       "      <th>44</th>\n",
       "      <td>2014</td>\n",
       "      <td>0.0</td>\n",
       "    </tr>\n",
       "    <tr>\n",
       "      <th>45</th>\n",
       "      <td>2015</td>\n",
       "      <td>0.0</td>\n",
       "    </tr>\n",
       "    <tr>\n",
       "      <th>46</th>\n",
       "      <td>2016</td>\n",
       "      <td>0.0</td>\n",
       "    </tr>\n",
       "    <tr>\n",
       "      <th>47</th>\n",
       "      <td>2017</td>\n",
       "      <td>0.0</td>\n",
       "    </tr>\n",
       "    <tr>\n",
       "      <th>48</th>\n",
       "      <td>2018</td>\n",
       "      <td>0.0</td>\n",
       "    </tr>\n",
       "    <tr>\n",
       "      <th>49</th>\n",
       "      <td>2019</td>\n",
       "      <td>0.0</td>\n",
       "    </tr>\n",
       "    <tr>\n",
       "      <th>50</th>\n",
       "      <td>2020</td>\n",
       "      <td>0.0</td>\n",
       "    </tr>\n",
       "    <tr>\n",
       "      <th>51</th>\n",
       "      <td>2021</td>\n",
       "      <td>0.0</td>\n",
       "    </tr>\n",
       "    <tr>\n",
       "      <th>52</th>\n",
       "      <td>2022</td>\n",
       "      <td>0.0</td>\n",
       "    </tr>\n",
       "  </tbody>\n",
       "</table>\n",
       "</div>"
      ],
      "text/plain": [
       "    Year  FuelDuty\n",
       "41  2011       0.0\n",
       "42  2012       0.0\n",
       "43  2013       0.0\n",
       "44  2014       0.0\n",
       "45  2015       0.0\n",
       "46  2016       0.0\n",
       "47  2017       0.0\n",
       "48  2018       0.0\n",
       "49  2019       0.0\n",
       "50  2020       0.0\n",
       "51  2021       0.0\n",
       "52  2022       0.0"
      ]
     },
     "execution_count": 21,
     "metadata": {},
     "output_type": "execute_result"
    }
   ],
   "source": [
    "# Base working copy (exclude 2025)\n",
    "df_ev = df_veh_raw[df_veh_raw[\"Year\"] < 2025].copy()\n",
    "\n",
    "# Electric filter helper (uses your FuelGroup, but falls back if missing)\n",
    "is_electric = df_ev.get(\"Fuel Group\", pd.Series(index=df_ev.index, dtype=str)).eq(\"Electric\")\n",
    "if is_electric.isnull().all():\n",
    "    # fallback if FuelGroup not present; expand patterns as needed\n",
    "    is_electric = df_ev[\"Fuel\"].str.contains(\"electric\", case=False, na=False)\n",
    "\n",
    "# EV registrations per year\n",
    "ev_by_year = (\n",
    "    df_ev.loc[is_electric]\n",
    "      .groupby(\"Year\", as_index=False)[\"Registrations\"].sum()\n",
    "      .rename(columns={\"Registrations\":\"EV_Registrations\"})\n",
    ")\n",
    "\n",
    "\n",
    "# --- 1) Load as strings to avoid silent coercion ---\n",
    "fuel_raw = pd.read_csv(IN_DIR / \"fuel_data.csv\", dtype=str).rename(columns=str.strip)\n",
    "fuel_raw.columns = [c.strip() for c in fuel_raw.columns]\n",
    "\n",
    "# Expect columns like: \"Year\" and \"Amount\" (but allow variants)\n",
    "label_col = next((c for c in fuel_raw.columns if c.lower().startswith(\"year\")), None)\n",
    "amount_col = next((c for c in fuel_raw.columns if \"amount\" in c.lower()), None)\n",
    "if label_col is None or amount_col is None:\n",
    "    raise ValueError(f\"Couldn't find Year/Amount columns in {fuel_raw.columns.tolist()}\")\n",
    "\n",
    "# --- 2) Clean Amount -> numeric (remove currency, commas, NBSP, etc.) ---\n",
    "amt = (fuel_raw[amount_col]\n",
    "       .astype(str)\n",
    "       .str.replace(\"\\xa0\", \" \", regex=False)            # NBSP\n",
    "       .str.replace(r\"[£,]\", \"\", regex=True)             # currency/commas\n",
    "       .str.replace(r\"[^\\d\\.\\-]\", \"\", regex=True)        # keep digits . -\n",
    "       .str.strip())\n",
    "fuel_raw[\"Amount_num\"] = pd.to_numeric(amt, errors=\"coerce\")\n",
    "\n",
    "# --- 3) Normalise label column ---\n",
    "lab = (fuel_raw[label_col]\n",
    "       .astype(str)\n",
    "       .str.replace(\"\\xa0\", \" \", regex=False)\n",
    "       .str.replace(r\"\\s+\", \" \", regex=True)\n",
    "       .str.strip()\n",
    ")\n",
    "\n",
    "fuel_raw[\"Label\"] = lab\n",
    "\n",
    "# Identify row type\n",
    "is_annual   = fuel_raw[\"Label\"].str.fullmatch(r\"\\d{4}\", na=False)\n",
    "is_quarter  = fuel_raw[\"Label\"].str.fullmatch(r\"(\\d{4}) Q([1-4])\", na=False)\n",
    "is_monthly  = fuel_raw[\"Label\"].str.fullmatch(r\"(\\d{4}) ([A-Za-z]{3})\", na=False)\n",
    "\n",
    "# --- 4) Parse each type into Year ---\n",
    "fuel_raw[\"Year\"] = np.nan\n",
    "\n",
    "# annual\n",
    "fuel_raw.loc[is_annual, \"Year\"] = fuel_raw.loc[is_annual, \"Label\"].str.extract(r\"(\\d{4})\").astype(int)\n",
    "\n",
    "# quarterly\n",
    "tmp_q = fuel_raw.loc[is_quarter, \"Label\"].str.extract(r\"(?P<Y>\\d{4}) Q(?P<Q>[1-4])\")\n",
    "fuel_raw.loc[is_quarter, \"Year\"] = tmp_q[\"Y\"].astype(int)\n",
    "\n",
    "# monthly\n",
    "# use datetime to be robust to month abbreviations (JAN, FEB, …)\n",
    "m_parse = pd.to_datetime(fuel_raw.loc[is_monthly, \"Label\"], format=\"%Y %b\", errors=\"coerce\")\n",
    "fuel_raw.loc[is_monthly, \"Year\"] = m_parse.dt.year\n",
    "\n",
    "fuel_raw[\"Year\"] = fuel_raw[\"Year\"].astype(\"Int64\")\n",
    "\n",
    "# --- 5) Aggregate to YEARLY FuelDuty (flow -> sum) at highest available granularity ---\n",
    "annual_series   = (fuel_raw.loc[is_annual]\n",
    "                   .groupby(\"Year\", as_index=False)[\"Amount_num\"].sum()\n",
    "                   .rename(columns={\"Amount_num\": \"Annual_total\"}))\n",
    "\n",
    "quarterly_year  = (fuel_raw.loc[is_quarter]\n",
    "                   .groupby(\"Year\", as_index=False)[\"Amount_num\"].sum()\n",
    "                   .rename(columns={\"Amount_num\": \"Quarter_sum\"}))\n",
    "\n",
    "monthly_year    = (fuel_raw.loc[is_monthly]\n",
    "                   .groupby(\"Year\", as_index=False)[\"Amount_num\"].sum()\n",
    "                   .rename(columns={\"Amount_num\": \"Month_sum\"}))\n",
    "\n",
    "# Merge and pick priority: monthly > quarterly > annual\n",
    "fuel_year = (pd.DataFrame({\"Year\": pd.unique(fuel_raw[\"Year\"].dropna().astype(int))})\n",
    "             .merge(monthly_year,  on=\"Year\", how=\"left\")\n",
    "             .merge(quarterly_year, on=\"Year\", how=\"left\")\n",
    "             .merge(annual_series,  on=\"Year\", how=\"left\"))\n",
    "\n",
    "fuel_year[\"FuelDuty\"] = fuel_year[\"Month_sum\"].where(fuel_year[\"Month_sum\"].notna(),\n",
    "                          fuel_year[\"Quarter_sum\"].where(fuel_year[\"Quarter_sum\"].notna(),\n",
    "                          fuel_year[\"Annual_total\"]))\n",
    "\n",
    "fuel_year = (fuel_year[[\"Year\", \"FuelDuty\"]]\n",
    "             .dropna(subset=[\"Year\"])\n",
    "             .sort_values(\"Year\")\n",
    "             .reset_index(drop=True))\n",
    "\n",
    "# Optional: restrict to analysis window (e.g., align with df_veh_raw and exclude 2025)\n",
    "fuel_year = fuel_year[(fuel_year[\"Year\"] >= df_veh_raw[\"Year\"].min()) & (fuel_year[\"Year\"] < 2025)]\n",
    "fuel_year.head(12)"
   ]
  },
  {
   "cell_type": "markdown",
   "id": "d0d006b9",
   "metadata": {},
   "source": [
    "### 5.1.2 Competition Structure: HHI pre- vs post-Chinese entry (EV segment)"
   ]
  },
  {
   "cell_type": "code",
   "execution_count": 22,
   "id": "d0102aa1",
   "metadata": {},
   "outputs": [
    {
     "name": "stdout",
     "output_type": "stream",
     "text": [
      "Chinese EV entry year: 2011\n",
      "Average HHI pre-entry:  nan\n",
      "Average HHI post-entry: 0.617\n"
     ]
    }
   ],
   "source": [
    "# Define Chinese entry year: first year with Chinese EV registrations > 0\n",
    "ev_china = df_ev.loc[is_electric & (df_ev[\"Country\"]==\"China\")]\n",
    "if ev_china.empty:\n",
    "    raise ValueError(\"No Chinese EV entries found in df_ev (ParentCountry == 'China').\")\n",
    "\n",
    "entry_year = int(ev_china.groupby(\"Year\")[\"Registrations\"].sum().loc[lambda s: s>0].index.min())\n",
    "\n",
    "# Compute HHI (ParentCountry shares within EVs) by year\n",
    "ev_parent = (\n",
    "    df_ev.loc[is_electric]\n",
    "      .groupby([\"Year\",\"Country\"], as_index=False)[\"Registrations\"].sum()\n",
    ")\n",
    "ev_parent[\"Share_%\"] = ev_parent.groupby(\"Year\")[\"Registrations\"].transform(lambda x: 100*x/x.sum())\n",
    "\n",
    "hhi_by_year = (\n",
    "    ev_parent.groupby(\"Year\", as_index=False)[\"Share_%\"]\n",
    "             .apply(lambda s: (s**2).sum())\n",
    "             .rename(columns={\"Share_%\":\"HHI\"})\n",
    ")\n",
    "hhi_by_year[\"HHI_Index\"] = hhi_by_year[\"HHI\"]/10000.0\n",
    "\n",
    "pre_hhi  = hhi_by_year.loc[hhi_by_year[\"Year\"] <  entry_year, \"HHI_Index\"].mean()\n",
    "post_hhi = hhi_by_year.loc[hhi_by_year[\"Year\"] >= entry_year, \"HHI_Index\"].mean()\n",
    "\n",
    "print(f\"Chinese EV entry year: {entry_year}\")\n",
    "print(f\"Average HHI pre-entry:  {pre_hhi:.3f}\")\n",
    "print(f\"Average HHI post-entry: {post_hhi:.3f}\")\n"
   ]
  },
  {
   "cell_type": "markdown",
   "id": "7fb9fabe",
   "metadata": {},
   "source": [
    "### 5.1.3 Market Entry Timing for each Chinese brand"
   ]
  },
  {
   "cell_type": "code",
   "execution_count": 23,
   "id": "078303e2",
   "metadata": {},
   "outputs": [
    {
     "data": {
      "application/vnd.microsoft.datawrangler.viewer.v0+json": {
       "columns": [
        {
         "name": "index",
         "rawType": "int64",
         "type": "integer"
        },
        {
         "name": "Make",
         "rawType": "object",
         "type": "string"
        },
        {
         "name": "FirstYear_CHN",
         "rawType": "int64",
         "type": "integer"
        }
       ],
       "ref": "1b1eb248-0d96-4450-957c-5674fa42cdcd",
       "rows": [
        [
         "0",
         "BAROSSA",
         "2011"
        ],
        [
         "21",
         "LONCIN",
         "2011"
        ],
        [
         "22",
         "LOTUS",
         "2011"
        ],
        [
         "25",
         "MG",
         "2011"
        ],
        [
         "26",
         "MG XPOWER",
         "2011"
        ],
        [
         "27",
         "MOTO ROMA",
         "2011"
        ],
        [
         "31",
         "PROTON",
         "2011"
        ],
        [
         "32",
         "PULSE",
         "2011"
        ],
        [
         "20",
         "LIFAN",
         "2011"
        ],
        [
         "33",
         "QUADZILLA",
         "2011"
        ],
        [
         "39",
         "SMART",
         "2011"
        ],
        [
         "40",
         "SUKIDA",
         "2011"
        ],
        [
         "41",
         "SUPERBYKE",
         "2011"
        ],
        [
         "42",
         "TIANJIN",
         "2011"
        ],
        [
         "43",
         "XINGYUE",
         "2011"
        ],
        [
         "44",
         "XINLING",
         "2011"
        ],
        [
         "45",
         "XINTIAN",
         "2011"
        ],
        [
         "36",
         "SHINERAY",
         "2011"
        ],
        [
         "19",
         "LDV",
         "2011"
        ],
        [
         "49",
         "ZHENHUA",
         "2011"
        ],
        [
         "17",
         "KASEA",
         "2011"
        ],
        [
         "1",
         "BASHAN",
         "2011"
        ],
        [
         "14",
         "JIALING",
         "2011"
        ],
        [
         "4",
         "CFMOTO",
         "2011"
        ],
        [
         "6",
         "DUKAR",
         "2011"
        ],
        [
         "7",
         "EASY RIDER",
         "2011"
        ],
        [
         "8",
         "GOKA",
         "2011"
        ],
        [
         "10",
         "GSMOON",
         "2011"
        ],
        [
         "9",
         "GREAT WALL",
         "2011"
        ],
        [
         "18",
         "KINROAD",
         "2011"
        ],
        [
         "47",
         "YAMOTO",
         "2012"
        ],
        [
         "48",
         "YUAN",
         "2012"
        ],
        [
         "2",
         "BENYE",
         "2014"
        ],
        [
         "15",
         "JONWAY",
         "2015"
        ],
        [
         "35",
         "SFM",
         "2016"
        ],
        [
         "5",
         "DFSK",
         "2017"
        ],
        [
         "24",
         "MAXUS",
         "2017"
        ],
        [
         "38",
         "SKYWING",
         "2018"
        ],
        [
         "16",
         "KAISAR",
         "2019"
        ],
        [
         "29",
         "ORA",
         "2022"
        ],
        [
         "3",
         "BYD",
         "2022"
        ],
        [
         "23",
         "MASAI",
         "2022"
        ],
        [
         "34",
         "SAIC",
         "2022"
        ],
        [
         "30",
         "PIONEER",
         "2023"
        ],
        [
         "12",
         "HONCHING",
         "2023"
        ],
        [
         "37",
         "SKYWELL",
         "2024"
        ],
        [
         "28",
         "OMODA",
         "2024"
        ],
        [
         "13",
         "JAECOO",
         "2024"
        ],
        [
         "46",
         "XPENG",
         "2024"
        ],
        [
         "11",
         "GWM",
         "2024"
        ]
       ],
       "shape": {
        "columns": 2,
        "rows": 50
       }
      },
      "text/html": [
       "<div>\n",
       "<style scoped>\n",
       "    .dataframe tbody tr th:only-of-type {\n",
       "        vertical-align: middle;\n",
       "    }\n",
       "\n",
       "    .dataframe tbody tr th {\n",
       "        vertical-align: top;\n",
       "    }\n",
       "\n",
       "    .dataframe thead th {\n",
       "        text-align: right;\n",
       "    }\n",
       "</style>\n",
       "<table border=\"1\" class=\"dataframe\">\n",
       "  <thead>\n",
       "    <tr style=\"text-align: right;\">\n",
       "      <th></th>\n",
       "      <th>Make</th>\n",
       "      <th>FirstYear_CHN</th>\n",
       "    </tr>\n",
       "  </thead>\n",
       "  <tbody>\n",
       "    <tr>\n",
       "      <th>0</th>\n",
       "      <td>BAROSSA</td>\n",
       "      <td>2011</td>\n",
       "    </tr>\n",
       "    <tr>\n",
       "      <th>21</th>\n",
       "      <td>LONCIN</td>\n",
       "      <td>2011</td>\n",
       "    </tr>\n",
       "    <tr>\n",
       "      <th>22</th>\n",
       "      <td>LOTUS</td>\n",
       "      <td>2011</td>\n",
       "    </tr>\n",
       "    <tr>\n",
       "      <th>25</th>\n",
       "      <td>MG</td>\n",
       "      <td>2011</td>\n",
       "    </tr>\n",
       "    <tr>\n",
       "      <th>26</th>\n",
       "      <td>MG XPOWER</td>\n",
       "      <td>2011</td>\n",
       "    </tr>\n",
       "    <tr>\n",
       "      <th>27</th>\n",
       "      <td>MOTO ROMA</td>\n",
       "      <td>2011</td>\n",
       "    </tr>\n",
       "    <tr>\n",
       "      <th>31</th>\n",
       "      <td>PROTON</td>\n",
       "      <td>2011</td>\n",
       "    </tr>\n",
       "    <tr>\n",
       "      <th>32</th>\n",
       "      <td>PULSE</td>\n",
       "      <td>2011</td>\n",
       "    </tr>\n",
       "    <tr>\n",
       "      <th>20</th>\n",
       "      <td>LIFAN</td>\n",
       "      <td>2011</td>\n",
       "    </tr>\n",
       "    <tr>\n",
       "      <th>33</th>\n",
       "      <td>QUADZILLA</td>\n",
       "      <td>2011</td>\n",
       "    </tr>\n",
       "    <tr>\n",
       "      <th>39</th>\n",
       "      <td>SMART</td>\n",
       "      <td>2011</td>\n",
       "    </tr>\n",
       "    <tr>\n",
       "      <th>40</th>\n",
       "      <td>SUKIDA</td>\n",
       "      <td>2011</td>\n",
       "    </tr>\n",
       "    <tr>\n",
       "      <th>41</th>\n",
       "      <td>SUPERBYKE</td>\n",
       "      <td>2011</td>\n",
       "    </tr>\n",
       "    <tr>\n",
       "      <th>42</th>\n",
       "      <td>TIANJIN</td>\n",
       "      <td>2011</td>\n",
       "    </tr>\n",
       "    <tr>\n",
       "      <th>43</th>\n",
       "      <td>XINGYUE</td>\n",
       "      <td>2011</td>\n",
       "    </tr>\n",
       "    <tr>\n",
       "      <th>44</th>\n",
       "      <td>XINLING</td>\n",
       "      <td>2011</td>\n",
       "    </tr>\n",
       "    <tr>\n",
       "      <th>45</th>\n",
       "      <td>XINTIAN</td>\n",
       "      <td>2011</td>\n",
       "    </tr>\n",
       "    <tr>\n",
       "      <th>36</th>\n",
       "      <td>SHINERAY</td>\n",
       "      <td>2011</td>\n",
       "    </tr>\n",
       "    <tr>\n",
       "      <th>19</th>\n",
       "      <td>LDV</td>\n",
       "      <td>2011</td>\n",
       "    </tr>\n",
       "    <tr>\n",
       "      <th>49</th>\n",
       "      <td>ZHENHUA</td>\n",
       "      <td>2011</td>\n",
       "    </tr>\n",
       "    <tr>\n",
       "      <th>17</th>\n",
       "      <td>KASEA</td>\n",
       "      <td>2011</td>\n",
       "    </tr>\n",
       "    <tr>\n",
       "      <th>1</th>\n",
       "      <td>BASHAN</td>\n",
       "      <td>2011</td>\n",
       "    </tr>\n",
       "    <tr>\n",
       "      <th>14</th>\n",
       "      <td>JIALING</td>\n",
       "      <td>2011</td>\n",
       "    </tr>\n",
       "    <tr>\n",
       "      <th>4</th>\n",
       "      <td>CFMOTO</td>\n",
       "      <td>2011</td>\n",
       "    </tr>\n",
       "    <tr>\n",
       "      <th>6</th>\n",
       "      <td>DUKAR</td>\n",
       "      <td>2011</td>\n",
       "    </tr>\n",
       "    <tr>\n",
       "      <th>7</th>\n",
       "      <td>EASY RIDER</td>\n",
       "      <td>2011</td>\n",
       "    </tr>\n",
       "    <tr>\n",
       "      <th>8</th>\n",
       "      <td>GOKA</td>\n",
       "      <td>2011</td>\n",
       "    </tr>\n",
       "    <tr>\n",
       "      <th>10</th>\n",
       "      <td>GSMOON</td>\n",
       "      <td>2011</td>\n",
       "    </tr>\n",
       "    <tr>\n",
       "      <th>9</th>\n",
       "      <td>GREAT WALL</td>\n",
       "      <td>2011</td>\n",
       "    </tr>\n",
       "    <tr>\n",
       "      <th>18</th>\n",
       "      <td>KINROAD</td>\n",
       "      <td>2011</td>\n",
       "    </tr>\n",
       "    <tr>\n",
       "      <th>47</th>\n",
       "      <td>YAMOTO</td>\n",
       "      <td>2012</td>\n",
       "    </tr>\n",
       "    <tr>\n",
       "      <th>48</th>\n",
       "      <td>YUAN</td>\n",
       "      <td>2012</td>\n",
       "    </tr>\n",
       "    <tr>\n",
       "      <th>2</th>\n",
       "      <td>BENYE</td>\n",
       "      <td>2014</td>\n",
       "    </tr>\n",
       "    <tr>\n",
       "      <th>15</th>\n",
       "      <td>JONWAY</td>\n",
       "      <td>2015</td>\n",
       "    </tr>\n",
       "    <tr>\n",
       "      <th>35</th>\n",
       "      <td>SFM</td>\n",
       "      <td>2016</td>\n",
       "    </tr>\n",
       "    <tr>\n",
       "      <th>5</th>\n",
       "      <td>DFSK</td>\n",
       "      <td>2017</td>\n",
       "    </tr>\n",
       "    <tr>\n",
       "      <th>24</th>\n",
       "      <td>MAXUS</td>\n",
       "      <td>2017</td>\n",
       "    </tr>\n",
       "    <tr>\n",
       "      <th>38</th>\n",
       "      <td>SKYWING</td>\n",
       "      <td>2018</td>\n",
       "    </tr>\n",
       "    <tr>\n",
       "      <th>16</th>\n",
       "      <td>KAISAR</td>\n",
       "      <td>2019</td>\n",
       "    </tr>\n",
       "    <tr>\n",
       "      <th>29</th>\n",
       "      <td>ORA</td>\n",
       "      <td>2022</td>\n",
       "    </tr>\n",
       "    <tr>\n",
       "      <th>3</th>\n",
       "      <td>BYD</td>\n",
       "      <td>2022</td>\n",
       "    </tr>\n",
       "    <tr>\n",
       "      <th>23</th>\n",
       "      <td>MASAI</td>\n",
       "      <td>2022</td>\n",
       "    </tr>\n",
       "    <tr>\n",
       "      <th>34</th>\n",
       "      <td>SAIC</td>\n",
       "      <td>2022</td>\n",
       "    </tr>\n",
       "    <tr>\n",
       "      <th>30</th>\n",
       "      <td>PIONEER</td>\n",
       "      <td>2023</td>\n",
       "    </tr>\n",
       "    <tr>\n",
       "      <th>12</th>\n",
       "      <td>HONCHING</td>\n",
       "      <td>2023</td>\n",
       "    </tr>\n",
       "    <tr>\n",
       "      <th>37</th>\n",
       "      <td>SKYWELL</td>\n",
       "      <td>2024</td>\n",
       "    </tr>\n",
       "    <tr>\n",
       "      <th>28</th>\n",
       "      <td>OMODA</td>\n",
       "      <td>2024</td>\n",
       "    </tr>\n",
       "    <tr>\n",
       "      <th>13</th>\n",
       "      <td>JAECOO</td>\n",
       "      <td>2024</td>\n",
       "    </tr>\n",
       "    <tr>\n",
       "      <th>46</th>\n",
       "      <td>XPENG</td>\n",
       "      <td>2024</td>\n",
       "    </tr>\n",
       "    <tr>\n",
       "      <th>11</th>\n",
       "      <td>GWM</td>\n",
       "      <td>2024</td>\n",
       "    </tr>\n",
       "  </tbody>\n",
       "</table>\n",
       "</div>"
      ],
      "text/plain": [
       "          Make  FirstYear_CHN\n",
       "0      BAROSSA           2011\n",
       "21      LONCIN           2011\n",
       "22       LOTUS           2011\n",
       "25          MG           2011\n",
       "26   MG XPOWER           2011\n",
       "27   MOTO ROMA           2011\n",
       "31      PROTON           2011\n",
       "32       PULSE           2011\n",
       "20       LIFAN           2011\n",
       "33   QUADZILLA           2011\n",
       "39       SMART           2011\n",
       "40      SUKIDA           2011\n",
       "41   SUPERBYKE           2011\n",
       "42     TIANJIN           2011\n",
       "43     XINGYUE           2011\n",
       "44     XINLING           2011\n",
       "45     XINTIAN           2011\n",
       "36    SHINERAY           2011\n",
       "19         LDV           2011\n",
       "49     ZHENHUA           2011\n",
       "17       KASEA           2011\n",
       "1       BASHAN           2011\n",
       "14     JIALING           2011\n",
       "4       CFMOTO           2011\n",
       "6        DUKAR           2011\n",
       "7   EASY RIDER           2011\n",
       "8         GOKA           2011\n",
       "10      GSMOON           2011\n",
       "9   GREAT WALL           2011\n",
       "18     KINROAD           2011\n",
       "47      YAMOTO           2012\n",
       "48        YUAN           2012\n",
       "2        BENYE           2014\n",
       "15      JONWAY           2015\n",
       "35         SFM           2016\n",
       "5         DFSK           2017\n",
       "24       MAXUS           2017\n",
       "38     SKYWING           2018\n",
       "16      KAISAR           2019\n",
       "29         ORA           2022\n",
       "3          BYD           2022\n",
       "23       MASAI           2022\n",
       "34        SAIC           2022\n",
       "30     PIONEER           2023\n",
       "12    HONCHING           2023\n",
       "37     SKYWELL           2024\n",
       "28       OMODA           2024\n",
       "13      JAECOO           2024\n",
       "46       XPENG           2024\n",
       "11         GWM           2024"
      ]
     },
     "execution_count": 23,
     "metadata": {},
     "output_type": "execute_result"
    }
   ],
   "source": [
    "china_brands = (\n",
    "    df_ev.loc[df_ev[\"Country\"]==\"China\"]\n",
    "      .groupby([\"Make\",\"Year\"], as_index=False)[\"Registrations\"].sum()\n",
    ")\n",
    "first_year = (china_brands[china_brands[\"Registrations\"]>0]\n",
    "             .groupby(\"Make\", as_index=False)[\"Year\"].min()\n",
    "             .rename(columns={\"Year\":\"FirstYear_CHN\"}))\n",
    "first_year.sort_values(\"FirstYear_CHN\")\n"
   ]
  },
  {
   "cell_type": "markdown",
   "id": "ad5acf55",
   "metadata": {},
   "source": [
    "### 5.1.4 Product Mix Shift: BEV vs Hybrids ratio over time"
   ]
  },
  {
   "cell_type": "code",
   "execution_count": 24,
   "id": "ab9774da",
   "metadata": {},
   "outputs": [
    {
     "data": {
      "application/vnd.plotly.v1+json": {
       "config": {
        "plotlyServerURL": "https://plot.ly"
       },
       "data": [
        {
         "hovertemplate": "EV Type=BEV<br>Year=%{x}<br>Registrations=%{y}<extra></extra>",
         "legendgroup": "BEV",
         "marker": {
          "color": "#780000",
          "pattern": {
           "shape": ""
          }
         },
         "name": "BEV",
         "orientation": "v",
         "showlegend": true,
         "textposition": "auto",
         "type": "bar",
         "x": {
          "bdata": "2wfcB90H3gffB+AH4QfiB+MH5AflB+YH5wfoBw==",
          "dtype": "i2"
         },
         "xaxis": "x",
         "y": {
          "bdata": "3iMAAIk2AACoUQAAAJYAAMcLAQCwlwEAyUICALcJAwA8eAQA464IAMzXEQCWxR8AEzsxALa6RAA=",
          "dtype": "i4"
         },
         "yaxis": "y"
        },
        {
         "hovertemplate": "EV Type=HybridEV<br>Year=%{x}<br>Registrations=%{y}<extra></extra>",
         "legendgroup": "HybridEV",
         "marker": {
          "color": "#1D3557",
          "pattern": {
           "shape": ""
          }
         },
         "name": "HybridEV",
         "orientation": "v",
         "showlegend": true,
         "textposition": "auto",
         "type": "bar",
         "x": {
          "bdata": "2wfcB90H3gffB+AH4QfiB+MH5AflB+YH5wfoBw==",
          "dtype": "i2"
         },
         "xaxis": "x",
         "y": {
          "bdata": "PdkFAIMxBwDeswgA4tQKAEzQDQBV3xEAXxAXAFySHQCgBSUAHMYuAFShQgC8AlsAEFJ4AKfbnwA=",
          "dtype": "i4"
         },
         "yaxis": "y"
        }
       ],
       "layout": {
        "barmode": "stack",
        "height": 520,
        "legend": {
         "title": {
          "text": "EV Type"
         },
         "tracegroupgap": 0
        },
        "template": {
         "data": {
          "bar": [
           {
            "error_x": {
             "color": "#2a3f5f"
            },
            "error_y": {
             "color": "#2a3f5f"
            },
            "marker": {
             "line": {
              "color": "white",
              "width": 0.5
             },
             "pattern": {
              "fillmode": "overlay",
              "size": 10,
              "solidity": 0.2
             }
            },
            "type": "bar"
           }
          ],
          "barpolar": [
           {
            "marker": {
             "line": {
              "color": "white",
              "width": 0.5
             },
             "pattern": {
              "fillmode": "overlay",
              "size": 10,
              "solidity": 0.2
             }
            },
            "type": "barpolar"
           }
          ],
          "carpet": [
           {
            "aaxis": {
             "endlinecolor": "#2a3f5f",
             "gridcolor": "#C8D4E3",
             "linecolor": "#C8D4E3",
             "minorgridcolor": "#C8D4E3",
             "startlinecolor": "#2a3f5f"
            },
            "baxis": {
             "endlinecolor": "#2a3f5f",
             "gridcolor": "#C8D4E3",
             "linecolor": "#C8D4E3",
             "minorgridcolor": "#C8D4E3",
             "startlinecolor": "#2a3f5f"
            },
            "type": "carpet"
           }
          ],
          "choropleth": [
           {
            "colorbar": {
             "outlinewidth": 0,
             "ticks": ""
            },
            "type": "choropleth"
           }
          ],
          "contour": [
           {
            "colorbar": {
             "outlinewidth": 0,
             "ticks": ""
            },
            "colorscale": [
             [
              0,
              "#0d0887"
             ],
             [
              0.1111111111111111,
              "#46039f"
             ],
             [
              0.2222222222222222,
              "#7201a8"
             ],
             [
              0.3333333333333333,
              "#9c179e"
             ],
             [
              0.4444444444444444,
              "#bd3786"
             ],
             [
              0.5555555555555556,
              "#d8576b"
             ],
             [
              0.6666666666666666,
              "#ed7953"
             ],
             [
              0.7777777777777778,
              "#fb9f3a"
             ],
             [
              0.8888888888888888,
              "#fdca26"
             ],
             [
              1,
              "#f0f921"
             ]
            ],
            "type": "contour"
           }
          ],
          "contourcarpet": [
           {
            "colorbar": {
             "outlinewidth": 0,
             "ticks": ""
            },
            "type": "contourcarpet"
           }
          ],
          "heatmap": [
           {
            "colorbar": {
             "outlinewidth": 0,
             "ticks": ""
            },
            "colorscale": [
             [
              0,
              "#0d0887"
             ],
             [
              0.1111111111111111,
              "#46039f"
             ],
             [
              0.2222222222222222,
              "#7201a8"
             ],
             [
              0.3333333333333333,
              "#9c179e"
             ],
             [
              0.4444444444444444,
              "#bd3786"
             ],
             [
              0.5555555555555556,
              "#d8576b"
             ],
             [
              0.6666666666666666,
              "#ed7953"
             ],
             [
              0.7777777777777778,
              "#fb9f3a"
             ],
             [
              0.8888888888888888,
              "#fdca26"
             ],
             [
              1,
              "#f0f921"
             ]
            ],
            "type": "heatmap"
           }
          ],
          "histogram": [
           {
            "marker": {
             "pattern": {
              "fillmode": "overlay",
              "size": 10,
              "solidity": 0.2
             }
            },
            "type": "histogram"
           }
          ],
          "histogram2d": [
           {
            "colorbar": {
             "outlinewidth": 0,
             "ticks": ""
            },
            "colorscale": [
             [
              0,
              "#0d0887"
             ],
             [
              0.1111111111111111,
              "#46039f"
             ],
             [
              0.2222222222222222,
              "#7201a8"
             ],
             [
              0.3333333333333333,
              "#9c179e"
             ],
             [
              0.4444444444444444,
              "#bd3786"
             ],
             [
              0.5555555555555556,
              "#d8576b"
             ],
             [
              0.6666666666666666,
              "#ed7953"
             ],
             [
              0.7777777777777778,
              "#fb9f3a"
             ],
             [
              0.8888888888888888,
              "#fdca26"
             ],
             [
              1,
              "#f0f921"
             ]
            ],
            "type": "histogram2d"
           }
          ],
          "histogram2dcontour": [
           {
            "colorbar": {
             "outlinewidth": 0,
             "ticks": ""
            },
            "colorscale": [
             [
              0,
              "#0d0887"
             ],
             [
              0.1111111111111111,
              "#46039f"
             ],
             [
              0.2222222222222222,
              "#7201a8"
             ],
             [
              0.3333333333333333,
              "#9c179e"
             ],
             [
              0.4444444444444444,
              "#bd3786"
             ],
             [
              0.5555555555555556,
              "#d8576b"
             ],
             [
              0.6666666666666666,
              "#ed7953"
             ],
             [
              0.7777777777777778,
              "#fb9f3a"
             ],
             [
              0.8888888888888888,
              "#fdca26"
             ],
             [
              1,
              "#f0f921"
             ]
            ],
            "type": "histogram2dcontour"
           }
          ],
          "mesh3d": [
           {
            "colorbar": {
             "outlinewidth": 0,
             "ticks": ""
            },
            "type": "mesh3d"
           }
          ],
          "parcoords": [
           {
            "line": {
             "colorbar": {
              "outlinewidth": 0,
              "ticks": ""
             }
            },
            "type": "parcoords"
           }
          ],
          "pie": [
           {
            "automargin": true,
            "type": "pie"
           }
          ],
          "scatter": [
           {
            "fillpattern": {
             "fillmode": "overlay",
             "size": 10,
             "solidity": 0.2
            },
            "type": "scatter"
           }
          ],
          "scatter3d": [
           {
            "line": {
             "colorbar": {
              "outlinewidth": 0,
              "ticks": ""
             }
            },
            "marker": {
             "colorbar": {
              "outlinewidth": 0,
              "ticks": ""
             }
            },
            "type": "scatter3d"
           }
          ],
          "scattercarpet": [
           {
            "marker": {
             "colorbar": {
              "outlinewidth": 0,
              "ticks": ""
             }
            },
            "type": "scattercarpet"
           }
          ],
          "scattergeo": [
           {
            "marker": {
             "colorbar": {
              "outlinewidth": 0,
              "ticks": ""
             }
            },
            "type": "scattergeo"
           }
          ],
          "scattergl": [
           {
            "marker": {
             "colorbar": {
              "outlinewidth": 0,
              "ticks": ""
             }
            },
            "type": "scattergl"
           }
          ],
          "scattermap": [
           {
            "marker": {
             "colorbar": {
              "outlinewidth": 0,
              "ticks": ""
             }
            },
            "type": "scattermap"
           }
          ],
          "scattermapbox": [
           {
            "marker": {
             "colorbar": {
              "outlinewidth": 0,
              "ticks": ""
             }
            },
            "type": "scattermapbox"
           }
          ],
          "scatterpolar": [
           {
            "marker": {
             "colorbar": {
              "outlinewidth": 0,
              "ticks": ""
             }
            },
            "type": "scatterpolar"
           }
          ],
          "scatterpolargl": [
           {
            "marker": {
             "colorbar": {
              "outlinewidth": 0,
              "ticks": ""
             }
            },
            "type": "scatterpolargl"
           }
          ],
          "scatterternary": [
           {
            "marker": {
             "colorbar": {
              "outlinewidth": 0,
              "ticks": ""
             }
            },
            "type": "scatterternary"
           }
          ],
          "surface": [
           {
            "colorbar": {
             "outlinewidth": 0,
             "ticks": ""
            },
            "colorscale": [
             [
              0,
              "#0d0887"
             ],
             [
              0.1111111111111111,
              "#46039f"
             ],
             [
              0.2222222222222222,
              "#7201a8"
             ],
             [
              0.3333333333333333,
              "#9c179e"
             ],
             [
              0.4444444444444444,
              "#bd3786"
             ],
             [
              0.5555555555555556,
              "#d8576b"
             ],
             [
              0.6666666666666666,
              "#ed7953"
             ],
             [
              0.7777777777777778,
              "#fb9f3a"
             ],
             [
              0.8888888888888888,
              "#fdca26"
             ],
             [
              1,
              "#f0f921"
             ]
            ],
            "type": "surface"
           }
          ],
          "table": [
           {
            "cells": {
             "fill": {
              "color": "#EBF0F8"
             },
             "line": {
              "color": "white"
             }
            },
            "header": {
             "fill": {
              "color": "#C8D4E3"
             },
             "line": {
              "color": "white"
             }
            },
            "type": "table"
           }
          ]
         },
         "layout": {
          "annotationdefaults": {
           "arrowcolor": "#2a3f5f",
           "arrowhead": 0,
           "arrowwidth": 1
          },
          "autotypenumbers": "strict",
          "coloraxis": {
           "colorbar": {
            "outlinewidth": 0,
            "ticks": ""
           }
          },
          "colorscale": {
           "diverging": [
            [
             0,
             "#8e0152"
            ],
            [
             0.1,
             "#c51b7d"
            ],
            [
             0.2,
             "#de77ae"
            ],
            [
             0.3,
             "#f1b6da"
            ],
            [
             0.4,
             "#fde0ef"
            ],
            [
             0.5,
             "#f7f7f7"
            ],
            [
             0.6,
             "#e6f5d0"
            ],
            [
             0.7,
             "#b8e186"
            ],
            [
             0.8,
             "#7fbc41"
            ],
            [
             0.9,
             "#4d9221"
            ],
            [
             1,
             "#276419"
            ]
           ],
           "sequential": [
            [
             0,
             "#0d0887"
            ],
            [
             0.1111111111111111,
             "#46039f"
            ],
            [
             0.2222222222222222,
             "#7201a8"
            ],
            [
             0.3333333333333333,
             "#9c179e"
            ],
            [
             0.4444444444444444,
             "#bd3786"
            ],
            [
             0.5555555555555556,
             "#d8576b"
            ],
            [
             0.6666666666666666,
             "#ed7953"
            ],
            [
             0.7777777777777778,
             "#fb9f3a"
            ],
            [
             0.8888888888888888,
             "#fdca26"
            ],
            [
             1,
             "#f0f921"
            ]
           ],
           "sequentialminus": [
            [
             0,
             "#0d0887"
            ],
            [
             0.1111111111111111,
             "#46039f"
            ],
            [
             0.2222222222222222,
             "#7201a8"
            ],
            [
             0.3333333333333333,
             "#9c179e"
            ],
            [
             0.4444444444444444,
             "#bd3786"
            ],
            [
             0.5555555555555556,
             "#d8576b"
            ],
            [
             0.6666666666666666,
             "#ed7953"
            ],
            [
             0.7777777777777778,
             "#fb9f3a"
            ],
            [
             0.8888888888888888,
             "#fdca26"
            ],
            [
             1,
             "#f0f921"
            ]
           ]
          },
          "colorway": [
           "#636efa",
           "#EF553B",
           "#00cc96",
           "#ab63fa",
           "#FFA15A",
           "#19d3f3",
           "#FF6692",
           "#B6E880",
           "#FF97FF",
           "#FECB52"
          ],
          "font": {
           "color": "#2a3f5f"
          },
          "geo": {
           "bgcolor": "white",
           "lakecolor": "white",
           "landcolor": "white",
           "showlakes": true,
           "showland": true,
           "subunitcolor": "#C8D4E3"
          },
          "hoverlabel": {
           "align": "left"
          },
          "hovermode": "closest",
          "mapbox": {
           "style": "light"
          },
          "paper_bgcolor": "white",
          "plot_bgcolor": "white",
          "polar": {
           "angularaxis": {
            "gridcolor": "#EBF0F8",
            "linecolor": "#EBF0F8",
            "ticks": ""
           },
           "bgcolor": "white",
           "radialaxis": {
            "gridcolor": "#EBF0F8",
            "linecolor": "#EBF0F8",
            "ticks": ""
           }
          },
          "scene": {
           "xaxis": {
            "backgroundcolor": "white",
            "gridcolor": "#DFE8F3",
            "gridwidth": 2,
            "linecolor": "#EBF0F8",
            "showbackground": true,
            "ticks": "",
            "zerolinecolor": "#EBF0F8"
           },
           "yaxis": {
            "backgroundcolor": "white",
            "gridcolor": "#DFE8F3",
            "gridwidth": 2,
            "linecolor": "#EBF0F8",
            "showbackground": true,
            "ticks": "",
            "zerolinecolor": "#EBF0F8"
           },
           "zaxis": {
            "backgroundcolor": "white",
            "gridcolor": "#DFE8F3",
            "gridwidth": 2,
            "linecolor": "#EBF0F8",
            "showbackground": true,
            "ticks": "",
            "zerolinecolor": "#EBF0F8"
           }
          },
          "shapedefaults": {
           "line": {
            "color": "#2a3f5f"
           }
          },
          "ternary": {
           "aaxis": {
            "gridcolor": "#DFE8F3",
            "linecolor": "#A2B1C6",
            "ticks": ""
           },
           "baxis": {
            "gridcolor": "#DFE8F3",
            "linecolor": "#A2B1C6",
            "ticks": ""
           },
           "bgcolor": "white",
           "caxis": {
            "gridcolor": "#DFE8F3",
            "linecolor": "#A2B1C6",
            "ticks": ""
           }
          },
          "title": {
           "x": 0.05
          },
          "xaxis": {
           "automargin": true,
           "gridcolor": "#EBF0F8",
           "linecolor": "#EBF0F8",
           "ticks": "",
           "title": {
            "standoff": 15
           },
           "zerolinecolor": "#EBF0F8",
           "zerolinewidth": 2
          },
          "yaxis": {
           "automargin": true,
           "gridcolor": "#EBF0F8",
           "linecolor": "#EBF0F8",
           "ticks": "",
           "title": {
            "standoff": 15
           },
           "zerolinecolor": "#EBF0F8",
           "zerolinewidth": 2
          }
         }
        },
        "title": {
         "text": "BEV vs HybridEV Registrations by Year"
        },
        "width": 900,
        "xaxis": {
         "anchor": "y",
         "domain": [
          0,
          1
         ],
         "title": {
          "text": "Year"
         }
        },
        "yaxis": {
         "anchor": "x",
         "domain": [
          0,
          1
         ],
         "title": {
          "text": "Registrations"
         }
        }
       }
      }
     },
     "metadata": {},
     "output_type": "display_data"
    },
    {
     "data": {
      "application/vnd.plotly.v1+json": {
       "config": {
        "plotlyServerURL": "https://plot.ly"
       },
       "data": [
        {
         "fillpattern": {
          "shape": ""
         },
         "hovertemplate": "EV Type=BEV_%<br>Year=%{x}<br>Share (%)=%{y}<extra></extra>",
         "legendgroup": "BEV_%",
         "line": {
          "color": "#780000"
         },
         "marker": {
          "symbol": "circle"
         },
         "mode": "lines",
         "name": "BEV_%",
         "orientation": "v",
         "showlegend": true,
         "stackgroup": "1",
         "type": "scatter",
         "x": {
          "bdata": "2wfcB90H3gffB+AH4QfiB+MH5AflB+YH5wfoBw==",
          "dtype": "i2"
         },
         "xaxis": "x",
         "y": {
          "bdata": "eJXGGlK3AkDBTrpYkgIHQKFFzm/5SAxAo1LR9xWHFEA4m8OZKigcQM4bkDDyXCBAJvL3EuTaIUBVvFi016EiQCbql2x+iyVAnxxWgZxQL0B1too0ZR81QBnJuKFi4DlAeR49EDEJPUDjYxRQJhE+QA==",
          "dtype": "f8"
         },
         "yaxis": "y"
        },
        {
         "fillpattern": {
          "shape": ""
         },
         "hovertemplate": "EV Type=HybridEV_%<br>Year=%{x}<br>Share (%)=%{y}<extra></extra>",
         "legendgroup": "HybridEV_%",
         "line": {
          "color": "#1D3557"
         },
         "marker": {
          "symbol": "circle"
         },
         "mode": "lines",
         "name": "HybridEV_%",
         "orientation": "v",
         "showlegend": true,
         "stackgroup": "1",
         "type": "scatter",
         "x": {
          "bdata": "2wfcB90H3gffB+AH4QfiB+MH5AflB+YH5wfoBw==",
          "dtype": "i2"
         },
         "xaxis": "x",
         "y": {
          "bdata": "VMspb0VqWECKLTpt60dYQNONgTS4HVhA1uqCoI63V0BMxmNWfT1XQIb87blh9FZAuwGhfaPEVkB16HQJxatWQLsCbTKQTlZAbDzVb+wVVUBjUt2yJrhTQLrNkVfnh1JAYrjwu7O9UUAH5/prtntRQA==",
          "dtype": "f8"
         },
         "yaxis": "y"
        }
       ],
       "layout": {
        "height": 520,
        "legend": {
         "title": {
          "text": "EV Type"
         },
         "tracegroupgap": 0
        },
        "template": {
         "data": {
          "bar": [
           {
            "error_x": {
             "color": "#2a3f5f"
            },
            "error_y": {
             "color": "#2a3f5f"
            },
            "marker": {
             "line": {
              "color": "white",
              "width": 0.5
             },
             "pattern": {
              "fillmode": "overlay",
              "size": 10,
              "solidity": 0.2
             }
            },
            "type": "bar"
           }
          ],
          "barpolar": [
           {
            "marker": {
             "line": {
              "color": "white",
              "width": 0.5
             },
             "pattern": {
              "fillmode": "overlay",
              "size": 10,
              "solidity": 0.2
             }
            },
            "type": "barpolar"
           }
          ],
          "carpet": [
           {
            "aaxis": {
             "endlinecolor": "#2a3f5f",
             "gridcolor": "#C8D4E3",
             "linecolor": "#C8D4E3",
             "minorgridcolor": "#C8D4E3",
             "startlinecolor": "#2a3f5f"
            },
            "baxis": {
             "endlinecolor": "#2a3f5f",
             "gridcolor": "#C8D4E3",
             "linecolor": "#C8D4E3",
             "minorgridcolor": "#C8D4E3",
             "startlinecolor": "#2a3f5f"
            },
            "type": "carpet"
           }
          ],
          "choropleth": [
           {
            "colorbar": {
             "outlinewidth": 0,
             "ticks": ""
            },
            "type": "choropleth"
           }
          ],
          "contour": [
           {
            "colorbar": {
             "outlinewidth": 0,
             "ticks": ""
            },
            "colorscale": [
             [
              0,
              "#0d0887"
             ],
             [
              0.1111111111111111,
              "#46039f"
             ],
             [
              0.2222222222222222,
              "#7201a8"
             ],
             [
              0.3333333333333333,
              "#9c179e"
             ],
             [
              0.4444444444444444,
              "#bd3786"
             ],
             [
              0.5555555555555556,
              "#d8576b"
             ],
             [
              0.6666666666666666,
              "#ed7953"
             ],
             [
              0.7777777777777778,
              "#fb9f3a"
             ],
             [
              0.8888888888888888,
              "#fdca26"
             ],
             [
              1,
              "#f0f921"
             ]
            ],
            "type": "contour"
           }
          ],
          "contourcarpet": [
           {
            "colorbar": {
             "outlinewidth": 0,
             "ticks": ""
            },
            "type": "contourcarpet"
           }
          ],
          "heatmap": [
           {
            "colorbar": {
             "outlinewidth": 0,
             "ticks": ""
            },
            "colorscale": [
             [
              0,
              "#0d0887"
             ],
             [
              0.1111111111111111,
              "#46039f"
             ],
             [
              0.2222222222222222,
              "#7201a8"
             ],
             [
              0.3333333333333333,
              "#9c179e"
             ],
             [
              0.4444444444444444,
              "#bd3786"
             ],
             [
              0.5555555555555556,
              "#d8576b"
             ],
             [
              0.6666666666666666,
              "#ed7953"
             ],
             [
              0.7777777777777778,
              "#fb9f3a"
             ],
             [
              0.8888888888888888,
              "#fdca26"
             ],
             [
              1,
              "#f0f921"
             ]
            ],
            "type": "heatmap"
           }
          ],
          "histogram": [
           {
            "marker": {
             "pattern": {
              "fillmode": "overlay",
              "size": 10,
              "solidity": 0.2
             }
            },
            "type": "histogram"
           }
          ],
          "histogram2d": [
           {
            "colorbar": {
             "outlinewidth": 0,
             "ticks": ""
            },
            "colorscale": [
             [
              0,
              "#0d0887"
             ],
             [
              0.1111111111111111,
              "#46039f"
             ],
             [
              0.2222222222222222,
              "#7201a8"
             ],
             [
              0.3333333333333333,
              "#9c179e"
             ],
             [
              0.4444444444444444,
              "#bd3786"
             ],
             [
              0.5555555555555556,
              "#d8576b"
             ],
             [
              0.6666666666666666,
              "#ed7953"
             ],
             [
              0.7777777777777778,
              "#fb9f3a"
             ],
             [
              0.8888888888888888,
              "#fdca26"
             ],
             [
              1,
              "#f0f921"
             ]
            ],
            "type": "histogram2d"
           }
          ],
          "histogram2dcontour": [
           {
            "colorbar": {
             "outlinewidth": 0,
             "ticks": ""
            },
            "colorscale": [
             [
              0,
              "#0d0887"
             ],
             [
              0.1111111111111111,
              "#46039f"
             ],
             [
              0.2222222222222222,
              "#7201a8"
             ],
             [
              0.3333333333333333,
              "#9c179e"
             ],
             [
              0.4444444444444444,
              "#bd3786"
             ],
             [
              0.5555555555555556,
              "#d8576b"
             ],
             [
              0.6666666666666666,
              "#ed7953"
             ],
             [
              0.7777777777777778,
              "#fb9f3a"
             ],
             [
              0.8888888888888888,
              "#fdca26"
             ],
             [
              1,
              "#f0f921"
             ]
            ],
            "type": "histogram2dcontour"
           }
          ],
          "mesh3d": [
           {
            "colorbar": {
             "outlinewidth": 0,
             "ticks": ""
            },
            "type": "mesh3d"
           }
          ],
          "parcoords": [
           {
            "line": {
             "colorbar": {
              "outlinewidth": 0,
              "ticks": ""
             }
            },
            "type": "parcoords"
           }
          ],
          "pie": [
           {
            "automargin": true,
            "type": "pie"
           }
          ],
          "scatter": [
           {
            "fillpattern": {
             "fillmode": "overlay",
             "size": 10,
             "solidity": 0.2
            },
            "type": "scatter"
           }
          ],
          "scatter3d": [
           {
            "line": {
             "colorbar": {
              "outlinewidth": 0,
              "ticks": ""
             }
            },
            "marker": {
             "colorbar": {
              "outlinewidth": 0,
              "ticks": ""
             }
            },
            "type": "scatter3d"
           }
          ],
          "scattercarpet": [
           {
            "marker": {
             "colorbar": {
              "outlinewidth": 0,
              "ticks": ""
             }
            },
            "type": "scattercarpet"
           }
          ],
          "scattergeo": [
           {
            "marker": {
             "colorbar": {
              "outlinewidth": 0,
              "ticks": ""
             }
            },
            "type": "scattergeo"
           }
          ],
          "scattergl": [
           {
            "marker": {
             "colorbar": {
              "outlinewidth": 0,
              "ticks": ""
             }
            },
            "type": "scattergl"
           }
          ],
          "scattermap": [
           {
            "marker": {
             "colorbar": {
              "outlinewidth": 0,
              "ticks": ""
             }
            },
            "type": "scattermap"
           }
          ],
          "scattermapbox": [
           {
            "marker": {
             "colorbar": {
              "outlinewidth": 0,
              "ticks": ""
             }
            },
            "type": "scattermapbox"
           }
          ],
          "scatterpolar": [
           {
            "marker": {
             "colorbar": {
              "outlinewidth": 0,
              "ticks": ""
             }
            },
            "type": "scatterpolar"
           }
          ],
          "scatterpolargl": [
           {
            "marker": {
             "colorbar": {
              "outlinewidth": 0,
              "ticks": ""
             }
            },
            "type": "scatterpolargl"
           }
          ],
          "scatterternary": [
           {
            "marker": {
             "colorbar": {
              "outlinewidth": 0,
              "ticks": ""
             }
            },
            "type": "scatterternary"
           }
          ],
          "surface": [
           {
            "colorbar": {
             "outlinewidth": 0,
             "ticks": ""
            },
            "colorscale": [
             [
              0,
              "#0d0887"
             ],
             [
              0.1111111111111111,
              "#46039f"
             ],
             [
              0.2222222222222222,
              "#7201a8"
             ],
             [
              0.3333333333333333,
              "#9c179e"
             ],
             [
              0.4444444444444444,
              "#bd3786"
             ],
             [
              0.5555555555555556,
              "#d8576b"
             ],
             [
              0.6666666666666666,
              "#ed7953"
             ],
             [
              0.7777777777777778,
              "#fb9f3a"
             ],
             [
              0.8888888888888888,
              "#fdca26"
             ],
             [
              1,
              "#f0f921"
             ]
            ],
            "type": "surface"
           }
          ],
          "table": [
           {
            "cells": {
             "fill": {
              "color": "#EBF0F8"
             },
             "line": {
              "color": "white"
             }
            },
            "header": {
             "fill": {
              "color": "#C8D4E3"
             },
             "line": {
              "color": "white"
             }
            },
            "type": "table"
           }
          ]
         },
         "layout": {
          "annotationdefaults": {
           "arrowcolor": "#2a3f5f",
           "arrowhead": 0,
           "arrowwidth": 1
          },
          "autotypenumbers": "strict",
          "coloraxis": {
           "colorbar": {
            "outlinewidth": 0,
            "ticks": ""
           }
          },
          "colorscale": {
           "diverging": [
            [
             0,
             "#8e0152"
            ],
            [
             0.1,
             "#c51b7d"
            ],
            [
             0.2,
             "#de77ae"
            ],
            [
             0.3,
             "#f1b6da"
            ],
            [
             0.4,
             "#fde0ef"
            ],
            [
             0.5,
             "#f7f7f7"
            ],
            [
             0.6,
             "#e6f5d0"
            ],
            [
             0.7,
             "#b8e186"
            ],
            [
             0.8,
             "#7fbc41"
            ],
            [
             0.9,
             "#4d9221"
            ],
            [
             1,
             "#276419"
            ]
           ],
           "sequential": [
            [
             0,
             "#0d0887"
            ],
            [
             0.1111111111111111,
             "#46039f"
            ],
            [
             0.2222222222222222,
             "#7201a8"
            ],
            [
             0.3333333333333333,
             "#9c179e"
            ],
            [
             0.4444444444444444,
             "#bd3786"
            ],
            [
             0.5555555555555556,
             "#d8576b"
            ],
            [
             0.6666666666666666,
             "#ed7953"
            ],
            [
             0.7777777777777778,
             "#fb9f3a"
            ],
            [
             0.8888888888888888,
             "#fdca26"
            ],
            [
             1,
             "#f0f921"
            ]
           ],
           "sequentialminus": [
            [
             0,
             "#0d0887"
            ],
            [
             0.1111111111111111,
             "#46039f"
            ],
            [
             0.2222222222222222,
             "#7201a8"
            ],
            [
             0.3333333333333333,
             "#9c179e"
            ],
            [
             0.4444444444444444,
             "#bd3786"
            ],
            [
             0.5555555555555556,
             "#d8576b"
            ],
            [
             0.6666666666666666,
             "#ed7953"
            ],
            [
             0.7777777777777778,
             "#fb9f3a"
            ],
            [
             0.8888888888888888,
             "#fdca26"
            ],
            [
             1,
             "#f0f921"
            ]
           ]
          },
          "colorway": [
           "#636efa",
           "#EF553B",
           "#00cc96",
           "#ab63fa",
           "#FFA15A",
           "#19d3f3",
           "#FF6692",
           "#B6E880",
           "#FF97FF",
           "#FECB52"
          ],
          "font": {
           "color": "#2a3f5f"
          },
          "geo": {
           "bgcolor": "white",
           "lakecolor": "white",
           "landcolor": "white",
           "showlakes": true,
           "showland": true,
           "subunitcolor": "#C8D4E3"
          },
          "hoverlabel": {
           "align": "left"
          },
          "hovermode": "closest",
          "mapbox": {
           "style": "light"
          },
          "paper_bgcolor": "white",
          "plot_bgcolor": "white",
          "polar": {
           "angularaxis": {
            "gridcolor": "#EBF0F8",
            "linecolor": "#EBF0F8",
            "ticks": ""
           },
           "bgcolor": "white",
           "radialaxis": {
            "gridcolor": "#EBF0F8",
            "linecolor": "#EBF0F8",
            "ticks": ""
           }
          },
          "scene": {
           "xaxis": {
            "backgroundcolor": "white",
            "gridcolor": "#DFE8F3",
            "gridwidth": 2,
            "linecolor": "#EBF0F8",
            "showbackground": true,
            "ticks": "",
            "zerolinecolor": "#EBF0F8"
           },
           "yaxis": {
            "backgroundcolor": "white",
            "gridcolor": "#DFE8F3",
            "gridwidth": 2,
            "linecolor": "#EBF0F8",
            "showbackground": true,
            "ticks": "",
            "zerolinecolor": "#EBF0F8"
           },
           "zaxis": {
            "backgroundcolor": "white",
            "gridcolor": "#DFE8F3",
            "gridwidth": 2,
            "linecolor": "#EBF0F8",
            "showbackground": true,
            "ticks": "",
            "zerolinecolor": "#EBF0F8"
           }
          },
          "shapedefaults": {
           "line": {
            "color": "#2a3f5f"
           }
          },
          "ternary": {
           "aaxis": {
            "gridcolor": "#DFE8F3",
            "linecolor": "#A2B1C6",
            "ticks": ""
           },
           "baxis": {
            "gridcolor": "#DFE8F3",
            "linecolor": "#A2B1C6",
            "ticks": ""
           },
           "bgcolor": "white",
           "caxis": {
            "gridcolor": "#DFE8F3",
            "linecolor": "#A2B1C6",
            "ticks": ""
           }
          },
          "title": {
           "x": 0.05
          },
          "xaxis": {
           "automargin": true,
           "gridcolor": "#EBF0F8",
           "linecolor": "#EBF0F8",
           "ticks": "",
           "title": {
            "standoff": 15
           },
           "zerolinecolor": "#EBF0F8",
           "zerolinewidth": 2
          },
          "yaxis": {
           "automargin": true,
           "gridcolor": "#EBF0F8",
           "linecolor": "#EBF0F8",
           "ticks": "",
           "title": {
            "standoff": 15
           },
           "zerolinecolor": "#EBF0F8",
           "zerolinewidth": 2
          }
         }
        },
        "title": {
         "text": "BEV vs HybridEV Share of EV Registrations (%)"
        },
        "width": 900,
        "xaxis": {
         "anchor": "y",
         "domain": [
          0,
          1
         ],
         "title": {
          "text": "Year"
         }
        },
        "yaxis": {
         "anchor": "x",
         "domain": [
          0,
          1
         ],
         "ticksuffix": "%",
         "title": {
          "text": "Share (%)"
         }
        }
       }
      }
     },
     "metadata": {},
     "output_type": "display_data"
    },
    {
     "data": {
      "application/vnd.plotly.v1+json": {
       "config": {
        "plotlyServerURL": "https://plot.ly"
       },
       "data": [
        {
         "hovertemplate": "Year=%{x}<br>BEV / HybridEV=%{y}<extra></extra>",
         "legendgroup": "",
         "line": {
          "color": "crimson",
          "dash": "solid"
         },
         "marker": {
          "symbol": "circle"
         },
         "mode": "lines+markers",
         "name": "",
         "orientation": "v",
         "showlegend": false,
         "type": "scatter",
         "x": {
          "bdata": "2wfcB90H3gffB+AH4QfiB+MH5AflB+YH5wfoBw==",
          "dtype": "i2"
         },
         "xaxis": "x",
         "y": {
          "bdata": "zKEYsM6HmD+HwrvKOFOeP0POYv8TxKI/vgH/8GGyqz/K9u86jWKzP8cIqSSfz7Y/WMfDrkQYuT8InTObnUy6P1to1Ioq6L4/3i6jVRbDxz+1f8xZfCPRP3l72x+nV9Y/oqm9W7sv2j+st+SiIoTbPw==",
          "dtype": "f8"
         },
         "yaxis": "y"
        }
       ],
       "layout": {
        "height": 520,
        "legend": {
         "tracegroupgap": 0
        },
        "template": {
         "data": {
          "bar": [
           {
            "error_x": {
             "color": "#2a3f5f"
            },
            "error_y": {
             "color": "#2a3f5f"
            },
            "marker": {
             "line": {
              "color": "white",
              "width": 0.5
             },
             "pattern": {
              "fillmode": "overlay",
              "size": 10,
              "solidity": 0.2
             }
            },
            "type": "bar"
           }
          ],
          "barpolar": [
           {
            "marker": {
             "line": {
              "color": "white",
              "width": 0.5
             },
             "pattern": {
              "fillmode": "overlay",
              "size": 10,
              "solidity": 0.2
             }
            },
            "type": "barpolar"
           }
          ],
          "carpet": [
           {
            "aaxis": {
             "endlinecolor": "#2a3f5f",
             "gridcolor": "#C8D4E3",
             "linecolor": "#C8D4E3",
             "minorgridcolor": "#C8D4E3",
             "startlinecolor": "#2a3f5f"
            },
            "baxis": {
             "endlinecolor": "#2a3f5f",
             "gridcolor": "#C8D4E3",
             "linecolor": "#C8D4E3",
             "minorgridcolor": "#C8D4E3",
             "startlinecolor": "#2a3f5f"
            },
            "type": "carpet"
           }
          ],
          "choropleth": [
           {
            "colorbar": {
             "outlinewidth": 0,
             "ticks": ""
            },
            "type": "choropleth"
           }
          ],
          "contour": [
           {
            "colorbar": {
             "outlinewidth": 0,
             "ticks": ""
            },
            "colorscale": [
             [
              0,
              "#0d0887"
             ],
             [
              0.1111111111111111,
              "#46039f"
             ],
             [
              0.2222222222222222,
              "#7201a8"
             ],
             [
              0.3333333333333333,
              "#9c179e"
             ],
             [
              0.4444444444444444,
              "#bd3786"
             ],
             [
              0.5555555555555556,
              "#d8576b"
             ],
             [
              0.6666666666666666,
              "#ed7953"
             ],
             [
              0.7777777777777778,
              "#fb9f3a"
             ],
             [
              0.8888888888888888,
              "#fdca26"
             ],
             [
              1,
              "#f0f921"
             ]
            ],
            "type": "contour"
           }
          ],
          "contourcarpet": [
           {
            "colorbar": {
             "outlinewidth": 0,
             "ticks": ""
            },
            "type": "contourcarpet"
           }
          ],
          "heatmap": [
           {
            "colorbar": {
             "outlinewidth": 0,
             "ticks": ""
            },
            "colorscale": [
             [
              0,
              "#0d0887"
             ],
             [
              0.1111111111111111,
              "#46039f"
             ],
             [
              0.2222222222222222,
              "#7201a8"
             ],
             [
              0.3333333333333333,
              "#9c179e"
             ],
             [
              0.4444444444444444,
              "#bd3786"
             ],
             [
              0.5555555555555556,
              "#d8576b"
             ],
             [
              0.6666666666666666,
              "#ed7953"
             ],
             [
              0.7777777777777778,
              "#fb9f3a"
             ],
             [
              0.8888888888888888,
              "#fdca26"
             ],
             [
              1,
              "#f0f921"
             ]
            ],
            "type": "heatmap"
           }
          ],
          "histogram": [
           {
            "marker": {
             "pattern": {
              "fillmode": "overlay",
              "size": 10,
              "solidity": 0.2
             }
            },
            "type": "histogram"
           }
          ],
          "histogram2d": [
           {
            "colorbar": {
             "outlinewidth": 0,
             "ticks": ""
            },
            "colorscale": [
             [
              0,
              "#0d0887"
             ],
             [
              0.1111111111111111,
              "#46039f"
             ],
             [
              0.2222222222222222,
              "#7201a8"
             ],
             [
              0.3333333333333333,
              "#9c179e"
             ],
             [
              0.4444444444444444,
              "#bd3786"
             ],
             [
              0.5555555555555556,
              "#d8576b"
             ],
             [
              0.6666666666666666,
              "#ed7953"
             ],
             [
              0.7777777777777778,
              "#fb9f3a"
             ],
             [
              0.8888888888888888,
              "#fdca26"
             ],
             [
              1,
              "#f0f921"
             ]
            ],
            "type": "histogram2d"
           }
          ],
          "histogram2dcontour": [
           {
            "colorbar": {
             "outlinewidth": 0,
             "ticks": ""
            },
            "colorscale": [
             [
              0,
              "#0d0887"
             ],
             [
              0.1111111111111111,
              "#46039f"
             ],
             [
              0.2222222222222222,
              "#7201a8"
             ],
             [
              0.3333333333333333,
              "#9c179e"
             ],
             [
              0.4444444444444444,
              "#bd3786"
             ],
             [
              0.5555555555555556,
              "#d8576b"
             ],
             [
              0.6666666666666666,
              "#ed7953"
             ],
             [
              0.7777777777777778,
              "#fb9f3a"
             ],
             [
              0.8888888888888888,
              "#fdca26"
             ],
             [
              1,
              "#f0f921"
             ]
            ],
            "type": "histogram2dcontour"
           }
          ],
          "mesh3d": [
           {
            "colorbar": {
             "outlinewidth": 0,
             "ticks": ""
            },
            "type": "mesh3d"
           }
          ],
          "parcoords": [
           {
            "line": {
             "colorbar": {
              "outlinewidth": 0,
              "ticks": ""
             }
            },
            "type": "parcoords"
           }
          ],
          "pie": [
           {
            "automargin": true,
            "type": "pie"
           }
          ],
          "scatter": [
           {
            "fillpattern": {
             "fillmode": "overlay",
             "size": 10,
             "solidity": 0.2
            },
            "type": "scatter"
           }
          ],
          "scatter3d": [
           {
            "line": {
             "colorbar": {
              "outlinewidth": 0,
              "ticks": ""
             }
            },
            "marker": {
             "colorbar": {
              "outlinewidth": 0,
              "ticks": ""
             }
            },
            "type": "scatter3d"
           }
          ],
          "scattercarpet": [
           {
            "marker": {
             "colorbar": {
              "outlinewidth": 0,
              "ticks": ""
             }
            },
            "type": "scattercarpet"
           }
          ],
          "scattergeo": [
           {
            "marker": {
             "colorbar": {
              "outlinewidth": 0,
              "ticks": ""
             }
            },
            "type": "scattergeo"
           }
          ],
          "scattergl": [
           {
            "marker": {
             "colorbar": {
              "outlinewidth": 0,
              "ticks": ""
             }
            },
            "type": "scattergl"
           }
          ],
          "scattermap": [
           {
            "marker": {
             "colorbar": {
              "outlinewidth": 0,
              "ticks": ""
             }
            },
            "type": "scattermap"
           }
          ],
          "scattermapbox": [
           {
            "marker": {
             "colorbar": {
              "outlinewidth": 0,
              "ticks": ""
             }
            },
            "type": "scattermapbox"
           }
          ],
          "scatterpolar": [
           {
            "marker": {
             "colorbar": {
              "outlinewidth": 0,
              "ticks": ""
             }
            },
            "type": "scatterpolar"
           }
          ],
          "scatterpolargl": [
           {
            "marker": {
             "colorbar": {
              "outlinewidth": 0,
              "ticks": ""
             }
            },
            "type": "scatterpolargl"
           }
          ],
          "scatterternary": [
           {
            "marker": {
             "colorbar": {
              "outlinewidth": 0,
              "ticks": ""
             }
            },
            "type": "scatterternary"
           }
          ],
          "surface": [
           {
            "colorbar": {
             "outlinewidth": 0,
             "ticks": ""
            },
            "colorscale": [
             [
              0,
              "#0d0887"
             ],
             [
              0.1111111111111111,
              "#46039f"
             ],
             [
              0.2222222222222222,
              "#7201a8"
             ],
             [
              0.3333333333333333,
              "#9c179e"
             ],
             [
              0.4444444444444444,
              "#bd3786"
             ],
             [
              0.5555555555555556,
              "#d8576b"
             ],
             [
              0.6666666666666666,
              "#ed7953"
             ],
             [
              0.7777777777777778,
              "#fb9f3a"
             ],
             [
              0.8888888888888888,
              "#fdca26"
             ],
             [
              1,
              "#f0f921"
             ]
            ],
            "type": "surface"
           }
          ],
          "table": [
           {
            "cells": {
             "fill": {
              "color": "#EBF0F8"
             },
             "line": {
              "color": "white"
             }
            },
            "header": {
             "fill": {
              "color": "#C8D4E3"
             },
             "line": {
              "color": "white"
             }
            },
            "type": "table"
           }
          ]
         },
         "layout": {
          "annotationdefaults": {
           "arrowcolor": "#2a3f5f",
           "arrowhead": 0,
           "arrowwidth": 1
          },
          "autotypenumbers": "strict",
          "coloraxis": {
           "colorbar": {
            "outlinewidth": 0,
            "ticks": ""
           }
          },
          "colorscale": {
           "diverging": [
            [
             0,
             "#8e0152"
            ],
            [
             0.1,
             "#c51b7d"
            ],
            [
             0.2,
             "#de77ae"
            ],
            [
             0.3,
             "#f1b6da"
            ],
            [
             0.4,
             "#fde0ef"
            ],
            [
             0.5,
             "#f7f7f7"
            ],
            [
             0.6,
             "#e6f5d0"
            ],
            [
             0.7,
             "#b8e186"
            ],
            [
             0.8,
             "#7fbc41"
            ],
            [
             0.9,
             "#4d9221"
            ],
            [
             1,
             "#276419"
            ]
           ],
           "sequential": [
            [
             0,
             "#0d0887"
            ],
            [
             0.1111111111111111,
             "#46039f"
            ],
            [
             0.2222222222222222,
             "#7201a8"
            ],
            [
             0.3333333333333333,
             "#9c179e"
            ],
            [
             0.4444444444444444,
             "#bd3786"
            ],
            [
             0.5555555555555556,
             "#d8576b"
            ],
            [
             0.6666666666666666,
             "#ed7953"
            ],
            [
             0.7777777777777778,
             "#fb9f3a"
            ],
            [
             0.8888888888888888,
             "#fdca26"
            ],
            [
             1,
             "#f0f921"
            ]
           ],
           "sequentialminus": [
            [
             0,
             "#0d0887"
            ],
            [
             0.1111111111111111,
             "#46039f"
            ],
            [
             0.2222222222222222,
             "#7201a8"
            ],
            [
             0.3333333333333333,
             "#9c179e"
            ],
            [
             0.4444444444444444,
             "#bd3786"
            ],
            [
             0.5555555555555556,
             "#d8576b"
            ],
            [
             0.6666666666666666,
             "#ed7953"
            ],
            [
             0.7777777777777778,
             "#fb9f3a"
            ],
            [
             0.8888888888888888,
             "#fdca26"
            ],
            [
             1,
             "#f0f921"
            ]
           ]
          },
          "colorway": [
           "#636efa",
           "#EF553B",
           "#00cc96",
           "#ab63fa",
           "#FFA15A",
           "#19d3f3",
           "#FF6692",
           "#B6E880",
           "#FF97FF",
           "#FECB52"
          ],
          "font": {
           "color": "#2a3f5f"
          },
          "geo": {
           "bgcolor": "white",
           "lakecolor": "white",
           "landcolor": "white",
           "showlakes": true,
           "showland": true,
           "subunitcolor": "#C8D4E3"
          },
          "hoverlabel": {
           "align": "left"
          },
          "hovermode": "closest",
          "mapbox": {
           "style": "light"
          },
          "paper_bgcolor": "white",
          "plot_bgcolor": "white",
          "polar": {
           "angularaxis": {
            "gridcolor": "#EBF0F8",
            "linecolor": "#EBF0F8",
            "ticks": ""
           },
           "bgcolor": "white",
           "radialaxis": {
            "gridcolor": "#EBF0F8",
            "linecolor": "#EBF0F8",
            "ticks": ""
           }
          },
          "scene": {
           "xaxis": {
            "backgroundcolor": "white",
            "gridcolor": "#DFE8F3",
            "gridwidth": 2,
            "linecolor": "#EBF0F8",
            "showbackground": true,
            "ticks": "",
            "zerolinecolor": "#EBF0F8"
           },
           "yaxis": {
            "backgroundcolor": "white",
            "gridcolor": "#DFE8F3",
            "gridwidth": 2,
            "linecolor": "#EBF0F8",
            "showbackground": true,
            "ticks": "",
            "zerolinecolor": "#EBF0F8"
           },
           "zaxis": {
            "backgroundcolor": "white",
            "gridcolor": "#DFE8F3",
            "gridwidth": 2,
            "linecolor": "#EBF0F8",
            "showbackground": true,
            "ticks": "",
            "zerolinecolor": "#EBF0F8"
           }
          },
          "shapedefaults": {
           "line": {
            "color": "#2a3f5f"
           }
          },
          "ternary": {
           "aaxis": {
            "gridcolor": "#DFE8F3",
            "linecolor": "#A2B1C6",
            "ticks": ""
           },
           "baxis": {
            "gridcolor": "#DFE8F3",
            "linecolor": "#A2B1C6",
            "ticks": ""
           },
           "bgcolor": "white",
           "caxis": {
            "gridcolor": "#DFE8F3",
            "linecolor": "#A2B1C6",
            "ticks": ""
           }
          },
          "title": {
           "x": 0.05
          },
          "xaxis": {
           "automargin": true,
           "gridcolor": "#EBF0F8",
           "linecolor": "#EBF0F8",
           "ticks": "",
           "title": {
            "standoff": 15
           },
           "zerolinecolor": "#EBF0F8",
           "zerolinewidth": 2
          },
          "yaxis": {
           "automargin": true,
           "gridcolor": "#EBF0F8",
           "linecolor": "#EBF0F8",
           "ticks": "",
           "title": {
            "standoff": 15
           },
           "zerolinecolor": "#EBF0F8",
           "zerolinewidth": 2
          }
         }
        },
        "title": {
         "text": "BEV to HybridEV Ratio Over Time"
        },
        "width": 900,
        "xaxis": {
         "anchor": "y",
         "domain": [
          0,
          1
         ],
         "title": {
          "text": "Year"
         }
        },
        "yaxis": {
         "anchor": "x",
         "domain": [
          0,
          1
         ],
         "title": {
          "text": "BEV / HybridEV"
         }
        }
       }
      }
     },
     "metadata": {},
     "output_type": "display_data"
    }
   ],
   "source": [
    "# Classify EV detail using your Fuel labels (adjust patterns as needed)\n",
    "tmp = df_ev.loc[df_ev[\"Fuel\"].notna(), [\"Year\",\"Fuel\",\"Registrations\"]].copy()\n",
    "tmp[\"EV_Type\"] = np.select(\n",
    "    [\n",
    "        tmp[\"Fuel\"].str.contains(\"battery electric\", case=False, na=False),\n",
    "        tmp[\"Fuel\"].str.contains(\"plugin hybrid\", case=False, na=False) |\n",
    "        tmp[\"Fuel\"].str.contains(\"hybrid electric\", case=False, na=False)\n",
    "    ],\n",
    "    [\"BEV\", \"HybridEV\"],\n",
    "    default=\"Other\"\n",
    ")\n",
    "\n",
    "mix = (\n",
    "    tmp[tmp[\"EV_Type\"].isin([\"BEV\",\"HybridEV\"])]\n",
    "      .groupby([\"Year\",\"EV_Type\"], as_index=False)[\"Registrations\"].sum()\n",
    "      .pivot(index=\"Year\", columns=\"EV_Type\", values=\"Registrations\")\n",
    "      .fillna(0)\n",
    ")\n",
    "\n",
    "mix[\"BEV_to_Hybrid_Ratio\"] = np.where(mix[\"HybridEV\"]>0, mix[\"BEV\"]/mix[\"HybridEV\"], np.nan)\n",
    "mix.reset_index()\n",
    "\n",
    "# ---------- 1) Stacked bars: BEV vs HybridEV registrations ----------\n",
    "mix_plot = mix.reset_index()  # Year back to column\n",
    "fig = px.bar(\n",
    "    mix_plot,\n",
    "    x=\"Year\",\n",
    "    y=[\"BEV\", \"HybridEV\"],\n",
    "    title=\"BEV vs HybridEV Registrations by Year\",\n",
    "    labels={\"value\":\"Registrations\", \"variable\":\"EV Type\"},\n",
    "    color_discrete_sequence=KES_palette\n",
    ")\n",
    "fig.update_layout(barmode=\"stack\", template=\"plotly_white\", width=900, height=520)\n",
    "fig.write_html(FIG_DIR / \"bev_vs_hybrid_stacked.html\")\n",
    "fig.write_image(FIG_DIR / \"bev_vs_hybrid_stacked.pdf\")\n",
    "fig.show()\n",
    "\n",
    "# ---------- 2) % shares over time (area) ----------\n",
    "mix_share = mix_plot.copy()\n",
    "total = (mix_share[\"BEV\"] + mix_share[\"HybridEV\"]).replace(0, np.nan)\n",
    "mix_share[\"BEV_%\"] = 100 * mix_share[\"BEV\"] / total\n",
    "mix_share[\"HybridEV_%\"] = 100 * mix_share[\"HybridEV\"] / total\n",
    "\n",
    "fig2 = px.area(\n",
    "    mix_share,\n",
    "    x=\"Year\",\n",
    "    y=[\"BEV_%\", \"HybridEV_%\"],\n",
    "    title=\"BEV vs HybridEV Share of EV Registrations (%)\",\n",
    "    labels={\"value\":\"Share (%)\", \"variable\":\"EV Type\"},\n",
    "    color_discrete_sequence=KES_palette\n",
    ")\n",
    "fig2.update_layout(template=\"plotly_white\", width=900, height=520, yaxis_ticksuffix=\"%\")\n",
    "fig2.write_image(FIG_DIR / \"bev_vs_hybrid_share.pdf\")\n",
    "fig2.show()\n",
    "\n",
    "# ---------- 3) Ratio line: BEV / HybridEV ----------\n",
    "ratio_plot = mix[[\"BEV_to_Hybrid_Ratio\"]].reset_index()\n",
    "fig3 = px.line(\n",
    "    ratio_plot,\n",
    "    x=\"Year\",\n",
    "    y=\"BEV_to_Hybrid_Ratio\",\n",
    "    markers=True,\n",
    "    title=\"BEV to HybridEV Ratio Over Time\",\n",
    "    labels={\"BEV_to_Hybrid_Ratio\":\"BEV / HybridEV\"},\n",
    "    color_discrete_sequence=[\"crimson\"]\n",
    ")\n",
    "fig3.update_layout(template=\"plotly_white\", width=900, height=520)\n",
    "fig3.write_image(FIG_DIR / \"bev_to_hybrid_ratio.pdf\")\n",
    "fig3.show()"
   ]
  },
  {
   "cell_type": "markdown",
   "id": "05450aca",
   "metadata": {},
   "source": [
    "### 5.1.5) Cross-market Correlation: UK registrations vs stock returns (Chinese & German)"
   ]
  },
  {
   "cell_type": "code",
   "execution_count": 25,
   "id": "d6a59425",
   "metadata": {},
   "outputs": [
    {
     "name": "stderr",
     "output_type": "stream",
     "text": [
      "[*********************100%***********************]  7 of 7 completed\n",
      "/var/folders/7x/pd53f7tx0jl5lyy8g87z1qqw0000gn/T/ipykernel_3314/2167602715.py:12: FutureWarning:\n",
      "\n",
      "'M' is deprecated and will be removed in a future version, please use 'ME' instead.\n",
      "\n",
      "/var/folders/7x/pd53f7tx0jl5lyy8g87z1qqw0000gn/T/ipykernel_3314/2167602715.py:14: FutureWarning:\n",
      "\n",
      "DataFrame.groupby with axis=1 is deprecated. Do `frame.T.groupby(...)` without axis instead.\n",
      "\n"
     ]
    },
    {
     "name": "stdout",
     "output_type": "stream",
     "text": [
      "Correlation matrix (registrations vs stock returns, annual):\n",
      "             Ret_China  Ret_Germany\n",
      "Reg_China    -0.526736    -0.448721\n",
      "Reg_Germany  -0.551387    -0.597748\n"
     ]
    },
    {
     "name": "stderr",
     "output_type": "stream",
     "text": [
      "/var/folders/7x/pd53f7tx0jl5lyy8g87z1qqw0000gn/T/ipykernel_3314/2167602715.py:26: FutureWarning:\n",
      "\n",
      "'Y' is deprecated and will be removed in a future version, please use 'YE' instead.\n",
      "\n"
     ]
    }
   ],
   "source": [
    "\n",
    "# --- A) Pull daily prices for representative listed OEMs ---\n",
    "tickers = {\n",
    "    # China\n",
    "    \"BYD\": \"1211.HK\", \"XPeng\": \"XPEV\", \"NIO\": \"NIO\", \"Li Auto\": \"LI\",\n",
    "    # Germany\n",
    "    \"Volkswagen\": \"VOW3.DE\", \"BMW\": \"BMW.DE\", \"Mercedes\": \"MBG.DE\"\n",
    "}\n",
    "px = yf.download(list(tickers.values()), period=\"5y\", auto_adjust=True)[\"Close\"]\n",
    "px.columns = tickers.keys()\n",
    "\n",
    "# Monthly returns by origin\n",
    "monthly = px.resample(\"M\").last().pct_change().dropna()\n",
    "origin_map = {c: \"China\" if c in {\"BYD\",\"XPeng\",\"NIO\",\"Li Auto\"} else \"Germany\" for c in monthly.columns}\n",
    "ret_by_origin = monthly.groupby(axis=1, by=origin_map).mean().rename(columns={\"China\":\"Ret_China\",\"Germany\":\"Ret_Germany\"})\n",
    "\n",
    "# --- UK registrations by origin at monthly or at least annual frequency ---\n",
    "# If you only have yearly registrations, compute yearly returns instead.\n",
    "regs_year_origin = (\n",
    "    df_ev.groupby([\"Year\",\"Country\"], as_index=False)[\"Registrations\"].sum()\n",
    "      .pivot(index=\"Year\", columns=\"Country\", values=\"Registrations\")\n",
    "      .rename(columns={\"China\":\"Reg_China\",\"Germany\":\"Reg_Germany\"})\n",
    "      .dropna(how=\"all\")\n",
    ")\n",
    "\n",
    "# Convert stock monthly returns to yearly returns to align (geometric aggregation)\n",
    "yr = ret_by_origin.resample(\"Y\").apply(lambda x: (1+x).prod()-1)\n",
    "yr.index = yr.index.year\n",
    "\n",
    "# Merge and compute correlations\n",
    "corr_df = regs_year_origin.merge(yr, left_index=True, right_index=True, how=\"inner\")\n",
    "corrs = corr_df.corr(numeric_only=True)\n",
    "\n",
    "print(\"Correlation matrix (registrations vs stock returns, annual):\")\n",
    "print(corrs.loc[[\"Reg_China\",\"Reg_Germany\"], [\"Ret_China\",\"Ret_Germany\"]])"
   ]
  },
  {
   "cell_type": "markdown",
   "id": "7506fce0",
   "metadata": {},
   "source": [
    "# Calculating Efficient Portfolio Based on Stocks From Past Years"
   ]
  },
  {
   "cell_type": "code",
   "execution_count": 26,
   "id": "f7323549",
   "metadata": {},
   "outputs": [],
   "source": [
    "brand_to_tickers = {\n",
    "    # Directly listed automakers\n",
    "    \"ASTON MARTIN\": [\"AML.L\"],\n",
    "    \"BMW\": [\"BMW.DE\"],\n",
    "    \"BYD\": [\"1211.HK\"],\n",
    "    \"DAIMLER\": [\"MBG.DE\"],                 # Mercedes-Benz Group\n",
    "    \"FERRARI\": [\"RACE\"],\n",
    "    \"FISKER\": [\"FSR\"],                     # (historically; status may vary)\n",
    "    \"FORD\": [\"F\"],\n",
    "    \"GEELY\": [\"0175.HK\"],                  # parent (for LEVC/others)\n",
    "    \"HONDA\": [\"7267.T\"],\n",
    "    \"HYUNDAI\": [\"005380.KS\"],\n",
    "    \"INFINITI\": [\"7201.T\"],                # via Nissan\n",
    "    \"JAGUAR\": [\"TATAMOTORS.NS\", \"TTM\"],    # via Tata Motors\n",
    "    \"JEEP\": [\"STLA\"],                      # via Stellantis\n",
    "    \"KIA\": [\"000270.KS\"],\n",
    "    \"LEXUS\": [\"7203.T\"],                   # via Toyota\n",
    "    \"LOTUS\": [\"LOT\"],                      # Lotus Technology Inc (Nasdaq)\n",
    "    \"MASERATI\": [\"STLA\"],                  # via Stellantis\n",
    "    \"MAZDA\": [\"7261.T\"],\n",
    "    \"MERCEDES\": [\"MBG.DE\"],\n",
    "    \"MERCEDES-BENZ\": [\"MBG.DE\"],\n",
    "    \"MG\": [\"600104.SS\"],                   # via SAIC Motor (A-share)\n",
    "    \"MINI\": [\"BMW.DE\"],                    # via BMW\n",
    "    \"MITSUBISHI\": [\"7211.T\"],              # Mitsubishi Motors\n",
    "    \"NISSAN\": [\"7201.T\"],\n",
    "    \"OMODA\": [],                           # via Chery (not listed)\n",
    "    \"ORA\": [\"601633.SS\", \"2333.HK\"],       # via Great Wall Motor\n",
    "    \"PEUGEOT\": [\"STLA\"],                   # via Stellantis\n",
    "    \"POLESTAR\": [\"PSNY\"],\n",
    "    \"PORSCHE\": [\"P911.DE\"],                # Porsche AG\n",
    "    \"RENAULT\": [\"RNO.PA\"],\n",
    "    \"ROLLS ROYCE\": [\"BMW.DE\"],            # cars via BMW (RR.L is aerospace)\n",
    "    \"SEAT\": [\"VOW3.DE\"],                   # via Volkswagen\n",
    "    \"SKODA\": [\"VOW3.DE\"],                  # via Volkswagen\n",
    "    \"SSANGYONG\": [\"003620.KS\"],            # KG Mobility (KRX:003620)\n",
    "    \"SUBARU\": [\"7270.T\"],\n",
    "    \"SUZUKI\": [\"7269.T\"],\n",
    "    \"TATA\": [\"TATAMOTORS.NS\", \"TTM\"],\n",
    "    \"TESLA\": [\"TSLA\"],\n",
    "    \"TOYOTA\": [\"7203.T\"],\n",
    "    \"VAUXHALL\": [\"STLA\"],                  # via Stellantis\n",
    "    \"VOLKSWAGEN\": [\"VOW3.DE\"],\n",
    "    \"VOLVO\": [\"VOLCAR-B.ST\"],              # Volvo Car AB (cars)\n",
    "    \"XPENG\": [\"XPEV\"],\n",
    "    \"YAMAHA\": [\"7272.T\"],\n",
    "\n",
    "    # Chinese groups & related\n",
    "    \"GREAT WALL\": [\"601633.SS\", \"2333.HK\"],\n",
    "    \"GWM\": [\"601633.SS\", \"2333.HK\"],\n",
    "    \"LEAPMOTOR\": [\"9863.HK\"],\n",
    "    \"MAXUS\": [\"600104.SS\"],                # via SAIC\n",
    "    \"ORA\": [\"601633.SS\", \"2333.HK\"],\n",
    "    \"SKYWELL\": [],                         # private / not widely listed\n",
    "    \"TIANJIN\": [],                         # ambiguous brand; skip\n",
    "\n",
    "    # Parent group tickers for brand families\n",
    "    \"ABARTH\": [\"STLA\"],                    # Stellantis\n",
    "    \"ALFA ROMEO\": [\"STLA\"],                # Stellantis\n",
    "    \"CITROEN\": [\"STLA\"],                   # Stellantis\n",
    "    \"DS\": [\"STLA\"],                        # Stellantis\n",
    "    \"FIAT\": [\"STLA\"],                      # Stellantis\n",
    "    \"OPEL\": [\"STLA\"],                      # Stellantis\n",
    "    \"CUPRA\": [\"VOW3.DE\"],                  # VW/SEAT\n",
    "    \"AUDI\": [\"VOW3.DE\"],                   # VW group\n",
    "    \"BENTLEY\": [\"VOW3.DE\"],                # VW group\n",
    "    \"LAMBORGHINI\": [\"VOW3.DE\"],            # (not in your list; VW group)\n",
    "    \"PORSCHE\": [\"P911.DE\"],\n",
    "\n",
    "    # US/others\n",
    "    \"CADILLAC\": [\"GM\"],                    # via General Motors\n",
    "    \"CHEVROLET\": [\"GM\"],\n",
    "    \"HUMMER\": [\"GM\"],\n",
    "\n",
    "    # Truck / industrial parents (if you still want them)\n",
    "    \"DAF\": [\"PCAR\"],                       # via PACCAR\n",
    "    \"KOMATSU\": [\"6301.T\"],                 # industrial\n",
    "    \"HYSTER\": [\"HY\"],                      # Hyster-Yale Materials Handling (check)\n",
    "    \"YALE\": [\"HY\"],                        # same parent\n",
    "\n",
    "    # Hard/Private/Defunct/Coachbuilders -> no ticker\n",
    "    \"AIXAM\": [], \"ALBION\": [], \"ARIEL\": [], \"AUSTIN\": [],\n",
    "    \"AUSTIN HEALEY\": [], \"AUSTIN MORRIS\": [], \"CATERPILLAR\": [\"CAT\"],  # not cars; industrial\n",
    "    \"CLARK\": [], \"COLEMAN MILNE\": [], \"COVENTRY CLIMAX\": [], \"DAEWOO\": [],\n",
    "    \"DATSUN\": [\"7201.T\"],                  # via Nissan\n",
    "    \"DFSK\": [\"0489.HK\", \"601127.SS\"],      # Dongfeng (0489.HK), Seres (601127.SS)\n",
    "    \"ELECTRICARS\": [], \"EOS\": [], \"EVT\": [],\n",
    "    \"GENESIS\": [\"005380.KS\"],              # via Hyundai Motor\n",
    "    \"GINETTA\": [], \"HARBILT ELECTRIC\": [], \"HILLMAN\": [],\n",
    "    \"INVACAR\": [], \"JENSEN\": [], \"JONWAY\": [],\n",
    "    \"KGM\": [\"003620.KS\"],                  # KG Mobility (ex-SsangYong)\n",
    "    \"LANSING LINDE\": [],                   # forklift brand (KION AG: KGX.DE if needed)\n",
    "    \"LIGIER\": [], \"LONDON TAXIS INT.\": [\"0175.HK\"],   # via Geely (LEVC)\n",
    "    \"LOTUS\": [\"LOT\"], \"MAHINDRA\": [\"M&M.NS\"],         # Yahoo uses 'M&M.NS'\n",
    "    \"MCC\": [\"MBG.DE\"],                     # Smart’s original company -> Mercedes\n",
    "    \"MIA\": [], \"MITSUBISHI FUSO\": [\"DTG.DE\"],         # via Daimler Truck\n",
    "    \"MOKE AUTOMIBILI\": [], \"MORGAN\": [], \"MORRIS\": [],\n",
    "    \"OTHER AGRIC/CONSTRUCTIONAL\": [], \"OTHER BRITISH\": [],\n",
    "    \"OTHER COUNTRIES\": [], \"OTHER ELECTRIC\": [],\n",
    "    \"OTHER GERMAN\": [], \"OTHER ITALIAN\": [], \"OTHER US/AUST/CAN\": [],\n",
    "    \"PERODUA\": [], \"PIONEER\": [], \"PROTON\": [], \"RELIANT\": [],\n",
    "    \"RENAULT TRUCKS\": [\"VOLV-B.ST\"],       # via Volvo Group (trucks), NOT cars\n",
    "    \"REVA\": [], \"ROVER\": [], \"ROYAL ENFIELD\": [\"EICHERMOT.NS\"],  # parent Eicher Motors\n",
    "    \"SECMA\": [], \"SMART\": [\"MBG.DE\", \"0175.HK\"],      # JV Mercedes/Geely\n",
    "    \"SMITHS\": [], \"THINK\": [], \"THINK GLOBAL\": [],\n",
    "    \"TRIUMPH\": [], \"TVR\": [], \"W+E\": [], \"WESTFIELD\": []\n",
    "}\n"
   ]
  },
  {
   "cell_type": "code",
   "execution_count": 27,
   "id": "bcff1ac4",
   "metadata": {},
   "outputs": [
    {
     "data": {
      "application/vnd.microsoft.datawrangler.viewer.v0+json": {
       "columns": [
        {
         "name": "index",
         "rawType": "int64",
         "type": "integer"
        },
        {
         "name": "raw",
         "rawType": "object",
         "type": "string"
        },
        {
         "name": "Make",
         "rawType": "object",
         "type": "string"
        },
        {
         "name": "Country",
         "rawType": "object",
         "type": "string"
        },
        {
         "name": "ParentCompany",
         "rawType": "object",
         "type": "string"
        }
       ],
       "ref": "d128f44a-b6ca-4fae-ac39-84a9f93a894f",
       "rows": [
        [
         "0",
         "ABARTH — Italy — Stellantis N.V. — Netherlands",
         "ABARTH",
         "Netherlands",
         "Stellantis N.V."
        ],
        [
         "1",
         "AC — United Kingdom — AC Cars Ltd — United Kingdom",
         "AC",
         "United Kingdom",
         "AC Cars Ltd"
        ],
        [
         "2",
         "AC (ELECTRIC) — United Kingdom — AC Cars Ltd — United Kingdom",
         "AC (ELECTRIC)",
         "United Kingdom",
         "AC Cars Ltd"
        ],
        [
         "3",
         "ACCESS — Japan — Access Motor Co., Ltd — Japan",
         "ACCESS",
         "Japan",
         "Access Motor Co., Ltd"
        ],
        [
         "4",
         "ACURA — Japan — Honda Motor Co., Ltd. — Japan",
         "ACURA",
         "Japan",
         "Honda Motor Co., Ltd."
        ],
        [
         "5",
         "ADLY — Taiwan — Her Chee Industrial Co., Ltd. — Taiwan",
         "ADLY",
         "Taiwan",
         "Her Chee Industrial Co., Ltd."
        ],
        [
         "6",
         "ADRIA — Slovenia — Adria Mobil d.o.o. (Trigano Group) — France",
         "ADRIA",
         "France",
         "Adria Mobil d.o.o. (Trigano Group)"
        ],
        [
         "7",
         "AEON — Taiwan — Aeon Motor Co., Ltd. — Taiwan",
         "AEON",
         "Taiwan",
         "Aeon Motor Co., Ltd."
        ],
        [
         "8",
         "AGRIFAC — Netherlands — Agrifac Machinery B.V. (Exel Industries Group) — France",
         "AGRIFAC",
         "France",
         "Agrifac Machinery B.V. (Exel Industries Group)"
        ],
        [
         "9",
         "AIE — United Kingdom — AIE (Advanced Innovative Engineering Ltd.) — United Kingdom",
         "AIE",
         "United Kingdom",
         "AIE (Advanced Innovative Engineering Ltd.)"
        ],
        [
         "10",
         "AIXAM — France — Polaris Industries Inc. — United States",
         "AIXAM",
         "United States",
         "Polaris Industries Inc."
        ],
        [
         "11",
         "AJS — United Kingdom — AJS Motorcycles Ltd. — United Kingdom",
         "AJS",
         "United Kingdom",
         "AJS Motorcycles Ltd."
        ],
        [
         "12",
         "ALBION — United Kingdom — Albion Motors (historic) — United Kingdom",
         "ALBION",
         "United Kingdom",
         "Albion Motors (historic)"
        ],
        [
         "13",
         "ALFA ROMEO — Italy — Stellantis N.V. — Netherlands",
         "ALFA ROMEO",
         "Netherlands",
         "Stellantis N.V."
        ],
        [
         "14",
         "ALL WHEEL DRIVE — United Kingdom — Specialist/custom manufacturer — United Kingdom",
         "ALL WHEEL DRIVE",
         "United Kingdom",
         "Specialist/custom manufacturer"
        ],
        [
         "15",
         "ALPINA — Germany — BMW AG — Germany",
         "ALPINA",
         "Germany",
         "BMW AG"
        ],
        [
         "16",
         "ALPINE — France — Groupe Renault — France",
         "ALPINE",
         "France",
         "Groupe Renault"
        ],
        [
         "17",
         "AM GENERAL — United States — AM General LLC — United States",
         "AM GENERAL",
         "United States",
         "AM General LLC"
        ],
        [
         "18",
         "APPLIED SWEEPER — United Kingdom — Applied Sweepers Ltd (Scarab/Suez Group) — United Kingdom",
         "APPLIED SWEEPER",
         "United Kingdom",
         "Applied Sweepers Ltd (Scarab/Suez Group)"
        ],
        [
         "19",
         "APRILIA — Italy — Piaggio & C. SpA — Italy",
         "APRILIA",
         "Italy",
         "Piaggio & C. SpA"
        ],
        [
         "20",
         "ARIEL — United Kingdom — Ariel Motor Company Ltd. — United Kingdom",
         "ARIEL",
         "United Kingdom",
         "Ariel Motor Company Ltd."
        ],
        [
         "21",
         "ARO — Romania — Auto Romania (ARO) — Romania",
         "ARO",
         "Romania",
         "Auto Romania (ARO)"
        ],
        [
         "22",
         "ARTEGA — Germany — Paragon AG / Karo Electric — Germany",
         "ARTEGA",
         "Germany",
         "Paragon AG / Karo Electric"
        ],
        [
         "23",
         "ASIA — South Korea — Kia Motors (Hyundai Motor Group) — South Korea",
         "ASIA",
         "South Korea",
         "Kia Motors (Hyundai Motor Group)"
        ],
        [
         "24",
         "ASQUITH — United Kingdom — Asquith Motors Ltd. — United Kingdom",
         "ASQUITH",
         "United Kingdom",
         "Asquith Motors Ltd."
        ],
        [
         "25",
         "ASTON MARTIN — United Kingdom — Aston Martin Lagonda Global Holdings plc — United Kingdom",
         "ASTON MARTIN",
         "United Kingdom",
         "Aston Martin Lagonda Global Holdings plc"
        ],
        [
         "26",
         "ATALA — Italy — F.I.V. Edoardo Bianchi (Cycle Europe Group) — Italy",
         "ATALA",
         "Italy",
         "F.I.V. Edoardo Bianchi (Cycle Europe Group)"
        ],
        [
         "27",
         "AUDI — Germany — Volkswagen AG — Germany",
         "AUDI",
         "Germany",
         "Volkswagen AG"
        ],
        [
         "28",
         "AUSTIN — United Kingdom — British Motor Corporation (historic) / British Leyland legacy — United Kingdom",
         "AUSTIN",
         "United Kingdom",
         "British Motor Corporation (historic) / British Leyland legacy"
        ],
        [
         "29",
         "AUSTIN HEALEY — United Kingdom — Joint venture between Austin (BMC) and Donald Healey Motor Company (historic) — United Kingdom",
         "AUSTIN HEALEY",
         "United Kingdom",
         "Joint venture between Austin (BMC) and Donald Healey Motor Company (historic)"
        ],
        [
         "30",
         "AUSTIN MORRIS — United Kingdom — British Leyland / Rover Group (historic) — United Kingdom",
         "AUSTIN MORRIS",
         "United Kingdom",
         "British Leyland / Rover Group (historic)"
        ],
        [
         "31",
         "AVANTI — United States — Avanti Motor Corporation — United States",
         "AVANTI",
         "United States",
         "Avanti Motor Corporation"
        ],
        [
         "32",
         "AVELING BARFORD — United Kingdom — Aveling Barford Ltd. (construction equipment) — United Kingdom",
         "AVELING BARFORD",
         "United Kingdom",
         "Aveling Barford Ltd. (construction equipment)"
        ],
        [
         "33",
         "AVTOVAZ — Russia — AvtoVAZ (Lada brand, Renault Group stake historically) — Russia",
         "AVTOVAZ",
         "Russia",
         "AvtoVAZ (Lada brand, Renault Group stake historically)"
        ],
        [
         "34",
         "BAJAJ — India — Bajaj Auto Ltd. — India",
         "BAJAJ",
         "India",
         "Bajaj Auto Ltd."
        ],
        [
         "35",
         "BAROSSA — China — Chongqing Barossa Motorcycles Manufacturing Co. — China",
         "BAROSSA",
         "China",
         "Chongqing Barossa Motorcycles Manufacturing Co."
        ],
        [
         "36",
         "BASHAN — China — Chongqing Bashan Motorcycle Manufacturing Co. — China",
         "BASHAN",
         "China",
         "Chongqing Bashan Motorcycle Manufacturing Co."
        ],
        [
         "37",
         "BATTISTINIS — United Kingdom — Battistinis Custom Cycles — United Kingdom",
         "BATTISTINIS",
         "United Kingdom",
         "Battistinis Custom Cycles"
        ],
        [
         "38",
         "BEAUFORD — United Kingdom — Beauford Cars Ltd. — United Kingdom",
         "BEAUFORD",
         "United Kingdom",
         "Beauford Cars Ltd."
        ],
        [
         "39",
         "BEDFORD — United Kingdom — General Motors (Vauxhall subsidiary) — United States",
         "BEDFORD",
         "United States",
         "General Motors (Vauxhall subsidiary)"
        ],
        [
         "40",
         "BELARUS — Belarus — Minsk Tractor Works (MTZ) — Belarus",
         "BELARUS",
         "Belarus",
         "Minsk Tractor Works (MTZ)"
        ],
        [
         "41",
         "BENELLI — Italy — QJ Motor Co., Ltd. (China) — China/Italy",
         "BENELLI",
         "China/Italy",
         "QJ Motor Co., Ltd. (China)"
        ],
        [
         "42",
         "BENFORD — United Kingdom — Terex Corporation (Benford Ltd. historic) — United States",
         "BENFORD",
         "United States",
         "Terex Corporation (Benford Ltd. historic)"
        ],
        [
         "43",
         "BENTLEY — United Kingdom — Volkswagen AG — Germany",
         "BENTLEY",
         "Germany",
         "Volkswagen AG"
        ],
        [
         "44",
         "BENYE — China — Benye Tractor & Auto Works (Shanghai Automotive affiliated) — China",
         "BENYE",
         "China",
         "Benye Tractor & Auto Works (Shanghai Automotive affiliated)"
        ],
        [
         "45",
         "BETA — Italy — Beta Motor S.p.A. — Italy",
         "BETA",
         "Italy",
         "Beta Motor S.p.A."
        ],
        [
         "46",
         "BIMOTA — Italy — Bimota S.A. (Kawasaki Heavy Industries stake) — Japan",
         "BIMOTA",
         "Japan",
         "Bimota S.A. (Kawasaki Heavy Industries stake)"
        ],
        [
         "47",
         "BMC — United Kingdom — British Motor Corporation (historic) — United Kingdom",
         "BMC",
         "United Kingdom",
         "British Motor Corporation (historic)"
        ],
        [
         "48",
         "BMW — Germany — BMW AG — Germany",
         "BMW",
         "Germany",
         "BMW AG"
        ],
        [
         "49",
         "BOB CAT — United States — Bobcat Company (Doosan Group) — South Korea",
         "BOB CAT",
         "South Korea",
         "Bobcat Company (Doosan Group)"
        ]
       ],
       "shape": {
        "columns": 4,
        "rows": 467
       }
      },
      "text/html": [
       "<div>\n",
       "<style scoped>\n",
       "    .dataframe tbody tr th:only-of-type {\n",
       "        vertical-align: middle;\n",
       "    }\n",
       "\n",
       "    .dataframe tbody tr th {\n",
       "        vertical-align: top;\n",
       "    }\n",
       "\n",
       "    .dataframe thead th {\n",
       "        text-align: right;\n",
       "    }\n",
       "</style>\n",
       "<table border=\"1\" class=\"dataframe\">\n",
       "  <thead>\n",
       "    <tr style=\"text-align: right;\">\n",
       "      <th></th>\n",
       "      <th>raw</th>\n",
       "      <th>Make</th>\n",
       "      <th>Country</th>\n",
       "      <th>ParentCompany</th>\n",
       "    </tr>\n",
       "  </thead>\n",
       "  <tbody>\n",
       "    <tr>\n",
       "      <th>0</th>\n",
       "      <td>ABARTH — Italy — Stellantis N.V. — Netherlands</td>\n",
       "      <td>ABARTH</td>\n",
       "      <td>Netherlands</td>\n",
       "      <td>Stellantis N.V.</td>\n",
       "    </tr>\n",
       "    <tr>\n",
       "      <th>1</th>\n",
       "      <td>AC — United Kingdom — AC Cars Ltd — United Kin...</td>\n",
       "      <td>AC</td>\n",
       "      <td>United Kingdom</td>\n",
       "      <td>AC Cars Ltd</td>\n",
       "    </tr>\n",
       "    <tr>\n",
       "      <th>2</th>\n",
       "      <td>AC (ELECTRIC) — United Kingdom — AC Cars Ltd —...</td>\n",
       "      <td>AC (ELECTRIC)</td>\n",
       "      <td>United Kingdom</td>\n",
       "      <td>AC Cars Ltd</td>\n",
       "    </tr>\n",
       "    <tr>\n",
       "      <th>3</th>\n",
       "      <td>ACCESS — Japan — Access Motor Co., Ltd — Japan</td>\n",
       "      <td>ACCESS</td>\n",
       "      <td>Japan</td>\n",
       "      <td>Access Motor Co., Ltd</td>\n",
       "    </tr>\n",
       "    <tr>\n",
       "      <th>4</th>\n",
       "      <td>ACURA — Japan — Honda Motor Co., Ltd. — Japan</td>\n",
       "      <td>ACURA</td>\n",
       "      <td>Japan</td>\n",
       "      <td>Honda Motor Co., Ltd.</td>\n",
       "    </tr>\n",
       "    <tr>\n",
       "      <th>...</th>\n",
       "      <td>...</td>\n",
       "      <td>...</td>\n",
       "      <td>...</td>\n",
       "      <td>...</td>\n",
       "    </tr>\n",
       "    <tr>\n",
       "      <th>462</th>\n",
       "      <td>YUAN — China — BYD Auto (Yuan model range) — C...</td>\n",
       "      <td>YUAN</td>\n",
       "      <td>China</td>\n",
       "      <td>BYD Auto (Yuan model range)</td>\n",
       "    </tr>\n",
       "    <tr>\n",
       "      <th>463</th>\n",
       "      <td>ZASTAVA — Serbia — Zastava Automobiles (Fiat/S...</td>\n",
       "      <td>ZASTAVA</td>\n",
       "      <td>Serbia</td>\n",
       "      <td>Zastava Automobiles (Fiat/Serbian state heritage)</td>\n",
       "    </tr>\n",
       "    <tr>\n",
       "      <th>464</th>\n",
       "      <td>ZENOS — United Kingdom — Zenos Cars Ltd. — Uni...</td>\n",
       "      <td>ZENOS</td>\n",
       "      <td>United Kingdom</td>\n",
       "      <td>Zenos Cars Ltd.</td>\n",
       "    </tr>\n",
       "    <tr>\n",
       "      <th>465</th>\n",
       "      <td>ZETOR — Czech Republic — Zetor Tractors a.s. —...</td>\n",
       "      <td>ZETOR</td>\n",
       "      <td>Czech Republic</td>\n",
       "      <td>Zetor Tractors a.s.</td>\n",
       "    </tr>\n",
       "    <tr>\n",
       "      <th>466</th>\n",
       "      <td>ZHENHUA — China — Shanghai Zhenhua Heavy Indus...</td>\n",
       "      <td>ZHENHUA</td>\n",
       "      <td>China</td>\n",
       "      <td>Shanghai Zhenhua Heavy Industries Co., Ltd. (Z...</td>\n",
       "    </tr>\n",
       "  </tbody>\n",
       "</table>\n",
       "<p>467 rows × 4 columns</p>\n",
       "</div>"
      ],
      "text/plain": [
       "                                                   raw           Make  \\\n",
       "0       ABARTH — Italy — Stellantis N.V. — Netherlands         ABARTH   \n",
       "1    AC — United Kingdom — AC Cars Ltd — United Kin...             AC   \n",
       "2    AC (ELECTRIC) — United Kingdom — AC Cars Ltd —...  AC (ELECTRIC)   \n",
       "3       ACCESS — Japan — Access Motor Co., Ltd — Japan         ACCESS   \n",
       "4        ACURA — Japan — Honda Motor Co., Ltd. — Japan          ACURA   \n",
       "..                                                 ...            ...   \n",
       "462  YUAN — China — BYD Auto (Yuan model range) — C...           YUAN   \n",
       "463  ZASTAVA — Serbia — Zastava Automobiles (Fiat/S...        ZASTAVA   \n",
       "464  ZENOS — United Kingdom — Zenos Cars Ltd. — Uni...          ZENOS   \n",
       "465  ZETOR — Czech Republic — Zetor Tractors a.s. —...          ZETOR   \n",
       "466  ZHENHUA — China — Shanghai Zhenhua Heavy Indus...        ZHENHUA   \n",
       "\n",
       "            Country                                      ParentCompany  \n",
       "0       Netherlands                                    Stellantis N.V.  \n",
       "1    United Kingdom                                        AC Cars Ltd  \n",
       "2    United Kingdom                                        AC Cars Ltd  \n",
       "3             Japan                              Access Motor Co., Ltd  \n",
       "4             Japan                              Honda Motor Co., Ltd.  \n",
       "..              ...                                                ...  \n",
       "462           China                        BYD Auto (Yuan model range)  \n",
       "463          Serbia  Zastava Automobiles (Fiat/Serbian state heritage)  \n",
       "464  United Kingdom                                    Zenos Cars Ltd.  \n",
       "465  Czech Republic                                Zetor Tractors a.s.  \n",
       "466           China  Shanghai Zhenhua Heavy Industries Co., Ltd. (Z...  \n",
       "\n",
       "[467 rows x 4 columns]"
      ]
     },
     "execution_count": 27,
     "metadata": {},
     "output_type": "execute_result"
    }
   ],
   "source": [
    "df_brand"
   ]
  },
  {
   "cell_type": "code",
   "execution_count": 28,
   "id": "c4e2c701",
   "metadata": {},
   "outputs": [
    {
     "data": {
      "application/vnd.microsoft.datawrangler.viewer.v0+json": {
       "columns": [
        {
         "name": "index",
         "rawType": "int64",
         "type": "integer"
        },
        {
         "name": "Brand",
         "rawType": "object",
         "type": "string"
        },
        {
         "name": "Tickers",
         "rawType": "object",
         "type": "string"
        },
        {
         "name": "Ticker",
         "rawType": "object",
         "type": "string"
        },
        {
         "name": "Country",
         "rawType": "object",
         "type": "unknown"
        },
        {
         "name": "ParentCompany",
         "rawType": "object",
         "type": "unknown"
        }
       ],
       "ref": "d04c217d-cb6a-48ed-8a33-2365abc80d67",
       "rows": [
        [
         "0",
         "ABARTH",
         "STLA",
         "STLA",
         "Netherlands",
         "Stellantis N.V."
        ],
        [
         "1",
         "ALFA ROMEO",
         "STLA",
         "STLA",
         "Netherlands",
         "Stellantis N.V."
        ],
        [
         "2",
         "ASTON MARTIN",
         "AML.L",
         "AML.L",
         "United Kingdom",
         "Aston Martin Lagonda Global Holdings plc"
        ],
        [
         "3",
         "AUDI",
         "VOW3.DE",
         "VOW3.DE",
         "Germany",
         "Volkswagen AG"
        ],
        [
         "4",
         "BENTLEY",
         "VOW3.DE",
         "VOW3.DE",
         "Germany",
         "Volkswagen AG"
        ],
        [
         "5",
         "BMW",
         "BMW.DE",
         "BMW.DE",
         "Germany",
         "BMW AG"
        ],
        [
         "6",
         "BYD",
         "1211.HK",
         "1211.HK",
         "China",
         "BYD Auto Co., Ltd."
        ],
        [
         "7",
         "CADILLAC",
         "GM",
         "GM",
         "United States",
         "General Motors"
        ],
        [
         "8",
         "CATERPILLAR",
         "CAT",
         "CAT",
         "United States",
         "Caterpillar Inc."
        ],
        [
         "9",
         "CHEVROLET",
         "GM",
         "GM",
         "United States",
         "General Motors"
        ],
        [
         "10",
         "CITROEN",
         "STLA",
         "STLA",
         null,
         null
        ],
        [
         "11",
         "CUPRA",
         "VOW3.DE",
         "VOW3.DE",
         "Germany",
         "Volkswagen AG (SEAT S.A. subsidiary)"
        ],
        [
         "12",
         "DAF",
         "PCAR",
         "PCAR",
         "Netherlands",
         "DAF Trucks N.V. (Paccar Inc.)"
        ],
        [
         "13",
         "DAIMLER",
         "MBG.DE",
         "MBG.DE",
         "Germany",
         "Mercedes Benz Group AG"
        ],
        [
         "14",
         "DATSUN",
         "7201.T",
         "7201.T",
         "Japan",
         "Nissan Motor Co., Ltd."
        ],
        [
         "15",
         "DFSK",
         "0489.HK, 601127.SS",
         "0489.HK",
         "China",
         "Dongfeng Sokon Automobile Co., Ltd."
        ],
        [
         "16",
         "DFSK",
         "0489.HK, 601127.SS",
         "601127.SS",
         "China",
         "Dongfeng Sokon Automobile Co., Ltd."
        ],
        [
         "17",
         "DS",
         "STLA",
         "STLA",
         "Netherlands",
         "Stellantis N.V."
        ],
        [
         "18",
         "FERRARI",
         "RACE",
         "RACE",
         "Italy",
         "Ferrari N.V."
        ],
        [
         "19",
         "FIAT",
         "STLA",
         "STLA",
         "Netherlands",
         "Stellantis N.V."
        ]
       ],
       "shape": {
        "columns": 5,
        "rows": 20
       }
      },
      "text/html": [
       "<div>\n",
       "<style scoped>\n",
       "    .dataframe tbody tr th:only-of-type {\n",
       "        vertical-align: middle;\n",
       "    }\n",
       "\n",
       "    .dataframe tbody tr th {\n",
       "        vertical-align: top;\n",
       "    }\n",
       "\n",
       "    .dataframe thead th {\n",
       "        text-align: right;\n",
       "    }\n",
       "</style>\n",
       "<table border=\"1\" class=\"dataframe\">\n",
       "  <thead>\n",
       "    <tr style=\"text-align: right;\">\n",
       "      <th></th>\n",
       "      <th>Brand</th>\n",
       "      <th>Tickers</th>\n",
       "      <th>Ticker</th>\n",
       "      <th>Country</th>\n",
       "      <th>ParentCompany</th>\n",
       "    </tr>\n",
       "  </thead>\n",
       "  <tbody>\n",
       "    <tr>\n",
       "      <th>0</th>\n",
       "      <td>ABARTH</td>\n",
       "      <td>STLA</td>\n",
       "      <td>STLA</td>\n",
       "      <td>Netherlands</td>\n",
       "      <td>Stellantis N.V.</td>\n",
       "    </tr>\n",
       "    <tr>\n",
       "      <th>1</th>\n",
       "      <td>ALFA ROMEO</td>\n",
       "      <td>STLA</td>\n",
       "      <td>STLA</td>\n",
       "      <td>Netherlands</td>\n",
       "      <td>Stellantis N.V.</td>\n",
       "    </tr>\n",
       "    <tr>\n",
       "      <th>2</th>\n",
       "      <td>ASTON MARTIN</td>\n",
       "      <td>AML.L</td>\n",
       "      <td>AML.L</td>\n",
       "      <td>United Kingdom</td>\n",
       "      <td>Aston Martin Lagonda Global Holdings plc</td>\n",
       "    </tr>\n",
       "    <tr>\n",
       "      <th>3</th>\n",
       "      <td>AUDI</td>\n",
       "      <td>VOW3.DE</td>\n",
       "      <td>VOW3.DE</td>\n",
       "      <td>Germany</td>\n",
       "      <td>Volkswagen AG</td>\n",
       "    </tr>\n",
       "    <tr>\n",
       "      <th>4</th>\n",
       "      <td>BENTLEY</td>\n",
       "      <td>VOW3.DE</td>\n",
       "      <td>VOW3.DE</td>\n",
       "      <td>Germany</td>\n",
       "      <td>Volkswagen AG</td>\n",
       "    </tr>\n",
       "    <tr>\n",
       "      <th>5</th>\n",
       "      <td>BMW</td>\n",
       "      <td>BMW.DE</td>\n",
       "      <td>BMW.DE</td>\n",
       "      <td>Germany</td>\n",
       "      <td>BMW AG</td>\n",
       "    </tr>\n",
       "    <tr>\n",
       "      <th>6</th>\n",
       "      <td>BYD</td>\n",
       "      <td>1211.HK</td>\n",
       "      <td>1211.HK</td>\n",
       "      <td>China</td>\n",
       "      <td>BYD Auto Co., Ltd.</td>\n",
       "    </tr>\n",
       "    <tr>\n",
       "      <th>7</th>\n",
       "      <td>CADILLAC</td>\n",
       "      <td>GM</td>\n",
       "      <td>GM</td>\n",
       "      <td>United States</td>\n",
       "      <td>General Motors</td>\n",
       "    </tr>\n",
       "    <tr>\n",
       "      <th>8</th>\n",
       "      <td>CATERPILLAR</td>\n",
       "      <td>CAT</td>\n",
       "      <td>CAT</td>\n",
       "      <td>United States</td>\n",
       "      <td>Caterpillar Inc.</td>\n",
       "    </tr>\n",
       "    <tr>\n",
       "      <th>9</th>\n",
       "      <td>CHEVROLET</td>\n",
       "      <td>GM</td>\n",
       "      <td>GM</td>\n",
       "      <td>United States</td>\n",
       "      <td>General Motors</td>\n",
       "    </tr>\n",
       "    <tr>\n",
       "      <th>10</th>\n",
       "      <td>CITROEN</td>\n",
       "      <td>STLA</td>\n",
       "      <td>STLA</td>\n",
       "      <td>NaN</td>\n",
       "      <td>NaN</td>\n",
       "    </tr>\n",
       "    <tr>\n",
       "      <th>11</th>\n",
       "      <td>CUPRA</td>\n",
       "      <td>VOW3.DE</td>\n",
       "      <td>VOW3.DE</td>\n",
       "      <td>Germany</td>\n",
       "      <td>Volkswagen AG (SEAT S.A. subsidiary)</td>\n",
       "    </tr>\n",
       "    <tr>\n",
       "      <th>12</th>\n",
       "      <td>DAF</td>\n",
       "      <td>PCAR</td>\n",
       "      <td>PCAR</td>\n",
       "      <td>Netherlands</td>\n",
       "      <td>DAF Trucks N.V. (Paccar Inc.)</td>\n",
       "    </tr>\n",
       "    <tr>\n",
       "      <th>13</th>\n",
       "      <td>DAIMLER</td>\n",
       "      <td>MBG.DE</td>\n",
       "      <td>MBG.DE</td>\n",
       "      <td>Germany</td>\n",
       "      <td>Mercedes Benz Group AG</td>\n",
       "    </tr>\n",
       "    <tr>\n",
       "      <th>14</th>\n",
       "      <td>DATSUN</td>\n",
       "      <td>7201.T</td>\n",
       "      <td>7201.T</td>\n",
       "      <td>Japan</td>\n",
       "      <td>Nissan Motor Co., Ltd.</td>\n",
       "    </tr>\n",
       "    <tr>\n",
       "      <th>15</th>\n",
       "      <td>DFSK</td>\n",
       "      <td>0489.HK, 601127.SS</td>\n",
       "      <td>0489.HK</td>\n",
       "      <td>China</td>\n",
       "      <td>Dongfeng Sokon Automobile Co., Ltd.</td>\n",
       "    </tr>\n",
       "    <tr>\n",
       "      <th>16</th>\n",
       "      <td>DFSK</td>\n",
       "      <td>0489.HK, 601127.SS</td>\n",
       "      <td>601127.SS</td>\n",
       "      <td>China</td>\n",
       "      <td>Dongfeng Sokon Automobile Co., Ltd.</td>\n",
       "    </tr>\n",
       "    <tr>\n",
       "      <th>17</th>\n",
       "      <td>DS</td>\n",
       "      <td>STLA</td>\n",
       "      <td>STLA</td>\n",
       "      <td>Netherlands</td>\n",
       "      <td>Stellantis N.V.</td>\n",
       "    </tr>\n",
       "    <tr>\n",
       "      <th>18</th>\n",
       "      <td>FERRARI</td>\n",
       "      <td>RACE</td>\n",
       "      <td>RACE</td>\n",
       "      <td>Italy</td>\n",
       "      <td>Ferrari N.V.</td>\n",
       "    </tr>\n",
       "    <tr>\n",
       "      <th>19</th>\n",
       "      <td>FIAT</td>\n",
       "      <td>STLA</td>\n",
       "      <td>STLA</td>\n",
       "      <td>Netherlands</td>\n",
       "      <td>Stellantis N.V.</td>\n",
       "    </tr>\n",
       "  </tbody>\n",
       "</table>\n",
       "</div>"
      ],
      "text/plain": [
       "           Brand             Tickers     Ticker         Country  \\\n",
       "0         ABARTH                STLA       STLA     Netherlands   \n",
       "1     ALFA ROMEO                STLA       STLA     Netherlands   \n",
       "2   ASTON MARTIN               AML.L      AML.L  United Kingdom   \n",
       "3           AUDI             VOW3.DE    VOW3.DE         Germany   \n",
       "4        BENTLEY             VOW3.DE    VOW3.DE         Germany   \n",
       "5            BMW              BMW.DE     BMW.DE         Germany   \n",
       "6            BYD             1211.HK    1211.HK           China   \n",
       "7       CADILLAC                  GM         GM   United States   \n",
       "8    CATERPILLAR                 CAT        CAT   United States   \n",
       "9      CHEVROLET                  GM         GM   United States   \n",
       "10       CITROEN                STLA       STLA             NaN   \n",
       "11         CUPRA             VOW3.DE    VOW3.DE         Germany   \n",
       "12           DAF                PCAR       PCAR     Netherlands   \n",
       "13       DAIMLER              MBG.DE     MBG.DE         Germany   \n",
       "14        DATSUN              7201.T     7201.T           Japan   \n",
       "15          DFSK  0489.HK, 601127.SS    0489.HK           China   \n",
       "16          DFSK  0489.HK, 601127.SS  601127.SS           China   \n",
       "17            DS                STLA       STLA     Netherlands   \n",
       "18       FERRARI                RACE       RACE           Italy   \n",
       "19          FIAT                STLA       STLA     Netherlands   \n",
       "\n",
       "                               ParentCompany  \n",
       "0                            Stellantis N.V.  \n",
       "1                            Stellantis N.V.  \n",
       "2   Aston Martin Lagonda Global Holdings plc  \n",
       "3                              Volkswagen AG  \n",
       "4                              Volkswagen AG  \n",
       "5                                     BMW AG  \n",
       "6                         BYD Auto Co., Ltd.  \n",
       "7                             General Motors  \n",
       "8                           Caterpillar Inc.  \n",
       "9                             General Motors  \n",
       "10                                       NaN  \n",
       "11      Volkswagen AG (SEAT S.A. subsidiary)  \n",
       "12             DAF Trucks N.V. (Paccar Inc.)  \n",
       "13                    Mercedes Benz Group AG  \n",
       "14                    Nissan Motor Co., Ltd.  \n",
       "15       Dongfeng Sokon Automobile Co., Ltd.  \n",
       "16       Dongfeng Sokon Automobile Co., Ltd.  \n",
       "17                           Stellantis N.V.  \n",
       "18                              Ferrari N.V.  \n",
       "19                           Stellantis N.V.  "
      ]
     },
     "execution_count": 28,
     "metadata": {},
     "output_type": "execute_result"
    }
   ],
   "source": [
    "def get_tickers(brands, mapping=brand_to_tickers):\n",
    "    rows = []\n",
    "    for b in brands:\n",
    "        key = b.strip().upper()\n",
    "        tickers = mapping.get(key, [])\n",
    "        rows.append({\"Brand\": b, \"Tickers\": \", \".join(tickers) if tickers else \"\"})\n",
    "    return pd.DataFrame(rows)\n",
    "\n",
    "brands = [\n",
    "    'ABARTH', 'AIXAM', 'ALBION', 'ALFA ROMEO', 'ARIEL', 'ASTON MARTIN',\n",
    "    'AUDI', 'AUSTIN', 'AUSTIN HEALEY', 'AUSTIN MORRIS', 'BENTLEY',\n",
    "    'BMW', 'BYD', 'CADILLAC', 'CATERPILLAR', 'CHARGE', 'CHEVROLET',\n",
    "    'CITROEN', 'CLARK', 'COLEMAN MILNE', 'COVENTRY CLIMAX', 'CUPRA',\n",
    "    'DACIA', 'DAEWOO', 'DAF', 'DAIMLER', 'DATSUN', 'DFSK', 'DS',\n",
    "    'ELECTRICARS', 'EOS', 'EVT', 'FERRARI', 'FIAT', 'FISKER', 'FORD',\n",
    "    'GENESIS', 'GINETTA', 'GREAT WALL', 'GWM', 'HARBILT ELECTRIC',\n",
    "    'HILLMAN', 'HONDA', 'HUMMER', 'HYSTER', 'HYUNDAI', 'INFINITI',\n",
    "    'INVACAR', 'JAGUAR', 'JEEP', 'JENSEN', 'JONWAY', 'KGM', 'KIA',\n",
    "    'KOMATSU', 'KYMCO', 'LAND ROVER', 'LANSING LINDE', 'LEAPMOTOR',\n",
    "    'LEXUS', 'LIGIER', 'LONDON TAXIS INT.', 'LOTUS', 'MAHINDRA',\n",
    "    'MASERATI', 'MAXUS', 'MAZDA', 'MCC', 'MERCEDES', 'MERCEDES-BENZ',\n",
    "    'MG', 'MIA', 'MINI', 'MITSUBISHI', 'MITSUBISHI FUSO',\n",
    "    'MOKE AUTOMIBILI', 'MORGAN', 'MORRIS', 'NISSAN', 'OMODA', 'OPEL',\n",
    "    'ORA', 'OTHER AGRIC/CONSTRUCTIONAL', 'OTHER BRITISH',\n",
    "    'OTHER COUNTRIES', 'OTHER ELECTRIC', 'OTHER GERMAN',\n",
    "    'OTHER ITALIAN', 'OTHER US/AUST/CAN', 'PERODUA', 'PEUGEOT',\n",
    "    'PIONEER', 'POLESTAR', 'PORSCHE', 'PROTON', 'RELIANT', 'RENAULT',\n",
    "    'RENAULT TRUCKS', 'REVA', 'ROLLS ROYCE', 'ROVER', 'ROYAL ENFIELD',\n",
    "    'SEAT', 'SECMA', 'SKODA', 'SKYWELL', 'SMART', 'SMITHS',\n",
    "    'SSANGYONG', 'SUBARU', 'SUZUKI', 'TATA', 'TESLA', 'THINK',\n",
    "    'THINK GLOBAL', 'TIANJIN', 'TOYOTA', 'TRIUMPH', 'TVR', 'VAUXHALL',\n",
    "    'VOLKSWAGEN', 'VOLVO', 'W+E', 'WESTFIELD', 'XPENG', 'YALE',\n",
    "    'YAMAHA'\n",
    "]\n",
    "\n",
    "# 1) Build and clean ticker table from brands + mapping\n",
    "ticker_df = (\n",
    "    pd.DataFrame(\n",
    "        [{\"Brand\": b, \"Tickers\": \", \".join(brand_to_tickers.get(b.upper().strip(), []))}\n",
    "         for b in brands]\n",
    "    )\n",
    "    .assign(Brand=lambda d: d[\"Brand\"].str.upper().str.strip())\n",
    "    .loc[lambda d: d[\"Tickers\"].fillna(\"\").str.strip() != \"\"]\n",
    ")\n",
    "\n",
    "# 2) Explode tickers, attach country info from df_brand, and dedupe\n",
    "ticker_meta = (\n",
    "    ticker_df.assign(Ticker=ticker_df[\"Tickers\"].str.split(\",\"))\n",
    "             .explode(\"Ticker\")\n",
    "             .assign(Ticker=lambda d: d[\"Ticker\"].str.strip())\n",
    "             .loc[lambda d: d[\"Ticker\"] != \"\"]\n",
    "             .merge(\n",
    "                 df_brand.assign(Make=df_brand[\"Make\"].str.upper().str.strip())[\n",
    "                     [\"Make\", \"Country\", \"ParentCompany\"]\n",
    "                 ],\n",
    "                 left_on=\"Brand\", right_on=\"Make\", how=\"left\"\n",
    "             )\n",
    "             .drop(columns=\"Make\")\n",
    "             .drop_duplicates(subset=[\"Brand\", \"Ticker\"])\n",
    "             .reset_index(drop=True)\n",
    ")\n",
    "\n",
    "# Optional: keep only tickers present in your returns matrix\n",
    "# ticker_meta = ticker_meta[ticker_meta[\"Ticker\"].isin(rets_m.columns)].reset_index(drop=True)\n",
    "\n",
    "ticker_meta.head(20)\n"
   ]
  },
  {
   "cell_type": "code",
   "execution_count": 29,
   "id": "1f1c7758",
   "metadata": {},
   "outputs": [
    {
     "name": "stderr",
     "output_type": "stream",
     "text": [
      "\n",
      "1 Failed download:\n",
      "['FSR']: YFTzMissingError('possibly delisted; no timezone found')\n",
      "/var/folders/7x/pd53f7tx0jl5lyy8g87z1qqw0000gn/T/ipykernel_3314/2796538902.py:37: FutureWarning:\n",
      "\n",
      "'M' is deprecated and will be removed in a future version, please use 'ME' instead.\n",
      "\n",
      "/var/folders/7x/pd53f7tx0jl5lyy8g87z1qqw0000gn/T/ipykernel_3314/2796538902.py:37: FutureWarning:\n",
      "\n",
      "The default fill_method='pad' in DataFrame.pct_change is deprecated and will be removed in a future version. Either fill in any non-leading NA values prior to calling pct_change or specify 'fill_method=None' to not fill NA values.\n",
      "\n"
     ]
    },
    {
     "data": {
      "application/vnd.plotly.v1+json": {
       "config": {
        "plotlyServerURL": "https://plot.ly"
       },
       "data": [
        {
         "hovertemplate": "Volatility=%{x}<br>Return=%{y}<extra></extra>",
         "legendgroup": "",
         "marker": {
          "color": "#636efa",
          "symbol": "circle"
         },
         "mode": "lines+markers",
         "name": "",
         "orientation": "v",
         "showlegend": false,
         "type": "scatter",
         "x": {
          "bdata": "XwNGaRqHyz+VgdplF2/KP0e3Dfl7Wsk/asj+crxJyD/6NtKuYD3HP6Lx4cMHNsY/Jd8LG340xT9inEwEeznEPySEB48SRsM/DI6NPHNbwj8b8oHa/nrBP403/apQpsA/DlnGGoS+vz9WrrP310++PwcCEFx4Bb0/N2nrSK7kuz/6OJ4ou/G6P74drs7bMbo/f1vSRtipuT8tOX2ZNV25P1FknLDPTbk/waAKzIt8uT+BaSs55Oe5PysfEbS5jLo/grfJc3tnuz/HwZpnEXO8P7NZynzBqb0/acT5Gz8Hvz9Dth1+SkPAP3fOgsOTEcE/EnY0k4LswT8zqihbSNLCP149AXuRwcM/lgj89wK5xD9P7gH9hbfFP1owPystvMY/ksYoiS7Gxz/MVwMZ3tTIP5PUoiWp58k/SDFIQBL+yj8=",
          "dtype": "f8"
         },
         "xaxis": "x",
         "y": {
          "bdata": "4C1aYKmc2L8vs73qIdfWv9fZGXWaEdW/nel4/xJM07/QKtiJi4bRv9j5cygIgs+/bPYtPfn2y79yZOdR6mvIvx+tqmbb4MS/ioZke8xVwb/7bkIge5W7vxOawUldf7S/LQ505n7Sqr+0BNZyhkyZv0CO6TmHX2g/gnFQQWhknz/gQbHNb96tP7MOXr1VBbY/HuTjk3MbvT/9VzS1yBjCP1Ohd6DXo8U/6Fm5i+YuyT+xVPh29bnMP0gLHzGCItA/a/3Apgno0T+O2WAcka3TP45XAZIYc9U/Ja+lB6A41z8MG0V9J/7YP/Pd5vKuw9o/o9aHaDaJ3D9UzCjevU7eP/VI5akiCuA/YZy2ZObs4D+nyYYfqs/hP8alVtptsuI/5qcmlTGV4z+so/pP9XfkP+7Rygq5WuU/1ZKaxXw95j8=",
          "dtype": "f8"
         },
         "yaxis": "y"
        },
        {
         "marker": {
          "size": 10
         },
         "mode": "markers",
         "name": "Min-Var",
         "type": "scatter",
         "x": [
          0.09881442826427529
         ],
         "y": [
          0.1624661761524635
         ]
        },
        {
         "marker": {
          "size": 10
         },
         "mode": "markers",
         "name": "Tangent (Sharpe=3.04)",
         "type": "scatter",
         "x": [
          0.2911283015364933
         ],
         "y": [
          0.9455433871543191
         ]
        },
        {
         "line": {
          "dash": "dash"
         },
         "mode": "lines",
         "name": "CML",
         "type": "scatter",
         "x": {
          "bdata": "AAAAAAAAAAB5iY3cAMV6P3mJjdwAxYo/GydqpcATlD95iY3cAMWaP+x12Ikgu6A/GydqpcATpD9K2PvAYGynP3mJjdwAxao/qDof+KAdrj/sddiJILuwP4NOoZdwZ7I/GydqpcATtD+y/zKzEMC1P0rY+8BgbLc/4bDEzrAYuT95iY3cAMW6PxFiVupQcbw/qDof+KAdvj9AE+gF8cm/P+x12Ikgu8A/N+K8kEiRwT+DTqGXcGfCP8+6hZ6YPcM/GydqpcATxD9nk06s6OnEP7L/MrMQwMU//msXujiWxj9K2PvAYGzHP5ZE4MeIQsg/4bDEzrAYyT8tHanV2O7JP3mJjdwAxco/xfVx4yibyz8RYlbqUHHMP1zOOvF4R80/qDof+KAdzj/0pgP/yPPOP0AT6AXxyc8/xj9mhgxQ0D/sddiJILvQPxKsSo00JtE/N+K8kEiR0T9dGC+UXPzRP4NOoZdwZ9I/qYQTm4TS0j/PuoWemD3TP/Xw96GsqNM/GydqpcAT1D9BXdyo1H7UPw==",
          "dtype": "f8"
         },
         "y": {
          "bdata": "uB6F61G4rj+7QDlj/HK0Pxryr9DPibk/eKMmPqOgvj9sqs5Vu9vBPxsDigwlZ8Q/yltFw47yxj96tAB6+H3JPykNvDBiCcw/2GV358uUzj9EXxnPGpDQP5wLd6rP1dE/9LfUhYQb0z9LZDJhOWHUP6MQkDzuptU/+rztF6Ps1j9SaUvzVzLYP6oVqc4MeNk/AcIGqsG92j9ZbmSFdgPcP7EawmArSd0/CMcfPOCO3j9gc30XldTfP9yPbfkkjeA/CGYcZ/8v4T80PMvU2dLhP2ASekK0deI/jOgosI4Y4z+4vtcdabvjP+SUhotDXuQ/Dms1+R0B5T86QeRm+KPlP2YXk9TSRuY/ku1BQq3p5j++w/Cvh4znP+qZnx1iL+g/FnBOizzS6D9CRv34FnXpP24crGbxF+o/mvJa1Mu66j/GyAlCpl3rP/KeuK+AAOw/HHVnHVuj7D9ISxaLNUbtP3QhxfgP6e0/oPdzZuqL7j/MzSLUxC7vP/ij0UGf0e8/Ej3A1zw68D8oqJcOqovwPw==",
          "dtype": "f8"
         }
        }
       ],
       "layout": {
        "legend": {
         "tracegroupgap": 0
        },
        "template": {
         "data": {
          "bar": [
           {
            "error_x": {
             "color": "#2a3f5f"
            },
            "error_y": {
             "color": "#2a3f5f"
            },
            "marker": {
             "line": {
              "color": "white",
              "width": 0.5
             },
             "pattern": {
              "fillmode": "overlay",
              "size": 10,
              "solidity": 0.2
             }
            },
            "type": "bar"
           }
          ],
          "barpolar": [
           {
            "marker": {
             "line": {
              "color": "white",
              "width": 0.5
             },
             "pattern": {
              "fillmode": "overlay",
              "size": 10,
              "solidity": 0.2
             }
            },
            "type": "barpolar"
           }
          ],
          "carpet": [
           {
            "aaxis": {
             "endlinecolor": "#2a3f5f",
             "gridcolor": "#C8D4E3",
             "linecolor": "#C8D4E3",
             "minorgridcolor": "#C8D4E3",
             "startlinecolor": "#2a3f5f"
            },
            "baxis": {
             "endlinecolor": "#2a3f5f",
             "gridcolor": "#C8D4E3",
             "linecolor": "#C8D4E3",
             "minorgridcolor": "#C8D4E3",
             "startlinecolor": "#2a3f5f"
            },
            "type": "carpet"
           }
          ],
          "choropleth": [
           {
            "colorbar": {
             "outlinewidth": 0,
             "ticks": ""
            },
            "type": "choropleth"
           }
          ],
          "contour": [
           {
            "colorbar": {
             "outlinewidth": 0,
             "ticks": ""
            },
            "colorscale": [
             [
              0,
              "#0d0887"
             ],
             [
              0.1111111111111111,
              "#46039f"
             ],
             [
              0.2222222222222222,
              "#7201a8"
             ],
             [
              0.3333333333333333,
              "#9c179e"
             ],
             [
              0.4444444444444444,
              "#bd3786"
             ],
             [
              0.5555555555555556,
              "#d8576b"
             ],
             [
              0.6666666666666666,
              "#ed7953"
             ],
             [
              0.7777777777777778,
              "#fb9f3a"
             ],
             [
              0.8888888888888888,
              "#fdca26"
             ],
             [
              1,
              "#f0f921"
             ]
            ],
            "type": "contour"
           }
          ],
          "contourcarpet": [
           {
            "colorbar": {
             "outlinewidth": 0,
             "ticks": ""
            },
            "type": "contourcarpet"
           }
          ],
          "heatmap": [
           {
            "colorbar": {
             "outlinewidth": 0,
             "ticks": ""
            },
            "colorscale": [
             [
              0,
              "#0d0887"
             ],
             [
              0.1111111111111111,
              "#46039f"
             ],
             [
              0.2222222222222222,
              "#7201a8"
             ],
             [
              0.3333333333333333,
              "#9c179e"
             ],
             [
              0.4444444444444444,
              "#bd3786"
             ],
             [
              0.5555555555555556,
              "#d8576b"
             ],
             [
              0.6666666666666666,
              "#ed7953"
             ],
             [
              0.7777777777777778,
              "#fb9f3a"
             ],
             [
              0.8888888888888888,
              "#fdca26"
             ],
             [
              1,
              "#f0f921"
             ]
            ],
            "type": "heatmap"
           }
          ],
          "histogram": [
           {
            "marker": {
             "pattern": {
              "fillmode": "overlay",
              "size": 10,
              "solidity": 0.2
             }
            },
            "type": "histogram"
           }
          ],
          "histogram2d": [
           {
            "colorbar": {
             "outlinewidth": 0,
             "ticks": ""
            },
            "colorscale": [
             [
              0,
              "#0d0887"
             ],
             [
              0.1111111111111111,
              "#46039f"
             ],
             [
              0.2222222222222222,
              "#7201a8"
             ],
             [
              0.3333333333333333,
              "#9c179e"
             ],
             [
              0.4444444444444444,
              "#bd3786"
             ],
             [
              0.5555555555555556,
              "#d8576b"
             ],
             [
              0.6666666666666666,
              "#ed7953"
             ],
             [
              0.7777777777777778,
              "#fb9f3a"
             ],
             [
              0.8888888888888888,
              "#fdca26"
             ],
             [
              1,
              "#f0f921"
             ]
            ],
            "type": "histogram2d"
           }
          ],
          "histogram2dcontour": [
           {
            "colorbar": {
             "outlinewidth": 0,
             "ticks": ""
            },
            "colorscale": [
             [
              0,
              "#0d0887"
             ],
             [
              0.1111111111111111,
              "#46039f"
             ],
             [
              0.2222222222222222,
              "#7201a8"
             ],
             [
              0.3333333333333333,
              "#9c179e"
             ],
             [
              0.4444444444444444,
              "#bd3786"
             ],
             [
              0.5555555555555556,
              "#d8576b"
             ],
             [
              0.6666666666666666,
              "#ed7953"
             ],
             [
              0.7777777777777778,
              "#fb9f3a"
             ],
             [
              0.8888888888888888,
              "#fdca26"
             ],
             [
              1,
              "#f0f921"
             ]
            ],
            "type": "histogram2dcontour"
           }
          ],
          "mesh3d": [
           {
            "colorbar": {
             "outlinewidth": 0,
             "ticks": ""
            },
            "type": "mesh3d"
           }
          ],
          "parcoords": [
           {
            "line": {
             "colorbar": {
              "outlinewidth": 0,
              "ticks": ""
             }
            },
            "type": "parcoords"
           }
          ],
          "pie": [
           {
            "automargin": true,
            "type": "pie"
           }
          ],
          "scatter": [
           {
            "fillpattern": {
             "fillmode": "overlay",
             "size": 10,
             "solidity": 0.2
            },
            "type": "scatter"
           }
          ],
          "scatter3d": [
           {
            "line": {
             "colorbar": {
              "outlinewidth": 0,
              "ticks": ""
             }
            },
            "marker": {
             "colorbar": {
              "outlinewidth": 0,
              "ticks": ""
             }
            },
            "type": "scatter3d"
           }
          ],
          "scattercarpet": [
           {
            "marker": {
             "colorbar": {
              "outlinewidth": 0,
              "ticks": ""
             }
            },
            "type": "scattercarpet"
           }
          ],
          "scattergeo": [
           {
            "marker": {
             "colorbar": {
              "outlinewidth": 0,
              "ticks": ""
             }
            },
            "type": "scattergeo"
           }
          ],
          "scattergl": [
           {
            "marker": {
             "colorbar": {
              "outlinewidth": 0,
              "ticks": ""
             }
            },
            "type": "scattergl"
           }
          ],
          "scattermap": [
           {
            "marker": {
             "colorbar": {
              "outlinewidth": 0,
              "ticks": ""
             }
            },
            "type": "scattermap"
           }
          ],
          "scattermapbox": [
           {
            "marker": {
             "colorbar": {
              "outlinewidth": 0,
              "ticks": ""
             }
            },
            "type": "scattermapbox"
           }
          ],
          "scatterpolar": [
           {
            "marker": {
             "colorbar": {
              "outlinewidth": 0,
              "ticks": ""
             }
            },
            "type": "scatterpolar"
           }
          ],
          "scatterpolargl": [
           {
            "marker": {
             "colorbar": {
              "outlinewidth": 0,
              "ticks": ""
             }
            },
            "type": "scatterpolargl"
           }
          ],
          "scatterternary": [
           {
            "marker": {
             "colorbar": {
              "outlinewidth": 0,
              "ticks": ""
             }
            },
            "type": "scatterternary"
           }
          ],
          "surface": [
           {
            "colorbar": {
             "outlinewidth": 0,
             "ticks": ""
            },
            "colorscale": [
             [
              0,
              "#0d0887"
             ],
             [
              0.1111111111111111,
              "#46039f"
             ],
             [
              0.2222222222222222,
              "#7201a8"
             ],
             [
              0.3333333333333333,
              "#9c179e"
             ],
             [
              0.4444444444444444,
              "#bd3786"
             ],
             [
              0.5555555555555556,
              "#d8576b"
             ],
             [
              0.6666666666666666,
              "#ed7953"
             ],
             [
              0.7777777777777778,
              "#fb9f3a"
             ],
             [
              0.8888888888888888,
              "#fdca26"
             ],
             [
              1,
              "#f0f921"
             ]
            ],
            "type": "surface"
           }
          ],
          "table": [
           {
            "cells": {
             "fill": {
              "color": "#EBF0F8"
             },
             "line": {
              "color": "white"
             }
            },
            "header": {
             "fill": {
              "color": "#C8D4E3"
             },
             "line": {
              "color": "white"
             }
            },
            "type": "table"
           }
          ]
         },
         "layout": {
          "annotationdefaults": {
           "arrowcolor": "#2a3f5f",
           "arrowhead": 0,
           "arrowwidth": 1
          },
          "autotypenumbers": "strict",
          "coloraxis": {
           "colorbar": {
            "outlinewidth": 0,
            "ticks": ""
           }
          },
          "colorscale": {
           "diverging": [
            [
             0,
             "#8e0152"
            ],
            [
             0.1,
             "#c51b7d"
            ],
            [
             0.2,
             "#de77ae"
            ],
            [
             0.3,
             "#f1b6da"
            ],
            [
             0.4,
             "#fde0ef"
            ],
            [
             0.5,
             "#f7f7f7"
            ],
            [
             0.6,
             "#e6f5d0"
            ],
            [
             0.7,
             "#b8e186"
            ],
            [
             0.8,
             "#7fbc41"
            ],
            [
             0.9,
             "#4d9221"
            ],
            [
             1,
             "#276419"
            ]
           ],
           "sequential": [
            [
             0,
             "#0d0887"
            ],
            [
             0.1111111111111111,
             "#46039f"
            ],
            [
             0.2222222222222222,
             "#7201a8"
            ],
            [
             0.3333333333333333,
             "#9c179e"
            ],
            [
             0.4444444444444444,
             "#bd3786"
            ],
            [
             0.5555555555555556,
             "#d8576b"
            ],
            [
             0.6666666666666666,
             "#ed7953"
            ],
            [
             0.7777777777777778,
             "#fb9f3a"
            ],
            [
             0.8888888888888888,
             "#fdca26"
            ],
            [
             1,
             "#f0f921"
            ]
           ],
           "sequentialminus": [
            [
             0,
             "#0d0887"
            ],
            [
             0.1111111111111111,
             "#46039f"
            ],
            [
             0.2222222222222222,
             "#7201a8"
            ],
            [
             0.3333333333333333,
             "#9c179e"
            ],
            [
             0.4444444444444444,
             "#bd3786"
            ],
            [
             0.5555555555555556,
             "#d8576b"
            ],
            [
             0.6666666666666666,
             "#ed7953"
            ],
            [
             0.7777777777777778,
             "#fb9f3a"
            ],
            [
             0.8888888888888888,
             "#fdca26"
            ],
            [
             1,
             "#f0f921"
            ]
           ]
          },
          "colorway": [
           "#636efa",
           "#EF553B",
           "#00cc96",
           "#ab63fa",
           "#FFA15A",
           "#19d3f3",
           "#FF6692",
           "#B6E880",
           "#FF97FF",
           "#FECB52"
          ],
          "font": {
           "color": "#2a3f5f"
          },
          "geo": {
           "bgcolor": "white",
           "lakecolor": "white",
           "landcolor": "white",
           "showlakes": true,
           "showland": true,
           "subunitcolor": "#C8D4E3"
          },
          "hoverlabel": {
           "align": "left"
          },
          "hovermode": "closest",
          "mapbox": {
           "style": "light"
          },
          "paper_bgcolor": "white",
          "plot_bgcolor": "white",
          "polar": {
           "angularaxis": {
            "gridcolor": "#EBF0F8",
            "linecolor": "#EBF0F8",
            "ticks": ""
           },
           "bgcolor": "white",
           "radialaxis": {
            "gridcolor": "#EBF0F8",
            "linecolor": "#EBF0F8",
            "ticks": ""
           }
          },
          "scene": {
           "xaxis": {
            "backgroundcolor": "white",
            "gridcolor": "#DFE8F3",
            "gridwidth": 2,
            "linecolor": "#EBF0F8",
            "showbackground": true,
            "ticks": "",
            "zerolinecolor": "#EBF0F8"
           },
           "yaxis": {
            "backgroundcolor": "white",
            "gridcolor": "#DFE8F3",
            "gridwidth": 2,
            "linecolor": "#EBF0F8",
            "showbackground": true,
            "ticks": "",
            "zerolinecolor": "#EBF0F8"
           },
           "zaxis": {
            "backgroundcolor": "white",
            "gridcolor": "#DFE8F3",
            "gridwidth": 2,
            "linecolor": "#EBF0F8",
            "showbackground": true,
            "ticks": "",
            "zerolinecolor": "#EBF0F8"
           }
          },
          "shapedefaults": {
           "line": {
            "color": "#2a3f5f"
           }
          },
          "ternary": {
           "aaxis": {
            "gridcolor": "#DFE8F3",
            "linecolor": "#A2B1C6",
            "ticks": ""
           },
           "baxis": {
            "gridcolor": "#DFE8F3",
            "linecolor": "#A2B1C6",
            "ticks": ""
           },
           "bgcolor": "white",
           "caxis": {
            "gridcolor": "#DFE8F3",
            "linecolor": "#A2B1C6",
            "ticks": ""
           }
          },
          "title": {
           "x": 0.05
          },
          "xaxis": {
           "automargin": true,
           "gridcolor": "#EBF0F8",
           "linecolor": "#EBF0F8",
           "ticks": "",
           "title": {
            "standoff": 15
           },
           "zerolinecolor": "#EBF0F8",
           "zerolinewidth": 2
          },
          "yaxis": {
           "automargin": true,
           "gridcolor": "#EBF0F8",
           "linecolor": "#EBF0F8",
           "ticks": "",
           "title": {
            "standoff": 15
           },
           "zerolinecolor": "#EBF0F8",
           "zerolinewidth": 2
          }
         }
        },
        "title": {
         "text": "Efficient Frontier (Annualized)"
        },
        "xaxis": {
         "anchor": "y",
         "domain": [
          0,
          1
         ],
         "title": {
          "text": "Volatility (σ, annualized)"
         }
        },
        "yaxis": {
         "anchor": "x",
         "domain": [
          0,
          1
         ],
         "title": {
          "text": "Return (μ, annualized)"
         }
        }
       }
      }
     },
     "metadata": {},
     "output_type": "display_data"
    },
    {
     "name": "stdout",
     "output_type": "stream",
     "text": [
      "Min-Variance portfolio:\n",
      "          Ticker           Brand    Weight\n",
      "0   EICHERMOT.NS   ROYAL ENFIELD  0.252525\n",
      "1           RACE         FERRARI  0.240063\n",
      "2      600104.SS           MAXUS  0.224255\n",
      "3           PCAR             DAF  0.199772\n",
      "4        VOW3.DE            AUDI  0.182995\n",
      "5         7267.T           HONDA  0.169206\n",
      "6        1211.HK             BYD  0.154977\n",
      "7         7211.T      MITSUBISHI  0.142839\n",
      "8         7270.T          SUBARU  0.109165\n",
      "9      VOLV-B.ST  RENAULT TRUCKS  0.100357\n",
      "10        MBG.DE         DAIMLER  0.090372\n",
      "11     005380.KS         GENESIS  0.069180\n",
      "12           CAT     CATERPILLAR  0.065166\n",
      "13            HY          HYSTER  0.038243\n",
      "14       0489.HK            DFSK  0.014932\n",
      "15        7272.T          YAMAHA  0.013536\n",
      "16        7203.T           LEXUS  0.011811\n",
      "17     003620.KS             KGM  0.003197\n",
      "18         AML.L    ASTON MARTIN  0.002731\n",
      "19        M&M.NS        MAHINDRA  0.002537\n",
      "\n",
      "Tangency (max Sharpe) portfolio:\n",
      "           Ticker           Brand    Weight\n",
      "0       000270.KS             KIA  0.717383\n",
      "1          7267.T           HONDA  0.673742\n",
      "2             CAT     CATERPILLAR  0.644604\n",
      "3       VOLV-B.ST  RENAULT TRUCKS  0.608747\n",
      "4            RACE         FERRARI  0.541431\n",
      "5          7211.T      MITSUBISHI  0.285285\n",
      "6         1211.HK             BYD  0.277631\n",
      "7         0489.HK            DFSK  0.244104\n",
      "8            TSLA           TESLA  0.207585\n",
      "9          7272.T          YAMAHA  0.191593\n",
      "10         RNO.PA         RENAULT  0.133796\n",
      "11         M&M.NS        MAHINDRA  0.129682\n",
      "12         7269.T          SUZUKI  0.113832\n",
      "13      601633.SS      GREAT WALL  0.096528\n",
      "14   EICHERMOT.NS   ROYAL ENFIELD  0.076111\n",
      "15         7203.T           LEXUS  0.008910\n",
      "16         7270.T          SUBARU -0.003301\n",
      "17         6301.T         KOMATSU -0.011935\n",
      "18  TATAMOTORS.NS          JAGUAR -0.051412\n",
      "19             HY          HYSTER -0.070391\n",
      "\n",
      "Tangency: Return=94.55%, Volatility=29.11%, Sharpe=3.04 (rf=6.00%)\n"
     ]
    }
   ],
   "source": [
    "# ==== Efficient Frontier from ticker_df =======================================\n",
    "\n",
    "# ------------------- Config -------------------\n",
    "start_date = \"2019-01-01\"     # adjust as needed\n",
    "end_date   = None             # None -> until today\n",
    "rf_annual  = 0.06             # risk-free (annual). Change if you have a UK gilt rate.\n",
    "freq_per_year = 12            # monthly returns\n",
    "allow_short = False           # set True for unconstrained frontier\n",
    "\n",
    "# ------------------- 1) Build ticker list -------------------\n",
    "# Use the FIRST listed ticker per brand; drop empties & duplicates\n",
    "tickers = (ticker_df[\"Tickers\"]\n",
    "           .dropna()\n",
    "           .astype(str)\n",
    "           .str.split(\",\")\n",
    "           .str[0]\n",
    "           .str.strip()\n",
    "           .replace(\"\", np.nan)\n",
    "           .dropna()\n",
    "           .unique()\n",
    "           .tolist())\n",
    "\n",
    "assert len(tickers) > 1, \"Need at least 2 tradable tickers.\"\n",
    "\n",
    "# Optional: mapping Brand -> chosen ticker (for labeling later)\n",
    "brand_to_one_ticker = (ticker_df.assign(Ticker=ticker_df[\"Tickers\"].str.split(\",\").str[0].str.strip())\n",
    "                       .dropna(subset=[\"Ticker\"])\n",
    "                       .drop_duplicates(subset=[\"Ticker\"])\n",
    "                       .set_index(\"Ticker\")[\"Brand\"].to_dict())\n",
    "\n",
    "# ------------------- 2) Download prices & compute returns -------------------\n",
    "prices = yf.download(tickers, start=start_date, end=end_date, auto_adjust=True, progress=False)[\"Close\"]\n",
    "if isinstance(prices, pd.Series):  # if only one ticker sneaks through\n",
    "    prices = prices.to_frame()\n",
    "\n",
    "# Resample to monthly, compute pct returns\n",
    "rets_m = prices.resample(\"M\").last().pct_change().dropna(how=\"all\").dropna(axis=1)\n",
    "tickers = rets_m.columns.tolist()  # keep only those with data\n",
    "\n",
    "# Annualize mean & covariance (monthly -> annual)\n",
    "mu = rets_m.mean() * freq_per_year\n",
    "Sigma = rets_m.cov() * freq_per_year\n",
    "n = len(tickers)\n",
    "\n",
    "# ------------------- 3) Helpers for optimization -------------------\n",
    "ones = np.ones(n)\n",
    "\n",
    "def portfolio_perf(w, mu, Sigma):\n",
    "    ret = float(w @ mu)\n",
    "    vol = float(np.sqrt(w @ Sigma @ w))\n",
    "    return ret, vol\n",
    "\n",
    "def min_var_given_return(target_ret, mu, Sigma, long_only=True):\n",
    "    # Minimize w' Σ w, s.t. sum w = 1, mu·w = target_ret, and (optional) w>=0\n",
    "    def objective(w): return w @ Sigma @ w\n",
    "    cons = (\n",
    "        {\"type\": \"eq\", \"fun\": lambda w: w.sum() - 1.0},\n",
    "        {\"type\": \"eq\", \"fun\": lambda w: w @ mu - target_ret}\n",
    "    )\n",
    "    bounds = None if not long_only else [(0.0, 1.0)] * n\n",
    "    w0 = ones / n\n",
    "    res = minimize(objective, w0, method=\"SLSQP\", bounds=bounds, constraints=cons)\n",
    "    return res.x if res.success else None\n",
    "\n",
    "def min_variance(mu, Sigma, long_only=True):\n",
    "    # Minimize variance with sum w = 1 (no target return)\n",
    "    def objective(w): return w @ Sigma @ w\n",
    "    cons = ({\"type\": \"eq\", \"fun\": lambda w: w.sum() - 1.0},)\n",
    "    bounds = None if not long_only else [(0.0, 1.0)] * n\n",
    "    w0 = ones / n\n",
    "    res = minimize(objective, w0, method=\"SLSQP\", bounds=bounds, constraints=cons)\n",
    "    return res.x if res.success else None\n",
    "\n",
    "def max_sharpe(mu, Sigma, rf=0.0, long_only=True):\n",
    "    # Maximize Sharpe -> minimize negative Sharpe\n",
    "    def neg_sharpe(w):\n",
    "        ret, vol = portfolio_perf(w, mu, Sigma)\n",
    "        return -(ret - rf) / (vol + 1e-12)\n",
    "    cons = ({\"type\": \"eq\", \"fun\": lambda w: w.sum() - 1.0},)\n",
    "    bounds = None if not long_only else [(0.0, 1.0)] * n\n",
    "    w0 = ones / n\n",
    "    res = minimize(neg_sharpe, w0, method=\"SLSQP\", bounds=bounds, constraints=cons)\n",
    "    return res.x if res.success else None\n",
    "\n",
    "# ------------------- 4) Compute frontier curve -------------------\n",
    "# Target returns from (near) min to max achievable\n",
    "min_mu, max_mu = float(mu.min()), float(mu.max())\n",
    "targets = np.linspace(min_mu + 1e-6, max_mu - 1e-6, 40)\n",
    "\n",
    "frontier = []\n",
    "weights_list = []\n",
    "for tr in targets:\n",
    "    w = min_var_given_return(tr, mu, Sigma, long_only=not allow_short is False)  # long-only by default\n",
    "    if w is None: \n",
    "        continue\n",
    "    r, v = portfolio_perf(w, mu, Sigma)\n",
    "    frontier.append({\"Return\": r, \"Volatility\": v})\n",
    "    weights_list.append(w)\n",
    "\n",
    "frontier_df = pd.DataFrame(frontier)\n",
    "\n",
    "# Key portfolios\n",
    "w_minvar = min_variance(mu, Sigma, long_only=not allow_short is False)\n",
    "w_tan    = max_sharpe(mu, Sigma, rf=rf_annual, long_only=not allow_short is False)\n",
    "\n",
    "r_min, v_min = portfolio_perf(w_minvar, mu, Sigma)\n",
    "r_tan, v_tan = portfolio_perf(w_tan,    mu, Sigma)\n",
    "sh_tan = (r_tan - rf_annual) / v_tan\n",
    "\n",
    "# ------------------- 5) Plot (interactive) -------------------\n",
    "import plotly.express as px\n",
    "\n",
    "fig = px.scatter(frontier_df, x=\"Volatility\", y=\"Return\", title=\"Efficient Frontier (Annualized)\")\n",
    "fig.update_traces(mode=\"lines+markers\")\n",
    "\n",
    "# Mark min-variance and tangency\n",
    "fig.add_trace(go.Scatter(x=[v_min], y=[r_min], mode=\"markers\", name=\"Min-Var\", marker=dict(size=10)))\n",
    "fig.add_trace(go.Scatter(x=[v_tan], y=[r_tan], mode=\"markers\", name=f\"Tangent (Sharpe={sh_tan:.2f})\", marker=dict(size=10)))\n",
    "\n",
    "# (Optional) Capital Market Line\n",
    "x_cml = np.linspace(0, max(frontier_df[\"Volatility\"].max(), v_tan)*1.1, 50)\n",
    "y_cml = rf_annual + ( (r_tan - rf_annual) / v_tan ) * x_cml\n",
    "fig.add_trace(go.Scatter(x=x_cml, y=y_cml, mode=\"lines\", name=\"CML\", line=dict(dash=\"dash\")))\n",
    "\n",
    "fig.update_layout(xaxis_title=\"Volatility (σ, annualized)\", yaxis_title=\"Return (μ, annualized)\", template=\"plotly_white\")\n",
    "fig.write_html(OUT_DIR / \"efficient_frontier.html\")\n",
    "fig.write_image(FIG_DIR / \"efficient_frontier.pdf\")\n",
    "fig.show()\n",
    "\n",
    "# ------------------- 6) Export weights -------------------\n",
    "def weights_df(w, name):\n",
    "    d = pd.DataFrame({\"Ticker\": tickers, \"Brand\": [brand_to_one_ticker.get(t, \"\") for t in tickers], \"Weight\": w})\n",
    "    d = d[d[\"Weight\"].abs() > 1e-6].sort_values(\"Weight\", ascending=False).reset_index(drop=True)\n",
    "    d.to_csv(OUT_DIR / f\"weights_{name}.csv\", index=False)\n",
    "    return d\n",
    "\n",
    "weights_minvar = weights_df(w_minvar, \"min_variance\")\n",
    "weights_tan    = weights_df(w_tan,    \"tangency\")\n",
    "\n",
    "print(\"Min-Variance portfolio:\")\n",
    "print(weights_minvar.head(20))\n",
    "print(\"\\nTangency (max Sharpe) portfolio:\")\n",
    "print(weights_tan.head(20))\n",
    "print(f\"\\nTangency: Return={r_tan:.2%}, Volatility={v_tan:.2%}, Sharpe={sh_tan:.2f} (rf={rf_annual:.2%})\")\n"
   ]
  },
  {
   "cell_type": "code",
   "execution_count": null,
   "id": "f4ac0c36",
   "metadata": {},
   "outputs": [],
   "source": []
  },
  {
   "cell_type": "code",
   "execution_count": 30,
   "id": "da154d25",
   "metadata": {},
   "outputs": [
    {
     "name": "stderr",
     "output_type": "stream",
     "text": [
      "/var/folders/7x/pd53f7tx0jl5lyy8g87z1qqw0000gn/T/ipykernel_3314/1737317200.py:3: FutureWarning:\n",
      "\n",
      "'M' is deprecated and will be removed in a future version, please use 'ME' instead.\n",
      "\n",
      "/var/folders/7x/pd53f7tx0jl5lyy8g87z1qqw0000gn/T/ipykernel_3314/1737317200.py:3: FutureWarning:\n",
      "\n",
      "The default fill_method='pad' in DataFrame.pct_change is deprecated and will be removed in a future version. Either fill in any non-leading NA values prior to calling pct_change or specify 'fill_method=None' to not fill NA values.\n",
      "\n"
     ]
    },
    {
     "data": {
      "application/vnd.plotly.v1+json": {
       "config": {
        "plotlyServerURL": "https://plot.ly"
       },
       "data": [
        {
         "coloraxis": "coloraxis",
         "hovertemplate": "Ticker: %{x}<br>Ticker: %{y}<br>color: %{z}<extra></extra>",
         "name": "0",
         "texttemplate": "%{z:.2f}",
         "type": "heatmap",
         "x": [
          "000270.KS",
          "003620.KS",
          "005380.KS",
          "0175.HK",
          "0489.HK",
          "1211.HK",
          "600104.SS",
          "601633.SS",
          "6301.T",
          "7201.T",
          "7203.T",
          "7211.T",
          "7261.T",
          "7267.T",
          "7269.T",
          "7270.T",
          "7272.T",
          "AML.L",
          "BMW.DE",
          "CAT",
          "EICHERMOT.NS",
          "F",
          "GM",
          "HY",
          "M&M.NS",
          "MBG.DE",
          "PCAR",
          "RACE",
          "RNO.PA",
          "STLA",
          "TATAMOTORS.NS",
          "TSLA",
          "VOLV-B.ST",
          "VOW3.DE"
         ],
         "xaxis": "x",
         "y": [
          "000270.KS",
          "003620.KS",
          "005380.KS",
          "0175.HK",
          "0489.HK",
          "1211.HK",
          "600104.SS",
          "601633.SS",
          "6301.T",
          "7201.T",
          "7203.T",
          "7211.T",
          "7261.T",
          "7267.T",
          "7269.T",
          "7270.T",
          "7272.T",
          "AML.L",
          "BMW.DE",
          "CAT",
          "EICHERMOT.NS",
          "F",
          "GM",
          "HY",
          "M&M.NS",
          "MBG.DE",
          "PCAR",
          "RACE",
          "RNO.PA",
          "STLA",
          "TATAMOTORS.NS",
          "TSLA",
          "VOLV-B.ST",
          "VOW3.DE"
         ],
         "yaxis": "y",
         "z": {
          "bdata": "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",
          "dtype": "f8",
          "shape": "34, 34"
         }
        }
       ],
       "layout": {
        "coloraxis": {
         "cmax": 1,
         "cmin": -1,
         "colorscale": [
          [
           0,
           "rgb(5,48,97)"
          ],
          [
           0.1,
           "rgb(33,102,172)"
          ],
          [
           0.2,
           "rgb(67,147,195)"
          ],
          [
           0.3,
           "rgb(146,197,222)"
          ],
          [
           0.4,
           "rgb(209,229,240)"
          ],
          [
           0.5,
           "rgb(247,247,247)"
          ],
          [
           0.6,
           "rgb(253,219,199)"
          ],
          [
           0.7,
           "rgb(244,165,130)"
          ],
          [
           0.8,
           "rgb(214,96,77)"
          ],
          [
           0.9,
           "rgb(178,24,43)"
          ],
          [
           1,
           "rgb(103,0,31)"
          ]
         ]
        },
        "height": 700,
        "template": {
         "data": {
          "bar": [
           {
            "error_x": {
             "color": "#2a3f5f"
            },
            "error_y": {
             "color": "#2a3f5f"
            },
            "marker": {
             "line": {
              "color": "white",
              "width": 0.5
             },
             "pattern": {
              "fillmode": "overlay",
              "size": 10,
              "solidity": 0.2
             }
            },
            "type": "bar"
           }
          ],
          "barpolar": [
           {
            "marker": {
             "line": {
              "color": "white",
              "width": 0.5
             },
             "pattern": {
              "fillmode": "overlay",
              "size": 10,
              "solidity": 0.2
             }
            },
            "type": "barpolar"
           }
          ],
          "carpet": [
           {
            "aaxis": {
             "endlinecolor": "#2a3f5f",
             "gridcolor": "#C8D4E3",
             "linecolor": "#C8D4E3",
             "minorgridcolor": "#C8D4E3",
             "startlinecolor": "#2a3f5f"
            },
            "baxis": {
             "endlinecolor": "#2a3f5f",
             "gridcolor": "#C8D4E3",
             "linecolor": "#C8D4E3",
             "minorgridcolor": "#C8D4E3",
             "startlinecolor": "#2a3f5f"
            },
            "type": "carpet"
           }
          ],
          "choropleth": [
           {
            "colorbar": {
             "outlinewidth": 0,
             "ticks": ""
            },
            "type": "choropleth"
           }
          ],
          "contour": [
           {
            "colorbar": {
             "outlinewidth": 0,
             "ticks": ""
            },
            "colorscale": [
             [
              0,
              "#0d0887"
             ],
             [
              0.1111111111111111,
              "#46039f"
             ],
             [
              0.2222222222222222,
              "#7201a8"
             ],
             [
              0.3333333333333333,
              "#9c179e"
             ],
             [
              0.4444444444444444,
              "#bd3786"
             ],
             [
              0.5555555555555556,
              "#d8576b"
             ],
             [
              0.6666666666666666,
              "#ed7953"
             ],
             [
              0.7777777777777778,
              "#fb9f3a"
             ],
             [
              0.8888888888888888,
              "#fdca26"
             ],
             [
              1,
              "#f0f921"
             ]
            ],
            "type": "contour"
           }
          ],
          "contourcarpet": [
           {
            "colorbar": {
             "outlinewidth": 0,
             "ticks": ""
            },
            "type": "contourcarpet"
           }
          ],
          "heatmap": [
           {
            "colorbar": {
             "outlinewidth": 0,
             "ticks": ""
            },
            "colorscale": [
             [
              0,
              "#0d0887"
             ],
             [
              0.1111111111111111,
              "#46039f"
             ],
             [
              0.2222222222222222,
              "#7201a8"
             ],
             [
              0.3333333333333333,
              "#9c179e"
             ],
             [
              0.4444444444444444,
              "#bd3786"
             ],
             [
              0.5555555555555556,
              "#d8576b"
             ],
             [
              0.6666666666666666,
              "#ed7953"
             ],
             [
              0.7777777777777778,
              "#fb9f3a"
             ],
             [
              0.8888888888888888,
              "#fdca26"
             ],
             [
              1,
              "#f0f921"
             ]
            ],
            "type": "heatmap"
           }
          ],
          "histogram": [
           {
            "marker": {
             "pattern": {
              "fillmode": "overlay",
              "size": 10,
              "solidity": 0.2
             }
            },
            "type": "histogram"
           }
          ],
          "histogram2d": [
           {
            "colorbar": {
             "outlinewidth": 0,
             "ticks": ""
            },
            "colorscale": [
             [
              0,
              "#0d0887"
             ],
             [
              0.1111111111111111,
              "#46039f"
             ],
             [
              0.2222222222222222,
              "#7201a8"
             ],
             [
              0.3333333333333333,
              "#9c179e"
             ],
             [
              0.4444444444444444,
              "#bd3786"
             ],
             [
              0.5555555555555556,
              "#d8576b"
             ],
             [
              0.6666666666666666,
              "#ed7953"
             ],
             [
              0.7777777777777778,
              "#fb9f3a"
             ],
             [
              0.8888888888888888,
              "#fdca26"
             ],
             [
              1,
              "#f0f921"
             ]
            ],
            "type": "histogram2d"
           }
          ],
          "histogram2dcontour": [
           {
            "colorbar": {
             "outlinewidth": 0,
             "ticks": ""
            },
            "colorscale": [
             [
              0,
              "#0d0887"
             ],
             [
              0.1111111111111111,
              "#46039f"
             ],
             [
              0.2222222222222222,
              "#7201a8"
             ],
             [
              0.3333333333333333,
              "#9c179e"
             ],
             [
              0.4444444444444444,
              "#bd3786"
             ],
             [
              0.5555555555555556,
              "#d8576b"
             ],
             [
              0.6666666666666666,
              "#ed7953"
             ],
             [
              0.7777777777777778,
              "#fb9f3a"
             ],
             [
              0.8888888888888888,
              "#fdca26"
             ],
             [
              1,
              "#f0f921"
             ]
            ],
            "type": "histogram2dcontour"
           }
          ],
          "mesh3d": [
           {
            "colorbar": {
             "outlinewidth": 0,
             "ticks": ""
            },
            "type": "mesh3d"
           }
          ],
          "parcoords": [
           {
            "line": {
             "colorbar": {
              "outlinewidth": 0,
              "ticks": ""
             }
            },
            "type": "parcoords"
           }
          ],
          "pie": [
           {
            "automargin": true,
            "type": "pie"
           }
          ],
          "scatter": [
           {
            "fillpattern": {
             "fillmode": "overlay",
             "size": 10,
             "solidity": 0.2
            },
            "type": "scatter"
           }
          ],
          "scatter3d": [
           {
            "line": {
             "colorbar": {
              "outlinewidth": 0,
              "ticks": ""
             }
            },
            "marker": {
             "colorbar": {
              "outlinewidth": 0,
              "ticks": ""
             }
            },
            "type": "scatter3d"
           }
          ],
          "scattercarpet": [
           {
            "marker": {
             "colorbar": {
              "outlinewidth": 0,
              "ticks": ""
             }
            },
            "type": "scattercarpet"
           }
          ],
          "scattergeo": [
           {
            "marker": {
             "colorbar": {
              "outlinewidth": 0,
              "ticks": ""
             }
            },
            "type": "scattergeo"
           }
          ],
          "scattergl": [
           {
            "marker": {
             "colorbar": {
              "outlinewidth": 0,
              "ticks": ""
             }
            },
            "type": "scattergl"
           }
          ],
          "scattermap": [
           {
            "marker": {
             "colorbar": {
              "outlinewidth": 0,
              "ticks": ""
             }
            },
            "type": "scattermap"
           }
          ],
          "scattermapbox": [
           {
            "marker": {
             "colorbar": {
              "outlinewidth": 0,
              "ticks": ""
             }
            },
            "type": "scattermapbox"
           }
          ],
          "scatterpolar": [
           {
            "marker": {
             "colorbar": {
              "outlinewidth": 0,
              "ticks": ""
             }
            },
            "type": "scatterpolar"
           }
          ],
          "scatterpolargl": [
           {
            "marker": {
             "colorbar": {
              "outlinewidth": 0,
              "ticks": ""
             }
            },
            "type": "scatterpolargl"
           }
          ],
          "scatterternary": [
           {
            "marker": {
             "colorbar": {
              "outlinewidth": 0,
              "ticks": ""
             }
            },
            "type": "scatterternary"
           }
          ],
          "surface": [
           {
            "colorbar": {
             "outlinewidth": 0,
             "ticks": ""
            },
            "colorscale": [
             [
              0,
              "#0d0887"
             ],
             [
              0.1111111111111111,
              "#46039f"
             ],
             [
              0.2222222222222222,
              "#7201a8"
             ],
             [
              0.3333333333333333,
              "#9c179e"
             ],
             [
              0.4444444444444444,
              "#bd3786"
             ],
             [
              0.5555555555555556,
              "#d8576b"
             ],
             [
              0.6666666666666666,
              "#ed7953"
             ],
             [
              0.7777777777777778,
              "#fb9f3a"
             ],
             [
              0.8888888888888888,
              "#fdca26"
             ],
             [
              1,
              "#f0f921"
             ]
            ],
            "type": "surface"
           }
          ],
          "table": [
           {
            "cells": {
             "fill": {
              "color": "#EBF0F8"
             },
             "line": {
              "color": "white"
             }
            },
            "header": {
             "fill": {
              "color": "#C8D4E3"
             },
             "line": {
              "color": "white"
             }
            },
            "type": "table"
           }
          ]
         },
         "layout": {
          "annotationdefaults": {
           "arrowcolor": "#2a3f5f",
           "arrowhead": 0,
           "arrowwidth": 1
          },
          "autotypenumbers": "strict",
          "coloraxis": {
           "colorbar": {
            "outlinewidth": 0,
            "ticks": ""
           }
          },
          "colorscale": {
           "diverging": [
            [
             0,
             "#8e0152"
            ],
            [
             0.1,
             "#c51b7d"
            ],
            [
             0.2,
             "#de77ae"
            ],
            [
             0.3,
             "#f1b6da"
            ],
            [
             0.4,
             "#fde0ef"
            ],
            [
             0.5,
             "#f7f7f7"
            ],
            [
             0.6,
             "#e6f5d0"
            ],
            [
             0.7,
             "#b8e186"
            ],
            [
             0.8,
             "#7fbc41"
            ],
            [
             0.9,
             "#4d9221"
            ],
            [
             1,
             "#276419"
            ]
           ],
           "sequential": [
            [
             0,
             "#0d0887"
            ],
            [
             0.1111111111111111,
             "#46039f"
            ],
            [
             0.2222222222222222,
             "#7201a8"
            ],
            [
             0.3333333333333333,
             "#9c179e"
            ],
            [
             0.4444444444444444,
             "#bd3786"
            ],
            [
             0.5555555555555556,
             "#d8576b"
            ],
            [
             0.6666666666666666,
             "#ed7953"
            ],
            [
             0.7777777777777778,
             "#fb9f3a"
            ],
            [
             0.8888888888888888,
             "#fdca26"
            ],
            [
             1,
             "#f0f921"
            ]
           ],
           "sequentialminus": [
            [
             0,
             "#0d0887"
            ],
            [
             0.1111111111111111,
             "#46039f"
            ],
            [
             0.2222222222222222,
             "#7201a8"
            ],
            [
             0.3333333333333333,
             "#9c179e"
            ],
            [
             0.4444444444444444,
             "#bd3786"
            ],
            [
             0.5555555555555556,
             "#d8576b"
            ],
            [
             0.6666666666666666,
             "#ed7953"
            ],
            [
             0.7777777777777778,
             "#fb9f3a"
            ],
            [
             0.8888888888888888,
             "#fdca26"
            ],
            [
             1,
             "#f0f921"
            ]
           ]
          },
          "colorway": [
           "#636efa",
           "#EF553B",
           "#00cc96",
           "#ab63fa",
           "#FFA15A",
           "#19d3f3",
           "#FF6692",
           "#B6E880",
           "#FF97FF",
           "#FECB52"
          ],
          "font": {
           "color": "#2a3f5f"
          },
          "geo": {
           "bgcolor": "white",
           "lakecolor": "white",
           "landcolor": "white",
           "showlakes": true,
           "showland": true,
           "subunitcolor": "#C8D4E3"
          },
          "hoverlabel": {
           "align": "left"
          },
          "hovermode": "closest",
          "mapbox": {
           "style": "light"
          },
          "paper_bgcolor": "white",
          "plot_bgcolor": "white",
          "polar": {
           "angularaxis": {
            "gridcolor": "#EBF0F8",
            "linecolor": "#EBF0F8",
            "ticks": ""
           },
           "bgcolor": "white",
           "radialaxis": {
            "gridcolor": "#EBF0F8",
            "linecolor": "#EBF0F8",
            "ticks": ""
           }
          },
          "scene": {
           "xaxis": {
            "backgroundcolor": "white",
            "gridcolor": "#DFE8F3",
            "gridwidth": 2,
            "linecolor": "#EBF0F8",
            "showbackground": true,
            "ticks": "",
            "zerolinecolor": "#EBF0F8"
           },
           "yaxis": {
            "backgroundcolor": "white",
            "gridcolor": "#DFE8F3",
            "gridwidth": 2,
            "linecolor": "#EBF0F8",
            "showbackground": true,
            "ticks": "",
            "zerolinecolor": "#EBF0F8"
           },
           "zaxis": {
            "backgroundcolor": "white",
            "gridcolor": "#DFE8F3",
            "gridwidth": 2,
            "linecolor": "#EBF0F8",
            "showbackground": true,
            "ticks": "",
            "zerolinecolor": "#EBF0F8"
           }
          },
          "shapedefaults": {
           "line": {
            "color": "#2a3f5f"
           }
          },
          "ternary": {
           "aaxis": {
            "gridcolor": "#DFE8F3",
            "linecolor": "#A2B1C6",
            "ticks": ""
           },
           "baxis": {
            "gridcolor": "#DFE8F3",
            "linecolor": "#A2B1C6",
            "ticks": ""
           },
           "bgcolor": "white",
           "caxis": {
            "gridcolor": "#DFE8F3",
            "linecolor": "#A2B1C6",
            "ticks": ""
           }
          },
          "title": {
           "x": 0.05
          },
          "xaxis": {
           "automargin": true,
           "gridcolor": "#EBF0F8",
           "linecolor": "#EBF0F8",
           "ticks": "",
           "title": {
            "standoff": 15
           },
           "zerolinecolor": "#EBF0F8",
           "zerolinewidth": 2
          },
          "yaxis": {
           "automargin": true,
           "gridcolor": "#EBF0F8",
           "linecolor": "#EBF0F8",
           "ticks": "",
           "title": {
            "standoff": 15
           },
           "zerolinecolor": "#EBF0F8",
           "zerolinewidth": 2
          }
         }
        },
        "title": {
         "text": "Asset Correlation Matrix"
        },
        "width": 800,
        "xaxis": {
         "anchor": "y",
         "constrain": "domain",
         "domain": [
          0,
          1
         ],
         "scaleanchor": "y",
         "title": {
          "text": "Assets"
         }
        },
        "yaxis": {
         "anchor": "x",
         "autorange": "reversed",
         "constrain": "domain",
         "domain": [
          0,
          1
         ],
         "title": {
          "text": "Assets"
         }
        }
       }
      }
     },
     "metadata": {},
     "output_type": "display_data"
    }
   ],
   "source": [
    "# --- Use your monthly returns from earlier ---\n",
    "# If you followed the efficient frontier code, just reuse:\n",
    "rets_m = prices.resample(\"M\").last().pct_change().dropna(how=\"all\").dropna(axis=1)\n",
    "\n",
    "# --- Compute correlation matrix ---\n",
    "corr_df = rets_m.corr()\n",
    "\n",
    "# --- Plot with Plotly (interactive heatmap) ---\n",
    "fig = px.imshow(\n",
    "    corr_df,\n",
    "    text_auto=\".2f\",\n",
    "    color_continuous_scale=\"RdBu_r\",\n",
    "    zmin=-1,\n",
    "    zmax=1,\n",
    "    title=\"Asset Correlation Matrix\"\n",
    ")\n",
    "fig.update_layout(\n",
    "    width=800,\n",
    "    height=700,\n",
    "    xaxis_title=\"Assets\",\n",
    "    yaxis_title=\"Assets\",\n",
    "    template=\"plotly_white\"\n",
    ")\n",
    "fig.show()\n",
    "\n",
    "# --- Optional 4️⃣: Save correlation matrix ---\n",
    "corr_df.to_csv(\"outputs/asset_correlation_matrix.csv\")"
   ]
  },
  {
   "cell_type": "markdown",
   "id": "e9b96f5f",
   "metadata": {},
   "source": [
    "### 1 Build Ticker → Country mapping (from your brand table)"
   ]
  },
  {
   "cell_type": "code",
   "execution_count": 31,
   "id": "7c80c05a",
   "metadata": {},
   "outputs": [],
   "source": [
    "\n",
    "# brand_to_one_ticker: {ticker: brand}; ensure uppercase brands\n",
    "ticker_brand = (pd.Series(brand_to_one_ticker, name=\"Brand\")\n",
    "                .rename_axis(\"Ticker\").reset_index())\n",
    "ticker_brand[\"Brand\"] = ticker_brand[\"Brand\"].str.upper().str.strip()\n",
    "\n",
    "# df_brand: has columns [\"Make\",\"Country\",\"ParentCompany\",\"ParentCountry\"]\n",
    "brand_origin = df_brand[[\"Make\",\"Country\"]].copy()\n",
    "brand_origin[\"Make\"] = brand_origin[\"Make\"].str.upper().str.strip()\n",
    "\n",
    "# join to get each ticker's country of (parent) origin\n",
    "ticker_meta = (ticker_brand.merge(brand_origin, left_on=\"Brand\", right_on=\"Make\", how=\"left\")\n",
    "                          .drop(columns=[\"Make\"])\n",
    "                          .rename(columns={\"Country\":\"Country\"}))\n",
    "\n",
    "# keep only tickers present in your return matrix\n",
    "tickers_in_data = set(rets_m.columns)\n",
    "ticker_meta = ticker_meta[ticker_meta[\"Ticker\"].isin(tickers_in_data)].dropna(subset=[\"Country\"])\n",
    "assert not ticker_meta.empty, \"No tickers mapped to countries. Check brand names & df_brand.\"\n"
   ]
  },
  {
   "cell_type": "markdown",
   "id": "52d6d906",
   "metadata": {},
   "source": [
    "### 2) Country portfolios (equal-weighted within each country)"
   ]
  },
  {
   "cell_type": "code",
   "execution_count": 32,
   "id": "5266b2a7",
   "metadata": {},
   "outputs": [
    {
     "name": "stderr",
     "output_type": "stream",
     "text": [
      "/var/folders/7x/pd53f7tx0jl5lyy8g87z1qqw0000gn/T/ipykernel_3314/3423980527.py:10: FutureWarning:\n",
      "\n",
      "'M' is deprecated and will be removed in a future version, please use 'ME' instead.\n",
      "\n"
     ]
    }
   ],
   "source": [
    "# --- 0) From your ticker_meta (must have columns: Tickers, Country) ---\n",
    "ticker_meta = ticker_meta.dropna(subset=[\"Ticker\",\"Country\"]).copy()\n",
    "tickers = sorted(ticker_meta[\"Ticker\"].unique().tolist())\n",
    "assert len(tickers) >= 2, \"Need at least 2 tickers.\"\n",
    "\n",
    "# --- 1) Pull prices and build monthly returns ---\n",
    "prices = yf.download(tickers, period=\"5y\", auto_adjust=True, progress=False)[\"Close\"]\n",
    "if isinstance(prices, pd.Series):  # if only 1 ticker returned\n",
    "    prices = prices.to_frame()\n",
    "rets_m = prices.resample(\"M\").last().pct_change().dropna(how=\"all\").dropna(axis=1)\n",
    "tickers = rets_m.columns.tolist()  # keep only tickers with data\n",
    "\n",
    "# --- 2) Keep only mapped tickers & build equal-weight country weights ---\n",
    "tm = (ticker_meta[ticker_meta[\"Ticker\"].isin(tickers)]\n",
    "      .drop_duplicates([\"Country\",\"Ticker\"]))\n",
    "\n",
    "w_eq = (tm.groupby(\"Country\")[\"Ticker\"]\n",
    "          .apply(lambda s: pd.Series(1.0/len(s), index=s.values))\n",
    "          .rename(\"Weight\").reset_index())\n",
    "# --- Build weight matrix: Countries × Tickers ---\n",
    "W = (\n",
    "    w_eq.pivot(index=\"Country\", columns=\"level_1\", values=\"Weight\")\n",
    "        .reindex(columns=rets_m.columns, fill_value=0.0)\n",
    ")\n",
    "\n",
    "# --- Re-normalize so each country's weights sum to 1 ---\n",
    "W = W.div(W.sum(axis=1), axis=0).fillna(0.0)\n",
    "\n",
    "\n",
    "# --- 3) Country portfolios: monthly returns, stats, correlations ---\n",
    "country_rets = rets_m.dot(W.T)          # index = month, cols = Country\n",
    "freq = 12\n",
    "country_stats = pd.DataFrame({\n",
    "    \"AnnReturn\": country_rets.mean()*freq,\n",
    "    \"AnnVol\": country_rets.std(ddof=1)*np.sqrt(freq)\n",
    "})\n",
    "country_stats[\"Sharpe(0%)\"] = country_stats[\"AnnReturn\"] / country_stats[\"AnnVol\"]\n",
    "country_corr = country_rets.corr()\n",
    "\n",
    "# (Optional) save\n",
    "country_stats.to_csv(OUT_DIR / \"country_portfolio_stats.csv\")\n",
    "country_corr.to_csv(OUT_DIR / \"country_portfolio_correlations.csv\")"
   ]
  },
  {
   "cell_type": "code",
   "execution_count": 33,
   "id": "fc3508db",
   "metadata": {},
   "outputs": [
    {
     "name": "stdout",
     "output_type": "stream",
     "text": [
      "Japan             3.024050e-01\n",
      "South Korea       1.779564e-01\n",
      "Sweden            1.641597e-01\n",
      "India             1.390714e-01\n",
      "Italy             1.148546e-01\n",
      "China             1.015528e-01\n",
      "France            1.979855e-17\n",
      "United Kingdom    1.760134e-17\n",
      "United States     1.650528e-17\n",
      "Germany           7.460666e-18\n",
      "Netherlands       0.000000e+00\n",
      "Name: MinVar, dtype: float64 India             6.134321e-01\n",
      "Japan             1.805984e-01\n",
      "Italy             1.336188e-01\n",
      "China             6.405261e-02\n",
      "Sweden            8.298053e-03\n",
      "France            4.077492e-16\n",
      "Netherlands       2.719721e-16\n",
      "Germany           0.000000e+00\n",
      "South Korea       0.000000e+00\n",
      "United Kingdom    0.000000e+00\n",
      "United States     0.000000e+00\n",
      "Name: Tangency, dtype: float64\n",
      "Japan             3.024050e-01\n",
      "South Korea       1.779564e-01\n",
      "Sweden            1.641597e-01\n",
      "India             1.390714e-01\n",
      "Italy             1.148546e-01\n",
      "China             1.015528e-01\n",
      "France            1.979855e-17\n",
      "United Kingdom    1.760134e-17\n",
      "United States     1.650528e-17\n",
      "Germany           7.460666e-18\n",
      "Netherlands       0.000000e+00\n",
      "Name: MinVar, dtype: float64 India             6.134321e-01\n",
      "Japan             1.805984e-01\n",
      "Italy             1.336188e-01\n",
      "China             6.405261e-02\n",
      "Sweden            8.298053e-03\n",
      "France            4.077492e-16\n",
      "Netherlands       2.719721e-16\n",
      "Germany           0.000000e+00\n",
      "South Korea       0.000000e+00\n",
      "United Kingdom    0.000000e+00\n",
      "United States     0.000000e+00\n",
      "Name: Tangency, dtype: float64\n"
     ]
    }
   ],
   "source": [
    "from scipy.optimize import minimize\n",
    "\n",
    "mu = country_rets.mean()*freq\n",
    "Sigma = country_rets.cov()*freq\n",
    "countries = mu.index.tolist()\n",
    "n = len(countries)\n",
    "ones = np.ones(n)\n",
    "\n",
    "def perf(w): r = float(w@mu.values); v = float(np.sqrt(w@Sigma.values@w)); return r, v\n",
    "def min_var(bounds=(0,1)):\n",
    "    cons = ({\"type\":\"eq\",\"fun\":lambda w: w.sum()-1.0},)\n",
    "    bnds = [bounds]*n if bounds else None\n",
    "    res = minimize(lambda w: w@Sigma.values@w, ones/n, method=\"SLSQP\", bounds=bnds, constraints=cons)\n",
    "    return res.x\n",
    "def max_sharpe(rf=0.03, bounds=(0,1)):\n",
    "    def negS(w): r,v = perf(w); return -(r-rf)/(v+1e-12)\n",
    "    cons = ({\"type\":\"eq\",\"fun\":lambda w: w.sum()-1.0},)\n",
    "    bnds = [bounds]*n if bounds else None\n",
    "    res = minimize(negS, ones/n, method=\"SLSQP\", bounds=bnds, constraints=cons)\n",
    "    return res.x\n",
    "\n",
    "w_min = min_var(bounds=(0,1))\n",
    "w_tan = max_sharpe(rf=0.03, bounds=(0,1))\n",
    "\n",
    "weights_min = pd.Series(w_min, index=countries, name=\"MinVar\").sort_values(ascending=False)\n",
    "weights_tan = pd.Series(w_tan, index=countries, name=\"Tangency\").sort_values(ascending=False)\n",
    "\n",
    "print(weights_min, weights_tan)\n",
    "\n",
    "mu = country_rets.mean()*freq\n",
    "Sigma = country_rets.cov()*freq\n",
    "countries = mu.index.tolist()\n",
    "n = len(countries)\n",
    "ones = np.ones(n)\n",
    "\n",
    "def perf(w): r = float(w@mu.values); v = float(np.sqrt(w@Sigma.values@w)); return r, v\n",
    "def min_var(bounds=(0,1)):\n",
    "    cons = ({\"type\":\"eq\",\"fun\":lambda w: w.sum()-1.0},)\n",
    "    bnds = [bounds]*n if bounds else None\n",
    "    res = minimize(lambda w: w@Sigma.values@w, ones/n, method=\"SLSQP\", bounds=bnds, constraints=cons)\n",
    "    return res.x\n",
    "def max_sharpe(rf=0.03, bounds=(0,1)):\n",
    "    def negS(w): r,v = perf(w); return -(r-rf)/(v+1e-12)\n",
    "    cons = ({\"type\":\"eq\",\"fun\":lambda w: w.sum()-1.0},)\n",
    "    bnds = [bounds]*n if bounds else None\n",
    "    res = minimize(negS, ones/n, method=\"SLSQP\", bounds=bnds, constraints=cons)\n",
    "    return res.x\n",
    "\n",
    "w_min = min_var(bounds=(0,1))\n",
    "w_tan = max_sharpe(rf=0.03, bounds=(0,1))\n",
    "\n",
    "weights_min = pd.Series(w_min, index=countries, name=\"MinVar\").sort_values(ascending=False)\n",
    "weights_tan = pd.Series(w_tan, index=countries, name=\"Tangency\").sort_values(ascending=False)\n",
    "\n",
    "print(weights_min, weights_tan)"
   ]
  },
  {
   "cell_type": "markdown",
   "id": "ea35b9a6",
   "metadata": {},
   "source": [
    "### 3) Correlation between country portfolios"
   ]
  },
  {
   "cell_type": "code",
   "execution_count": 34,
   "id": "fcad013d",
   "metadata": {},
   "outputs": [
    {
     "data": {
      "application/vnd.plotly.v1+json": {
       "config": {
        "plotlyServerURL": "https://plot.ly"
       },
       "data": [
        {
         "coloraxis": "coloraxis",
         "hovertemplate": "Country: %{x}<br>Country: %{y}<br>color: %{z}<extra></extra>",
         "name": "0",
         "texttemplate": "%{z:.2f}",
         "type": "heatmap",
         "x": [
          "China",
          "France",
          "Germany",
          "India",
          "Italy",
          "Japan",
          "Netherlands",
          "South Korea",
          "Sweden",
          "United Kingdom",
          "United States"
         ],
         "xaxis": "x",
         "y": [
          "China",
          "France",
          "Germany",
          "India",
          "Italy",
          "Japan",
          "Netherlands",
          "South Korea",
          "Sweden",
          "United Kingdom",
          "United States"
         ],
         "yaxis": "y",
         "z": {
          "bdata": "AAAAAAAA8D9P7/uCkYfNP34aX6cJLso/CF6oax98wT+jq1KmnDnKP4CoBMjZYb8/RhV3Rv9b0D/QqMoabx28P9pLL5K6S8w/izZSQxtJ4z/hEPsRvonHP0/v+4KRh80/AAAAAAAA8D9WO/WjoNDjP2nwKsyRmtw/tY1KEsNb2T81PAWapfjhP/rpqXE6keQ/L7Fjkwadpz8ZDgLkaFniPyihWKIHC9w/XaaObqMV4j9+Gl+nCS7KP1Y79aOg0OM/AAAAAAAA8D/qaM3YpcXXP2TpYHZMqds/paPsPQjl4T/QSXyuslvlP+c9uWmHrc8/9afwQLLR5D8mS+5YbVXYP9F6IRPD8OE/CF6oax98wT9p8CrMkZrcP+pozdilxdc/AAAAAAAA8D8r0YAL+FTMP6CquUIW/tQ/TkLlM83Y0j9BGlhGjyjWP5Me8E8HCNY/PiMdGGE60D/gSa3ojlrhP6OrUqacOco/tY1KEsNb2T9k6WB2TKnbPyvRgAv4VMw/AAAAAAAA8D81/EC2ttbIP7K5pXck99w/h7i066GNtD8RTjoG/hngP5Mj69L9+9s/OPcT7zCl2T+AqATI2WG/PzU8BZql+OE/paPsPQjl4T+gqrlCFv7UPzX8QLa21sg/AAAAAAAA8D/q2v0N9N3bPy+6V4k+rr4/Jq0V1xOe0j8LXG3hlADVP8H4HasHrNs/RhV3Rv9b0D/66alxOpHkP9BJfK6yW+U/TkLlM83Y0j+yuaV3JPfcP+ra/Q303ds/AAAAAAAA8D9jTW90BYLSP6aZqpPTvec/OY7eEexM2j9LRRYryQLlP9CoyhpvHbw/L7Fjkwadpz/nPblph63PP0EaWEaPKNY/h7i066GNtD8vuleJPq6+P2NNb3QFgtI/AAAAAAAA8D9azr/OxdLWP1ZaYRJB8bk/u8HgzgOW0T/aSy+SukvMPxkOAuRoWeI/9afwQLLR5D+THvBPBwjWPxFOOgb+GeA/Jq0V1xOe0j+mmaqT073nP1rOv87F0tY/AAAAAAAA8D+xXEGYDSbWP7gRjturbOM/izZSQxtJ4z8ooViiBwvcPyZL7lhtVdg/PiMdGGE60D+TI+vS/fvbPwtcbeGUANU/OY7eEexM2j9WWmESQfG5P7FcQZgNJtY/AAAAAAAA8D9Kp6VkOdraP+EQ+xG+icc/XaaObqMV4j/ReiETw/DhP+BJreiOWuE/OPcT7zCl2T/B+B2rB6zbP0tFFivJAuU/u8HgzgOW0T+4EY7bq2zjP0qnpWQ52to/AAAAAAAA8D8=",
          "dtype": "f8",
          "shape": "11, 11"
         }
        }
       ],
       "layout": {
        "coloraxis": {
         "cmax": 1,
         "cmin": -1,
         "colorscale": [
          [
           0,
           "rgb(5,48,97)"
          ],
          [
           0.1,
           "rgb(33,102,172)"
          ],
          [
           0.2,
           "rgb(67,147,195)"
          ],
          [
           0.3,
           "rgb(146,197,222)"
          ],
          [
           0.4,
           "rgb(209,229,240)"
          ],
          [
           0.5,
           "rgb(247,247,247)"
          ],
          [
           0.6,
           "rgb(253,219,199)"
          ],
          [
           0.7,
           "rgb(244,165,130)"
          ],
          [
           0.8,
           "rgb(214,96,77)"
          ],
          [
           0.9,
           "rgb(178,24,43)"
          ],
          [
           1,
           "rgb(103,0,31)"
          ]
         ]
        },
        "height": 700,
        "template": {
         "data": {
          "bar": [
           {
            "error_x": {
             "color": "#2a3f5f"
            },
            "error_y": {
             "color": "#2a3f5f"
            },
            "marker": {
             "line": {
              "color": "white",
              "width": 0.5
             },
             "pattern": {
              "fillmode": "overlay",
              "size": 10,
              "solidity": 0.2
             }
            },
            "type": "bar"
           }
          ],
          "barpolar": [
           {
            "marker": {
             "line": {
              "color": "white",
              "width": 0.5
             },
             "pattern": {
              "fillmode": "overlay",
              "size": 10,
              "solidity": 0.2
             }
            },
            "type": "barpolar"
           }
          ],
          "carpet": [
           {
            "aaxis": {
             "endlinecolor": "#2a3f5f",
             "gridcolor": "#C8D4E3",
             "linecolor": "#C8D4E3",
             "minorgridcolor": "#C8D4E3",
             "startlinecolor": "#2a3f5f"
            },
            "baxis": {
             "endlinecolor": "#2a3f5f",
             "gridcolor": "#C8D4E3",
             "linecolor": "#C8D4E3",
             "minorgridcolor": "#C8D4E3",
             "startlinecolor": "#2a3f5f"
            },
            "type": "carpet"
           }
          ],
          "choropleth": [
           {
            "colorbar": {
             "outlinewidth": 0,
             "ticks": ""
            },
            "type": "choropleth"
           }
          ],
          "contour": [
           {
            "colorbar": {
             "outlinewidth": 0,
             "ticks": ""
            },
            "colorscale": [
             [
              0,
              "#0d0887"
             ],
             [
              0.1111111111111111,
              "#46039f"
             ],
             [
              0.2222222222222222,
              "#7201a8"
             ],
             [
              0.3333333333333333,
              "#9c179e"
             ],
             [
              0.4444444444444444,
              "#bd3786"
             ],
             [
              0.5555555555555556,
              "#d8576b"
             ],
             [
              0.6666666666666666,
              "#ed7953"
             ],
             [
              0.7777777777777778,
              "#fb9f3a"
             ],
             [
              0.8888888888888888,
              "#fdca26"
             ],
             [
              1,
              "#f0f921"
             ]
            ],
            "type": "contour"
           }
          ],
          "contourcarpet": [
           {
            "colorbar": {
             "outlinewidth": 0,
             "ticks": ""
            },
            "type": "contourcarpet"
           }
          ],
          "heatmap": [
           {
            "colorbar": {
             "outlinewidth": 0,
             "ticks": ""
            },
            "colorscale": [
             [
              0,
              "#0d0887"
             ],
             [
              0.1111111111111111,
              "#46039f"
             ],
             [
              0.2222222222222222,
              "#7201a8"
             ],
             [
              0.3333333333333333,
              "#9c179e"
             ],
             [
              0.4444444444444444,
              "#bd3786"
             ],
             [
              0.5555555555555556,
              "#d8576b"
             ],
             [
              0.6666666666666666,
              "#ed7953"
             ],
             [
              0.7777777777777778,
              "#fb9f3a"
             ],
             [
              0.8888888888888888,
              "#fdca26"
             ],
             [
              1,
              "#f0f921"
             ]
            ],
            "type": "heatmap"
           }
          ],
          "histogram": [
           {
            "marker": {
             "pattern": {
              "fillmode": "overlay",
              "size": 10,
              "solidity": 0.2
             }
            },
            "type": "histogram"
           }
          ],
          "histogram2d": [
           {
            "colorbar": {
             "outlinewidth": 0,
             "ticks": ""
            },
            "colorscale": [
             [
              0,
              "#0d0887"
             ],
             [
              0.1111111111111111,
              "#46039f"
             ],
             [
              0.2222222222222222,
              "#7201a8"
             ],
             [
              0.3333333333333333,
              "#9c179e"
             ],
             [
              0.4444444444444444,
              "#bd3786"
             ],
             [
              0.5555555555555556,
              "#d8576b"
             ],
             [
              0.6666666666666666,
              "#ed7953"
             ],
             [
              0.7777777777777778,
              "#fb9f3a"
             ],
             [
              0.8888888888888888,
              "#fdca26"
             ],
             [
              1,
              "#f0f921"
             ]
            ],
            "type": "histogram2d"
           }
          ],
          "histogram2dcontour": [
           {
            "colorbar": {
             "outlinewidth": 0,
             "ticks": ""
            },
            "colorscale": [
             [
              0,
              "#0d0887"
             ],
             [
              0.1111111111111111,
              "#46039f"
             ],
             [
              0.2222222222222222,
              "#7201a8"
             ],
             [
              0.3333333333333333,
              "#9c179e"
             ],
             [
              0.4444444444444444,
              "#bd3786"
             ],
             [
              0.5555555555555556,
              "#d8576b"
             ],
             [
              0.6666666666666666,
              "#ed7953"
             ],
             [
              0.7777777777777778,
              "#fb9f3a"
             ],
             [
              0.8888888888888888,
              "#fdca26"
             ],
             [
              1,
              "#f0f921"
             ]
            ],
            "type": "histogram2dcontour"
           }
          ],
          "mesh3d": [
           {
            "colorbar": {
             "outlinewidth": 0,
             "ticks": ""
            },
            "type": "mesh3d"
           }
          ],
          "parcoords": [
           {
            "line": {
             "colorbar": {
              "outlinewidth": 0,
              "ticks": ""
             }
            },
            "type": "parcoords"
           }
          ],
          "pie": [
           {
            "automargin": true,
            "type": "pie"
           }
          ],
          "scatter": [
           {
            "fillpattern": {
             "fillmode": "overlay",
             "size": 10,
             "solidity": 0.2
            },
            "type": "scatter"
           }
          ],
          "scatter3d": [
           {
            "line": {
             "colorbar": {
              "outlinewidth": 0,
              "ticks": ""
             }
            },
            "marker": {
             "colorbar": {
              "outlinewidth": 0,
              "ticks": ""
             }
            },
            "type": "scatter3d"
           }
          ],
          "scattercarpet": [
           {
            "marker": {
             "colorbar": {
              "outlinewidth": 0,
              "ticks": ""
             }
            },
            "type": "scattercarpet"
           }
          ],
          "scattergeo": [
           {
            "marker": {
             "colorbar": {
              "outlinewidth": 0,
              "ticks": ""
             }
            },
            "type": "scattergeo"
           }
          ],
          "scattergl": [
           {
            "marker": {
             "colorbar": {
              "outlinewidth": 0,
              "ticks": ""
             }
            },
            "type": "scattergl"
           }
          ],
          "scattermap": [
           {
            "marker": {
             "colorbar": {
              "outlinewidth": 0,
              "ticks": ""
             }
            },
            "type": "scattermap"
           }
          ],
          "scattermapbox": [
           {
            "marker": {
             "colorbar": {
              "outlinewidth": 0,
              "ticks": ""
             }
            },
            "type": "scattermapbox"
           }
          ],
          "scatterpolar": [
           {
            "marker": {
             "colorbar": {
              "outlinewidth": 0,
              "ticks": ""
             }
            },
            "type": "scatterpolar"
           }
          ],
          "scatterpolargl": [
           {
            "marker": {
             "colorbar": {
              "outlinewidth": 0,
              "ticks": ""
             }
            },
            "type": "scatterpolargl"
           }
          ],
          "scatterternary": [
           {
            "marker": {
             "colorbar": {
              "outlinewidth": 0,
              "ticks": ""
             }
            },
            "type": "scatterternary"
           }
          ],
          "surface": [
           {
            "colorbar": {
             "outlinewidth": 0,
             "ticks": ""
            },
            "colorscale": [
             [
              0,
              "#0d0887"
             ],
             [
              0.1111111111111111,
              "#46039f"
             ],
             [
              0.2222222222222222,
              "#7201a8"
             ],
             [
              0.3333333333333333,
              "#9c179e"
             ],
             [
              0.4444444444444444,
              "#bd3786"
             ],
             [
              0.5555555555555556,
              "#d8576b"
             ],
             [
              0.6666666666666666,
              "#ed7953"
             ],
             [
              0.7777777777777778,
              "#fb9f3a"
             ],
             [
              0.8888888888888888,
              "#fdca26"
             ],
             [
              1,
              "#f0f921"
             ]
            ],
            "type": "surface"
           }
          ],
          "table": [
           {
            "cells": {
             "fill": {
              "color": "#EBF0F8"
             },
             "line": {
              "color": "white"
             }
            },
            "header": {
             "fill": {
              "color": "#C8D4E3"
             },
             "line": {
              "color": "white"
             }
            },
            "type": "table"
           }
          ]
         },
         "layout": {
          "annotationdefaults": {
           "arrowcolor": "#2a3f5f",
           "arrowhead": 0,
           "arrowwidth": 1
          },
          "autotypenumbers": "strict",
          "coloraxis": {
           "colorbar": {
            "outlinewidth": 0,
            "ticks": ""
           }
          },
          "colorscale": {
           "diverging": [
            [
             0,
             "#8e0152"
            ],
            [
             0.1,
             "#c51b7d"
            ],
            [
             0.2,
             "#de77ae"
            ],
            [
             0.3,
             "#f1b6da"
            ],
            [
             0.4,
             "#fde0ef"
            ],
            [
             0.5,
             "#f7f7f7"
            ],
            [
             0.6,
             "#e6f5d0"
            ],
            [
             0.7,
             "#b8e186"
            ],
            [
             0.8,
             "#7fbc41"
            ],
            [
             0.9,
             "#4d9221"
            ],
            [
             1,
             "#276419"
            ]
           ],
           "sequential": [
            [
             0,
             "#0d0887"
            ],
            [
             0.1111111111111111,
             "#46039f"
            ],
            [
             0.2222222222222222,
             "#7201a8"
            ],
            [
             0.3333333333333333,
             "#9c179e"
            ],
            [
             0.4444444444444444,
             "#bd3786"
            ],
            [
             0.5555555555555556,
             "#d8576b"
            ],
            [
             0.6666666666666666,
             "#ed7953"
            ],
            [
             0.7777777777777778,
             "#fb9f3a"
            ],
            [
             0.8888888888888888,
             "#fdca26"
            ],
            [
             1,
             "#f0f921"
            ]
           ],
           "sequentialminus": [
            [
             0,
             "#0d0887"
            ],
            [
             0.1111111111111111,
             "#46039f"
            ],
            [
             0.2222222222222222,
             "#7201a8"
            ],
            [
             0.3333333333333333,
             "#9c179e"
            ],
            [
             0.4444444444444444,
             "#bd3786"
            ],
            [
             0.5555555555555556,
             "#d8576b"
            ],
            [
             0.6666666666666666,
             "#ed7953"
            ],
            [
             0.7777777777777778,
             "#fb9f3a"
            ],
            [
             0.8888888888888888,
             "#fdca26"
            ],
            [
             1,
             "#f0f921"
            ]
           ]
          },
          "colorway": [
           "#636efa",
           "#EF553B",
           "#00cc96",
           "#ab63fa",
           "#FFA15A",
           "#19d3f3",
           "#FF6692",
           "#B6E880",
           "#FF97FF",
           "#FECB52"
          ],
          "font": {
           "color": "#2a3f5f"
          },
          "geo": {
           "bgcolor": "white",
           "lakecolor": "white",
           "landcolor": "white",
           "showlakes": true,
           "showland": true,
           "subunitcolor": "#C8D4E3"
          },
          "hoverlabel": {
           "align": "left"
          },
          "hovermode": "closest",
          "mapbox": {
           "style": "light"
          },
          "paper_bgcolor": "white",
          "plot_bgcolor": "white",
          "polar": {
           "angularaxis": {
            "gridcolor": "#EBF0F8",
            "linecolor": "#EBF0F8",
            "ticks": ""
           },
           "bgcolor": "white",
           "radialaxis": {
            "gridcolor": "#EBF0F8",
            "linecolor": "#EBF0F8",
            "ticks": ""
           }
          },
          "scene": {
           "xaxis": {
            "backgroundcolor": "white",
            "gridcolor": "#DFE8F3",
            "gridwidth": 2,
            "linecolor": "#EBF0F8",
            "showbackground": true,
            "ticks": "",
            "zerolinecolor": "#EBF0F8"
           },
           "yaxis": {
            "backgroundcolor": "white",
            "gridcolor": "#DFE8F3",
            "gridwidth": 2,
            "linecolor": "#EBF0F8",
            "showbackground": true,
            "ticks": "",
            "zerolinecolor": "#EBF0F8"
           },
           "zaxis": {
            "backgroundcolor": "white",
            "gridcolor": "#DFE8F3",
            "gridwidth": 2,
            "linecolor": "#EBF0F8",
            "showbackground": true,
            "ticks": "",
            "zerolinecolor": "#EBF0F8"
           }
          },
          "shapedefaults": {
           "line": {
            "color": "#2a3f5f"
           }
          },
          "ternary": {
           "aaxis": {
            "gridcolor": "#DFE8F3",
            "linecolor": "#A2B1C6",
            "ticks": ""
           },
           "baxis": {
            "gridcolor": "#DFE8F3",
            "linecolor": "#A2B1C6",
            "ticks": ""
           },
           "bgcolor": "white",
           "caxis": {
            "gridcolor": "#DFE8F3",
            "linecolor": "#A2B1C6",
            "ticks": ""
           }
          },
          "title": {
           "x": 0.05
          },
          "xaxis": {
           "automargin": true,
           "gridcolor": "#EBF0F8",
           "linecolor": "#EBF0F8",
           "ticks": "",
           "title": {
            "standoff": 15
           },
           "zerolinecolor": "#EBF0F8",
           "zerolinewidth": 2
          },
          "yaxis": {
           "automargin": true,
           "gridcolor": "#EBF0F8",
           "linecolor": "#EBF0F8",
           "ticks": "",
           "title": {
            "standoff": 15
           },
           "zerolinecolor": "#EBF0F8",
           "zerolinewidth": 2
          }
         }
        },
        "title": {
         "text": "Correlation Between Country Portfolios"
        },
        "width": 900,
        "xaxis": {
         "anchor": "y",
         "constrain": "domain",
         "domain": [
          0,
          1
         ],
         "scaleanchor": "y",
         "title": {
          "text": "Country"
         }
        },
        "yaxis": {
         "anchor": "x",
         "autorange": "reversed",
         "constrain": "domain",
         "domain": [
          0,
          1
         ],
         "title": {
          "text": "Country"
         }
        }
       }
      }
     },
     "metadata": {},
     "output_type": "display_data"
    }
   ],
   "source": [
    "country_corr = country_rets.corr()\n",
    "country_corr.to_csv(\"outputs/country_portfolio_correlations.csv\")\n",
    "country_corr\n",
    "# --- Compute and export correlation matrix ---\n",
    "country_corr = country_rets.corr()\n",
    "country_corr.to_csv(OUT_DIR / \"country_portfolio_correlations.csv\")\n",
    "\n",
    "# --- Plot interactive heatmap ---\n",
    "fig = px.imshow(\n",
    "    country_corr,\n",
    "    text_auto=\".2f\",\n",
    "    color_continuous_scale=\"RdBu_r\",\n",
    "    zmin=-1, zmax=1,\n",
    "    title=\"Correlation Between Country Portfolios\",\n",
    ")\n",
    "\n",
    "fig.update_layout(\n",
    "    template=\"plotly_white\",\n",
    "    width=900,\n",
    "    height=700,\n",
    "    xaxis_title=\"Country\",\n",
    "    yaxis_title=\"Country\"\n",
    ")\n",
    "\n",
    "# --- Save visual outputs ---\n",
    "fig.write_html(FIG_DIR / \"country_corr_heatmap.html\")\n",
    "fig.write_image(FIG_DIR / \"country_corr_heatmap.pdf\")\n",
    "\n",
    "fig.show()"
   ]
  },
  {
   "cell_type": "markdown",
   "id": "c4d170cb",
   "metadata": {},
   "source": [
    "### 4) (Optional) Rolling 12-month correlations between two countries"
   ]
  },
  {
   "cell_type": "code",
   "execution_count": 35,
   "id": "943c8a95",
   "metadata": {},
   "outputs": [],
   "source": [
    "c1, c2 = \"China\", \"Germany\"   # change as needed\n",
    "rolling_corr = (country_rets[c1].rolling(12).corr(country_rets[c2])\n",
    "                               .dropna())\n",
    "rolling_corr.to_csv(\"outputs/rolling_corr_12m_{}_{}.csv\".format(c1, c2))\n"
   ]
  },
  {
   "cell_type": "markdown",
   "id": "af857ab5",
   "metadata": {},
   "source": [
    "### 5) (Optional) Cap-weighted within each country (if you have market caps)"
   ]
  },
  {
   "cell_type": "code",
   "execution_count": 36,
   "id": "0b4b4d4f",
   "metadata": {},
   "outputs": [
    {
     "name": "stdout",
     "output_type": "stream",
     "text": [
      "✓ Retrieved 34 valid market caps out of 34 tickers.\n",
      "country_rets_cap shape: (60, 11)\n",
      "country_corr_cap shape: (11, 11)\n"
     ]
    },
    {
     "name": "stderr",
     "output_type": "stream",
     "text": [
      "/var/folders/7x/pd53f7tx0jl5lyy8g87z1qqw0000gn/T/ipykernel_3314/3111319913.py:22: DeprecationWarning:\n",
      "\n",
      "DataFrameGroupBy.apply operated on the grouping columns. This behavior is deprecated, and in a future version of pandas the grouping columns will be excluded from the operation. Either pass `include_groups=False` to exclude the groupings or explicitly select the grouping columns after groupby to silence this warning.\n",
      "\n"
     ]
    }
   ],
   "source": [
    "# ---  Ensure ticker_meta has Ticker + Country ---\n",
    "tm = (ticker_meta.dropna(subset=[\"Ticker\",\"Country\"])\n",
    "                  .assign(Ticker=lambda d: d[\"Ticker\"].str.strip().str.upper())\n",
    "                  .drop_duplicates([\"Country\",\"Ticker\"]))\n",
    "\n",
    "# --- Fetch market caps (if you don’t already have them) ---\n",
    "caps = []\n",
    "for t in tm[\"Ticker\"].unique():\n",
    "    try:\n",
    "        info = yf.Ticker(t).info\n",
    "        cap = info.get(\"marketCap\", np.nan)\n",
    "        caps.append({\"Ticker\": t, \"MarketCap\": cap})\n",
    "    except Exception:\n",
    "        pass\n",
    "cap_df = pd.DataFrame(caps).dropna(subset=[\"MarketCap\"])\n",
    "print(f\"✓ Retrieved {len(cap_df)} valid market caps out of {len(tm)} tickers.\")\n",
    "\n",
    "# --- Merge and compute within-country cap weights ---\n",
    "w_cap = (\n",
    "    tm.merge(cap_df, on=\"Ticker\", how=\"inner\")\n",
    "      .groupby(\"Country\")\n",
    "      .apply(lambda g: g.assign(Weight=g[\"MarketCap\"] / g[\"MarketCap\"].sum()))\n",
    "      .reset_index(drop=True)[[\"Country\",\"Ticker\",\"Weight\"]]\n",
    ")\n",
    "\n",
    "# ---  Build weight matrix Countries × Tickers ---\n",
    "W_cap = (\n",
    "    w_cap.pivot(index=\"Country\", columns=\"Ticker\", values=\"Weight\")\n",
    "         .reindex(columns=rets_m.columns, fill_value=0.0)\n",
    ")\n",
    "W_cap = W_cap.div(W_cap.sum(axis=1), axis=0).fillna(0.0)\n",
    "\n",
    "# ---  Compute country cap-weighted monthly returns ---\n",
    "country_rets_cap = rets_m.dot(W_cap.T)\n",
    "country_corr_cap = country_rets_cap.corr()\n",
    "\n",
    "# ---  Optional: export ---\n",
    "# country_rets_cap.to_csv(OUT_DIR / \"country_rets_cap_weighted.csv\")\n",
    "# country_corr_cap.to_csv(OUT_DIR / \"country_corr_cap_weighted.csv\")\n",
    "\n",
    "print(\"country_rets_cap shape:\", country_rets_cap.shape)\n",
    "print(\"country_corr_cap shape:\", country_corr_cap.shape)\n",
    "\n"
   ]
  },
  {
   "cell_type": "markdown",
   "id": "dc0c9f10",
   "metadata": {},
   "source": [
    "### 6) (Optional) Portfolio across countries with your own country weights"
   ]
  },
  {
   "cell_type": "code",
   "execution_count": 37,
   "id": "7978f822",
   "metadata": {},
   "outputs": [
    {
     "name": "stdout",
     "output_type": "stream",
     "text": [
      "Custom Portfolio → Annualised Return=15.01%, Volatility=23.15%, Sharpe(0%)=0.65\n"
     ]
    }
   ],
   "source": [
    "# --- Custom country blend: e.g., 60% Germany, 40% China ---\n",
    "country_weights = pd.Series({\"Germany\": 0.6, \"China\": 0.4}, name=\"w\")\n",
    "country_weights = country_weights / country_weights.sum()\n",
    "\n",
    "# Align weights to available countries in country_rets\n",
    "valid_countries = [c for c in country_weights.index if c in country_rets.columns]\n",
    "country_weights = country_weights.loc[valid_countries]\n",
    "\n",
    "# Compute portfolio monthly returns\n",
    "portfolio_rets = country_rets[valid_countries].mul(country_weights, axis=1).sum(axis=1)\n",
    "\n",
    "# Optional: annualised stats\n",
    "freq = 12\n",
    "ann_ret = portfolio_rets.mean() * freq\n",
    "ann_vol = portfolio_rets.std(ddof=1) * np.sqrt(freq)\n",
    "sharpe = ann_ret / ann_vol\n",
    "\n",
    "print(f\"Custom Portfolio → Annualised Return={ann_ret:.2%}, Volatility={ann_vol:.2%}, Sharpe(0%)={sharpe:.2f}\")\n",
    "\n"
   ]
  },
  {
   "cell_type": "code",
   "execution_count": 41,
   "id": "aefb0888",
   "metadata": {},
   "outputs": [
    {
     "name": "stderr",
     "output_type": "stream",
     "text": [
      "/var/folders/7x/pd53f7tx0jl5lyy8g87z1qqw0000gn/T/ipykernel_3314/3890093356.py:51: FutureWarning:\n",
      "\n",
      "DataFrame.groupby with axis=1 is deprecated. Do `frame.T.groupby(...)` without axis instead.\n",
      "\n"
     ]
    },
    {
     "data": {
      "application/vnd.plotly.v1+json": {
       "config": {
        "plotlyServerURL": "https://plot.ly"
       },
       "data": [
        {
         "hovertemplate": "Country=India<br>Date=%{x}<br>Index Level (Start = 100)=%{y}<extra></extra>",
         "legendgroup": "India",
         "line": {
          "color": "#780000",
          "dash": "solid"
         },
         "marker": {
          "symbol": "circle"
         },
         "mode": "lines",
         "name": "India",
         "orientation": "v",
         "showlegend": true,
         "type": "scatter",
         "x": [
          "2020-11-30T00:00:00",
          "2020-12-31T00:00:00",
          "2021-01-31T00:00:00",
          "2021-02-28T00:00:00",
          "2021-03-31T00:00:00",
          "2021-04-30T00:00:00",
          "2021-05-31T00:00:00",
          "2021-06-30T00:00:00",
          "2021-07-31T00:00:00",
          "2021-08-31T00:00:00",
          "2021-09-30T00:00:00",
          "2021-10-31T00:00:00",
          "2021-11-30T00:00:00",
          "2021-12-31T00:00:00",
          "2022-01-31T00:00:00",
          "2022-02-28T00:00:00",
          "2022-03-31T00:00:00",
          "2022-04-30T00:00:00",
          "2022-05-31T00:00:00",
          "2022-06-30T00:00:00",
          "2022-07-31T00:00:00",
          "2022-08-31T00:00:00",
          "2022-09-30T00:00:00",
          "2022-10-31T00:00:00",
          "2022-11-30T00:00:00",
          "2022-12-31T00:00:00",
          "2023-01-31T00:00:00",
          "2023-02-28T00:00:00",
          "2023-03-31T00:00:00",
          "2023-04-30T00:00:00",
          "2023-05-31T00:00:00",
          "2023-06-30T00:00:00",
          "2023-07-31T00:00:00",
          "2023-08-31T00:00:00",
          "2023-09-30T00:00:00",
          "2023-10-31T00:00:00",
          "2023-11-30T00:00:00",
          "2023-12-31T00:00:00",
          "2024-01-31T00:00:00",
          "2024-02-29T00:00:00",
          "2024-03-31T00:00:00",
          "2024-04-30T00:00:00",
          "2024-05-31T00:00:00",
          "2024-06-30T00:00:00",
          "2024-07-31T00:00:00",
          "2024-08-31T00:00:00",
          "2024-09-30T00:00:00",
          "2024-10-31T00:00:00",
          "2024-11-30T00:00:00",
          "2024-12-31T00:00:00",
          "2025-01-31T00:00:00",
          "2025-02-28T00:00:00",
          "2025-03-31T00:00:00",
          "2025-04-30T00:00:00",
          "2025-05-31T00:00:00",
          "2025-06-30T00:00:00",
          "2025-07-31T00:00:00",
          "2025-08-31T00:00:00",
          "2025-09-30T00:00:00",
          "2025-10-31T00:00:00"
         ],
         "xaxis": "x",
         "y": {
          "bdata": "Zfm63iqWX0CAC3r7QsFfQEGIq916zmJAw+i5pXcoZEDpppC9juhjQOUQyFin6WJAVzvDqdOSZEBFiWlhp8BkQL7NiclzOWNAt6CBF5XuY0BN+fBEi1plQDw2OmIzgWhAx9eGhS1BZ0DL94budmVoQOqTyN4NomlA78FAdmt8Z0AN1pKY8+NmQDneH9vQlmhA0HiuSsAqakDupl6gxRRqQEyspoy0eGxA14bAb8f7bkAlvEH/AituQJYZ6y15f29AXzy7MN3XbkAq6DB5DnBsQGjiWHTAF29AnOTTqGkNbUCmdWs9F7hrQFZvxYJ1xm5AhSXzv0XJcEAXrHrxF/RxQDoOdVTkQXJAO1lxZK5GckBxrys0GLFyQFD52iD0BHJAHwZ8vRujdEDzvYScKyF2QPHEZYMRPnZAogEYxiz3d0Dgh4i5hcF4QAH7mabgE3tAfNXT3o0MfEAXBCj6IgN+QH6HofzKRIBAo2JL35XYf0B4TGypxcZ/QEmwnR+it3xAyzq6D6/hfEACAkPslG18QAQFymMxzHxAc2GPTvFweUAYXYU9/3V7QFJ2WPtZVHxA5sjtRPAwfUDtjzen7ht+QKO/d9YGmX1AlBduoVrrfkCm3ruRpqyAQIkytmeufH1A",
          "dtype": "f8"
         },
         "yaxis": "y"
        },
        {
         "hovertemplate": "Country=Japan<br>Date=%{x}<br>Index Level (Start = 100)=%{y}<extra></extra>",
         "legendgroup": "Japan",
         "line": {
          "color": "#1D3557",
          "dash": "solid"
         },
         "marker": {
          "symbol": "circle"
         },
         "mode": "lines",
         "name": "Japan",
         "orientation": "v",
         "showlegend": true,
         "type": "scatter",
         "x": [
          "2020-11-30T00:00:00",
          "2020-12-31T00:00:00",
          "2021-01-31T00:00:00",
          "2021-02-28T00:00:00",
          "2021-03-31T00:00:00",
          "2021-04-30T00:00:00",
          "2021-05-31T00:00:00",
          "2021-06-30T00:00:00",
          "2021-07-31T00:00:00",
          "2021-08-31T00:00:00",
          "2021-09-30T00:00:00",
          "2021-10-31T00:00:00",
          "2021-11-30T00:00:00",
          "2021-12-31T00:00:00",
          "2022-01-31T00:00:00",
          "2022-02-28T00:00:00",
          "2022-03-31T00:00:00",
          "2022-04-30T00:00:00",
          "2022-05-31T00:00:00",
          "2022-06-30T00:00:00",
          "2022-07-31T00:00:00",
          "2022-08-31T00:00:00",
          "2022-09-30T00:00:00",
          "2022-10-31T00:00:00",
          "2022-11-30T00:00:00",
          "2022-12-31T00:00:00",
          "2023-01-31T00:00:00",
          "2023-02-28T00:00:00",
          "2023-03-31T00:00:00",
          "2023-04-30T00:00:00",
          "2023-05-31T00:00:00",
          "2023-06-30T00:00:00",
          "2023-07-31T00:00:00",
          "2023-08-31T00:00:00",
          "2023-09-30T00:00:00",
          "2023-10-31T00:00:00",
          "2023-11-30T00:00:00",
          "2023-12-31T00:00:00",
          "2024-01-31T00:00:00",
          "2024-02-29T00:00:00",
          "2024-03-31T00:00:00",
          "2024-04-30T00:00:00",
          "2024-05-31T00:00:00",
          "2024-06-30T00:00:00",
          "2024-07-31T00:00:00",
          "2024-08-31T00:00:00",
          "2024-09-30T00:00:00",
          "2024-10-31T00:00:00",
          "2024-11-30T00:00:00",
          "2024-12-31T00:00:00",
          "2025-01-31T00:00:00",
          "2025-02-28T00:00:00",
          "2025-03-31T00:00:00",
          "2025-04-30T00:00:00",
          "2025-05-31T00:00:00",
          "2025-06-30T00:00:00",
          "2025-07-31T00:00:00",
          "2025-08-31T00:00:00",
          "2025-09-30T00:00:00",
          "2025-10-31T00:00:00"
         ],
         "xaxis": "x",
         "y": {
          "bdata": "paLopmMNXUClF0ViS/leQPpD3XrWL19AJYfKrGLQYEAfc8yCFYxiQHasqrVfQWFAIjdzLJd7YkCQZd3ZKcliQOhAHu/JxGJAoN0+lJcMYkApRksPP+diQAgEMQ4dzmNAW0Xf2O2XYkD7NET92VViQH7ua6FuC2NAe2TEnOEMYkCAONT9wO9iQPCqqhqUmmJA1hZlHCZjY0CMHGi69UBkQHybV3I7RmRAXhhJWDMiZkCWUkVQSJRjQKZwjwNB9GRAvOJUdGdTZkAtGdCVWqNjQEgOrI/+32RA+fmhGNdQZkAxtHz/EWNmQIB3hZ+RbmZA7L3iBJi7ZkBx9ZlcOBlqQBRIl+pLQ2tAHNC257zYa0C2PCyR69ptQCeX0NNFS2pA0aQY5m17a0DQG1n9eapqQOiXkE12C25AwNIamR0Yb0B1Myx2AXlwQAx9ksugm3BA3NQYzEMCcEBYSzBIF3RvQIhEs5+GGW1AgzbUTy/takAEIMIliJ5pQGpbj8+pCmtAcvq2n3q/aEBb+jvX2nhtQMQ7ZZppaGxAhu4EBh8Qa0BUrtCr4lpqQGHfHetPh2lA7Rae7rnWakAjwDHfGsFpQE0dmRNkempA/CIhyfv8a0B38ETJkzltQKk2+OmWKW1A",
          "dtype": "f8"
         },
         "yaxis": "y"
        },
        {
         "hovertemplate": "Country=United States<br>Date=%{x}<br>Index Level (Start = 100)=%{y}<extra></extra>",
         "legendgroup": "United States",
         "line": {
          "color": "#A8DADC",
          "dash": "solid"
         },
         "marker": {
          "symbol": "circle"
         },
         "mode": "lines",
         "name": "United States",
         "orientation": "v",
         "showlegend": true,
         "type": "scatter",
         "x": [
          "2020-11-30T00:00:00",
          "2020-12-31T00:00:00",
          "2021-01-31T00:00:00",
          "2021-02-28T00:00:00",
          "2021-03-31T00:00:00",
          "2021-04-30T00:00:00",
          "2021-05-31T00:00:00",
          "2021-06-30T00:00:00",
          "2021-07-31T00:00:00",
          "2021-08-31T00:00:00",
          "2021-09-30T00:00:00",
          "2021-10-31T00:00:00",
          "2021-11-30T00:00:00",
          "2021-12-31T00:00:00",
          "2022-01-31T00:00:00",
          "2022-02-28T00:00:00",
          "2022-03-31T00:00:00",
          "2022-04-30T00:00:00",
          "2022-05-31T00:00:00",
          "2022-06-30T00:00:00",
          "2022-07-31T00:00:00",
          "2022-08-31T00:00:00",
          "2022-09-30T00:00:00",
          "2022-10-31T00:00:00",
          "2022-11-30T00:00:00",
          "2022-12-31T00:00:00",
          "2023-01-31T00:00:00",
          "2023-02-28T00:00:00",
          "2023-03-31T00:00:00",
          "2023-04-30T00:00:00",
          "2023-05-31T00:00:00",
          "2023-06-30T00:00:00",
          "2023-07-31T00:00:00",
          "2023-08-31T00:00:00",
          "2023-09-30T00:00:00",
          "2023-10-31T00:00:00",
          "2023-11-30T00:00:00",
          "2023-12-31T00:00:00",
          "2024-01-31T00:00:00",
          "2024-02-29T00:00:00",
          "2024-03-31T00:00:00",
          "2024-04-30T00:00:00",
          "2024-05-31T00:00:00",
          "2024-06-30T00:00:00",
          "2024-07-31T00:00:00",
          "2024-08-31T00:00:00",
          "2024-09-30T00:00:00",
          "2024-10-31T00:00:00",
          "2024-11-30T00:00:00",
          "2024-12-31T00:00:00",
          "2025-01-31T00:00:00",
          "2025-02-28T00:00:00",
          "2025-03-31T00:00:00",
          "2025-04-30T00:00:00",
          "2025-05-31T00:00:00",
          "2025-06-30T00:00:00",
          "2025-07-31T00:00:00",
          "2025-08-31T00:00:00",
          "2025-09-30T00:00:00",
          "2025-10-31T00:00:00"
         ],
         "xaxis": "x",
         "y": {
          "bdata": "EH5V8JuWX0AOp8lkI7dgQKpl0mXIPmRA6QbrfRW0ZEBsil/Al7plQL8dNMRxXWVAz7IGQ14aZkAmRkxd2/5lQMyI8xq8UmVASicRIY4VZEAyoWl4RQVkQKsUhkeY0mZAlhrLXeDIZkCLdGRgDWZnQG7n7adspmZARpT8+XM4ZEDNFqvz7gdlQIGkRxBqeWJAkKEyNr3TYkBEbbgMbs1fQMReyDoCAWNAQyDZaX9MYkBrZDu0RHpeQCtOWFjqKGJAPz+d8t1UYkBBIkLkVKNeQJ0NWAnFnWJAIHF98VqsY0AL2PWZBZ1kQH122JupOmNAgJThETB8Y0CsZbbnGuFnQDFMMfGaGmdAaGv15gUZZkBLYiM+qcNlQKNXvDyDN2JA9iVXFOuxZECvkhU63y9oQK5dzrICkmdAmaGvhvuzaEAXiMGGadlpQGnWEhUXp2hAxecz1wviaUAYllnTqYdqQPTCfLyanmtA2YyuhzMQa0DIz4+bbQlsQHgvT3kPKWxAYA0IVos5b0Aors8GyxduQFPGWZl8Pm5AGm2Srimza0B+Kfr1P+BpQDvLn1cVcWlAEhuO7ptFbEB/1d9EJaFsQPjJmXrdIm5AlsKigPrWbkBXOdM3kABxQDQBRL88CnFA",
          "dtype": "f8"
         },
         "yaxis": "y"
        },
        {
         "hovertemplate": "Country=Italy<br>Date=%{x}<br>Index Level (Start = 100)=%{y}<extra></extra>",
         "legendgroup": "Italy",
         "line": {
          "color": "#572523",
          "dash": "solid"
         },
         "marker": {
          "symbol": "circle"
         },
         "mode": "lines",
         "name": "Italy",
         "orientation": "v",
         "showlegend": true,
         "type": "scatter",
         "x": [
          "2020-11-30T00:00:00",
          "2020-12-31T00:00:00",
          "2021-01-31T00:00:00",
          "2021-02-28T00:00:00",
          "2021-03-31T00:00:00",
          "2021-04-30T00:00:00",
          "2021-05-31T00:00:00",
          "2021-06-30T00:00:00",
          "2021-07-31T00:00:00",
          "2021-08-31T00:00:00",
          "2021-09-30T00:00:00",
          "2021-10-31T00:00:00",
          "2021-11-30T00:00:00",
          "2021-12-31T00:00:00",
          "2022-01-31T00:00:00",
          "2022-02-28T00:00:00",
          "2022-03-31T00:00:00",
          "2022-04-30T00:00:00",
          "2022-05-31T00:00:00",
          "2022-06-30T00:00:00",
          "2022-07-31T00:00:00",
          "2022-08-31T00:00:00",
          "2022-09-30T00:00:00",
          "2022-10-31T00:00:00",
          "2022-11-30T00:00:00",
          "2022-12-31T00:00:00",
          "2023-01-31T00:00:00",
          "2023-02-28T00:00:00",
          "2023-03-31T00:00:00",
          "2023-04-30T00:00:00",
          "2023-05-31T00:00:00",
          "2023-06-30T00:00:00",
          "2023-07-31T00:00:00",
          "2023-08-31T00:00:00",
          "2023-09-30T00:00:00",
          "2023-10-31T00:00:00",
          "2023-11-30T00:00:00",
          "2023-12-31T00:00:00",
          "2024-01-31T00:00:00",
          "2024-02-29T00:00:00",
          "2024-03-31T00:00:00",
          "2024-04-30T00:00:00",
          "2024-05-31T00:00:00",
          "2024-06-30T00:00:00",
          "2024-07-31T00:00:00",
          "2024-08-31T00:00:00",
          "2024-09-30T00:00:00",
          "2024-10-31T00:00:00",
          "2024-11-30T00:00:00",
          "2024-12-31T00:00:00",
          "2025-01-31T00:00:00",
          "2025-02-28T00:00:00",
          "2025-03-31T00:00:00",
          "2025-04-30T00:00:00",
          "2025-05-31T00:00:00",
          "2025-06-30T00:00:00",
          "2025-07-31T00:00:00",
          "2025-08-31T00:00:00",
          "2025-09-30T00:00:00",
          "2025-10-31T00:00:00"
         ],
         "xaxis": "x",
         "y": {
          "bdata": "HWXUqJqUXUD9edo5fRRgQKmQj9SAK11AHXVBWxqoW0AmUGUa9lJdQCcx6hAWDF5AA3vPurCyXUBXoNZegANdQBGVhZy3vF5AI6KxtKKcXkCXCVxeKnJdQCqY/qeksmBAAfoEQGlWYkB/hzQ92jhiQHV4KJq3QmBA4vDUGUxRXkDav5QdgrVeQPeDBf84u11Aj3TGMDyjW0AC4DHHRgJaQCGPY8tK8V1Ad0NwkfyXW0DRC7qsbzlaQNB8yjCO5FtA4hBx8TmeX0AA42LPy11eQJGt2Nbfz2FA2Ra9W0N0YkDD/TmLDDRjQKFDgfMw5GNA0ztDtvB2ZEA/N8rqQzdnQODsFeAt32ZANJt9zL+uZkC9A4+WChllQLtWNwGFiGVAHsv3Ig2gaUDTbqHL3ChoQGpIMVW+sWhAJXp3Sb1SbkBDz1G63x5vQFT2fXC03W1AaFTakEKHbUCAx0ho41ZtQNOA47Q6rG1AWgIeCZLYcUBGEE5gN+NwQPWJbEtHGHFA/i1CMjoxb0BFtdJ0z4VuQBaKapR+yW5AJq+N/0SwcEATRxMhub1uQHNL2hJ2uHBApXiSbNtVcUBbZQHE58RxQG1r89/+DXBAgE8WQH1HcUAb09zmvJFxQAWJS3uH5mxA",
          "dtype": "f8"
         },
         "yaxis": "y"
        },
        {
         "hovertemplate": "Country=France<br>Date=%{x}<br>Index Level (Start = 100)=%{y}<extra></extra>",
         "legendgroup": "France",
         "line": {
          "color": "#e2caA8",
          "dash": "solid"
         },
         "marker": {
          "symbol": "circle"
         },
         "mode": "lines",
         "name": "France",
         "orientation": "v",
         "showlegend": true,
         "type": "scatter",
         "x": [
          "2020-11-30T00:00:00",
          "2020-12-31T00:00:00",
          "2021-01-31T00:00:00",
          "2021-02-28T00:00:00",
          "2021-03-31T00:00:00",
          "2021-04-30T00:00:00",
          "2021-05-31T00:00:00",
          "2021-06-30T00:00:00",
          "2021-07-31T00:00:00",
          "2021-08-31T00:00:00",
          "2021-09-30T00:00:00",
          "2021-10-31T00:00:00",
          "2021-11-30T00:00:00",
          "2021-12-31T00:00:00",
          "2022-01-31T00:00:00",
          "2022-02-28T00:00:00",
          "2022-03-31T00:00:00",
          "2022-04-30T00:00:00",
          "2022-05-31T00:00:00",
          "2022-06-30T00:00:00",
          "2022-07-31T00:00:00",
          "2022-08-31T00:00:00",
          "2022-09-30T00:00:00",
          "2022-10-31T00:00:00",
          "2022-11-30T00:00:00",
          "2022-12-31T00:00:00",
          "2023-01-31T00:00:00",
          "2023-02-28T00:00:00",
          "2023-03-31T00:00:00",
          "2023-04-30T00:00:00",
          "2023-05-31T00:00:00",
          "2023-06-30T00:00:00",
          "2023-07-31T00:00:00",
          "2023-08-31T00:00:00",
          "2023-09-30T00:00:00",
          "2023-10-31T00:00:00",
          "2023-11-30T00:00:00",
          "2023-12-31T00:00:00",
          "2024-01-31T00:00:00",
          "2024-02-29T00:00:00",
          "2024-03-31T00:00:00",
          "2024-04-30T00:00:00",
          "2024-05-31T00:00:00",
          "2024-06-30T00:00:00",
          "2024-07-31T00:00:00",
          "2024-08-31T00:00:00",
          "2024-09-30T00:00:00",
          "2024-10-31T00:00:00",
          "2024-11-30T00:00:00",
          "2024-12-31T00:00:00",
          "2025-01-31T00:00:00",
          "2025-02-28T00:00:00",
          "2025-03-31T00:00:00",
          "2025-04-30T00:00:00",
          "2025-05-31T00:00:00",
          "2025-06-30T00:00:00",
          "2025-07-31T00:00:00",
          "2025-08-31T00:00:00",
          "2025-09-30T00:00:00",
          "2025-10-31T00:00:00"
         ],
         "xaxis": "x",
         "y": {
          "bdata": "v4VPgrCdY0DJ6Vy5xAdlQHMHD3d7uWRAXzPTLUbVZUB1DM6Q6rdlQGFNLalIt2NAfG9HifTlY0AQDRrMlwtkQAN+okl01WJADZY5+uJ+YkBHVXlnVCtiQKErhqsrRGJAfmchrru8YEAEjxLQovZhQHqgz1WNiGRAz6+6HMfIYEDbD22d5RRcQDTlheyQultAgAJFoT8NXkCaujPJTftbQOlGvSyk52BAWGutA1HTYEDBRn5d9nJgQFSLxUm7VGJA4/gOcb54ZEBWFt0ZimRiQP4RP1yW5mVA1eoAsPr5aEBBD1E9yRxmQM+7m2QXx2NA0UDBdGqKYkDNGbwnLt1mQN0ikvozpmdABL0RK0sgZkA4fGqV7wlnQOfVZpMxlmNA38iwojxUZUBM/AJ4Dt9lQK3a+5+oyGRAvls8D5jVZkADUh52hbtrQI9L4IIts2tAIQh2wAV/cEBRRww1OXVtQJRxmDRSnGtA/JQ3VmRyakBroSEcKQJoQPhZ613gzGlAXWA1uOr0aEA2YWxEsfhsQJJCZ7KKkm5AVmRWCX6wbkBCaK4Z4KlsQJ1JtHp8tmxAVYpVJ59MbUB8Fq+Rl0NpQC6Ua7V2HmVAYpV4KJGxZUCMy6Cp6HdmQJHU+WEkNGZA",
          "dtype": "f8"
         },
         "yaxis": "y"
        },
        {
         "hovertemplate": "Country=Netherlands<br>Date=%{x}<br>Index Level (Start = 100)=%{y}<extra></extra>",
         "legendgroup": "Netherlands",
         "line": {
          "color": "#F4A261",
          "dash": "solid"
         },
         "marker": {
          "symbol": "circle"
         },
         "mode": "lines",
         "name": "Netherlands",
         "orientation": "v",
         "showlegend": true,
         "type": "scatter",
         "x": [
          "2020-11-30T00:00:00",
          "2020-12-31T00:00:00",
          "2021-01-31T00:00:00",
          "2021-02-28T00:00:00",
          "2021-03-31T00:00:00",
          "2021-04-30T00:00:00",
          "2021-05-31T00:00:00",
          "2021-06-30T00:00:00",
          "2021-07-31T00:00:00",
          "2021-08-31T00:00:00",
          "2021-09-30T00:00:00",
          "2021-10-31T00:00:00",
          "2021-11-30T00:00:00",
          "2021-12-31T00:00:00",
          "2022-01-31T00:00:00",
          "2022-02-28T00:00:00",
          "2022-03-31T00:00:00",
          "2022-04-30T00:00:00",
          "2022-05-31T00:00:00",
          "2022-06-30T00:00:00",
          "2022-07-31T00:00:00",
          "2022-08-31T00:00:00",
          "2022-09-30T00:00:00",
          "2022-10-31T00:00:00",
          "2022-11-30T00:00:00",
          "2022-12-31T00:00:00",
          "2023-01-31T00:00:00",
          "2023-02-28T00:00:00",
          "2023-03-31T00:00:00",
          "2023-04-30T00:00:00",
          "2023-05-31T00:00:00",
          "2023-06-30T00:00:00",
          "2023-07-31T00:00:00",
          "2023-08-31T00:00:00",
          "2023-09-30T00:00:00",
          "2023-10-31T00:00:00",
          "2023-11-30T00:00:00",
          "2023-12-31T00:00:00",
          "2024-01-31T00:00:00",
          "2024-02-29T00:00:00",
          "2024-03-31T00:00:00",
          "2024-04-30T00:00:00",
          "2024-05-31T00:00:00",
          "2024-06-30T00:00:00",
          "2024-07-31T00:00:00",
          "2024-08-31T00:00:00",
          "2024-09-30T00:00:00",
          "2024-10-31T00:00:00",
          "2024-11-30T00:00:00",
          "2024-12-31T00:00:00",
          "2025-01-31T00:00:00",
          "2025-02-28T00:00:00",
          "2025-03-31T00:00:00",
          "2025-04-30T00:00:00",
          "2025-05-31T00:00:00",
          "2025-06-30T00:00:00",
          "2025-07-31T00:00:00",
          "2025-08-31T00:00:00",
          "2025-09-30T00:00:00",
          "2025-10-31T00:00:00"
         ],
         "xaxis": "x",
         "y": {
          "bdata": "ndU2H2aOXEAtpoi21+1eQIignHsUPV9ApHlxdRc3YEBYVa43/yNhQJJE/cVRcWBAxrKgg1kdYkALpi0xcPNhQL0kjztTE2FAmwg/pc9fYUAekF3qeqlgQCAg/exuKGJA1Vc3XlNIYEAlyZiow61hQJ9pXmr3ZmJAOylTFiTWYUDCOU5xGX5gQIc54fN6MV5AvxhKzApzYEBUnq9Nvw9dQIqhbuY0h2BAbrM+3k9DX0DS2i0yxMJcQE8XEuWQh2BAf+CvYvqeYkCv8BykgGhhQOhHE4TRP2NAU6wbsJFLZEDzYRft5NJkQAFnLg4JAmVAHLUOybxeY0A7cd3YwuFmQEMNtn02L2lAdTnoyJBvZ0A/Dkqr4DBoQDQiUq5ajWdACY8+4PTLakDGFPKRqSdtQPJweQy9tmxAldlxXKOIcEBs00iIJSVyQBJYz5mH0W5AN8O0dCYLb0B86maczbJsQGlrTsdJ0WlAuNlpc2OaaUCApRDNZNpnQG6l/HI3KmhAxu8QQBFNaUCmverjoRNoQO4LX2bE8WhA6caGT+IuaECiFAM0h6JlQCKXR5++qmRA3CoTSxsUZkC48fWU4hlmQN+0Ggl2RmVAy81XkdlTZkD5m3OkVc5lQBEpi3ze02ZA",
          "dtype": "f8"
         },
         "yaxis": "y"
        },
        {
         "hovertemplate": "Country=Sweden<br>Date=%{x}<br>Index Level (Start = 100)=%{y}<extra></extra>",
         "legendgroup": "Sweden",
         "line": {
          "color": "#0b5d9e",
          "dash": "solid"
         },
         "marker": {
          "symbol": "circle"
         },
         "mode": "lines",
         "name": "Sweden",
         "orientation": "v",
         "showlegend": true,
         "type": "scatter",
         "x": [
          "2020-11-30T00:00:00",
          "2020-12-31T00:00:00",
          "2021-01-31T00:00:00",
          "2021-02-28T00:00:00",
          "2021-03-31T00:00:00",
          "2021-04-30T00:00:00",
          "2021-05-31T00:00:00",
          "2021-06-30T00:00:00",
          "2021-07-31T00:00:00",
          "2021-08-31T00:00:00",
          "2021-09-30T00:00:00",
          "2021-10-31T00:00:00",
          "2021-11-30T00:00:00",
          "2021-12-31T00:00:00",
          "2022-01-31T00:00:00",
          "2022-02-28T00:00:00",
          "2022-03-31T00:00:00",
          "2022-04-30T00:00:00",
          "2022-05-31T00:00:00",
          "2022-06-30T00:00:00",
          "2022-07-31T00:00:00",
          "2022-08-31T00:00:00",
          "2022-09-30T00:00:00",
          "2022-10-31T00:00:00",
          "2022-11-30T00:00:00",
          "2022-12-31T00:00:00",
          "2023-01-31T00:00:00",
          "2023-02-28T00:00:00",
          "2023-03-31T00:00:00",
          "2023-04-30T00:00:00",
          "2023-05-31T00:00:00",
          "2023-06-30T00:00:00",
          "2023-07-31T00:00:00",
          "2023-08-31T00:00:00",
          "2023-09-30T00:00:00",
          "2023-10-31T00:00:00",
          "2023-11-30T00:00:00",
          "2023-12-31T00:00:00",
          "2024-01-31T00:00:00",
          "2024-02-29T00:00:00",
          "2024-03-31T00:00:00",
          "2024-04-30T00:00:00",
          "2024-05-31T00:00:00",
          "2024-06-30T00:00:00",
          "2024-07-31T00:00:00",
          "2024-08-31T00:00:00",
          "2024-09-30T00:00:00",
          "2024-10-31T00:00:00",
          "2024-11-30T00:00:00",
          "2024-12-31T00:00:00",
          "2025-01-31T00:00:00",
          "2025-02-28T00:00:00",
          "2025-03-31T00:00:00",
          "2025-04-30T00:00:00",
          "2025-05-31T00:00:00",
          "2025-06-30T00:00:00",
          "2025-07-31T00:00:00",
          "2025-08-31T00:00:00",
          "2025-09-30T00:00:00",
          "2025-10-31T00:00:00"
         ],
         "xaxis": "x",
         "y": {
          "bdata": "mSvpezsgXEDbHLYJRftbQOLSDe3G211ARmf2/uo6X0DujIDo8eRfQHzQ6Q9PBWBAVBY0KorQYEC9QwFCJ69gQFELMYjPbWBAJ66dQuafX0CpUwtEju9fQAazHgQbM2BAfxWRaISrX0BkSbdf8fxgQGmSSNrm32BA55KC3JnIXUBmr4IHuJ5cQNJBp2CNzFtAs16VT2UDXkDtrll128lbQD/j47wE219APulQInKzXUB30NXcYbxbQCC8afnhuF9AN0O3B4bXYEDu6o5+64hgQAgq4iN6JWJAGRN+mbpnYkCY2jI2r8JiQK0rbkTzxmNAcNSqAJDJYkBQqjyS9+tkQPw3VQZUxWVApOuiMrzAZEBfhSziaSplQBq9hYeHuWRA6tqxyVPSZkBGhru8dI1oQEaGJKMLcmdAbW64sni/akC+5fk4r9lsQCzDXrwbL2xAfna5IncLbEAlGrkq9vVqQLNsIY34LWtANTmrdiYca0DV509gIaxqQJmgwz+IhGtA4aiV3LACa0DCarFEULZqQMMNri5OgG5APctwnPCOcEA89iqDmyhtQEaSH7+d4WtAtuRGzU87bEB6qpCwuC1sQMAf4MIs221AsETeaNPibkADn6xzKZ1sQN558KZ4RGpA",
          "dtype": "f8"
         },
         "yaxis": "y"
        },
        {
         "hovertemplate": "Country=Germany<br>Date=%{x}<br>Index Level (Start = 100)=%{y}<extra></extra>",
         "legendgroup": "Germany",
         "line": {
          "color": "#2A9D8F",
          "dash": "solid"
         },
         "marker": {
          "symbol": "circle"
         },
         "mode": "lines",
         "name": "Germany",
         "orientation": "v",
         "showlegend": true,
         "type": "scatter",
         "x": [
          "2020-11-30T00:00:00",
          "2020-12-31T00:00:00",
          "2021-01-31T00:00:00",
          "2021-02-28T00:00:00",
          "2021-03-31T00:00:00",
          "2021-04-30T00:00:00",
          "2021-05-31T00:00:00",
          "2021-06-30T00:00:00",
          "2021-07-31T00:00:00",
          "2021-08-31T00:00:00",
          "2021-09-30T00:00:00",
          "2021-10-31T00:00:00",
          "2021-11-30T00:00:00",
          "2021-12-31T00:00:00",
          "2022-01-31T00:00:00",
          "2022-02-28T00:00:00",
          "2022-03-31T00:00:00",
          "2022-04-30T00:00:00",
          "2022-05-31T00:00:00",
          "2022-06-30T00:00:00",
          "2022-07-31T00:00:00",
          "2022-08-31T00:00:00",
          "2022-09-30T00:00:00",
          "2022-10-31T00:00:00",
          "2022-11-30T00:00:00",
          "2022-12-31T00:00:00",
          "2023-01-31T00:00:00",
          "2023-02-28T00:00:00",
          "2023-03-31T00:00:00",
          "2023-04-30T00:00:00",
          "2023-05-31T00:00:00",
          "2023-06-30T00:00:00",
          "2023-07-31T00:00:00",
          "2023-08-31T00:00:00",
          "2023-09-30T00:00:00",
          "2023-10-31T00:00:00",
          "2023-11-30T00:00:00",
          "2023-12-31T00:00:00",
          "2024-01-31T00:00:00",
          "2024-02-29T00:00:00",
          "2024-03-31T00:00:00",
          "2024-04-30T00:00:00",
          "2024-05-31T00:00:00",
          "2024-06-30T00:00:00",
          "2024-07-31T00:00:00",
          "2024-08-31T00:00:00",
          "2024-09-30T00:00:00",
          "2024-10-31T00:00:00",
          "2024-11-30T00:00:00",
          "2024-12-31T00:00:00",
          "2025-01-31T00:00:00",
          "2025-02-28T00:00:00",
          "2025-03-31T00:00:00",
          "2025-04-30T00:00:00",
          "2025-05-31T00:00:00",
          "2025-06-30T00:00:00",
          "2025-07-31T00:00:00",
          "2025-08-31T00:00:00",
          "2025-09-30T00:00:00",
          "2025-10-31T00:00:00"
         ],
         "xaxis": "x",
         "y": {
          "bdata": "7e4ki/thXkAJRTUmBU5fQBh6shigUV9AoLEmtMsNYUCOwryvLGVlQOGHS9OzTGRAvTN5hctJZUDOAMZn7uJkQAhnjdhRb2RAeUgGgUypY0ACaK9o2hdkQLGUkgHaP2VAVQt3ng6qY0Cv5/Smc3BkQOh35VMiPmVA99aKDoeTZEBYyndUa4NiQHKd7+P1gWJA1S8/ZxAmZECEklGh/EBhQCHeHt0hYWJAnHfwc6wDYkCqwsY8XqlgQBmG9znHNWJAxn2czyLTY0C6EzdpXxNjQMrqmWC2GWVAXfl39GMHZkD/4wXUHuFlQNytfJT3x2VAc9OLpaUEZ0C6Z7h94qloQGotdZKqRGhAmEI2ll0yZkBcGtMe/q9lQJYhVPFsR2NAavoTVqLEZECOgEKfytZlQH8N0f7HG2ZA3vbWGcGoaEB2SSRxGVhoQFFRS0ivLWdAVOCFd2eZZ0AvX/WmDlJmQCNNAL6KjmVAubd9wAgKZUBxH7H2xRdkQHoUwIYGzmJAib23Rb+3YUBrZhrQ6iVjQCibR997cWRAHZAhNdhgZUAq6M+2mx9jQGNYKuNVGmNAfF4wu0fFZEBKhaoQ8bxjQJ7F/X3DtWRAydQ6KPA5ZkCHSrjx01llQOCVkadqy2RA",
          "dtype": "f8"
         },
         "yaxis": "y"
        },
        {
         "hovertemplate": "Country=China<br>Date=%{x}<br>Index Level (Start = 100)=%{y}<extra></extra>",
         "legendgroup": "China",
         "line": {
          "color": "#E76F51",
          "dash": "solid"
         },
         "marker": {
          "symbol": "circle"
         },
         "mode": "lines",
         "name": "China",
         "orientation": "v",
         "showlegend": true,
         "type": "scatter",
         "x": [
          "2020-11-30T00:00:00",
          "2020-12-31T00:00:00",
          "2021-01-31T00:00:00",
          "2021-02-28T00:00:00",
          "2021-03-31T00:00:00",
          "2021-04-30T00:00:00",
          "2021-05-31T00:00:00",
          "2021-06-30T00:00:00",
          "2021-07-31T00:00:00",
          "2021-08-31T00:00:00",
          "2021-09-30T00:00:00",
          "2021-10-31T00:00:00",
          "2021-11-30T00:00:00",
          "2021-12-31T00:00:00",
          "2022-01-31T00:00:00",
          "2022-02-28T00:00:00",
          "2022-03-31T00:00:00",
          "2022-04-30T00:00:00",
          "2022-05-31T00:00:00",
          "2022-06-30T00:00:00",
          "2022-07-31T00:00:00",
          "2022-08-31T00:00:00",
          "2022-09-30T00:00:00",
          "2022-10-31T00:00:00",
          "2022-11-30T00:00:00",
          "2022-12-31T00:00:00",
          "2023-01-31T00:00:00",
          "2023-02-28T00:00:00",
          "2023-03-31T00:00:00",
          "2023-04-30T00:00:00",
          "2023-05-31T00:00:00",
          "2023-06-30T00:00:00",
          "2023-07-31T00:00:00",
          "2023-08-31T00:00:00",
          "2023-09-30T00:00:00",
          "2023-10-31T00:00:00",
          "2023-11-30T00:00:00",
          "2023-12-31T00:00:00",
          "2024-01-31T00:00:00",
          "2024-02-29T00:00:00",
          "2024-03-31T00:00:00",
          "2024-04-30T00:00:00",
          "2024-05-31T00:00:00",
          "2024-06-30T00:00:00",
          "2024-07-31T00:00:00",
          "2024-08-31T00:00:00",
          "2024-09-30T00:00:00",
          "2024-10-31T00:00:00",
          "2024-11-30T00:00:00",
          "2024-12-31T00:00:00",
          "2025-01-31T00:00:00",
          "2025-02-28T00:00:00",
          "2025-03-31T00:00:00",
          "2025-04-30T00:00:00",
          "2025-05-31T00:00:00",
          "2025-06-30T00:00:00",
          "2025-07-31T00:00:00",
          "2025-08-31T00:00:00",
          "2025-09-30T00:00:00",
          "2025-10-31T00:00:00"
         ],
         "xaxis": "x",
         "y": {
          "bdata": "BnuitPoKX0ACCq/nlodhQOh38agCqWFAkQpIawu3XkDAvqTqyL1cQJtONsOqAF1AOJhXpMtNX0Dz+msM0ahhQJoX+e2K2mJA5sBxvlwhZUBXS0HnCuJiQARABy2D2WVA3nm/FcxDZUCtqc3zLDFjQEW8kqdkXGFAqd68aJERYUDrLMEIcvldQHvNdIyyCF1AHyeUfkT3YECu8R7C5jxiQNzsCNeZ2mBASFUBPBMjX0DXhx5+fnZaQGrxNzUv31hAVYkfLH8dXECfN0DwEHVbQB9BocN2Ml5ARFK7hE35XEB7hVOvp1BbQOpsUCwiPFtAR9+Z/XYwWUAsYoT4uKBbQFrMZm3Ukl5Ay4LhaZmzWkDS7WnlWS1bQJnrGqrGq1xAhsSIw6JqXECgyXvOPWxbQCB6xlpKYFdAXXs0yYUNWkCsEZ7ypxFaQKB14AprjVpAKVmViOGEWUDKerbpTQpZQOh5928wDllArJHuEwEGWEAJ5sNwCl9dQAfTx/bnDFtAPSlU50P0X0DewMYLkTBhQEHs3UENJF9AgH4TiBFsYkDELR4/mx9jQHDbWiBl5WFAAsJmafszYkBdND26KsJgQFT4Ln8shGJACOFTErPnZ0Apn0BAkelmQJNK/qPFD2ZA",
          "dtype": "f8"
         },
         "yaxis": "y"
        },
        {
         "hovertemplate": "Country=South Korea<br>Date=%{x}<br>Index Level (Start = 100)=%{y}<extra></extra>",
         "legendgroup": "South Korea",
         "line": {
          "color": "#1890ae",
          "dash": "solid"
         },
         "marker": {
          "symbol": "circle"
         },
         "mode": "lines",
         "name": "South Korea",
         "orientation": "v",
         "showlegend": true,
         "type": "scatter",
         "x": [
          "2020-11-30T00:00:00",
          "2020-12-31T00:00:00",
          "2021-01-31T00:00:00",
          "2021-02-28T00:00:00",
          "2021-03-31T00:00:00",
          "2021-04-30T00:00:00",
          "2021-05-31T00:00:00",
          "2021-06-30T00:00:00",
          "2021-07-31T00:00:00",
          "2021-08-31T00:00:00",
          "2021-09-30T00:00:00",
          "2021-10-31T00:00:00",
          "2021-11-30T00:00:00",
          "2021-12-31T00:00:00",
          "2022-01-31T00:00:00",
          "2022-02-28T00:00:00",
          "2022-03-31T00:00:00",
          "2022-04-30T00:00:00",
          "2022-05-31T00:00:00",
          "2022-06-30T00:00:00",
          "2022-07-31T00:00:00",
          "2022-08-31T00:00:00",
          "2022-09-30T00:00:00",
          "2022-10-31T00:00:00",
          "2022-11-30T00:00:00",
          "2022-12-31T00:00:00",
          "2023-01-31T00:00:00",
          "2023-02-28T00:00:00",
          "2023-03-31T00:00:00",
          "2023-04-30T00:00:00",
          "2023-05-31T00:00:00",
          "2023-06-30T00:00:00",
          "2023-07-31T00:00:00",
          "2023-08-31T00:00:00",
          "2023-09-30T00:00:00",
          "2023-10-31T00:00:00",
          "2023-11-30T00:00:00",
          "2023-12-31T00:00:00",
          "2024-01-31T00:00:00",
          "2024-02-29T00:00:00",
          "2024-03-31T00:00:00",
          "2024-04-30T00:00:00",
          "2024-05-31T00:00:00",
          "2024-06-30T00:00:00",
          "2024-07-31T00:00:00",
          "2024-08-31T00:00:00",
          "2024-09-30T00:00:00",
          "2024-10-31T00:00:00",
          "2024-11-30T00:00:00",
          "2024-12-31T00:00:00",
          "2025-01-31T00:00:00",
          "2025-02-28T00:00:00",
          "2025-03-31T00:00:00",
          "2025-04-30T00:00:00",
          "2025-05-31T00:00:00",
          "2025-06-30T00:00:00",
          "2025-07-31T00:00:00",
          "2025-08-31T00:00:00",
          "2025-09-30T00:00:00",
          "2025-10-31T00:00:00"
         ],
         "xaxis": "x",
         "y": {
          "bdata": "It8YW5YPWkCihbvD3hdZQD9btQZCZl1AKzSNiaFfXUCTMh2VLAVdQL3jR6bFEFxAGPMhXhUgXkBSNCkxWtReQOtUgD4EOF1AG3S1JNklXUBHrqqGjCFcQIKb76Dd9FxAM/YLtWiMW0D4Yb2M/D5dQBiHcBU+LFxAOYVu/7OaWkDBJIrMqfVaQPj09FVubFxARf4ShBDRXEBidTny6XdbQGhj3+R0t1xAx0SXqWKrXEBYrGFng6paQCIe5y2TXllAs6mnheXkWUCfFoKkPopYQInllcGWmlpAwaCtiJcPXEDyZ5KAOTRdQNIKmO3zM2JAiz5kOoKmYECzt5BefE5fQMvB4nmycV5Audsdr/JGX0A8r8m3qm9fQCnd1MLfGlxAs3oi8aQHX0ANuBVooUBhQEDnNKpqhmBAttB71bHmY0Ddc0jwCJJhQDks65R3KmJA/p1UFmxxYUBL5kLqn79iQGd+n6ED/WFAz+28PhHvYUAi1b8WQZFgQH/8k47mR11ARbc+EoLXXEBdSgleh2tcQO4N18XmMlxALyxfxKneXEB5+wxByQxcQGbRqUTl1VNA8Im6yDQAVEBLKL292mhVQEnjDYuLJlZAbLwyNK5QVkD93rjlKKpVQCFce2UQvldA",
          "dtype": "f8"
         },
         "yaxis": "y"
        }
       ],
       "layout": {
        "font": {
         "family": "Helvetica, Arial, sans-serif",
         "size": 13
        },
        "height": 700,
        "hovermode": "x unified",
        "legend": {
         "title": {
          "text": "Country"
         },
         "tracegroupgap": 0
        },
        "margin": {
         "b": 60,
         "l": 60,
         "r": 20,
         "t": 60
        },
        "template": {
         "data": {
          "bar": [
           {
            "error_x": {
             "color": "#2a3f5f"
            },
            "error_y": {
             "color": "#2a3f5f"
            },
            "marker": {
             "line": {
              "color": "white",
              "width": 0.5
             },
             "pattern": {
              "fillmode": "overlay",
              "size": 10,
              "solidity": 0.2
             }
            },
            "type": "bar"
           }
          ],
          "barpolar": [
           {
            "marker": {
             "line": {
              "color": "white",
              "width": 0.5
             },
             "pattern": {
              "fillmode": "overlay",
              "size": 10,
              "solidity": 0.2
             }
            },
            "type": "barpolar"
           }
          ],
          "carpet": [
           {
            "aaxis": {
             "endlinecolor": "#2a3f5f",
             "gridcolor": "#C8D4E3",
             "linecolor": "#C8D4E3",
             "minorgridcolor": "#C8D4E3",
             "startlinecolor": "#2a3f5f"
            },
            "baxis": {
             "endlinecolor": "#2a3f5f",
             "gridcolor": "#C8D4E3",
             "linecolor": "#C8D4E3",
             "minorgridcolor": "#C8D4E3",
             "startlinecolor": "#2a3f5f"
            },
            "type": "carpet"
           }
          ],
          "choropleth": [
           {
            "colorbar": {
             "outlinewidth": 0,
             "ticks": ""
            },
            "type": "choropleth"
           }
          ],
          "contour": [
           {
            "colorbar": {
             "outlinewidth": 0,
             "ticks": ""
            },
            "colorscale": [
             [
              0,
              "#0d0887"
             ],
             [
              0.1111111111111111,
              "#46039f"
             ],
             [
              0.2222222222222222,
              "#7201a8"
             ],
             [
              0.3333333333333333,
              "#9c179e"
             ],
             [
              0.4444444444444444,
              "#bd3786"
             ],
             [
              0.5555555555555556,
              "#d8576b"
             ],
             [
              0.6666666666666666,
              "#ed7953"
             ],
             [
              0.7777777777777778,
              "#fb9f3a"
             ],
             [
              0.8888888888888888,
              "#fdca26"
             ],
             [
              1,
              "#f0f921"
             ]
            ],
            "type": "contour"
           }
          ],
          "contourcarpet": [
           {
            "colorbar": {
             "outlinewidth": 0,
             "ticks": ""
            },
            "type": "contourcarpet"
           }
          ],
          "heatmap": [
           {
            "colorbar": {
             "outlinewidth": 0,
             "ticks": ""
            },
            "colorscale": [
             [
              0,
              "#0d0887"
             ],
             [
              0.1111111111111111,
              "#46039f"
             ],
             [
              0.2222222222222222,
              "#7201a8"
             ],
             [
              0.3333333333333333,
              "#9c179e"
             ],
             [
              0.4444444444444444,
              "#bd3786"
             ],
             [
              0.5555555555555556,
              "#d8576b"
             ],
             [
              0.6666666666666666,
              "#ed7953"
             ],
             [
              0.7777777777777778,
              "#fb9f3a"
             ],
             [
              0.8888888888888888,
              "#fdca26"
             ],
             [
              1,
              "#f0f921"
             ]
            ],
            "type": "heatmap"
           }
          ],
          "histogram": [
           {
            "marker": {
             "pattern": {
              "fillmode": "overlay",
              "size": 10,
              "solidity": 0.2
             }
            },
            "type": "histogram"
           }
          ],
          "histogram2d": [
           {
            "colorbar": {
             "outlinewidth": 0,
             "ticks": ""
            },
            "colorscale": [
             [
              0,
              "#0d0887"
             ],
             [
              0.1111111111111111,
              "#46039f"
             ],
             [
              0.2222222222222222,
              "#7201a8"
             ],
             [
              0.3333333333333333,
              "#9c179e"
             ],
             [
              0.4444444444444444,
              "#bd3786"
             ],
             [
              0.5555555555555556,
              "#d8576b"
             ],
             [
              0.6666666666666666,
              "#ed7953"
             ],
             [
              0.7777777777777778,
              "#fb9f3a"
             ],
             [
              0.8888888888888888,
              "#fdca26"
             ],
             [
              1,
              "#f0f921"
             ]
            ],
            "type": "histogram2d"
           }
          ],
          "histogram2dcontour": [
           {
            "colorbar": {
             "outlinewidth": 0,
             "ticks": ""
            },
            "colorscale": [
             [
              0,
              "#0d0887"
             ],
             [
              0.1111111111111111,
              "#46039f"
             ],
             [
              0.2222222222222222,
              "#7201a8"
             ],
             [
              0.3333333333333333,
              "#9c179e"
             ],
             [
              0.4444444444444444,
              "#bd3786"
             ],
             [
              0.5555555555555556,
              "#d8576b"
             ],
             [
              0.6666666666666666,
              "#ed7953"
             ],
             [
              0.7777777777777778,
              "#fb9f3a"
             ],
             [
              0.8888888888888888,
              "#fdca26"
             ],
             [
              1,
              "#f0f921"
             ]
            ],
            "type": "histogram2dcontour"
           }
          ],
          "mesh3d": [
           {
            "colorbar": {
             "outlinewidth": 0,
             "ticks": ""
            },
            "type": "mesh3d"
           }
          ],
          "parcoords": [
           {
            "line": {
             "colorbar": {
              "outlinewidth": 0,
              "ticks": ""
             }
            },
            "type": "parcoords"
           }
          ],
          "pie": [
           {
            "automargin": true,
            "type": "pie"
           }
          ],
          "scatter": [
           {
            "fillpattern": {
             "fillmode": "overlay",
             "size": 10,
             "solidity": 0.2
            },
            "type": "scatter"
           }
          ],
          "scatter3d": [
           {
            "line": {
             "colorbar": {
              "outlinewidth": 0,
              "ticks": ""
             }
            },
            "marker": {
             "colorbar": {
              "outlinewidth": 0,
              "ticks": ""
             }
            },
            "type": "scatter3d"
           }
          ],
          "scattercarpet": [
           {
            "marker": {
             "colorbar": {
              "outlinewidth": 0,
              "ticks": ""
             }
            },
            "type": "scattercarpet"
           }
          ],
          "scattergeo": [
           {
            "marker": {
             "colorbar": {
              "outlinewidth": 0,
              "ticks": ""
             }
            },
            "type": "scattergeo"
           }
          ],
          "scattergl": [
           {
            "marker": {
             "colorbar": {
              "outlinewidth": 0,
              "ticks": ""
             }
            },
            "type": "scattergl"
           }
          ],
          "scattermap": [
           {
            "marker": {
             "colorbar": {
              "outlinewidth": 0,
              "ticks": ""
             }
            },
            "type": "scattermap"
           }
          ],
          "scattermapbox": [
           {
            "marker": {
             "colorbar": {
              "outlinewidth": 0,
              "ticks": ""
             }
            },
            "type": "scattermapbox"
           }
          ],
          "scatterpolar": [
           {
            "marker": {
             "colorbar": {
              "outlinewidth": 0,
              "ticks": ""
             }
            },
            "type": "scatterpolar"
           }
          ],
          "scatterpolargl": [
           {
            "marker": {
             "colorbar": {
              "outlinewidth": 0,
              "ticks": ""
             }
            },
            "type": "scatterpolargl"
           }
          ],
          "scatterternary": [
           {
            "marker": {
             "colorbar": {
              "outlinewidth": 0,
              "ticks": ""
             }
            },
            "type": "scatterternary"
           }
          ],
          "surface": [
           {
            "colorbar": {
             "outlinewidth": 0,
             "ticks": ""
            },
            "colorscale": [
             [
              0,
              "#0d0887"
             ],
             [
              0.1111111111111111,
              "#46039f"
             ],
             [
              0.2222222222222222,
              "#7201a8"
             ],
             [
              0.3333333333333333,
              "#9c179e"
             ],
             [
              0.4444444444444444,
              "#bd3786"
             ],
             [
              0.5555555555555556,
              "#d8576b"
             ],
             [
              0.6666666666666666,
              "#ed7953"
             ],
             [
              0.7777777777777778,
              "#fb9f3a"
             ],
             [
              0.8888888888888888,
              "#fdca26"
             ],
             [
              1,
              "#f0f921"
             ]
            ],
            "type": "surface"
           }
          ],
          "table": [
           {
            "cells": {
             "fill": {
              "color": "#EBF0F8"
             },
             "line": {
              "color": "white"
             }
            },
            "header": {
             "fill": {
              "color": "#C8D4E3"
             },
             "line": {
              "color": "white"
             }
            },
            "type": "table"
           }
          ]
         },
         "layout": {
          "annotationdefaults": {
           "arrowcolor": "#2a3f5f",
           "arrowhead": 0,
           "arrowwidth": 1
          },
          "autotypenumbers": "strict",
          "coloraxis": {
           "colorbar": {
            "outlinewidth": 0,
            "ticks": ""
           }
          },
          "colorscale": {
           "diverging": [
            [
             0,
             "#8e0152"
            ],
            [
             0.1,
             "#c51b7d"
            ],
            [
             0.2,
             "#de77ae"
            ],
            [
             0.3,
             "#f1b6da"
            ],
            [
             0.4,
             "#fde0ef"
            ],
            [
             0.5,
             "#f7f7f7"
            ],
            [
             0.6,
             "#e6f5d0"
            ],
            [
             0.7,
             "#b8e186"
            ],
            [
             0.8,
             "#7fbc41"
            ],
            [
             0.9,
             "#4d9221"
            ],
            [
             1,
             "#276419"
            ]
           ],
           "sequential": [
            [
             0,
             "#0d0887"
            ],
            [
             0.1111111111111111,
             "#46039f"
            ],
            [
             0.2222222222222222,
             "#7201a8"
            ],
            [
             0.3333333333333333,
             "#9c179e"
            ],
            [
             0.4444444444444444,
             "#bd3786"
            ],
            [
             0.5555555555555556,
             "#d8576b"
            ],
            [
             0.6666666666666666,
             "#ed7953"
            ],
            [
             0.7777777777777778,
             "#fb9f3a"
            ],
            [
             0.8888888888888888,
             "#fdca26"
            ],
            [
             1,
             "#f0f921"
            ]
           ],
           "sequentialminus": [
            [
             0,
             "#0d0887"
            ],
            [
             0.1111111111111111,
             "#46039f"
            ],
            [
             0.2222222222222222,
             "#7201a8"
            ],
            [
             0.3333333333333333,
             "#9c179e"
            ],
            [
             0.4444444444444444,
             "#bd3786"
            ],
            [
             0.5555555555555556,
             "#d8576b"
            ],
            [
             0.6666666666666666,
             "#ed7953"
            ],
            [
             0.7777777777777778,
             "#fb9f3a"
            ],
            [
             0.8888888888888888,
             "#fdca26"
            ],
            [
             1,
             "#f0f921"
            ]
           ]
          },
          "colorway": [
           "#636efa",
           "#EF553B",
           "#00cc96",
           "#ab63fa",
           "#FFA15A",
           "#19d3f3",
           "#FF6692",
           "#B6E880",
           "#FF97FF",
           "#FECB52"
          ],
          "font": {
           "color": "#2a3f5f"
          },
          "geo": {
           "bgcolor": "white",
           "lakecolor": "white",
           "landcolor": "white",
           "showlakes": true,
           "showland": true,
           "subunitcolor": "#C8D4E3"
          },
          "hoverlabel": {
           "align": "left"
          },
          "hovermode": "closest",
          "mapbox": {
           "style": "light"
          },
          "paper_bgcolor": "white",
          "plot_bgcolor": "white",
          "polar": {
           "angularaxis": {
            "gridcolor": "#EBF0F8",
            "linecolor": "#EBF0F8",
            "ticks": ""
           },
           "bgcolor": "white",
           "radialaxis": {
            "gridcolor": "#EBF0F8",
            "linecolor": "#EBF0F8",
            "ticks": ""
           }
          },
          "scene": {
           "xaxis": {
            "backgroundcolor": "white",
            "gridcolor": "#DFE8F3",
            "gridwidth": 2,
            "linecolor": "#EBF0F8",
            "showbackground": true,
            "ticks": "",
            "zerolinecolor": "#EBF0F8"
           },
           "yaxis": {
            "backgroundcolor": "white",
            "gridcolor": "#DFE8F3",
            "gridwidth": 2,
            "linecolor": "#EBF0F8",
            "showbackground": true,
            "ticks": "",
            "zerolinecolor": "#EBF0F8"
           },
           "zaxis": {
            "backgroundcolor": "white",
            "gridcolor": "#DFE8F3",
            "gridwidth": 2,
            "linecolor": "#EBF0F8",
            "showbackground": true,
            "ticks": "",
            "zerolinecolor": "#EBF0F8"
           }
          },
          "shapedefaults": {
           "line": {
            "color": "#2a3f5f"
           }
          },
          "ternary": {
           "aaxis": {
            "gridcolor": "#DFE8F3",
            "linecolor": "#A2B1C6",
            "ticks": ""
           },
           "baxis": {
            "gridcolor": "#DFE8F3",
            "linecolor": "#A2B1C6",
            "ticks": ""
           },
           "bgcolor": "white",
           "caxis": {
            "gridcolor": "#DFE8F3",
            "linecolor": "#A2B1C6",
            "ticks": ""
           }
          },
          "title": {
           "x": 0.05
          },
          "xaxis": {
           "automargin": true,
           "gridcolor": "#EBF0F8",
           "linecolor": "#EBF0F8",
           "ticks": "",
           "title": {
            "standoff": 15
           },
           "zerolinecolor": "#EBF0F8",
           "zerolinewidth": 2
          },
          "yaxis": {
           "automargin": true,
           "gridcolor": "#EBF0F8",
           "linecolor": "#EBF0F8",
           "ticks": "",
           "title": {
            "standoff": 15
           },
           "zerolinecolor": "#EBF0F8",
           "zerolinewidth": 2
          }
         }
        },
        "title": {
         "font": {
          "size": 16
         },
         "text": "Top 10 Countries by Average Performance (Equal-Weight Index = 100)",
         "x": 0.5,
         "xanchor": "center"
        },
        "width": 900,
        "xaxis": {
         "anchor": "y",
         "domain": [
          0,
          1
         ],
         "title": {
          "text": "Date"
         }
        },
        "yaxis": {
         "anchor": "x",
         "domain": [
          0,
          1
         ],
         "title": {
          "text": "Index Level (Start = 100)"
         }
        }
       }
      }
     },
     "metadata": {},
     "output_type": "display_data"
    }
   ],
   "source": [
    "# ---------------------------------------------------------------\n",
    "# 0) Normalise ticker_meta\n",
    "# ---------------------------------------------------------------\n",
    "assert \"ticker_meta\" in globals(), \"ticker_meta DataFrame must exist.\"\n",
    "tm_raw = ticker_meta.copy()\n",
    "\n",
    "# Accept either 'Ticker' or 'Tickers'\n",
    "if \"Ticker\" not in tm_raw.columns:\n",
    "    assert \"Tickers\" in tm_raw.columns, \"Need either 'Ticker' or 'Tickers' column.\"\n",
    "    tm_raw[\"Ticker\"] = (\n",
    "        tm_raw[\"Tickers\"].astype(str).str.split(\",\").str[0].str.strip()\n",
    "    )\n",
    "\n",
    "# Require Country and Ticker; drop dup tickers\n",
    "tm = (tm_raw\n",
    "      .dropna(subset=[\"Ticker\", \"Country\"])\n",
    "      .assign(Ticker=lambda d: d[\"Ticker\"].astype(str).str.strip())\n",
    "      .drop_duplicates(subset=[\"Ticker\"])\n",
    "     )\n",
    "\n",
    "# ---------------------------------------------------------------\n",
    "# 1) Monthly returns (Close-to-Close) — equal-weighting later\n",
    "# ---------------------------------------------------------------\n",
    "if \"rets_m\" not in globals():\n",
    "    tickers = sorted(tm[\"Ticker\"].unique().tolist())\n",
    "    data = yf.download(tickers, period=\"5y\", auto_adjust=True, progress=False)\n",
    "    if isinstance(data, pd.DataFrame) and isinstance(data.columns, pd.MultiIndex):\n",
    "        prices = data[\"Close\"].copy()\n",
    "    else:\n",
    "        prices = data[\"Close\"].to_frame()\n",
    "        prices.columns = [tickers[0]]\n",
    "\n",
    "    rets_m = (prices\n",
    "              .resample(\"M\").last()\n",
    "              .pct_change()\n",
    "              .dropna(how=\"all\"))\n",
    "    rets_m = rets_m.dropna(axis=1, how=\"all\")\n",
    "\n",
    "# ---------------------------------------------------------------\n",
    "# 2) Align metadata to what actually downloaded\n",
    "# ---------------------------------------------------------------\n",
    "avail = sorted(set(tm[\"Ticker\"]).intersection(set(rets_m.columns)))\n",
    "tm = tm[tm[\"Ticker\"].isin(avail)].copy()\n",
    "ticker_to_country = tm.set_index(\"Ticker\")[\"Country\"].to_dict()\n",
    "\n",
    "# ---------------------------------------------------------------\n",
    "# 3) Equal-weight country portfolios (mean across tickers per month)\n",
    "# ---------------------------------------------------------------\n",
    "rets_by_country = rets_m.rename(columns=ticker_to_country)\n",
    "country_rets = (rets_by_country\n",
    "                .groupby(level=0, axis=1)\n",
    "                .mean()\n",
    "                .dropna(how=\"all\"))\n",
    "\n",
    "# ---------------------------------------------------------------\n",
    "# 4) Cumulative index (start = 100)\n",
    "# ---------------------------------------------------------------\n",
    "country_index = (1.0 + country_rets.fillna(0.0)).cumprod() * 100.0\n",
    "country_index.index.name = \"Date\"\n",
    "\n",
    "# ---------------------------------------------------------------\n",
    "# 5) Top 10 by average level over the sample\n",
    "# ---------------------------------------------------------------\n",
    "avg_perf = country_index.mean().sort_values(ascending=False)\n",
    "top10 = avg_perf.head(10).index.tolist()\n",
    "country_index_top10 = country_index[top10].copy()\n",
    "\n",
    "# Long format for Plotly\n",
    "df_plot = (country_index_top10\n",
    "           .reset_index()\n",
    "           .melt(id_vars=\"Date\", var_name=\"Country\", value_name=\"Index\"))\n",
    "\n",
    "# ---------------------------------------------------------------\n",
    "# 6) Plot with Plotly Express (heatmap-style formatting)\n",
    "# ---------------------------------------------------------------\n",
    "\n",
    "fig = px.line(\n",
    "    df_plot,\n",
    "    x=\"Date\",\n",
    "    y=\"Index\",\n",
    "    color=\"Country\",\n",
    "    color_discrete_sequence=KES_palette,\n",
    "    title=\"Top 10 Countries by Average Performance (Equal-Weight Index = 100)\",\n",
    "    labels={\"Index\": \"Index Level (Start = 100)\", \"Date\": \"Date\"}\n",
    ")\n",
    "\n",
    "fig.update_traces(mode=\"lines\")  # keep lines clean; add \"+markers\" if you want points\n",
    "\n",
    "fig.update_layout(\n",
    "    template=\"plotly_white\",\n",
    "    width=900,                  # fixed size to match heatmap style\n",
    "    height=700,\n",
    "    font=dict(family=\"Helvetica, Arial, sans-serif\", size=13),\n",
    "    legend_title_text=\"Country\",\n",
    "    title=dict(x=0.5, xanchor=\"center\", font=dict(size=16)),\n",
    "    margin=dict(l=60, r=20, t=60, b=60),\n",
    "    hovermode=\"x unified\"\n",
    ")\n",
    "\n",
    "# ---------------------------------------------------------------\n",
    "# 7) Save & Show (HTML always; PDF/PNG if kaleido is available)\n",
    "# ---------------------------------------------------------------\n",
    "\n",
    "fig.write_html(FIG_DIR / \"country_performance_top10.html\")\n",
    "fig.write_image(FIG_DIR / \"country_performance_top10.pdf\")\n",
    "\n",
    " \n",
    "\n",
    "fig.show()\n"
   ]
  }
 ],
 "metadata": {
  "kernelspec": {
   "display_name": "base",
   "language": "python",
   "name": "python3"
  },
  "language_info": {
   "codemirror_mode": {
    "name": "ipython",
    "version": 3
   },
   "file_extension": ".py",
   "mimetype": "text/x-python",
   "name": "python",
   "nbconvert_exporter": "python",
   "pygments_lexer": "ipython3",
   "version": "3.12.10"
  }
 },
 "nbformat": 4,
 "nbformat_minor": 5
}
